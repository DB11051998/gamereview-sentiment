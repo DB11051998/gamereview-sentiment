{
  "nbformat": 4,
  "nbformat_minor": 0,
  "metadata": {
    "colab": {
      "name": "Untitled4.ipynb",
      "provenance": [],
      "authorship_tag": "ABX9TyO667gWoDJc+pFUYfCHvPjc",
      "include_colab_link": true
    },
    "kernelspec": {
      "name": "python3",
      "display_name": "Python 3"
    }
  },
  "cells": [
    {
      "cell_type": "markdown",
      "metadata": {
        "id": "view-in-github",
        "colab_type": "text"
      },
      "source": [
        "<a href=\"https://colab.research.google.com/github/DB11051998/gamereview-sentiment/blob/master/gamereview.ipynb\" target=\"_parent\"><img src=\"https://colab.research.google.com/assets/colab-badge.svg\" alt=\"Open In Colab\"/></a>"
      ]
    },
    {
      "cell_type": "code",
      "metadata": {
        "id": "4ycftkezmt3P",
        "colab_type": "code",
        "outputId": "b39ae420-c21e-405e-f958-fe551e635175",
        "colab": {
          "base_uri": "https://localhost:8080/",
          "height": 122
        }
      },
      "source": [
        "from google.colab import drive\n",
        "drive .mount('/content/gdrive')"
      ],
      "execution_count": 0,
      "outputs": [
        {
          "output_type": "stream",
          "text": [
            "Go to this URL in a browser: https://accounts.google.com/o/oauth2/auth?client_id=947318989803-6bn6qk8qdgf4n4g3pfee6491hc0brc4i.apps.googleusercontent.com&redirect_uri=urn%3aietf%3awg%3aoauth%3a2.0%3aoob&response_type=code&scope=email%20https%3a%2f%2fwww.googleapis.com%2fauth%2fdocs.test%20https%3a%2f%2fwww.googleapis.com%2fauth%2fdrive%20https%3a%2f%2fwww.googleapis.com%2fauth%2fdrive.photos.readonly%20https%3a%2f%2fwww.googleapis.com%2fauth%2fpeopleapi.readonly\n",
            "\n",
            "Enter your authorization code:\n",
            "··········\n",
            "Mounted at /content/gdrive\n"
          ],
          "name": "stdout"
        }
      ]
    },
    {
      "cell_type": "code",
      "metadata": {
        "id": "eXixaP6Pm3yc",
        "colab_type": "code",
        "colab": {}
      },
      "source": [
        "root_path='/content/gdrive/My Drive/jantahack/NLP jantahack'"
      ],
      "execution_count": 0,
      "outputs": []
    },
    {
      "cell_type": "code",
      "metadata": {
        "id": "bAoMsQyyneOy",
        "colab_type": "code",
        "outputId": "d1bdac0c-0399-47b5-c58f-e345ddb0244d",
        "colab": {
          "base_uri": "https://localhost:8080/",
          "height": 71
        }
      },
      "source": [
        "import os\n",
        "import pandas as pd\n",
        "import numpy as np\n",
        "import matplotlib.pyplot as plt\n",
        "import seaborn as sns"
      ],
      "execution_count": 0,
      "outputs": [
        {
          "output_type": "stream",
          "text": [
            "/usr/local/lib/python3.6/dist-packages/statsmodels/tools/_testing.py:19: FutureWarning: pandas.util.testing is deprecated. Use the functions in the public API at pandas.testing instead.\n",
            "  import pandas.util.testing as tm\n"
          ],
          "name": "stderr"
        }
      ]
    },
    {
      "cell_type": "code",
      "metadata": {
        "id": "L1kHym5rnYtX",
        "colab_type": "code",
        "colab": {}
      },
      "source": [
        "lis=[]\n",
        "for dirname, _, filenames in os.walk(root_path):\n",
        "    for filename in filenames:\n",
        "        lis.append(os.path.join(dirname, filename))"
      ],
      "execution_count": 0,
      "outputs": []
    },
    {
      "cell_type": "code",
      "metadata": {
        "id": "gzi5dDAqnnf0",
        "colab_type": "code",
        "outputId": "361e0855-5993-481b-d2f8-2956b136227a",
        "colab": {
          "base_uri": "https://localhost:8080/",
          "height": 170
        }
      },
      "source": [
        "lis"
      ],
      "execution_count": 0,
      "outputs": [
        {
          "output_type": "execute_result",
          "data": {
            "text/plain": [
              "['/content/gdrive/My Drive/jantahack/NLP jantahack/test.csv',\n",
              " '/content/gdrive/My Drive/jantahack/NLP jantahack/train.csv',\n",
              " '/content/gdrive/My Drive/jantahack/NLP jantahack/game_overview.csv',\n",
              " '/content/gdrive/My Drive/jantahack/NLP jantahack/test_BppAoe0.zip',\n",
              " '/content/gdrive/My Drive/jantahack/NLP jantahack/train_E52nqFa.zip',\n",
              " '/content/gdrive/My Drive/jantahack/NLP jantahack/sample_submission_wgBqZCk.csv',\n",
              " '/content/gdrive/My Drive/jantahack/NLP jantahack/__MACOSX/._test.csv',\n",
              " '/content/gdrive/My Drive/jantahack/NLP jantahack/__MACOSX/._train.csv',\n",
              " '/content/gdrive/My Drive/jantahack/NLP jantahack/__MACOSX/._game_overview.csv']"
            ]
          },
          "metadata": {
            "tags": []
          },
          "execution_count": 5
        }
      ]
    },
    {
      "cell_type": "code",
      "metadata": {
        "id": "_3LIs0IdnsSA",
        "colab_type": "code",
        "colab": {}
      },
      "source": [
        "df_train=pd.read_csv(lis[1])"
      ],
      "execution_count": 0,
      "outputs": []
    },
    {
      "cell_type": "code",
      "metadata": {
        "id": "ELdtSblSoDsX",
        "colab_type": "code",
        "outputId": "cab4dbf5-3181-4c86-fd36-f31724900c67",
        "colab": {
          "base_uri": "https://localhost:8080/",
          "height": 359
        }
      },
      "source": [
        "df_train.head(10)"
      ],
      "execution_count": 0,
      "outputs": [
        {
          "output_type": "execute_result",
          "data": {
            "text/html": [
              "<div>\n",
              "<style scoped>\n",
              "    .dataframe tbody tr th:only-of-type {\n",
              "        vertical-align: middle;\n",
              "    }\n",
              "\n",
              "    .dataframe tbody tr th {\n",
              "        vertical-align: top;\n",
              "    }\n",
              "\n",
              "    .dataframe thead th {\n",
              "        text-align: right;\n",
              "    }\n",
              "</style>\n",
              "<table border=\"1\" class=\"dataframe\">\n",
              "  <thead>\n",
              "    <tr style=\"text-align: right;\">\n",
              "      <th></th>\n",
              "      <th>review_id</th>\n",
              "      <th>title</th>\n",
              "      <th>year</th>\n",
              "      <th>user_review</th>\n",
              "      <th>user_suggestion</th>\n",
              "    </tr>\n",
              "  </thead>\n",
              "  <tbody>\n",
              "    <tr>\n",
              "      <th>0</th>\n",
              "      <td>1</td>\n",
              "      <td>Spooky's Jump Scare Mansion</td>\n",
              "      <td>2016.0</td>\n",
              "      <td>I'm scared and hearing creepy voices.  So I'll...</td>\n",
              "      <td>1</td>\n",
              "    </tr>\n",
              "    <tr>\n",
              "      <th>1</th>\n",
              "      <td>2</td>\n",
              "      <td>Spooky's Jump Scare Mansion</td>\n",
              "      <td>2016.0</td>\n",
              "      <td>Best game, more better than Sam Pepper's YouTu...</td>\n",
              "      <td>1</td>\n",
              "    </tr>\n",
              "    <tr>\n",
              "      <th>2</th>\n",
              "      <td>3</td>\n",
              "      <td>Spooky's Jump Scare Mansion</td>\n",
              "      <td>2016.0</td>\n",
              "      <td>A littly iffy on the controls, but once you kn...</td>\n",
              "      <td>1</td>\n",
              "    </tr>\n",
              "    <tr>\n",
              "      <th>3</th>\n",
              "      <td>4</td>\n",
              "      <td>Spooky's Jump Scare Mansion</td>\n",
              "      <td>2015.0</td>\n",
              "      <td>Great game, fun and colorful and all that.A si...</td>\n",
              "      <td>1</td>\n",
              "    </tr>\n",
              "    <tr>\n",
              "      <th>4</th>\n",
              "      <td>5</td>\n",
              "      <td>Spooky's Jump Scare Mansion</td>\n",
              "      <td>2015.0</td>\n",
              "      <td>Not many games have the cute tag right next to...</td>\n",
              "      <td>1</td>\n",
              "    </tr>\n",
              "    <tr>\n",
              "      <th>5</th>\n",
              "      <td>6</td>\n",
              "      <td>Spooky's Jump Scare Mansion</td>\n",
              "      <td>2015.0</td>\n",
              "      <td>Early Access ReviewIt's pretty cute at first, ...</td>\n",
              "      <td>1</td>\n",
              "    </tr>\n",
              "    <tr>\n",
              "      <th>6</th>\n",
              "      <td>7</td>\n",
              "      <td>Spooky's Jump Scare Mansion</td>\n",
              "      <td>2017.0</td>\n",
              "      <td>Great game. it's a cute little horror game tha...</td>\n",
              "      <td>1</td>\n",
              "    </tr>\n",
              "    <tr>\n",
              "      <th>7</th>\n",
              "      <td>8</td>\n",
              "      <td>Spooky's Jump Scare Mansion</td>\n",
              "      <td>2015.0</td>\n",
              "      <td>Spooky's Jump Scare Mansion is a Free Retro ma...</td>\n",
              "      <td>1</td>\n",
              "    </tr>\n",
              "    <tr>\n",
              "      <th>8</th>\n",
              "      <td>9</td>\n",
              "      <td>Spooky's Jump Scare Mansion</td>\n",
              "      <td>2015.0</td>\n",
              "      <td>Somewhere between light hearted, happy parody ...</td>\n",
              "      <td>0</td>\n",
              "    </tr>\n",
              "    <tr>\n",
              "      <th>9</th>\n",
              "      <td>10</td>\n",
              "      <td>Spooky's Jump Scare Mansion</td>\n",
              "      <td>2015.0</td>\n",
              "      <td>This game with its cute little out of the wall...</td>\n",
              "      <td>1</td>\n",
              "    </tr>\n",
              "  </tbody>\n",
              "</table>\n",
              "</div>"
            ],
            "text/plain": [
              "   review_id  ... user_suggestion\n",
              "0          1  ...               1\n",
              "1          2  ...               1\n",
              "2          3  ...               1\n",
              "3          4  ...               1\n",
              "4          5  ...               1\n",
              "5          6  ...               1\n",
              "6          7  ...               1\n",
              "7          8  ...               1\n",
              "8          9  ...               0\n",
              "9         10  ...               1\n",
              "\n",
              "[10 rows x 5 columns]"
            ]
          },
          "metadata": {
            "tags": []
          },
          "execution_count": 7
        }
      ]
    },
    {
      "cell_type": "code",
      "metadata": {
        "id": "mkyJ8KO2pTIp",
        "colab_type": "code",
        "outputId": "1465e827-d9a1-43a1-b8c7-a03c9cc14957",
        "colab": {
          "base_uri": "https://localhost:8080/",
          "height": 34
        }
      },
      "source": [
        "df_train.shape"
      ],
      "execution_count": 0,
      "outputs": [
        {
          "output_type": "execute_result",
          "data": {
            "text/plain": [
              "(17494, 5)"
            ]
          },
          "metadata": {
            "tags": []
          },
          "execution_count": 26
        }
      ]
    },
    {
      "cell_type": "code",
      "metadata": {
        "id": "V4ZDVc6AoKE3",
        "colab_type": "code",
        "outputId": "7d263033-f702-48c3-dafa-13e725c4b696",
        "colab": {
          "base_uri": "https://localhost:8080/",
          "height": 119
        }
      },
      "source": [
        "df_train.isna().any()"
      ],
      "execution_count": 0,
      "outputs": [
        {
          "output_type": "execute_result",
          "data": {
            "text/plain": [
              "review_id          False\n",
              "title              False\n",
              "year                True\n",
              "user_review        False\n",
              "user_suggestion    False\n",
              "dtype: bool"
            ]
          },
          "metadata": {
            "tags": []
          },
          "execution_count": 14
        }
      ]
    },
    {
      "cell_type": "code",
      "metadata": {
        "id": "gjyFp7neoSue",
        "colab_type": "code",
        "outputId": "90a7a3f9-8c45-436a-f59e-b5c5c689377b",
        "colab": {
          "base_uri": "https://localhost:8080/",
          "height": 34
        }
      },
      "source": [
        "df_train[df_train.year.isna()]['title'].unique()"
      ],
      "execution_count": 0,
      "outputs": [
        {
          "output_type": "execute_result",
          "data": {
            "text/plain": [
              "32"
            ]
          },
          "metadata": {
            "tags": []
          },
          "execution_count": 44
        }
      ]
    },
    {
      "cell_type": "code",
      "metadata": {
        "id": "1STRaGNwoljY",
        "colab_type": "code",
        "outputId": "9a54d62c-0ec8-487e-d80b-2c4617152827",
        "colab": {
          "base_uri": "https://localhost:8080/",
          "height": 68
        }
      },
      "source": [
        "df_train.user_suggestion.value_counts()"
      ],
      "execution_count": 0,
      "outputs": [
        {
          "output_type": "execute_result",
          "data": {
            "text/plain": [
              "1    9968\n",
              "0    7526\n",
              "Name: user_suggestion, dtype: int64"
            ]
          },
          "metadata": {
            "tags": []
          },
          "execution_count": 33
        }
      ]
    },
    {
      "cell_type": "code",
      "metadata": {
        "id": "DEqQ0ssnpuDG",
        "colab_type": "code",
        "outputId": "3c1723dc-a728-4770-ba9b-5c53b8d66756",
        "colab": {
          "base_uri": "https://localhost:8080/",
          "height": 336
        }
      },
      "source": [
        "fig = plt.figure()\n",
        "ax = fig.add_axes([0,0,1,1])\n",
        "ax.bar(df_train.user_suggestion.unique(),df_train.user_suggestion.value_counts())\n",
        "plt.show()"
      ],
      "execution_count": 0,
      "outputs": [
        {
          "output_type": "display_data",
          "data": {
            "image/png": "[encoded data removed]",
            "text/plain": [
              "<Figure size 432x288 with 1 Axes>"
            ]
          },
          "metadata": {
            "tags": [],
            "needs_background": "light"
          }
        }
      ]
    },
    {
      "cell_type": "code",
      "metadata": {
        "id": "gTzYMfXoqYvI",
        "colab_type": "code",
        "colab": {}
      },
      "source": [
        "df_game_overview=pd.read_csv(lis[2])"
      ],
      "execution_count": 0,
      "outputs": []
    },
    {
      "cell_type": "code",
      "metadata": {
        "id": "qEd5f9QrqnfE",
        "colab_type": "code",
        "outputId": "e755b8ed-b541-48a7-bc7f-8e8a29adbcd6",
        "colab": {
          "base_uri": "https://localhost:8080/",
          "height": 34
        }
      },
      "source": [
        "len(df_train.title.unique())"
      ],
      "execution_count": 0,
      "outputs": [
        {
          "output_type": "execute_result",
          "data": {
            "text/plain": [
              "44"
            ]
          },
          "metadata": {
            "tags": []
          },
          "execution_count": 46
        }
      ]
    },
    {
      "cell_type": "code",
      "metadata": {
        "id": "moic-Gmfst9D",
        "colab_type": "code",
        "outputId": "9ecd6511-87c5-4d99-8e3c-c07e0cecc90b",
        "colab": {
          "base_uri": "https://localhost:8080/",
          "height": 54
        }
      },
      "source": [
        "df_train.user_review[8]"
      ],
      "execution_count": 0,
      "outputs": [
        {
          "output_type": "execute_result",
          "data": {
            "text/plain": [
              "\"Somewhere between light hearted, happy parody and being afraid of the dark lies Spooky's House of Jump Scares. You are tasked with the daunting duty of surviving one thousand rooms in this endless first person perspective runner. Each room is no more than a few seconds thanks to a sprint key and the fact that each door counts as a new room. Even then one thousand rooms is still a feat against tedium and needless repetition. There are still things every fifteen or so rooms to keep your interest and at the end of fifty rooms you'll find a save point, but nothing can save you from permanent death at the hands of the foul creatures that live within.On the surface the game has a clean, chipper almost cartoon low budget charm to it. Jump scares are rare and at first it comes in the form of adorable cardboard cutouts of pumpkins, ghosts and skeletons that pop out of the wall accompanied by a sound. Some of the sounds are silly and unfitting other times its screeches to drive chills down your spine. The game excels in the sound department and makes good use of music, ambient sounds and foot steps following you.As you delve deeper through the doors of this dank dungeon, you'll uncover more frightening things and points of intreege. There are plenty of written notes here and there. A few times you'll need to search for a key in a different room, but the other ninety-nine percent of the game is leaving rooms behind forever.The themes of the rooms begin to change from the mundane almost Wolfenstien 3D-esque corridors to metal asylum rooms that give you a flashlight to find your way through. There are purple dungeons, green sewers with glowing scum. Some rooms are coated with slime to slow you own while others have holes in the ceiling as if to give you a feeling of dread that something could pop out.There are a limited amount of rooms and I started to memorize them all. Even the game's crescendo encounters in a vacant room with walkways. There's no way to fall into the dark chasms, it acts as if they were walls, but with this open room you get to see a specific creature that might be following you. Sometimes they can float over the gaps, other times they're stuck trying to walk at you from across the gap so you can get a good look at them when they're harmless.If they touch you three or so times you're dead. You have health that does replenish over time and these big moments are rare and easy to avoid. Just keep running and hope there are no locked doors! They only happen in specific rooms and sometimes the rooms are empty, but it still gives that dreadful feeling.You can tear through these rooms pretty quick about 350 of them in a 45 minute. Your stamina will deplete to give a monster the chance to catch you, but going through a door restores your will to run. Other than that waiting a few seconds will replenish your stamina. Longer rooms hav1e limited visibility. The further out an area is the darker it gets.A few rooms have good diversions or tricks to them. Such as one that turns bright and you need to enter the correct combination of corridors signaled by chimes until you can see the door. Another room is endless darkness with a torch at the end, until its revealed that the torch is merely painted on a black wall. A few times you'll need to search an adjacent room for a key to the one you're in.Every fifty rooms, you take a moment to unwind in an elevator that reminds you to hang in there or have a coffee break. The game makes a good balance of calm moments for each of the few tense situations. Its what keeps you off kilter and never expecting anything. Every two hundred and fifty rooms offers a prize to you. What's in the box? Is it snakes? Is it a jack-in-the-box or is it a note?Truth be told I'm very goal oriented with video games and so Spooky missed its mark for me. The cardboard cutouts get in the way. Being chased by something means that it was no threat since it was already behind me. Perhaps in later rooms it gets more difficult, but this is just easy tedium.  Another room, another room, another room. Then knowing I have seven hundred more rooms and another two hour investment of endless running turns the game into a grind. There's no fear and its too long to endure even with save points. The game reuses its points of interest a few times since it recycles rooms.Another issue I have with the game is getting stuck on edges where I need to push away from a wall to get free and turn a corner. Its more than walls, its on the gaps too. I suppose this is acceptable for a scary game where you get chased, but I'm hung up on these hang ups.One interesting thing the game does have is a stabbing mini game where it looks like you're a ghost in a mall. Its a good diversion from the repetition. There's even a computer that shows you all the creatures in the house. Well most of them at least.The best selling point this game has is that its free. By no means does that make this a good game, but it makes it easier to accept. Its a game that brings you up with charm to tear you down with scares beyond the cheap cardboard cutouts that can litter a hallway every so often. Its just far too repetitive without that much dread or excitement.\""
            ]
          },
          "metadata": {
            "tags": []
          },
          "execution_count": 58
        }
      ]
    },
    {
      "cell_type": "code",
      "metadata": {
        "id": "q9dTAQWkB5tG",
        "colab_type": "code",
        "colab": {}
      },
      "source": [
        "#import library\n",
        "import nltk\n",
        "import re\n",
        "from nltk.tokenize import sent_tokenize\n",
        "from nltk.tokenize import word_tokenize\n",
        "from nltk.corpus import stopwords\n",
        "from nltk.stem import WordNetLemmatizer\n",
        "from nltk.stem import PorterStemmer \n"
      ],
      "execution_count": 0,
      "outputs": []
    },
    {
      "cell_type": "code",
      "metadata": {
        "id": "K-Wi1Mpg_uFx",
        "colab_type": "code",
        "colab": {}
      },
      "source": [
        "#no of words \n",
        "ls=[]\n",
        "def no_of_words(df):\n",
        "  return(ls.append(word_tokenize(df)))"
      ],
      "execution_count": 0,
      "outputs": []
    },
    {
      "cell_type": "code",
      "metadata": {
        "id": "LknnuJs3Bu__",
        "colab_type": "code",
        "colab": {}
      },
      "source": [
        "stop_words = set(stopwords.words('english'))"
      ],
      "execution_count": 0,
      "outputs": []
    },
    {
      "cell_type": "code",
      "metadata": {
        "id": "71JqHtmsEAZi",
        "colab_type": "code",
        "outputId": "39d2edba-a03a-411b-806d-55caa89739b5",
        "colab": {
          "base_uri": "https://localhost:8080/",
          "height": 221
        }
      },
      "source": [
        "df_train.user_review.apply(no_of_words)"
      ],
      "execution_count": 0,
      "outputs": [
        {
          "output_type": "execute_result",
          "data": {
            "text/plain": [
              "0        None\n",
              "1        None\n",
              "2        None\n",
              "3        None\n",
              "4        None\n",
              "         ... \n",
              "17489    None\n",
              "17490    None\n",
              "17491    None\n",
              "17492    None\n",
              "17493    None\n",
              "Name: user_review, Length: 17494, dtype: object"
            ]
          },
          "metadata": {
            "tags": []
          },
          "execution_count": 68
        }
      ]
    },
    {
      "cell_type": "code",
      "metadata": {
        "id": "6aJeiKfIEV-V",
        "colab_type": "code",
        "colab": {}
      },
      "source": [
        "def preprocess(df):\n",
        "  #lowercase all characters\n",
        "  #remove all symbols\n",
        "  #tokenize the sentence to words\n",
        "  x=re.sub(r'[^\\w]', ' ', df)\n",
        "  word_tokenize1=word_tokenize(re.sub('(\\\\b[A-Za-z] \\\\b|\\\\b [A-Za-z]\\\\b)', '', x).lower())  \n",
        "  #remove the stopwords\n",
        "  filter1=[]\n",
        "  for w in word_tokenize1: \n",
        "        if w not in stop_words: \n",
        "            filter1.append(w)\n",
        "  filtered_full=np.array(filter1)\n",
        "  return np.array(filtered_full)"
      ],
      "execution_count": 0,
      "outputs": []
    },
    {
      "cell_type": "code",
      "metadata": {
        "id": "5xskTvc8ShRG",
        "colab_type": "code",
        "colab": {}
      },
      "source": [
        "filter1=[]\n",
        "for w in word_tokenize(re.sub('(\\\\b[A-Za-z] \\\\b|\\\\b [A-Za-z]\\\\b)', '', x).lower()): \n",
        "      if w not in stop_words: \n",
        "          filter1.append(w)"
      ],
      "execution_count": 0,
      "outputs": []
    },
    {
      "cell_type": "code",
      "metadata": {
        "id": "JjexkrpZUBLM",
        "colab_type": "code",
        "colab": {}
      },
      "source": [
        "y=df_train['user_review'].apply(preprocess)"
      ],
      "execution_count": 0,
      "outputs": []
    },
    {
      "cell_type": "code",
      "metadata": {
        "id": "se2mZokIX4L2",
        "colab_type": "code",
        "outputId": "270ba24a-ef75-4fc8-9204-889d4a3d45f5",
        "colab": {
          "base_uri": "https://localhost:8080/",
          "height": 221
        }
      },
      "source": [
        "y"
      ],
      "execution_count": 0,
      "outputs": [
        {
          "output_type": "execute_result",
          "data": {
            "text/plain": [
              "0        [scared, hearing, creepy, voices, pause, momen...\n",
              "1        [best, game, better, sam, pepper, youtube, acc...\n",
              "2        [littly, iffy, controls, know, play, easy, mas...\n",
              "3        [great, game, fun, colorful, side, note, thoug...\n",
              "4        [many, games, cute, tag, right, next, horror, ...\n",
              "                               ...                        \n",
              "17489    [arguably, single, greatest, mmorp, exists, to...\n",
              "17490    [older, game, sure, charm, holds, special, pla...\n",
              "17491    [frist, started, playing, everquest, 2, amazin...\n",
              "17492    [cool, game, thing, really, pisses, ridable, t...\n",
              "17493    [game, since, little, kid, always, since, stil...\n",
              "Name: user_review, Length: 17494, dtype: object"
            ]
          },
          "metadata": {
            "tags": []
          },
          "execution_count": 83
        }
      ]
    },
    {
      "cell_type": "code",
      "metadata": {
        "id": "967m_oxWc5Ws",
        "colab_type": "code",
        "outputId": "d9bf4cf1-c719-4fa3-d89f-b47823973cf6",
        "colab": {
          "base_uri": "https://localhost:8080/",
          "height": 54
        }
      },
      "source": [
        "pd.read_csv('/content/gdrive/My Drive/jantahack/NLP jantahack/game_overview.csv').tags[0]"
      ],
      "execution_count": 0,
      "outputs": [
        {
          "output_type": "execute_result",
          "data": {
            "text/plain": [
              "\"['Horror', 'Free to Play', 'Cute', 'First-Person', 'Singleplayer', 'Psychological Horror', 'Indie', 'Adventure', 'Dark', 'Funny', 'Atmospheric', 'Action', 'Walking Simulator', 'Survival', 'Survival Horror', 'Anime', 'Gore', 'Comedy', 'Multiplayer', 'Illuminati']\""
            ]
          },
          "metadata": {
            "tags": []
          },
          "execution_count": 55
        }
      ]
    },
    {
      "cell_type": "code",
      "metadata": {
        "id": "zlCM3q35eyB0",
        "colab_type": "code",
        "colab": {}
      },
      "source": [
        "df_tokenize=pd.DataFrame(df_train,columns=['title'])"
      ],
      "execution_count": 0,
      "outputs": []
    },
    {
      "cell_type": "code",
      "metadata": {
        "id": "UH-nNlzDfSX-",
        "colab_type": "code",
        "outputId": "fe39c3f0-a84e-4526-ed20-8a5f54be69bd",
        "colab": {
          "base_uri": "https://localhost:8080/",
          "height": 34
        }
      },
      "source": [
        "lemmatizer=WordNetLemmatizer()\n",
        "print(lemmatizer.lemmatize('rooms')) "
      ],
      "execution_count": 0,
      "outputs": [
        {
          "output_type": "stream",
          "text": [
            "room\n"
          ],
          "name": "stdout"
        }
      ]
    },
    {
      "cell_type": "code",
      "metadata": {
        "id": "YPjyQS8dhFlQ",
        "colab_type": "code",
        "colab": {}
      },
      "source": [
        "df_tokenize['tokenized']=y"
      ],
      "execution_count": 0,
      "outputs": []
    },
    {
      "cell_type": "code",
      "metadata": {
        "id": "9NJW6B6xld6X",
        "colab_type": "code",
        "outputId": "e4a53dfe-f967-4626-d198-f225686a8b94",
        "colab": {
          "base_uri": "https://localhost:8080/",
          "height": 419
        }
      },
      "source": [
        "df_tokenize"
      ],
      "execution_count": 0,
      "outputs": [
        {
          "output_type": "execute_result",
          "data": {
            "text/html": [
              "<div>\n",
              "<style scoped>\n",
              "    .dataframe tbody tr th:only-of-type {\n",
              "        vertical-align: middle;\n",
              "    }\n",
              "\n",
              "    .dataframe tbody tr th {\n",
              "        vertical-align: top;\n",
              "    }\n",
              "\n",
              "    .dataframe thead th {\n",
              "        text-align: right;\n",
              "    }\n",
              "</style>\n",
              "<table border=\"1\" class=\"dataframe\">\n",
              "  <thead>\n",
              "    <tr style=\"text-align: right;\">\n",
              "      <th></th>\n",
              "      <th>title</th>\n",
              "      <th>tokenized</th>\n",
              "    </tr>\n",
              "  </thead>\n",
              "  <tbody>\n",
              "    <tr>\n",
              "      <th>0</th>\n",
              "      <td>Spooky's Jump Scare Mansion</td>\n",
              "      <td>[scared, hearing, creepy, voices, pause, momen...</td>\n",
              "    </tr>\n",
              "    <tr>\n",
              "      <th>1</th>\n",
              "      <td>Spooky's Jump Scare Mansion</td>\n",
              "      <td>[best, game, better, sam, pepper, youtube, acc...</td>\n",
              "    </tr>\n",
              "    <tr>\n",
              "      <th>2</th>\n",
              "      <td>Spooky's Jump Scare Mansion</td>\n",
              "      <td>[littly, iffy, controls, know, play, easy, mas...</td>\n",
              "    </tr>\n",
              "    <tr>\n",
              "      <th>3</th>\n",
              "      <td>Spooky's Jump Scare Mansion</td>\n",
              "      <td>[great, game, fun, colorful, side, note, thoug...</td>\n",
              "    </tr>\n",
              "    <tr>\n",
              "      <th>4</th>\n",
              "      <td>Spooky's Jump Scare Mansion</td>\n",
              "      <td>[many, games, cute, tag, right, next, horror, ...</td>\n",
              "    </tr>\n",
              "    <tr>\n",
              "      <th>...</th>\n",
              "      <td>...</td>\n",
              "      <td>...</td>\n",
              "    </tr>\n",
              "    <tr>\n",
              "      <th>17489</th>\n",
              "      <td>EverQuest II</td>\n",
              "      <td>[arguably, single, greatest, mmorp, exists, to...</td>\n",
              "    </tr>\n",
              "    <tr>\n",
              "      <th>17490</th>\n",
              "      <td>EverQuest II</td>\n",
              "      <td>[older, game, sure, charm, holds, special, pla...</td>\n",
              "    </tr>\n",
              "    <tr>\n",
              "      <th>17491</th>\n",
              "      <td>EverQuest II</td>\n",
              "      <td>[frist, started, playing, everquest, 2, amazin...</td>\n",
              "    </tr>\n",
              "    <tr>\n",
              "      <th>17492</th>\n",
              "      <td>EverQuest II</td>\n",
              "      <td>[cool, game, thing, really, pisses, ridable, t...</td>\n",
              "    </tr>\n",
              "    <tr>\n",
              "      <th>17493</th>\n",
              "      <td>EverQuest II</td>\n",
              "      <td>[game, since, little, kid, always, since, stil...</td>\n",
              "    </tr>\n",
              "  </tbody>\n",
              "</table>\n",
              "<p>17494 rows × 2 columns</p>\n",
              "</div>"
            ],
            "text/plain": [
              "                             title                                          tokenized\n",
              "0      Spooky's Jump Scare Mansion  [scared, hearing, creepy, voices, pause, momen...\n",
              "1      Spooky's Jump Scare Mansion  [best, game, better, sam, pepper, youtube, acc...\n",
              "2      Spooky's Jump Scare Mansion  [littly, iffy, controls, know, play, easy, mas...\n",
              "3      Spooky's Jump Scare Mansion  [great, game, fun, colorful, side, note, thoug...\n",
              "4      Spooky's Jump Scare Mansion  [many, games, cute, tag, right, next, horror, ...\n",
              "...                            ...                                                ...\n",
              "17489                 EverQuest II  [arguably, single, greatest, mmorp, exists, to...\n",
              "17490                 EverQuest II  [older, game, sure, charm, holds, special, pla...\n",
              "17491                 EverQuest II  [frist, started, playing, everquest, 2, amazin...\n",
              "17492                 EverQuest II  [cool, game, thing, really, pisses, ridable, t...\n",
              "17493                 EverQuest II  [game, since, little, kid, always, since, stil...\n",
              "\n",
              "[17494 rows x 2 columns]"
            ]
          },
          "metadata": {
            "tags": []
          },
          "execution_count": 98
        }
      ]
    },
    {
      "cell_type": "code",
      "metadata": {
        "id": "Sn5Dlofewnxq",
        "colab_type": "code",
        "colab": {}
      },
      "source": [
        "def stemming(df):\n",
        "  ls=[]\n",
        "  ps = PorterStemmer()\n",
        "  for w in df:\n",
        "    ls.append(ps.stem(w))\n",
        "  filtered_full=np.array(ls)\n",
        "  return np.array(filtered_full)"
      ],
      "execution_count": 0,
      "outputs": []
    },
    {
      "cell_type": "code",
      "metadata": {
        "id": "WoCtBHorxliP",
        "colab_type": "code",
        "colab": {}
      },
      "source": [
        "z=df_tokenize.tokenized.apply(stemming)"
      ],
      "execution_count": 0,
      "outputs": []
    },
    {
      "cell_type": "code",
      "metadata": {
        "id": "Z1JoVfpLyAhq",
        "colab_type": "code",
        "outputId": "86f21229-f36d-425f-f979-c0fa2b3f2892",
        "colab": {
          "base_uri": "https://localhost:8080/",
          "height": 221
        }
      },
      "source": [
        "z"
      ],
      "execution_count": 0,
      "outputs": [
        {
          "output_type": "execute_result",
          "data": {
            "text/plain": [
              "0        [scare, hear, creepi, voic, paus, moment, writ...\n",
              "1        [best, game, better, sam, pepper, youtub, acco...\n",
              "2        [littli, iffi, control, know, play, easi, mast...\n",
              "3        [great, game, fun, color, side, note, though, ...\n",
              "4        [mani, game, cute, tag, right, next, horror, t...\n",
              "                               ...                        \n",
              "17489    [arguabl, singl, greatest, mmorp, exist, today...\n",
              "17490    [older, game, sure, charm, hold, special, plac...\n",
              "17491    [frist, start, play, everquest, 2, amaz, still...\n",
              "17492    [cool, game, thing, realli, piss, ridabl, tran...\n",
              "17493    [game, sinc, littl, kid, alway, sinc, still, r...\n",
              "Name: tokenized, Length: 17494, dtype: object"
            ]
          },
          "metadata": {
            "tags": []
          },
          "execution_count": 113
        }
      ]
    },
    {
      "cell_type": "code",
      "metadata": {
        "id": "RNNT8Bl4pe-F",
        "colab_type": "code",
        "outputId": "3e8f42fd-5383-48ed-8063-6929c2ef7972",
        "colab": {
          "base_uri": "https://localhost:8080/",
          "height": 1000
        }
      },
      "source": [
        "ps = PorterStemmer() \n",
        "for w in y[8]: \n",
        "    print(w, \" : \", ps.stem(w))"
      ],
      "execution_count": 0,
      "outputs": [
        {
          "output_type": "stream",
          "text": [
            "somewhere  :  somewhere\n",
            "light  :  light\n",
            "hearted  :  hearted\n",
            "happy  :  happy\n",
            "parody  :  parody\n",
            "afraid  :  afraid\n",
            "dark  :  dark\n",
            "lies  :  lie\n",
            "spooky  :  spooky\n",
            "house  :  house\n",
            "jump  :  jump\n",
            "scares  :  scare\n",
            "tasked  :  tasked\n",
            "daunting  :  daunting\n",
            "duty  :  duty\n",
            "surviving  :  surviving\n",
            "one  :  one\n",
            "thousand  :  thousand\n",
            "rooms  :  room\n",
            "endless  :  endless\n",
            "first  :  first\n",
            "person  :  person\n",
            "perspective  :  perspective\n",
            "runner  :  runner\n",
            "room  :  room\n",
            "seconds  :  second\n",
            "thanks  :  thanks\n",
            "sprint  :  sprint\n",
            "key  :  key\n",
            "fact  :  fact\n",
            "door  :  door\n",
            "counts  :  count\n",
            "new  :  new\n",
            "room  :  room\n",
            "even  :  even\n",
            "one  :  one\n",
            "thousand  :  thousand\n",
            "rooms  :  room\n",
            "still  :  still\n",
            "feat  :  feat\n",
            "tedium  :  tedium\n",
            "needless  :  needle\n",
            "repetition  :  repetition\n",
            "still  :  still\n",
            "things  :  thing\n",
            "every  :  every\n",
            "fifteen  :  fifteen\n",
            "rooms  :  room\n",
            "keep  :  keep\n",
            "interest  :  interest\n",
            "end  :  end\n",
            "fifty  :  fifty\n",
            "rooms  :  room\n",
            "find  :  find\n",
            "save  :  save\n",
            "point  :  point\n",
            "nothing  :  nothing\n",
            "save  :  save\n",
            "permanent  :  permanent\n",
            "death  :  death\n",
            "hands  :  hand\n",
            "foul  :  foul\n",
            "creatures  :  creature\n",
            "live  :  live\n",
            "within  :  within\n",
            "surface  :  surface\n",
            "game  :  game\n",
            "clean  :  clean\n",
            "chipper  :  chipper\n",
            "almost  :  almost\n",
            "cartoon  :  cartoon\n",
            "low  :  low\n",
            "budget  :  budget\n",
            "charm  :  charm\n",
            "jump  :  jump\n",
            "scares  :  scare\n",
            "rare  :  rare\n",
            "first  :  first\n",
            "comes  :  come\n",
            "form  :  form\n",
            "adorable  :  adorable\n",
            "cardboard  :  cardboard\n",
            "cutouts  :  cutout\n",
            "pumpkins  :  pumpkin\n",
            "ghosts  :  ghost\n",
            "skeletons  :  skeleton\n",
            "pop  :  pop\n",
            "wall  :  wall\n",
            "accompanied  :  accompanied\n",
            "sound  :  sound\n",
            "sounds  :  sound\n",
            "silly  :  silly\n",
            "unfitting  :  unfitting\n",
            "times  :  time\n",
            "screeches  :  screech\n",
            "drive  :  drive\n",
            "chills  :  chill\n",
            "spine  :  spine\n",
            "game  :  game\n",
            "excels  :  excels\n",
            "sound  :  sound\n",
            "department  :  department\n",
            "makes  :  make\n",
            "good  :  good\n",
            "use  :  use\n",
            "music  :  music\n",
            "ambient  :  ambient\n",
            "sounds  :  sound\n",
            "foot  :  foot\n",
            "steps  :  step\n",
            "following  :  following\n",
            "delve  :  delve\n",
            "deeper  :  deeper\n",
            "doors  :  door\n",
            "dank  :  dank\n",
            "dungeon  :  dungeon\n",
            "uncover  :  uncover\n",
            "frightening  :  frightening\n",
            "things  :  thing\n",
            "points  :  point\n",
            "intreege  :  intreege\n",
            "plenty  :  plenty\n",
            "written  :  written\n",
            "notes  :  note\n",
            "times  :  time\n",
            "need  :  need\n",
            "search  :  search\n",
            "key  :  key\n",
            "different  :  different\n",
            "room  :  room\n",
            "ninety  :  ninety\n",
            "nine  :  nine\n",
            "percent  :  percent\n",
            "game  :  game\n",
            "leaving  :  leaving\n",
            "rooms  :  room\n",
            "behind  :  behind\n",
            "forever  :  forever\n",
            "themes  :  theme\n",
            "rooms  :  room\n",
            "begin  :  begin\n",
            "change  :  change\n",
            "mundane  :  mundane\n",
            "almost  :  almost\n",
            "wolfenstien  :  wolfenstien\n",
            "3d  :  3d\n",
            "esque  :  esque\n",
            "corridors  :  corridor\n",
            "metal  :  metal\n",
            "asylum  :  asylum\n",
            "rooms  :  room\n",
            "give  :  give\n",
            "flashlight  :  flashlight\n",
            "find  :  find\n",
            "way  :  way\n",
            "purple  :  purple\n",
            "dungeons  :  dungeon\n",
            "green  :  green\n",
            "sewers  :  sewer\n",
            "glowing  :  glowing\n",
            "scum  :  scum\n",
            "rooms  :  room\n",
            "coated  :  coated\n",
            "slime  :  slime\n",
            "slow  :  slow\n",
            "others  :  others\n",
            "holes  :  hole\n",
            "ceiling  :  ceiling\n",
            "give  :  give\n",
            "feeling  :  feeling\n",
            "dread  :  dread\n",
            "something  :  something\n",
            "could  :  could\n",
            "pop  :  pop\n",
            "limited  :  limited\n",
            "amount  :  amount\n",
            "rooms  :  room\n",
            "started  :  started\n",
            "memorize  :  memorize\n",
            "even  :  even\n",
            "game  :  game\n",
            "crescendo  :  crescendo\n",
            "encounters  :  encounter\n",
            "vacant  :  vacant\n",
            "room  :  room\n",
            "walkways  :  walkway\n",
            "way  :  way\n",
            "fall  :  fall\n",
            "dark  :  dark\n",
            "chasms  :  chasm\n",
            "acts  :  act\n",
            "walls  :  wall\n",
            "open  :  open\n",
            "room  :  room\n",
            "get  :  get\n",
            "see  :  see\n",
            "specific  :  specific\n",
            "creature  :  creature\n",
            "might  :  might\n",
            "following  :  following\n",
            "sometimes  :  sometimes\n",
            "float  :  float\n",
            "gaps  :  gap\n",
            "times  :  time\n",
            "stuck  :  stuck\n",
            "trying  :  trying\n",
            "walk  :  walk\n",
            "across  :  across\n",
            "gap  :  gap\n",
            "get  :  get\n",
            "good  :  good\n",
            "look  :  look\n",
            "harmless  :  harmless\n",
            "touch  :  touch\n",
            "three  :  three\n",
            "times  :  time\n",
            "dead  :  dead\n",
            "health  :  health\n",
            "replenish  :  replenish\n",
            "time  :  time\n",
            "big  :  big\n",
            "moments  :  moment\n",
            "rare  :  rare\n",
            "easy  :  easy\n",
            "avoid  :  avoid\n",
            "keep  :  keep\n",
            "running  :  running\n",
            "hope  :  hope\n",
            "locked  :  locked\n",
            "doors  :  door\n",
            "happen  :  happen\n",
            "specific  :  specific\n",
            "rooms  :  room\n",
            "sometimes  :  sometimes\n",
            "rooms  :  room\n",
            "empty  :  empty\n",
            "still  :  still\n",
            "gives  :  give\n",
            "dreadful  :  dreadful\n",
            "feeling  :  feeling\n",
            "tear  :  tear\n",
            "rooms  :  room\n",
            "pretty  :  pretty\n",
            "quick  :  quick\n",
            "350  :  350\n",
            "45  :  45\n",
            "minute  :  minute\n",
            "stamina  :  stamen\n",
            "deplete  :  deplete\n",
            "give  :  give\n",
            "monster  :  monster\n",
            "chance  :  chance\n",
            "catch  :  catch\n",
            "going  :  going\n",
            "door  :  door\n",
            "restores  :  restores\n",
            "run  :  run\n",
            "waiting  :  waiting\n",
            "seconds  :  second\n",
            "replenish  :  replenish\n",
            "stamina  :  stamen\n",
            "longer  :  longer\n",
            "rooms  :  room\n",
            "hav1e  :  hav1e\n",
            "limited  :  limited\n",
            "visibility  :  visibility\n",
            "area  :  area\n",
            "darker  :  darker\n",
            "gets  :  get\n",
            "rooms  :  room\n",
            "good  :  good\n",
            "diversions  :  diversion\n",
            "tricks  :  trick\n",
            "one  :  one\n",
            "turns  :  turn\n",
            "bright  :  bright\n",
            "need  :  need\n",
            "enter  :  enter\n",
            "correct  :  correct\n",
            "combination  :  combination\n",
            "corridors  :  corridor\n",
            "signaled  :  signaled\n",
            "chimes  :  chime\n",
            "see  :  see\n",
            "door  :  door\n",
            "another  :  another\n",
            "room  :  room\n",
            "endless  :  endless\n",
            "darkness  :  darkness\n",
            "torch  :  torch\n",
            "end  :  end\n",
            "revealed  :  revealed\n",
            "torch  :  torch\n",
            "merely  :  merely\n",
            "painted  :  painted\n",
            "black  :  black\n",
            "wall  :  wall\n",
            "times  :  time\n",
            "need  :  need\n",
            "search  :  search\n",
            "adjacent  :  adjacent\n",
            "room  :  room\n",
            "key  :  key\n",
            "one  :  one\n",
            "every  :  every\n",
            "fifty  :  fifty\n",
            "rooms  :  room\n",
            "take  :  take\n",
            "moment  :  moment\n",
            "unwind  :  unwind\n",
            "elevator  :  elevator\n",
            "reminds  :  reminds\n",
            "hang  :  hang\n",
            "coffee  :  coffee\n",
            "break  :  break\n",
            "game  :  game\n",
            "makes  :  make\n",
            "good  :  good\n",
            "balance  :  balance\n",
            "calm  :  calm\n",
            "moments  :  moment\n",
            "tense  :  tense\n",
            "situations  :  situation\n",
            "keeps  :  keep\n",
            "kilter  :  kilter\n",
            "never  :  never\n",
            "expecting  :  expecting\n",
            "anything  :  anything\n",
            "every  :  every\n",
            "two  :  two\n",
            "hundred  :  hundred\n",
            "fifty  :  fifty\n",
            "rooms  :  room\n",
            "offers  :  offer\n",
            "prize  :  prize\n",
            "box  :  box\n",
            "snakes  :  snake\n",
            "jack  :  jack\n",
            "box  :  box\n",
            "note  :  note\n",
            "truth  :  truth\n",
            "told  :  told\n",
            "goal  :  goal\n",
            "oriented  :  oriented\n",
            "video  :  video\n",
            "games  :  game\n",
            "spooky  :  spooky\n",
            "missed  :  missed\n",
            "mark  :  mark\n",
            "cardboard  :  cardboard\n",
            "cutouts  :  cutout\n",
            "get  :  get\n",
            "way  :  way\n",
            "chased  :  chased\n",
            "something  :  something\n",
            "means  :  mean\n",
            "threat  :  threat\n",
            "since  :  since\n",
            "already  :  already\n",
            "behind  :  behind\n",
            "perhaps  :  perhaps\n",
            "later  :  later\n",
            "rooms  :  room\n",
            "gets  :  get\n",
            "difficult  :  difficult\n",
            "easy  :  easy\n",
            "tedium  :  tedium\n",
            "another  :  another\n",
            "room  :  room\n",
            "another  :  another\n",
            "room  :  room\n",
            "another  :  another\n",
            "room  :  room\n",
            "knowing  :  knowing\n",
            "seven  :  seven\n",
            "hundred  :  hundred\n",
            "rooms  :  room\n",
            "another  :  another\n",
            "two  :  two\n",
            "hour  :  hour\n",
            "investment  :  investment\n",
            "endless  :  endless\n",
            "running  :  running\n",
            "turns  :  turn\n",
            "game  :  game\n",
            "grind  :  grind\n",
            "fear  :  fear\n",
            "long  :  long\n",
            "endure  :  endure\n",
            "even  :  even\n",
            "save  :  save\n",
            "points  :  point\n",
            "game  :  game\n",
            "reuses  :  reuses\n",
            "points  :  point\n",
            "interest  :  interest\n",
            "times  :  time\n",
            "since  :  since\n",
            "recycles  :  recycles\n",
            "rooms  :  room\n",
            "another  :  another\n",
            "issue  :  issue\n",
            "game  :  game\n",
            "getting  :  getting\n",
            "stuck  :  stuck\n",
            "edges  :  edge\n",
            "need  :  need\n",
            "push  :  push\n",
            "away  :  away\n",
            "wall  :  wall\n",
            "get  :  get\n",
            "free  :  free\n",
            "turn  :  turn\n",
            "corner  :  corner\n",
            "walls  :  wall\n",
            "gaps  :  gap\n",
            "suppose  :  suppose\n",
            "acceptable  :  acceptable\n",
            "scary  :  scary\n",
            "game  :  game\n",
            "get  :  get\n",
            "chased  :  chased\n",
            "hung  :  hung\n",
            "hang  :  hang\n",
            "ups  :  ups\n",
            "one  :  one\n",
            "interesting  :  interesting\n",
            "thing  :  thing\n",
            "game  :  game\n",
            "stabbing  :  stabbing\n",
            "mini  :  mini\n",
            "game  :  game\n",
            "looks  :  look\n",
            "like  :  like\n",
            "ghost  :  ghost\n",
            "mall  :  mall\n",
            "good  :  good\n",
            "diversion  :  diversion\n",
            "repetition  :  repetition\n",
            "even  :  even\n",
            "computer  :  computer\n",
            "shows  :  show\n",
            "creatures  :  creature\n",
            "house  :  house\n",
            "well  :  well\n",
            "least  :  least\n",
            "best  :  best\n",
            "selling  :  selling\n",
            "point  :  point\n",
            "game  :  game\n",
            "free  :  free\n",
            "means  :  mean\n",
            "make  :  make\n",
            "good  :  good\n",
            "game  :  game\n",
            "makes  :  make\n",
            "easier  :  easier\n",
            "accept  :  accept\n",
            "game  :  game\n",
            "brings  :  brings\n",
            "charm  :  charm\n",
            "tear  :  tear\n",
            "scares  :  scare\n",
            "beyond  :  beyond\n",
            "cheap  :  cheap\n",
            "cardboard  :  cardboard\n",
            "cutouts  :  cutout\n",
            "litter  :  litter\n",
            "hallway  :  hallway\n",
            "every  :  every\n",
            "often  :  often\n",
            "far  :  far\n",
            "repetitive  :  repetitive\n",
            "without  :  without\n",
            "much  :  much\n",
            "dread  :  dread\n",
            "excitement  :  excitement\n"
          ],
          "name": "stdout"
        }
      ]
    },
    {
      "cell_type": "code",
      "metadata": {
        "id": "kcU1FNpLqN5S",
        "colab_type": "code",
        "colab": {}
      },
      "source": [
        "words,count=np.unique(z[8], return_counts=True)"
      ],
      "execution_count": 0,
      "outputs": []
    },
    {
      "cell_type": "code",
      "metadata": {
        "id": "lgyi0GCK0tdS",
        "colab_type": "code",
        "outputId": "545d3751-9de3-49d2-d44d-1fb41c7ba58f",
        "colab": {
          "base_uri": "https://localhost:8080/",
          "height": 34
        }
      },
      "source": [
        "len(words)"
      ],
      "execution_count": 0,
      "outputs": [
        {
          "output_type": "execute_result",
          "data": {
            "text/plain": [
              "295"
            ]
          },
          "metadata": {
            "tags": []
          },
          "execution_count": 120
        }
      ]
    },
    {
      "cell_type": "code",
      "metadata": {
        "id": "__FgCAn71q25",
        "colab_type": "code",
        "colab": {}
      },
      "source": [
        "dic={}\n",
        "for i in range(len(words)):\n",
        "  dic[words[i]]=count[i]"
      ],
      "execution_count": 0,
      "outputs": []
    },
    {
      "cell_type": "code",
      "metadata": {
        "id": "bLeMvYkl192S",
        "colab_type": "code",
        "outputId": "dd07599c-17d7-4048-e9fe-b75187c321cb",
        "colab": {
          "base_uri": "https://localhost:8080/",
          "height": 1000
        }
      },
      "source": [
        "dic"
      ],
      "execution_count": 0,
      "outputs": [
        {
          "output_type": "execute_result",
          "data": {
            "text/plain": [
              "{'350': 1,\n",
              " '3d': 1,\n",
              " '45': 1,\n",
              " 'accept': 2,\n",
              " 'accompani': 1,\n",
              " 'across': 1,\n",
              " 'act': 1,\n",
              " 'adjac': 1,\n",
              " 'ador': 1,\n",
              " 'afraid': 1,\n",
              " 'almost': 2,\n",
              " 'alreadi': 1,\n",
              " 'ambient': 1,\n",
              " 'amount': 1,\n",
              " 'anoth': 6,\n",
              " 'anyth': 1,\n",
              " 'area': 1,\n",
              " 'asylum': 1,\n",
              " 'avoid': 1,\n",
              " 'away': 1,\n",
              " 'balanc': 1,\n",
              " 'begin': 1,\n",
              " 'behind': 2,\n",
              " 'best': 1,\n",
              " 'beyond': 1,\n",
              " 'big': 1,\n",
              " 'black': 1,\n",
              " 'box': 2,\n",
              " 'break': 1,\n",
              " 'bright': 1,\n",
              " 'bring': 1,\n",
              " 'budget': 1,\n",
              " 'calm': 1,\n",
              " 'cardboard': 3,\n",
              " 'cartoon': 1,\n",
              " 'catch': 1,\n",
              " 'ceil': 1,\n",
              " 'chanc': 1,\n",
              " 'chang': 1,\n",
              " 'charm': 2,\n",
              " 'chase': 2,\n",
              " 'chasm': 1,\n",
              " 'cheap': 1,\n",
              " 'chill': 1,\n",
              " 'chime': 1,\n",
              " 'chipper': 1,\n",
              " 'clean': 1,\n",
              " 'coat': 1,\n",
              " 'coffe': 1,\n",
              " 'combin': 1,\n",
              " 'come': 1,\n",
              " 'comput': 1,\n",
              " 'corner': 1,\n",
              " 'correct': 1,\n",
              " 'corridor': 2,\n",
              " 'could': 1,\n",
              " 'count': 1,\n",
              " 'creatur': 3,\n",
              " 'crescendo': 1,\n",
              " 'cutout': 3,\n",
              " 'dank': 1,\n",
              " 'dark': 3,\n",
              " 'darker': 1,\n",
              " 'daunt': 1,\n",
              " 'dead': 1,\n",
              " 'death': 1,\n",
              " 'deeper': 1,\n",
              " 'delv': 1,\n",
              " 'depart': 1,\n",
              " 'deplet': 1,\n",
              " 'differ': 1,\n",
              " 'difficult': 1,\n",
              " 'divers': 2,\n",
              " 'door': 5,\n",
              " 'dread': 3,\n",
              " 'drive': 1,\n",
              " 'dungeon': 2,\n",
              " 'duti': 1,\n",
              " 'easi': 2,\n",
              " 'easier': 1,\n",
              " 'edg': 1,\n",
              " 'elev': 1,\n",
              " 'empti': 1,\n",
              " 'encount': 1,\n",
              " 'end': 2,\n",
              " 'endless': 3,\n",
              " 'endur': 1,\n",
              " 'enter': 1,\n",
              " 'esqu': 1,\n",
              " 'even': 4,\n",
              " 'everi': 4,\n",
              " 'excel': 1,\n",
              " 'excit': 1,\n",
              " 'expect': 1,\n",
              " 'fact': 1,\n",
              " 'fall': 1,\n",
              " 'far': 1,\n",
              " 'fear': 1,\n",
              " 'feat': 1,\n",
              " 'feel': 2,\n",
              " 'fifteen': 1,\n",
              " 'fifti': 3,\n",
              " 'find': 2,\n",
              " 'first': 2,\n",
              " 'flashlight': 1,\n",
              " 'float': 1,\n",
              " 'follow': 2,\n",
              " 'foot': 1,\n",
              " 'forev': 1,\n",
              " 'form': 1,\n",
              " 'foul': 1,\n",
              " 'free': 2,\n",
              " 'frighten': 1,\n",
              " 'game': 15,\n",
              " 'gap': 3,\n",
              " 'get': 8,\n",
              " 'ghost': 2,\n",
              " 'give': 4,\n",
              " 'glow': 1,\n",
              " 'go': 1,\n",
              " 'goal': 1,\n",
              " 'good': 6,\n",
              " 'green': 1,\n",
              " 'grind': 1,\n",
              " 'hallway': 1,\n",
              " 'hand': 1,\n",
              " 'hang': 2,\n",
              " 'happen': 1,\n",
              " 'happi': 1,\n",
              " 'harmless': 1,\n",
              " 'hav1': 1,\n",
              " 'health': 1,\n",
              " 'heart': 1,\n",
              " 'hole': 1,\n",
              " 'hope': 1,\n",
              " 'hour': 1,\n",
              " 'hous': 2,\n",
              " 'hundr': 2,\n",
              " 'hung': 1,\n",
              " 'interest': 3,\n",
              " 'intreeg': 1,\n",
              " 'invest': 1,\n",
              " 'issu': 1,\n",
              " 'jack': 1,\n",
              " 'jump': 2,\n",
              " 'keep': 3,\n",
              " 'key': 3,\n",
              " 'kilter': 1,\n",
              " 'know': 1,\n",
              " 'later': 1,\n",
              " 'least': 1,\n",
              " 'leav': 1,\n",
              " 'lie': 1,\n",
              " 'light': 1,\n",
              " 'like': 1,\n",
              " 'limit': 2,\n",
              " 'litter': 1,\n",
              " 'live': 1,\n",
              " 'lock': 1,\n",
              " 'long': 1,\n",
              " 'longer': 1,\n",
              " 'look': 2,\n",
              " 'low': 1,\n",
              " 'make': 4,\n",
              " 'mall': 1,\n",
              " 'mark': 1,\n",
              " 'mean': 2,\n",
              " 'memor': 1,\n",
              " 'mere': 1,\n",
              " 'metal': 1,\n",
              " 'might': 1,\n",
              " 'mini': 1,\n",
              " 'minut': 1,\n",
              " 'miss': 1,\n",
              " 'moment': 3,\n",
              " 'monster': 1,\n",
              " 'much': 1,\n",
              " 'mundan': 1,\n",
              " 'music': 1,\n",
              " 'need': 4,\n",
              " 'needless': 1,\n",
              " 'never': 1,\n",
              " 'new': 1,\n",
              " 'nine': 1,\n",
              " 'nineti': 1,\n",
              " 'note': 2,\n",
              " 'noth': 1,\n",
              " 'offer': 1,\n",
              " 'often': 1,\n",
              " 'one': 5,\n",
              " 'open': 1,\n",
              " 'orient': 1,\n",
              " 'other': 1,\n",
              " 'paint': 1,\n",
              " 'parodi': 1,\n",
              " 'percent': 1,\n",
              " 'perhap': 1,\n",
              " 'perman': 1,\n",
              " 'person': 1,\n",
              " 'perspect': 1,\n",
              " 'plenti': 1,\n",
              " 'point': 5,\n",
              " 'pop': 2,\n",
              " 'pretti': 1,\n",
              " 'prize': 1,\n",
              " 'pumpkin': 1,\n",
              " 'purpl': 1,\n",
              " 'push': 1,\n",
              " 'quick': 1,\n",
              " 'rare': 2,\n",
              " 'recycl': 1,\n",
              " 'remind': 1,\n",
              " 'repetit': 3,\n",
              " 'replenish': 2,\n",
              " 'restor': 1,\n",
              " 'reus': 1,\n",
              " 'reveal': 1,\n",
              " 'room': 29,\n",
              " 'run': 3,\n",
              " 'runner': 1,\n",
              " 'save': 3,\n",
              " 'scare': 3,\n",
              " 'scari': 1,\n",
              " 'screech': 1,\n",
              " 'scum': 1,\n",
              " 'search': 2,\n",
              " 'second': 2,\n",
              " 'see': 2,\n",
              " 'sell': 1,\n",
              " 'seven': 1,\n",
              " 'sewer': 1,\n",
              " 'show': 1,\n",
              " 'signal': 1,\n",
              " 'silli': 1,\n",
              " 'sinc': 2,\n",
              " 'situat': 1,\n",
              " 'skeleton': 1,\n",
              " 'slime': 1,\n",
              " 'slow': 1,\n",
              " 'snake': 1,\n",
              " 'someth': 2,\n",
              " 'sometim': 2,\n",
              " 'somewher': 1,\n",
              " 'sound': 4,\n",
              " 'specif': 2,\n",
              " 'spine': 1,\n",
              " 'spooki': 2,\n",
              " 'sprint': 1,\n",
              " 'stab': 1,\n",
              " 'stamina': 2,\n",
              " 'start': 1,\n",
              " 'step': 1,\n",
              " 'still': 3,\n",
              " 'stuck': 2,\n",
              " 'suppos': 1,\n",
              " 'surfac': 1,\n",
              " 'surviv': 1,\n",
              " 'take': 1,\n",
              " 'task': 1,\n",
              " 'tear': 2,\n",
              " 'tedium': 2,\n",
              " 'tens': 1,\n",
              " 'thank': 1,\n",
              " 'theme': 1,\n",
              " 'thing': 3,\n",
              " 'thousand': 2,\n",
              " 'threat': 1,\n",
              " 'three': 1,\n",
              " 'time': 7,\n",
              " 'told': 1,\n",
              " 'torch': 2,\n",
              " 'touch': 1,\n",
              " 'tri': 1,\n",
              " 'trick': 1,\n",
              " 'truth': 1,\n",
              " 'turn': 3,\n",
              " 'two': 2,\n",
              " 'uncov': 1,\n",
              " 'unfit': 1,\n",
              " 'unwind': 1,\n",
              " 'up': 1,\n",
              " 'use': 1,\n",
              " 'vacant': 1,\n",
              " 'video': 1,\n",
              " 'visibl': 1,\n",
              " 'wait': 1,\n",
              " 'walk': 1,\n",
              " 'walkway': 1,\n",
              " 'wall': 5,\n",
              " 'way': 3,\n",
              " 'well': 1,\n",
              " 'within': 1,\n",
              " 'without': 1,\n",
              " 'wolfenstien': 1,\n",
              " 'written': 1}"
            ]
          },
          "metadata": {
            "tags": []
          },
          "execution_count": 129
        }
      ]
    },
    {
      "cell_type": "code",
      "metadata": {
        "id": "WeVb5kRt2G5y",
        "colab_type": "code",
        "outputId": "2e35e40a-ad30-41c3-9b36-a3efa0465398",
        "colab": {
          "base_uri": "https://localhost:8080/",
          "height": 54
        }
      },
      "source": [
        "print(df_train.iloc[8].user_review)"
      ],
      "execution_count": 0,
      "outputs": [
        {
          "output_type": "stream",
          "text": [
            "Somewhere between light hearted, happy parody and being afraid of the dark lies Spooky's House of Jump Scares. You are tasked with the daunting duty of surviving one thousand rooms in this endless first person perspective runner. Each room is no more than a few seconds thanks to a sprint key and the fact that each door counts as a new room. Even then one thousand rooms is still a feat against tedium and needless repetition. There are still things every fifteen or so rooms to keep your interest and at the end of fifty rooms you'll find a save point, but nothing can save you from permanent death at the hands of the foul creatures that live within.On the surface the game has a clean, chipper almost cartoon low budget charm to it. Jump scares are rare and at first it comes in the form of adorable cardboard cutouts of pumpkins, ghosts and skeletons that pop out of the wall accompanied by a sound. Some of the sounds are silly and unfitting other times its screeches to drive chills down your spine. The game excels in the sound department and makes good use of music, ambient sounds and foot steps following you.As you delve deeper through the doors of this dank dungeon, you'll uncover more frightening things and points of intreege. There are plenty of written notes here and there. A few times you'll need to search for a key in a different room, but the other ninety-nine percent of the game is leaving rooms behind forever.The themes of the rooms begin to change from the mundane almost Wolfenstien 3D-esque corridors to metal asylum rooms that give you a flashlight to find your way through. There are purple dungeons, green sewers with glowing scum. Some rooms are coated with slime to slow you own while others have holes in the ceiling as if to give you a feeling of dread that something could pop out.There are a limited amount of rooms and I started to memorize them all. Even the game's crescendo encounters in a vacant room with walkways. There's no way to fall into the dark chasms, it acts as if they were walls, but with this open room you get to see a specific creature that might be following you. Sometimes they can float over the gaps, other times they're stuck trying to walk at you from across the gap so you can get a good look at them when they're harmless.If they touch you three or so times you're dead. You have health that does replenish over time and these big moments are rare and easy to avoid. Just keep running and hope there are no locked doors! They only happen in specific rooms and sometimes the rooms are empty, but it still gives that dreadful feeling.You can tear through these rooms pretty quick about 350 of them in a 45 minute. Your stamina will deplete to give a monster the chance to catch you, but going through a door restores your will to run. Other than that waiting a few seconds will replenish your stamina. Longer rooms hav1e limited visibility. The further out an area is the darker it gets.A few rooms have good diversions or tricks to them. Such as one that turns bright and you need to enter the correct combination of corridors signaled by chimes until you can see the door. Another room is endless darkness with a torch at the end, until its revealed that the torch is merely painted on a black wall. A few times you'll need to search an adjacent room for a key to the one you're in.Every fifty rooms, you take a moment to unwind in an elevator that reminds you to hang in there or have a coffee break. The game makes a good balance of calm moments for each of the few tense situations. Its what keeps you off kilter and never expecting anything. Every two hundred and fifty rooms offers a prize to you. What's in the box? Is it snakes? Is it a jack-in-the-box or is it a note?Truth be told I'm very goal oriented with video games and so Spooky missed its mark for me. The cardboard cutouts get in the way. Being chased by something means that it was no threat since it was already behind me. Perhaps in later rooms it gets more difficult, but this is just easy tedium.  Another room, another room, another room. Then knowing I have seven hundred more rooms and another two hour investment of endless running turns the game into a grind. There's no fear and its too long to endure even with save points. The game reuses its points of interest a few times since it recycles rooms.Another issue I have with the game is getting stuck on edges where I need to push away from a wall to get free and turn a corner. Its more than walls, its on the gaps too. I suppose this is acceptable for a scary game where you get chased, but I'm hung up on these hang ups.One interesting thing the game does have is a stabbing mini game where it looks like you're a ghost in a mall. Its a good diversion from the repetition. There's even a computer that shows you all the creatures in the house. Well most of them at least.The best selling point this game has is that its free. By no means does that make this a good game, but it makes it easier to accept. Its a game that brings you up with charm to tear you down with scares beyond the cheap cardboard cutouts that can litter a hallway every so often. Its just far too repetitive without that much dread or excitement.\n"
          ],
          "name": "stdout"
        }
      ]
    },
    {
      "cell_type": "code",
      "metadata": {
        "id": "b9iYjzKP3nov",
        "colab_type": "code",
        "outputId": "dfe31227-df07-475b-e8fb-bab89625022f",
        "colab": {
          "base_uri": "https://localhost:8080/",
          "height": 34
        }
      },
      "source": [
        ""
      ],
      "execution_count": 0,
      "outputs": [
        {
          "output_type": "execute_result",
          "data": {
            "text/plain": [
              "'issu'"
            ]
          },
          "metadata": {
            "tags": []
          },
          "execution_count": 132
        }
      ]
    },
    {
      "cell_type": "code",
      "metadata": {
        "id": "Q62rWKi840pA",
        "colab_type": "code",
        "colab": {}
      },
      "source": [
        ""
      ],
      "execution_count": 0,
      "outputs": []
    }
  ]
}