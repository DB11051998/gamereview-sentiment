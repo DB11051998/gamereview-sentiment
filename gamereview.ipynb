{
  "nbformat": 4,
  "nbformat_minor": 0,
  "metadata": {
    "colab": {
      "name": "gamereview.ipynb",
      "provenance": [],
      "collapsed_sections": [],
      "authorship_tag": "ABX9TyORHbIEdS7Sp3oS9mhM1j7K",
      "include_colab_link": true
    },
    "kernelspec": {
      "name": "python3",
      "display_name": "Python 3"
    }
  },
  "cells": [
    {
      "cell_type": "markdown",
      "metadata": {
        "id": "view-in-github",
        "colab_type": "text"
      },
      "source": [
        "<a href=\"https://colab.research.google.com/github/DB11051998/gamereview-sentiment/blob/master/gamereview.ipynb\" target=\"_parent\"><img src=\"https://colab.research.google.com/assets/colab-badge.svg\" alt=\"Open In Colab\"/></a>"
      ]
    },
    {
      "cell_type": "code",
      "metadata": {
        "id": "4ycftkezmt3P",
        "colab_type": "code",
        "outputId": "53e2c315-f2f0-4b1c-9624-13a63fe968a9",
        "colab": {
          "base_uri": "https://localhost:8080/",
          "height": 122
        }
      },
      "source": [
        "from google.colab import drive\n",
        "drive .mount('/content/gdrive')"
      ],
      "execution_count": 3,
      "outputs": [
        {
          "output_type": "stream",
          "text": [
            "Go to this URL in a browser: https://accounts.google.com/o/oauth2/auth?client_id=947318989803-6bn6qk8qdgf4n4g3pfee6491hc0brc4i.apps.googleusercontent.com&redirect_uri=urn%3aietf%3awg%3aoauth%3a2.0%3aoob&response_type=code&scope=email%20https%3a%2f%2fwww.googleapis.com%2fauth%2fdocs.test%20https%3a%2f%2fwww.googleapis.com%2fauth%2fdrive%20https%3a%2f%2fwww.googleapis.com%2fauth%2fdrive.photos.readonly%20https%3a%2f%2fwww.googleapis.com%2fauth%2fpeopleapi.readonly\n",
            "\n",
            "Enter your authorization code:\n",
            "··········\n",
            "Mounted at /content/gdrive\n"
          ],
          "name": "stdout"
        }
      ]
    },
    {
      "cell_type": "code",
      "metadata": {
        "id": "eXixaP6Pm3yc",
        "colab_type": "code",
        "colab": {}
      },
      "source": [
        "root_path='/content/gdrive/My Drive/jantahack/NLP jantahack'"
      ],
      "execution_count": 0,
      "outputs": []
    },
    {
      "cell_type": "code",
      "metadata": {
        "id": "bAoMsQyyneOy",
        "colab_type": "code",
        "outputId": "21da8865-2d55-42dd-882f-382730d08c5e",
        "colab": {
          "base_uri": "https://localhost:8080/",
          "height": 71
        }
      },
      "source": [
        "import os\n",
        "import pandas as pd\n",
        "import numpy as np\n",
        "import matplotlib.pyplot as plt\n",
        "import seaborn as sns"
      ],
      "execution_count": 5,
      "outputs": [
        {
          "output_type": "stream",
          "text": [
            "/usr/local/lib/python3.6/dist-packages/statsmodels/tools/_testing.py:19: FutureWarning: pandas.util.testing is deprecated. Use the functions in the public API at pandas.testing instead.\n",
            "  import pandas.util.testing as tm\n"
          ],
          "name": "stderr"
        }
      ]
    },
    {
      "cell_type": "code",
      "metadata": {
        "id": "L1kHym5rnYtX",
        "colab_type": "code",
        "colab": {}
      },
      "source": [
        "lis=[]\n",
        "for dirname, _, filenames in os.walk(root_path):\n",
        "    for filename in filenames:\n",
        "        lis.append(os.path.join(dirname, filename))"
      ],
      "execution_count": 0,
      "outputs": []
    },
    {
      "cell_type": "code",
      "metadata": {
        "id": "gzi5dDAqnnf0",
        "colab_type": "code",
        "outputId": "00e93845-2902-4ba9-c19b-5ff7c1e36cf0",
        "colab": {
          "base_uri": "https://localhost:8080/",
          "height": 170
        }
      },
      "source": [
        "lis"
      ],
      "execution_count": 7,
      "outputs": [
        {
          "output_type": "execute_result",
          "data": {
            "text/plain": [
              "['/content/gdrive/My Drive/jantahack/NLP jantahack/test.csv',\n",
              " '/content/gdrive/My Drive/jantahack/NLP jantahack/train.csv',\n",
              " '/content/gdrive/My Drive/jantahack/NLP jantahack/game_overview.csv',\n",
              " '/content/gdrive/My Drive/jantahack/NLP jantahack/test_BppAoe0.zip',\n",
              " '/content/gdrive/My Drive/jantahack/NLP jantahack/train_E52nqFa.zip',\n",
              " '/content/gdrive/My Drive/jantahack/NLP jantahack/sample_submission_wgBqZCk.csv',\n",
              " '/content/gdrive/My Drive/jantahack/NLP jantahack/__MACOSX/._test.csv',\n",
              " '/content/gdrive/My Drive/jantahack/NLP jantahack/__MACOSX/._train.csv',\n",
              " '/content/gdrive/My Drive/jantahack/NLP jantahack/__MACOSX/._game_overview.csv']"
            ]
          },
          "metadata": {
            "tags": []
          },
          "execution_count": 7
        }
      ]
    },
    {
      "cell_type": "code",
      "metadata": {
        "id": "_3LIs0IdnsSA",
        "colab_type": "code",
        "colab": {}
      },
      "source": [
        "df_train=pd.read_csv(lis[1])"
      ],
      "execution_count": 0,
      "outputs": []
    },
    {
      "cell_type": "code",
      "metadata": {
        "id": "ELdtSblSoDsX",
        "colab_type": "code",
        "outputId": "9dc8d78f-98b7-426b-8964-649eb68f81ea",
        "colab": {
          "base_uri": "https://localhost:8080/",
          "height": 359
        }
      },
      "source": [
        "df_train.head(10)"
      ],
      "execution_count": 9,
      "outputs": [
        {
          "output_type": "execute_result",
          "data": {
            "text/html": [
              "<div>\n",
              "<style scoped>\n",
              "    .dataframe tbody tr th:only-of-type {\n",
              "        vertical-align: middle;\n",
              "    }\n",
              "\n",
              "    .dataframe tbody tr th {\n",
              "        vertical-align: top;\n",
              "    }\n",
              "\n",
              "    .dataframe thead th {\n",
              "        text-align: right;\n",
              "    }\n",
              "</style>\n",
              "<table border=\"1\" class=\"dataframe\">\n",
              "  <thead>\n",
              "    <tr style=\"text-align: right;\">\n",
              "      <th></th>\n",
              "      <th>review_id</th>\n",
              "      <th>title</th>\n",
              "      <th>year</th>\n",
              "      <th>user_review</th>\n",
              "      <th>user_suggestion</th>\n",
              "    </tr>\n",
              "  </thead>\n",
              "  <tbody>\n",
              "    <tr>\n",
              "      <th>0</th>\n",
              "      <td>1</td>\n",
              "      <td>Spooky's Jump Scare Mansion</td>\n",
              "      <td>2016.0</td>\n",
              "      <td>I'm scared and hearing creepy voices.  So I'll...</td>\n",
              "      <td>1</td>\n",
              "    </tr>\n",
              "    <tr>\n",
              "      <th>1</th>\n",
              "      <td>2</td>\n",
              "      <td>Spooky's Jump Scare Mansion</td>\n",
              "      <td>2016.0</td>\n",
              "      <td>Best game, more better than Sam Pepper's YouTu...</td>\n",
              "      <td>1</td>\n",
              "    </tr>\n",
              "    <tr>\n",
              "      <th>2</th>\n",
              "      <td>3</td>\n",
              "      <td>Spooky's Jump Scare Mansion</td>\n",
              "      <td>2016.0</td>\n",
              "      <td>A littly iffy on the controls, but once you kn...</td>\n",
              "      <td>1</td>\n",
              "    </tr>\n",
              "    <tr>\n",
              "      <th>3</th>\n",
              "      <td>4</td>\n",
              "      <td>Spooky's Jump Scare Mansion</td>\n",
              "      <td>2015.0</td>\n",
              "      <td>Great game, fun and colorful and all that.A si...</td>\n",
              "      <td>1</td>\n",
              "    </tr>\n",
              "    <tr>\n",
              "      <th>4</th>\n",
              "      <td>5</td>\n",
              "      <td>Spooky's Jump Scare Mansion</td>\n",
              "      <td>2015.0</td>\n",
              "      <td>Not many games have the cute tag right next to...</td>\n",
              "      <td>1</td>\n",
              "    </tr>\n",
              "    <tr>\n",
              "      <th>5</th>\n",
              "      <td>6</td>\n",
              "      <td>Spooky's Jump Scare Mansion</td>\n",
              "      <td>2015.0</td>\n",
              "      <td>Early Access ReviewIt's pretty cute at first, ...</td>\n",
              "      <td>1</td>\n",
              "    </tr>\n",
              "    <tr>\n",
              "      <th>6</th>\n",
              "      <td>7</td>\n",
              "      <td>Spooky's Jump Scare Mansion</td>\n",
              "      <td>2017.0</td>\n",
              "      <td>Great game. it's a cute little horror game tha...</td>\n",
              "      <td>1</td>\n",
              "    </tr>\n",
              "    <tr>\n",
              "      <th>7</th>\n",
              "      <td>8</td>\n",
              "      <td>Spooky's Jump Scare Mansion</td>\n",
              "      <td>2015.0</td>\n",
              "      <td>Spooky's Jump Scare Mansion is a Free Retro ma...</td>\n",
              "      <td>1</td>\n",
              "    </tr>\n",
              "    <tr>\n",
              "      <th>8</th>\n",
              "      <td>9</td>\n",
              "      <td>Spooky's Jump Scare Mansion</td>\n",
              "      <td>2015.0</td>\n",
              "      <td>Somewhere between light hearted, happy parody ...</td>\n",
              "      <td>0</td>\n",
              "    </tr>\n",
              "    <tr>\n",
              "      <th>9</th>\n",
              "      <td>10</td>\n",
              "      <td>Spooky's Jump Scare Mansion</td>\n",
              "      <td>2015.0</td>\n",
              "      <td>This game with its cute little out of the wall...</td>\n",
              "      <td>1</td>\n",
              "    </tr>\n",
              "  </tbody>\n",
              "</table>\n",
              "</div>"
            ],
            "text/plain": [
              "   review_id  ... user_suggestion\n",
              "0          1  ...               1\n",
              "1          2  ...               1\n",
              "2          3  ...               1\n",
              "3          4  ...               1\n",
              "4          5  ...               1\n",
              "5          6  ...               1\n",
              "6          7  ...               1\n",
              "7          8  ...               1\n",
              "8          9  ...               0\n",
              "9         10  ...               1\n",
              "\n",
              "[10 rows x 5 columns]"
            ]
          },
          "metadata": {
            "tags": []
          },
          "execution_count": 9
        }
      ]
    },
    {
      "cell_type": "code",
      "metadata": {
        "id": "mkyJ8KO2pTIp",
        "colab_type": "code",
        "outputId": "86659d4c-f77e-4352-c82e-89347dffaa17",
        "colab": {
          "base_uri": "https://localhost:8080/",
          "height": 34
        }
      },
      "source": [
        "df_train.shape"
      ],
      "execution_count": 10,
      "outputs": [
        {
          "output_type": "execute_result",
          "data": {
            "text/plain": [
              "(17494, 5)"
            ]
          },
          "metadata": {
            "tags": []
          },
          "execution_count": 10
        }
      ]
    },
    {
      "cell_type": "code",
      "metadata": {
        "id": "V4ZDVc6AoKE3",
        "colab_type": "code",
        "outputId": "26903f32-4c34-4903-aef9-4dff95acdf7c",
        "colab": {
          "base_uri": "https://localhost:8080/",
          "height": 119
        }
      },
      "source": [
        "df_train.isna().any()"
      ],
      "execution_count": 11,
      "outputs": [
        {
          "output_type": "execute_result",
          "data": {
            "text/plain": [
              "review_id          False\n",
              "title              False\n",
              "year                True\n",
              "user_review        False\n",
              "user_suggestion    False\n",
              "dtype: bool"
            ]
          },
          "metadata": {
            "tags": []
          },
          "execution_count": 11
        }
      ]
    },
    {
      "cell_type": "code",
      "metadata": {
        "id": "gjyFp7neoSue",
        "colab_type": "code",
        "outputId": "4abaa01e-eae7-4c1f-b8af-8246ec03f26c",
        "colab": {
          "base_uri": "https://localhost:8080/",
          "height": 221
        }
      },
      "source": [
        "df_train[df_train.year.isna()]['title'].unique()"
      ],
      "execution_count": 12,
      "outputs": [
        {
          "output_type": "execute_result",
          "data": {
            "text/plain": [
              "array(['Fractured Space', 'Dota 2', 'Path of Exile', 'War Thunder',\n",
              "       'Ring of Elysium', 'Team Fortress 2', 'Yu-Gi-Oh! Duel Links',\n",
              "       'SMITE®', 'Brawlhalla', 'World of Tanks Blitz',\n",
              "       'DCS World Steam Edition', 'Heroes & Generals',\n",
              "       'The Elder Scrolls®: Legends™', 'Trove', 'Neverwinter',\n",
              "       'Realm Royale', 'PlanetSide 2', 'theHunter Classic',\n",
              "       'Eternal Card Game', 'Bless Online', 'RaceRoom Racing Experience',\n",
              "       'Fallout Shelter', 'Tactical Monsters Rumble Arena', 'Creativerse',\n",
              "       'Shop Heroes', 'Robocraft',\n",
              "       'Business Tour - Board Game with Online Multiplayer',\n",
              "       'AdventureQuest 3D', 'Realm Grinder', 'Bloons TD Battles',\n",
              "       'Cuisine Royale', 'EverQuest II'], dtype=object)"
            ]
          },
          "metadata": {
            "tags": []
          },
          "execution_count": 12
        }
      ]
    },
    {
      "cell_type": "code",
      "metadata": {
        "id": "1STRaGNwoljY",
        "colab_type": "code",
        "outputId": "539548c2-9412-4372-b295-1eeaa759f1ba",
        "colab": {
          "base_uri": "https://localhost:8080/",
          "height": 68
        }
      },
      "source": [
        "df_train.user_suggestion.value_counts()"
      ],
      "execution_count": 0,
      "outputs": [
        {
          "output_type": "execute_result",
          "data": {
            "text/plain": [
              "1    9968\n",
              "0    7526\n",
              "Name: user_suggestion, dtype: int64"
            ]
          },
          "metadata": {
            "tags": []
          },
          "execution_count": 11
        }
      ]
    },
    {
      "cell_type": "code",
      "metadata": {
        "id": "DEqQ0ssnpuDG",
        "colab_type": "code",
        "outputId": "2f270694-75dd-4521-f043-32188ea1e607",
        "colab": {
          "base_uri": "https://localhost:8080/",
          "height": 336
        }
      },
      "source": [
        "fig = plt.figure()\n",
        "ax = fig.add_axes([0,0,1,1])\n",
        "ax.bar(df_train.user_suggestion.unique(),df_train.user_suggestion.value_counts())\n",
        "plt.show()"
      ],
      "execution_count": 0,
      "outputs": [
        {
          "output_type": "display_data",
          "data": {
            "image/png": "[encoded data removed]",
            "text/plain": [
              "<Figure size 432x288 with 1 Axes>"
            ]
          },
          "metadata": {
            "tags": [],
            "needs_background": "light"
          }
        }
      ]
    },
    {
      "cell_type": "code",
      "metadata": {
        "id": "gTzYMfXoqYvI",
        "colab_type": "code",
        "colab": {}
      },
      "source": [
        "df_game_overview=pd.read_csv(lis[2])"
      ],
      "execution_count": 0,
      "outputs": []
    },
    {
      "cell_type": "code",
      "metadata": {
        "id": "qEd5f9QrqnfE",
        "colab_type": "code",
        "outputId": "da9ddf2c-f4b7-455d-e34c-9bc1a2a14f91",
        "colab": {
          "base_uri": "https://localhost:8080/",
          "height": 34
        }
      },
      "source": [
        "len(df_train.title.unique())"
      ],
      "execution_count": 14,
      "outputs": [
        {
          "output_type": "execute_result",
          "data": {
            "text/plain": [
              "44"
            ]
          },
          "metadata": {
            "tags": []
          },
          "execution_count": 14
        }
      ]
    },
    {
      "cell_type": "code",
      "metadata": {
        "id": "moic-Gmfst9D",
        "colab_type": "code",
        "outputId": "6c03ced7-e8f3-4b21-ea1e-98e20c4eafe5",
        "colab": {
          "base_uri": "https://localhost:8080/",
          "height": 54
        }
      },
      "source": [
        "df_train.user_review[8]"
      ],
      "execution_count": 15,
      "outputs": [
        {
          "output_type": "execute_result",
          "data": {
            "text/plain": [
              "\"Somewhere between light hearted, happy parody and being afraid of the dark lies Spooky's House of Jump Scares. You are tasked with the daunting duty of surviving one thousand rooms in this endless first person perspective runner. Each room is no more than a few seconds thanks to a sprint key and the fact that each door counts as a new room. Even then one thousand rooms is still a feat against tedium and needless repetition. There are still things every fifteen or so rooms to keep your interest and at the end of fifty rooms you'll find a save point, but nothing can save you from permanent death at the hands of the foul creatures that live within.On the surface the game has a clean, chipper almost cartoon low budget charm to it. Jump scares are rare and at first it comes in the form of adorable cardboard cutouts of pumpkins, ghosts and skeletons that pop out of the wall accompanied by a sound. Some of the sounds are silly and unfitting other times its screeches to drive chills down your spine. The game excels in the sound department and makes good use of music, ambient sounds and foot steps following you.As you delve deeper through the doors of this dank dungeon, you'll uncover more frightening things and points of intreege. There are plenty of written notes here and there. A few times you'll need to search for a key in a different room, but the other ninety-nine percent of the game is leaving rooms behind forever.The themes of the rooms begin to change from the mundane almost Wolfenstien 3D-esque corridors to metal asylum rooms that give you a flashlight to find your way through. There are purple dungeons, green sewers with glowing scum. Some rooms are coated with slime to slow you own while others have holes in the ceiling as if to give you a feeling of dread that something could pop out.There are a limited amount of rooms and I started to memorize them all. Even the game's crescendo encounters in a vacant room with walkways. There's no way to fall into the dark chasms, it acts as if they were walls, but with this open room you get to see a specific creature that might be following you. Sometimes they can float over the gaps, other times they're stuck trying to walk at you from across the gap so you can get a good look at them when they're harmless.If they touch you three or so times you're dead. You have health that does replenish over time and these big moments are rare and easy to avoid. Just keep running and hope there are no locked doors! They only happen in specific rooms and sometimes the rooms are empty, but it still gives that dreadful feeling.You can tear through these rooms pretty quick about 350 of them in a 45 minute. Your stamina will deplete to give a monster the chance to catch you, but going through a door restores your will to run. Other than that waiting a few seconds will replenish your stamina. Longer rooms hav1e limited visibility. The further out an area is the darker it gets.A few rooms have good diversions or tricks to them. Such as one that turns bright and you need to enter the correct combination of corridors signaled by chimes until you can see the door. Another room is endless darkness with a torch at the end, until its revealed that the torch is merely painted on a black wall. A few times you'll need to search an adjacent room for a key to the one you're in.Every fifty rooms, you take a moment to unwind in an elevator that reminds you to hang in there or have a coffee break. The game makes a good balance of calm moments for each of the few tense situations. Its what keeps you off kilter and never expecting anything. Every two hundred and fifty rooms offers a prize to you. What's in the box? Is it snakes? Is it a jack-in-the-box or is it a note?Truth be told I'm very goal oriented with video games and so Spooky missed its mark for me. The cardboard cutouts get in the way. Being chased by something means that it was no threat since it was already behind me. Perhaps in later rooms it gets more difficult, but this is just easy tedium.  Another room, another room, another room. Then knowing I have seven hundred more rooms and another two hour investment of endless running turns the game into a grind. There's no fear and its too long to endure even with save points. The game reuses its points of interest a few times since it recycles rooms.Another issue I have with the game is getting stuck on edges where I need to push away from a wall to get free and turn a corner. Its more than walls, its on the gaps too. I suppose this is acceptable for a scary game where you get chased, but I'm hung up on these hang ups.One interesting thing the game does have is a stabbing mini game where it looks like you're a ghost in a mall. Its a good diversion from the repetition. There's even a computer that shows you all the creatures in the house. Well most of them at least.The best selling point this game has is that its free. By no means does that make this a good game, but it makes it easier to accept. Its a game that brings you up with charm to tear you down with scares beyond the cheap cardboard cutouts that can litter a hallway every so often. Its just far too repetitive without that much dread or excitement.\""
            ]
          },
          "metadata": {
            "tags": []
          },
          "execution_count": 15
        }
      ]
    },
    {
      "cell_type": "code",
      "metadata": {
        "id": "q9dTAQWkB5tG",
        "colab_type": "code",
        "colab": {}
      },
      "source": [
        "#import library\n",
        "import nltk\n",
        "import re\n",
        "from nltk.tokenize import sent_tokenize\n",
        "from nltk.tokenize import word_tokenize\n",
        "from nltk.corpus import stopwords\n",
        "from nltk.stem import WordNetLemmatizer\n",
        "from nltk.stem import PorterStemmer \n"
      ],
      "execution_count": 0,
      "outputs": []
    },
    {
      "cell_type": "code",
      "metadata": {
        "id": "K-Wi1Mpg_uFx",
        "colab_type": "code",
        "colab": {}
      },
      "source": [
        "#no of words \n",
        "ls=[]\n",
        "def no_of_words(df):\n",
        "  return(ls.append(word_tokenize(df)))"
      ],
      "execution_count": 0,
      "outputs": []
    },
    {
      "cell_type": "code",
      "metadata": {
        "id": "LknnuJs3Bu__",
        "colab_type": "code",
        "colab": {
          "base_uri": "https://localhost:8080/",
          "height": 51
        },
        "outputId": "d0e556d3-1adc-446f-b762-7e9ab4fdc860"
      },
      "source": [
        "nltk.download('stopwords')\n",
        "stop_words = set(stopwords.words('english'))"
      ],
      "execution_count": 19,
      "outputs": [
        {
          "output_type": "stream",
          "text": [
            "[nltk_data] Downloading package stopwords to /root/nltk_data...\n",
            "[nltk_data]   Unzipping corpora/stopwords.zip.\n"
          ],
          "name": "stdout"
        }
      ]
    },
    {
      "cell_type": "code",
      "metadata": {
        "id": "71JqHtmsEAZi",
        "colab_type": "code",
        "outputId": "311a2f57-54e2-4bb7-e1bc-f9495cdf8c24",
        "colab": {
          "base_uri": "https://localhost:8080/",
          "height": 629
        }
      },
      "source": [
        "df_train.user_review.apply(no_of_words)"
      ],
      "execution_count": 20,
      "outputs": [
        {
          "output_type": "error",
          "ename": "LookupError",
          "evalue": "ignored",
          "traceback": [
            "\u001b[0;31m---------------------------------------------------------------------------\u001b[0m",
            "\u001b[0;31mLookupError\u001b[0m                               Traceback (most recent call last)",
            "\u001b[0;32m<ipython-input-20-051e032c1852>\u001b[0m in \u001b[0;36m<module>\u001b[0;34m()\u001b[0m\n\u001b[0;32m----> 1\u001b[0;31m \u001b[0mdf_train\u001b[0m\u001b[0;34m.\u001b[0m\u001b[0muser_review\u001b[0m\u001b[0;34m.\u001b[0m\u001b[0mapply\u001b[0m\u001b[0;34m(\u001b[0m\u001b[0mno_of_words\u001b[0m\u001b[0;34m)\u001b[0m\u001b[0;34m\u001b[0m\u001b[0;34m\u001b[0m\u001b[0m\n\u001b[0m",
            "\u001b[0;32m/usr/local/lib/python3.6/dist-packages/pandas/core/series.py\u001b[0m in \u001b[0;36mapply\u001b[0;34m(self, func, convert_dtype, args, **kwds)\u001b[0m\n\u001b[1;32m   3846\u001b[0m             \u001b[0;32melse\u001b[0m\u001b[0;34m:\u001b[0m\u001b[0;34m\u001b[0m\u001b[0;34m\u001b[0m\u001b[0m\n\u001b[1;32m   3847\u001b[0m                 \u001b[0mvalues\u001b[0m \u001b[0;34m=\u001b[0m \u001b[0mself\u001b[0m\u001b[0;34m.\u001b[0m\u001b[0mastype\u001b[0m\u001b[0;34m(\u001b[0m\u001b[0mobject\u001b[0m\u001b[0;34m)\u001b[0m\u001b[0;34m.\u001b[0m\u001b[0mvalues\u001b[0m\u001b[0;34m\u001b[0m\u001b[0;34m\u001b[0m\u001b[0m\n\u001b[0;32m-> 3848\u001b[0;31m                 \u001b[0mmapped\u001b[0m \u001b[0;34m=\u001b[0m \u001b[0mlib\u001b[0m\u001b[0;34m.\u001b[0m\u001b[0mmap_infer\u001b[0m\u001b[0;34m(\u001b[0m\u001b[0mvalues\u001b[0m\u001b[0;34m,\u001b[0m \u001b[0mf\u001b[0m\u001b[0;34m,\u001b[0m \u001b[0mconvert\u001b[0m\u001b[0;34m=\u001b[0m\u001b[0mconvert_dtype\u001b[0m\u001b[0;34m)\u001b[0m\u001b[0;34m\u001b[0m\u001b[0;34m\u001b[0m\u001b[0m\n\u001b[0m\u001b[1;32m   3849\u001b[0m \u001b[0;34m\u001b[0m\u001b[0m\n\u001b[1;32m   3850\u001b[0m         \u001b[0;32mif\u001b[0m \u001b[0mlen\u001b[0m\u001b[0;34m(\u001b[0m\u001b[0mmapped\u001b[0m\u001b[0;34m)\u001b[0m \u001b[0;32mand\u001b[0m \u001b[0misinstance\u001b[0m\u001b[0;34m(\u001b[0m\u001b[0mmapped\u001b[0m\u001b[0;34m[\u001b[0m\u001b[0;36m0\u001b[0m\u001b[0;34m]\u001b[0m\u001b[0;34m,\u001b[0m \u001b[0mSeries\u001b[0m\u001b[0;34m)\u001b[0m\u001b[0;34m:\u001b[0m\u001b[0;34m\u001b[0m\u001b[0;34m\u001b[0m\u001b[0m\n",
            "\u001b[0;32mpandas/_libs/lib.pyx\u001b[0m in \u001b[0;36mpandas._libs.lib.map_infer\u001b[0;34m()\u001b[0m\n",
            "\u001b[0;32m<ipython-input-17-c1ce4da770fd>\u001b[0m in \u001b[0;36mno_of_words\u001b[0;34m(df)\u001b[0m\n\u001b[1;32m      1\u001b[0m \u001b[0mls\u001b[0m\u001b[0;34m=\u001b[0m\u001b[0;34m[\u001b[0m\u001b[0;34m]\u001b[0m\u001b[0;34m\u001b[0m\u001b[0;34m\u001b[0m\u001b[0m\n\u001b[1;32m      2\u001b[0m \u001b[0;32mdef\u001b[0m \u001b[0mno_of_words\u001b[0m\u001b[0;34m(\u001b[0m\u001b[0mdf\u001b[0m\u001b[0;34m)\u001b[0m\u001b[0;34m:\u001b[0m\u001b[0;34m\u001b[0m\u001b[0;34m\u001b[0m\u001b[0m\n\u001b[0;32m----> 3\u001b[0;31m   \u001b[0;32mreturn\u001b[0m\u001b[0;34m(\u001b[0m\u001b[0mls\u001b[0m\u001b[0;34m.\u001b[0m\u001b[0mappend\u001b[0m\u001b[0;34m(\u001b[0m\u001b[0mword_tokenize\u001b[0m\u001b[0;34m(\u001b[0m\u001b[0mdf\u001b[0m\u001b[0;34m)\u001b[0m\u001b[0;34m)\u001b[0m\u001b[0;34m)\u001b[0m\u001b[0;34m\u001b[0m\u001b[0;34m\u001b[0m\u001b[0m\n\u001b[0m",
            "\u001b[0;32m/usr/local/lib/python3.6/dist-packages/nltk/tokenize/__init__.py\u001b[0m in \u001b[0;36mword_tokenize\u001b[0;34m(text, language, preserve_line)\u001b[0m\n\u001b[1;32m    126\u001b[0m     \u001b[0;34m:\u001b[0m\u001b[0mtype\u001b[0m \u001b[0mpreserver_line\u001b[0m\u001b[0;34m:\u001b[0m \u001b[0mbool\u001b[0m\u001b[0;34m\u001b[0m\u001b[0;34m\u001b[0m\u001b[0m\n\u001b[1;32m    127\u001b[0m     \"\"\"\n\u001b[0;32m--> 128\u001b[0;31m     \u001b[0msentences\u001b[0m \u001b[0;34m=\u001b[0m \u001b[0;34m[\u001b[0m\u001b[0mtext\u001b[0m\u001b[0;34m]\u001b[0m \u001b[0;32mif\u001b[0m \u001b[0mpreserve_line\u001b[0m \u001b[0;32melse\u001b[0m \u001b[0msent_tokenize\u001b[0m\u001b[0;34m(\u001b[0m\u001b[0mtext\u001b[0m\u001b[0;34m,\u001b[0m \u001b[0mlanguage\u001b[0m\u001b[0;34m)\u001b[0m\u001b[0;34m\u001b[0m\u001b[0;34m\u001b[0m\u001b[0m\n\u001b[0m\u001b[1;32m    129\u001b[0m     return [token for sent in sentences\n\u001b[1;32m    130\u001b[0m             for token in _treebank_word_tokenizer.tokenize(sent)]\n",
            "\u001b[0;32m/usr/local/lib/python3.6/dist-packages/nltk/tokenize/__init__.py\u001b[0m in \u001b[0;36msent_tokenize\u001b[0;34m(text, language)\u001b[0m\n\u001b[1;32m     92\u001b[0m     \u001b[0;34m:\u001b[0m\u001b[0mparam\u001b[0m \u001b[0mlanguage\u001b[0m\u001b[0;34m:\u001b[0m \u001b[0mthe\u001b[0m \u001b[0mmodel\u001b[0m \u001b[0mname\u001b[0m \u001b[0;32min\u001b[0m \u001b[0mthe\u001b[0m \u001b[0mPunkt\u001b[0m \u001b[0mcorpus\u001b[0m\u001b[0;34m\u001b[0m\u001b[0;34m\u001b[0m\u001b[0m\n\u001b[1;32m     93\u001b[0m     \"\"\"\n\u001b[0;32m---> 94\u001b[0;31m     \u001b[0mtokenizer\u001b[0m \u001b[0;34m=\u001b[0m \u001b[0mload\u001b[0m\u001b[0;34m(\u001b[0m\u001b[0;34m'tokenizers/punkt/{0}.pickle'\u001b[0m\u001b[0;34m.\u001b[0m\u001b[0mformat\u001b[0m\u001b[0;34m(\u001b[0m\u001b[0mlanguage\u001b[0m\u001b[0;34m)\u001b[0m\u001b[0;34m)\u001b[0m\u001b[0;34m\u001b[0m\u001b[0;34m\u001b[0m\u001b[0m\n\u001b[0m\u001b[1;32m     95\u001b[0m     \u001b[0;32mreturn\u001b[0m \u001b[0mtokenizer\u001b[0m\u001b[0;34m.\u001b[0m\u001b[0mtokenize\u001b[0m\u001b[0;34m(\u001b[0m\u001b[0mtext\u001b[0m\u001b[0;34m)\u001b[0m\u001b[0;34m\u001b[0m\u001b[0;34m\u001b[0m\u001b[0m\n\u001b[1;32m     96\u001b[0m \u001b[0;34m\u001b[0m\u001b[0m\n",
            "\u001b[0;32m/usr/local/lib/python3.6/dist-packages/nltk/data.py\u001b[0m in \u001b[0;36mload\u001b[0;34m(resource_url, format, cache, verbose, logic_parser, fstruct_reader, encoding)\u001b[0m\n\u001b[1;32m    832\u001b[0m \u001b[0;34m\u001b[0m\u001b[0m\n\u001b[1;32m    833\u001b[0m     \u001b[0;31m# Load the resource.\u001b[0m\u001b[0;34m\u001b[0m\u001b[0;34m\u001b[0m\u001b[0;34m\u001b[0m\u001b[0m\n\u001b[0;32m--> 834\u001b[0;31m     \u001b[0mopened_resource\u001b[0m \u001b[0;34m=\u001b[0m \u001b[0m_open\u001b[0m\u001b[0;34m(\u001b[0m\u001b[0mresource_url\u001b[0m\u001b[0;34m)\u001b[0m\u001b[0;34m\u001b[0m\u001b[0;34m\u001b[0m\u001b[0m\n\u001b[0m\u001b[1;32m    835\u001b[0m \u001b[0;34m\u001b[0m\u001b[0m\n\u001b[1;32m    836\u001b[0m     \u001b[0;32mif\u001b[0m \u001b[0mformat\u001b[0m \u001b[0;34m==\u001b[0m \u001b[0;34m'raw'\u001b[0m\u001b[0;34m:\u001b[0m\u001b[0;34m\u001b[0m\u001b[0;34m\u001b[0m\u001b[0m\n",
            "\u001b[0;32m/usr/local/lib/python3.6/dist-packages/nltk/data.py\u001b[0m in \u001b[0;36m_open\u001b[0;34m(resource_url)\u001b[0m\n\u001b[1;32m    950\u001b[0m \u001b[0;34m\u001b[0m\u001b[0m\n\u001b[1;32m    951\u001b[0m     \u001b[0;32mif\u001b[0m \u001b[0mprotocol\u001b[0m \u001b[0;32mis\u001b[0m \u001b[0;32mNone\u001b[0m \u001b[0;32mor\u001b[0m \u001b[0mprotocol\u001b[0m\u001b[0;34m.\u001b[0m\u001b[0mlower\u001b[0m\u001b[0;34m(\u001b[0m\u001b[0;34m)\u001b[0m \u001b[0;34m==\u001b[0m \u001b[0;34m'nltk'\u001b[0m\u001b[0;34m:\u001b[0m\u001b[0;34m\u001b[0m\u001b[0;34m\u001b[0m\u001b[0m\n\u001b[0;32m--> 952\u001b[0;31m         \u001b[0;32mreturn\u001b[0m \u001b[0mfind\u001b[0m\u001b[0;34m(\u001b[0m\u001b[0mpath_\u001b[0m\u001b[0;34m,\u001b[0m \u001b[0mpath\u001b[0m \u001b[0;34m+\u001b[0m \u001b[0;34m[\u001b[0m\u001b[0;34m''\u001b[0m\u001b[0;34m]\u001b[0m\u001b[0;34m)\u001b[0m\u001b[0;34m.\u001b[0m\u001b[0mopen\u001b[0m\u001b[0;34m(\u001b[0m\u001b[0;34m)\u001b[0m\u001b[0;34m\u001b[0m\u001b[0;34m\u001b[0m\u001b[0m\n\u001b[0m\u001b[1;32m    953\u001b[0m     \u001b[0;32melif\u001b[0m \u001b[0mprotocol\u001b[0m\u001b[0;34m.\u001b[0m\u001b[0mlower\u001b[0m\u001b[0;34m(\u001b[0m\u001b[0;34m)\u001b[0m \u001b[0;34m==\u001b[0m \u001b[0;34m'file'\u001b[0m\u001b[0;34m:\u001b[0m\u001b[0;34m\u001b[0m\u001b[0;34m\u001b[0m\u001b[0m\n\u001b[1;32m    954\u001b[0m         \u001b[0;31m# urllib might not use mode='rb', so handle this one ourselves:\u001b[0m\u001b[0;34m\u001b[0m\u001b[0;34m\u001b[0m\u001b[0;34m\u001b[0m\u001b[0m\n",
            "\u001b[0;32m/usr/local/lib/python3.6/dist-packages/nltk/data.py\u001b[0m in \u001b[0;36mfind\u001b[0;34m(resource_name, paths)\u001b[0m\n\u001b[1;32m    671\u001b[0m     \u001b[0msep\u001b[0m \u001b[0;34m=\u001b[0m \u001b[0;34m'*'\u001b[0m \u001b[0;34m*\u001b[0m \u001b[0;36m70\u001b[0m\u001b[0;34m\u001b[0m\u001b[0;34m\u001b[0m\u001b[0m\n\u001b[1;32m    672\u001b[0m     \u001b[0mresource_not_found\u001b[0m \u001b[0;34m=\u001b[0m \u001b[0;34m'\\n%s\\n%s\\n%s\\n'\u001b[0m \u001b[0;34m%\u001b[0m \u001b[0;34m(\u001b[0m\u001b[0msep\u001b[0m\u001b[0;34m,\u001b[0m \u001b[0mmsg\u001b[0m\u001b[0;34m,\u001b[0m \u001b[0msep\u001b[0m\u001b[0;34m)\u001b[0m\u001b[0;34m\u001b[0m\u001b[0;34m\u001b[0m\u001b[0m\n\u001b[0;32m--> 673\u001b[0;31m     \u001b[0;32mraise\u001b[0m \u001b[0mLookupError\u001b[0m\u001b[0;34m(\u001b[0m\u001b[0mresource_not_found\u001b[0m\u001b[0;34m)\u001b[0m\u001b[0;34m\u001b[0m\u001b[0;34m\u001b[0m\u001b[0m\n\u001b[0m\u001b[1;32m    674\u001b[0m \u001b[0;34m\u001b[0m\u001b[0m\n\u001b[1;32m    675\u001b[0m \u001b[0;34m\u001b[0m\u001b[0m\n",
            "\u001b[0;31mLookupError\u001b[0m: \n**********************************************************************\n  Resource \u001b[93mpunkt\u001b[0m not found.\n  Please use the NLTK Downloader to obtain the resource:\n\n  \u001b[31m>>> import nltk\n  >>> nltk.download('punkt')\n  \u001b[0m\n  Searched in:\n    - '/root/nltk_data'\n    - '/usr/share/nltk_data'\n    - '/usr/local/share/nltk_data'\n    - '/usr/lib/nltk_data'\n    - '/usr/local/lib/nltk_data'\n    - '/usr/nltk_data'\n    - '/usr/lib/nltk_data'\n    - ''\n**********************************************************************\n"
          ]
        }
      ]
    },
    {
      "cell_type": "code",
      "metadata": {
        "id": "6aJeiKfIEV-V",
        "colab_type": "code",
        "colab": {}
      },
      "source": [
        "def preprocess(df):\n",
        "  #lowercase all characters\n",
        "  #remove all symbols\n",
        "  #tokenize the sentence to words\n",
        "  x=re.sub(r'[^\\w]', ' ', df)\n",
        "  word_tokenize1=word_tokenize(re.sub('(\\\\b[A-Za-z] \\\\b|\\\\b [A-Za-z]\\\\b)', '', x).lower())  \n",
        "  #remove the stopwords\n",
        "  filter1=[]\n",
        "  for w in word_tokenize1: \n",
        "        if w not in stop_words: \n",
        "            filter1.append(w)\n",
        "  filtered_full=np.array(filter1)\n",
        "  return np.array(filtered_full)"
      ],
      "execution_count": 0,
      "outputs": []
    },
    {
      "cell_type": "code",
      "metadata": {
        "id": "5xskTvc8ShRG",
        "colab_type": "code",
        "colab": {}
      },
      "source": [
        "filter1=[]\n",
        "for w in word_tokenize(re.sub('(\\\\b[A-Za-z] \\\\b|\\\\b [A-Za-z]\\\\b)', '', x).lower()): \n",
        "      if w not in stop_words: \n",
        "          filter1.append(w)"
      ],
      "execution_count": 0,
      "outputs": []
    },
    {
      "cell_type": "code",
      "metadata": {
        "id": "JjexkrpZUBLM",
        "colab_type": "code",
        "colab": {}
      },
      "source": [
        "y=df_train['user_review'].apply(preprocess)"
      ],
      "execution_count": 0,
      "outputs": []
    },
    {
      "cell_type": "code",
      "metadata": {
        "id": "se2mZokIX4L2",
        "colab_type": "code",
        "outputId": "c7fa6bbf-5917-456b-dbf3-f6d600be72b9",
        "colab": {
          "base_uri": "https://localhost:8080/",
          "height": 221
        }
      },
      "source": [
        "y"
      ],
      "execution_count": 54,
      "outputs": [
        {
          "output_type": "execute_result",
          "data": {
            "text/plain": [
              "0        [scared, hearing, creepy, voices, pause, momen...\n",
              "1        [best, game, better, sam, pepper, youtube, acc...\n",
              "2        [littly, iffy, controls, know, play, easy, mas...\n",
              "3        [great, game, fun, colorful, side, note, thoug...\n",
              "4        [many, games, cute, tag, right, next, horror, ...\n",
              "                               ...                        \n",
              "17489    [arguably, single, greatest, mmorp, exists, to...\n",
              "17490    [older, game, sure, charm, holds, special, pla...\n",
              "17491    [frist, started, playing, everquest, 2, amazin...\n",
              "17492    [cool, game, thing, really, pisses, ridable, t...\n",
              "17493    [game, since, little, kid, always, since, stil...\n",
              "Name: user_review, Length: 17494, dtype: object"
            ]
          },
          "metadata": {
            "tags": []
          },
          "execution_count": 54
        }
      ]
    },
    {
      "cell_type": "code",
      "metadata": {
        "id": "967m_oxWc5Ws",
        "colab_type": "code",
        "outputId": "d9bf4cf1-c719-4fa3-d89f-b47823973cf6",
        "colab": {
          "base_uri": "https://localhost:8080/",
          "height": 54
        }
      },
      "source": [
        "pd.read_csv('/content/gdrive/My Drive/jantahack/NLP jantahack/game_overview.csv').tags[0]"
      ],
      "execution_count": 0,
      "outputs": [
        {
          "output_type": "execute_result",
          "data": {
            "text/plain": [
              "\"['Horror', 'Free to Play', 'Cute', 'First-Person', 'Singleplayer', 'Psychological Horror', 'Indie', 'Adventure', 'Dark', 'Funny', 'Atmospheric', 'Action', 'Walking Simulator', 'Survival', 'Survival Horror', 'Anime', 'Gore', 'Comedy', 'Multiplayer', 'Illuminati']\""
            ]
          },
          "metadata": {
            "tags": []
          },
          "execution_count": 55
        }
      ]
    },
    {
      "cell_type": "code",
      "metadata": {
        "id": "zlCM3q35eyB0",
        "colab_type": "code",
        "colab": {}
      },
      "source": [
        "df_tokenize=pd.DataFrame(df_train,columns=['title'])"
      ],
      "execution_count": 0,
      "outputs": []
    },
    {
      "cell_type": "code",
      "metadata": {
        "id": "UH-nNlzDfSX-",
        "colab_type": "code",
        "outputId": "fe39c3f0-a84e-4526-ed20-8a5f54be69bd",
        "colab": {
          "base_uri": "https://localhost:8080/",
          "height": 34
        }
      },
      "source": [
        "lemmatizer=WordNetLemmatizer()\n",
        "print(lemmatizer.lemmatize('rooms')) "
      ],
      "execution_count": 0,
      "outputs": [
        {
          "output_type": "stream",
          "text": [
            "room\n"
          ],
          "name": "stdout"
        }
      ]
    },
    {
      "cell_type": "code",
      "metadata": {
        "id": "YPjyQS8dhFlQ",
        "colab_type": "code",
        "colab": {}
      },
      "source": [
        "df_tokenize['tokenized']=y"
      ],
      "execution_count": 0,
      "outputs": []
    },
    {
      "cell_type": "code",
      "metadata": {
        "id": "9NJW6B6xld6X",
        "colab_type": "code",
        "outputId": "e4a53dfe-f967-4626-d198-f225686a8b94",
        "colab": {
          "base_uri": "https://localhost:8080/",
          "height": 419
        }
      },
      "source": [
        "df_tokenize"
      ],
      "execution_count": 0,
      "outputs": [
        {
          "output_type": "execute_result",
          "data": {
            "text/html": [
              "<div>\n",
              "<style scoped>\n",
              "    .dataframe tbody tr th:only-of-type {\n",
              "        vertical-align: middle;\n",
              "    }\n",
              "\n",
              "    .dataframe tbody tr th {\n",
              "        vertical-align: top;\n",
              "    }\n",
              "\n",
              "    .dataframe thead th {\n",
              "        text-align: right;\n",
              "    }\n",
              "</style>\n",
              "<table border=\"1\" class=\"dataframe\">\n",
              "  <thead>\n",
              "    <tr style=\"text-align: right;\">\n",
              "      <th></th>\n",
              "      <th>title</th>\n",
              "      <th>tokenized</th>\n",
              "    </tr>\n",
              "  </thead>\n",
              "  <tbody>\n",
              "    <tr>\n",
              "      <th>0</th>\n",
              "      <td>Spooky's Jump Scare Mansion</td>\n",
              "      <td>[scared, hearing, creepy, voices, pause, momen...</td>\n",
              "    </tr>\n",
              "    <tr>\n",
              "      <th>1</th>\n",
              "      <td>Spooky's Jump Scare Mansion</td>\n",
              "      <td>[best, game, better, sam, pepper, youtube, acc...</td>\n",
              "    </tr>\n",
              "    <tr>\n",
              "      <th>2</th>\n",
              "      <td>Spooky's Jump Scare Mansion</td>\n",
              "      <td>[littly, iffy, controls, know, play, easy, mas...</td>\n",
              "    </tr>\n",
              "    <tr>\n",
              "      <th>3</th>\n",
              "      <td>Spooky's Jump Scare Mansion</td>\n",
              "      <td>[great, game, fun, colorful, side, note, thoug...</td>\n",
              "    </tr>\n",
              "    <tr>\n",
              "      <th>4</th>\n",
              "      <td>Spooky's Jump Scare Mansion</td>\n",
              "      <td>[many, games, cute, tag, right, next, horror, ...</td>\n",
              "    </tr>\n",
              "    <tr>\n",
              "      <th>...</th>\n",
              "      <td>...</td>\n",
              "      <td>...</td>\n",
              "    </tr>\n",
              "    <tr>\n",
              "      <th>17489</th>\n",
              "      <td>EverQuest II</td>\n",
              "      <td>[arguably, single, greatest, mmorp, exists, to...</td>\n",
              "    </tr>\n",
              "    <tr>\n",
              "      <th>17490</th>\n",
              "      <td>EverQuest II</td>\n",
              "      <td>[older, game, sure, charm, holds, special, pla...</td>\n",
              "    </tr>\n",
              "    <tr>\n",
              "      <th>17491</th>\n",
              "      <td>EverQuest II</td>\n",
              "      <td>[frist, started, playing, everquest, 2, amazin...</td>\n",
              "    </tr>\n",
              "    <tr>\n",
              "      <th>17492</th>\n",
              "      <td>EverQuest II</td>\n",
              "      <td>[cool, game, thing, really, pisses, ridable, t...</td>\n",
              "    </tr>\n",
              "    <tr>\n",
              "      <th>17493</th>\n",
              "      <td>EverQuest II</td>\n",
              "      <td>[game, since, little, kid, always, since, stil...</td>\n",
              "    </tr>\n",
              "  </tbody>\n",
              "</table>\n",
              "<p>17494 rows × 2 columns</p>\n",
              "</div>"
            ],
            "text/plain": [
              "                             title                                          tokenized\n",
              "0      Spooky's Jump Scare Mansion  [scared, hearing, creepy, voices, pause, momen...\n",
              "1      Spooky's Jump Scare Mansion  [best, game, better, sam, pepper, youtube, acc...\n",
              "2      Spooky's Jump Scare Mansion  [littly, iffy, controls, know, play, easy, mas...\n",
              "3      Spooky's Jump Scare Mansion  [great, game, fun, colorful, side, note, thoug...\n",
              "4      Spooky's Jump Scare Mansion  [many, games, cute, tag, right, next, horror, ...\n",
              "...                            ...                                                ...\n",
              "17489                 EverQuest II  [arguably, single, greatest, mmorp, exists, to...\n",
              "17490                 EverQuest II  [older, game, sure, charm, holds, special, pla...\n",
              "17491                 EverQuest II  [frist, started, playing, everquest, 2, amazin...\n",
              "17492                 EverQuest II  [cool, game, thing, really, pisses, ridable, t...\n",
              "17493                 EverQuest II  [game, since, little, kid, always, since, stil...\n",
              "\n",
              "[17494 rows x 2 columns]"
            ]
          },
          "metadata": {
            "tags": []
          },
          "execution_count": 98
        }
      ]
    },
    {
      "cell_type": "code",
      "metadata": {
        "id": "Sn5Dlofewnxq",
        "colab_type": "code",
        "colab": {}
      },
      "source": [
        "def stemming(df):\n",
        "  ls=[]\n",
        "  ps = PorterStemmer()\n",
        "  for w in df:\n",
        "    ls.append(ps.stem(w))\n",
        "  filtered_full=np.array(ls)\n",
        "  return np.array(filtered_full)"
      ],
      "execution_count": 0,
      "outputs": []
    },
    {
      "cell_type": "code",
      "metadata": {
        "id": "WoCtBHorxliP",
        "colab_type": "code",
        "colab": {}
      },
      "source": [
        "z=df_tokenize.tokenized.apply(stemming)"
      ],
      "execution_count": 0,
      "outputs": []
    },
    {
      "cell_type": "code",
      "metadata": {
        "id": "Z1JoVfpLyAhq",
        "colab_type": "code",
        "outputId": "86f21229-f36d-425f-f979-c0fa2b3f2892",
        "colab": {
          "base_uri": "https://localhost:8080/",
          "height": 221
        }
      },
      "source": [
        "z"
      ],
      "execution_count": 0,
      "outputs": [
        {
          "output_type": "execute_result",
          "data": {
            "text/plain": [
              "0        [scare, hear, creepi, voic, paus, moment, writ...\n",
              "1        [best, game, better, sam, pepper, youtub, acco...\n",
              "2        [littli, iffi, control, know, play, easi, mast...\n",
              "3        [great, game, fun, color, side, note, though, ...\n",
              "4        [mani, game, cute, tag, right, next, horror, t...\n",
              "                               ...                        \n",
              "17489    [arguabl, singl, greatest, mmorp, exist, today...\n",
              "17490    [older, game, sure, charm, hold, special, plac...\n",
              "17491    [frist, start, play, everquest, 2, amaz, still...\n",
              "17492    [cool, game, thing, realli, piss, ridabl, tran...\n",
              "17493    [game, sinc, littl, kid, alway, sinc, still, r...\n",
              "Name: tokenized, Length: 17494, dtype: object"
            ]
          },
          "metadata": {
            "tags": []
          },
          "execution_count": 113
        }
      ]
    },
    {
      "cell_type": "code",
      "metadata": {
        "id": "RNNT8Bl4pe-F",
        "colab_type": "code",
        "outputId": "3e8f42fd-5383-48ed-8063-6929c2ef7972",
        "colab": {
          "base_uri": "https://localhost:8080/",
          "height": 1000
        }
      },
      "source": [
        "ps = PorterStemmer() \n",
        "for w in y[8]: \n",
        "    print(w, \" : \", ps.stem(w))"
      ],
      "execution_count": 0,
      "outputs": [
        {
          "output_type": "stream",
          "text": [
            "somewhere  :  somewhere\n",
            "light  :  light\n",
            "hearted  :  hearted\n",
            "happy  :  happy\n",
            "parody  :  parody\n",
            "afraid  :  afraid\n",
            "dark  :  dark\n",
            "lies  :  lie\n",
            "spooky  :  spooky\n",
            "house  :  house\n",
            "jump  :  jump\n",
            "scares  :  scare\n",
            "tasked  :  tasked\n",
            "daunting  :  daunting\n",
            "duty  :  duty\n",
            "surviving  :  surviving\n",
            "one  :  one\n",
            "thousand  :  thousand\n",
            "rooms  :  room\n",
            "endless  :  endless\n",
            "first  :  first\n",
            "person  :  person\n",
            "perspective  :  perspective\n",
            "runner  :  runner\n",
            "room  :  room\n",
            "seconds  :  second\n",
            "thanks  :  thanks\n",
            "sprint  :  sprint\n",
            "key  :  key\n",
            "fact  :  fact\n",
            "door  :  door\n",
            "counts  :  count\n",
            "new  :  new\n",
            "room  :  room\n",
            "even  :  even\n",
            "one  :  one\n",
            "thousand  :  thousand\n",
            "rooms  :  room\n",
            "still  :  still\n",
            "feat  :  feat\n",
            "tedium  :  tedium\n",
            "needless  :  needle\n",
            "repetition  :  repetition\n",
            "still  :  still\n",
            "things  :  thing\n",
            "every  :  every\n",
            "fifteen  :  fifteen\n",
            "rooms  :  room\n",
            "keep  :  keep\n",
            "interest  :  interest\n",
            "end  :  end\n",
            "fifty  :  fifty\n",
            "rooms  :  room\n",
            "find  :  find\n",
            "save  :  save\n",
            "point  :  point\n",
            "nothing  :  nothing\n",
            "save  :  save\n",
            "permanent  :  permanent\n",
            "death  :  death\n",
            "hands  :  hand\n",
            "foul  :  foul\n",
            "creatures  :  creature\n",
            "live  :  live\n",
            "within  :  within\n",
            "surface  :  surface\n",
            "game  :  game\n",
            "clean  :  clean\n",
            "chipper  :  chipper\n",
            "almost  :  almost\n",
            "cartoon  :  cartoon\n",
            "low  :  low\n",
            "budget  :  budget\n",
            "charm  :  charm\n",
            "jump  :  jump\n",
            "scares  :  scare\n",
            "rare  :  rare\n",
            "first  :  first\n",
            "comes  :  come\n",
            "form  :  form\n",
            "adorable  :  adorable\n",
            "cardboard  :  cardboard\n",
            "cutouts  :  cutout\n",
            "pumpkins  :  pumpkin\n",
            "ghosts  :  ghost\n",
            "skeletons  :  skeleton\n",
            "pop  :  pop\n",
            "wall  :  wall\n",
            "accompanied  :  accompanied\n",
            "sound  :  sound\n",
            "sounds  :  sound\n",
            "silly  :  silly\n",
            "unfitting  :  unfitting\n",
            "times  :  time\n",
            "screeches  :  screech\n",
            "drive  :  drive\n",
            "chills  :  chill\n",
            "spine  :  spine\n",
            "game  :  game\n",
            "excels  :  excels\n",
            "sound  :  sound\n",
            "department  :  department\n",
            "makes  :  make\n",
            "good  :  good\n",
            "use  :  use\n",
            "music  :  music\n",
            "ambient  :  ambient\n",
            "sounds  :  sound\n",
            "foot  :  foot\n",
            "steps  :  step\n",
            "following  :  following\n",
            "delve  :  delve\n",
            "deeper  :  deeper\n",
            "doors  :  door\n",
            "dank  :  dank\n",
            "dungeon  :  dungeon\n",
            "uncover  :  uncover\n",
            "frightening  :  frightening\n",
            "things  :  thing\n",
            "points  :  point\n",
            "intreege  :  intreege\n",
            "plenty  :  plenty\n",
            "written  :  written\n",
            "notes  :  note\n",
            "times  :  time\n",
            "need  :  need\n",
            "search  :  search\n",
            "key  :  key\n",
            "different  :  different\n",
            "room  :  room\n",
            "ninety  :  ninety\n",
            "nine  :  nine\n",
            "percent  :  percent\n",
            "game  :  game\n",
            "leaving  :  leaving\n",
            "rooms  :  room\n",
            "behind  :  behind\n",
            "forever  :  forever\n",
            "themes  :  theme\n",
            "rooms  :  room\n",
            "begin  :  begin\n",
            "change  :  change\n",
            "mundane  :  mundane\n",
            "almost  :  almost\n",
            "wolfenstien  :  wolfenstien\n",
            "3d  :  3d\n",
            "esque  :  esque\n",
            "corridors  :  corridor\n",
            "metal  :  metal\n",
            "asylum  :  asylum\n",
            "rooms  :  room\n",
            "give  :  give\n",
            "flashlight  :  flashlight\n",
            "find  :  find\n",
            "way  :  way\n",
            "purple  :  purple\n",
            "dungeons  :  dungeon\n",
            "green  :  green\n",
            "sewers  :  sewer\n",
            "glowing  :  glowing\n",
            "scum  :  scum\n",
            "rooms  :  room\n",
            "coated  :  coated\n",
            "slime  :  slime\n",
            "slow  :  slow\n",
            "others  :  others\n",
            "holes  :  hole\n",
            "ceiling  :  ceiling\n",
            "give  :  give\n",
            "feeling  :  feeling\n",
            "dread  :  dread\n",
            "something  :  something\n",
            "could  :  could\n",
            "pop  :  pop\n",
            "limited  :  limited\n",
            "amount  :  amount\n",
            "rooms  :  room\n",
            "started  :  started\n",
            "memorize  :  memorize\n",
            "even  :  even\n",
            "game  :  game\n",
            "crescendo  :  crescendo\n",
            "encounters  :  encounter\n",
            "vacant  :  vacant\n",
            "room  :  room\n",
            "walkways  :  walkway\n",
            "way  :  way\n",
            "fall  :  fall\n",
            "dark  :  dark\n",
            "chasms  :  chasm\n",
            "acts  :  act\n",
            "walls  :  wall\n",
            "open  :  open\n",
            "room  :  room\n",
            "get  :  get\n",
            "see  :  see\n",
            "specific  :  specific\n",
            "creature  :  creature\n",
            "might  :  might\n",
            "following  :  following\n",
            "sometimes  :  sometimes\n",
            "float  :  float\n",
            "gaps  :  gap\n",
            "times  :  time\n",
            "stuck  :  stuck\n",
            "trying  :  trying\n",
            "walk  :  walk\n",
            "across  :  across\n",
            "gap  :  gap\n",
            "get  :  get\n",
            "good  :  good\n",
            "look  :  look\n",
            "harmless  :  harmless\n",
            "touch  :  touch\n",
            "three  :  three\n",
            "times  :  time\n",
            "dead  :  dead\n",
            "health  :  health\n",
            "replenish  :  replenish\n",
            "time  :  time\n",
            "big  :  big\n",
            "moments  :  moment\n",
            "rare  :  rare\n",
            "easy  :  easy\n",
            "avoid  :  avoid\n",
            "keep  :  keep\n",
            "running  :  running\n",
            "hope  :  hope\n",
            "locked  :  locked\n",
            "doors  :  door\n",
            "happen  :  happen\n",
            "specific  :  specific\n",
            "rooms  :  room\n",
            "sometimes  :  sometimes\n",
            "rooms  :  room\n",
            "empty  :  empty\n",
            "still  :  still\n",
            "gives  :  give\n",
            "dreadful  :  dreadful\n",
            "feeling  :  feeling\n",
            "tear  :  tear\n",
            "rooms  :  room\n",
            "pretty  :  pretty\n",
            "quick  :  quick\n",
            "350  :  350\n",
            "45  :  45\n",
            "minute  :  minute\n",
            "stamina  :  stamen\n",
            "deplete  :  deplete\n",
            "give  :  give\n",
            "monster  :  monster\n",
            "chance  :  chance\n",
            "catch  :  catch\n",
            "going  :  going\n",
            "door  :  door\n",
            "restores  :  restores\n",
            "run  :  run\n",
            "waiting  :  waiting\n",
            "seconds  :  second\n",
            "replenish  :  replenish\n",
            "stamina  :  stamen\n",
            "longer  :  longer\n",
            "rooms  :  room\n",
            "hav1e  :  hav1e\n",
            "limited  :  limited\n",
            "visibility  :  visibility\n",
            "area  :  area\n",
            "darker  :  darker\n",
            "gets  :  get\n",
            "rooms  :  room\n",
            "good  :  good\n",
            "diversions  :  diversion\n",
            "tricks  :  trick\n",
            "one  :  one\n",
            "turns  :  turn\n",
            "bright  :  bright\n",
            "need  :  need\n",
            "enter  :  enter\n",
            "correct  :  correct\n",
            "combination  :  combination\n",
            "corridors  :  corridor\n",
            "signaled  :  signaled\n",
            "chimes  :  chime\n",
            "see  :  see\n",
            "door  :  door\n",
            "another  :  another\n",
            "room  :  room\n",
            "endless  :  endless\n",
            "darkness  :  darkness\n",
            "torch  :  torch\n",
            "end  :  end\n",
            "revealed  :  revealed\n",
            "torch  :  torch\n",
            "merely  :  merely\n",
            "painted  :  painted\n",
            "black  :  black\n",
            "wall  :  wall\n",
            "times  :  time\n",
            "need  :  need\n",
            "search  :  search\n",
            "adjacent  :  adjacent\n",
            "room  :  room\n",
            "key  :  key\n",
            "one  :  one\n",
            "every  :  every\n",
            "fifty  :  fifty\n",
            "rooms  :  room\n",
            "take  :  take\n",
            "moment  :  moment\n",
            "unwind  :  unwind\n",
            "elevator  :  elevator\n",
            "reminds  :  reminds\n",
            "hang  :  hang\n",
            "coffee  :  coffee\n",
            "break  :  break\n",
            "game  :  game\n",
            "makes  :  make\n",
            "good  :  good\n",
            "balance  :  balance\n",
            "calm  :  calm\n",
            "moments  :  moment\n",
            "tense  :  tense\n",
            "situations  :  situation\n",
            "keeps  :  keep\n",
            "kilter  :  kilter\n",
            "never  :  never\n",
            "expecting  :  expecting\n",
            "anything  :  anything\n",
            "every  :  every\n",
            "two  :  two\n",
            "hundred  :  hundred\n",
            "fifty  :  fifty\n",
            "rooms  :  room\n",
            "offers  :  offer\n",
            "prize  :  prize\n",
            "box  :  box\n",
            "snakes  :  snake\n",
            "jack  :  jack\n",
            "box  :  box\n",
            "note  :  note\n",
            "truth  :  truth\n",
            "told  :  told\n",
            "goal  :  goal\n",
            "oriented  :  oriented\n",
            "video  :  video\n",
            "games  :  game\n",
            "spooky  :  spooky\n",
            "missed  :  missed\n",
            "mark  :  mark\n",
            "cardboard  :  cardboard\n",
            "cutouts  :  cutout\n",
            "get  :  get\n",
            "way  :  way\n",
            "chased  :  chased\n",
            "something  :  something\n",
            "means  :  mean\n",
            "threat  :  threat\n",
            "since  :  since\n",
            "already  :  already\n",
            "behind  :  behind\n",
            "perhaps  :  perhaps\n",
            "later  :  later\n",
            "rooms  :  room\n",
            "gets  :  get\n",
            "difficult  :  difficult\n",
            "easy  :  easy\n",
            "tedium  :  tedium\n",
            "another  :  another\n",
            "room  :  room\n",
            "another  :  another\n",
            "room  :  room\n",
            "another  :  another\n",
            "room  :  room\n",
            "knowing  :  knowing\n",
            "seven  :  seven\n",
            "hundred  :  hundred\n",
            "rooms  :  room\n",
            "another  :  another\n",
            "two  :  two\n",
            "hour  :  hour\n",
            "investment  :  investment\n",
            "endless  :  endless\n",
            "running  :  running\n",
            "turns  :  turn\n",
            "game  :  game\n",
            "grind  :  grind\n",
            "fear  :  fear\n",
            "long  :  long\n",
            "endure  :  endure\n",
            "even  :  even\n",
            "save  :  save\n",
            "points  :  point\n",
            "game  :  game\n",
            "reuses  :  reuses\n",
            "points  :  point\n",
            "interest  :  interest\n",
            "times  :  time\n",
            "since  :  since\n",
            "recycles  :  recycles\n",
            "rooms  :  room\n",
            "another  :  another\n",
            "issue  :  issue\n",
            "game  :  game\n",
            "getting  :  getting\n",
            "stuck  :  stuck\n",
            "edges  :  edge\n",
            "need  :  need\n",
            "push  :  push\n",
            "away  :  away\n",
            "wall  :  wall\n",
            "get  :  get\n",
            "free  :  free\n",
            "turn  :  turn\n",
            "corner  :  corner\n",
            "walls  :  wall\n",
            "gaps  :  gap\n",
            "suppose  :  suppose\n",
            "acceptable  :  acceptable\n",
            "scary  :  scary\n",
            "game  :  game\n",
            "get  :  get\n",
            "chased  :  chased\n",
            "hung  :  hung\n",
            "hang  :  hang\n",
            "ups  :  ups\n",
            "one  :  one\n",
            "interesting  :  interesting\n",
            "thing  :  thing\n",
            "game  :  game\n",
            "stabbing  :  stabbing\n",
            "mini  :  mini\n",
            "game  :  game\n",
            "looks  :  look\n",
            "like  :  like\n",
            "ghost  :  ghost\n",
            "mall  :  mall\n",
            "good  :  good\n",
            "diversion  :  diversion\n",
            "repetition  :  repetition\n",
            "even  :  even\n",
            "computer  :  computer\n",
            "shows  :  show\n",
            "creatures  :  creature\n",
            "house  :  house\n",
            "well  :  well\n",
            "least  :  least\n",
            "best  :  best\n",
            "selling  :  selling\n",
            "point  :  point\n",
            "game  :  game\n",
            "free  :  free\n",
            "means  :  mean\n",
            "make  :  make\n",
            "good  :  good\n",
            "game  :  game\n",
            "makes  :  make\n",
            "easier  :  easier\n",
            "accept  :  accept\n",
            "game  :  game\n",
            "brings  :  brings\n",
            "charm  :  charm\n",
            "tear  :  tear\n",
            "scares  :  scare\n",
            "beyond  :  beyond\n",
            "cheap  :  cheap\n",
            "cardboard  :  cardboard\n",
            "cutouts  :  cutout\n",
            "litter  :  litter\n",
            "hallway  :  hallway\n",
            "every  :  every\n",
            "often  :  often\n",
            "far  :  far\n",
            "repetitive  :  repetitive\n",
            "without  :  without\n",
            "much  :  much\n",
            "dread  :  dread\n",
            "excitement  :  excitement\n"
          ],
          "name": "stdout"
        }
      ]
    },
    {
      "cell_type": "code",
      "metadata": {
        "id": "kcU1FNpLqN5S",
        "colab_type": "code",
        "colab": {}
      },
      "source": [
        "words,count=np.unique(z[8], return_counts=True)"
      ],
      "execution_count": 0,
      "outputs": []
    },
    {
      "cell_type": "code",
      "metadata": {
        "id": "lgyi0GCK0tdS",
        "colab_type": "code",
        "outputId": "545d3751-9de3-49d2-d44d-1fb41c7ba58f",
        "colab": {
          "base_uri": "https://localhost:8080/",
          "height": 34
        }
      },
      "source": [
        "len(words)"
      ],
      "execution_count": 0,
      "outputs": [
        {
          "output_type": "execute_result",
          "data": {
            "text/plain": [
              "295"
            ]
          },
          "metadata": {
            "tags": []
          },
          "execution_count": 120
        }
      ]
    },
    {
      "cell_type": "code",
      "metadata": {
        "id": "__FgCAn71q25",
        "colab_type": "code",
        "colab": {}
      },
      "source": [
        "dic={}\n",
        "for i in range(len(words)):\n",
        "  dic[words[i]]=count[i]"
      ],
      "execution_count": 0,
      "outputs": []
    },
    {
      "cell_type": "code",
      "metadata": {
        "id": "bLeMvYkl192S",
        "colab_type": "code",
        "outputId": "dd07599c-17d7-4048-e9fe-b75187c321cb",
        "colab": {
          "base_uri": "https://localhost:8080/",
          "height": 1000
        }
      },
      "source": [
        "dic"
      ],
      "execution_count": 0,
      "outputs": [
        {
          "output_type": "execute_result",
          "data": {
            "text/plain": [
              "{'350': 1,\n",
              " '3d': 1,\n",
              " '45': 1,\n",
              " 'accept': 2,\n",
              " 'accompani': 1,\n",
              " 'across': 1,\n",
              " 'act': 1,\n",
              " 'adjac': 1,\n",
              " 'ador': 1,\n",
              " 'afraid': 1,\n",
              " 'almost': 2,\n",
              " 'alreadi': 1,\n",
              " 'ambient': 1,\n",
              " 'amount': 1,\n",
              " 'anoth': 6,\n",
              " 'anyth': 1,\n",
              " 'area': 1,\n",
              " 'asylum': 1,\n",
              " 'avoid': 1,\n",
              " 'away': 1,\n",
              " 'balanc': 1,\n",
              " 'begin': 1,\n",
              " 'behind': 2,\n",
              " 'best': 1,\n",
              " 'beyond': 1,\n",
              " 'big': 1,\n",
              " 'black': 1,\n",
              " 'box': 2,\n",
              " 'break': 1,\n",
              " 'bright': 1,\n",
              " 'bring': 1,\n",
              " 'budget': 1,\n",
              " 'calm': 1,\n",
              " 'cardboard': 3,\n",
              " 'cartoon': 1,\n",
              " 'catch': 1,\n",
              " 'ceil': 1,\n",
              " 'chanc': 1,\n",
              " 'chang': 1,\n",
              " 'charm': 2,\n",
              " 'chase': 2,\n",
              " 'chasm': 1,\n",
              " 'cheap': 1,\n",
              " 'chill': 1,\n",
              " 'chime': 1,\n",
              " 'chipper': 1,\n",
              " 'clean': 1,\n",
              " 'coat': 1,\n",
              " 'coffe': 1,\n",
              " 'combin': 1,\n",
              " 'come': 1,\n",
              " 'comput': 1,\n",
              " 'corner': 1,\n",
              " 'correct': 1,\n",
              " 'corridor': 2,\n",
              " 'could': 1,\n",
              " 'count': 1,\n",
              " 'creatur': 3,\n",
              " 'crescendo': 1,\n",
              " 'cutout': 3,\n",
              " 'dank': 1,\n",
              " 'dark': 3,\n",
              " 'darker': 1,\n",
              " 'daunt': 1,\n",
              " 'dead': 1,\n",
              " 'death': 1,\n",
              " 'deeper': 1,\n",
              " 'delv': 1,\n",
              " 'depart': 1,\n",
              " 'deplet': 1,\n",
              " 'differ': 1,\n",
              " 'difficult': 1,\n",
              " 'divers': 2,\n",
              " 'door': 5,\n",
              " 'dread': 3,\n",
              " 'drive': 1,\n",
              " 'dungeon': 2,\n",
              " 'duti': 1,\n",
              " 'easi': 2,\n",
              " 'easier': 1,\n",
              " 'edg': 1,\n",
              " 'elev': 1,\n",
              " 'empti': 1,\n",
              " 'encount': 1,\n",
              " 'end': 2,\n",
              " 'endless': 3,\n",
              " 'endur': 1,\n",
              " 'enter': 1,\n",
              " 'esqu': 1,\n",
              " 'even': 4,\n",
              " 'everi': 4,\n",
              " 'excel': 1,\n",
              " 'excit': 1,\n",
              " 'expect': 1,\n",
              " 'fact': 1,\n",
              " 'fall': 1,\n",
              " 'far': 1,\n",
              " 'fear': 1,\n",
              " 'feat': 1,\n",
              " 'feel': 2,\n",
              " 'fifteen': 1,\n",
              " 'fifti': 3,\n",
              " 'find': 2,\n",
              " 'first': 2,\n",
              " 'flashlight': 1,\n",
              " 'float': 1,\n",
              " 'follow': 2,\n",
              " 'foot': 1,\n",
              " 'forev': 1,\n",
              " 'form': 1,\n",
              " 'foul': 1,\n",
              " 'free': 2,\n",
              " 'frighten': 1,\n",
              " 'game': 15,\n",
              " 'gap': 3,\n",
              " 'get': 8,\n",
              " 'ghost': 2,\n",
              " 'give': 4,\n",
              " 'glow': 1,\n",
              " 'go': 1,\n",
              " 'goal': 1,\n",
              " 'good': 6,\n",
              " 'green': 1,\n",
              " 'grind': 1,\n",
              " 'hallway': 1,\n",
              " 'hand': 1,\n",
              " 'hang': 2,\n",
              " 'happen': 1,\n",
              " 'happi': 1,\n",
              " 'harmless': 1,\n",
              " 'hav1': 1,\n",
              " 'health': 1,\n",
              " 'heart': 1,\n",
              " 'hole': 1,\n",
              " 'hope': 1,\n",
              " 'hour': 1,\n",
              " 'hous': 2,\n",
              " 'hundr': 2,\n",
              " 'hung': 1,\n",
              " 'interest': 3,\n",
              " 'intreeg': 1,\n",
              " 'invest': 1,\n",
              " 'issu': 1,\n",
              " 'jack': 1,\n",
              " 'jump': 2,\n",
              " 'keep': 3,\n",
              " 'key': 3,\n",
              " 'kilter': 1,\n",
              " 'know': 1,\n",
              " 'later': 1,\n",
              " 'least': 1,\n",
              " 'leav': 1,\n",
              " 'lie': 1,\n",
              " 'light': 1,\n",
              " 'like': 1,\n",
              " 'limit': 2,\n",
              " 'litter': 1,\n",
              " 'live': 1,\n",
              " 'lock': 1,\n",
              " 'long': 1,\n",
              " 'longer': 1,\n",
              " 'look': 2,\n",
              " 'low': 1,\n",
              " 'make': 4,\n",
              " 'mall': 1,\n",
              " 'mark': 1,\n",
              " 'mean': 2,\n",
              " 'memor': 1,\n",
              " 'mere': 1,\n",
              " 'metal': 1,\n",
              " 'might': 1,\n",
              " 'mini': 1,\n",
              " 'minut': 1,\n",
              " 'miss': 1,\n",
              " 'moment': 3,\n",
              " 'monster': 1,\n",
              " 'much': 1,\n",
              " 'mundan': 1,\n",
              " 'music': 1,\n",
              " 'need': 4,\n",
              " 'needless': 1,\n",
              " 'never': 1,\n",
              " 'new': 1,\n",
              " 'nine': 1,\n",
              " 'nineti': 1,\n",
              " 'note': 2,\n",
              " 'noth': 1,\n",
              " 'offer': 1,\n",
              " 'often': 1,\n",
              " 'one': 5,\n",
              " 'open': 1,\n",
              " 'orient': 1,\n",
              " 'other': 1,\n",
              " 'paint': 1,\n",
              " 'parodi': 1,\n",
              " 'percent': 1,\n",
              " 'perhap': 1,\n",
              " 'perman': 1,\n",
              " 'person': 1,\n",
              " 'perspect': 1,\n",
              " 'plenti': 1,\n",
              " 'point': 5,\n",
              " 'pop': 2,\n",
              " 'pretti': 1,\n",
              " 'prize': 1,\n",
              " 'pumpkin': 1,\n",
              " 'purpl': 1,\n",
              " 'push': 1,\n",
              " 'quick': 1,\n",
              " 'rare': 2,\n",
              " 'recycl': 1,\n",
              " 'remind': 1,\n",
              " 'repetit': 3,\n",
              " 'replenish': 2,\n",
              " 'restor': 1,\n",
              " 'reus': 1,\n",
              " 'reveal': 1,\n",
              " 'room': 29,\n",
              " 'run': 3,\n",
              " 'runner': 1,\n",
              " 'save': 3,\n",
              " 'scare': 3,\n",
              " 'scari': 1,\n",
              " 'screech': 1,\n",
              " 'scum': 1,\n",
              " 'search': 2,\n",
              " 'second': 2,\n",
              " 'see': 2,\n",
              " 'sell': 1,\n",
              " 'seven': 1,\n",
              " 'sewer': 1,\n",
              " 'show': 1,\n",
              " 'signal': 1,\n",
              " 'silli': 1,\n",
              " 'sinc': 2,\n",
              " 'situat': 1,\n",
              " 'skeleton': 1,\n",
              " 'slime': 1,\n",
              " 'slow': 1,\n",
              " 'snake': 1,\n",
              " 'someth': 2,\n",
              " 'sometim': 2,\n",
              " 'somewher': 1,\n",
              " 'sound': 4,\n",
              " 'specif': 2,\n",
              " 'spine': 1,\n",
              " 'spooki': 2,\n",
              " 'sprint': 1,\n",
              " 'stab': 1,\n",
              " 'stamina': 2,\n",
              " 'start': 1,\n",
              " 'step': 1,\n",
              " 'still': 3,\n",
              " 'stuck': 2,\n",
              " 'suppos': 1,\n",
              " 'surfac': 1,\n",
              " 'surviv': 1,\n",
              " 'take': 1,\n",
              " 'task': 1,\n",
              " 'tear': 2,\n",
              " 'tedium': 2,\n",
              " 'tens': 1,\n",
              " 'thank': 1,\n",
              " 'theme': 1,\n",
              " 'thing': 3,\n",
              " 'thousand': 2,\n",
              " 'threat': 1,\n",
              " 'three': 1,\n",
              " 'time': 7,\n",
              " 'told': 1,\n",
              " 'torch': 2,\n",
              " 'touch': 1,\n",
              " 'tri': 1,\n",
              " 'trick': 1,\n",
              " 'truth': 1,\n",
              " 'turn': 3,\n",
              " 'two': 2,\n",
              " 'uncov': 1,\n",
              " 'unfit': 1,\n",
              " 'unwind': 1,\n",
              " 'up': 1,\n",
              " 'use': 1,\n",
              " 'vacant': 1,\n",
              " 'video': 1,\n",
              " 'visibl': 1,\n",
              " 'wait': 1,\n",
              " 'walk': 1,\n",
              " 'walkway': 1,\n",
              " 'wall': 5,\n",
              " 'way': 3,\n",
              " 'well': 1,\n",
              " 'within': 1,\n",
              " 'without': 1,\n",
              " 'wolfenstien': 1,\n",
              " 'written': 1}"
            ]
          },
          "metadata": {
            "tags": []
          },
          "execution_count": 129
        }
      ]
    },
    {
      "cell_type": "code",
      "metadata": {
        "id": "WeVb5kRt2G5y",
        "colab_type": "code",
        "outputId": "2e35e40a-ad30-41c3-9b36-a3efa0465398",
        "colab": {
          "base_uri": "https://localhost:8080/",
          "height": 54
        }
      },
      "source": [
        "print(df_train.iloc[8].user_review)"
      ],
      "execution_count": 0,
      "outputs": [
        {
          "output_type": "stream",
          "text": [
            "Somewhere between light hearted, happy parody and being afraid of the dark lies Spooky's House of Jump Scares. You are tasked with the daunting duty of surviving one thousand rooms in this endless first person perspective runner. Each room is no more than a few seconds thanks to a sprint key and the fact that each door counts as a new room. Even then one thousand rooms is still a feat against tedium and needless repetition. There are still things every fifteen or so rooms to keep your interest and at the end of fifty rooms you'll find a save point, but nothing can save you from permanent death at the hands of the foul creatures that live within.On the surface the game has a clean, chipper almost cartoon low budget charm to it. Jump scares are rare and at first it comes in the form of adorable cardboard cutouts of pumpkins, ghosts and skeletons that pop out of the wall accompanied by a sound. Some of the sounds are silly and unfitting other times its screeches to drive chills down your spine. The game excels in the sound department and makes good use of music, ambient sounds and foot steps following you.As you delve deeper through the doors of this dank dungeon, you'll uncover more frightening things and points of intreege. There are plenty of written notes here and there. A few times you'll need to search for a key in a different room, but the other ninety-nine percent of the game is leaving rooms behind forever.The themes of the rooms begin to change from the mundane almost Wolfenstien 3D-esque corridors to metal asylum rooms that give you a flashlight to find your way through. There are purple dungeons, green sewers with glowing scum. Some rooms are coated with slime to slow you own while others have holes in the ceiling as if to give you a feeling of dread that something could pop out.There are a limited amount of rooms and I started to memorize them all. Even the game's crescendo encounters in a vacant room with walkways. There's no way to fall into the dark chasms, it acts as if they were walls, but with this open room you get to see a specific creature that might be following you. Sometimes they can float over the gaps, other times they're stuck trying to walk at you from across the gap so you can get a good look at them when they're harmless.If they touch you three or so times you're dead. You have health that does replenish over time and these big moments are rare and easy to avoid. Just keep running and hope there are no locked doors! They only happen in specific rooms and sometimes the rooms are empty, but it still gives that dreadful feeling.You can tear through these rooms pretty quick about 350 of them in a 45 minute. Your stamina will deplete to give a monster the chance to catch you, but going through a door restores your will to run. Other than that waiting a few seconds will replenish your stamina. Longer rooms hav1e limited visibility. The further out an area is the darker it gets.A few rooms have good diversions or tricks to them. Such as one that turns bright and you need to enter the correct combination of corridors signaled by chimes until you can see the door. Another room is endless darkness with a torch at the end, until its revealed that the torch is merely painted on a black wall. A few times you'll need to search an adjacent room for a key to the one you're in.Every fifty rooms, you take a moment to unwind in an elevator that reminds you to hang in there or have a coffee break. The game makes a good balance of calm moments for each of the few tense situations. Its what keeps you off kilter and never expecting anything. Every two hundred and fifty rooms offers a prize to you. What's in the box? Is it snakes? Is it a jack-in-the-box or is it a note?Truth be told I'm very goal oriented with video games and so Spooky missed its mark for me. The cardboard cutouts get in the way. Being chased by something means that it was no threat since it was already behind me. Perhaps in later rooms it gets more difficult, but this is just easy tedium.  Another room, another room, another room. Then knowing I have seven hundred more rooms and another two hour investment of endless running turns the game into a grind. There's no fear and its too long to endure even with save points. The game reuses its points of interest a few times since it recycles rooms.Another issue I have with the game is getting stuck on edges where I need to push away from a wall to get free and turn a corner. Its more than walls, its on the gaps too. I suppose this is acceptable for a scary game where you get chased, but I'm hung up on these hang ups.One interesting thing the game does have is a stabbing mini game where it looks like you're a ghost in a mall. Its a good diversion from the repetition. There's even a computer that shows you all the creatures in the house. Well most of them at least.The best selling point this game has is that its free. By no means does that make this a good game, but it makes it easier to accept. Its a game that brings you up with charm to tear you down with scares beyond the cheap cardboard cutouts that can litter a hallway every so often. Its just far too repetitive without that much dread or excitement.\n"
          ],
          "name": "stdout"
        }
      ]
    },
    {
      "cell_type": "markdown",
      "metadata": {
        "id": "b9iYjzKP3nov",
        "colab_type": "text"
      },
      "source": [
        ""
      ]
    },
    {
      "cell_type": "markdown",
      "metadata": {
        "id": "uPaEMahBWpNh",
        "colab_type": "text"
      },
      "source": [
        "other way approach"
      ]
    },
    {
      "cell_type": "code",
      "metadata": {
        "id": "Q62rWKi840pA",
        "colab_type": "code",
        "colab": {}
      },
      "source": [
        "from textblob import TextBlob"
      ],
      "execution_count": 0,
      "outputs": []
    },
    {
      "cell_type": "code",
      "metadata": {
        "id": "I3CT5xcWWzyB",
        "colab_type": "code",
        "colab": {}
      },
      "source": [
        "df_pos=df_train[df_train['user_suggestion']==1]['user_review']\n",
        "df_neg=df_train[df_train['user_suggestion']==0]['user_review']"
      ],
      "execution_count": 0,
      "outputs": []
    },
    {
      "cell_type": "code",
      "metadata": {
        "id": "YvzC3772W50K",
        "colab_type": "code",
        "outputId": "15a36e35-0fb6-4317-bc2f-7112ddf78c02",
        "colab": {
          "base_uri": "https://localhost:8080/",
          "height": 34
        }
      },
      "source": [
        "TextBlob(\"  So I'll pause for a moment and write a review while I wait for my heart beat to return to atleast somewhat calmer times.\").sentiment\n"
      ],
      "execution_count": 42,
      "outputs": [
        {
          "output_type": "execute_result",
          "data": {
            "text/plain": [
              "Sentiment(polarity=0.0, subjectivity=0.0)"
            ]
          },
          "metadata": {
            "tags": []
          },
          "execution_count": 42
        }
      ]
    },
    {
      "cell_type": "code",
      "metadata": {
        "id": "Z3w0gfL9XiAs",
        "colab_type": "code",
        "outputId": "bac5527a-b8fd-448d-d518-27fbd8f77ef1",
        "colab": {
          "base_uri": "https://localhost:8080/",
          "height": 54
        }
      },
      "source": [
        "df_pos[0]"
      ],
      "execution_count": 27,
      "outputs": [
        {
          "output_type": "execute_result",
          "data": {
            "text/plain": [
              "\"I'm scared and hearing creepy voices.  So I'll pause for a moment and write a review while I wait for my heart beat to return to atleast somewhat calmer times.  This game is adorable and creepy like my happy tree friends but with the graphics sceme of my childhood (but more bubble and 'clean').  Hello 1990's.What charactes there are (that isnot trying to kill me) were likable and a bit odd.  I did do a few noob things though, such as:Oh look a class room full of ghosts from dead children, lets shine my flashlight on them and stand there staring at them..Or, hmm creepy music, I'll turn around and see if I can see what's chasing me.Never before in a game have I been this afraid of finding a locked door.\""
            ]
          },
          "metadata": {
            "tags": []
          },
          "execution_count": 27
        }
      ]
    },
    {
      "cell_type": "code",
      "metadata": {
        "id": "c3OA1RqkYYE8",
        "colab_type": "code",
        "colab": {}
      },
      "source": [
        "def sent_tok(df):\n",
        "  return(sent_tokenize(df))"
      ],
      "execution_count": 0,
      "outputs": []
    },
    {
      "cell_type": "code",
      "metadata": {
        "id": "fakTa04waQF-",
        "colab_type": "code",
        "colab": {}
      },
      "source": [
        "y=df_pos.apply(sent_tok)"
      ],
      "execution_count": 0,
      "outputs": []
    },
    {
      "cell_type": "code",
      "metadata": {
        "id": "CZJVo0okaVX-",
        "colab_type": "code",
        "outputId": "95089575-be38-4f8c-aabb-d64cc798ab2e",
        "colab": {
          "base_uri": "https://localhost:8080/",
          "height": 51
        }
      },
      "source": [
        "nltk.download('punkt')\n",
        "from tqdm import tqdm_notebook as tqdm"
      ],
      "execution_count": 29,
      "outputs": [
        {
          "output_type": "stream",
          "text": [
            "[nltk_data] Downloading package punkt to /root/nltk_data...\n",
            "[nltk_data]   Package punkt is already up-to-date!\n"
          ],
          "name": "stdout"
        }
      ]
    },
    {
      "cell_type": "code",
      "metadata": {
        "id": "OQqxq0_eaYSW",
        "colab_type": "code",
        "colab": {
          "base_uri": "https://localhost:8080/",
          "height": 54
        },
        "outputId": "fd4e618b-a553-4e07-8b47-7e608beba5a7"
      },
      "source": [
        "'''def sent_ana(df):\n",
        "  length=len(df)\n",
        "  sent_pol=0\n",
        "  sent_sub=0\n",
        "  for x in tqdm(df):\n",
        "    sent_pol+=TextBlob(x).sentiment.polarity\n",
        "    sent_sub+=TextBlob(x).sentiment.subjectivity\n",
        "  sent_pol=sent_pol/length\n",
        "  sent_sub=sent_sub/length\n",
        "  return(sent_pol,sent_sub)'''\n"
      ],
      "execution_count": 30,
      "outputs": [
        {
          "output_type": "execute_result",
          "data": {
            "text/plain": [
              "'def sent_ana(df):\\n  length=len(df)\\n  sent_pol=0\\n  sent_sub=0\\n  for x in tqdm(df):\\n    sent_pol+=TextBlob(x).sentiment.polarity\\n    sent_sub+=TextBlob(x).sentiment.subjectivity\\n  sent_pol=sent_pol/length\\n  sent_sub=sent_sub/length\\n  return(sent_pol,sent_sub)'"
            ]
          },
          "metadata": {
            "tags": []
          },
          "execution_count": 30
        }
      ]
    },
    {
      "cell_type": "code",
      "metadata": {
        "id": "IMHdAKYucLKE",
        "colab_type": "code",
        "outputId": "351f7430-af81-4c35-a274-f19d87e5e824",
        "colab": {
          "base_uri": "https://localhost:8080/",
          "height": 221
        }
      },
      "source": [
        "df_pos"
      ],
      "execution_count": 46,
      "outputs": [
        {
          "output_type": "execute_result",
          "data": {
            "text/plain": [
              "0        I'm scared and hearing creepy voices.  So I'll...\n",
              "1        Best game, more better than Sam Pepper's YouTu...\n",
              "2        A littly iffy on the controls, but once you kn...\n",
              "3        Great game, fun and colorful and all that.A si...\n",
              "4        Not many games have the cute tag right next to...\n",
              "                               ...                        \n",
              "17489    Arguably the single greatest mmorp that exists...\n",
              "17490    An older game, to be sure, but has its own cha...\n",
              "17491    When I frist started playing Everquest 2 it wa...\n",
              "17492    cool game. THe only thing that REALLY PISSES M...\n",
              "17493    this game since I was a little kid, always hav...\n",
              "Name: user_review, Length: 9968, dtype: object"
            ]
          },
          "metadata": {
            "tags": []
          },
          "execution_count": 46
        }
      ]
    },
    {
      "cell_type": "code",
      "metadata": {
        "id": "RJS6zAqlJlXg",
        "colab_type": "code",
        "colab": {}
      },
      "source": [
        "def sent_ana(df):\n",
        "  sentiment=TextBlob(df).sentiment.polarity\n",
        "  return(sentiment)\n"
      ],
      "execution_count": 0,
      "outputs": []
    },
    {
      "cell_type": "code",
      "metadata": {
        "id": "xmgSA4DjcBUP",
        "colab_type": "code",
        "colab": {}
      },
      "source": [
        ""
      ],
      "execution_count": 0,
      "outputs": []
    },
    {
      "cell_type": "code",
      "metadata": {
        "id": "1MpuRNvaaSSa",
        "colab_type": "code",
        "colab": {}
      },
      "source": [
        "## from the above method we found the wrong analysis"
      ],
      "execution_count": 0,
      "outputs": []
    },
    {
      "cell_type": "code",
      "metadata": {
        "id": "WhvjmpZkaKdf",
        "colab_type": "code",
        "colab": {}
      },
      "source": [
        "y=df_pos.apply(preprocess)"
      ],
      "execution_count": 0,
      "outputs": []
    },
    {
      "cell_type": "code",
      "metadata": {
        "id": "kYtuZtdqaevS",
        "colab_type": "code",
        "colab": {
          "base_uri": "https://localhost:8080/",
          "height": 221
        },
        "outputId": "a3e390a9-962a-4fb7-a1bc-fbfbea37d082"
      },
      "source": [
        "z=y.apply(stemming)\n",
        "z"
      ],
      "execution_count": 62,
      "outputs": [
        {
          "output_type": "execute_result",
          "data": {
            "text/plain": [
              "0        [scare, hear, creepi, voic, paus, moment, writ...\n",
              "1        [best, game, better, sam, pepper, youtub, acco...\n",
              "2        [littli, iffi, control, know, play, easi, mast...\n",
              "3        [great, game, fun, color, side, note, though, ...\n",
              "4        [mani, game, cute, tag, right, next, horror, t...\n",
              "                               ...                        \n",
              "17489    [arguabl, singl, greatest, mmorp, exist, today...\n",
              "17490    [older, game, sure, charm, hold, special, plac...\n",
              "17491    [frist, start, play, everquest, 2, amaz, still...\n",
              "17492    [cool, game, thing, realli, piss, ridabl, tran...\n",
              "17493    [game, sinc, littl, kid, alway, sinc, still, r...\n",
              "Name: user_review, Length: 9968, dtype: object"
            ]
          },
          "metadata": {
            "tags": []
          },
          "execution_count": 62
        }
      ]
    },
    {
      "cell_type": "code",
      "metadata": {
        "id": "1uRmwutTeHwJ",
        "colab_type": "code",
        "colab": {
          "base_uri": "https://localhost:8080/",
          "height": 187
        },
        "outputId": "31f13510-a3fb-4a4f-cc54-f204af570578"
      },
      "source": [
        ""
      ],
      "execution_count": 63,
      "outputs": [
        {
          "output_type": "execute_result",
          "data": {
            "text/plain": [
              "array(['scare', 'hear', 'creepi', 'voic', 'paus', 'moment', 'write',\n",
              "       'review', 'wait', 'heart', 'beat', 'return', 'atleast', 'somewhat',\n",
              "       'calmer', 'time', 'game', 'ador', 'creepi', 'like', 'happi',\n",
              "       'tree', 'friend', 'graphic', 'sceme', 'childhood', 'bubbl',\n",
              "       'clean', 'hello', '1990', 'charact', 'isnot', 'tri', 'kill',\n",
              "       'likabl', 'bit', 'odd', 'noob', 'thing', 'though', 'oh', 'look',\n",
              "       'class', 'room', 'full', 'ghost', 'dead', 'children', 'let',\n",
              "       'shine', 'flashlight', 'stand', 'stare', 'hmm', 'creepi', 'music',\n",
              "       'turn', 'around', 'see', 'see', 'chase', 'never', 'game', 'afraid',\n",
              "       'find', 'lock', 'door'], dtype='<U10')"
            ]
          },
          "metadata": {
            "tags": []
          },
          "execution_count": 63
        }
      ]
    },
    {
      "cell_type": "markdown",
      "metadata": {
        "id": "uAyXWp7cc6LY",
        "colab_type": "text"
      },
      "source": [
        "N-Gram"
      ]
    },
    {
      "cell_type": "code",
      "metadata": {
        "id": "593P1JLDa_4o",
        "colab_type": "code",
        "colab": {
          "base_uri": "https://localhost:8080/",
          "height": 884
        },
        "outputId": "efd1ac47-6e32-4c1d-f1d5-5ec9f65ed15d"
      },
      "source": [
        "from sklearn.feature_extraction.text import CountVectorizer\n",
        "\n",
        "stemmer = PorterStemmer()\n",
        "analyzer = CountVectorizer().build_analyzer()\n",
        "\n",
        "def stemmed_words(doc):\n",
        "    return (stemmer.stem(w) for w in analyzer(doc))\n",
        "\n",
        "stem_vectorizer = CountVectorizer(stop_words='english',analyzer=stemmed_words)\n",
        "print(stem_vectorizer.fit_transform(df_pos))\n",
        "print(stem_vectorizer.get_feature_names())"
      ],
      "execution_count": 67,
      "outputs": [
        {
          "output_type": "stream",
          "text": [
            "  (0, 21252)\t1\n",
            "  (0, 2382)\t7\n",
            "  (0, 11738)\t1\n",
            "  (0, 6256)\t3\n",
            "  (0, 26140)\t1\n",
            "  (0, 22370)\t1\n",
            "  (0, 14375)\t2\n",
            "  (0, 17668)\t1\n",
            "  (0, 9754)\t2\n",
            "  (0, 15785)\t1\n",
            "  (0, 26981)\t1\n",
            "  (0, 20150)\t1\n",
            "  (0, 26596)\t1\n",
            "  (0, 26260)\t1\n",
            "  (0, 16134)\t4\n",
            "  (0, 11742)\t1\n",
            "  (0, 3558)\t1\n",
            "  (0, 24592)\t3\n",
            "  (0, 20128)\t1\n",
            "  (0, 2967)\t1\n",
            "  (0, 22472)\t1\n",
            "  (0, 4619)\t1\n",
            "  (0, 24500)\t1\n",
            "  (0, 24295)\t2\n",
            "  (0, 10324)\t2\n",
            "  :\t:\n",
            "  (9967, 9559)\t1\n",
            "  (9967, 3240)\t1\n",
            "  (9967, 22014)\t2\n",
            "  (9967, 23119)\t1\n",
            "  (9967, 14357)\t1\n",
            "  (9967, 24664)\t1\n",
            "  (9967, 24374)\t1\n",
            "  (9967, 26713)\t1\n",
            "  (9967, 2257)\t1\n",
            "  (9967, 16189)\t1\n",
            "  (9967, 21447)\t1\n",
            "  (9967, 16645)\t1\n",
            "  (9967, 8765)\t1\n",
            "  (9967, 13684)\t1\n",
            "  (9967, 23565)\t1\n",
            "  (9967, 14244)\t1\n",
            "  (9967, 2526)\t1\n",
            "  (9967, 5994)\t1\n",
            "  (9967, 27151)\t2\n",
            "  (9967, 6660)\t1\n",
            "  (9967, 14444)\t1\n",
            "  (9967, 19914)\t1\n",
            "  (9967, 14385)\t1\n",
            "  (9967, 8123)\t1\n",
            "  (9967, 27400)\t1\n"
          ],
          "name": "stdout"
        }
      ]
    },
    {
      "cell_type": "code",
      "metadata": {
        "id": "y76Q4OlBeLgf",
        "colab_type": "code",
        "colab": {
          "base_uri": "https://localhost:8080/",
          "height": 54
        },
        "outputId": "74d1bf2b-536f-4f36-bf7c-2cabdab6fb35"
      },
      "source": [
        "print(stem_vectorizer.get_feature_names())"
      ],
      "execution_count": 68,
      "outputs": [
        {
          "output_type": "stream",
          "text": [
            "['00', '000', '00001', '0001', '0002', '000a65ba', '000hr', '000th', '001', '008', '00gbsystem', '00th', '01', '02', '0263', '03', '033fdcd0', '04', '040', '04vivbpkej', '05', '056716ehepk', '06', '07', '07b4sbjlpzk', '08', '0815', '09', '0900', '09_135008', '0a', '0a9e', '0a9e372d3b4ad19135b953a78882e789', '0a9e372d3b4ad19135b953a78882e789read', '0box', '0but', '0death', '0enjoy', '0final', '0funfactor', '0i', '0last', '0physic', '0s', '0soundfx', '0ther', '0threat', '0ti', '0time', '0x0409if', '10', '100', '1000', '10000', '1000000', '10000000', '100000000000000', '100000000000000000000000000', '100000000000000000000000000000000000000000000000000000000000000000000000000000000000000', '10000000000000000000000000000000000000000000000000000000000000000000000000000000000000000000000000000000000000000000', '100000000x', '10000x', '100050352405802439683409654', '1000em', '1000gun', '1000h', '1000m', '1000th', '1000x', '1001', '1004', '100addict', '100hour', '100hr', '100i', '100join', '100k', '100m', '100not', '100ping', '100th', '100that', '100thing', '100time', '100v100', '100x', '100â', '101', '1010', '1015', '101step', '102', '1021', '1028x1028', '103', '1030', '1032', '104', '104288', '104th', '105', '1050', '1050ti', '1057', '105k', '106', '1060', '106016gb', '1060ti', '1066', '107', '1070', '1070ti', '108', '1080', '10800', '108016', '1080p', '1080ti', '109', '10a', '10about', '10access', '10action', '10add', '10addict', '10addit', '10addon', '10after', '10also', '10and', '10art', '10audio', '10banthu', '10best', '10better', '10both', '10bug', '10buy', '10c', '10camera', '10car', '10cash', '10ch', '10charact', '10cheer', '10cm³', '10color', '10commun', '10conclus', '10construct', '10content', '10control', '10could', '10cuisn', '10current', '10custom', '10design', '10dialogu', '10dispers', '10dota', '10dota2', '10dungeon', '10e', '10edit', '10elsword', '10even', '10everi', '10fantast', '10final', '10for', '10fp', '10fr', '10freedom', '10fun', '10funni', '10game', '10gameplay', '10ghost', '10graphic', '10grim', '10group', '10h', '10helpless', '10horror', '10hp', '10hr', '10i', '10idea', '10if', '10immers', '10it', '10joe', '10jp', '10k', '10last', '10learn', '10level', '10like', '10long', '10look', '10m', '10map', '10mechan', '10minutesa', '10monet', '10music', '10must', '10neverwint', '10nm', '10normal', '10not', '10note', '10now', '10oh', '10on', '10one', '10optim', '10over', '10overal', '10p', '10pay', '10physic', '10playstyl', '10pm', '10pretti', '10price', '10pro', '10pubg', '10pvp', '10qualiti', '10r', '10re', '10reach', '10realism', '10reason', '10reflect', '10replay', '10review', '10rpg', '10russ', '10sec', '10sidenot', '10sign', '10simpl', '10some', '10sound', '10special', '10speed', '10steam', '10stori', '10t', '10tbh', '10th', '10thank', '10that', '10the', '10there', '10thi', '10titan', '10total', '10track', '10tri', '10umm', '10updat', '10usd', '10user', '10v10', '10veri', '10video', '10visual', '10voic', '10weaponri', '10what', '10wheel', '10whi', '10will', '10world', '10would', '10x', '10ye', '10yo', '10you', '11', '110', '1100', '111', '1111', '111111111111111111111111111111111111111111111111111111111111111111111111111111111111111111111111', '1111111i', '11112', '111oneb00b135', '112', '1124', '114', '115', '115001876905', '118', '119', '11and', '11e8', '11gig', '11hide', '11minecraft', '11th', '11would', '12', '120', '1200', '120fp', '120hr', '120hz', '120mil', '120mm', '1212312313123123123135434457234133623', '122mm', '123', '124', '125', '1250', '126', '128', '128mb', '12938479132874', '12after', '12ga', '12gb', '12hour', '12mil', '12th', '12â¾', '13', '130', '1300', '130current', '130hr', '131', '132', '1333mhz', '1337', '134', '1345', '134k', '1350', '1366x768', '138fp', '13a', '13cad', '13yr', '14', '140', '1400', '14000', '140k', '1415926535897932384626433832795028841971693993751058209749445923078164062862089986280348253421170679821480865132823066470938446095505822317253594081284811174502841027019385211055596446229489549303819644288109756659334461284756482337867831652712019091456485669234603486104543266482133936072602491412737245870066063155881748815209209628292540917153643678925903600113305305488204665213841469519415116094330572703657595919530921861173819326117931051185480744623799627495673518857527248912279381830119491298336733624406566430860213949463952247371907021798609437027705392171762931767523846748184676694051320005681271452635608277857713427577896091736371787214684409012249534301465495853710507922796892589235420199561121290219608640344181598136297747713099605187072113499999983729780499510597317328160963185950244594553469083026425223082533446850352619311881710100031378387528865875332083814206171776691473035982534904287554687311595628638823537875937519577818577805321712268066130019278766111959092164201989380952572010654858632788659361533818279682303019520353018529689957736225994138912497217752834791315155748572424541506959508295331168617278558890750983817546374649393192550604009277016711390098488240128583616035637076601047101819429555961989467678374494482553797747268471040475346462080466842590694912933136770289891521047521620569660240580381501935112533824300355876402474964732639141992726042699227967823547816360093417216412199245863150302861829745557067498385054945885869269956909272107975093029553211653449872027559602364806654991198818347977535663698074265425278625518184175746728909777727938000816470600161452491921732172147723501414419735685481613611573525521334757418494684385233239073941433345477624168625189835694855620992192221842725502542568876717904946016534668049886272327917860857843838279679766814541009538837863609506800642251252051173929848960841284886269456042419652850222106611863067442786220391949450471237137869609563643719172874677646575739624138908658326459958133904780275900994657640789512694683983525957098258226205224894077267194782684826014769909026401363944374553050682034962524517493996514314298091906592509372216964615157098583874105978859597729754989301617539284681382686838689427741559918559252459539594310499725246808459872736446958486538367362226260991246080512438843904512441365497627807977156914359977001296160894416948685558484063534220722258284886481584560285060168427394522674676788952521385225499546667278239864565961163548862305774564980355936345681743241125150760694794510965960940252288797108931456691368672287489405601015033086179286809208747609178249385890097149096759852613655497818931297848216829989487226588048575640142704775551323796414515237462343645428584447952658678210511413547357395231134271661021359695362314429524849371871101457654035902799344037420073105785390621983874478084784896833214457138687519435064302184531910484810053706146806749192781911979399520614196634287544406437451237181921799983910159195618146751426912397489409071864942319615679452080951465502252316038819301420937621378559566389377870830390697920773467221825625996615014215030680384477345492026054146659252014974428507325186660021324340881907104863317346496514539057962685610055081066587969981635747363840525714591028970641401109712062804390397595156771577004203378699360072305587631763594218731251471205329281918261861258673215791984148488291644706095752706957220917567116722910981690915280173506712748583222871835209353965725121083579151369882091444210067510334671103141267111369908658516398315019701651511685171437657618351556508849099898599823873455283316355076479185358932261854896321329330898570642046752590709154814165498594616371802709819943099244889575712828905923233260972997120844335732654893823911932597463667305836041428138830320382490375898524374417029132765618093773444030707469211201913020330380197621101100449293215160842444859637669838952286847831235526582131449576857262433441893039686426243410773226978028073189154411010446823252716201052652272111660396665573092547110557853763466820653109896526918620564769312570586356620185581007293606598764861179104533488503461136576867532494416680396265797877185560845529654126654085306143444318586769751456614068007002378776591344017127494704205622305389945613140711270004078547332699390814546646458807972708266830634328587856983052358089330657574067954571637752542021149557615814002501262285941302164715509792592309907965473761255176567513575178296664547791745011299614890304639947132962107340437518957359614589019389713111790429782856475032031986915140287080859904801094121472213179476477726224142548545403321571853061422881375850430633217518297986622371721591607716692547487389866549494501146540628433663937900397692656721463853067360965712091807638327166416274888800786925602902284721040317211860820419000422966171196377921337575114959501566049631862947265473642523081770367515906735023507283540567040386743513622224771589150495309844489333096340878076932599397805419341447377441842631298608099888687413260472156951623965864573021631598193195167353812974167729478672422924654366800980676928238280689964004824354037014163149658979409243237896907069779422362508221688957383798623001593776471651228935786015881617557829735233446042815126272037343146531977774160319906655418763979293344195215413418994854447345673831624993419131814809277771038638773431772075456545322077709212019051660962804909263601975988281613323166636528619326686336062735676303544776280350450777235547105859548702790814356240145171806246436267945612753181340783303362542327839449753824372058353114771199260638133467768796959703098339130771098704085913374641442822772634659470474587847787201927715280731767907707157213444730605700733492436931138350493163128404251219256517980694113528013147013047816437885185', '144', '1440', '1440p', '14454123', '144hz', '144hzcon', '144mhz', '145', '145hr', '146', '1472', '14a', '14hr', '15', '150', '1500', '15000', '1500m', '150fp', '150k', '150mm', '150not', '150v150', '151', '152', '152mm', '154', '155', '157', '157xehrh898', '158754458major', '159', '159prop', '15bi', '15c', '15con', '15day', '15h', '15hr', '15k', '15mg', '15min', '15minut', '15sec', '15still', '15th', '15v15', '16', '160', '1600', '1600hour', '1600mhz', '160h', '160p', '163', '165', '16570', '167785751a', '16854972', '169', '1694917906659544622', '16ada2154032', '16duelyst', '16fractur', '16gb', '16h', '16hr', '16k', '16the', '16x16', '17', '170', '1700', '1700x', '171128end', '17134', '172xp', '173', '175', '176107812', '17hr', '17th', '18', '180', '1800', '182', '185', '1866', '1887', '189', '18c', '18e', '18gb', '18k', '18scan', '18syou', '18x', '19', '190', '1900', '190d', '1911', '1920', '1920x1080', '1924629', '193', '1938', '194', '1940wn8', '1941', '1942', '1943', '1944', '1946', '1950', '1952', '1956', '1960', '1963', '1970', '1976', '1978', '1980', '1982', '1983', '1987', '1989http', '1989tiananmen', '1990', '1992', '1993', '1995', '1996', '1997', '1998', '1999', '19th', '1caqwo', '1cook', '1equla', '1f2p', '1g', '1gameplay2development3reception4references5extern', '1gb', '1h', '1hit', '1hp', '1hr', '1ing', '1k', '1kg', '1km', '1kmmr', '1loadout', '1m', '1mill', '1moba', '1no', '1non', '1now', '1onein', '1p', '1ramzezz1', '1s', '1sec', '1shot', '1st', '1stun', '1tech', '1there', '1tripl', '1v1', '1v18', '1v1er', '1v2', '1v3', '1v5', '1v7', '1witch', '1x', '1x1', '1year', '1yr', '1yxurliukwtaphgzdzzhf', '1ゲームがすぐ終わるskirmishルールの戦場でクレジットを稼ぐのが良いでしょう', '1에', '20', '200', '2000', '20000m', '2000c', '2000em', '2000hr', '2001', '2002', '2003', '2004', '2005', '2006', '2007', '2008', '2009', '200em', '200g', '200h', '200hand', '200hour', '200k', '200m', '200mb', '200mil', '200mph', '200ping', '200th', '200usd', '200x10', '200x256', '200руб', '2010', '2010team', '2010wang', '2011', '2012', '2013', '2013after', '2014', '2014g', '2014г', '2015', '2015fat', '2015step', '2015strang', '2015the', '2016', '20160927', '2016after', '2016i', '2016thi', '2017', '2017i', '2017meme', '2017protip', '2017score', '2018', '2018con', '2018edit', '2018mayb', '2018still', '2018thi', '2019', '2019it', '2019updat', '203', '2030', '2048x2048', '2050gameplay', '2057', '2069h', '2080ti', '20e', '20fp', '20fpseven', '20ghz', '20h', '20hour', '20hr', '20ish', '20k', '20mb', '20min', '20mm', '20o', '20shadow', '20th', '20that', '20x', '21', '2100', '2104', '2111', '2133mhz', '2133mhzperform', '2142', '217e', '219', '21bi', '21hr', '21st', '22', '220', '2200', '225', '2250', '225c', '229', '22k', '22lr', '22nd', '23', '2300', '23423242w42224242222422424244', '234235', '234kph', '234l', '237', '239420395', '23inch', '23veri', '24', '2400', '2400g', '240k', '240mmi', '2425', '243', '245', '2455', '248435114', '24gjplhlq7i', '24h', '24k', '24th', '25', '250', '2500', '25000', '250m', '250mb', '250mbit', '250xp', '251', '255k', '256', '2560', '2560x1080p', '256mb', '258', '25e', '25h', '25k', '25mm', '25t', '26', '260', '2600', '2600k', '26182930', '262', '2666', '2670qmcpu', '26th', '27', '270', '2700', '2711compon', '272', '27th', '28', '280', '2800', '280790', '280x', '2843', '285', '287', '287163814618273', '28mlfcqq51bz', '28mlfmfjr61qdid', '28th', '29', '290', '2900', '290m', '29a', '29k', '29smt', '29smt_070', '29th', '2a7d34ba4686dba5d5f84b9e58506cc7', '2am', '2ats4l9vbeem', '2b', '2cod', '2con', '2counterstrik', '2d', '2fast4u', '2fast4urip', '2for', '2fort', '2g', '2gb', '2gbthere', '2ghz', '2gig', '2h', '2hour', '2hr', '2i', '2it', '2k', '2k13', '2k16', '2k17', '2k18if', '2kh', '2km', '2mb', '2min', '2month', '2muchskillrip', '2muselk', '2nd', '2oprip', '2or3', '2pac', '2perfect', '2pleas', '2plu', '2preheat', '2season', '2spooky4m', '2spoopy4m', '2spoopy5m', '2stupidstat', '2tb', '2tf2', '2thi', '2throw', '2today', '2troll', '2tt6', '2tutori', '2two', '2v1', '2v2', '2v2sthe', '2v2then', '2v3', '2vevga', '2x', '2x20mm', '2xx', '2year', '30', '300', '3000', '3000mhz', '300aa', '300h', '300hnow', '300k', '300mb', '301', '30296', '304', '304000', '305', '308', '309890186', '30e', '30fp', '30gb', '30h', '30hr', '30ish', '30k', '30kill', '30m', '30min', '30usd', '30x30', '31', '310', '310380', '312', '315', '316', '318', '319', '32', '320', '3200', '320mb', '322', '325', '3258', '32am', '32bit', '32g', '32gb', '32gig', '32gigram', '32mb', '32v32', '33', '330', '333', '3330', '3333', '3337u', '337', '33mb', '34', '340713http', '340k', '3440x1440', '34482758621', '349', '35', '350', '3500', '350eu', '350f', '352', '357', '358478951overal', '35b', '35fp', '35k', '36', '360', '360noscop', '365', '3650', '37', '375', '3770k', '379', '37eur', '37mm', '38', '382', '383', '3846358367553522332487423412163181254586131541515153415545343458186135131515185561', '389', '38mb', '38pm', '38t', '38t戦車を手に入れるまでは', '39', '390', '390x', '39c', '3add', '3am', '3bbdca66q30', '3btw', '3d', '3d4', '3day', '3dd', '3eacmx2nded5', '3edit', '3ero', '3gb', '3h', '3he', '3hope', '3hour', '3hr', '3i', '3if', '3it', '3k', '3ker', '3love', '3mil', '3month', '3mth', '3p', '3pt', '3ran', '3rd', '3ro', '3room', '3s', '3sec', '3so', '3spooky5m', '3spoopy5melat', '3spread', '3that', '3the', '3v1', '3v3', '3vs3', '3vs5', '3x', '3x62', '3xfail', '3ye', '3â', '3個の使用を必要とされます', '40', '400', '4000', '4000lp', '400mb', '400mil', '402', '40e', '40fp', '40gb', '40h', '40hr', '40ish', '40k', '40mb', '40min', '40verdict', '41', '410', '413c', '413f', '4142135623730950488016887242097', '418', '41pm', '42', '420', '4200', '4205', '425', '4257', '427779607693797153879301498385', '42s10', '43', '430', '435', '437', '439434', '44', '440_2_4625059949i', '440h', '447', '45', '450', '4500', '450em', '45376357721222168', '454', '45em', '45fp', '45min', '46', '460', '4600', '463', '463updat', '4670', '4670k', '4675', '468', '47', '477hr', '4790k', '47d', '47to', '47ггц', '47บางคร', '48', '485', '49', '4908134', '4b', '4ccc6affc842', '4ed', '4evr', '4gb', '4ghz', '4h', '4hour', '4hp', '4k', '4kaxzw9q_sw', '4kid', '4km', '4learn', '4min', '4mksy6rvddohttp', '4o', '4pack', '4person', '4th', '4tnyt', '4to', '4v4', '4v5', '4vs4', '4vs6', '4x', '4x4', '50', '500', '5000', '50000', '5000fp', '5000gbp', '500em', '500fp', '500g', '500k', '500km', '500mil', '500spooky1000m', '500xp', '501662threat', '503', '50battl', '50fp', '50h', '50hr', '50i', '50ish', '50k', '50m', '50mb', '50mm', '50th', '50v50', '50vs50', '50x', '51', '510', '512mb', '514', '5153774d', '51d', '51p', '51see', '52', '520', '524', '52hrsthi', '53', '530', '54', '5400', '5428010618040832017i', '54mb', '55', '550', '5500', '550em', '552094b', '554', '555', '558', '55kickeri', '56', '560', '560m', '57', '570', '570789553', '575', '576', '5760', '5760x1080', '58', '580', '588430', '59', '5900rpm', '596', '5960x', '599', '599985987', '5aa', '5b3ea615', '5b835eaacc8e4ac4d9a5eebd0429d5d9', '5bpzcxike7agameplay', '5bug', '5cmneed', '5custom', '5cys2urfxtu', '5d', '5e', '5edit', '5final', '5ft', '5game', '5gameplay', '5gb', '5ghz', '5good', '5graphic', '5h', '5hour', '5hr', '5ish', '5k', '5km', '5m3', '5maurdaer', '5min', '5never', '5other', '5overal', '5overwhelmingli', '5pm', '5s', '5star', '5stori', '5th', '5the', '5upgradesfreethi', '5v2', '5v5', '5vs5', '5x', '5x5', '5year', '5you', '5yr', '60', '600', '6000', '6000ish', '600g', '600hour', '600mb', '600mm', '601', '605', '60fp', '60hr', '60kph', '60min', '60minut', '60u', '60usd', '61', '610', '62', '620', '63', '630', '6300', '639', '64', '6415815', '64bit', '64d', '65', '6500befor', '650ti', '66', '660', '6602001i', '666', '666ed', '666would', '67', '6700', '6700gpu', '6700k', '673page', '678767304mission', '678767496note', '678767699aircraftth', '68', '69', '69321', '696969', '6dof', '6ft', '6g', '6gb', '6gbram', '6h', '6hour', '6hr', '6k', '6l', '6mixed16positive20tot', '6month', '6mostli', '6negative12pric', '6p', '6s', '6templar', '6th', '6v6', '6x6', '70', '700', '7000', '700h', '700mil', '700u', '701', '705949', '70fp', '70k', '70mil', '71', '710', '7100', '713', '719', '72', '720', '7200rpm', '720p', '7223licens', '72hr', '73', '7300hq', '736', '738000', '738k', '74', '740', '742634629287', '745hr', '747', '74a34b1970f6', '75', '750', '7500', '750ti', '7525', '757', '759', '75mm', '75th', '76', '760', '7601', '76a', '77', '770', '7700', '770gtx', '78', '780', '781', '7820x', '79', '799', '79p', '7a14l', '7and', '7d', '7enjoy', '7ghz', '7it', '7k', '7min', '7minut', '7mm', '7mm機関銃を装備しているのに対し', '7nm', '7overal', '7qtz7z7lvga', '7s', '7th', '7the', '7v7', '7win', '80', '800', '8000', '8000hp', '800h', '800mhz', '802193113318096896neg', '8079', '80fov', '80fp', '80ghz', '80ghzinstal', '80ish', '81', '82', '826', '83', '836sget', '84', '841', '84567', '85', '850', '8502907', '856r45f6', '85b', '85k', '86', '860', '86f', '86pf9zsehfev5jlbcrnszc', '87', '875', '88', '880m', '88mm', '89', '893d', '895', '899', '8am', '8b9h', '8bit', '8c08', '8ed', '8g', '8gb', '8ghz', '8go', '8k', '8mb', '8mm', '8s', '8score', '8shttp', '8slot', '8soundtrack', '8t', '8texutr', '8th', '8total', '8v', '8v8', '8verdict', '8x', '8x8', '90', '900', '9000', '9000fun', '903454', '904883576', '90fp', '90iger', '90m', '90mm', '90v90', '90â', '91', '911', '918', '92', '9200', '9283479238423756', '92mm', '92mm機関銃しかないので相変わらず苦しいです', '92y7', '9332', '94', '949', '95', '955', '96', '960', '965', '96th', '96v96', '97', '970', '9700k', '98', '980', '980ti', '99', '990', '996327811036use', '99666666666699666666666666699666666999999966999999966991', '9966666666699996666666666669966666699666996699666996666', '9966666669999999966666666669966666699666996699666996699', '9966666999999999999666666669966666699666996699666996699', '9966699999999999999966666699996666699666996699666996699', '9966999999996999999996666996699666699666996699666996699', '999', '9999', '999999', '9djqymqj6ii', '9fp', '9g', '9gb', '9graphic', '9hr', '9k', '9m', '9mm', '9nazaxpjjci', '9okmgfhj', '9overal', '9pm', '9re', '9scion', '9sec', '9sound', '9th', '9ux', '9wgc', '9wzuhh47dlb', '9x40mm', '__', '___', '____', '_____10', '_________', '________________________________________________________________________________con', '________________________________________________________________________________overal', '______________________________________________________________________________overview', '__________________________________________________________________________jump', '__________________________________________________________________________updat', '____________________________________________edit', '_____________it', '_____espanol', '_____on', '_any_', '_author', '_hatsune_miku', '_king', '_not_', '_will_', '_人', 'a1', 'a10', 'a10a', 'a10c', 'a10cther', 'a2', 'a2a', 'a400', 'a6', 'a6m2', 'a6mn', 'a7d4', 'aa', 'aaa', 'aaaa', 'aaaaaa', 'aaaaaaaaaaaaaaaaaaaaaaaaa', 'aaaaaaaaaaaaaaaaaaaaaaaaaaaaaaaaaaaaaaaaaaaaaaaaaaaaaaaaaaaaaaaaaaaaaaaaaaaaaaaaaaaaaaaaaaaaaaaaaaaaaaaaaaaaaaaaaaaaaaaaaaaaaaaaaaaaaaaaaaaaaaaaaaaaaaaaaaaaaaaaaaaaaaaaaaaaaaaaaaaaaaaaaaaaaaaaaaaaaaaaaaaaaaaaaaaaaaaaaaaaaaaaaaaaaaaaaaaaaaaaaaaaaaaaaaaaaaaaaaaaaaaaaaaaaaaaaaaaaaaaaaaaaaaaaaaaaaaaaaaaaaaaaaaaaaaaaaaaaaaaaaaaaaaaaaaaaaaaaaaaaaaaaaaaaaaaaaaaaaaaaaaaaaaaaaaaaaaaaaaaaaaaaaaaaaaaaaaaaaaaaaaaaaaaaaaaaaaaaaaaaaaaaaaaaaaaaaaaaaaaaaaaaaaaaaaaaaaaaaaaaaaaaaaaaaaaaaaaaaaaaaaaaaaaaaaaaaaaaaaaaaaaaaaaaaaaaaaaaaaaaaaaaaaaaaaaaaaaaaaaaaaaaaaaaaaaaaaaaaaaaaaaaaaaaaaaaaaaaaaaaaaaaaaaaaaaaaaaaaaaaaaaaaaaaaaaaaaaaaaaaaaaaaaaaaaaaaaaaaaaaaaaaaaaaaaaaaaaaaaaaaaaaaaaaaaaaaaaaaaaaaaaaaaaaaaaaaaaaaaaaaaaaaaaaaaaaaaaaaaaaaaaaaaaaaaaaaaaaaaaaaaaaaaaaaaaaaaaaaaaaaaaaaaaaaaaaaaaaaaaaaaaaaaaaaaaaaaaaaaaaaaaaaaaaaaaaaaaaaaaaaaaaaaaaaaaaaaaaaaaaaaaaaaaaaaaaaaaaaaaaaaaaaaaaaaaaaaaaaaaaaaaaaaaaaaaaaaaaaaaaaaaaaaaaaaaaaaaaaaaaaaaaaaaaaaaaaaaaaaaaaaaaaaaaaaaaaaaaaaaaaaaaaaaaaaaaaaaaaaaaaaaaaaaaaaaaaaaaaaaaaaaaaaaaaaaaaaaaaaaaaaaaaaaaaaaaaaaaaaaaaaaaaaaaaaaaaaaaaaaaaaaaaaaaaaaaaaaaaaaaaaaaaaaaaaaaaaaaaaaaaaaaaaaaaaaaaaaaaaaaaaaaaaaaaaaaaaaaaaaaaaaaaaaaaaaaaaaaaaaaaaaaaaaaaaaaaaaaaaaaaaaaaaaaaaaaaaaaaaaaaaaaaaaaaaaaaaaaaaaaaaaaaaaaaaaaaaaaaaaaaaaaaaaaaaaaaaaaaaaaaaaaaaaaaaaaaaaaaaaaaaaaaaaaaaaaaaaaaaaaaaaaaaaaaaaaaaaaaaaaaaaaaaaaaaaaaaaaaaaaaaaaaaaaaaaaaaaaaaaaaaaaaaaaaaaaaaaaaaaaaaaaaaaaaaaaaaaaaaaaaaaaaaaaaaaaaaaaaaaaaaaaaaaaaaaaaaaaaaaaaaaaaaaaaaaaaaaaaaaaaaaaaaaaaaaaaaaaaaaaaaaaaaaaaaaaaaaaaaaaaaaaaaaaaaaaaaaaaaaaaaaaaaaaaaaaaaaaaaaaaaaaaaaaaaaaaaaaaaaaaaaaaaaaaaaaaaaaaaaaaaaaaaaaaaaaaaaaaaaaaaaaaaaaaaaaaaaaaaaaaaaaaaaaaaaaaaaaaaaaaaaaaaaaaaaaaaaaaaaaaaaaaaaaaaaaaaaaaaaaaaaaaaaaaaaaaaaaaaaaaaaaaaaaaaaaaaaaaaaaaaaaaaaaaaaaaaaaaaaaaaaaaaaaaaaaaaaaaaaaaaaaaaaaaaaaaaaaaaaaaaaaaaaaaaaaaaaaaaaaaaaaaaaaaaaaaaaaaaaaaaaaaaaaaaaaaaaaaaaaaaaaaaaaaaaaaaaaaaaaaaaaaaaaaaaaaaaaaaaaaaaaaaaaaaaaaaaaaaaaaaaaaaaaaaaaaaaaaaaaaaaaaaaaaaaaaaaaaaaaaaaaaaaaaaaaaaaaaaaaaaaaaaaaaaaaaaaaaaaaaaaaaaaaaaaaaaaaaaaaaaaaaaaaaaaaaaaaaaaaaaaaaaaaaaaaaaaaaaaaaaaaaaaaaaaaaaaaaaaaaaaaaaaaaaaaaaaaaaaaaaaaaaaaaaaaaaaaaaaaaaaaaaaaaaaaaaaaaaaaaaaaaaaaaaaaaaaaaaaaaaaaaaaaaaaaaaaaaaaaaaaaaaaaaaaaaaaaaaaaaaaaaaaaaaaaaaaaaaaaaaaaaaaaaaaaaaaaaaaaaaaaaaaaaaaaaaaaaaaaaaaaaaaaaaaaaaaaaaaaaaaaaaaaaaaaaaaaaaaaaaaaaaaaaaaaaaaaaaaaaaaaaaaaaaaaaaaaaaaaaaaaaaaaaaaaaaaaaaaaaaaaaaaaaaaaaaaaaaaaaaaaaaaaaaaaaaaaaaaaaaaaaaaaaaaaaaaaaaaaaaaaaaaaaaaaaaaaaaaaaaaaaaaaaaaaaaaaaaaaaaaaaaaaaaaaaaaaaaaaaaaaaaaaaaaaaaaaaaaaaaaaaaaaaaaaaaaaaaaaaaaaaaaaaaaaaaaaaaaaaaaaaaaaaaaaaaaaaaaaaaaaaaaaaaaaaaaaaaaaaaaaaaaaaaaaaaaaaaaaaaaaaaaaaaaaaaaaaaaaaaaaaaaaaaaaaaaaaaaaaaaaaaaaaaaaaaaaaaaaaaaaaaaaaaaaaaaaaaaaaaaaaaaaaaaaaaaaaaaaaaaaaaaaaaaaaaaaaaaaaaaaaaaaaaaaaaaaaaaaaaaaaaaaaaaaaaaaaaaaaaaaaaaaaaaaaaaaaaaaaaaaaaaaaaaaaaaaaaaaaaaaaaaaaaaaaaaaaaaaaaaaaaaaaaaaaaaaaaaaaaaaaaaaaaaaaaaaaaaaaaaaaaaaaaaaaaaaaaaaaaaaaaaaaaaaaaaaaaaaaaaaaaaaaaaaaaaaaaaaaaaaaaaaaaaaaaaaaaaaaaaaaaaaaaaaaaaaaaaaaaaaaaaaaaaaaaaaaaaaaaaaaaaaaaaaaaaaaaaaaaaaaaaaaaaaaaaaaaaaaaaaaaaaaaaaaaaaaaaaaaaaaaaaaaaaaaaaaaaaaaaaaaaaaaaaaaaaaaaaaaaaaaaaaaaaaaaaaaaaaaaaaaaaaaaaaaaaaaaaaaaaaaaaaaaaaaaaaaaaaaaaaaaaaaaaaaaaaaaaaaaaaaaaaaaaaaaaaaaaaaaaaaaaaaaaaaaaaaaaaaaaaaaaaaaaaaaaaaaaaaaaaaaaaaaaaaaaaaaaaaaaaaaaaaaaaaaaaaaaaaaaaaaaaaaaaaaaaaaaaaaaaaaaaaaaaaaaaaaaaaaaaaaaaaaaaaaaaaaaaaaaaaaaaaaaaaaaaaaaaaaaaaaaaaaaaaaaaaaaaaaaaaaaaaaaaaaaaaaaaaaaaaaaaaaaaaaaaaaaaaaaaaaaaaaaaaaaaaaaaaaaaaaaaaaaaaaaaaaaaaaaaaaaaaaaaaaaaaaaaaaaaaaaaaaaaaaaaaaaaaaaaaaaaaaaaaaaaaaaaaaaaaaaaaaaaaaaaaaaaaaaaaaaaaaaaaaaaaaaaaaaaaaaaaaaaaaaaaaaaaaaaaaaaaaaaaaaaaaaaaaaaaaaaaaaaaaaaaaaaaaaaaaaaaaaaaaaaaaaaaaaaaaaaaaaaaaaaaaaaaaaaaaaaaaaaaaaaaaaaaaaaaaaaaaaaaaaaaaaaaaaaaaaaaaaaaaaaaaaaaaaaaaaaaaaaaaaaaaaaaaaaaaaaaaaaaaaaaaaaaaaaaaaaaaaaaaaaaaaaaaaaaaaaaaaaaaaaaaaaaaaaaaaaaaaaaaaaaaaaaaaaaaaaaaaaaaaaaaaaaaaaaaaaaaaaaaaaaaaaaaaaaaaaaaaaaaaaaaaaaaaaaaaaaaaaaaaaaaaaaaaaaaaaaaaaaaaaaaaaaaaaaaaaaaaaaaaaaaaaaaaaaaaaaaaaaaaaaaaaaaaaaaaaaaaaaaaaaaaaaaaaaaaaaaaaaaaaaaaaaaaaaaaaaaaaaaaaaaaaaaaaaaaaaaaaaaaaaaaaaaaaaaaaaaaaaaaaaaaaaaaaaaaaaaaaaaaaaaaaaaaaaaaaaaaaaaaaaaaaaaaaaaaaaaaaaaaaaaaaaaaaaaaaaaaaaaaaaaaaaaaaaaaaaaaaaaaaaaaaaaaaaaaaaaaaaaaaaaaaaaaaaaaaaaaaaaaaaaaaaaaaaaaaaaaaaaaaaaaaaaaaaaaaaaaaaaaaaaaaaaaaaaaaaaaaaaaaaaaaaaaaaaaaaaaaaaaaaaaaaaaaaaaaaaaaaaaaaaaaaaaaaaaaaaaaaaaaaaaaaaaaaaaaaaaaaaaaaaaaaaaaaaaaaaaaaaaaaaaaaaaaaaaaaaaaaaaaaaaaaaaaaaaaaaaaaaaaaaaaaaaaaaaaaaaaaaaaaaaaaaaaaaaaaaaaaaaaaaaaaaaaaaaaaaaaaaaaaaaaaaaaaaaaaaaaaaaaaaaaaaaaaaaaaaaaaaaaaaaaaaaaaaaaaaaaaaaaaaaaaaaaaaaaaaaaaaaaaaaaaaaaaaaaaaaaaaaaaaaaaaaaaaaaaaaaaaaaaaaaaaaaaaaaaaaaaaaaaaaaaaaaaaaaaaaaaaaaaaaaaaaaaaaaaaaaaaaaaaaaaaaaaaaaaaaaaaaaaaaaaaaaaaaaaaaaaaaaaaaaaaaaaaaaaaaaaaaaaaaaaaaaaaaaaaaaaaaaaaaaaaaaaaaaaaaaaaaaaaaaaaaaaaaaaaaaaaaaaaaaaaaaaaaaaaaaaaaaaaaaaaaaaaaaaaaaaaaaaaaaaaaaaaaaaaaaaaaaaaaaaaaaaaaaaaaaaaaaaaaaaaaaaaaaaaaaaaaaaaaaaaaaaaaaaaaaaaaaaaaaaaaaaaaaaaaaaaaaaaaaaaaaaaaaaaaaaaaaaaaaaaaaaaaaaaaaaaaaaaaaaaaaaaaaaaaaaaaaaaaaaaaaaaaaaaaaaaaaaaaaaaaaaaaaaaaaaaaaaaaaaaaaaaaaaaaaaaaaaaaaaaaaaaaaaaaaaaaaaaaaaaaaaaaaaaaaaaaaaaaaaaaaaaaaaaaaaaaaaaaaaaaaaaaaaaaaaaaaaaaaaaaaaaaaaaaaaaaaaaaaaaaaaaaaaaaaaaaaaaaaaaaaaaaaaaaaaaaaaaaaaaaaaaaaaaaaaaaaaaaaaaaaaaaaaaaaaaaaaaaaaaaaaaaaaaaaaaaaaaaaaaaaaaaaaaaaaaaaaaaaaaaaaaaaaaaaaaaaaaaaaaaaaaaaaaaaaaaaaaaaaaaaaaaaaaaaaaaaaaaaaaaaaaaaaaaaaaaaaaaaaaaaaaaaaaaaaaaaaaaaaaaaaaaaaaaaaaaaaaaaaaaaaaaaaaaaaaaaaaaaaaaaaaaaaaaaaaaaaaaaaaaaaaaaaaaaaaaaaaaaaaaaaaaaaaaaaaaaaaaaaaaaaaaaaaaaaaaaaaaaaaaaaaaaaaaaaaaaaaaaaaaaaaaaaaaaaaaaaaaaaaaaaaaaaaaaaaaaaaaaaaaaaaaaaaaaaaaaaaaaaaaaaaaaaaaaaaaaaaaaaaaaaaaaaaaaaaaaaaaaaaaaaaaaaaaaaaaaaaaaaaaaaaaaaaaaaaaaaaaaaaaaaaaaaaaaaaaaaaaaaaaaaaaaaaaaaaaaaaaaaaaaaaaaaaaaaaaaaaaaaaaaaaaaaaaaaaaaaaaaaaaaaaaaaaaaaaaaaaaaaaaaaaaaaaaaaaaaaaaaaaaaaaaaaaaaaaaaaaaaaaaaaaaaaaaaaaaaaaaaaaaaaaaaaaaaaaaaaaaaaaaaaaaaaaaaaaaaaaaaaaaaaaaaaaaaaaaaaaaaaaaaaaaaaaaaaaaaaaaaaaaaaaaaaaaaaaaaaaaaaaaaaaaaaaaaaaaaaaaaaaaaaaaaaaaaaaaaaaaaaaaaaaaaaaaaaaaaaaaaaaaaaaaaaaaaaaaaaaaaaaaaaaaaaaaaaaaaaaaaaaaaaaaaaaaaaaaaaaaaaaaaaaaaaaaaaaaaaaaaaaaaaaaaaaaaaaaaaaaaaaaaaaaaaaaaaaaaaaaaaaaaaaaaaaaaaaaaaaaaaaaaaaaaaaaaaaaaaaaaaaaaaaaaaaaaaaaaaaaaaaaaaaaaaaaaaaaaaaaaaaaaaaaaaaaaaaaaaaaaaaaaaaaaaaaaaaaaaaaaaaaaaaaaaaaaaaaaaaaaaaaaaaaaaaaaaaaaaaaaaaaaaaaaaaaaaaaaaaaaaaaaaaaaaaaaaaaaaaaaaaaaaaaaaaaaaaaaaaaaaaaaaaaaaaaaaaaaaaaaaaaaaaaaaaaaaaaaaaaaaaaaaaaaaaaaaaaaaaaaaaaaaaaaaaaaaaaaaaaaaaaaaaaaaaaaaaaaaaaaaaaaaaaaaaaaaaaaaaaaaaaaaaaaaaaaaaaaaaaaaaaaaaaaaaaaaaaaaaaaaaaaaaaaaaaaaaaaaaaaaaaaaaaaaaaaaaaaaaaaaaaaaaaaaaaaaaaaaaaaaaaaaaaaaaaaaaaaaaaaaaaaaaaaaaaaaaaaaaaaaaaaaaaaaaaaaaaaaaaaaaaaaaaaaaaaaaaaaaaaaaaaaaaaaaaaaaaaaaaaaaaaaaaaaaaaaaaaaaaaaaaaaaaaaaaaaaaaaaaaaaaaaaaaaaaaaaaaaaaaaaaaaaaaaaaaaaaaaaaaaaaaaaaaaaaaaaaaaaaaaaaaaaaaaaaaaaaaaaaaaaaaaaaaaaaaaaaaaaaaaaaaaaaaaaaaaaaaaaaaaaaaaaaaaaaaaaaaaaaaaaaaaaaaaaaaaaaaaaaaaaaaaaaaaaaaaaaaaaaaaaaaaaaaaaaaaaaaaaaaaaaaaaaaaaaaaaaaaaaaaaaaaaaaaaaaaaaaaaaaaaaaaaaaaaaaaaaaaaaaaaaaaaaaaaaaaaaaaaaaaaaaaaaaaaaaaaaaaaaaaaaaaaaaaaaaaaaaaaaaaaaaaaaaaaaaaaaaaaaaaaaaaaaaaaaaaaaaaaaaaaaaaaaaaaaaaaaaaaaaaaaaaaaaaaaaaaaaaaaaaaaaaaaaaaaaaaaaaaaaaaaaaaaaaaaaaaaaaaaaaaaaaaaaaaaaaaaaaaaaaaaaaaaaaaaaaaaaaaaaaaaaaaaaaaaaaaaaaaaaaaaaaaaaaaaaaaaaaaaaaaaaaaaaaaaaaaaaaaaaaaaaaaaaaaaaaaaaaaaaaaaaaaaaaaaaaaaaaaaaaaaaaaaaaaaaaaaaaaaaaaaaaaaaaaaaaaaaaaaaaaaaaaaaaaaaaaaaaaaaaaaaaaaaaaaaaaaaaaaaaaaaaaaaaaaaaaaaaaaaaaaaaaaaaaaaaaaaaaaaaaaaaaaaaaaaaaaaaaaaaaaaaaaaaaaaaaaaaaaaaaaaaaaaaaaaaaaaaaaaaaaaaaaaaaaaaaaaaaaaaaaaaaaaaaaaaaaaaaaaaaaaaaaaaaaaaaaaaaaaaaaaaaaaaaaaaaaaaaaaaaaaaaaaaaaaaaaaaaaaaaaaaaaaaaaaaaaaaaaaaaaaaaaaaaaaaaaaaaaaaaaaaaaaaaaaaaaaaaaaaaaaaaaaaaaaaaaaaaaaaaaaaaaaaaaaaaaaaaaaaaaaaaaaaaaaaaaaaaaaaaaaaaaaaaaaaaaaaaaaaaaaaaaaaaaaaaaaaaaaaaaaaaaaaaaaaaaaaaaaaaaaaaaaaaaaaaaaaaaaaaaaaaaaaaaaaaaaaaaaaaaaaaaaaaaaaaaaaaaaaaaaaaaaaaaaaaaaaaaaaaaaaaaaaaaaaaaaaaaaaaaaaaaaaaaaaaaaaaaaaaaaaaaaaaaaaaaaaaaaaaaaaaaaaaaaaaaaaaaaaaaaaaaaaaaaaaaaaaaaaaaaaaaaaaaaaaaaaaaaaaaaaaaaaaaaaaaaaaaaaaaaaaaaaaaaaaaaaaaaaaaaaaaaaaaaaaaaaaaaaaaaaaaaaaaaaaaaaaaaaaaaaaaaaaaaaaaaaaaaaaaaaaaaaaaaaaaaaaaaaaaaaaaaaaaaaaaaaaaaaaaaaaaaaaaaaaaaaa', 'aaaaaaaaaaaaaaaaaaaaaaaaaaaaaaaaaaaaaaaaaaaaaaahhhhhhhhhhhhhhhhhhhhhhhhhhhhhhhhhhhhhhhhhhhh', 'aaaaaaaaand', 'aaaaaand', 'aaaaaarrrrrggggghhhh', 'aaaaallll', 'aaaaand', 'aaaaargh', 'aaaaayyyi', 'aaaah', 'aaaand', 'aaand', 'aaction', 'aah', 'aamaz', 'aan', 'aarpg', 'aawaesom', 'ab', 'abandon', 'abaout', 'abbastanza', 'abd', 'abdic', 'abduct', 'abe', 'abeit', 'abel', 'aber', 'abest', 'abi', 'abid', 'abierta', 'abil', 'abili', 'abililti', 'abilit', 'abiliti', 'abilitiesalso', 'abilitiesrank', 'abilitiessingl', 'abilitiesthroughout', 'abilitit', 'abilityi', 'abilităti', 'abilt', 'abilti', 'abit', 'abl', 'ablat', 'ablaz', 'abliit', 'abliti', 'abnlivion', 'abnorm', 'aboard', 'aboat', 'abomin', 'aboot', 'abort', 'abortnit', 'aboslut', 'abot', 'abound', 'about', 'aboutoveral', 'aboutvip', 'abov', 'abridg', 'abriendo', 'abrir', 'abrupt', 'abruptli', 'absalout', 'absalutli', 'abscenc', 'abschrecken', 'absenc', 'absens', 'absent', 'absentia', 'abso', 'absoltu', 'absolut', 'absolutel', 'absolutelli', 'absolutley', 'absolutli', 'absolåtley', 'absoolut', 'absorb', 'absouletli', 'absoult', 'absoulut', 'absoulutli', 'abstract', 'absurd', 'absurdli', 'abt', 'abund', 'abundac', 'abus', 'abut', 'abys', 'abysm', 'abyss', 'abzuhalten', 'ac', 'acadaemi', 'acasion', 'acc', 'acceler', 'acceleraion', 'accend', 'accent', 'accept', 'accerel', 'acces', 'accesori', 'access', 'accessa', 'accessal', 'accessbut', 'accessibilitygameplaylik', 'accessibilitytf2', 'accessinglevel', 'accessori', 'accessrecommend', 'accesss', 'accessth', 'accessthey', 'accessthi', 'accid', 'accident', 'accidentali', 'accidentlyreview', 'acclaim', 'acclim', 'acclimatis', 'accolad', 'accommod', 'accomod', 'accompani', 'accompini', 'accomplesh', 'accomplish', 'accomplishthi', 'accont', 'accord', 'accordingli', 'account', 'accountbound', 'accountperson', 'accouter', 'accquir', 'accross', 'accru', 'accrual', 'accsess', 'acct', 'acctual', 'acctuali', 'accual', 'accuart', 'accumil', 'accuml', 'accumul', 'accur', 'accuraci', 'accuray', 'accuret', 'accus', 'accusatori', 'accustom', 'ace', 'acer', 'acertain', 'acess', 'acessori', 'acest', 'ach', 'acheiv', 'achet', 'achiev', 'achievalb', 'achievementscon', 'achievementsdiffer', 'achievementsinventori', 'achievementsresult', 'achievementů', 'achievemnt', 'achiv', 'achival', 'achjiev', 'achten', 'acid', 'ack', 'ackbar', 'acknowledg', 'acn', 'acnt', 'acomplet', 'acomplish', 'acordingli', 'acount', 'acoupl', 'acp', 'acquaint', 'acquir', 'acquisit', 'across', 'acru', 'act', 'actal', 'actaulli', 'actin', 'actingcon', 'action', 'actioncon', 'actioneasi', 'actiongraph', 'actioni', 'actionneg', 'actionsa', 'actionsitem', 'actionthi', 'activ', 'activecon', 'activeren', 'activi', 'activley', 'activli', 'activo', 'actor', 'actther', 'acttiv', 'actual', 'actuali', 'actualizan', 'actualyl', 'actul', 'actullay', 'actulli', 'acual', 'acuali', 'acuir', 'acum', 'acur', 'acustom', 'acut', 'ad', 'ada', 'adac', 'adam', 'adap', 'adapt', 'adc', 'add', 'addcitct', 'addct', 'addedwhat', 'addendum', 'addic', 'addicct', 'addicit', 'addicitivli', 'addict', 'addictedmct', 'addictingamaz', 'addictingli', 'addictingpeopl', 'addictionsthi', 'addictive5', 'addictivea', 'addit', 'additict', 'additionto', 'additon', 'addon', 'addres', 'address', 'addtict', 'adept', 'adequ', 'adequaci', 'adevărat', 'adf', 'adher', 'adicct', 'adickt', 'adict', 'adictingi', 'adio', 'adit', 'adiuramu', 'adject', 'adjuest', 'adjust', 'admin', 'administ', 'administr', 'admir', 'admiss', 'admit', 'admitedli', 'admitidli', 'admittedli', 'admittedtli', 'admittingli', 'adn', 'ado', 'adolesc', 'adopt', 'ador', 'adorablerandomli', 'adorablevarieti', 'adorbl', 'adorn', 'adorng', 'adou', 'adrelani', 'adrenalin', 'adrenelin', 'adrenilin', 'adress', 'adrian', 'adrinalin', 'adsthat', 'adult', 'adulthood', 'adultpc', 'adultsag', 'adultso', 'adultth', 'aduna', 'advanc', 'advancementa', 'advantag', 'advantagesrealm', 'advantagi', 'advanteg', 'advantg', 'advatag', 'advatang', 'adventag', 'adventer', 'adventu', 'adventur', 'adventurequest', 'adventurequest3d', 'adventurer', 'adventureslegend', 'adventurr', 'adventuru', 'advenur', 'adverntur', 'advers', 'adversair', 'adversari', 'adversarii', 'adverseri', 'advert', 'advertis', 'advertur', 'advic', 'advis', 'advisedcaut', 'advisori', 'advoc', 'adăugarea', 'ae', 'aegi', 'aeigi', 'aerial', 'aero', 'aerobat', 'aerodynam', 'aerodynamicli', 'aeronaut', 'aesom', 'aestet', 'aesthet', 'aestheticguess', 'aesthic', 'aether', 'af', 'afaik', 'afar', 'afb', 'afef', 'afew', 'affair', 'affect', 'affection', 'affili', 'affin', 'affinag', 'affineur', 'affix', 'afford', 'afganistan', 'aficionado', 'afk', 'afker', 'afloat', 'afm', 'afor', 'aford', 'aforement', 'aforment', 'afoul', 'afp', 'afraid', 'afread', 'afresh', 'africa', 'african', 'afro', 'afsafsasf', 'after', 'afteral', 'afterburn', 'afterburnersreleas', 'afterfir', 'afterhug', 'afterlif', 'aftermath', 'afternoon', 'aftert', 'afterthought', 'afterward', 'afterword', 'aftyer', 'aful', 'afv', 'ag', 'aga', 'agai', 'again', 'again10', 'again11', 'again7', 'again8', 'againalso', 'againbut', 'againi', 'againnoth', 'againoveral', 'againpro', 'against', 'againstcon', 'againt', 'againthi', 'againupd', 'againyour', 'agaisn', 'agaisnt', 'agan', 'aganist', 'agap', 'age', 'agei', 'ageist', 'agen', 'agenc', 'agent', 'agenthowev', 'agentit', 'aggo', 'aggrav', 'aggres', 'aggresis', 'aggress', 'aggressor', 'aggriv', 'aggro', 'aghanim', 'agian', 'agianst', 'agil', 'agin', 'agli', 'agm', 'agni', 'ago', 'ago5', 'agoand', 'agon', 'agoni', 'agonizingli', 'agood', 'agraph', 'agre', 'agreeabl', 'agreement', 'agress', 'agriv', 'agro', 'aguant', 'ah', 'aha', 'ahahahaha', 'ahahahahahahah', 'ahe', 'ahead', 'aheadof', 'ahem', 'ahev', 'ahh', 'ahhhh', 'ahhhhh', 'ahhhhhh', 'ahhhhhhhhhhhhhhhhhhhh', 'ahhhhhhhhhhhhhhhhhhhhhhhhhhhhhhhhhhhhhhhhhhhhhhhhhhhhhhhhhhhhhhhhhhhhhhhhhhhhhhhhhhhhhhhhhhhhhhhhhhhhhhhhhhhhhhhhhhhhhhhhhhhhhhhhhhhhhhhhhhhhhhhhhhhhhhhhhhhhhhhhhhhhhhhhhhhhhhhhhhhhhhhhhhhhhhhhhhhhhhhhhhhhhhhhhhhhhhhhhhhhhhhhhhhhhhhhhhhhhhhhhhhhhhhhhhhhhhhhhhhhhhhhhhhhhhhhhhhhhhhhhhhhhhhhhhhhhhhhhhhhhhhhhh', 'ahmen', 'ahnassi', 'ahold', 'ahora', 'ahrd', 'ahv', 'ai', 'aici', 'aid', 'aidsit', 'aight', 'aim', 'aimat', 'aimboot', 'aimbot', 'aimbotright', 'aimbott', 'aimbutt', 'aimlessli', 'aimng', 'aimotherbotfrickwallhack', 'ain', 'aint', 'aion', 'air', 'airblast', 'airborn', 'airbourn', 'airbrush', 'aircarft', 'airccaft', 'aircombat', 'aircraft', 'aircraftfirst', 'aircrafty', 'airdrop', 'airfield', 'airfight', 'airforc', 'airforce_ru_mig', 'airfram', 'airgam', 'airhorn', 'airi', 'airial', 'airlin', 'airlinesfriend', 'airpan', 'airplan', 'airport', 'airship', 'airshow', 'airspac', 'airth', 'airvehicl', 'airvictori', 'aisd', 'aisha', 'aiutarli', 'ajar', 'ajudar', 'ajung', 'ajust', 'ajustar', 'ak', 'ak12', 'ak3', 'ak47', 'aka', 'akci', 'akimbo', 'akin', 'akm', 'akstep', 'aktuel', 'akuma', 'akward', 'al', 'ala', 'alakazam', 'alarm', 'alaska', 'alaskan', 'alast', 'alatrist', 'albania', 'albatro', 'albatross', 'albeit', 'albiania', 'albiet', 'albino', 'albion', 'album', 'albuquerqu', 'alcantara', 'alchamest', 'alchemi', 'alcohol', 'alcuni', 'aldo', 'alduin', 'aleatório', 'alein', 'alel', 'alert', 'alex', 'alexand', 'alexandr', 'alexi', 'alfa', 'alfiethelad', 'algarv', 'algo', 'algorithm', 'algrothm', 'alhtough', 'ali', 'alia', 'alias', 'alic', 'alicens', 'alien', 'alienwar', 'alienwarearena', 'align', 'aliitl', 'alik', 'alikeanyon', 'alittl', 'aliv', 'all', 'all3', 'allah', 'allai', 'allan', 'alland', 'allaorund', 'allapart', 'allaround', 'alleen', 'allegedli', 'allegi', 'allem', 'allen', 'allena', 'aller', 'allevi', 'alley', 'alleyway', 'alli', 'allianc', 'allien', 'allig', 'allllll', 'allllllllll', 'alllow', 'allmost', 'allo', 'alloc', 'allot', 'allow', 'allowedther', 'allowtextur', 'allpretti', 'allreadi', 'allredi', 'allright', 'allso', 'allstar', 'allstep', 'allth', 'alltho', 'allthou', 'allthough', 'alltogeth', 'alltogheh', 'alluh', 'allur', 'allus', 'allway', 'allwo', 'allyou', 'almatari', 'almeno', 'almighti', 'almost', 'alnog', 'alo', 'aloft', 'alon', 'alone2', 'aloneit', 'alonevoip', 'along', 'alongisd', 'alongsid', 'alooooooooooooooooooooooooooooooooooooooooooooooooooooooooooooooooot', 'aloooot', 'alor', 'alot', 'alotth', 'alout', 'alow', 'alpa', 'alpha', 'alphabet', 'alphapretti', 'alpin', 'alreadi', 'alreadyat', 'alreadyit', 'alreday', 'alredi', 'alright', 'alrighti', 'alsmost', 'also', 'alsosingl', 'alsoth', 'alsow', 'alsu', 'alt', 'altar', 'alter', 'altera', 'altern', 'alternatevili', 'alternatif', 'alternativa', 'alternativgeschicht', 'altho', 'although', 'althoughn', 'althought', 'althrough', 'alti', 'altii', 'altitud', 'altjhough', 'alto', 'altogeth', 'altough', 'altought', 'altri', 'altro', 'alturl', 'aludin', 'aluguel', 'alvin', 'alvo', 'alwasi', 'alway', 'alwaysumm', 'am', 'am3', 'ama', 'amaerica', 'amag', 'amalgan', 'amar', 'amass', 'amat', 'amaterasu', 'amateur', 'amatu', 'amatur', 'amaz', 'amazig', 'amazin', 'amazing', 'amazing1', 'amazing2', 'amazing9', 'amazingb', 'amazinggam', 'amazingi', 'amazingingli', 'amazingit', 'amazingk', 'amazingli', 'amazingu', 'amazinguh', 'amazngnev', 'amazon', 'amazong', 'ambassador', 'ambianc', 'ambienc', 'ambient', 'ambig', 'ambigu', 'ambit', 'ambiti', 'ambo', 'ambrosia', 'ambus', 'ambush', 'amd', 'ame', 'ameatur', 'amen', 'amend', 'america', 'american', 'amerish', 'ameteur', 'amg', 'amiabl', 'amid', 'amidst', 'amig', 'amiga', 'amigateam', 'amigo', 'amin', 'ammaz', 'ammazzi', 'ammen', 'ammetter', 'ammi', 'ammo', 'ammostep', 'ammount', 'ammunit', 'amnesia', 'amo', 'amoeba', 'amok', 'among', 'amongst', 'amongt', 'amor', 'amoun', 'amoung', 'amoungst', 'amount', 'amour', 'amout', 'amoutn', 'amp', 'ampl', 'amplifi', 'amput', 'amsk', 'amsterdam', 'amt', 'amth', 'amular', 'amulet', 'amus', 'amusé', 'amuz', 'amx', 'amyth', 'amz', 'amza', 'amzingerrrrr', 'an', 'an_', 'anachronist', 'anaim', 'anal', 'analog', 'analys', 'analysi', 'analyz', 'anathema', 'anatomi', 'anbetracht', 'ancak', 'ancestor', 'ancestr', 'anch', 'anchor', 'anciant', 'ancient', 'and', 'andar', 'andbuild', 'andd', 'andddd', 'ander', 'anderen', 'anderson', 'andfun', 'andi', 'andlov', 'andmost', 'andorid', 'andrei', 'andriod', 'android', 'androxu', 'andâ', 'anem', 'anemi', 'anew', 'anf', 'anfang', 'ang', 'angel', 'anger', 'angeri', 'angeru', 'angl', 'angri', 'angrili', 'angry_dolphin', 'angst', 'angsti', 'anguish', 'ani', 'anim', 'animacion', 'animal', 'animala', 'animalaft', 'animalammunit', 'animalsat', 'animalsawesom', 'animalsnew', 'animalsther', 'animammin', 'animationscon', 'animaton', 'animatron', 'animel', 'animu', 'anisotrop', 'anit', 'aniversari', 'anj', 'ankl', 'anko', 'anlamadan', 'anlaşabilm', 'anmd', 'anmmo', 'anna', 'annex', 'annihil', 'annim', 'anniversari', 'annni', 'annnnd', 'annnnnd', 'announc', 'annoy', 'annoyin', 'annoyingannoy', 'annoyingbut', 'annoyinghop', 'annoyingli', 'annoyingo', 'annual', 'annyo', 'ano', 'anoculu', 'anon', 'anonym', 'anorex', 'anoth', 'anothermount', 'anotherth', 'anothr', 'anounc', 'anout', 'anouth', 'anoy', 'anser', 'ansew', 'anshuitz', 'answer', 'answeredcon', 'answeri', 'ant', 'antagonist', 'antarctica', 'antecessor', 'antenna', 'antennasinsid', 'antfarm', 'anth', 'anthem', 'anti', 'antialia', 'antialias', 'antic', 'anticheat', 'antichrist', 'antici', 'anticip', 'antică', 'antimicro', 'antioch', 'antiradi', 'antithesi', 'antiviru', 'antivirus', 'antler', 'antogonist', 'antonia', 'antyh', 'anubi', 'anuth', 'anway', 'anxiati', 'anxieti', 'anxiou', 'anybodi', 'anyhow', 'anymor', 'anynoth', 'anyon', 'anyoth', 'anyr', 'anyth', 'anythign', 'anythinggam', 'anytim', 'anyway', 'anyway8', 'anywaybecaus', 'anywaydota', 'anywayp', 'anyways10', 'anywaysxd', 'anywer', 'anywher', 'anywhoi', 'anzu', 'ao', 'aoa', 'aoatz8xwm0w', 'aoc', 'aoe', 'ap', 'apach', 'apar', 'apart', 'apartheid', 'apathi', 'apb', 'apc', 'apcr', 'apcsyou', 'ape', 'apeal', 'apect', 'apesar', 'apex', 'aphid', 'aphrodisiac', 'api', 'apiec', 'aplenti', 'aplha', 'aplică', 'aplqrx_mgno', 'apocalyps', 'apocalypt', 'apocolyps', 'apocolypt', 'apollo', 'apolog', 'apologiez', 'apologis', 'apon', 'apov', 'app', 'appal', 'appar', 'apparantli', 'apparel', 'appart', 'appaul', 'appcrash', 'appdata', 'appeal', 'appear', 'appearth', 'appeas', 'appel', 'apper', 'apperant', 'appet', 'appetit', 'appi', 'appl', 'applaud', 'applaus', 'applejack', 'appli', 'applic', 'appoint', 'apprais', 'appraoch', 'apprechi', 'appreci', 'apprehens', 'appreic', 'apprent', 'appreti', 'apprici', 'approach', 'approach3', 'approch', 'appropi', 'appropri', 'approv', 'approx', 'approxim', 'approximetli', 'approxomit', 'appstor', 'appunto', 'apr', 'apreac', 'apreci', 'aprend', 'apretur', 'aprg', 'aprici', 'april', 'aproach', 'apropri', 'aprov', 'aprreci', 'apsolut', 'apt', 'apteczek', 'aptitud', 'aptli', 'apu', 'apvp_7overal', 'aq', 'aq2', 'aq3d', 'aq3dand', 'aq3dimmort', 'aqcuint', 'aqquir', 'aquaelf', 'aquaint', 'aquat', 'aqueduct', 'aquila', 'aquir', 'aquisit', 'aqw', 'aqworld', 'ar', 'ara', 'arab', 'arachn', 'aram', 'aray', 'arbitrari', 'arbituarili', 'arc', 'arcad', 'arcadey', 'arcadi', 'arcadish', 'arcana', 'arch', 'archag', 'archaic', 'archeag', 'archeolog', 'archer', 'archeri', 'archetyp', 'archi', 'archibald', 'archipelago', 'architectur', 'archiv', 'archlich', 'archon', 'archpaladin', 'archreview', 'archtyp', 'arcitectur', 'arcraft', 'arctic', 'ard', 'ardent', 'arduou', 'are', 'area', 'areadi', 'arean', 'areana', 'areguardian', 'arelook', 'aren', 'arena', 'arenafight', 'arenea', 'arent', 'arenâ', 'aresmal', 'arevari', 'areyrkn', 'areâ', 'argeedthen', 'argenport', 'argentinian', 'argu', 'arguabl', 'arguement', 'argument', 'argun', 'arial', 'arid', 'ariel', 'aris', 'arisematchmak', 'arisen', 'arithmet', 'aritx', 'ark', 'arkadaş', 'arkadaşımteam', 'arkfiend', 'arkfiendset', 'arl', 'arleadi', 'arlen', 'arm', 'arma', 'arma2', 'arma3', 'armada', 'armagedon', 'armament', 'armar', 'armchair', 'arme', 'armer', 'armi', 'armor', 'armorcon', 'armorcons1', 'armori', 'armornpc', 'armour', 'armour1st', 'armourclaim', 'armouri', 'armuri', 'arn', 'arnd', 'arnt', 'arod', 'aroma', 'aromag', 'aroun', 'arounbd', 'around', 'around3', 'aroundin', 'aroundo', 'aroundstep', 'arous', 'arouund', 'arow', 'arp', 'arpeggio', 'arpg', 'arpgsdiablo', 'arr', 'arrang', 'array', 'arriv', 'arrivar', 'arrog', 'arround', 'arroung', 'arrow', 'ars', 'arsen', 'arseram', 'arson', 'art', 'arteezi', 'artefact', 'artemi', 'artemiskn', 'arthriti', 'arti', 'articl', 'articul', 'artifact', 'artifici', 'artileri', 'artilerri', 'artilerygood', 'artillari', 'artilleri', 'artillrri', 'artist', 'artistri', 'artix', 'artsashisa', 'artstil', 'artstyl', 'artstyle9', 'artsyl', 'artwork', 'arty3', 'aruaxian', 'arund', 'aryan', 'as', 'as11', 'asap', 'asapa', 'asapp', 'asault', 'asbesto', 'ascend', 'ascens', 'ascertain', 'ascet', 'asco', 'asd', 'asdad', 'asdc', 'asembl', 'asf', 'asgard', 'ash', 'asham', 'ashant', 'ashfal', 'ashia', 'ashol', 'ashop', 'asi', 'asia', 'asian', 'asid', 'asimov', 'asinin', 'asistent', 'asjk', 'ask', 'askew', 'asleep', 'asleeplel', 'aslo', 'aslong', 'asoci', 'asond', 'asondanod', 'aspec', 'aspeci', 'aspect', 'aspectof', 'aspectwhat', 'aspettatevi', 'asphalt', 'aspir', 'asqueroso', 'asrieldr', 'ass', 'assaign', 'assail', 'assain', 'assasin', 'assassian', 'assassin', 'assault', 'assaultth', 'assbeak', 'assembl', 'assemble', 'asses', 'assess', 'assest', 'asset', 'assetto', 'assettocorsa', 'assez', 'asshat', 'assign', 'assimil', 'assinin', 'assist', 'associ', 'assort', 'assosi', 'asss', 'assualt', 'assulat', 'assult', 'assum', 'assumpt', 'assur', 'ast', 'aster', 'asteroid', 'astet', 'asthet', 'astonish', 'astori', 'astorytel', 'astound', 'astoundingli', 'astounish', 'astral', 'astrali', 'astrid', 'astro', 'astroglid', 'astroid', 'astronim', 'astronom', 'astut', 'asu', 'asumpt', 'asupport', 'asura', 'asuri', 'asval', 'aswel', 'aswell', 'asymetr', 'asymetricli', 'asynch', 'asynchron', 'asyou', 'at', 'atacama', 'atackc', 'atackv', 'atari', 'atc', 'atcon', 'atcsyou', 'ate', 'atem', 'atempt', 'ater', 'atg', 'atheism', 'athena', 'athlet', 'athlon', 'athmospähr', 'athriti', 'ati', 'atitud', 'atk', 'atk1800', 'atk300', 'atla', 'atlana', 'atlanti', 'atleast', 'atlest', 'atm', 'atmosher', 'atmospher', 'atmostpher', 'atom', 'atop', 'atra', 'atrasl', 'atribut', 'atrix', 'atroci', 'atropellar', 'atrăgător', 'attach', 'attachemnt', 'attack', 'attack15', 'attackand', 'attackdemoman', 'attackfirst', 'attackphas', 'attackresolut', 'attah', 'attain', 'attatch', 'atteggiamento', 'attemp', 'attempt', 'attend', 'attent', 'attentioni', 'attentionvanu', 'attenzion', 'attest', 'attet', 'atticu', 'attidut', 'attir', 'attitud', 'attlas993', 'attmept', 'attnet', 'attract', 'attrib', 'attribut', 'attrit', 'attroc', 'attun', 'atv', 'atwil', 'atyp', 'atziri', 'atât', 'au', 'auch', 'auctal', 'auction', 'auctionand', 'auctual', 'aud', 'audi', 'audianc', 'audienc', 'audio', 'audiobook', 'audiolog', 'audiophil', 'auditori', 'auf', 'aufzustehen', 'aug', 'augh', 'aughhhh', 'augment', 'august', 'auifit', 'aunqu', 'aura', 'auraxi', 'aurora', 'auschwitz', 'ausländer', 'aussenseit', 'aussi', 'australasia', 'australia', 'australian', 'australin', 'australium', 'autant', 'auth', 'authent', 'author', 'authoris', 'authoritarian', 'autism', 'autist', 'auto', 'autoaim', 'autoattack', 'autobal', 'autobalanceeternaween', 'autoban', 'autocad', 'autoclick', 'autocorrect', 'autodrom', 'autofil', 'autofir', 'autofocu', 'autograph', 'autoh', 'autoit2ex', 'autoload', 'autom', 'automac', 'automat', 'automaticli', 'automatticali', 'automobil', 'automobilista', 'autonom', 'autopilot', 'autoplay', 'autorun', 'autosquelch', 'autosync', 'autotarget', 'autotrad', 'autotyp', 'autoupd', 'autumn', 'av', 'ava', 'avaiabl', 'avaibl', 'avail', 'availab', 'availablefre', 'availi', 'avait', 'aval', 'avalanch', 'avali', 'avaliab', 'avang', 'avantaj', 'avanzar', 'avareg', 'avast', 'avatar', 'avatar_94_mahthen', 'ave', 'avea', 'avec', 'aveng', 'aventur', 'averag', 'averageo', 'avereg', 'averg', 'averi', 'avet', 'avg', 'avi', 'avia', 'aviabl', 'avial', 'aviat', 'aviaton', 'avicii', 'avid', 'avio', 'aviod', 'avion', 'avjnj', 'avoid', 'avoid5', 'avoir', 'avon', 'avp1', 'avp2', 'avrag', 'aw', 'await', 'awak', 'awaken', 'awar', 'award', 'awarderd', 'awardy', 'awareperuvian', 'awarn', 'away', 'awaydespit', 'awe', 'aweeeesomeit', 'aweom', 'aweosm', 'awescom', 'awesmo', 'awesom', 'awesomecon', 'awesomeee', 'awesomekeep', 'awesomelik', 'awesomenaut', 'awesomeon', 'awesomewel', 'awewsom', 'awful', 'awfulcontrol', 'awhil', 'awhol', 'awilix', 'awkward', 'awkwardish', 'awkwardli', 'awol', 'awp', 'awri', 'awsom', 'awsum', 'aww', 'awww', 'awwww', 'ax', 'axe', 'axeget', 'axei', 'axi', 'ay', 'aye', 'ayi', 'aylsebh8dj4', 'aynı', 'ayuda', 'az', 'azazel', 'azerti', 'azoth', 'azulian', 'azz', 'aâ', 'aã', 'aşırı', 'aż', 'b00b135', 'b00m', 'b00rsxrlue', 'b1', 'b2', 'b25', 'b4', 'b5aebodw', 'b7uuyt7u8p9ojp', 'b99', 'ba', 'baaaaad', 'baaad', 'baal', 'babadabadoodoo', 'babbl', 'babe', 'babi', 'babyfac', 'babysit', 'bacana', 'bacaus', 'bace', 'bachelor', 'back', 'back3', 'backach', 'backburn', 'backday', 'backdoor', 'backdrop', 'backer', 'backeveryth', 'backfil', 'backfir', 'background', 'backhand', 'backi', 'backinblack', 'backlash', 'backlog', 'backmilkman', 'backpack', 'backpeddl', 'backround', 'backseat', 'backsid', 'backstab', 'backstabb', 'backstori', 'backtail', 'backtrac', 'backtrack', 'backup', 'backwar', 'backward', 'bacon', 'bacteriologist', 'bad', 'badass', 'badasswhen', 'badcon', 'baddass', 'badder', 'baddest', 'baddi', 'badeac', 'badfield', 'badfin', 'badg', 'badgameplay', 'badger', 'badguy', 'badi', 'badland', 'badli', 'badmouth', 'bado', 'badqueu', 'badstoo', 'badthough', 'badumtissssi', 'badâ', 'bae', 'baffl', 'bag', 'bagelstep', 'baggag', 'bagi', 'bagogam', 'baguett', 'bahavior', 'bahsetmiyorum', 'baigel', 'baikal', 'bail', 'bait', 'baja', 'bajillion', 'bak', 'baka', 'bakasura', 'bake', 'bakeri', 'bakura', 'balac', 'balacn', 'balalnc', 'balan', 'balanac', 'balanc', 'balancedgraph', 'balancedmultiplay', 'balancedoveral', 'balancehit', 'balancesmooth', 'balancing0', 'bald', 'balder', 'baldur', 'balenc', 'bali', 'balisong', 'balk', 'ball', 'ballanc', 'ballenc', 'baller', 'ballest', 'ballgam', 'ballist', 'ballistix', 'ballon', 'balloon', 'ballpark', 'ballparki', 'ballsack', 'balnc', 'baloon', 'balor', 'bam', 'bambi', 'bamboo', 'ban', 'bana', 'banal', 'banana', 'band', 'bandag', 'bandit', 'bandoli', 'bandwagon', 'bandwidth', 'bandwith', 'bane', 'bang', 'bangin', 'bangladesh', 'bani', 'banish', 'bank', 'bankcrupt', 'banker', 'bankrupt', 'banlist', 'banner', 'bannin', 'banter', 'banthu', 'bao', 'baout', 'baptiz', 'bar', 'barack', 'barato', 'barb', 'barbarian', 'barber', 'barbershop', 'barbi', 'bardzo', 'bare', 'barebon', 'barelli', 'barf', 'barg', 'bargain', 'barik', 'bark', 'barley', 'barn', 'baron', 'barrack', 'barrag', 'barrel', 'barren', 'barrett', 'barri', 'barricad', 'barrier', 'barrol', 'barstwix', 'bartend', 'barter', 'baru', 'base', 'basebal', 'basecaptur', 'baseif', 'baselin', 'basemak', 'basement', 'baserepeat', 'bash', 'bashi', 'bashiok', 'basi', 'basic', 'basicali', 'basicli', 'basiklisk', 'basilisk', 'basissom', 'basit', 'basiv', 'basket', 'basketbal', 'bass', 'bassi', 'bassic', 'bastant', 'bastard', 'bastardsnip', 'basterd', 'bastion', 'bat', 'batallion', 'batch', 'bath', 'bathesda', 'bathroom', 'batl', 'batman', 'batrid', 'batt', 'battalion', 'battel', 'battelfield', 'battelroy', 'battelship', 'batter', 'batteri', 'batteryeasi', 'battl', 'battle3', 'battleblock', 'battleborn', 'battlebu', 'battlechas', 'battlecri', 'battlecruis', 'battlecrylast', 'battlecup', 'battlefeild', 'battlefest', 'battlefield', 'battlefieldand', 'battlefieldbusi', 'battlefieldjar', 'battlefleet', 'battlefront', 'battlefuri', 'battlegroud', 'battleground', 'battlenet', 'battlenonsens', 'battleon', 'battlepack', 'battlepass', 'battler', 'battlerank', 'battleroy', 'battleroyal', 'battles1v1', 'battles2', 'battles3', 'battlesamerica', 'battlesaudi', 'battlesfin', 'battlesgreat', 'battleship', 'battlesif', 'battlesoveral', 'battlespro', 'battlest', 'battlestar', 'battletank', 'battley', 'battolfild', 'battri', 'baught', 'bavarian', 'bave', 'baw', 'bawl', 'baxter', 'bay', 'bayl', 'baza', 'bazillion', 'bazooka', 'bazookajo', 'bb', 'bbi', 'bbq', 'bc', 'bcaus', 'bcuz', 'bd', 'bday', 'bdo', 'be', 'beacaus', 'beach', 'beachbrawl', 'beacon', 'beacuas', 'beacus', 'bead', 'beaki', 'beam', 'beamng', 'beamz', 'bean', 'beanstanden', 'bear', 'bearabl', 'beard', 'beast', 'beasti', 'beastli', 'beastlord', 'beat', 'beatdown', 'beatem', 'beaten', 'beati', 'beatiful', 'beatin', 'beatl', 'beatlemania', 'beatufiul', 'beatuti', 'beauitul', 'beauti', 'beautifi', 'beautifl', 'beautiful', 'beautifulcon', 'beautifuli', 'beautifulx', 'beautiul', 'beauty', 'beaver', 'beavi', 'bec', 'becaim', 'becam', 'becaom', 'becar', 'becas', 'becasu', 'becau', 'becaus', 'becauseit', 'becauseon', 'becausethi', 'becccuseud', 'becid', 'becm', 'becom', 'becomr', 'becon', 'becou', 'becous', 'becu', 'becuas', 'becues', 'becus', 'bed', 'bedeutet', 'bedrock', 'bedroom', 'bedsheet', 'bedtim', 'bee', 'beeeeeepwhat', 'beeeeep', 'beeeeepppp', 'beeeep', 'beef', 'beefi', 'beefier', 'beefspooki', 'beel', 'beelzabub', 'beem', 'been', 'beennot', 'beep', 'beer', 'beeshould', 'beeswax', 'beethoven', 'beetj', 'beetl', 'beffor', 'befor', 'beforehand', 'befriend', 'beg', 'begain', 'began', 'beggar', 'beggin', 'begginn', 'beggir', 'beggn', 'begin', 'beginn', 'beginnt', 'beginsto', 'begrudg', 'begun', 'begun400hour', 'behav', 'behavior', 'behaviour', 'behemith', 'behemoth', 'behemothlik', 'behind', 'behindcon', 'behold', 'behomoth', 'bei', 'bein', 'belat', 'beleiev', 'beleiv', 'belgian', 'belgium', 'belief', 'believ', 'belittl', 'beliv', 'bell', 'bella', 'belli', 'bello', 'bellona', 'bellow', 'bellstep', 'belong', 'belov', 'below', 'belowaft', 'belowfix', 'belt', 'bem', 'bemoan', 'ben', 'bench', 'benchmark', 'bend', 'bene', 'beneath', 'benedict', 'benef', 'benefici', 'benefit', 'beneift', 'benelov', 'benfit', 'benifit', 'benim', 'benjamin', 'benoch', 'bent', 'benzetmek', 'bequeath', 'berk', 'berlin', 'berni', 'bersa', 'berserk', 'berzerk', 'beserk', 'besid', 'besimilar', 'besoin', 'besometh', 'besser', 'besst', 'best', 'best_pc_2016', 'bestand', 'besteht', 'bestfriend', 'bestiari', 'bestmi', 'bestmust', 'bestow', 'bestth', 'bestâ', 'bet', 'beta', 'beta0', 'betcha', 'beteen', 'betelgeus', 'beter', 'betesda', 'beth', 'bethasda', 'bethesda', 'bethesday', 'bethsda', 'betid', 'betrail', 'betray', 'bett', 'better', 'better9', 'betteraft', 'betterbad', 'bettercan', 'betteredit', 'betteri', 'betterin', 'bettero', 'betteroveral', 'betterrepair', 'betterth', 'betterthanpubg', 'betterveri', 'betterwhen', 'bettween', 'between', 'beurteilen', 'beuti', 'beutif', 'bewar', 'bewd', 'bewertung', 'bex', 'bey', 'beyon', 'beyond', 'bezahlen', 'bezeichnen', 'bezich', 'bezumiya', 'bf', 'bf109', 'bf1942', 'bf2', 'bf2143', 'bf3', 'bf4', 'bfg', 'bfr', 'bfv', 'bg', 'bgm', 'bh', 'bi', 'bia', 'bias', 'biasli', 'biathalon', 'bibl', 'bibpdki', 'bicaus', 'bicolor', 'bicycl', 'bien', 'bieng', 'biffi', 'big', 'bigcon', 'biger', 'bigest', 'bigg', 'bigger', 'biggest', 'biggi', 'biggin', 'bigot', 'biig', 'biiiig', 'biiiiiiiiiiiiiiiiiiiiiiiiiigggggg', 'bike', 'bikini', 'biku', 'bile', 'bilgisayarla', 'bilingu', 'bill', 'billion', 'billionair', 'bilmiyorum', 'bimo', 'bin', 'binari', 'binarri', 'bind', 'bine', 'bing', 'bingeabl', 'bingo', 'binladin', 'binocular', 'bio', 'biodom', 'biographi', 'biolab', 'bioloab', 'biolog', 'biom', 'biorą', 'bioshock', 'biowar', 'biplan', 'bipolar', 'bir', 'birbiyl', 'bird', 'birdshot', 'birth', 'birthday', 'birthrghth', 'birthright', 'birşey', 'biscuit', 'bishop', 'bisogno', 'bison', 'bist', 'bit', 'bitcoin', 'bite', 'bitno', 'bittch', 'bitter', 'bittersweet', 'bitth', 'biuld', 'biweekli', 'biz', 'bizarr', 'bizzilion', 'bj', 'bl', 'bl2', 'bla', 'blabber', 'blablabla', 'blachshark', 'black', 'blackhawk', 'blackhol', 'blacklight', 'blackmodeplay', 'blackop', 'blackout', 'blackshark', 'blackshot', 'blacksmith', 'bladder', 'blade', 'blah', 'blahblahbla', 'blak', 'blam', 'blame', 'blamer', 'blanc', 'blanchwood', 'bland', 'blandmus', 'blandth', 'blank', 'blankand', 'blanket', 'blantantli', 'blaser', 'blasphem', 'blasphemi', 'blast', 'blaster', 'blasti', 'blastin', 'blastur', 'blatant', 'blatantli', 'blatent', 'blaze', 'blazer', 'blazz', 'bleach', 'bleak', 'bleat', 'bleed', 'bleh', 'bleiben', 'bleibt', 'blend', 'blend1', 'blender', 'bless', 'blet', 'blew', 'blewup', 'bli', 'blij', 'blimp', 'blin', 'blind', 'blindfold', 'blindli', 'bling', 'blink', 'blip', 'bliss', 'blister', 'blitz', 'blitzi', 'blitzkrieg', 'blizz', 'blizzard', 'blizzturd', 'blizzzard', 'bloat', 'blob', 'block', 'blockad', 'blocker', 'blocki', 'blocksfun', 'blockstly', 'blog', 'blogspot', 'bloke', 'blond', 'blood', 'bloodbath', 'bloodborn', 'bloodi', 'bloodlin', 'bloodlust', 'bloodseek', 'bloodsuck', 'bloom', 'bloomer', 'bloon', 'bloonjitsu', 'bloonsif', 'blop', 'blossom', 'blow', 'blowback', 'blowi', 'blown', 'blowout', 'blt', 'blu', 'bluargh', 'blub', 'blue', 'bluebprint', 'blueflag', 'bluehol', 'blueprint', 'blueprintsi', 'bluescreen', 'bluestack', 'bluetooth', 'bluetsack', 'bluf', 'bluff', 'blunder', 'bluntli', 'bluntlyhonest', 'blur', 'blurb', 'blurri', 'blush', 'blutsaug', 'blöd', 'bm', 'bmed', 'bmg', 'bmgwell', 'bming', 'bmw', 'bnz', 'bo', 'bo1', 'bo2', 'bo4', 'boa', 'boar', 'board', 'boardclog', 'boardcut', 'boarder', 'boarderlin', 'boardgam', 'boardinteract', 'boardwip', 'boast', 'boat', 'boatload', 'boay', 'bob', 'bobcat', 'bobo', 'bode', 'bodi', 'bodvar', 'boe', 'bog', 'boggl', 'bogu', 'boi', 'boii', 'boiiiiii', 'boiiiiiiiiiiiiiiiiiiiiiiiiiiiiiiiiiiiiiiiiiiiiiiiiiiiiiiiiiiiiiiiiiiiiiiiiiiiiiiiiiiiiiiiiiiiiiiiiiiiiiiiiiiiiiiiiiiiiiiiiiiiiiiiiiiiiiiiiiiiiiiiiiiiiiiiiiiiiiiiiiiiiiiiiiiiiiiiiiiiiiiiiiiiiiiiiiiiiiiiiiiiiiiiiiiiiiiiiiiiiiiiiiiiiiiiiiiiiiiiiiiiiiiiiiiiiiiiiiiiiiiiiiiiiiiiiiiiiiiiiiiiiiiiiiiiiiiiiiiiiiiiiiiiiiiiiiiii', 'boiiiiiio', 'boil', 'boiler', 'bois', 'boiz', 'bok', 'bold', 'boldli', 'boliv', 'bolt', 'bom', 'bomb', 'bombard', 'bombast', 'bombastisch', 'bomber', 'bombsketbal', 'bon', 'bonanza', 'bond', 'bone', 'boneless', 'boner', 'bonesaw', 'bonheur', 'boni', 'bonk', 'bonker', 'bonu', 'bonus', 'bonusdepend', 'bonusi', 'bonuss', 'boo', 'boob', 'boobi', 'boobs10', 'boobs3', 'boobsi', 'boobsoh', 'boobswin', 'book', 'bookstor', 'boolin', 'boom', 'boomer', 'boomerang', 'boomstick', 'boon', 'booniecrocket', 'booob', 'boop', 'boor', 'boost', 'booster', 'boostrap', 'boostsлучшая', 'boot', 'bootcamp', 'booti', 'bootleg', 'bootycan', 'bootyful', 'booy', 'booz', 'bor', 'bora', 'bord', 'border', 'borderl', 'borderland', 'borderless', 'borderlin', 'bore', 'boredcam', 'boreddddd', 'boreddo', 'boredom', 'borefest', 'boriig', 'boringa', 'boringthi', 'boringâ', 'born', 'bornz', 'boro', 'borrow', 'borther', 'bosnia', 'bosnian', 'bosniaserbia', 'boss', 'bossesdungeon', 'boston', 'bosum', 'bot', 'botami', 'botch', 'both', 'bother', 'botherhood', 'bothersom', 'bothremind', 'botnet', 'boto', 'botshav', 'bottem', 'botter', 'bottl', 'bottlecap', 'bottleneck', 'bottom', 'bottomi', 'bottomless', 'bottomlin', 'bottura', 'bough', 'bought', 'bougt', 'bounc', 'bounci', 'bound', 'boundari', 'boundrari', 'bounti', 'boush', 'bout', 'bove', 'bow', 'bowel', 'bowhunt', 'bowl', 'bowland', 'box', 'box485', 'boxbug', 'boxer', 'boxheavi', 'boxs', 'boy', 'boycott', 'boyfriend', 'bp', 'br', 'br100', 'braaaawwlllhaaala', 'brace', 'bracket', 'bradforle', 'bradman', 'brag', 'braggin', 'brah', 'brahmin', 'braid', 'brain', 'braindead', 'brainer', 'brainier', 'brainless', 'brainpow', 'brainstorm', 'brake', 'bralhalla', 'branc', 'branch', 'brand', 'brandi', 'brang', 'brasil', 'brass', 'brat', 'brauchen', 'bravalo', 'brave', 'braveheart', 'bravo', 'brawhalla', 'brawhallala', 'brawl', 'brawlbal', 'brawler', 'brawlhal', 'brawlhala', 'brawlhalla', 'brawller', 'brawlophob', 'brazil', 'brazilian', 'brazuka', 'breach', 'breack', 'bread', 'breadth', 'break', 'breakdown', 'breaker', 'breakfast', 'breakfortwarsand', 'breakfrom', 'breakout', 'breaksdown', 'breakth', 'breakthrough', 'breast', 'breasteded', 'breastplat', 'breastsalt', 'breath', 'breather', 'breathless', 'breathtak', 'breathtakingli', 'bred', 'breed', 'breeki', 'breez', 'breif', 'breifli', 'brenton', 'bresh', 'bretheren', 'brew', 'brewer', 'bri', 'brian', 'brick', 'brickbaron', 'bricklay', 'bridg', 'brie', 'brief', 'briefcas', 'briefli', 'bright', 'brighten', 'brighter', 'briliant', 'brillant', 'brillianc', 'brilliand', 'brilliant', 'brilliantli', 'brilliantmor', 'brim', 'brimston', 'brine', 'bring', 'bringf', 'bringg', 'brink', 'britain', 'britian', 'british', 'brittl', 'bro', 'broad', 'broadband', 'broadcast', 'broaden', 'broader', 'broadli', 'broadsid', 'broadsword', 'broek', 'broforc', 'broke', 'broken', 'broken2', 'brokenthi', 'broker', 'broni', 'bronz', 'brosa', 'brosand', 'bross', 'broth', 'brotha', 'brother', 'brotherhood', 'brought', 'brous', 'brown', 'brows', 'browser', 'browt', 'broz', 'brrrrrrrrrrrrrtyou', 'brrrrrrrt', 'bru', 'brudda', 'bruh', 'bruiser', 'bruiserdon', 'brush', 'brutal', 'brute', 'bruttali', 'brutu', 'brwoser', 'bryan', 'brynn', 'brücke', 'bs', 'bs2', 'bsg', 'bslot', 'bsnote', 'bsolut', 'bt', 'btd', 'btd5', 'btt', 'btu', 'btw', 'bu', 'bubbi', 'bubbl', 'bubblegum', 'bubon', 'bubu', 'buck', 'bucket', 'buckl', 'buckley', 'bucko', 'buckshot', 'bucksyou', 'bucktuck', 'bud', 'buddhano', 'buddhist', 'buddi', 'buddyplay', 'budget', 'bueller', 'buen', 'bueno', 'buenobackground', 'bueri', 'bueti', 'buf', 'buff', 'buffalo', 'buffer', 'buffet', 'buffsaft', 'buffsin', 'bug', 'bugbear', 'bugcon', 'bugfix', 'bugg', 'bugger', 'buggi', 'buggier', 'buggy8', 'buggybut', 'buggyjust', 'bugi', 'bugridden', 'bugs5', 'bugs9', 'bugscringi', 'bugskeyboard', 'bugso', 'buguy', 'buh', 'buhar', 'buid', 'buil', 'build', 'builder', 'buildingsand', 'buildsi', 'buildth', 'buildup', 'builid', 'buill', 'built', 'buis', 'buisi', 'bukan', 'bulg', 'bulid', 'bulk', 'bulki', 'bull', 'bullcrap', 'bulldoz', 'bullet', 'bulletdrop', 'bullethel', 'bulletin', 'bulletproof', 'bullfrog', 'bulli', 'bullock', 'bullrush', 'bullsh', 'bullt', 'bult', 'buluee', 'bulwark', 'bum', 'bum4', 'bummer', 'bump', 'bun', 'bunc', 'bunch', 'bundel', 'bundl', 'bung', 'bungalow', 'bungi', 'bunk', 'bunker', 'bunneh', 'bunni', 'bunter', 'buon', 'buona', 'buono', 'buoy', 'burada', 'burden', 'bure', 'bureaucrat', 'burgeon', 'burger', 'buri', 'burn', 'burner', 'burnout', 'burnt', 'burp', 'burrito', 'burst', 'buscando', 'buse', 'bush', 'bushwhack', 'busi', 'businesstour', 'bussi', 'bussin', 'bust', 'buster', 'busti', 'busywork', 'but', 'butbecaus', 'butcan', 'butcher', 'butcherblock', 'bute', 'butfrom', 'buth', 'butherei', 'buti', 'butin', 'butnow', 'buton', 'butov', 'butr', 'butt', 'butter', 'butter2', 'butter3', 'butter40', 'butterbal', 'butterfli', 'butteri', 'butthat', 'butthi', 'butthurt', 'buttion', 'buttload', 'buttock', 'button', 'buttona', 'buttonmash', 'buttons4', 'buttseck', 'butuh', 'buug', 'buurst', 'buut', 'buuuut', 'buuuuut', 'bux', 'buy', 'buy9', 'buyabl', 'buybut', 'buydownstart', 'buyer', 'buygreat', 'buyin', 'buylook', 'buyplz', 'buzz', 'buzzi', 'buzzwel', 'bwahahahaha', 'bwc', 'by', 'bye', 'byggtpcfg7uhttp', 'byla', 'bypass', 'byte', 'bã', 'bèta', 'bödvar', 'bù', 'bút', 'bądź', 'będzie', 'będziesz', 'bırakabilmiş', 'bırakırsak', 'c0000005', 'c14', 'c3dd0f2f', 'c4', 'c64', 'c7', 'c96', 'c9b6', 'ca', 'cab', 'caballito', 'cabela', 'cabeça', 'cabin', 'cabrakan', 'cach', 'cactus_chuck', 'cad', 'cada', 'cadboard', 'caetera', 'cafeteria', 'cage', 'cake', 'caketop', 'cal', 'calandar', 'calcul', 'calculat', 'calculo', 'calib', 'calibr', 'california', 'caliwood', 'call', 'callaway', 'callback', 'caller', 'callerâ', 'callout', 'calm', 'calmer', 'calous', 'calss', 'cam', 'came', 'camembert', 'cameo', 'camera', 'cameraand', 'cameraderi', 'camgrow', 'camo', 'camoflag', 'camoflagu', 'camoflaug', 'camoflaugh', 'camouflag', 'camp', 'campa', 'campagin', 'campagn', 'campaign', 'campaignfre', 'campaigninclud', 'campain', 'campang', 'campcsgo', 'camper', 'campersplay', 'campersth', 'campfir', 'campi', 'campiagn', 'campign', 'campinguninstal', 'campion', 'campo', 'campsit', 'can', 'canada', 'canadian', 'canb', 'cancel', 'cancer', 'canceratallxddddddddddddddddddddddddddddddddddddddddddddddddddddddddddddkillm', 'cancerdo', 'cancodemon', 'cand', 'candan', 'candi', 'candid', 'candl', 'candoria', 'candycrush', 'candyland', 'canhard', 'cani', 'canned1', 'cannedâ', 'cannib', 'cannon', 'cannonfodd', 'cannot', 'canon', 'canopi', 'cant', 'cantina', 'canva', 'canyon', 'canâ', 'cap', 'capabl', 'capac', 'capacityclimb', 'capacityski', 'capacitystart', 'capaign', 'capapbl', 'cape', 'capibl', 'capif', 'capit', 'capitalis', 'capitalism10', 'capitalist', 'capitalship', 'capito', 'capitol', 'cappi', 'capship', 'capsul', 'captain', 'captainra11', 'captin', 'caption', 'captionsfor', 'captiv', 'captor', 'captur', 'caput', 'car', 'caracet', 'caract', 'caracterplätz', 'carad', 'caramel', 'caramida10', 'carass', 'carath', 'carbin', 'carboard', 'carbon', 'carbox', 'carcass', 'card', 'cardbas', 'cardboard', 'cardboard10', 'cardbox', 'cardgam', 'cardit', 'cardpool', 'cardsmor', 'cardss', 'cardswaifu', 'cardth', 'care', 'careen', 'career', 'careerat', 'careful', 'carefullybecaus', 'careless', 'carewhat', 'carfuli', 'cargo', 'cari', 'carib', 'carin', 'carina', 'carino', 'carlton', 'carnag', 'carniv', 'carobu', 'carol', 'carp', 'carpack', 'carpal', 'carpet', 'carpul', 'carr', 'carri', 'carrier', 'carriesanyon', 'cars2', 'carsbusmilitari', 'carsh', 'carshotgunspistolsriflesmach', 'carsif', 'cart', 'carta', 'cartesian', 'cartoon', 'cartooney', 'cartooni', 'cartoonish', 'carv', 'casa', 'cascad', 'case', 'cash', 'casher', 'cashgrab', 'cashhhh', 'cashi', 'cashit', 'cashop', 'cashshop', 'casino', 'casiual', 'caso', 'cassett', 'cassi', 'cassidi', 'cast', 'caster', 'castl', 'castrat', 'casu', 'casual', 'casuali', 'casualplay', 'casualti', 'casualwhat', 'casul', 'cat', 'cataclysm', 'catagoeri', 'catagori', 'catalog', 'catalogu', 'catapult', 'catastroph', 'catch', 'catchi', 'catchup', 'cate', 'categori', 'categoriesscor', 'categoti', 'cater', 'catgirl', 'cathart', 'cathol', 'cathulu', 'catoonish', 'catty313', 'catur', 'catwalk', 'catâ', 'caucasu', 'caught', 'caus', 'causal', 'causam', 'causaram', 'causeuhhhhh', 'causual', 'caution', 'cautiou', 'cave', 'caveat', 'cavern', 'cavi', 'caviti', 'cavol', 'cawaduti', 'cay', 'cazi', 'całego', 'całi', 'cb', 'cbt', 'cbu', 'cbut', 'cbuy', 'cc', 'cc8c867e167736659a21271ae1160e5f', 'cccccccccccooooooooooooooooooossssssssssssssssiiiiiiiiiiiiiiiiiiiitttttttttttttttaaaaaaaaaaaaaa', 'ccertain', 'ccg', 'ccger', 'ccu', 'ccxjs3dx8', 'cd', 'ce', 'cealingsatisfiy', 'ceap', 'ceas', 'ceea', 'ceil', 'celciu', 'cele', 'celebr', 'celesti', 'cell', 'cellphon', 'celsiu', 'cemetari', 'cen', 'cena', 'censor', 'censorship', 'cent', 'centaur', 'center', 'centr', 'central', 'centric', 'centruy', 'centuri', 'centurion', 'ceo', 'ceram', 'cereal', 'cerebr', 'ceremoni', 'cert', 'certain', 'certainli', 'certainlli', 'certaint', 'certainti', 'certan', 'certanli', 'certantli', 'certian', 'certianli', 'certif', 'certifi', 'certin', 'certscon', 'cessa', 'cessna', 'cesspool', 'cetainli', 'cetera', 'ceubiesreview', 'ceux', 'ceva', 'cfs3', 'cg', 'cgi', 'ch', 'chaac', 'chaarcter', 'chace', 'chacha', 'chacter', 'chacun', 'chaff', 'chaffe', 'chain', 'chaingun', 'chainz', 'chair', 'chakra', 'chal', 'chalang', 'chaleng', 'chalk', 'challang', 'challeg', 'challen', 'challenag', 'challeneg', 'challeng', 'challenges10', 'challengesgood', 'challengesnew', 'challengessmooth', 'challengeth', 'challengin', 'challengingbug', 'challengingcannot', 'challengingy', 'challng', 'chamber', 'champ', 'champion', 'championship', 'chan', 'chanc', 'chancelegendari', 'chanel', 'chang', 'changeabl', 'changelog', 'changer', 'changesbuffsnerfsnew', 'changesclass', 'changessummari', 'changew', 'channel', 'chant', 'chao', 'chaotic', 'chaotisch', 'chapeaux', 'chapin', 'chapter', 'char', 'chara', 'charac', 'characht', 'charact', 'character', 'charactercan', 'characterfun', 'characteris', 'characterisitc', 'characterist', 'characternic', 'characters2', 'charactersadd', 'characterscon', 'characterscozi', 'charactersgood', 'characterstf2', 'charactersth', 'charactersthi', 'characterswhen', 'characteryour', 'charactherist', 'charactur', 'charakt', 'charakteri', 'charast', 'charat', 'charatc', 'charath', 'charchter', 'charcter', 'charect', 'charg', 'chargeabl', 'charict', 'charisma', 'charismasecondari', 'charismat', 'chariti', 'charli', 'charm', 'charm3r', 'charmand', 'charmi', 'charmx', 'charr', 'chart', 'chase', 'chaser', 'chasi', 'chassi', 'chat', 'chat10', 'chatact', 'chatbox', 'chatbut', 'chatiniti', 'chatreck', 'chatroom', 'chatshort', 'chatter', 'chatterbox', 'chazz', 'che', 'cheaetr', 'cheakout', 'cheap', 'cheaper', 'cheapest', 'cheapli', 'cheapo', 'cheapskat', 'cheapwith', 'cheat', 'cheater', 'cheaters2', 'cheatersplanetsid', 'cheatydoodl', 'check', 'checkbox', 'checker', 'checkgood', 'checki', 'checklist', 'checkmark', 'checkn', 'checkout', 'checkpoint', 'checkrac', 'checkwhat', 'cheddar', 'chee', 'cheek', 'cheeki', 'cheep', 'cheer', 'cheeri', 'cheerlead', 'chees', 'cheese1', 'cheesecak', 'cheesemakingacidif', 'cheesesgarnish', 'cheesi', 'cheetah', 'chef', 'chek', 'chemic', 'chemistri', 'chemotheraphi', 'cherect', 'cherish', 'chernebog', 'chernobyl', 'cherri', 'chess', 'chessboard', 'chesslik', 'chessup', 'chest', 'chestsfor', 'chestsultim', 'chew', 'chewi', 'chi', 'chiar', 'chibbi', 'chick', 'chicken', 'chickencon', 'chickensdon', 'chief', 'chieftain', 'chiefv4', 'child', 'childer', 'childeren', 'childhood', 'childish', 'children', 'chile', 'chili', 'chill', 'chillest', 'chillin', 'chilren', 'chin', 'china', 'chinees', 'chines', 'chinese中国語は必要n', 'chinesisch', 'chinesischnecesitamo', 'ching', 'chinga', 'chino', 'chinoi', 'chinoiswir', 'chinopotrzebujemi', 'chinprecisamo', 'chinê', 'chinêsнам', 'chip', 'chipmunk', 'chipotl', 'chiptun', 'chirp', 'chistoy', 'chizard', 'chizzard', 'chkalov', 'chloromans', 'chnage', 'choatic', 'choci', 'chock', 'choco', 'chocol', 'choic', 'choir', 'chois', 'choke', 'chokepoint', 'choo', 'choos', 'choosemani', 'choosether', 'chop', 'choppa', 'chopped2', 'chopped4', 'chopper', 'choppi', 'choppili', 'choppy', 'chopter', 'chore', 'choreograph', 'choru', 'chorus', 'chose', 'chosen', 'choss', 'chould', 'chow', 'chrachter', 'chracter', 'chrash', 'chri', 'christ', 'christian', 'christma', 'chrome', 'chromebook', 'chronic', 'chronicl', 'chronolog', 'chronomag', 'chronomagegot', 'chtobi', 'chu', 'chuck', 'chuckl', 'chug', 'chumley', 'chump', 'chunck', 'chung', 'chungwa', 'chunk', 'chunki', 'chunks2', 'church', 'churchil', 'churn', 'churner', 'chutether', 'chybear', 'cháng', 'chúncuì', 'ciabatta', 'cicero', 'ciddi', 'ciel', 'cigar', 'cigarett', 'cilantro', 'cinemat', 'cing', 'cinnamon', 'cinnamon6', 'circa', 'circl', 'circu', 'circuit', 'circular', 'circumst', 'circumv', 'citi', 'citizen', 'civ', 'civi', 'civil', 'civilian', 'civilis', 'civillion', 'cię', 'ck', 'ckboy', 'ckcar', 'cked', 'cker', 'ckeri', 'ckin', 'cking', 'cksurviv', 'ckup', 'cl', 'clad', 'claim', 'clair', 'clam', 'clan', 'clane', 'clank', 'clanki', 'clanmat', 'clans6', 'clansesportscon', 'clansi', 'clap', 'claptrap', 'clarif', 'clarifi', 'clase', 'clash', 'clasic', 'clask', 'class', 'class10', 'classalso', 'classescon', 'classesdec', 'classesgreat', 'classeshigh', 'classesi', 'classesknight', 'classess', 'classessingl', 'classesth', 'classesther', 'classi', 'classic', 'classif', 'classifi', 'classmat', 'classroom', 'classs', 'claud', 'claus', 'claustrophob', 'claw', 'clay', 'claymor', 'clcid', 'clean', 'cleaner', 'cleanli', 'cleanui', 'clear', 'cleara', 'clearer', 'clearli', 'clearview', 'cleav', 'cleavag', 'clens', 'clergi', 'cleric', 'clericlead', 'cless', 'clever', 'cleverli', 'clich', 'cliché', 'click', 'clickabl', 'clickbait', 'clickbat', 'clickcramp', 'clicker', 'clicker2', 'clickeralso', 'clickerbas', 'clickeresqu', 'clickergam', 'clickery', 'clickfest', 'clicki', 'clickiti', 'clickmod', 'client', 'cliental', 'clientsid', 'cliff', 'climabl', 'climact', 'climat', 'climax', 'climb', 'climbabl', 'climber', 'climbingpick', 'climbl', 'cling', 'clink', 'clip', 'clitch', 'cloacker', 'cloak', 'cloaker', 'cloaki', 'clock', 'clockwork', 'clod', 'clog', 'clon', 'clone', 'clonei', 'clop', 'close', 'closer', 'closerto', 'closeset', 'closest', 'closet', 'closewr', 'closingeverquest', 'closur', 'cloth', 'clothesso', 'cloud', 'cloudcad', 'cloudsav', 'clove', 'clovervidia', 'clown', 'clu', 'club', 'clubber', 'clubbin', 'clubsport', 'clubworld', 'cluck', 'clue', 'clueless', 'clumbersom', 'clumbsi', 'clumsi', 'cluncki', 'clunker', 'clunki', 'clunkier', 'cluster', 'clusterfu', 'clutch', 'clutter', 'clwan', 'clássico', 'cm', 'cmon', 'cna', 'cnan', 'cnt', 'cntrl', 'co', 'coach', 'coagul', 'coain', 'coal', 'coalesc', 'coars', 'coast', 'coaster', 'coat', 'coattail', 'coax', 'cobalt', 'cobbl', 'cobra', 'coc', 'cocain', 'cock', 'cocki', 'cockpit', 'cockroach', 'coconut', 'cocpit', 'cod', 'cod4', 'codconscrouch', 'code', 'codemast', 'coder', 'codsom', 'codwwiided', 'cof', 'coffe', 'coffin', 'cog', 'coggwel', 'cognit', 'coher', 'cohes', 'coil', 'coin', 'coincid', 'coinsa', 'coinspay', 'coinsso', 'cointoss', 'coisa', 'coke', 'col', 'cola', 'colabor', 'coland', 'cold', 'colder', 'colis', 'collabor', 'collaps', 'colleagu', 'collect', 'collectathon', 'collectionist', 'collectionslow', 'collector', 'colleg', 'collid', 'collis', 'colloni', 'collor', 'collos', 'colloseum', 'collossu', 'collosu', 'collum', 'coloni', 'color', 'colorado', 'colorblind', 'colorful', 'colorless', 'coloss', 'colossi', 'colossu', 'colour', 'colt', 'coltm1911', 'coltran', 'column', 'columnmultiplay', 'com', 'coma', 'comabt', 'comand', 'comapni', 'comapnion', 'comb', 'combactraven', 'comban', 'combat', 'combatcon', 'combatin', 'combatlik', 'combatnic', 'combatuniqu', 'combien', 'combin', 'combinacion', 'combinant', 'combind', 'combo', 'comboher', 'combon', 'comboshattorirank', 'combossmooth', 'combosvast', 'combt', 'come', 'comeback', 'comed', 'comedi', 'comedian', 'coment', 'comepar', 'comeplet', 'comer', 'comerc', 'comerci', 'comesom', 'comesy', 'comet', 'comfi', 'comfirm', 'comfort', 'comi', 'comic', 'comicsový', 'comin', 'cominciamo', 'comingf', 'comission', 'comit', 'comix', 'comm', 'comma', 'commanch', 'command', 'commando', 'commenc', 'commend', 'commenst', 'comment', 'commentair', 'commentari', 'commentor', 'commerci', 'commerciel', 'commerz', 'commin', 'commit', 'commnun', 'commod', 'common', 'commonfind', 'commonli', 'commonplac', 'commonsensemedia', 'commu', 'commuinti', 'commum', 'commun', 'communauti', 'communicate5', 'communicatingtf2', 'communicationplay', 'communion', 'communist', 'community6', 'community7', 'community9', 'communityand', 'communityclub', 'communitycon', 'communityi', 'communityit', 'communitynon', 'communityok', 'communityoveral', 'communityth', 'communityvast', 'communiy', 'communt', 'communti', 'communtiy', 'comnav', 'comnun', 'como', 'comodor69', 'comp', 'compact', 'compactor', 'compaign', 'compain', 'compair', 'compairng', 'compani', 'companion', 'compant', 'compar', 'comparas', 'comparis', 'comparison', 'compariss', 'comparris', 'compartment', 'compass', 'compat', 'compati', 'compatiblil', 'compatit', 'compedit', 'compeit', 'compel', 'compelet', 'compeleti', 'compendium', 'compens', 'comper', 'compert', 'compes', 'compet', 'competantli', 'competeitv', 'competet', 'competetiv', 'competetor', 'competit', 'competitior', 'competitiv', 'competitive2', 'competitivelyend', 'competitivo', 'competiton', 'competitor', 'competitv', 'competivitythat', 'competli', 'compex', 'compil', 'compin', 'compitit', 'complac', 'complain', 'complainingabout', 'complaint', 'complainti', 'complaintth', 'complan', 'complani', 'complant', 'compleat', 'complec', 'complement', 'complementari', 'complet', 'completedobject', 'completelli', 'completion', 'completionist', 'completley', 'completli', 'completo', 'complett', 'complex', 'complexexcel', 'complian', 'compliant', 'complic', 'complicatedtl', 'compliment', 'compllic', 'complt', 'compon', 'compor', 'compos', 'composit', 'compound', 'comprar', 'comprehend', 'comprehens', 'comprend', 'compress', 'compris', 'compromis', 'compton', 'compuls', 'compulsori', 'compund', 'comput', 'computerdifficulti', 'computerget', 'computerpric', 'computersom', 'comrad', 'comraderi', 'comset', 'comuin', 'comun', 'comunidad', 'con', 'conccept', 'conceal', 'conced', 'conceiv', 'concenpt', 'concentr', 'concept', 'conceptd', 'conceptsveri', 'concern', 'concert', 'concheror', 'concic', 'concid', 'conciev', 'conclud', 'conclues', 'conclus', 'conclusion', 'conclusioni', 'conclusionif', 'conclusionit', 'conclusionlastli', 'conclusionth', 'conclusionthey', 'conclusionthi', 'conclusionyu', 'concluzia', 'concomit', 'concur', 'concurr', 'condemn', 'condens', 'condescend', 'condiment', 'condit', 'condon', 'condor', 'conduct', 'cone', 'conect', 'conent', 'conerston', 'confer', 'confess', 'confid', 'config', 'configu', 'configur', 'confin', 'confind', 'confirm', 'confisc', 'conflic', 'conflict', 'conform', 'confort', 'confound', 'confront', 'confus', 'confusedoryx', 'confuss', 'conga', 'congest', 'conglomar', 'conglomer', 'conglomeret', 'conglumer', 'congrat', 'congratul', 'congratz', 'congregatio', 'conhecida', 'coni', 'conjur', 'connect', 'connectect', 'connectionsto', 'connectioon', 'conneri', 'conniv', 'connor', 'connosieur', 'conomi', 'conparison', 'conpens', 'conplain', 'conquer', 'conqueror', 'conquest', 'conquor', 'conrol', 'conrtol', 'conscienc', 'consciou', 'conscon', 'conscript', 'conseach', 'consecut', 'consedit', 'conseguir', 'conseguissem', 'conseil', 'consensusi', 'consent', 'consept', 'consequ', 'conserv', 'conservativ', 'consesu', 'consi', 'consid', 'consider', 'considerando', 'consideringfun', 'considerplay', 'consif', 'consiga', 'consiglio', 'consin', 'consiqu', 'consist', 'consistan', 'consistantli', 'consistenli', 'consisti', 'consit', 'consmet', 'consmoney', 'consno', 'consnot', 'consol', 'consolv', 'consort', 'conspir', 'conspiraci', 'conspro', 'constaint', 'constanli', 'constant', 'constantley', 'constantli', 'constantlyno', 'constar', 'constat', 'constel', 'consth', 'constitut', 'constitutiondexterityguardian', 'constitutionintelligencetrickst', 'constitutionsecondari', 'constrain', 'constraint', 'constrict', 'construct', 'constructivist', 'constă', 'consu', 'consult', 'consum', 'consumablesa', 'consumableswhich', 'consumingoveral', 'consumingplay', 'consumpt', 'conta', 'contact', 'contain', 'containst', 'containt', 'contamin', 'contantli', 'contar', 'contectu', 'contemporari', 'contempt', 'contemptu', 'contend', 'contenet', 'content', 'contental', 'contentcharact', 'contentcon', 'contentfre', 'contenthowev', 'contenti', 'contentsummari', 'contenttl', 'contentwis', 'contenu', 'conter', 'conternt', 'contest', 'context', 'contient', 'contin', 'continent', 'continentsthre', 'continet', 'conting', 'contini', 'continiu', 'continu', 'continuesli', 'continur', 'continuum', 'contol', 'contort', 'contour', 'contouredinto', 'contr', 'contra', 'contraband', 'contract', 'contradict', 'contrari', 'contrast', 'contrat', 'contremisc', 'contri', 'contribut', 'contrict', 'contril', 'contriv', 'contro', 'control', 'controller3', 'controllerdar', 'controllerprimari', 'controllersveri', 'controlsa', 'controlsjust', 'controlsnev', 'controlsrespons', 'controlwis', 'controversi', 'contuinu', 'convect', 'conveinc', 'conveni', 'convent', 'converg', 'convers', 'conversationbut', 'convert', 'convey', 'convic', 'convien', 'convienc', 'convient', 'convin', 'convinc', 'convini', 'convolut', 'convoy', 'conwecut', 'cook', 'cooki', 'cookwar', 'cool', 'cool5', 'coolbut', 'cooldown', 'cooler', 'coolerit', 'coolest', 'cooli', 'coolpretti', 'coolsometim', 'coolth', 'coomun', 'coooold', 'coop', 'coop3', 'cooper', 'coordin', 'coordon', 'cooridin', 'cop', 'cope', 'copi', 'copiou', 'coplet', 'copout', 'copper', 'copter', 'copycat', 'copyi', 'copypast', 'copyright', 'copywright', 'coraz', 'corb', 'cordial', 'cordin', 'core', 'core2duo', 'corful', 'corgi', 'corn', 'corner', 'corner10', 'cornerston', 'cornerstoneth', 'cornerstonether', 'cornersâ', 'corni', 'cornorston', 'corp', 'corpart', 'corper', 'corpor', 'corporationpublish', 'corporationreleas', 'corprat', 'corps', 'correcli', 'correct', 'correctli', 'correctlyl', 'correl', 'correrlo', 'correspond', 'corridor', 'corridotak', 'corrupt', 'corsa', 'corsaif', 'corsair', 'corsshair', 'cort', 'corvett', 'corvettesm', 'cosa', 'cose', 'cosedbacktruck', 'cosept', 'cosmet', 'cosmeticsgood', 'cosmeticsoveral', 'cosmo', 'cosmtic', 'cosplay', 'cost', 'costa', 'costli', 'costmet', 'costosi', 'costum', 'costumavamo', 'costumaz', 'costumesthen', 'costumiz', 'costumor', 'cosum', 'cottag', 'cotton', 'cottontail', 'cotw', 'couch', 'coud', 'coudl', 'coudln', 'coudn', 'cougar', 'cough', 'coughlol', 'coughpendelumscough', 'couipl', 'could', 'coulda', 'coulden', 'couldent', 'couldn', 'couldnt', 'couln', 'council', 'coundent', 'count', 'countdown', 'counter', 'counterattack', 'counterbuild', 'counterintuit', 'countermeasur', 'counterpart', 'counterpick', 'counterplay', 'counterract', 'counterspel', 'counterstrik', 'counterstrikestep', 'countinu', 'countless', 'countrey', 'countri', 'countrymi', 'countrysid', 'coupl', 'coupon', 'cour', 'courag', 'courier', 'courios', 'courrier', 'cours', 'court', 'courtesan', 'courtesi', 'cous', 'cousin', 'cout', 'cover', 'coverag', 'covet', 'cow', 'coward', 'cowardic', 'cowardli', 'cowcowcow', 'cower', 'cowgirl', 'cowork', 'coyot', 'coz', 'cozi', 'co²sever', 'coöp', 'cp', 'cp_orang', 'cp_powerhous', 'cpc', 'cpu', 'cpucon', 'cqb', 'cqc', 'cr', 'cr1', 'cr33p1nd347h', 'cra', 'crab', 'crack', 'cracker', 'crackhead', 'crackl', 'cradpoard', 'craet', 'crafe', 'craft', 'craftabl', 'craftedno', 'crafter', 'craftfabl', 'craftingcon', 'craftingcraft', 'craftingof', 'craftingsam', 'craftscon', 'craggi', 'cragwood', 'cram', 'cramp', 'crank', 'cranni', 'crap', 'crappi', 'crappier', 'crappiest', 'crappy', 'crapshoot', 'crapston', 'craptast', 'craptivis', 'crash', 'crashednow', 'crasher', 'crashessorri', 'crashz', 'crashâ', 'crasi', 'crate', 'crator', 'crave', 'crawl', 'crawler', 'crayon', 'craze', 'crazi', 'crazier', 'craziest', 'crazili', 'creación', 'cream', 'cream4', 'creapi', 'creat', 'creatabl', 'creater', 'creation', 'creationcon', 'creativ', 'creative2', 'creativers', 'creativersea', 'creatives', 'creativli', 'creator', 'creatorss', 'creatur', 'creatura', 'cred', 'credenti', 'creder', 'credi', 'credibl', 'credit', 'creditcard', 'creditscrappi', 'creed', 'creep', 'creeper', 'creepi', 'creepiest', 'creepin', 'creept', 'creepyday', 'creepypasta', 'crepi', 'crept', 'crescent', 'crete', 'crevic', 'crew', 'crewchief', 'crewman', 'crewmemb', 'crewmen', 'crewpod', 'cri', 'criatur', 'cricket', 'crier', 'crime', 'crimin', 'crimp', 'crimson', 'cring', 'cringey', 'cringi', 'cringinli', 'crippl', 'cripplingli', 'crise', 'crisi', 'crisp', 'crispecertain', 'crispi', 'cristal', 'crit', 'criteria', 'critial', 'critic', 'critiqu', 'critis', 'critisis', 'critisism', 'critisizm', 'critism', 'critiz', 'critsand', 'critscratesugli', 'critsdeveloperssourc', 'critsfriendliestryhardsafksf2pscheatersplatinum', 'critsscoutssoldierspyrosdemomansheaviesengineersmedicssnipersspiesrandom', 'critssentriesnestsuberskritzspawn', 'critsw', 'critswallsthingspitsspawnssightlineschokesentir', 'critt', 'critter', 'critz', 'croak', 'croatia', 'crocket', 'crockett', 'cromwel', 'cronic', 'crop', 'cross', 'crossbon', 'crossbow', 'crossfir', 'crosshair', 'crosshairaccess', 'crossout', 'crossov', 'crossplatform', 'crosswind', 'crotch', 'crotchal', 'crotcheti', 'crouch', 'croucher', 'crow', 'crowbar', 'crowd', 'crowdfund', 'crowler', 'crown', 'cruch', 'crucial', 'crucifi', 'crud', 'cruel', 'cruis', 'cruiser', 'cruisin', 'cruitial', 'crumb', 'crumbl', 'crumbs3', 'crummi', 'crunchi', 'crusad', 'crusadeagainstdustdevil', 'crusador', 'crush', 'crusial', 'crust', 'crutch', 'crutial', 'cryaotic', 'cryin', 'cryjust', 'crynev', 'crynow', 'crypt', 'cryptic', 'crypto', 'crysi', 'crystal', 'cryy', 'cs', 'cs4', 'cser', 'csgo', 'csgograph', 'csgogun', 'csgosomeon', 'cshiypzlvt', 'csr', 'css', 'csw', 'ctd', 'ctf', 'ctf_doublecross', 'ctritic', 'ctrl', 'cu', 'cuando', 'cuas', 'cub', 'cuban', 'cube', 'cubeworld', 'cubic', 'cubit', 'cuck', 'cucksleachersthi', 'cuddl', 'cuddli', 'cue', 'cuff', 'cui', 'cuilnari', 'cuirrass', 'cuisin', 'cuisini', 'culmin', 'cult', 'cultist', 'cultiv', 'cultrual', 'cultur', 'cumbersom', 'cumin', 'cumplain', 'cun', 'cung', 'cuntsmen', 'cup', 'cupcak', 'cupid', 'cupon', 'curat', 'curati', 'curb', 'curbstomp', 'curd', 'cure', 'curenc', 'curent', 'curios', 'curiosi', 'curiou', 'curious', 'curk', 'curl', 'curlyw', 'curraci', 'curranc', 'curreenc', 'currenc', 'currencyinterest', 'curreni', 'current', 'currentley', 'currneci', 'currrenc', 'curs', 'curselordwraith', 'cursor', 'curtain', 'curv', 'curvebal', 'curveconfus', 'curvefun', 'curvelot', 'curvenew', 'curvesperson', 'curveston', 'curvi', 'cusal', 'cuse', 'cusp', 'cuss', 'custermis', 'custim', 'custiomis', 'custoim', 'custom', 'customari', 'customaz', 'customazt', 'customis', 'customisationch', 'customiz', 'customizabl', 'customizatio', 'customizationcon', 'customizationcool', 'customizationi', 'cut', 'cutaway', 'cute', 'cutecon', 'cutecraft', 'cuter', 'cutesi', 'cutest', 'cuti', 'cutlass', 'cutleri', 'cutoff', 'cutout', 'cutscen', 'cutsi', 'cutter', 'cutti', 'cuvint', 'cuz', 'cuztom', 'cv', 'cv1', 'cvh', 'cw', 'cy', 'cya', 'cyan', 'cyanid', 'cyber', 'cyborg', 'cycl', 'cyclescon', 'cyclon', 'cyclop', 'cylind', 'cyntherea', 'cyqp', 'cyriou', 'cysero', 'cz', 'cza', 'czasu', 'czechloslovakia', 'czu', 'czysti', 'częściej', 'cílů', 'că', 'd1', 'd2', 'd2tidehunt', 'd3', 'd3d11', 'd3d9', 'd3look', 'd3thi', 'd4a9b9e9fc707e2e3609a9c4e8472f121a598c64', 'd6', 'd9', 'd97e0de4', 'da', 'daaamn', 'daagger', 'daam', 'dab', 'dabbl', 'dad', 'daddi', 'daddyfil', 'daddyo', 'dadurch', 'daedric', 'daft', 'dafuq', 'dage', 'dagen', 'dagger', 'daggerfal', 'daggerfol', 'dagon', 'dah', 'daha', 'dai', 'daiblo', 'dail', 'daili', 'dailogu', 'dailyther', 'dakini', 'dakka', 'dal', 'dale', 'dall', 'dalla', 'dalmatian', 'dalton', 'dam', 'damag', 'damagei', 'damageit', 'damang', 'damaz', 'damga', 'damit', 'damki', 'damm', 'dammit', 'damn', 'damnit', 'damp', 'dampen', 'damper', 'damsel', 'dan', 'danc', 'dand', 'dandd', 'dandi', 'dando', 'dang', 'danger', 'dangerousb', 'dangerzon', 'dangl', 'daniel', 'dank', 'dankest', 'dann', 'danyway', 'dar', 'daran', 'dare', 'daredevil', 'dark', 'darkbrotherhood', 'darker', 'darkest', 'darkflow', 'darkj200', 'darkjserv', 'darkovia', 'darkplanetsid', 'darksoul', 'darl', 'darmo', 'darmowa', 'darn', 'dart', 'darth', 'darthvaderno', 'darud', 'darwin', 'daryl', 'dash', 'dashboard', 'dass', 'dassault', 'dat', 'data', 'databas', 'datamin', 'date', 'datgrammar', 'dathidenogla', 'daughter', 'daunt', 'dauntless', 'dave', 'davi', 'david', 'davon', 'dawg', 'dawn', 'daxter', 'day', 'dayand', 'dayandım', 'daybreak', 'daybreak2', 'daycar', 'daycash', 'daycon', 'dayi', 'dayli', 'daylight', 'daymi', 'dayotherwis', 'daypro', 'daysdev', 'dayserbia', 'daysl', 'daytona', 'dayum', 'dayz', 'dazu', 'dazzl', 'db', 'dbag', 'dbattl', 'dbg', 'dbut', 'dc', 'dccg', 'dcg', 'dcs2', 'dct2', 'dd', 'ddand', 'ddd', 'dddd', 'ddddd', 'dddddddddddddddddddddddddddddddddddddddddddddddddddddddddddddddddddddddddddddddddddddddddddddddddddddddddddddddddddddddddddddddddddddddddddddddddddddddddddddddddddddddddddddddddddddddddddddddddddddddddddddddddddddddddddddddddddddddddddddddddddddddddddddddddddddddddddddddddddddddddddddddddddddddddddddddddddddddddddddddddddddddddddddddddddddddddddddddddddddddddddddddddddddddddddddddddddddddddddddddddddddddddddddddddddddddddddddddddddddddddddddddddddddddddddddddddddddddddddddddddddddddddddddddddddddddddddddddddddddddddddddddddddddddddddddddddddddddddddddddddddddddddddddddddddddddddddddddddddddddddddddddddddddddddddddddddddddddddddddddddddddddddddddddddddddddddddddddddddddddddddddddddddddddddddddddddddddddddddddddddddddddddddddddddddddddddddddddddddddddddddddddddddddddddddddddddddddddddddddddddddddddddddddddddddddddddddddddddddddddddddddddddddddddddddddddddddddddddddddddddddddddddddddddddddddddddddddddddddddddddddddddddddddddddddddddddddddddduel', 'ddidn', 'ddo', 'ddon', 'ddose', 'ddr3', 'ddr4', 'ddr4perform', 'ddriii', 'de', 'deactiv', 'dead', 'deadest', 'deadi', 'deadifi', 'deadli', 'deadlier', 'deadlychas', 'deadlynessdo', 'deadpool', 'deadring', 'deadset', 'deadswamp', 'deadtaken', 'deadther', 'deaf', 'deafen', 'deag', 'deagl', 'deaglestep', 'deal', 'dealbreak', 'dealer', 'dealership', 'dealplot', 'dealso', 'dealt', 'dean', 'deap', 'dear', 'dearest', 'dearit', 'dearli', 'deasi', 'deatail', 'death', 'death12', 'deathand', 'deathclaw', 'deathli', 'deathmak', 'deathmatch', 'deathmatchová', 'deathrattl', 'deathrattleuniqu', 'deathrun', 'deathstar', 'deathtim', 'deathtouch', 'deatom', 'deb', 'debacl', 'debat', 'debido', 'debilit', 'debit', 'debri', 'debth', 'debuff', 'debug', 'debugtext', 'debunk', 'debut', 'dec', 'deca', 'decad', 'decal', 'decapit', 'decay', 'deceas', 'deceitful', 'deceiv', 'deceivingli', 'decemb', 'decenc', 'decent', 'decento', 'decept', 'decicion', 'decid', 'decidedli', 'decied', 'deciev', 'decillion', 'decim', 'deciper', 'decir', 'decis', 'decisament', 'decisionmak', 'decisions10', 'decison', 'deciss', 'deck', 'deckbuild', 'deckconstruct', 'decklist', 'decksal', 'decksearch', 'decksnostalgiano', 'declar', 'declin', 'decloak', 'decod', 'decompos', 'deconstruct', 'decor', 'decoy', 'decre', 'decreas', 'decres', 'decrib', 'decât', 'dedcemb', 'dedic', 'dedicationth', 'dedicta', 'dedit', 'dee', 'deed', 'deek', 'deem', 'deep', 'deepen', 'deeper', 'deepest', 'deepish', 'deepli', 'deepspac', 'deer', 'deerhead', 'deershit', 'def', 'default', 'defeat', 'defeatet', 'defect', 'defeintli', 'defen', 'defenatli', 'defenc', 'defencethi', 'defend', 'defenderprimari', 'defendi', 'defenes', 'defenetili', 'defenetli', 'defenit', 'defenitli', 'defens', 'deff', 'deffenatli', 'deffent', 'deffin', 'deffinatli', 'deffinet', 'deffinetli', 'deffinit', 'deffinitli', 'deffo', 'defi', 'defianc', 'defiantli', 'defici', 'deficit', 'defient', 'defiinetli', 'defil', 'defin', 'definant', 'definantli', 'definatelt', 'definatley', 'definatli', 'definet', 'definetili', 'definetley', 'definetli', 'definiet', 'definit', 'definitali', 'definitivament', 'definitivli', 'definitley', 'definitli', 'definitlti', 'definitv', 'defint', 'defintley', 'defit', 'defitinitli', 'defnit', 'defo', 'deform', 'defrent', 'defualt', 'defus', 'degal', 'degener', 'degrad', 'degrass', 'degre', 'degreas', 'dei', 'deign', 'deinstal', 'deiti', 'deivc', 'deixam', 'deixar', 'deja', 'dejado', 'dejat', 'deject', 'del', 'delat', 'delay', 'dele', 'deleat', 'deleg', 'delet', 'delett', 'delf', 'deliber', 'delici', 'delieght', 'delight', 'delilik', 'deliv', 'deliver', 'deliveri', 'dell', 'della', 'delta', 'delud', 'delusion', 'delv', 'delší', 'dem', 'deman', 'demand', 'demarc', 'dement', 'demigod', 'demis', 'demitrivist', 'demo', 'democraci', 'demograph', 'demoknight', 'demolish', 'demolit', 'demoman', 'demomen', 'demon', 'demonstr', 'demopan', 'demor', 'demora', 'demosadd', 'demostr', 'den', 'denen', 'deni', 'denial', 'denk', 'denken', 'denkst', 'denkt', 'denmark', 'denn', 'denounc', 'dens', 'denser', 'densiti', 'dent', 'dentist', 'dentro', 'depart', 'departur', 'depend', 'dependson', 'depict', 'depind', 'depit', 'deplenish', 'deplet', 'deploy', 'deplyo', 'deposit', 'depot', 'depp', 'deprec', 'depres', 'depresja', 'depress', 'depresss', 'depriv', 'dept', 'depth', 'depthdec', 'depthhigh', 'depthoffield', 'der', 'derail', 'derank', 'deranke2', 'dere', 'dereang', 'deriv', 'derp', 'derpi', 'derrr', 'desarrollador', 'desbloqueo', 'desc', 'descargado', 'descent', 'descib', 'descov', 'describ', 'descrimin', 'descript', 'dese', 'desent', 'desert', 'desertsbal', 'deserv', 'deservi', 'desgin', 'desi', 'desicion', 'desid', 'desideri', 'desighn', 'design', 'designc', 'designcon', 'designeasi', 'designedvari', 'designfre', 'designingbad', 'desigur', 'desim', 'desir', 'desit', 'desk', 'desktop', 'desol', 'despair', 'despar', 'desper', 'desperatli', 'despis', 'despit', 'despretli', 'despyt', 'dess', 'dessen', 'dessert', 'dessicion', 'dessu', 'destin', 'destini', 'destori', 'destory', 'destrcut', 'destress', 'destro', 'destroi', 'destroy', 'destruct', 'destul', 'desu', 'desultori', 'desura', 'desvantagen', 'desync', 'desynca', 'desynch', 'deszczow', 'detail', 'detailabout', 'detailalreadi', 'detailed', 'detailedther', 'detailsminus', 'detailstrov', 'detect', 'detectionmatchmak', 'detector', 'detectpum', 'deter', 'deterg', 'determin', 'detest', 'dethpth', 'dethron', 'detial', 'detic', 'deton', 'detract', 'detriment', 'detrmin', 'detroit', 'detstv', 'detur', 'deul', 'deutlich', 'deutsch', 'deutschland', 'dev', 'devalu', 'devast', 'devastatingli', 'devbi', 'develeop', 'develepor', 'develop', 'developedhonestli', 'developerss', 'developerswhen', 'development', 'developmentcontrol', 'developmentoveral', 'developmnet', 'developor', 'developp', 'develp', 'deveop', 'devepl', 'devest', 'devi', 'deviantart', 'deviat', 'devic', 'devicecon', 'devid', 'devil', 'devili', 'devilishli', 'devilkil', 'devin', 'deviou', 'devious', 'devis', 'devleop', 'devlin', 'devlop', 'devo', 'devolop', 'devolp', 'devolv', 'devopl', 'devot', 'devour', 'devshttp', 'devteam', 'dew', 'dewel', 'dewelop', 'dex', 'dexter', 'dexterirti', 'dexteritysecondari', 'dey', 'değerli', 'değil', 'değilim', 'değişmiyor', 'df', 'dfferent', 'dfla', 'dfn', 'dg', 'dgame', 'dget', 'dgood', 'dgreat', 'dhave', 'dhero', 'di', 'dia', 'diabeteslik', 'diablo', 'diablo2', 'diablo3', 'diablow', 'diablow3', 'diabol', 'diaboli', 'diabolica', 'diabolik', 'diagon', 'diagram', 'dial', 'dialog', 'dialogu', 'dialoguegreat', 'dialoguesmooth', 'dialoug', 'diamant', 'diamanti', 'diamet', 'diamind', 'diamond', 'diamondback', 'diana', 'diari', 'diarrhea', 'diarrhoea', 'dice', 'dicey', 'dich', 'dick', 'dickwad', 'dictat', 'dictatorship', 'dictionari', 'dicus', 'did', 'diddnt', 'didedit', 'dident', 'didg', 'didin', 'didint', 'didn', 'didnmt', 'didnot', 'didnt', 'die', 'die10', 'dieand', 'diecut', 'died', 'diedcam', 'dieeeuninstal', 'diegosaur', 'diehard', 'diei', 'dies', 'dies2', 'dieser', 'diesgood', 'diet', 'dieti', 'difer', 'diferent', 'diferit', 'diff', 'diffcult', 'differ', 'differen', 'differenc', 'differencesno', 'differenci', 'differenct', 'differend', 'differenec', 'differenti', 'differentif', 'differenza', 'differnc', 'differnet', 'differnt', 'differr', 'differt', 'difficul', 'difficulat', 'difficult', 'difficulti', 'difficulto', 'diffid', 'diffir', 'diffrenc', 'diffrend', 'diffrent', 'diffucult', 'diffuculti', 'dificult', 'dificulti', 'difrent', 'dig', 'digest', 'digi', 'digimon', 'digit', 'digitalcombatsimul', 'digiti', 'digress', 'diguis', 'digust', 'dii', 'diie', 'dik', 'dildo', 'dildobird', 'dilemma', 'dilig', 'dilut', 'dim', 'dime', 'dimens', 'dimension', 'dimenticato', 'diminish', 'dimond', 'din', 'dinamica', 'dind', 'diner', 'ding', 'dingeringed', 'dingi', 'dingus', 'dink', 'dinki', 'dinner', 'dinnerwar', 'dino', 'dinosaur', 'dint', 'dio', 'diolog', 'dip', 'dir', 'dire', 'direct', 'direction4', 'directionvanu', 'directli', 'directon', 'director', 'directori', 'directx', 'directx9', 'diretid', 'diretideoveral', 'direwolf', 'direwolfdigit', 'dirt', 'dirti', 'disabl', 'disable_polym', 'disabus', 'disadvantag', 'disaer', 'disagr', 'disagre', 'disapoint', 'disapont', 'disappear', 'disappoint', 'disappointaddict', 'disasembl', 'disassemb', 'disassembl', 'disast', 'disastr', 'disatisfi', 'disband', 'disbelief', 'disc', 'discard', 'discconect', 'disccount', 'discern', 'discharg', 'disciplin', 'disciplinari', 'discis', 'disclaim', 'disclosur', 'disco', 'discomfort', 'disconcert', 'disconect', 'disconnect', 'discord', 'discordcon', 'discount', 'discourag', 'discourg', 'discov', 'discoveri', 'discredit', 'discreetli', 'discret', 'discrib', 'discript', 'discuss', 'discust', 'discworld', 'disdain', 'diseas', 'disench', 'disengag', 'diser', 'disfavour', 'disfunct', 'disgrac', 'disguis', 'disguist', 'disgust', 'disgustingli', 'dish', 'dishearten', 'dishonor', 'dishorn', 'disillusion', 'disinform', 'disintegr', 'disinterest', 'disjoint', 'disk', 'dislik', 'dismantl', 'dismay', 'dismiss', 'dismount', 'disney', 'disopointmentgraph', 'disord', 'disorderli', 'disori', 'disown', 'dispair', 'dispar', 'dispatch', 'dispenc', 'dispens', 'dispers', 'dispic', 'dispit', 'displac', 'display', 'displeas', 'dispon', 'dispos', 'disposit', 'disposizion', 'disposti', 'disprov', 'dispun', 'disput', 'disregard', 'disrepair', 'disrespect', 'disrespector', 'disrespectul', 'disrupt', 'disruptor', 'diss', 'dissagre', 'dissambl', 'dissapear', 'dissapoint', 'dissapot', 'dissappear', 'dissappoint', 'dissasembl', 'dissasembly11', 'dissassembl', 'dissassemli', 'dissatisfact', 'dissatisfi', 'dissaud', 'disscus', 'dissect', 'disservic', 'dissimilar', 'dissip', 'disslik', 'dissmiss', 'dissolv', 'disson', 'disspoint', 'dissuad', 'distabil', 'distanc', 'distant', 'distast', 'distinc', 'distinct', 'distinctivegolden', 'distinctli', 'distinguish', 'distort', 'distract', 'distrat', 'distress', 'distribut', 'distributor', 'distroy', 'distrub', 'distruptor', 'distrust', 'disturb', 'disuad', 'dit', 'ditch', 'ditti', 'div', 'divayth', 'dive', 'divebomb', 'diventano', 'diverc', 'diverg', 'divers', 'diversa', 'diversesorri', 'diversif', 'diversifi', 'diversão', 'divert', 'divertido', 'divertimento', 'divertir', 'divertirsi', 'divid', 'diviertans', 'divin', 'divis', 'divorc', 'dize', 'dizzi', 'dj', 'djinn', 'dk', 'dk2', 'dklndlj', 'dl', 'dlc', 'dlci', 'dlco', 'dlcsteam', 'dll', 'dlt', 'dm', 'dmbrandon', 'dmd', 'dmg', 'dmi', 'dmr', 'dn', 'dna', 'dnd', 'dniosaur', 'dnt', 'do', 'do4', 'doabl', 'doar', 'dobl', 'dobrz', 'dobu', 'doc', 'docil', 'dock', 'docon', 'doctor', 'document', 'documentari', 'dodg', 'dodgebal', 'dodgebomb', 'dodgey', 'doe', 'doeabl', 'doeasn', 'doen', 'doenst', 'doent', 'does', 'doesen', 'doesent', 'doesn', 'doesnt', 'doesoverwatch', 'doest', 'dof', 'dog', 'doge', 'doge2290', 'dogearmyp', 'dogfight', 'dogget', 'dogsit', 'dogtag', 'doguildsfre', 'dogâ', 'doh', 'doi', 'doin', 'doingwasfreackingtradingtir', 'doiwinyet', 'doiwn', 'doki', 'dokkan', 'dokonc', 'doktur', 'doku', 'dokunuşu', 'dole', 'doll', 'dollar', 'doller', 'dollor', 'dolpin', 'dolu', 'domand', 'domest', 'domin', 'dominatedcan', 'dominion', 'dominu', 'dommin', 'don', 'donald', 'donat', 'done', 'done8', 'donezo', 'dong', 'dongo', 'donk', 'donkey', 'donki', 'donner', 'donor', 'donr', 'dont', 'donut', 'donutif', 'donwload', 'donwvot', 'donâ', 'donæt', 'doo', 'dood', 'doodad', 'doodi', 'doodl', 'doodoo', 'doofu', 'doohickey', 'doom', 'doomsday', 'doomwood', 'door', 'door3', 'doorand', 'doorsbut', 'doorsknock', 'doorway', 'dopamem', 'dopamin', 'dope', 'dopo', 'doporučuji', 'doppelgang', 'doppler', 'dorito', 'dork', 'dose', 'dosen', 'dosent', 'dosh', 'dosn', 'dosnt', 'dostu', 'dot', 'dota', 'dota1', 'dota2', 'dotabuff', 'dotaplu', 'dotayı', 'doto', 'dotoist', 'doubel', 'doubl', 'doublecross', 'doublejump', 'doublestik', 'doubli', 'doubt', 'doubtlessli', 'douch', 'dough', 'doungen', 'doungeon', 'doupt', 'dous', 'dovakin', 'dove', 'dover', 'doveral', 'dow', 'dowload', 'down', 'down3', 'downfal', 'downgrad', 'downh', 'downhil', 'downhttp', 'downi', 'downlaod', 'download', 'downloadgreat', 'downloadr', 'downloadstep', 'downloadtim', 'downloand', 'downlod', 'downlodad', 'downnev', 'downplay', 'downright', 'downrip', 'downscal', 'downset', 'downsid', 'downsidespro', 'downstair', 'downstrongli', 'downsw', 'downtim', 'downvot', 'downward', 'doy', 'doze', 'dozen', 'dozenth', 'dp', 'dpi', 'dpro', 'dr', 'dr5v5', 'dra', 'drab', 'draco', 'dracolyt', 'draconian', 'draf', 'draft', 'drafter', 'drag', 'draghi', 'dragon', 'dragon2', 'dragonborn', 'dragoncryst', 'dragonf', 'dragonfir', 'dragonfli', 'dragonica', 'dragonkin', 'dragonlord5151', 'dragonscon', 'dragonshttp', 'dragonsif', 'dragonslay', 'drain', 'drama', 'dramat', 'dramaticli', 'dramtic', 'drangon', 'drank', 'drastic', 'drasticli', 'draußen', 'draw', 'drawback', 'drawingsaddict', 'drawn', 'drdownloaden', 'dread', 'dreadnaught', 'dreadnought', 'dream', 'dreami', 'dreamwork', 'dreari', 'dregre', 'drem', 'drenjoy', 'drepress', 'dress', 'dressup', 'drew', 'dri', 'drif', 'drift', 'drill', 'drinek', 'drink', 'drinkb', 'drinkgambl', 'drinksget', 'drip', 'drive', 'driven', 'driver', 'drizzl', 'drizzt', 'drlot', 'drm', 'droga', 'drone', 'droneschung', 'dronk', 'drool', 'droom', 'drooooooooool', 'drop', 'dropbox', 'drope', 'dropfor', 'droppabl', 'dropper', 'droppi', 'droppod', 'dropship', 'dropshot', 'dropsya', 'dropâ', 'drought', 'drove', 'drow', 'drown', 'drowninginflam', 'drplay', 'drpro', 'drthe', 'drug', 'drugan', 'druglik', 'drugsand', 'drumrol', 'drunk', 'drunken', 'drunkenli', 'drving', 'drw', 'drâ', 'dsc', 'dsee', 'dsinc', 'dsl', 'dso', 'dsr', 'dstroi', 'dsync', 'dtcg', 'dthank', 'dthi', 'dtm', 'dtm92', 'du', 'dual', 'dualism', 'dub', 'dubai', 'dubiou', 'dublado', 'dubstep', 'duch', 'duci', 'duck', 'dudat', 'dude', 'dudeack', 'dudei', 'dudett', 'due', 'duec', 'duel', 'duel10', 'duelaudi', 'duelingbook', 'duelingnetwork', 'duelist', 'duellinksconfigur', 'duellist', 'duelyst', 'duengeon', 'dug', 'duh', 'duhh', 'duhhh', 'duke', 'dukesloth', 'dulamari', 'dulist', 'dull', 'dum', 'dumb', 'dumbass', 'dumbay', 'dumbest', 'dumbfound', 'dumbso', 'dumi', 'dummi', 'dump', 'dumpster', 'dumptruck', 'dumwil', 'dun', 'dune', 'dunegon', 'dung', 'dungegon', 'dungen', 'dungeon', 'dungeonsg', 'dungeonsnic', 'dungeoun', 'dungon', 'dunk', 'dunkey', 'dunn', 'dunno', 'dunnoi', 'dunt', 'duo', 'dupe', 'duper', 'duplic', 'dur', 'durabl', 'durat', 'durch', 'durdl', 'dure', 'durri', 'dusha', 'dust', 'dust2', 'dustbowl', 'dustforc', 'dutch', 'dutchlol446', 'duti', 'dutybusi', 'dutyish', 'duunnn', 'duō', 'dużo', 'dvar', 'dvd', 'dvou', 'dw12', 'dwarf', 'dwarv', 'dwarven', 'dwd', 'dwdigit', 'dwee', 'dwell', 'dweller', 'dwellersamd', 'dwellersful', 'dwemer', 'dwemmer', 'dwindl', 'dx', 'dx11', 'dx12', 'dx9', 'dy', 'dye', 'dylan', 'dynam', 'dynamicfast', 'dynamicli', 'dynamit', 'dynasti', 'dysfunct', 'dysleixia', 'dzen', 'dzieci', 'dzisiaj', 'dànshì', 'dá', 'débloquer', 'défavorisé', 'déjà', 'dünyada', 'długo', 'e15', 'e3', 'e4', 'e5yww76o1ko', 'e628', 'e6f80821', 'e8400', 'ea', 'eac', 'each', 'eachoth', 'eacqas4xniv', 'eager', 'eagerley', 'eagerli', 'eagl', 'eagledynam', 'eaisli', 'eal', 'ear', 'eardrum', 'eargasm', 'eargasmo', 'eari', 'earli', 'earlier', 'earlyth', 'earlythes', 'earn', 'earnabl', 'earnd', 'earnedlot', 'earnt', 'earoveral', 'earrap', 'earth', 'earthbound', 'earthquak', 'earthshak', 'eas', 'easecon', 'easer', 'easi', 'easier', 'easierth', 'easiest', 'easili', 'easiliy', 'easilli', 'easilt', 'easilyalso', 'easilycontrol', 'easilyfeatur', 'easli', 'easpic', 'east', 'eastaustralian', 'easter', 'eastern', 'eastnorth', 'easyanticheat', 'easybut', 'easyer', 'easyier', 'easyx', 'eat', 'eaten', 'eater', 'eath', 'eather', 'eatmydust', 'eaven', 'eaxi', 'eay', 'ebal', 'ebb', 'ebd', 'eben', 'eberron', 'ebic', 'ebil', 'ebinman', 'ebola', 'ebon', 'ebst', 'ecc', 'ecceterra', 'eccetto', 'ecchi', 'ecclesiam', 'ecept', 'ecg', 'echelon', 'echo', 'echoloc', 'echt', 'echtgeldkäuf', 'eck', 'eclips', 'ecm', 'eco', 'econ', 'econemi', 'econm', 'econmi', 'econom', 'economey', 'economi', 'economycon', 'ecspeci', 'ecstasi', 'ect', 'ecxampl', 'ed', 'eddison', 'eden', 'edg', 'edgar', 'edgecas', 'edgewis', 'edgi', 'edit', 'edit1', 'edit2', 'edit2018', 'editmi', 'editor', 'editoroverall10', 'editso', 'ediyorum', 'eduact', 'educ', 'edutain', 'eeeeeeeeeeeeeeeeeeeeeeeeeeeeeeeeeeeeeeeeeeeeehhhhhhhhhhhhhhhhhhhhhhhhhhhhhhhhhhhhhhhhhhhhhhhhhhhhhhhhhhhhhhhhhhhhhhhhhhhhhhhhhhhhhhhhhhhhhhhhhhhhhhhhhhhhhhhhhhhhhhhhhhhhhh9e4', 'eeeeflbflbflfbflbflbflbf', 'eeeuuaahhhgggghh', 'eeh', 'eel', 'een', 'eer', 'eeri', 'eeriest', 'eerili', 'eet', 'efcd', 'efeci', 'efect', 'efetiva', 'eff', 'effcient', 'effeci', 'effect', 'effectiv', 'effectivley', 'effectivli', 'effectivlycon', 'effectseasi', 'effectsjoin', 'effemin', 'effic', 'effici', 'effictevli', 'effin', 'effort', 'effortless', 'effortlessli', 'effortpract', 'effug', 'efort', 'eg', 'egameplay', 'egd', 'egg', 'egg1', 'egg3', 'eggn', 'eggs1', 'eggsdirect', 'eggsnear', 'eggzoda', 'ego', 'egregi', 'egyptian', 'eh', 'ehem', 'ehen', 'eher', 'ehh', 'ehhhh', 'ehm', 'ehom', 'ehough', 'ehrlich', 'eidolon', 'eien', 'eiffel', 'eigen', 'eigenen', 'eight', 'eighti', 'eigtheen', 'eiher', 'eilyn', 'ein', 'einem', 'einen', 'einfach', 'eingana', 'einig', 'einladungscode7qtyx8ss84z', 'einmal', 'einschätz', 'einschätzung', 'einstein', 'einzigartigen', 'eisqu', 'eit', 'eith', 'either', 'eitherway', 'eithier', 'eject', 'ejoy', 'ekhm', 'el', 'elabor', 'elaps', 'elarn', 'elax', 'elbow', 'elboy', 'elctron', 'elder', 'eldergamer1', 'elderli', 'elderscrol', 'ele', 'elect', 'electr', 'electrc', 'electrifi', 'electro', 'electrocut', 'electron', 'eleg', 'elegantli', 'elegiggl', 'element', 'elementari', 'elements2010', 'elementspath', 'elementsw', 'elemest', 'elemet', 'eleph', 'elesi', 'elev', 'eleven', 'eleventh', 'eleventi', 'elevnti', 'elf', 'elig', 'elighten', 'elijah', 'elim', 'elimin', 'elit', 'elitest', 'elitist', 'elk', 'elkand', 'ell', 'ellabor', 'ellington', 'elliot', 'ellus', 'elo', 'eloqu', 'elor', 'elpeep', 'els', 'else3', 'elsefin', 'elsewher', 'elsey', 'elsword', 'elswordonlin', 'eltrion', 'elud', 'elus', 'elv', 'elven', 'elwiki', 'elysium', 'elysuim', 'elysyum', 'em', 'email', 'eman', 'embarass', 'embark', 'embarras', 'embarrass', 'embarress', 'embed', 'embellish', 'ember', 'emblem', 'emblemat', 'embrac', 'emens', 'emerald', 'emerg', 'emers', 'emi', 'emit', 'emmi', 'emmisari', 'emnpir', 'emo', 'emon', 'emoseemo', 'emot', 'emoticon', 'empathi', 'empfehl', 'emph', 'emphas', 'emphasi', 'emphasis', 'emphat', 'emphisi', 'empir', 'emplor', 'employ', 'employe', 'empolgant', 'empow', 'emprov', 'empti', 'emther', 'emul', 'en', 'enabl', 'enable3gbmem_vista_win7_32bit', 'enabledarch', 'enabledfilesystem', 'enabledheurist', 'enabledpup', 'enabledrootkit', 'enabledstartup', 'enact', 'enami', 'enamor', 'enbrac', 'encahnt', 'encamp', 'encapsul', 'enchanc', 'enchant', 'enchantn', 'enchilada', 'enchiladas3', 'encima', 'encircl', 'enclav', 'enclos', 'encompas', 'encompass', 'encontr', 'encontra', 'encorpor', 'encount', 'encounterd', 'encounteredlength', 'encountersbuti', 'encountersendless', 'encourag', 'encouraginggigant', 'encourg', 'encout', 'encroach', 'encyclopedia', 'end', 'endand', 'endear', 'endeavor', 'endeavour', 'ender', 'endevour', 'endgam', 'endgameal', 'endi', 'endin', 'endless', 'endlessli', 'endlesspric', 'endlessstori', 'endnot', 'endors', 'enduc', 'endur', 'enduringli', 'enegi', 'enemei', 'enemi', 'enemiesteammatesbotsrandom', 'enemiesunlik', 'energ', 'energdrink', 'energet', 'energi', 'energri', 'enermi', 'enetertain', 'enfanc', 'enfold', 'enforc', 'enfrentar', 'eng', 'engadget', 'engag', 'engam', 'engeand', 'engeri', 'enggag', 'engi', 'engien', 'engin', 'engineyour', 'england', 'english', 'englishif', 'englishmen', 'englishthi', 'englishvietnames', 'englisz', 'engourag', 'engross', 'enguag', 'engulf', 'enhac', 'enhanc', 'enhoy', 'eniem', 'enim', 'enimi', 'enjoi', 'enjot', 'enjoy', 'enjoya', 'enjoyab', 'enjoyableplay', 'enjoybal', 'enjoyebal', 'enjoyin', 'enjoymen', 'enjoymentand', 'enjoymentcon', 'enjyabl', 'enlarg', 'enlighten', 'enlist', 'enmi', 'ennemi', 'enoch', 'enorm', 'enougght', 'enough', 'enoughhav', 'enought', 'enougththi', 'enouhg', 'enouth', 'enphasi', 'enrag', 'enrich', 'enrtertainm', 'ensembl', 'ensu', 'ensur', 'entail', 'enter', 'enterain', 'enterpris', 'entertain', 'entertainemnt', 'entertainingli', 'entertainingsimpl', 'enterveri', 'enthousiast', 'enthral', 'enthuasist', 'enthuisest', 'enthusiasm', 'enthusiast', 'enthusiest', 'entic', 'entierli', 'entiertain', 'entir', 'entireti', 'entiretli', 'entirli', 'entiteld', 'entiti', 'entitl', 'entomb', 'entr', 'entranc', 'entrar', 'entrarci', 'entrenc', 'entrench', 'entrepeun', 'entretain', 'entretenido', 'entri', 'entrir', 'entu', 'enuff', 'enuiq', 'envelop', 'envest', 'envi', 'envionr', 'envior', 'enviorment', 'enviorn', 'enviro', 'environ', 'environment', 'environmentalist', 'environmentscon', 'environmentth', 'environt', 'envoir', 'envolv', 'envrioment', 'envrion', 'enyjoy', 'eo', 'eopel', 'epa', 'epans', 'epeen', 'epic', 'epicent', 'epicfacelol', 'epick', 'epicli', 'epidem', 'epilepsi', 'episod', 'epitom', 'epnyoci', 'epochcon', 'eq', 'eq1', 'eq2', 'eqaul', 'eqip', 'equal', 'equali', 'equals242', 'equat', 'equilibr', 'equilíbrio', 'equin', 'equip', 'equipmentther', 'equipp', 'equipt', 'equipwhat', 'equival', 'equivl', 'equp', 'er', 'era', 'erad', 'erangelish', 'eras', 'erasedov', 'eraveri', 'eraz', 'ercept', 'erect', 'erectil', 'erez', 'erfahrenen', 'erfüllen', 'erg', 'ergo', 'erhmm', 'erhält', 'erhöht', 'eri', 'erin', 'erlaub', 'erm', 'erofflp', 'eroici', 'erot', 'erotic', 'err', 'errat', 'errbodi', 'error', 'erryth', 'ersten', 'erstklassig', 'erveryon', 'erzählen', 'es', 'esa', 'esamir', 'esc', 'escal', 'escalera', 'escap', 'escherion', 'escolha', 'escort', 'escpec', 'escpeci', 'ese', 'esea', 'esf', 'esier', 'esimir', 'esipeciali', 'esk', 'eski', 'esl', 'esmtwihxdt', 'eso', 'esp', 'espa', 'espada', 'española', 'espcial', 'espeaci', 'especailli', 'especci', 'espechi', 'especi', 'especiali', 'espect', 'específica', 'esper', 'esperar', 'esperto', 'espesci', 'espeti', 'espic', 'espici', 'esport', 'espous', 'esq', 'esqu', 'ess', 'essa', 'essanc', 'essay', 'essecn', 'esseenti', 'essenc', 'essenti', 'essentiali', 'esser', 'essient', 'esspeci', 'esspeciali', 'esssent', 'esstenti', 'est', 'esta', 'estabilish', 'establ', 'establish', 'estado', 'estan', 'estando', 'estat', 'esteem', 'esteem2', 'estejuego', 'esthet', 'estim', 'estou', 'estrategico', 'et', 'eta', 'etalon', 'etc', 'etc5', 'etc6', 'etcal', 'etcetera', 'etcgun', 'etch', 'etcreduc', 'etcse', 'etcthi', 'etern', 'eternalcardgam', 'eternalwarcri', 'eternament', 'ethernet', 'ethic', 'ethier', 'ethiopian', 'ethnic', 'ethusist', 'eto', 'etra', 'ettl', 'etu', 'etwa', 'eu', 'eula', 'eun', 'euphemist', 'euphoria', 'eupor', 'eur', 'eurasia', 'eureka', 'euro', 'eurobro', 'eurobuck', 'eurojank', 'europ', 'europa', 'europa_cli', 'european', 'europoor', 'euw', 'eva', 'evac', 'evacu', 'evad', 'evalu', 'evar', 'evas', 'eve', 'evel', 'evem', 'even', 'evenig', 'evenli', 'event', 'eventho', 'eventhough', 'evento', 'eventsclub', 'eventscon', 'eventsnew', 'eventu', 'eventuali', 'eveonlin', 'ever', 'everday', 'everfrost', 'everi', 'everon', 'everpres', 'everpro', 'everquest', 'everrytim', 'eversinc', 'evert', 'everth', 'evertieam', 'evertim', 'everwher', 'every1', 'everybodi', 'everybodybesid', 'everybuddi', 'everyday', 'everydaythey', 'everygam', 'everyhitng', 'everynight', 'everyoen', 'everyoin', 'everyon', 'everyone100hour', 'everyoneconsveri', 'everyoneha', 'everyplay', 'everyship', 'everyt', 'everyth', 'everythig', 'everythign', 'everythingalso', 'everythingbut', 'everythingi', 'everythingwith', 'everytim', 'everytime4', 'everywepon', 'everywer', 'everywher', 'everywherechallang', 'everywhereterran', 'evey', 'eveyth', 'evicer', 'evict', 'evid', 'evident', 'evil', 'evilbut', 'evili', 'eviro', 'eviron', 'evn', 'evolut', 'evolutionari', 'evolv', 'evr1', 'evrey', 'evri', 'evryanim', 'evrybodi', 'evrydayyoutub', 'evryon', 'evryth', 'evrythingsur', 'evrywer', 'evrywher', 'ew', 'eww', 'ex', 'exa', 'exacerb', 'exacli', 'exaclti', 'exact', 'exacti', 'exactli', 'exager', 'exagger', 'exahust', 'exalt', 'exam', 'exambl', 'examin', 'exampl', 'example2', 'exapl', 'exapml', 'exapns', 'exasctli', 'exasper', 'exatecli', 'excampl', 'excap', 'excav', 'exce', 'exceed', 'exceedingli', 'exceel', 'excel', 'excelent', 'excellnt', 'except', 'excess', 'exceto', 'exchang', 'excicut', 'excist', 'excit', 'excitedli', 'excitedthi', 'excitingkoji', 'exclud', 'exclus', 'excpect', 'excpet', 'excrement', 'excruci', 'excruciatingli', 'exctli', 'excuas', 'excus', 'exe', 'exec', 'execpt', 'execut', 'exel', 'exempl', 'exemplo', 'exemplu', 'exept', 'exercis', 'exeri', 'exhal', 'exhaust', 'exhibit', 'exhilar', 'exhiler', 'exhilir', 'exhorb', 'exhorbitantli', 'exicit', 'exicitng', 'exict', 'exicut', 'exigo', 'exil', 'exile3', 'exilefirst', 'exilegreat', 'exilethi', 'exilr', 'exist', 'existenti', 'exit', 'exmapl', 'exmpl', 'exo', 'exodia', 'exorbit', 'exorcis', 'exorcizamu', 'exosuit', 'exot', 'exp', 'expac', 'expain', 'expand', 'expanis', 'expans', 'expanson', 'expanst', 'expant', 'expas', 'expbest', 'expcit', 'expeci', 'expect', 'expedi', 'expedit', 'expeienc', 'expeiri', 'expel', 'expen', 'expenc', 'expend', 'expens', 'expensive2', 'expensivei', 'expensivenetcod', 'expensivepul', 'exper', 'expereinc', 'experenc', 'experenic', 'experi', 'experianc', 'experic', 'experici', 'experienc', 'experiencecons4', 'experiencegotta', 'experiencei', 'experienceit', 'experiencenot', 'experiment', 'experimentar', 'experinc', 'experinec', 'expert', 'expertgraph', 'expertis', 'expertli', 'expet', 'expext', 'expier', 'expierec', 'expiernec', 'expir', 'expirenc', 'expiri', 'expirienc', 'expirience7', 'explain', 'explan', 'explanatori', 'explanatoryit', 'explet', 'explian', 'explicit', 'explicitli', 'explod', 'explodey', 'explodiert', 'exploid', 'exploit', 'explor', 'exploratori', 'explorecon', 'explos', 'explosionswhat', 'explosivesheavi', 'explot', 'expo', 'expolr', 'exponent', 'exponenti', 'export', 'expos', 'exposur', 'expound', 'express', 'expressli', 'exprienc', 'exscus', 'exsist', 'exspant', 'exspens', 'exsperi', 'exsperinc', 'exsprest', 'ext', 'extaci', 'extend', 'extens', 'extent', 'extentgrey', 'exterior', 'extern', 'extinct', 'extinguish', 'extortion', 'extra', 'extract', 'extract1', 'extractor', 'extran', 'extraodinari', 'extraordinari', 'extraordinarili', 'extraã', 'extreami', 'extreamli', 'extrectli', 'extreem', 'extrem', 'extremament', 'extreme3dpro', 'extremelli', 'extrememli', 'extremli', 'extrmli', 'extrodownload', 'extrtem', 'exuber', 'ey', 'eye', 'eyebag', 'eyebal', 'eyebat', 'eyecanc', 'eyecandi', 'eyefin', 'eyessom', 'eyesvintag', 'ez', 'ezhighli', 'ezio', 'ezpz', 'ezx', 'eğer', 'eğlenc', 'eğleniyordum', 'eロシア', 'f1', 'f100', 'f14', 'f15', 'f15c', 'f16', 'f18', 'f2', 'f22', 'f2ing', 'f2p', 'f2pbe', 'f2pcon', 'f2per', 'f2pf2p', 'f2plastli', 'f2player', 'f2pmoney', 'f2pnow', 'f3', 'f3fyst', 'f4', 'f4a', 'f4u', 'f5', 'f6', 'f6f', 'f86', 'f9f', 'f_', 'fa', 'fab', 'fabl', 'fabric', 'fabul', 'facad', 'facada', 'face', 'facebook', 'facebreak', 'faceit', 'faceless', 'facepalm', 'facerol', 'facet', 'facetrack', 'facetracknoir', 'facia', 'facial', 'facil', 'facilit', 'facin', 'fact', 'facti', 'faction', 'factionmani', 'facto', 'facton', 'factor', 'factori', 'factsit', 'faculti', 'fad', 'fade', 'fae', 'faeria', 'faerli', 'faerun', 'fahrzeug', 'fai', 'fail', 'faild', 'faili', 'failri', 'failunfortun', 'failur', 'faint', 'fair', 'fairer', 'fairest', 'fairi', 'fairli', 'fairnessa', 'fairwel', 'faith', 'fak', 'faka', 'fake', 'fakemonopoli', 'faker', 'falcon', 'faliuresy', 'falkreath', 'fall', 'fallaci', 'fallaciæ', 'fallaron', 'falleconomi', 'fallen', 'fallingreason', 'falloff', 'fallout', 'fallout4', 'fallout_shelt', 'falloutshelt', 'falloutshelterbackup', 'fallow', 'fals', 'falta', 'fam', 'fama', 'fame', 'famer', 'famiar', 'familair', 'familar', 'famili', 'familiar', 'familiaris', 'famillar', 'familliar', 'fammiliar', 'famou', 'famour', 'famous', 'fan', 'fanat', 'fanatec', 'fanbas', 'fanboi', 'fanboy', 'fanci', 'fancier', 'fandom', 'fang', 'fangirl', 'fansoh', 'fanstast', 'fantas', 'fantasi', 'fantast', 'fantasti', 'fantasticgood', 'fantasticli', 'fantasticwel', 'fantastiqu', 'fantasy7', 'fanthi', 'fap', 'fapnit', 'fapon', 'fapper', 'fapt', 'fapthi', 'faq', 'far', 'fara', 'farbenfroh', 'farcri', 'fare', 'farenheit', 'farewel', 'farfetch', 'farm', 'farmabl', 'farmeada', 'farmer', 'farmi', 'farmin', 'farminggreat', 'farmland', 'farmvil', 'farpro', 'farscap', 'farso', 'fart', 'fartdress', 'farther', 'farthest', 'farthi', 'farti', 'fartnit', 'farvrot', 'fascin', 'fasdjasdjadsck', 'fashion', 'fasicin', 'fasrflsafda', 'fassion', 'fast', 'fastast', 'fastcon', 'fastdifficulti', 'faster', 'fasterand', 'fasterbut', 'fasterwil', 'fastest', 'fasti', 'fasto', 'fastpac', 'fastthat', 'fasttrack', 'fat', 'fatal', 'fatali', 'fatass', 'fate', 'fatemi', 'fatgood', 'fath', 'fatha', 'father', 'fatherland', 'fatherpaid', 'fatigu', 'fatj', 'fatpedxs228', 'fatter', 'fault', 'faust', 'faut', 'fav', 'fave', 'faverourt', 'favirot', 'favoirit', 'favor', 'favoret', 'favorio', 'favorit', 'favort', 'favorti', 'favour', 'favourit', 'favriot', 'fawk', 'faze', 'fb', 'fbi', 'fc', 'fc2', 'fc3', 'fd', 'feal', 'fear', 'fearlessli', 'fearsom', 'feasibl', 'feast', 'feat', 'feather', 'featu', 'featur', 'featuredthank', 'featurespro', 'featuyr', 'feautr', 'feb', 'februari', 'fece', 'fed', 'fedel', 'fedora', 'fedstori', 'fee', 'feeal', 'feed', 'feedback', 'feeder', 'feeeeeeeet', 'feeeeel', 'feel', 'feelfre', 'feelign', 'feelingalso', 'feelingmass', 'feelsgoodman', 'feelsgoodmangreat', 'feelsl', 'feelslifeman', 'feet', 'feg', 'feget', 'feggt', 'feild', 'feisti', 'feit', 'feita', 'felicidad', 'felin', 'felix', 'feliz', 'fell', 'fella', 'fellow', 'felt', 'femal', 'femiliar', 'feminist', 'fenat', 'fenc', 'fend', 'fenrir', 'feral', 'ferdinand', 'ferious', 'fermiliar', 'feroci', 'ferr', 'ferral', 'ferrari', 'ferri', 'fertil', 'fest', 'festiv', 'fetal', 'fetch', 'fetish', 'fetishist', 'fetus', 'fever', 'feverishli', 'few', 'fewer', 'feworyx', 'ff', 'ff14', 'ff7', 'ffa', 'ffb', 'ffree', 'ffvi', 'ffviguild', 'ffvii', 'ffx', 'ffxi', 'ffxiv', 'fg', 'fght', 'fgr', 'fgreat', 'fi', 'fia', 'fianc', 'fiat', 'fibr', 'fic', 'fica', 'fiction', 'fictionalis', 'fiddl', 'fiddli', 'fide', 'fidel', 'fidget', 'fidn', 'fiecar', 'field', 'fieldjust', 'fieldsdwd', 'fieldso', 'fiend', 'fiendli', 'fierc', 'fieri', 'fiesta', 'fifteen', 'fifth', 'fifti', 'fifv', 'figgit', 'figh', 'fighitng', 'fight', 'fightcon', 'fighter', 'fightercraft', 'fighterdefend', 'fighterstrik', 'fightingand', 'fightn', 'fightsif', 'fightsuddenli', 'fightsvarieti', 'figment', 'figth', 'figur', 'fihs', 'fii', 'fiiinal', 'fiind', 'fiirst', 'fijbsmmhzvm', 'fijn', 'fild', 'file', 'filedetail', 'filght', 'filight', 'filipino', 'fill', 'filler', 'fillet', 'film', 'filmmak', 'filter', 'filth', 'filthi', 'finac', 'final', 'finali', 'finalis', 'financel', 'financi', 'find', 'findabl', 'findconclus', 'finder', 'findet', 'findind', 'findout', 'findtwitch', 'findâ', 'fine', 'finer', 'finess', 'finessin', 'finest', 'finethi', 'fing', 'finger', 'fingertip', 'fingur', 'finicki', 'finish', 'finishedcom', 'finishng', 'finit', 'finkel', 'finna', 'finnali', 'finneki', 'finnicki', 'finnish', 'finsh', 'finsih', 'fiolk', 'fiona', 'fir', 'firbi', 'fire', 'fireabl', 'firearm', 'firebal', 'fireball', 'firebrand', 'firecrack', 'firee', 'firefight', 'firefightcon', 'firefightsgigant', 'firend', 'firendli', 'firepow', 'fireproof', 'firer', 'firesal', 'firestorm', 'fireteam', 'firewal', 'firework', 'firm', 'firmli', 'first', 'firstand', 'firstborn', 'firsthand', 'firstli', 'firstperson', 'firstpersonshoot', 'firstreleas', 'fish', 'fishey', 'fishin', 'fisnish', 'fisrt', 'fissar', 'fissur', 'fist', 'fistedwhich', 'fisti', 'fit', 'fith', 'five', 'fiver', 'fix', 'fixabl', 'fixat', 'fixedin', 'fixedit', 'fixedorigin', 'fixedtechtre', 'fixedw', 'fizzl', 'fj45', 'fk', 'fkin', 'flabberghast', 'flacent', 'flack', 'flag', 'flagship', 'flaili', 'flair', 'flak', 'flake', 'flam', 'flame', 'flamethrow', 'flang', 'flank', 'flanker', 'flap', 'flappi', 'flare', 'flash', 'flashback', 'flashbang', 'flashi', 'flashiest', 'flashlight', 'flashplay', 'flask', 'flat', 'flavor', 'flavortown', 'flavour', 'flaw', 'flawless', 'flawlessli', 'flawâ', 'flax', 'fledg', 'flee', 'fleet', 'flesh', 'fleshl', 'fletching3', 'flew', 'flex', 'flexabl', 'flexibl', 'fli', 'flick', 'flicker', 'fligh', 'flight', 'flightmar', 'flightsim', 'flightstick', 'flightsuit', 'flinch', 'fling', 'flink', 'flintlock', 'flip', 'flipsid', 'flir', 'floaar', 'float', 'floater', 'floati', 'flock', 'flood', 'floof', 'floor', 'floorupon', 'flop', 'flora', 'florida', 'flounder', 'flour', 'flour1', 'flour16', 'flour3', 'flourish', 'flow', 'flower', 'flown', 'fluctuat', 'fluent', 'fluentli', 'fluff', 'fluffi', 'fluid', 'fluiditi', 'fluidli', 'fluido', 'fluke', 'flurri', 'flush', 'flux', 'flyabl', 'flybi', 'flyer', 'flyin', 'flying10', 'flypath', 'flysim', 'fm', 'fml', 'fmlasm', 'fn', 'fn57m5x7hywso', 'fnaf', 'fnite', 'fo', 'fo4', 'foam', 'fob', 'foccus', 'fockoff', 'focu', 'focus', 'focusedconsoptim', 'focuss', 'fodder', 'foe', 'foedisgayazzgam', 'fog', 'foget', 'foi', 'foibl', 'foil', 'foilag', 'foke', 'fold', 'folder', 'foli', 'foliag', 'folk', 'follow', 'following1', 'followip', 'follw', 'folosesti', 'folsk', 'fom', 'fon', 'fond', 'fondest', 'fondli', 'font', 'food', 'foodengin', 'foodpoison012', 'fool', 'foolish', 'foolishli', 'foot', 'footag', 'footbal', 'foothold', 'footnot', 'footprint', 'footsept', 'footsoldi', 'footstep', 'for', 'fora', 'forag', 'foray', 'forbear', 'forbid', 'forbidden', 'forc', 'forcefeedback', 'forcefield', 'ford', 'fore', 'forearm', 'foreground', 'forehead', 'foreheadwel', 'foreign', 'forement', 'foremost', 'forerunn', 'foresaken', 'forese', 'foresight', 'forest', 'forethought', 'forev', 'foreward', 'forewarn', 'forewordthi', 'forexampl', 'forfeit', 'forfil', 'forg', 'forgelight', 'forget', 'forgett', 'forgingscatt', 'forgiv', 'forgiven', 'forgo', 'forgot', 'forgoten', 'forgotten', 'forign', 'forit', 'fork', 'form', 'formal', 'format', 'former', 'formerli', 'formet', 'formid', 'formit', 'formul', 'formula', 'formulai', 'formular', 'formularbad', 'fornight', 'fornit', 'forom', 'forrest', 'forsaken', 'forseeabl', 'forsolv', 'forsur', 'fort', 'fortenit', 'forteress', 'fortess', 'fortezza', 'forth', 'forti', 'fortif', 'fortight', 'fortn', 'fortnait', 'fortni', 'fortnight', 'fortnit', 'fortniteaah', 'fortnitekiddo', 'fortnitestep', 'fortnut', 'fortoress', 'fortress', 'fortshit', 'fortun', 'fortuna', 'fortunatli', 'fortunetli', 'forum', 'forvarieti', 'forward', 'forwordd', 'forza', 'forzaaft', 'foss', 'fossil', 'foster', 'fot', 'fotress', 'fought', 'fougt', 'foul', 'foun', 'found', 'foundari', 'foundat', 'founder', 'foundri', 'fountain', 'four', 'fournir', 'fourteen', 'fourth', 'fouth', 'fov', 'foward', 'fowl', 'fox', 'foxi', 'fp', 'fpp', 'fppproblem', 'fpr', 'fpsdon', 'fpse', 'fpspro', 'fpsveri', 'fr', 'fraction', 'fractu', 'fractur', 'frag', 'fragen', 'fragfest', 'fragil', 'fragment', 'fraka', 'frame', 'framedrop', 'framer', 'framesnot', 'framework', 'franc', 'franceman', 'franchi', 'franchis', 'francorchamp', 'frank', 'franki', 'frankli', 'frantic', 'fratel', 'fraud', 'fraudul', 'fray', 'fre', 'freak', 'freaken', 'freaki', 'freakiest', 'freakin', 'freakish', 'fredaika', 'fredaiki', 'fredalik', 'freddi', 'free', 'free2', 'free2play', 'free4', 'free9', 'free99', 'freea', 'freeafter', 'freealthough', 'freebeen', 'freebefor', 'freebi', 'freeblood', 'freebrawlhalla', 'freec', 'freecon', 'freedevelop', 'freedi', 'freedid', 'freedo', 'freedom', 'freee', 'freeearli', 'freeeasliy', 'freeee', 'freeeee', 'freeeeee', 'freeeeeeeeee', 'freeeeeeeeeeeee', 'freeeeeeeeeeeeeee', 'freeeeeeeeeeeeeeeeeeeee', 'freeeeeeeeeeeeeeeeeeeeeeeeeeeeeeeperson', 'freefirst', 'freeflight', 'freefor', 'freeform', 'freefreefreefreefreefreefreefreefreefreefreefreefreefreefreefreefreefreefreefreefreefreefreefreefreefreefreefreefreefreefreefreefreefreefreefreefreefreefreefreefreefreefreefreefreefreefreefreefreefreefreefreefreefreefreefreefreefreefreefreefreefreefreefreefreefreefreefreefreefreefreefreefreefreefreefreefreefreefreefreefreefreefreefreefreefreefreefreefreefreefreefreefreefreefreefreefreefreefreefreefreefreefreefreefreefreefreefreefreefreefreefreefreefreefreefreefreefreefreefreefreefreefreefreefreefreefreefreefreefreefreefreefreefreefreefreefreefreefreefreefreefreefreefreefreefreefreefreefreefreefreefreefreefreefreefreefreefreefreefreefreefreefreefreefreefreefreefreefreefreefreefreefreefreefreefreefreefreefreefreefreefreefreefreefreefreefreefreefreefreefreefreefreefreefreefreefreefreefreefreefreefreefreefreefreefreefreefreefreefreefreefreefreefreefreefreefreefreefreefreefreefreefreefreefreefreefreefreefreefreefreefreefreefreefreefreefreefreefreefreefreefreefreefreefreefreefreefreefreefreefreefreefreefreefreefreefreefreefreefreefreefreefreefreefreefreefreefreefreefreefreefreefreefreefreefreefreefreefreefreefreefreefreefreefreefreefreefreefreefreefreefreefreefreefreefreefreefreefreefreefreefreefreefreefreefreefreefreefreefreefreefreefreefreefreefreefreefreefreefreefreefreefreefreefreefreefreefreefreefreefreefreefreefreefreefreefreefreefreefreefreefreefreefreefreefreefreefreefreefreefreefreefreefreefreefreefreefreefreefreefreefreefreefreefreefreefreefreefreefreefre', 'freefunreplayablelot', 'freegam', 'freegreat', 'freeh', 'freei', 'freeif', 'freeisn', 'freeit', 'freejam', 'freek', 'freelanc', 'freeli', 'freelook', 'freeman', 'freemium', 'freenic', 'freeokay', 'freeon', 'freeplay', 'freeport', 'freepro', 'freeprosfreeplenti', 'freereal', 'freero', 'freeso', 'freesom', 'freest', 'freestyl', 'freestyle2', 'freeth', 'freethi', 'freetim', 'freetir', 'freetl', 'freetoplay', 'freetrack', 'freeunder', 'freevagu', 'freeveri', 'freewar', 'freewhat', 'freewoah', 'freewwiicarsfunki', 'freeyou', 'freez', 'freezep', 'freind', 'freindli', 'freindliest', 'fremium', 'french', 'frenchi', 'frenchman', 'frenchmen', 'frend', 'frendli', 'frenet', 'frenzi', 'frequant', 'frequenc', 'frequent', 'frequentlycontrol', 'frequentlypv', 'fresh', 'freshass', 'freshen', 'fresher', 'freshest', 'freshli', 'freunden', 'frew', 'freya', 'frflwcix8e0ek1c8g9xlvlq', 'fri', 'frick', 'fricken', 'frickin', 'friction', 'friday', 'fridg', 'frieghten', 'frien', 'friend', 'friendair', 'friendand', 'friendless', 'friendli', 'friendlier', 'friendlist', 'friendlyslight', 'friendlyz', 'friends2', 'friends2win', 'friends4', 'friendsb', 'friendscon', 'friendsdepend', 'friendsdiffer', 'friendship', 'friendshug', 'friendsi', 'friendsissu', 'friendslist', 'friendsmani', 'friendsnot', 'friendspooki', 'friendsth', 'friendswid', 'friendveri', 'frienli', 'frig', 'frigat', 'friggen', 'friggin', 'fright', 'frighten', 'frik', 'frikin', 'frikn', 'frim', 'frind', 'frine', 'fring', 'friski', 'friskythi', 'frist', 'fro', 'frog', 'frogfoot', 'froglok', 'frogodogo', 'frogzard', 'frolov', 'from', 'froma', 'fromcon', 'fromfast', 'fromfew', 'fromhumor', 'frompro', 'frompurpl', 'fromt', 'fron', 'front', 'frontal', 'fronthead', 'frontier', 'frontlin', 'frost', 'frostbolt', 'frosthaven', 'frostivu', 'froth', 'frown', 'froze', 'frozen', 'frrom', 'frugal', 'fruit', 'fruitless', 'frum', 'frustat', 'fruster', 'frustra', 'frustrat', 'frustratingacrobat', 'frustratingli', 'frustrierend', 'frustur', 'frutsrat', 'fs', 'fs1', 'fs2002', 'fshew', 'fssb', 'fssb2', 'fsx', 'ft', 'fteindli', 'ftp', 'ftw', 'fu', 'fuc', 'fuck', 'fuction', 'fuel', 'fufeafjakdmnf', 'fufil', 'fukc', 'fukkin', 'fukkt', 'ful', 'fulfil', 'full', 'fuller', 'fullest', 'fullhd', 'fulli', 'fullscreen', 'fulltim', 'fullybal', 'fumando', 'fumbl', 'fun', 'funaddictivecuteth', 'funanimalrel', 'funboy', 'funbullet', 'funcon', 'funcontrol', 'function', 'functional', 'functionali', 'functionnot', 'fund', 'fundaent', 'fundaili', 'fundament', 'fundamentali', 'fundamentalist', 'fundamet', 'fundement', 'fundevelop', 'fundsonli', 'funeasi', 'funer', 'funeveryth', 'funfact', 'funfast', 'funfunfun', 'fungameplayy', 'fungin', 'funhous', 'funhowev', 'funi', 'funk', 'funki', 'funktionieren', 'funlik', 'funner', 'funnest', 'funni', 'funnier', 'funniest', 'funno', 'funnyi', 'funnylvl', 'funonli', 'funrememb', 'funsi', 'funt', 'funtacticalww2con', 'funth', 'funthi', 'funwitti', 'funwonki', 'funyour', 'funzon', 'funçõ', 'fuori', 'fur', 'furhter', 'furi', 'furion', 'furiou', 'furious', 'furnac', 'furnish', 'furnitur', 'furri', 'further', 'furtherli', 'furthermi', 'furthermor', 'furthest', 'furuki', 'fuse', 'fusion', 'fusionflameboltif', 'fuss', 'fustrat', 'futa', 'futher', 'futhermor', 'futil', 'futr', 'futur', 'futurea', 'futureg', 'futureshop', 'futurethi', 'futurey', 'futurist', 'futuro', 'fuzil', 'fuzz', 'fuzzi', 'fw', 'fw190', 'fwb', 'fwd', 'fwlink', 'fx', 'fyi', 'fyr', 'fácil', 'fã', 'fähigkeit', 'fängt', 'für', 'fürchterlichen', 'făcut', 'fără', 'fēngkuáng', 'g1', 'g25', 'g27', 'g28e', 'g29', 'g3258', 'g3olm3iprwqhttp', 'g43', 'g4560', 'g8', 'g920', 'ga', 'gaaaa', 'gaad', 'gaam', 'gaan', 'gabe', 'gaben', 'gabenwhen', 'gacha', 'gadget', 'gaeem', 'gaem', 'gaem9', 'gaet', 'gag', 'gah', 'gahhh', 'gaiijin', 'gaijin', 'gain', 'gaint', 'gajin', 'gakkō', 'gal', 'galact', 'galactica', 'galatica', 'galaxi', 'galaxythi', 'galiant', 'galleri', 'gallop', 'galor', 'galoredu', 'gam', 'gamatau', 'gambl', 'gambler', 'game', 'game1', 'game10', 'game11', 'game2', 'game3', 'game5', 'game6', 'game7', 'game8', 'game9', 'gamea', 'gamealot', 'gameand', 'gameanoth', 'gameat', 'gamebest', 'gamebestgamebest', 'gamebi', 'gameboard', 'gamebonus', 'gameboob', 'gamebot', 'gameboy', 'gamebreak', 'gameburli', 'gamebut', 'gamecept', 'gamech', 'gamechang', 'gamecolor', 'gamecon', 'gameconst', 'gamecool', 'gamecub', 'gamedelet', 'gamediablo', 'gamedislik', 'gamedivers', 'gamedo', 'gamedollar', 'gameedit', 'gameengi', 'gameeveri', 'gamefairli', 'gamefamiliar', 'gamegear', 'gameget', 'gamegood', 'gameguard', 'gamehearthston', 'gamehighli', 'gamehilari', 'gamei', 'gameif', 'gamein', 'gameinform', 'gameinvolv', 'gameit', 'gamekeep', 'gamekiss', 'gamel', 'gamelay', 'gamelik', 'gamelpay', 'gamemass', 'gamemast', 'gamemechan', 'gamemeod', 'gamemod', 'gamemodesand', 'gamemodesmor', 'gamemodesth', 'gamemost', 'gamemostli', 'gamenicknam', 'gameo', 'gameoh', 'gameok', 'gameoryx', 'gameov', 'gamep', 'gamepad', 'gameplay', 'gameplay2', 'gameplay3', 'gameplay4', 'gameplay6', 'gameplaya', 'gameplaycon', 'gameplaydeep', 'gameplaydepend', 'gameplaydoesn', 'gameplaygigant', 'gameplaygood', 'gameplayi', 'gameplaykeep', 'gameplaylov', 'gameplaymani', 'gameplaymost', 'gameplayno', 'gameplayshoot', 'gameplaytf2', 'gameplayth', 'gameplaythank', 'gameplayther', 'gameplaythi', 'gameplaytim', 'gameplayveri', 'gameplayx', 'gamepley', 'gamepli', 'gamepooppoop', 'gamepro', 'gamer', 'gamerank', 'gamerequir', 'gamerz', 'games2', 'gamesand', 'gamesb', 'gamescon', 'gamesecond', 'gamesen', 'gameseri', 'gamesi', 'gamesit', 'gamesjust', 'gameslimit', 'gamesout', 'gamesoveral', 'gamespawn', 'gamespot', 'gamessom', 'gamestar', 'gamestart', 'gamestep', 'gamestil', 'gamestop', 'gamestyl', 'gamesyet', 'gamet', 'gametf2', 'gameth', 'gamethat', 'gamethi', 'gamethird', 'gamethumb', 'gametim', 'gametl', 'gametri', 'gametyp', 'gamewhat', 'gamewith', 'gameworth', 'gamey', 'gamezebo', 'gameâ', 'gamin', 'gamingin', 'gamingpolici', 'gamk', 'gamma', 'gamma3', 'gamn', 'gampad', 'gamplay', 'gan', 'ganda', 'gandalf', 'gandon', 'ganesha', 'gang', 'gangbang', 'gangster', 'ganjin', 'gank', 'ganker', 'ganna', 'ganon', 'ganz', 'gap', 'gape', 'gaqm', 'garag', 'garand', 'garaunte', 'garb', 'garbag', 'gard', 'garden', 'gardian', 'gardnur', 'garena', 'garente', 'garenti', 'gargl', 'gari', 'garlic', 'garment', 'garner', 'garnish', 'garreth', 'garudin', 'garunt', 'garymad', 'garyskil', 'garystart', 'gasic', 'gasmask', 'gasp', 'gate', 'gatekeep', 'gateway', 'gather', 'gathering10', 'gatheringgath', 'gatheringoveral', 'gatl', 'gatta', 'gau', 'gaug', 'gaunelet', 'gaunlet', 'gauntl', 'gauntlet', 'gaurante', 'gaurd', 'gaurdian', 'gauss', 'gave', 'gavem', 'gaw', 'gawd', 'gawti', 'gay', 'gaybullet', 'gaym', 'gaze', 'gazel', 'gazillion', 'gb', 'gbp', 'gbyte', 'gc', 'gd', 'gddr512gb', 'gdi', 'gdr', 'gdzie', 'ge', 'geam', 'gear', 'gearcan', 'gearfix', 'gearhidesstandstentsthi', 'geari', 'gearscor', 'geat', 'geben', 'gebühren', 'gecko', 'gee', 'geeignet', 'geek', 'gees', 'geez', 'geforc', 'gehen', 'gel', 'geldim', 'gelegenheitsspiel', 'gem', 'gemewhat', 'gemini', 'gemscool', 'gemsffffffffffffduuuuuuuuu11', 'gemston', 'gen', 'genauso', 'gender', 'gene', 'gener', 'general', 'generalcon', 'generali', 'generalmi', 'generalsfor', 'generel', 'generi', 'generos', 'generour', 'generousev', 'generr', 'genet', 'gengr', 'genial', 'genială', 'geniou', 'genit', 'geniu', 'genius', 'geniusli', 'genocid', 'genr', 'genra', 'genral', 'genre8', 'genrefun', 'gent', 'gentl', 'gentleman', 'gentlemen', 'gentli', 'genuenli', 'genui', 'genuin', 'genuinley', 'genuinli', 'geograph', 'geographi', 'geometri', 'georg', 'georgou', 'gepard', 'gepraat', 'ger', 'gerard', 'gere', 'german', 'germani', 'germania', 'germen', 'gern', 'gernad', 'gerçek', 'gesagt', 'geschicht', 'gesehen', 'gestur', 'gesu', 'get', 'geta', 'getaway', 'gete', 'gether', 'geti', 'getit', 'gett', 'getthreadcontext', 'gettin', 'getweapon', 'getwrekt', 'getâ', 'geuss', 'gew', 'gewehr', 'gewerkt', 'gewinnen', 'gewoon', 'gezaubert', 'geçtiğini', 'gf', 'gfd', 'gfh', 'gforc', 'gfwojtgugnu', 'gfx', 'gfxa', 'gg', 'ggg', 'gggnew', 'ggwp', 'ghast', 'ghastli', 'ghastlieriest', 'ghf', 'ghide', 'ghilli', 'ghj', 'ghoat', 'ghost', 'ghostbust', 'ghostclos', 'ghosti', 'ghostl', 'ghostli', 'ghoul', 'ghz', 'ghzr9', 'gi', 'giand', 'giant', 'giappon', 'giappones', 'gib', 'gibbu', 'giblet', 'gibt', 'gibu', 'gibus', 'gibuz', 'giddi', 'giddy', 'gier', 'gierenhart', 'gierka', 'gif', 'gift', 'giftig', 'gig', 'gigabyt', 'gigahertz', 'gigant', 'giggl', 'gild', 'gilda', 'gime', 'gimic', 'gimm', 'gimmic', 'gimmick', 'gimmicki', 'gimp', 'gin', 'gind', 'ginder', 'gingerbread', 'ginorm', 'giocar', 'giocator', 'giocatori', 'gioco', 'giraff', 'girl', 'girlfreind', 'girlfrend', 'girlfriend', 'girli', 'gist', 'git', 'gitch', 'github', 'gitti', 'gittim', 'giudicano', 'giv', 'give', 'giveaway', 'giveawayther', 'giveelsword', 'given', 'giver', 'givi', 'givin', 'giy', 'gizillion', 'gizzard', 'gkash', 'gl', 'glacial', 'glad', 'gladi', 'gladiat', 'gladli', 'glamour', 'glanc', 'gland', 'glans', 'glare', 'glass', 'glaub', 'glee', 'gleeand', 'gleeful', 'glhf', 'gli', 'glich', 'glichi', 'glid', 'glide', 'glider', 'gliderop', 'gliderpro', 'glim', 'glimp', 'glimps', 'glint', 'glisten', 'glitch', 'glitchesal', 'glitchi', 'glitchyno', 'glitteri', 'gloat', 'global', 'globe', 'glock', 'glock2', 'gloomi', 'glori', 'gloria', 'glorifi', 'gloriou', 'glorious', 'gloriu', 'glove', 'glow', 'glowi', 'gltichesro', 'glu', 'glue', 'glut', 'glych', 'glyph', 'glück', 'gm', 'gmae', 'gmail', 'gmod', 'gmotor', 'gnarli', 'gnash', 'gnat', 'gnoll', 'gnome', 'gnot', 'go', 'goah', 'goal', 'goalmi', 'goalsgreat', 'goaltend', 'goat', 'goatbal', 'goatman', 'goatmen', 'gobattl', 'gobbl', 'gobin', 'goblin', 'gocon', 'god', 'god1', 'godamn', 'goddam', 'goddamn', 'goddamnit', 'goddayum', 'goddess', 'godess', 'godforsaken', 'godhood', 'godland', 'godli', 'godlik', 'godmod', 'godpack', 'gods2', 'godsa', 'godsend', 'godsoveral', 'godspe', 'goe', 'goesd', 'gofundmepleas', 'goggl', 'goig', 'goign', 'goin', 'goind', 'goinginto', 'goingspeak', 'goingword', 'goinng', 'goit', 'goku', 'gol', 'gold', 'goldbox', 'goldbuy', 'golden', 'goldengun', 'goldmin', 'goldspamm', 'golem', 'golf', 'goliath', 'golli', 'golri', 'gon', 'gona', 'gondal', 'gondola', 'gone', 'gonei', 'gonerf', 'gonna', 'gonot', 'goo', 'goober', 'gooby', 'good', 'good3', 'good4', 'good8', 'goodbi', 'goodbusi', 'goodby', 'goodbyenev', 'goodchi', 'goodcustom', 'goodedit', 'gooder', 'goodgameplay', 'goodget', 'goodgood', 'goodi', 'goodim', 'goodin', 'goodli', 'goodlook', 'goodmass', 'goodmeh', 'goodn', 'goodnot', 'goodo', 'goodof', 'goodpair', 'goodpv', 'goodsir', 'goodteam', 'goodth', 'goodthen', 'goodther', 'goodthough', 'goodx', 'gooey', 'goof', 'goofbal', 'goofi', 'goofy', 'googl', 'googli', 'goona', 'gooood', 'gooooooooooooooooooooooooooooooooo', 'goooooooooooooooooooooooooooooooooooooooo', 'goooooooooooooooooooooooooooooooooooooooooooooooooooooooooooooooooooooooooooooooooooooooooooooooooooooooooooooooooooooooooooooooooooooooooooooooooooooooooooooooooooooooooooooooooooooooooooood', 'goooooooooooooooooooooooooooooooooooooooooooooooooooooooooooooooooooooooooooooooooooooooooooooooooooooooooooooooooooooooooooooooooooooooooooooooooooooooooooooooooooooooooooooooooooooooooooooooooooooooooooooooooooooooooooooooooooooooooooooooooooooooooooooooooooooooooooooooooooooooooooooooooooooooooooooooooooooooooooooooooooooooooooooooooooooooooooooooooooooooooooooooooooooooooooooooooooooooooooooooooooooooooooooooooooooooooooooooooooooooooooooooooooooooooooooooooooooooooooooooooooooooooooooooooooooooooooooooooooooooooooooooooooooooooooooooooooooooooooooooooooooooooooooooooooooooooooooooooooooooooooooooooooooooooooooooooooooooooooooooooooooooooooooooooooooooooooooooooooooooooooooooooooooooooooooooooooooooooooooooooooooooooooooooooooooooooooooooooooooooooooooooooooooooooooooooooooooooooooooooooooooooooooooooooooooooooooooooooooooooooooooooooooooooooooooooooooooooooooooooooooooooooooooooooooooooooooooooooooooooooooooooooooooooooooooooooooooooooooooooooooooooooooooooooooooooooooooooooooooooooooooooooooooooooooooooooooooooooooooooooooooooooooooooooooooooooooooooooooooooooooooooooooooooooooooooooooooooooooooooooooooooooooooooooooooooooooooooooooooooooooooooooooooooooooooooooooooooooooooooooooooooooooooooooooooooooooooooooooooooooooooooooooooooooooooooooooooooooooooooooooooooooooooooooooooooooooooooooooooooooooooooooooooooooooooooooooooooooooooooooooooooooooooooooooooo9ooooooooooooood', 'goos', 'goosebump', 'gore', 'gorefest', 'goreg', 'gorey', 'gorg', 'gorgeou', 'gorgiou', 'gorgo', 'gori', 'gorl', 'goro', 'gors', 'gortwog', 'gorund', 'gosh', 'gostei', 'got', 'gota', 'gotcha', 'gothic', 'goti', 'gotich', 'goto', 'gott', 'gotta', 'gotten', 'gotton', 'gotyalso', 'gotyorigin', 'gouda', 'goug', 'goul', 'gov', 'govern', 'gowel', 'goyou', 'goâ', 'gp', 'gpu', 'gpunvidia', 'gq', 'gr', 'gr8', 'gra', 'graag', 'grab', 'grabber', 'grabo', 'grac', 'grace', 'grachic', 'graciou', 'graczami', 'graczem', 'grade', 'grader', 'gradevol', 'gradual', 'graduat', 'graecyn', 'graffic', 'grafic', 'grafica', 'grafico', 'grafică', 'grafik', 'grafikand', 'grafzerk', 'grahic', 'grahpic', 'grain', 'grammar', 'grammarli', 'grammat', 'grammer', 'grampi', 'gran', 'granad', 'granado', 'grand', 'grandchas', 'grandchildren', 'granddaddi', 'grander', 'grandethough', 'grandfath', 'grandkid', 'grandma', 'grandmast', 'grandmom', 'grandmoth', 'grandpa', 'grandpappi', 'grandpar', 'grandson', 'grania', 'granni', 'grant', 'grap', 'grapchic', 'grape', 'grapfic', 'grapghic', 'graph', 'graphc', 'graphi', 'graphic', 'graphich', 'graphicif', 'graphicli', 'graphicnot', 'graphics2', 'graphicsawesom', 'graphicsbalanc', 'graphicscon', 'graphicsfun', 'graphicsgameplaysingl', 'graphicsgood', 'graphicsgraph', 'graphicslot', 'graphicsmor', 'graphicsnot', 'graphicsrecommend', 'graphicsrun', 'graphicssmooth', 'graphicssupport', 'graphicsunderstand', 'graphiv', 'graphixveri', 'graphyc', 'grapic', 'grapich', 'grapisch', 'grapl', 'grappl', 'grappler', 'grasp', 'grass', 'grasshopp', 'grassi', 'grassland', 'grat', 'grate', 'grathic', 'grati', 'gratif', 'gratifi', 'gratitud', 'gratuit', 'gratuito', 'grave', 'gravel', 'gravelyn', 'graveyard', 'graveyardh', 'gravi', 'gravit', 'gravita', 'graviti', 'gravitysag', 'gray', 'graze', 'grazi', 'gre', 'greas', 'greasi', 'great', 'greatcon', 'greater', 'greatest', 'greatfre', 'greatfun', 'greatget', 'greatgood', 'greatgraph', 'greati', 'greatit', 'greatli', 'greatmodel', 'greatso', 'greattechtreegreat', 'greatth', 'greattst', 'greatyou', 'greeat', 'greed', 'greedi', 'greek', 'green', 'greener', 'greengaurd', 'greenguard', 'greenhorn', 'greenland', 'greenlight', 'greenlit', 'greentext', 'grees', 'greet', 'gremio', 'grenad', 'grenade5', 'grenadin', 'grenat', 'grew', 'grey', 'greyzarcovski', 'gri', 'grid', 'griddl', 'gridni', 'grief', 'griefer', 'griend', 'gril', 'grill', 'grim', 'grimdark', 'grimstrok', 'grin', 'grind', 'grindabl', 'grinder', 'grindey', 'grindfest', 'grindi', 'grindier', 'grindiest', 'grindin', 'grindinggeargam', 'grindingperma', 'grindingsom', 'grindnow', 'grindo', 'grindx', 'grindy', 'grindyprosnic', 'grip', 'gripe', 'grit', 'gritti', 'grittier', 'grizzl', 'groan', 'groceri', 'grohl', 'groin', 'grokabl', 'gronckl', 'gronicl', 'gronkl', 'gross', 'grotequ', 'grotesqu', 'ground', 'groundbreak', 'groundoveral', 'groundsth', 'groundth', 'group', 'groupcur', 'groupf', 'groupfind', 'groupi', 'grow', 'growl', 'grown', 'grownup', 'grownupâ', 'growth', 'growthnow', 'groww', 'groza', 'großartig', 'grub', 'grubbi', 'grudg', 'gruel', 'gruell', 'gruesom', 'grund', 'grung', 'grunt', 'gruyer', 'gráfico', 'gs', 'gt', 'gt1', 'gt2', 'gt3', 'gt625', 'gta', 'gta5', 'gtfo', 'gto880', 'gtr', 'gtr2', 'gtr3', 'gtreat', 'gtx', 'gtx1060m', 'gtx1070', 'gtx1080', 'gtx660', 'gtx750ti', 'gtx960', 'gtx960m', 'gtx970', 'gtx980ti', 'gu3lm2dmiyhef', 'gua', 'guag', 'guan', 'guantlet', 'guarante', 'guaranteeso', 'guard', 'guardian', 'guardianship', 'guardin', 'guarente', 'guarnte', 'gucc', 'gucchi', 'guci', 'gud', 'gudluck', 'gue', 'guee', 'guerilla', 'guerra', 'guess', 'guess3', 'guest', 'guestim', 'guffaw', 'guge', 'gui', 'guid', 'guidanc', 'guide9', 'guidelin', 'guidenc', 'guidesov', 'guild', 'guildi', 'guildmat', 'guildwar', 'guilt', 'guilti', 'guilwar', 'guiness', 'guis', 'guitar', 'gulag', 'gulf', 'gullet', 'gulli', 'gum', 'gumbal', 'gume', 'gump', 'gun', 'gunbackburn', 'gunclean', 'gunfight', 'gunfigth', 'gunfir', 'gung', 'gungam', 'gunhoard', 'gunlmg', 'gunmet', 'gunmettl', 'gunn', 'gunna', 'gunner', 'gunningamerz', 'gunoiul', 'gunplay', 'gunplaycontrol', 'gunplayfast', 'gunpoint', 'gunporn', 'gunpro', 'gunrang', 'gunshigh', 'gunship', 'gunshot', 'gunsight', 'gunsling', 'gunsmith', 'gunsneg', 'gunsnot', 'gunsoldi', 'gunsound', 'gunspriv', 'gunssmal', 'gunswing', 'gunsyou', 'gup', 'gurante', 'guriella', 'gurl', 'gurrilla', 'gurtp', 'guru', 'gush', 'gusta', 'gusti', 'gusto', 'gut', 'gute', 'guten', 'gutsi', 'guud', 'guuuuuuuuuuurl', 'guven', 'guy', 'guyi', 'guyss', 'gvint', 'gw2', 'gwenad', 'gwent', 'gwf', 'gwonc', 'gx', 'gyaaaahahahahaaaaa', 'gyazo', 'gym', 'gypsum', 'gèrén', 'güncellem', 'gēmu', 'gēmubōi', 'gēmudesu', 'h1', 'h1d1', 'h1z1', 'h1z14', 'h8', 'ha', 'haaavee', 'haan', 'habbit', 'habe', 'haben', 'habil', 'habilit', 'habit', 'habitacion', 'habitat', 'habitu', 'habla', 'hace', 'hacer', 'hack', 'hackabl', 'hacker', 'hacker4', 'hackerbodyshot', 'hackersand', 'hackerscon', 'hackersglitchesperma', 'hackershitbox', 'hackersth', 'hackerther', 'hackker', 'hacksstep', 'had', 'hade', 'hadincred', 'hadn', 'hadnt', 'hae', 'haft', 'hag', 'haggl', 'hah', 'haha', 'hahaand', 'hahabut', 'hahah', 'hahaha', 'hahahah11', 'hahahaha', 'hahahahaahaahahahaha', 'hahahahaha', 'hahahahahaha', 'hahahahahahahahahahhahahahha', 'hahahaturn', 'hahai', 'hahhahahaha', 'hai', 'hail', 'hailrak', 'hair', 'haircut', 'hairdo', 'hairi', 'hairstyl', 'haj', 'hakarettir', 'hala', 'hald', 'hale', 'half', 'halfelf', 'halfl', 'halforc', 'halfslab', 'halfway', 'halfâ', 'hall', 'hallelujah', 'halllllooooaaa', 'hallmark', 'hallo', 'hallow', 'halloween', 'hallowfest', 'hallowween', 'hallway', 'hallwayand', 'halo', 'halother', 'halt', 'haltung', 'halv', 'ham', 'hamburg', 'hame', 'hamel', 'hamer', 'hamilton', 'hammer', 'hammerpoint', 'hammerth', 'hammerwolfgar', 'hamper', 'hamster', 'han', 'hand', 'handbook', 'handbrakeoculu', 'handdown', 'handedli', 'handglid', 'handgrip', 'handgun', 'handheld', 'handhold', 'handi', 'handil', 'handl', 'handler', 'handli', 'handlinginterest', 'handout', 'handpick', 'handset', 'handsom', 'handycap', 'hane', 'hang', 'hangar', 'hanger', 'hangglid', 'hangingsman', 'hanglid', 'hangout', 'hannah', 'hanzo', 'hapen', 'haphazard', 'haphazardli', 'haphazardplay', 'hapi', 'hapless', 'happ', 'happen', 'happend', 'happenrealist', 'happenspress', 'happenssmash', 'happi', 'happier', 'happili', 'happilli', 'happin', 'happli', 'happnen', 'happpen', 'happy', 'har', 'haram', 'haramb', 'harass', 'harb', 'harbing', 'harbring', 'harcadığımı', 'hard', 'hard5', 'hardcor', 'hardcoregam', 'hardcorerer', 'harden', 'hardend', 'harder', 'harderand', 'hardest', 'hardi', 'hardiest', 'hardish', 'hardli', 'hardlin', 'hardocor', 'hardship', 'hardstuck', 'hardtre', 'hardwar', 'hardwarechangeslack', 'hardwaregeforc', 'hardwer', 'hardwork', 'hare', 'harem', 'harika', 'harken', 'harkng', 'harley', 'harm', 'harmless', 'harmon', 'harmoni', 'harper', 'harpi', 'harpoon', 'harras', 'harrass', 'harri', 'harrier', 'harrison', 'harsh', 'harsher', 'harshli', 'harthston', 'haru', 'harvard', 'harvest', 'hase', 'hasen', 'hashtag', 'haslik', 'hasmad', 'hasn', 'hasnt', 'hassel', 'hassl', 'hassleberri', 'hast', 'hasta', 'hasti', 'hastili', 'hasv', 'haswel', 'hat', 'hatch', 'hatcheri', 'hatchet', 'hate', 'hatealtogeth', 'hater', 'haterad', 'hatersthank', 'hatersthi', 'hatewagon', 'hatfortress2', 'hath', 'hatless', 'hatr', 'hats4lif', 'hatsaustralium', 'hatscon', 'hatsif', 'hatsintrest', 'hatsoverpr', 'hatsrandom', 'hattori', 'hattori10', 'hatırlatıyor', 'haul', 'haunt', 'hav', 'have', 'havegam', 'havegem', 'havejust', 'haveliy', 'haven', 'havent', 'havenâ', 'haveplay', 'havest', 'haveto', 'havign', 'havin', 'havn', 'havnt', 'havoc', 'hawk', 'hawken', 'hawker', 'hawt', 'hawx', 'hax', 'hay', 'haywir', 'hazard', 'haze', 'hazi', 'hazzard', 'hbe4b506ww4', 'hc', 'hcfgl2qa9w8', 'hd', 'hd7700', 'hdd', 'hdr', 'he', 'head', 'headach', 'headbang', 'headfirst', 'headgear', 'headhunt', 'headless', 'headlight', 'headlong', 'headphon', 'headphonesgood', 'headquart', 'headscratch', 'headset', 'headshot', 'headshotsom', 'headstart', 'headtrack', 'headwear', 'heal', 'healbot', 'healer', 'healersbut', 'healerthi', 'health', 'healthcar', 'healthi', 'healthier', 'healthkit', 'heap', 'hear', 'heard', 'hearingr', 'hearston', 'heart', 'heartattack', 'heartbeat', 'heartbreak', 'heartedli', 'heartfelt', 'hearth', 'hearthson', 'hearthston', 'hearthstonedislik', 'hearthstonelik', 'hearthstonene', 'hearthstonenow', 'hearthton', 'hearti', 'heartili', 'heartland', 'heartless', 'heartrac', 'heartston', 'heartstonep', 'heartstop', 'heartwood', 'heartâ', 'heashot', 'heasit', 'heat', 'heater', 'heather', 'heathston', 'heav', 'heaven', 'heavi', 'heavier', 'heaviest', 'heavili', 'heavli', 'heavyguy', 'heb', 'hebben', 'hebrew', 'hecarim', 'hecc', 'hecho', 'heck', 'hectic', 'hed', 'hedgehog', 'hedgerow', 'hee', 'heed', 'heeeeerrrreee', 'heeft', 'heel', 'hefti', 'heftner', 'heghog', 'heh', 'hehe', 'heheh', 'height', 'heil', 'heinlein', 'heir', 'heirloom', 'heist', 'heißen', 'hel', 'helari', 'held', 'hele', 'helfen', 'heli', 'helicop', 'helicopt', 'helicoptor', 'helipad', 'helium', 'hell', 'hella', 'hellcat', 'hellfir', 'hellhol', 'hellish', 'hellit', 'hellll', 'hellno', 'hello', 'hellpik', 'hells', 'hellscap', 'hellth', 'helluva', 'helm', 'helmet', 'helo', 'help', 'helpconsum', 'helped', 'helpen', 'helper', 'helpful', 'helpfulon', 'helples', 'helpless', 'helplessli', 'hem', 'hemispher', 'hemorrhag', 'hen', 'henc', 'henceforth', 'henchmen', 'hendr', 'henir', 'hens', 'hentai', 'heppen', 'her', 'herb', 'hercul', 'herd', 'herdurr', 'here', 'here2', 'herecon', 'herei', 'hereo', 'heret', 'hereâ', 'herioc', 'heritag', 'hermit', 'hermoso', 'herní', 'hero', 'heroclick', 'heroic', 'heroin', 'heroinecon', 'heroino', 'herp', 'herrrruuuuug', 'herself', 'hesit', 'hesitantli', 'hesla', 'hestit', 'het', 'hetfield', 'heticli', 'hetrosexu', 'hetzer', 'heutzutag', 'hevi', 'hevili', 'hex', 'hexagon', 'hexagram', 'hexen', 'hexproof', 'hey', 'hf', 'hhave', 'hi', 'hi7', 'hiatu', 'hiccup', 'hick', 'hickup', 'hid', 'hidden', 'hide', 'hiden', 'hideo', 'hideou', 'hideous', 'hideout', 'hidetint', 'hidey', 'hidious', 'hidng', 'hier', 'hierl', 'hieron', 'higbi', 'high', 'highbug', 'highend', 'higher', 'highest', 'highi', 'highish', 'highland', 'highley', 'highli', 'highlight', 'highluck', 'highschool', 'highscor', 'hight', 'hightow', 'highway', 'higli', 'hijack', 'hijink', 'hikari', 'hike', 'hilar', 'hilari', 'hilariouo', 'hilarious2', 'hilariousscen', 'hiliri', 'hill', 'hillari', 'hillclimb', 'hilli', 'hillock', 'him', 'himself', 'hinden', 'hinder', 'hindranc', 'hindsight', 'hindu', 'hink', 'hint', 'hinter', 'hip', 'hipfir', 'hippi', 'hipster', 'hire', 'hirel', 'hirez', 'hirezstudio', 'hirezutil', 'hissi', 'histor', 'histori', 'historian', 'historicali', 'historyth', 'histrion', 'história', 'hit', 'hitbox', 'hitch', 'hitchesloc', 'hitchhik', 'hite', 'hitman', 'hitmark', 'hitori', 'hitpoint', 'hitreglook', 'hitscan', 'hitsoveral', 'hitta', 'hitter', 'hive', 'hjckerr', 'hjg', 'hk', 'hkehjt9htewhttp', 'hknsaxr4phk', 'hl', 'hl2', 'hl3', 'hm', 'hmg', 'hmhmhmhmmh', 'hmm', 'hmmm', 'hmmmmmmm', 'hmmwell', 'hmphm', 'hmu', 'hng', 'ho', 'hoard', 'hoarder', 'hobbi', 'hobbiest', 'hobbit', 'hobbyist', 'hobo', 'hoc', 'hoch', 'hockenheinmr', 'hoe', 'hoefulli', 'hoewver', 'hofferson', 'hog', 'hoggit', 'hoh', 'hohoho', 'hoje', 'hokey', 'hokum', 'hola', 'hold', 'holder', 'hole', 'holi', 'holiday', 'holli', 'holliday', 'hollow', 'holo', 'holocaust', 'holoflag', 'holograph', 'holosight', 'holygamer26', 'holymotherof', 'holyshit', 'holyâ', 'homag', 'home', 'home4', 'homebas', 'homebrew', 'homecook', 'homeless', 'homelft', 'homemad', 'homerght', 'homescreen', 'homework', 'homeworld', 'homi', 'homm3', 'homo', 'homoerot', 'homogen', 'homophob', 'homosexu', 'hon', 'hone', 'honescoand', 'honesetli', 'honesli', 'honeslti', 'honest', 'honesti', 'honestli', 'honex', 'honey', 'honeythat', 'hong', 'honit', 'honor', 'honostli', 'honour', 'hoo', 'hoocairsthehunt', 'hoock', 'hood', 'hook', 'hookedâ', 'hooligan', 'hoook', 'hoop', 'hoot', 'hoovi', 'hoowe', 'hop', 'hope', 'hopefuli', 'hopeless', 'hopelessli', 'hopper', 'hoppingreason', 'hopu', 'hora', 'hord', 'horder', 'horebel', 'horibbl', 'horizon', 'horizont', 'horn', 'hornet', 'hornetdc', 'horni', 'horny', 'horobo', 'horoscop', 'horrend', 'horrendou', 'horribl', 'horribler', 'horrid', 'horrif', 'horrifi', 'horrofiy', 'horror', 'horrorgamesi', 'hors', 'horsepow', 'horten', 'hose', 'hospit', 'hospiti', 'hoss', 'hossin', 'host', 'hostag', 'hosti', 'hostil', 'hot', 'hota', 'hotbar', 'hotcak', 'hotel', 'hotfix', 'hotfoot', 'hothead', 'hotkey', 'hotlap', 'hotli', 'hotseat', 'hotspot', 'hotter', 'hottest', 'houd', 'houer', 'hound', 'hour', 'hourglass', 'hourli', 'hours', 'hours1', 'hoursact', 'hourscard', 'hoursdifficulti', 'hoursgameplay', 'hoursi', 'hoursmi', 'hous', 'houseget', 'household', 'housenot', 'housesi', 'housey', 'houy', 'hovel', 'hover', 'hoverboard', 'hovercraft', 'hovertank', 'hovev', 'hovew', 'how', 'howdi', 'howeth', 'howev', 'howeverpo', 'howl', 'howver', 'hoşuma', 'hp', 'hpthe', 'hq', 'hqrn22fsjxe', 'hr', 'hra', 'hraju', 'hrsso', 'hs', 'hsa', 'hstone', 'htc', 'hte', 'hterefor', 'htey', 'hti', 'htmlplanetsid', 'http', 'httyd', 'hu', 'hub', 'hubbub', 'hubert', 'hubolog', 'hubworld', 'hud', 'hue', 'huerussia', 'huey', 'hueyp', 'hufff', 'hug', 'huge', 'hugeâ', 'hugger', 'huggin', 'hugh', 'huh', 'huir', 'hulk', 'hull', 'hum', 'human', 'humana', 'humankind', 'humanli', 'humanoid', 'humanæ', 'humbl', 'humdrum', 'humer', 'humeru', 'humid', 'humili', 'humiliar', 'hummili', 'hummm', 'humong', 'humor', 'humorsens', 'humour', 'hump', 'humve', 'hun', 'hunch', 'hunder', 'hunderd', 'hundr', 'hundread', 'hundredth', 'hundret', 'hung', 'hunger', 'hungri', 'hunk', 'hunker', 'hunr', 'hunrdr', 'hunt', 'huntabl', 'hunter', 'hunter3706hello', 'hunterm', 'hunterscor', 'hunterth', 'huntinggam', 'huntress', 'huntsman', 'huo', 'huqgdfcqvabppxkn', 'hurdl', 'hurl', 'hurri', 'hurrican', 'hurrr', 'hurrrr', 'hurt', 'hurtbox', 'hurtel', 'hurtz', 'husband', 'hust', 'hustl', 'hut', 'hute', 'huugggg', 'huuug', 'huuuugee', 'huuuuug', 'huxley', 'huāl', 'hwat', 'hwid', 'hwo', 'hy', 'hybrid', 'hyde', 'hydraul', 'hydrogen', 'hyena', 'hype', 'hyper', 'hyperboleth', 'hyperdr', 'hyperex', 'hyperspac', 'hypervental', 'hypocrit', 'hypothet', 'hyssop', 'hyster', 'hysteria', 'hz', 'h½t', 'hé', 'hð', 'höhen', 'höher', 'hěn', 'hǎo', 'hаt', 'i3', 'i5', 'i7', 'ia', 'ia058fh', 'iam', 'iamcvh', 'ian', 'iap', 'iar', 'ib', 'ibad', 'ibex', 'ic', 'ice', 'iceberg', 'iceburn', 'icecream', 'icefrog', 'ich', 'ici', 'icicl', 'icon', 'icouldn', 'id', 'idarksidept', 'idc', 'ide', 'idea', 'ideaal', 'ideafals', 'ideal', 'idealni', 'ideanot', 'ideanto', 'ideaolog', 'ideasr', 'ideea', 'ideia', 'idem', 'ident', 'identif', 'identifi', 'identitc', 'ideolog', 'ider', 'idfk', 'idi', 'idiosyncrasi', 'idiot', 'idk', 'idklot', 'idl', 'idler', 'idletim', 'idoit', 'idol', 'idot', 'idyl', 'idziesz', 'ie', 'iei', 'iet', 'if', 'ifeel', 'iffi', 'iffyearli', 'ifi', 'ifv', 'ifyou', 'ig', 'igc', 'ight', 'ightn', 'ign', 'ignbut', 'ignedit', 'ignit', 'ignnnnnnnnnnnnnnnnnnnnnnnnnnnnnnnn', 'ignor', 'ignorantli', 'ignore', 'ignough', 'igorawr', 'igpu', 'igr', 'igra', 'igral', 'igrat', 'igraya', 'igri', 'igru', 'ihav', 'ihohink5e9', 'ihohink5e9shttp', 'ihp', 'ihr', 'ihrem', 'ihren', 'ii', 'iie', 'iif', 'iii', 'iiiii', 'iirc', 'iit', 'ijphnohgf', 'ik', 'ike', 'ikea', 'iki', 'ikr', 'il', 'il2', 'ile', 'ilerleyen', 'ilgili', 'iligamin', 'ilik', 'ilk', 'ill', 'illeg', 'illegel', 'illog', 'illumin', 'illuminati', 'illus', 'illustr', 'illustri', 'ilog', 'iluminati', 'im', 'im_newbi', 'ima', 'imac', 'imacul', 'imag', 'imageri', 'imagin', 'imaginari', 'imaginit', 'imba', 'imbal', 'imbalanc', 'imbu', 'imbuement', 'ime', 'imediatli', 'imers', 'img', 'imgur', 'imh_', 'imho', 'imit', 'imma', 'immagin', 'immatur', 'immeasur', 'immedi', 'immediatley', 'immediatli', 'immedietli', 'immenc', 'immens', 'immensli', 'immer', 'immers', 'immersion10', 'immes', 'immidi', 'immidietli', 'immigr', 'immin', 'immit', 'immoder', 'immort', 'immortalcloudloung', 'immport', 'immun', 'immundu', 'imnotliketheott', 'imo', 'imola', 'imorpg', 'imostr', 'imp', 'impaci', 'impack', 'impact', 'impal', 'impala', 'impar', 'impart', 'impas', 'impat', 'impati', 'impazzito', 'impecc', 'imped', 'impedirti', 'impefect', 'impenetr', 'imper', 'imperfect', 'imperi', 'implament', 'implant', 'implemenet', 'implement', 'implemet', 'implent', 'impli', 'implic', 'impliment', 'implod', 'implor', 'implument', 'impor', 'import', 'importantli', 'importinc', 'imporv', 'impos', 'imposs', 'impossiblegameplay', 'impoverish', 'impract', 'impregn', 'impress', 'impressionsi', 'impressionwith', 'impressivenow', 'imprison', 'impromptu', 'improov', 'improperli', 'improuv', 'improv', 'improvementfractur', 'improvepro', 'improvis', 'improw', 'imput', 'imrpov', 'imun', 'in', 'inabl', 'inaccess', 'inaccur', 'inact', 'inactur', 'inacur', 'inadequ', 'inadvert', 'inan', 'inappropi', 'inappropri', 'inargu', 'inat', 'inaugur', 'inb4', 'inbal', 'inbalanc', 'inbetween', 'inbound', 'inbox', 'inbread', 'inbto', 'inc', 'incan', 'incap', 'incarn', 'incent', 'incentivis', 'incepi', 'incept', 'inceput', 'incest', 'inch', 'incid', 'incident', 'inciner', 'incl', 'inclement', 'inclid', 'inclin', 'includ', 'includingoryx', 'inclued', 'inclus', 'incluso', 'inclut', 'incoher', 'incom', 'incommensur', 'incompar', 'incompat', 'incompet', 'incomplet', 'incomprehens', 'incompt', 'inconpor', 'inconsisit', 'inconsist', 'incontri', 'inconveni', 'inconvini', 'incopor', 'incorper', 'incorpor', 'incorporatingan', 'incorrect', 'incorrectli', 'increabl', 'incread', 'increas', 'increasili', 'increasingli', 'incred', 'incredebl', 'incredi', 'incredib', 'incredibilli', 'incredilbi', 'increment', 'incress', 'inculd', 'incurag', 'incurs', 'incursio', 'indar', 'indavidu', 'inde', 'indebt', 'indecis', 'indeedif', 'indefi', 'indefin', 'indefinit', 'indent', 'independ', 'independantli', 'independatli', 'independentlydont', 'indepth', 'indestruct', 'indetermin', 'index', 'indi', 'india', 'indian', 'indic', 'indiedb', 'indiehol', 'indiffer', 'indirect', 'indirin', 'indiscrimin', 'indisput', 'individu', 'indivud', 'indonesia', 'indonesiabut', 'indonesian', 'indoor', 'indors', 'indovina', 'induc', 'indulg', 'indur', 'industri', 'indycar', 'ine', 'inebri', 'inedit', 'ineffeci', 'ineffect', 'ineffici', 'inefici', 'ineptitud', 'inert', 'inerti', 'inertia', 'inessenti', 'ineterest', 'inevit', 'inexcus', 'inexhaust', 'inexperi', 'inexperienc', 'inexplic', 'inf', 'infact', 'infactri', 'infam', 'infami', 'infanc', 'infanrti', 'infant', 'infanteri', 'infanti', 'infantri', 'infantryman', 'infantrymen', 'infart', 'infect', 'infelizment', 'inferi', 'inferior', 'infern', 'infernali', 'inferno', 'infest', 'infestationclass', 'infestationnewz', 'infiat', 'infidel', 'infil', 'infilict', 'infilitr', 'infiltr', 'infiltraitor', 'infin', 'infinimin', 'infinit', 'infinitli', 'infintari', 'infintri', 'infirm', 'inflam', 'inflat', 'inflict', 'influenc', 'influenti', 'influnenc', 'influx', 'info', 'infoa', 'infocon', 'infor', 'inform', 'informationtyp', 'infrantri', 'infrastructur', 'infrequ', 'infring', 'infrom', 'infront', 'infultr', 'infuri', 'infurit', 'infus', 'ing', 'ingam', 'ingameshop', 'ingamevoic', 'ingamewährung', 'ingeni', 'ingeniu', 'ingenu', 'ingliizcem', 'inglish', 'ingnormiesreeeeeeeeeeeeeeeeeeeeeeeeeeeeeeeeeeeeeeeeeeeee', 'ingor', 'ingrain', 'ingrav', 'ingredi', 'ingredients1', 'inhabit', 'inhail', 'inhal', 'inher', 'inherantli', 'inherit', 'inherr', 'inhibitor', 'inhuman', 'ini', 'inic', 'iniciantesma', 'iniqu', 'init', 'initi', 'inject', 'injoy', 'injuri', 'injustic', 'ink', 'inkl', 'inland', 'inlin', 'inlov', 'inmat', 'inmediocr', 'inmers', 'inmi', 'inn', 'innaccur', 'innacur', 'innard', 'inncent', 'inncoent', 'innefect', 'inner', 'innner', 'innoc', 'innocu', 'innov', 'innovat', 'innovativecon', 'innuendo', 'innumer', 'inord', 'inordin', 'inot', 'inour', 'inov', 'inpact', 'inpenatr', 'inpenetr', 'inplac', 'inplay', 'inprov', 'input', 'inquest', 'inquiri', 'inreas', 'inrigu', 'inrtoduc', 'insain', 'insainli', 'insan', 'insaneal', 'insanitti', 'insanli', 'insati', 'inscent', 'inscentivis', 'insead', 'insect', 'insecurti', 'insent', 'insert', 'insid', 'insideit', 'insidii', 'insight', 'insighti', 'insignific', 'insist', 'insofar', 'insoma', 'insomnia', 'inspect', 'inspector', 'inspir', 'inspit', 'inst', 'insta', 'instabl', 'instabuy', 'instafun', 'instagib', 'instakil', 'instal', 'installmentalso', 'instalock', 'instanc', 'instanceg', 'instanli', 'instant', 'instantana', 'instantani', 'instantli', 'instantr', 'instead', 'insteadoveral', 'instel', 'instens', 'instestin', 'instil', 'instinct', 'instor', 'instruct', 'instructor', 'instrument', 'insu', 'insuffici', 'insuffur', 'insult', 'insurg', 'insurmount', 'insystem', 'int', 'intact', 'intak', 'intal', 'intantli', 'intead', 'inted', 'integr', 'integrad', 'integur', 'intel', 'intelectu', 'intelhd', 'intelig', 'intellect', 'intellectu', 'intelleg', 'intellig', 'intelligencesecondari', 'intend', 'intenda', 'intens', 'intensifi', 'intensli', 'intent', 'intentionali', 'intenzivní', 'inter', 'interac', 'interact', 'intercept', 'interceptor', 'interchang', 'interconnect', 'intercours', 'intereast', 'interes', 'interess', 'interessingcontra', 'interesst', 'interest', 'interestingcharact', 'interestingcon', 'interestinggraph', 'interestingli', 'interestingpay', 'interestingzon', 'interf', 'interfac', 'interfacebut', 'interfaceeasi', 'interfacei', 'interfaceth', 'interfear', 'interfer', 'intergalact', 'intergr', 'interior', 'intermedi', 'intermin', 'intermiss', 'intermitt', 'intern', 'internet', 'internetgreat', 'internetz', 'interplay', 'interpret', 'interrest', 'interrupt', 'interst', 'interstellar', 'intertain', 'intertia', 'interupt', 'interv', 'interven', 'intervent', 'interweb', 'intesinfi', 'intestin', 'intial', 'intic', 'intil', 'intimid', 'into', 'into7', 'intoduc', 'intoler', 'intox', 'intr', 'intreset', 'intrest', 'intrfac', 'intric', 'intricaci', 'intricici', 'intrig', 'intrigu', 'intrii', 'intrins', 'intro', 'introduc', 'introduct', 'introductionwow', 'introductionyu', 'introductori', 'introthi', 'introudct', 'intructori', 'intrud', 'intrug', 'intruig', 'intrus', 'intu', 'intuit', 'intuitivo', 'inuki', 'inumer', 'inumerevol', 'invad', 'invalid', 'invalu', 'invari', 'invas', 'invenst', 'invent', 'inventor', 'inventori', 'inventrori', 'inventroy', 'inverst', 'invert', 'invest', 'investig', 'investor', 'investst', 'invetori', 'invidu', 'invinc', 'invins', 'invintori', 'invis', 'invisibili', 'invit', 'invocato', 'invok', 'invol', 'involov', 'involv', 'involved7', 'invovlv', 'invulner', 'inz', 'io', 'iof', 'ion', 'ip', 'ipad', 'ipc', 'ipex', 'iphon', 'iplay', 'ipod', 'iq', 'ir', 'ir5', 'irac', 'iran', 'iraq', 'irecomend', 'ireland', 'irgendwelch', 'iri', 'iridar', 'iris', 'irk', 'irl', 'irl10', 'irlkept', 'iron', 'ironi', 'ironign', 'ironman', 'ironpaladin', 'iroquoian', 'irradi', 'irrat', 'irrelev', 'irresist', 'irrespons', 'irrestiti', 'irrevers', 'irrit', 'iru', 'irzcvgt_ewqhttp', 'is', 'is3', 'is4', 'is6', 'isa', 'isaac', 'iseland', 'isen', 'isent', 'ish', 'ishav', 'ishizu', 'ishrip', 'isi', 'isin', 'isint', 'isjust', 'isl', 'islam', 'island', 'ism', 'isn', 'isnev', 'isnot', 'isnt', 'isntal', 'isntead', 'isnâ', 'iso', 'isol', 'isometr', 'isp', 'ispro', 'isra', 'israel', 'israphi', 'iss', 'isso', 'isssssssssssssssssssss', 'isssu', 'issu', 'issueal', 'issuesi', 'issuesin', 'issueslatencyttk', 'ist', 'istal', 'istanli', 'isu', 'isâ', 'it', 'it2nd', 'it3', 'it8', 'ita', 'itaft', 'itali', 'italia', 'italian', 'italiano', 'italien', 'itand', 'itbad', 'itbecaus', 'itbest', 'itbtw', 'itch', 'itconclus', 'itcontain', 'iteam', 'item', 'itemi', 'itemis', 'itemlvl', 'itemsbuy', 'itemscon', 'itemsconspric', 'itemspathfind', 'itemsthat', 'itemstrailrunn', 'itemu', 'itemworld', 'itemů', 'iten', 'iter', 'itergr', 'itget', 'itgot', 'ithink', 'ithout', 'iti', 'itim', 'itit', 'itll', 'itload', 'itlol', 'itlost', 'itm', 'itmi', 'itn', 'itnerest', 'itnic', 'ito', 'iton', 'itoveral', 'itplay', 'itsa', 'itself', 'itselfbut', 'itso', 'itsself', 'itsuggest', 'itth', 'itthan', 'itthey', 'itveri', 'itwhi', 'itwont', 'itx', 'ityou', 'itz', 'itâ', 'iv', 'ivan', 'ive', 'iw', 'iwould', 'ix', 'ixuf9c9m03w', 'iye', 'iyi', 'iz', 'izanami', 'iâ', 'için', 'j6llrjblcuitf2', 'ja', 'jab', 'jacha', 'jack', 'jackass', 'jacket', 'jackhamm', 'jackpot', 'jackshiet', 'jackson', 'jacob', 'jade', 'jaden', 'jagdpanth', 'jagdpanz', 'jaggi', 'jaguar', 'jahr', 'jail', 'jail13', 'jail8', 'jailbreak', 'jailtim', 'jaimz', 'jajajajajaja', 'jak', 'jake', 'jako', 'jakob', 'jakožto', 'jakub', 'jam', 'jamaican', 'jamba', 'jame', 'jammar', 'jamp', 'jan', 'jane', 'janet', 'jank', 'janki', 'janra', 'januari', 'jap', 'japan', 'japanes', 'japenes', 'japens', 'jar', 'jarhead', 'jason', 'java', 'jaw', 'jax', 'jay', 'jayi', 'jazz', 'je', 'jealou', 'jealousi', 'jede', 'jedem', 'jedi', 'jedna', 'jedné', 'jee', 'jeep', 'jeez', 'jeh', 'jekk', 'jelli', 'jellybean', 'jenga', 'jenki', 'jenkin', 'jerk', 'jerkoff', 'jerma', 'jerryrig', 'jess', 'jest', 'jestem', 'jesu', 'jesusagain', 'jeszcz', 'jet', 'jetengin', 'jetpack', 'jets3', 'jetsbritian', 'jeu', 'jeux', 'jew', 'jewel', 'jewish', 'jezu', 'jhalacon', 'jidai', 'jig', 'jiggl', 'jiggli', 'jigsaw', 'jikan', 'jim', 'jimmi', 'jingl', 'jinp', 'jinsamurai', 'jist', 'jit', 'jitter', 'jitteri', 'jive', 'jiànyì', 'jiù', 'jiǎndān', 'jjmerril', 'jjump', 'jk', 'jkfyioqtja0', 'jkjkit', 'jo', 'job', 'jobfor', 'jobso', 'jobswil', 'jobyou', 'joc', 'jock', 'jockin', 'jocul', 'jocurilor', 'jod', 'joder', 'joderia', 'joe', 'joel', 'joethekidr', 'joey', 'joff', 'joffi', 'joga', 'jogado', 'jogando', 'jogar', 'jogo', 'joguei', 'john', 'johnathan', 'johnni', 'join', 'joinoveral', 'joinpleas', 'joint', 'joistck', 'joke', 'jokeoveral', 'joker', 'jokez', 'jokingli', 'joll', 'jolli', 'jone', 'jonesi', 'jordan', 'jose', 'joseph', 'josephin', 'josh', 'jot', 'jouai', 'jouant', 'jouer', 'jounouchi', 'jour', 'jourey', 'journal', 'journey', 'journeyman', 'journi', 'joust', 'jovian1123', 'joy', 'joyabl', 'joyou', 'joyrid', 'joystic', 'joystick', 'joystickal', 'joystickit', 'jp', 'jpeg', 'jpg', 'jpgcheck', 'jpgover', 'jrpg', 'js', 'json', 'jsou', 'jst', 'jsut', 'jt', 'jtac', 'ju', 'juci', 'judd', 'judg', 'judgement', 'judgment', 'juega', 'juego', 'jugado', 'jugar', 'jugd', 'jugg', 'juggeraut', 'juggernaut', 'juggl', 'juic', 'juici', 'juiip', 'juke', 'jul', 'juli', 'julian', 'jumbo', 'jump', 'jumpdriv', 'jumper', 'jumpo', 'jumpoint', 'jumpscar', 'jumpscon', 'jumpshot', 'jumpspyro', 'jumpstart', 'jumscar', 'jun', 'june', 'june1941', 'jungl', 'jungler', 'junior', 'junk', 'junki', 'junkrat', 'junsuid', 'jup', 'jupm', 'juri', 'jusst', 'just', 'justa', 'justic', 'justifi', 'justin', 'justmov', 'justo', 'jut', 'jutter', 'juz', 'jyhad', 'jynx', 'já', 'ją', 'jōki', 'k4', 'k98', 'k_16n3wjua8', 'k_h7zg', 'ka', 'ka50', 'kabaam', 'kabam', 'kabamperson', 'kabia', 'kad', 'kadabooom', 'kadar', 'kaelosthereckon', 'kaernk', 'kahoot', 'kahuna', 'kaiba', 'kailash', 'kaka', 'kakasg', 'kalashnikova', 'kali', 'kalib', 'kall', 'kalmış', 'kamakazi', 'kame', 'kamehameha', 'kamikaz', 'kampf', 'kan', 'kanada', 'kanapowi', 'kangaroo', 'kann', 'kansa', 'kant', 'kantor', 'kanımca', 'kappa', 'kapperino', 'kar98k', 'karamari', 'karaok', 'kardeşiml', 'karen', 'karl', 'karma', 'kart', 'karti', 'kartka', 'karşılaştırmak', 'karşılaştırmaktır', 'kasan', 'kasparov', 'katana', 'kate', 'katkısı', 'katrina', 'kaufen', 'kaum', 'kawaii', 'kawaiilv', 'kay', 'kazaku', 'kazandırdıkları', 'kazotski', 'kałużę', 'każd', 'kc', 'kching', 'kcik', 'kd', 'kda', 'kdr', 'ke', 'kebab', 'kebem', 'ked', 'kee', 'keen', 'keep', 'keepa', 'keeper', 'keepin', 'keg', 'kein', 'keith', 'kek', 'kekreal', 'kektu', 'kelleyman', 'kelvin', 'kenara', 'kennenlernt', 'kentucki', 'kep', 'kepe', 'kephri', 'kepp', 'kept', 'ker', 'kernel', 'kersploood', 'ketchum', 'ketchup', 'kevlar4', 'key', 'keybind', 'keyboard', 'keyboardif', 'keybor', 'keyborad', 'keyifli', 'keymark', 'keypad', 'keys2', 'keysrussia', 'keyth', 'keyword', 'keşfedebilm', 'kg', 'kgfh', 'kguk', 'kh', 'kha', 'khajiit', 'khajit', 'khan', 'kharkov', 'khepri', 'khkhkhk', 'khoroshaya', 'khoroshiy', 'ki', 'ki45', 'kib', 'kibler', 'kick', 'kickass', 'kicker', 'kickin', 'kickstart', 'kickâ', 'kid', 'kiddi', 'kiddin', 'kiddo', 'kidergarden', 'kidna', 'kidnap', 'kidnev', 'kidney', 'kido', 'kids9', 'kidshardcor', 'kidspro', 'kidsx', 'kidz', 'kijken', 'kil', 'kild', 'kile', 'kill', 'kill3r', 'killa', 'killbedürfni', 'killcam', 'killer', 'killfuncon', 'killhous', 'kills4', 'killshot', 'killstreak', 'killstreaksbut', 'killstreaksit', 'killswould', 'killzon', 'kilomet', 'kilometr', 'kin', 'kind', 'kinda', 'kindergarden', 'kindest', 'kindl', 'kindli', 'kindof', 'kinemat', 'king', 'kinganoth', 'kingdom', 'kingdum', 'kingisaaclinksr', 'kingsisl', 'kink', 'kinki', 'kira', 'kirk', 'kiss', 'kit', 'kitchen', 'kite', 'kitten', 'kitti', 'kiwi', 'kiwifruit', 'klass', 'klein', 'klingon', 'klown', 'km', 'kmart', 'kmmorpg', 'kmow', 'knack', 'knallt', 'knaw', 'knda', 'knee', 'kneejerk', 'kneel', 'kneepad', 'knew', 'knickknack', 'knife', 'knight', 'knit', 'knive', 'kno', 'knob', 'knobw', 'knock', 'knockback', 'knockoff', 'knotch', 'know', 'knowher', 'knowingli', 'knowit', 'knowlag', 'knowledg', 'known', 'knowsom', 'knowswher', 'knowthat', 'knowwhat', 'knowyourmem', 'knowâ', 'knuckl', 'knuckledust', 'knwo', 'ko', 'koa4mrgj41m', 'kobe', 'kockdown', 'kodomo', 'koei', 'kof', 'kog', 'kojima', 'kojin', 'kok', 'kolega', 'kolejn', 'kolejnych', 'kombat', 'komen', 'kommen', 'kommt', 'konami', 'koncowa', 'kong', 'kongegr', 'kongreat', 'kongreg', 'kono', 'konta', 'kontolo', 'kontri', 'kor', 'korea', 'korean', 'kori', 'korin', 'korni', 'kosmi', 'kost', 'kostenlo', 'koth', 'kotk', 'kotl', 'kove', 'kow', 'koziar', 'kp', 'kr', 'kraken', 'krasheninnikov', 'krawczynski', 'krayola', 'krelman', 'krew', 'krieg', 'kripparrian', 'krispi', 'kritz', 'kritzkrieg', 'krosmaga', 'kruppstahldeutschequalität', 'ksg', 'ksp', 'kterou', 'kterými', 'które', 'któri', 'którą', 'kua', 'kuang', 'kudo', 'kukri', 'kukulkan', 'kullbit', 'kunark', 'kunnka', 'kunt', 'kur', 'kurama', 'kuriboh', 'kuro', 'kush', 'kuwaiti', 'kuybei', 'kuàilè', 'kv', 'ky', 'kyif', 'kyman11111', 'kyouie', 'kyubey', 'kyujg', 'kyuubey', 'kyōki', 'kz', 'können', 'kōfukudesu', 'l0ser', 'l11', 'l2', 'l337', 'l33t', 'l39', 'l4d2', 'l8', 'la', 'la7', 'laaaaag', 'lab', 'label', 'labl', 'labor', 'labour', 'labyrinth', 'labyrinthin', 'lace', 'lack', 'lackin', 'lacklust', 'lacklustr', 'lacklustrepro', 'lact', 'lactic', 'lactos', 'lacul', 'lad', 'ladder', 'lade', 'ladeedlala', 'laden', 'ladi', 'ladl', 'lado', 'ladyboy', 'laekehttp', 'lag', 'lagforg', 'lagfun', 'lagg', 'lagger', 'lagggg', 'laggi', 'laggier', 'laggycrash', 'laggynot', 'lagh', 'lagi', 'laglag', 'lagspik', 'lagth', 'laid', 'laidback', 'laidout', 'laif', 'lair', 'lakad', 'lake', 'lakeland', 'lakeview', 'lalafel', 'lama', 'lamb', 'lambast', 'lamborghini', 'lame', 'lamecontrol', 'lamp', 'lan', 'lanc', 'lancast', 'lancer', 'lancher', 'land', 'landingsss', 'landingy', 'landmark', 'landmass', 'landscap', 'landscrew', 'lane', 'laner', 'lanes6', 'languag', 'langueg', 'langug', 'langweilig', 'lanox', 'lanquag', 'lantch', 'lantern', 'lap', 'laps', 'laptop', 'larg', 'larger', 'largest', 'largley', 'larn', 'larri', 'larson', 'lasciatemel', 'lascivi', 'laser', 'lasercorm', 'lasergun', 'laserscan', 'lash', 'lasher', 'lasor', 'lassen', 'last', 'lastli', 'lastnot', 'lastst', 'latch', 'late', 'lategam', 'latenc', 'later', 'laterbest', 'laterewww', 'laterholi', 'laterodyssey', 'laterti', 'latest', 'lateth', 'latex', 'lath', 'latin', 'latino', 'latka', 'latli', 'latr', 'latter', 'lattic', 'latvia', 'latvian', 'laudabl', 'laugh', 'laughabl', 'laughibl', 'laughn', 'laughter', 'launcer', 'launch', 'launchawir', 'launcher', 'launchstep', 'launchup', 'lauwncher', 'lava', 'lave', 'lavend', 'law', 'lawman', 'lawn', 'lawsof', 'lawsuit', 'lax', 'lay', 'layer', 'layer69_xxx', 'layman', 'layout', 'laz0r', 'lazaren5632', 'lazer', 'lazi', 'lazier', 'lazor', 'lazorz', 'lazypeon', 'lctrl', 'le', 'lea', 'lead', 'leader', 'leaderboard', 'leaderboardscompetit', 'leaderprimari', 'leadership', 'leaf', 'leafi', 'leag', 'leagau', 'leagu', 'leaguex', 'leak', 'lean', 'leap', 'leaqu', 'lear', 'leari', 'learin', 'learn', 'learnabl', 'learneasi', 'learner', 'learnig', 'learnlot', 'learnt', 'leas', 'least', 'least4', 'leat', 'leather', 'leaug', 'leav', 'leavei', 'leavel', 'leaver', 'leavi', 'lebron', 'lebt', 'lecz', 'led', 'lederboard', 'ledg', 'ledgend', 'lee', 'leech', 'leecher', 'leeresult', 'leeroy', 'leeway', 'left', 'lefto', 'leftov', 'leftth', 'leg', 'legaci', 'legal', 'legandari', 'legednari', 'legend', 'legenda', 'legendari', 'legendario', 'legenday', 'legendbi', 'legendri', 'legendshav', 'legendsi', 'leggendo', 'legio', 'legion', 'legit', 'legitim', 'legitimis', 'legitimit', 'legitmentali', 'legnd', 'legnth', 'lego', 'legscon', 'legshot', 'lel', 'lemm', 'lemon', 'len', 'lend', 'lengendari', 'lenght', 'lenghti', 'length', 'lengthi', 'lengthli', 'lenient', 'lenin', 'leninium', 'lenni', 'lennon', 'lenovo', 'lent', 'lenta', 'lentidão', 'leon', 'leonard', 'leopard', 'ler', 'lerleyen', 'lern', 'lernkurv', 'leroy', 'lesbian', 'lesen', 'less', 'lessen', 'lesser', 'lesson', 'lest', 'let', 'letdown', 'lethal', 'letter', 'letteralment', 'lettersp', 'lettersthi', 'lettuc', 'leucist', 'leut', 'lev', 'levada', 'leve', 'level', 'levelcap', 'levelcon', 'levelingcompetitivecasualsillinesshatsy', 'levelo', 'levels5', 'levelscrambl', 'levelslimit', 'levelsth', 'levelup', 'levem', 'lever', 'leverag', 'leviatan', 'leviathan', 'leviathon', 'levit', 'levl', 'lew', 'lewd', 'lewi', 'lezen', 'leżi', 'lfg', 'lfr', 'lga1151', 'lgextra', 'li', 'liabl', 'liar', 'libari', 'liber', 'libera', 'libert', 'liberti', 'librari', 'libraryuninstal', 'libray', 'libtard', 'licen', 'licenc', 'licens', 'lich', 'lichno', 'lick', 'lidiel', 'lie', 'lieb', 'liegt', 'liek', 'ließt', 'life', 'life10', 'life4', 'lifecycl', 'lifegain', 'lifel', 'lifeless', 'lifelin', 'lifelink', 'lifelong', 'lifepoint', 'lifesav', 'lifespan', 'lifest', 'lifestyl', 'lifetim', 'lifeto', 'lifewhat', 'liff', 'lift', 'light', 'lighten', 'lighter', 'lightheart', 'lighthous', 'lightli', 'lightn', 'lightningbolt', 'lightningfast', 'lightsab', 'lightweight', 'lightyear', 'ligmamani', 'lik', 'likabl', 'like', 'likeabl', 'likecon', 'likeit', 'likelihood', 'likeoutsid', 'liker', 'likesd', 'likewis', 'likley', 'likli', 'lil', 'lill', 'lilsealand', 'lime', 'limeston', 'limi', 'limiat', 'limit', 'limitedr', 'limitit', 'limitless', 'limitsther', 'limmit', 'limp', 'lin', 'lina', 'line', 'lineag', 'lineage2', 'lineanoth', 'linear', 'linearli', 'liner', 'linescaptur', 'lineup', 'ling', 'linger', 'liniar', 'link', 'linkid', 'linkno1', 'linksgameplay', 'lint', 'linux', 'lion', 'lioney', 'liongrafix', 'lip', 'liquid', 'liscenc', 'liscens', 'lisenc', 'lissten', 'list', 'list1', 'listen', 'listion', 'lit', 'lite', 'liter', 'literaci', 'literali', 'literallli', 'literallyn', 'literari', 'literatur', 'literllay', 'lithuania', 'litl', 'litll', 'litral', 'litt', 'littcaul', 'littel', 'litter', 'litterali', 'litterli', 'littl', 'littler', 'littleturd2005', 'littli', 'litttl', 'live', 'livecontinu', 'livelli', 'livello', 'liven', 'liver', 'liveri', 'livestream', 'livid', 'livingâ', 'lizard', 'lizardfolk', 'lke', 'll', 'llc', 'llega', 'llegar', 'llevã³', 'llike', 'llliiiiiiiiiiiiif', 'lloke', 'llove', 'llâ', 'lmao', 'lmaobut', 'lmb', 'lmfao', 'lmg', 'lmnfao', 'lo', 'load', 'loader', 'loadout', 'loadup', 'loan', 'loasd', 'loath', 'lob', 'lobbi', 'lobbygood', 'lobbymi', 'lobg', 'lobster', 'local', 'localappdata', 'localis', 'locat', 'locationlight', 'loch', 'lock', 'lockbox', 'lockboxchest', 'locker', 'lockonfil', 'lockout', 'lockstep', 'lockup', 'locopojo', 'locul', 'locust', 'lod', 'lodg', 'loeb', 'lof', 'loft', 'log', 'loge', 'logger', 'loggin', 'logic', 'logicwot', 'login', 'logist', 'logitec', 'logitech', 'logn', 'logo', 'logout', 'logro', 'lohnt', 'lok', 'loki', 'lol', 'lol2', 'lol5', 'lola', 'lolactu', 'lolaudi', 'lolbutth', 'loleviscer', 'lolgam', 'lolhero', 'loli', 'lolin', 'lolipop', 'lolit', 'loljust', 'lolkillz0rz', 'lollik', 'lollipop', 'lolol', 'lololol', 'lololollol', 'lolpro', 'lolreal', 'lolseri', 'lolso', 'lolth', 'lolupd', 'lolz', 'lolü', 'lomac', 'loml', 'london', 'lone', 'loneli', 'lonewolf', 'long', 'long2', 'long3', 'longbow', 'longer', 'longest', 'longestsound', 'longev', 'longitudin', 'longo', 'longrun', 'longsometim', 'longsur', 'longtim', 'longâ', 'lonley', 'lontano', 'loo', 'look', 'lookalik', 'lookcon', 'lookibg', 'lookin', 'lookm', 'lookng', 'lookout', 'lookup', 'loom', 'loong', 'loongg', 'looong', 'looonnggg', 'loooong', 'loooonnnnggggg', 'looooong', 'loooooong', 'loooooooad', 'loooooooooooooooooov', 'looooooooooooooooovellllllllllllllli', 'looooooooooov', 'loooot', 'looot', 'loop', 'loophol', 'loopi', 'loos', 'loosen', 'loosli', 'loot', 'loot2', 'loot3', 'lootabl', 'lootand', 'lootbag', 'lootbox', 'lootcon', 'lootcrat', 'lootear', 'lootedloot', 'lootfest', 'lootfriendli', 'looti', 'lootlot', 'lootscon', 'lopsid', 'lor', 'lord', 'lord5151', 'lordi', 'lordrin', 'lore', 'loresand', 'lori', 'lorn', 'lose', 'lose10', 'lose100', 'losealt', 'losecon', 'losegam', 'loseif', 'loser', 'losi', 'losow', 'loss', 'losst', 'lost', 'lot', 'loth', 'lotion', 'lotll', 'lotnow', 'lotof', 'lotr', 'lotro', 'lotsa', 'lotta', 'lotteri', 'lotu', 'loturbf', 'lotwould', 'loud', 'louder', 'loudli', 'loudmouth', 'loungeroom', 'lousi', 'lousier', 'lovabl', 'love', 'love_creativers', 'lovechild', 'lovecraftian', 'lover', 'lovin', 'lovingish', 'lovingli', 'lovley', 'lovleyo', 'low', 'lowbi', 'lowend', 'lower', 'lowerd', 'lowest', 'lowish', 'lowkey', 'lowland', 'lowli', 'lowmatchmak', 'lox', 'loyal', 'loyalist', 'loyalti', 'loz', 'lp', 'lp1900', 'lpanimals2', 'lphe', 'lrght', 'lsd', 'lshift', 'lsv', 'lt', 'lttb', 'lu', 'lua', 'luanch', 'lube', 'luc', 'luciel', 'lucien', 'luciou', 'luck', 'lucki', 'luckili', 'luckli', 'lucr', 'ludicr', 'luftwaff', 'lui', 'luk', 'lul', 'lull', 'lullabi', 'lulon', 'lulu', 'lulz', 'lumber', 'lumberjack', 'lumen', 'lumena', 'lumia', 'lumina', 'lumit', 'lump', 'luna', 'lunar', 'lunat', 'lunch', 'lunchbox', 'lung', 'luni', 'lupt', 'lupti', 'luptă', 'lurch', 'lure', 'lurk', 'lurn', 'lush', 'luskan', 'lust', 'luster', 'lusti', 'lute', 'luv', 'luxouri', 'luxuri', 'luându', 'lv', 'lv100', 'lv16', 'lv20', 'lv3', 'lv30', 'lvl', 'lvl1', 'lvl20', 'lvl21', 'lvl45', 'lvl5', 'lvl70', 'lvling', 'lvoa', 'ly', 'lycan', 'lyfe', 'lyin', 'lyke', 'lynch', 'lyric', 'lyulk', 'lz', 'là', 'lèqù', 'lﾉafter', 'm0qaeighttp', 'm1', 'm103', 'm107', 'm16', 'm18', 'm1911', 'm1a1', 'm1トンプソンの火力や連射性能にはどうしても負けてしまいます', 'm2', 'm2000', 'm203', 'm24', 'm240', 'm249', 'm24チャーフィどころか', 'm26', 'm2a2', 'm2a2軽戦車が相手ならまだ勝ち目はありますが', 'm3', 'm4', 'm48', 'm5', 'm530', 'm531', 'm5スチュアート相手にも勝機はほぼありません', 'm60', 'm71', 'm8', 'm80', 'm870', 'm9', 'm9a1', 'ma', 'ma43up8pro', 'maaaaaaaaaaaah', 'maaaan', 'maaayb', 'mabe', 'mabi', 'maby', 'mac', 'macabr', 'macbook', 'mace', 'mach', 'machan', 'machen', 'machet', 'machett', 'machiko', 'machin', 'machinegun', 'machineri', 'macht', 'mackerel', 'macro', 'macro2', 'macrostep', 'mad', 'madam', 'madcatz', 'madd', 'madden', 'maddeningli', 'made', 'madeeven', 'madhous', 'madli', 'madoka', 'madr', 'madrid', 'madrugada', 'maek', 'maelstrom', 'mafia', 'mag', 'magazin', 'magc', 'mage', 'magesop', 'magest', 'maggot', 'magic', 'magica', 'magich', 'magician', 'magicin', 'magicka', 'magika', 'magist', 'magma', 'magnet', 'magnific', 'magnificint', 'magnitud', 'magnum', 'magrid', 'mahcin', 'mahe', 'mahn', 'mai', 'maia', 'mail', 'mailbox', 'mailitari', 'maim', 'main', 'main2', 'main_pag', 'mainli', 'mainstream', 'maintain', 'maintan', 'mainten', 'maintenc', 'maintin', 'maior', 'maiten', 'majest', 'majesti', 'major', 'majora', 'majori', 'majour', 'mak', 'make', 'makeaqwgreatagain', 'makeout', 'maker', 'makeshift', 'makeso', 'makesy', 'makeup', 'makin', 'makinburgersoh', 'makingcon', 'makingth', 'mako', 'makro', 'makto', 'mal', 'malachai', 'malay', 'malaysian', 'male', 'maleabl', 'malewar', 'malfunct', 'malic', 'malici', 'mall', 'mallard', 'mallet', 'malnutrit', 'malo', 'malu', 'malwar', 'malwarebyt', 'malwarebyteswww', 'mama', 'mamma', 'mammoth', 'mamooth', 'mamoth', 'man', 'man4th', 'mana', 'manacard', 'manafactuer', 'manaflood', 'manag', 'managa', 'manageit', 'manaic', 'manascrew', 'manasında', 'manate', 'manchildren', 'mandatori', 'manditori', 'mane', 'maner', 'maneuv', 'maneuver', 'maneuvr', 'mang', 'manga', 'mangement', 'mango', 'manhattan', 'mani', 'maniac', 'manic', 'manifest', 'manipul', 'manli', 'manliest', 'mann', 'mannabl', 'mannag', 'manner', 'manni', 'mannpow', 'mannpowerand', 'manobrabilidad', 'manoeuv', 'manoeuvr', 'manooveruubl', 'manor', 'manouv', 'manouvr', 'manov', 'manpow', 'mansion', 'mantain', 'mantl', 'manu', 'manual', 'manualresult', 'manuev', 'manuever', 'manuevr', 'manufact', 'manufactorur', 'manufactur', 'manur', 'manuv', 'manuver', 'map', 'map2', 'map5', 'mapcarsand', 'mapcon', 'mape', 'mapintern', 'mapl', 'maplestori', 'maplin', 'mapmap', 'maps4', 'mapsgood', 'mapsmapmakersrandom', 'mapsmoar', 'mapsneutr', 'mapsth', 'mapsweapon', 'mapswhat', 'maqu', 'mar', 'marag', 'marathon', 'maraud', 'march', 'mare', 'margin', 'mari', 'mariana', 'marik', 'marin', 'mario', 'marionett', 'marioya', 'mark', 'marker', 'market', 'marketheavili', 'marketplac', 'markipl', 'markipli', 'marksman', 'marksmen', 'marley', 'marri', 'marriag', 'marshmellow', 'mart', 'marta', 'martail', 'marter', 'martian', 'martin', 'marvel', 'marxism', 'mascarpon', 'mascot', 'mascu', 'masculin', 'maseri', 'mash', 'masher', 'mashup', 'mask', 'masker', 'maslow', 'masoch', 'masochist', 'mass', 'massa', 'massacr', 'massag', 'massimo', 'massiv', 'massivley', 'massivli', 'massmurder', 'mast', 'master', 'master10', 'mastercraft', 'masterd', 'mastergam', 'mastergraph', 'masteri', 'mastermind', 'mastero', 'masterpeic', 'masterpeicethi', 'masterpiec', 'masterpiece12', 'masterpiecepric', 'masterrank', 'masterstrategi', 'mastodont', 'masturb', 'mat', 'matar', 'matatag', 'match', 'match2', 'match3', 'matchak', 'matchbuy', 'matchchang', 'matches4', 'matchesanti', 'matchesbut', 'matchesgood', 'matchesno', 'matchesnot', 'matchesyour', 'matchhowev', 'matchmack', 'matchmak', 'matchmakinggreat', 'matchmakingit', 'matchmakingrank', 'matchmakingâ', 'matchmk', 'matchnow', 'matchpro', 'matchse', 'matchup', 'matchyou', 'mate', 'mater', 'materi', 'materia', 'material', 'materialcon', 'materialist', 'mates6', 'matesa', 'math', 'mathblast', 'mathemat', 'matilda', 'matmoth', 'mato', 'matraci', 'matreri', 'matrix', 'matter', 'matteri', 'mattherson', 'matur', 'matureyet', 'mau', 'mauever', 'mauraud', 'mauric', 'maverick', 'max', 'maxi', 'maxim', 'maximillion', 'maximis', 'maximum', 'maxlevel', 'maxth', 'may', 'maya', 'mayan', 'mayann', 'mayb', 'maybeaddict', 'mayflash', 'mayham', 'mayhem', 'mayhm', 'mayonnaz', 'mayor', 'maze', 'mazmorra', 'mało', 'mb', 'mb4', 'mb5', 'mba', 'mbt', 'mc', 'mccarthi', 'mccartney', 'mcchickenbit', 'mcd', 'mcdonald', 'mcflurri', 'mcgee', 'mckay', 'mcnope', 'mctiti', 'mdma', 'mdr', 'mdule', 'me', 'me410', 'mea', 'mead', 'meadow', 'meagainst', 'meal', 'mealsp', 'mean', 'meaning', 'meaningless', 'meaninglessli', 'meansmurf', 'meant', 'meantim', 'meanwhil', 'mear', 'measley', 'measli', 'measur', 'meat', 'meatbal', 'meatgrind', 'meati', 'meatwadsprit', 'mebe', 'mebership', 'mebut', 'mecahn', 'mecan', 'mech', 'mechan', 'mechanic', 'mechanicali', 'mechanics2', 'mechanics3', 'mechanicsa', 'mechanicsif', 'mechanicsincred', 'mechanicsintrest', 'mechanicsmechanicsthi', 'mechanicsmor', 'mechanicsnorm', 'mechanicsnot', 'mechanis', 'mechanisim', 'mechanix', 'mechanizem', 'mechatron', 'mechhan', 'mechic', 'mechin', 'mechina', 'mechnic', 'mechquest', 'mechwarrior', 'mection', 'meczach', 'med', 'medail', 'medal', 'medalion', 'medallion', 'meday', 'medbay', 'meddl', 'mede', 'medi', 'media', 'mediat', 'medic', 'medici', 'medicin', 'medick', 'medicplanet', 'medicsa', 'mediev', 'medigun', 'medikit', 'medimedesoh', 'medio', 'mediocr', 'medion', 'medit', 'mediterranean', 'medium', 'mediumeach', 'medkit', 'medpack', 'medsvehiclesattach', 'medusa', 'mee', 'meeerrriiicccaaa', 'meehh', 'meek', 'meele', 'meepo', 'meerkat', 'meet', 'meetsheet', 'meg', 'mega', 'megabot', 'megabuild', 'megalomaniac', 'megalul', 'megami', 'megaphon', 'megaton', 'megatsunami', 'megot', 'meh', 'mehgam', 'mehh', 'mehho', 'mehr', 'mehwhat', 'mei', 'mein', 'meinermeinung', 'meint', 'meisten', 'meit', 'mejor', 'mejorado', 'meka', 'mekanik', 'melanist', 'meld', 'mele', 'melhor', 'mellow', 'melod', 'melodi', 'melt', 'melted1', 'meltttttiiiinnngggg', 'member', 'memberhip', 'memberhsip', 'membership', 'membership3', 'membership_matrix_', 'membershipsal', 'meme', 'memeb', 'memebal', 'memebership', 'memebrship', 'memein', 'memelord', 'memeshit', 'memi', 'memoir', 'memor', 'memori', 'memoribilia', 'memoris', 'memorizzzz', 'memtion', 'men', 'menac', 'menachem', 'menber', 'mend', 'mendel', 'meng', 'menino', 'meniton', 'meniu', 'mennac', 'meno', 'ment', 'mental', 'mentali', 'mention', 'mentionworthi', 'mentlegentleman', 'mentor', 'menu', 'menu4', 'menumi', 'menusth', 'menzo', 'menzoberranzan', 'meohh', 'meor', 'meow', 'mep', 'meq', 'merc', 'mercandis', 'merced', 'mercenari', 'merch', 'merchandis', 'merchant', 'merci', 'merciless', 'mercilessli', 'mercinari', 'mercsneon', 'mercuri', 'mercy10', 'mere', 'mereason', 'merg', 'merger', 'merhaba', 'merican', 'merit', 'merlinicvideosgraph', 'mermaid', 'merri', 'merrier', 'merveil', 'mesag', 'mesasg', 'mese', 'mesh', 'mesmer', 'mesmiss', 'mesmo', 'mespooki', 'mess', 'messag', 'messeng', 'messg', 'messi', 'messur', 'mestep', 'met', 'meta', 'metacommun', 'metacrit', 'metadeck', 'metagam', 'metaknight', 'metal', 'metalfap', 'metalmayhemmasterhappi', 'metaphor', 'meteor', 'meteorit', 'meter', 'meth', 'method', 'methodolog', 'meticul', 'metion', 'metorit', 'metr', 'metralhadora', 'metric', 'metroid', 'metroidvania', 'metrov', 'mett', 'metta', 'mettani', 'mettatex', 'mettl', 'mew', 'mexican', 'mexico', 'meâ', 'mf', 'mfcd', 'mfd', 'mfg', 'mfrijpu1k3a', 'mfw', 'mg', 'mg34', 'mg34や38t戦車よりも値段が高い', 'mg42', 'mge', 'mgfh', 'mgfhjp', 'mght', 'mhmmhmmhmhmhmmhmhmhhmhm', 'mhz', 'mi', 'mi8', 'mia', 'mic', 'mice', 'mich', 'michael', 'michal', 'michel', 'mico', 'micro', 'microfract', 'micromanag', 'micropay', 'microphon', 'microscop', 'microsecond', 'microsoft', 'microstrasact', 'microtansact', 'microtran', 'microtranact', 'microtrans', 'microtransact', 'microtransactions2', 'microtransactionsbett', 'microtransc', 'microuniversum', 'microwav', 'micrphon', 'micspamm', 'mid', 'midair', 'midbattl', 'middiev', 'middl', 'midel', 'midgam', 'midget', 'midlan', 'midland', 'midnight', 'midrang', 'midst', 'midway', 'mig', 'mig15', 'mig21', 'mig21bi', 'mig29', 'might', 'mighti', 'migit', 'migrat', 'mike', 'mikropłatności', 'miku', 'mil', 'milag', 'milan', 'milateri', 'milattan', 'mild', 'mildew', 'mildi', 'mildli', 'mile', 'mileag', 'mileston', 'milimetr', 'milisecond', 'milit', 'militar', 'militari', 'militärsimul', 'milk', 'milk1', 'milker', 'milkman', 'mill', 'millenia', 'millenium', 'millennium', 'miller', 'milli', 'millimetr', 'million', 'millionair', 'milliseccond', 'millisecond', 'millitari', 'milllion', 'milo', 'milsim', 'mimic', 'mimim', 'min', 'minaj', 'minatur', 'minc', 'mincecraft', 'minced1', 'mincraft', 'mind', 'mind7', 'mindblast', 'mindblow', 'mindcontenti', 'minddownload', 'minded', 'mindedli', 'minder', 'mindgam', 'mindless', 'mindlessli', 'mindnumb', 'mindset', 'mindtrick', 'mindwil', 'mine', 'minecr', 'minecract', 'minecraft', 'minecraft2', 'minecrafti', 'minecraftin', 'minecraftish', 'minecraftlet', 'minecraftth', 'miner', 'mineshaf', 'minetest', 'ming', 'mini', 'miniboss', 'minigam', 'minigun', 'minim', 'minimali', 'minimalist', 'minimap', 'minimart', 'minimis', 'minimum', 'minimumx', 'minion', 'miniscul', 'minisentri', 'minit', 'minitur', 'minium', 'minmax', 'minmum', 'minnimum', 'minnow', 'minon', 'minor', 'minorli', 'minsc', 'minsk', 'mint', 'mintu', 'minu', 'minuet', 'minuit', 'minumum', 'minus', 'minut', 'minutes4', 'minutesclos', 'minutesdi', 'minutesi', 'minutesth', 'minutia', 'minuto', 'minx', 'miraak', 'miracl', 'miraclewel', 'mirag', 'mirana', 'mirco', 'mircotransact', 'mirotransact', 'mirror', 'miru', 'misalign', 'misc', 'miscalcul', 'miscellani', 'miscommun', 'misconcept', 'misdirect', 'mise', 'miself', 'miser', 'miseri', 'misericordia', 'misfir', 'misfit', 'misfortun', 'misgiv', 'mish', 'misil', 'misinform', 'misinterpret', 'mision', 'misison', 'misl', 'mislead', 'mismanag', 'mismatch', 'misogynist', 'mispespel', 'misplay', 'misquot', 'miss', 'missil', 'missingout', 'mission', 'missions4', 'missionscurr', 'missionsessenti', 'missionsfun', 'mississippi', 'missl', 'missli', 'missmanag', 'misson', 'misspel', 'missplac', 'misstep', 'missunderstand', 'mist', 'mistak', 'mistaken', 'mister', 'mistral', 'mistress', 'misunderstand', 'misunderstood', 'misunderstoodturn', 'mit', 'mitchel', 'mitig', 'mitologia', 'mitt', 'mittag', 'miut', 'mix', 'mixsgood', 'mixtur', 'mixup', 'miód', 'mj', 'mjollnir', 'mk', 'mkai', 'mkay', 'mlawar', 'mlg', 'mlilitari', 'mlp', 'mm', 'mm9136', 'mmfp', 'mmm', 'mmmmmmmm', 'mmo', 'mmoba', 'mmoer', 'mmofasthug', 'mmofp', 'mmofpscomplet', 'mmohut', 'mmoit', 'mmomani', 'mmomrp', 'mmorp', 'mmorpg', 'mmosa', 'mmoâ', 'mmr', 'mne', 'mnogo', 'mnoho', 'množství', 'mo', 'moab', 'moan', 'moar', 'mob', 'moba', 'mobaand', 'mobafin', 'mobalik', 'mobas7', 'mobasui', 'mobiel', 'mobil', 'mobile7', 'mobilest', 'mobiu', 'mobl', 'mobli', 'mobui', 'mock', 'mockeri', 'mockup', 'mod', 'mod8', 'modabl', 'moddabl', 'moddel', 'modder', 'moddifi', 'mode', 'mode2014', 'mode3', 'mode5', 'model', 'modelcon', 'modelcontrari', 'modelis', 'modelsact', 'modelsselect', 'modelth', 'moder', 'moderatli', 'modern', 'moderni', 'modes3', 'modes5', 'modesand', 'modesawsom', 'modespeci', 'modest', 'modeswarn', 'modetf2', 'modif', 'modifi', 'modl', 'modo', 'modpack', 'modscon', 'modu', 'modul', 'modular', 'moe', 'moeni', 'moet', 'moeten', 'mofo', 'mogloween', 'moh', 'mohav', 'moich', 'moisten', 'moistur', 'moiv', 'mojang', 'mojav', 'mold', 'moldi', 'mole', 'molerat', 'molest', 'moli', 'molotov', 'molrat', 'molta', 'molto', 'mom', 'moment', 'momentarli', 'momenti', 'momentss', 'momentum', 'momey', 'momi', 'momma', 'momment', 'mommi', 'momo', 'mon', 'monasteri', 'monatari', 'monday', 'monet', 'monetari', 'monetis', 'money', 'money2', 'money9', 'moneyal', 'moneygrab', 'moneygrub', 'moneyi', 'moneyit', 'moneylot', 'moneysoooo', 'moneyston', 'moneywhal', 'moneywis', 'moneyy', 'moneyz', 'monez', 'mongolia', 'mongoloid', 'moni', 'monik', 'monit', 'monitor', 'monitorsens', 'monk', 'monkey', 'monkeyth', 'monli', 'mono', 'monolith', 'monopli', 'monopol', 'monopoli', 'monopoloy', 'monothoni', 'monoton', 'monoxid', 'monster', 'monsterattack', 'monsterscon', 'monstor', 'monstros', 'monstrou', 'monstrous', 'mont', 'montag', 'montana', 'monter', 'month', 'monthit', 'monthli', 'monthsin', 'monti', 'monument', 'monza', 'moo', 'moob', 'mood', 'moon', 'moonlight', 'moonston', 'moor', 'moos', 'moov', 'mop', 'mopogood', 'mor', 'moral', 'moralsoryx', 'morbid', 'morbidli', 'more', 'more3', 'morecon', 'moreonc', 'moreov', 'moreso', 'moreton', 'moreupd', 'moreveri', 'morgan', 'mori', 'morn', 'mornu', 'moron', 'morph', 'morphin', 'morrigan', 'morrowind', 'mortal', 'mortar', 'mortgag', 'morton', 'moscow', 'mose', 'mosey', 'mosh', 'mosin', 'moslti', 'mosquito', 'moss', 'mossi', 'most', 'moster', 'mostli', 'mostyl', 'mot', 'motd', 'motel', 'moth', 'motha', 'mother', 'motherbas', 'motherboard', 'motherf', 'motherfu', 'mothership', 'motion', 'motionless', 'motipl', 'motiv', 'motivo', 'motmg', 'moto', 'motor', 'motorbik', 'motorcycl', 'motorcyl', 'motorsport', 'motto', 'mould', 'mounatain', 'mount', 'mountain', 'mountainr', 'mountainsid', 'mountaintop', 'mountev', 'mounth', 'mountian', 'mountsyou', 'mous', 'mouse1', 'mousepad', 'mousewheel', 'mousi', 'mouth', 'mouthi', 'move', 'moveement', 'movement', 'movementif', 'movementlot', 'movemnt', 'mover', 'moveset', 'moveth', 'movi', 'movierecord', 'moviescen', 'movin', 'movment', 'mow', 'moyem', 'mozesz', 'mozna', 'mozzarella', 'możliwość', 'mp', 'mp3', 'mp310', 'mp34', 'mp40', 'mp45', 'mp5', 'mph', 'mpx', 'mq', 'mr', 'mrantifun', 'mrarwrang', 'mrga', 'mrlethal', 'ms', 'msa', 'msaa', 'msconfig', 'msg', 'msi', 'msot', 'msrb', 'mstli', 'mt', 'mtg', 'mtga', 'mtgdo', 'mtgedit', 'mtgo', 'mthe', 'mtx', 'mu', 'muazzam', 'muc', 'mucbuk', 'much', 'much3', 'mucha', 'muchand', 'muchher', 'mucho', 'muchísima', 'muck', 'mud', 'mudcrab', 'muddi', 'muddili', 'mudra', 'mueran', 'muffl', 'mug', 'mught', 'muhahaha', 'muita', 'muito', 'mulah', 'mule', 'muled', 'mulipl', 'mulipli', 'mulitplay', 'muller', 'mulligan', 'mult', 'multi', 'multibl', 'multibox', 'multiclass', 'multicolor', 'multicolour', 'multifacet', 'multijoueur', 'multimillion', 'multipl', 'multiplatform', 'multiplay', 'multiplayer6', 'multiplayercon', 'multiplayerconstantli', 'multiplayermultiplay', 'multiplayeronlinebattlearena', 'multiplayersair', 'multiplayerth', 'multipli', 'multiply', 'multiplya', 'multiplyercon', 'multipul', 'multitask', 'multitud', 'multpl', 'multplay', 'multyplay', 'mum', 'mumbl', 'mummi', 'munch', 'mundan', 'mundo', 'mundu', 'munit', 'murder', 'murderhobo', 'murica', 'muricacurr', 'murican', 'murikuh', 'murmur', 'murphi', 'murrder', 'murrica', 'muscl', 'muscul', 'muscular', 'museum', 'mush', 'mushblblo', 'mushroom', 'music', 'music4', 'musiccon', 'musician', 'musicth', 'musisz', 'musizz', 'musket', 'muski', 'muslim', 'muss', 'mussl', 'must', 'mustach', 'mustang', 'mustard', 'mustn', 'mutant', 'mutat', 'mutch', 'mute', 'mutha', 'mutipl', 'mutiplay', 'mutlipl', 'mutliplay', 'mutltiplay', 'mutluluk', 'muto', 'mutt', 'mutter', 'mutual', 'muvh', 'muy', 'muzen', 'muzzl', 'muzzleload', 'muñequito', 'mvm', 'mvoe', 'mvp', 'mw', 'mw2', 'mw3', 'mwo', 'my', 'myhtolog', 'mylnkuw1sikit', 'mym', 'myriad', 'myself', 'myselfa', 'myselfalpha', 'myselfbut', 'mysteri', 'mystic', 'myth', 'mythic', 'mytholgi', 'mytholog', 'mythymoo', 'myâ', 'mzudu', 'má', 'mála', 'máte', 'mírně', 'möchte', 'möchtest', 'möglichkeit', 'măscărici', 'măsură', 'můžete', 'n00b', 'n00bi', 'n12apynq6ki', 'n64', 'n6r', 'n_', 'na', 'nab', 'nach', 'nacho', 'nad', 'nada', 'nadder', 'nade', 'nadiren', 'naf', 'nag', 'nagant', 'naggin', 'nagl', 'nah', 'nahhhh', 'nai', 'naic', 'nail', 'naiv', 'nake', 'name', 'nameless', 'names6', 'namesak', 'nametag', 'nameâ', 'nan', 'nanit', 'nanochip', 'nanotech', 'nanoweav', 'nanti', 'nao3spoopy5m', 'napalmratt', 'napisana', 'napominayet', 'napotkasz', 'narat', 'narcissist', 'narcoticum', 'narr', 'narrat', 'narrow', 'naruto', 'nasa', 'nascar', 'nasod', 'nastalgia', 'nasti', 'natal', 'natascha', 'nate', 'nathansbud', 'nathansbudâ', 'nation', 'nationalist', 'nativ', 'natknąłem', 'nato', 'natur', 'natzi', 'naughti', 'nausea', 'nauseatingli', 'nautic', 'navada', 'navag', 'naval', 'navi', 'navidad', 'navig', 'naw', 'nay', 'naysay', 'nazi', 'nazion', 'nazional', 'nb', 'nc', 'nc07ihv0rbg', 'nd', 'ne', 'neagitv', 'neamesbriza', 'near', 'nearbi', 'nearer', 'nearest', 'nearley', 'nearli', 'neat', 'neatit', 'neatli', 'neato', 'nebraska', 'nebul', 'nebula', 'necassari', 'neccasarili', 'neccesari', 'neccesarili', 'neccess', 'neccessari', 'neccessarili', 'neccesseri', 'neccisari', 'necesari', 'necesarili', 'necesarri', 'necesita', 'necesitamo', 'necess', 'necessari', 'necessarili', 'necessitti', 'necessário', 'neck', 'neckbeard', 'neckbeards________________________________put', 'necomm', 'necrom', 'necromanc', 'necromong', 'necrophagist', 'nectar', 'ned', 'neda', 'nede', 'need', 'need0', 'needa', 'neededa', 'needl', 'needless', 'needlessli', 'needn', 'needperform', 'needsabbl', 'needsd', 'neeed', 'neg', 'negat', 'negativ', 'negative4gameplay', 'negative8sp', 'negativeslik', 'negativi', 'negativo', 'negatywni', 'negavt', 'neget', 'negetav', 'negit', 'neglag', 'neglect', 'neglig', 'negro', 'neiborhood', 'neighbor', 'neighborhood', 'neighbour', 'neighbourhood', 'neighhborhood', 'neil', 'neith', 'neither', 'nekid', 'neko', 'nel', 'neler', 'nelli', 'nemp6xe0h28', 'neo', 'neoconglomer', 'neon', 'neowiz', 'nepal', 'nephew', 'nepřeberné', 'nerd', 'nerdgland', 'nerdi', 'nerest', 'nerevarin', 'nerf', 'nerfed4', 'nerfi', 'nerv', 'nervou', 'nervous', 'nescess', 'nescessari', 'ness', 'nessa', 'nessecari', 'nessecarili', 'nessessari', 'nest', 'net', 'netbook', 'netcod', 'netdeck', 'netflix', 'nether', 'netnutr', 'netplay', 'netrunn', 'network', 'neue', 'neuf', 'neugierig', 'neuter', 'neutral', 'nevada', 'never', 'neverend', 'nevermind', 'nevermindit', 'neversink', 'nevertheless', 'neverwint', 'neverwinterpro', 'neverwinterteam', 'nevmindbut', 'nevoi', 'nevr', 'new', 'newb', 'newbei', 'newbi', 'newbiepretti', 'newbro', 'newcharect', 'newcom', 'newel', 'newer', 'newerth', 'newest', 'newground', 'newli', 'newplay', 'news', 'newslett', 'newsolac', 'newspap', 'newt', 'newz', 'newzbefor', 'nex', 'nexon', 'next', 'nexu', 'ney', 'neymar', 'nf', 'nfwd', 'ng', 'ngentot', 'ngfht', 'ngl', 'ni', 'nice', 'nice2', 'nicea', 'nicecon', 'nicedislik', 'niceinventori', 'nicer', 'nicesound', 'nicest', 'niceth', 'nich', 'nicht', 'nickel', 'nicki', 'nickl', 'nicknam', 'nicley', 'nie', 'niec', 'niego', 'niemal', 'niespodzianki', 'niet', 'niewst', 'nifti', 'nigdzi', 'niggl', 'nigguh', 'nigh', 'night', 'nightfal', 'nightim', 'nightmar', 'nighttim', 'niguh', 'nika', 'niko', 'nim', 'nimbl', 'nine', 'nineteen', 'nineti', 'ninguna', 'ninja', 'ninjakiwi', 'ninjapervert', 'nintendo', 'nip', 'nipp', 'nippl', 'nirn', 'nist', 'nistlepod', 'nit', 'nitpick', 'nitpicksvault', 'nitrospickkk', 'nitti', 'nivel', 'niven', 'nią', 'njeqqpi', 'njoy', 'nk', 'nme', 'nmobil', 'nn', 'nn2', 'nnew', 'nnnggh', 'nnnope', 'no', 'no1', 'no17', 'no_safeti', 'noa', 'noah33noah', 'nobel', 'nobi', 'nobl', 'nobodi', 'noch', 'noclip', 'nocloud', 'nod', 'node', 'noe', 'noescop', 'nofacetrackir', 'nog', 'noi', 'noic', 'noir', 'nois', 'noisepul', 'noisi', 'noit', 'nolif', 'nombr', 'nomin', 'nommomnom', 'nomor', 'non', 'nonbot', 'nonconstruct', 'none', 'noner', 'nonetheless', 'nonexist', 'nonlinear', 'nonpow', 'nonsens', 'nonsteam', 'nonstop', 'nontheless', 'noob', 'noober', 'noobfacestab', 'noobgunsling', 'noobiest', 'noobish', 'noobnasti', 'noobw', 'noodl', 'nook', 'noon', 'nooo', 'nooob', 'noooooooooooo', 'noop', 'noosebut', 'nope', 'nopenopenop', 'nor', 'norath', 'nord', 'nordic', 'nordschleif', 'nordsclief', 'nordsheilf', 'noris', 'norisr', 'norm', 'normal', 'normali', 'normandi', 'normi', 'norrath', 'norri', 'norrrrrrrmiieeeeeeeeeeeesssssssssss', 'nors', 'north', 'northen', 'northern', 'norway', 'nosafetyb', 'noscop', 'nose', 'noseble', 'nosed', 'nosey', 'nosingleplay', 'nosrslyclickitagain2fap', 'nostalg', 'nostalgia', 'nostalj', 'nostalji', 'nostlagia', 'nostolgia', 'nostril', 'nostromo', 'not', 'not800hour', 'notabl', 'notasupport', 'notbefor', 'notch', 'note', 'noteabl', 'notebook', 'notepad', 'noteprevi', 'noteworthi', 'noth', 'nother', 'nothin', 'nothing', 'nothingif', 'nothingin', 'nothingne', 'nothingr', 'nothng', 'noti', 'notic', 'noticeabley', 'noticemesenpai', 'notif', 'notifi', 'notion', 'notori', 'notorieti', 'notwithstand', 'nou', 'nought', 'noughti', 'nourish', 'nouveaux', 'nov', 'nova', 'novalog', 'novel', 'novelti', 'novemb', 'novic', 'novu', 'now', 'now3rd', 'nowaday', 'nowand', 'nowday', 'nowedit', 'nowgood', 'nowher', 'nowlagginessship', 'nowonto', 'nowscout', 'nowsieg', 'nowwher', 'nowwww', 'nox', 'noy', 'noâ', 'np', 'npc', 'npe', 'nra', 'ns', 'nsfw', 'nt', 'ntfsuser', 'nto', 'nttr', 'nu', 'nuac', 'nuanc', 'nubg', 'nubish', 'nubtard', 'nucker', 'nuclar', 'nuclear', 'nude', 'nuditi', 'nuerburgr', 'nuetral', 'nuevo', 'nuff', 'nugget', 'nuika', 'nuisanc', 'nuka', 'nuke', 'nukei', 'nuker', 'nukesblow', 'nulgath', 'nullifi', 'num', 'numb', 'numba', 'number', 'numbetr', 'numbingli', 'numbr', 'numer', 'numpad', 'nun', 'nunca', 'nunu', 'nuovi', 'nur', 'nurburg', 'nurburgr', 'nurf', 'nurs', 'nurseri', 'nusianc', 'nut', 'nutella', 'nuth', 'nutrient', 'nutshel', 'nutshelly', 'nutí', 'nv', 'nvida', 'nvidia', 'nvm', 'nw', 'nw_legit_commun', 'nwn', 'nwnafpnsirmhop', 'ny', 'nya', 'nyaa', 'nye', 'nyeh', 'nyeheheh', 'nyne', 'nyth', 'nz', 'não', 'nämlich', 'níž', 'nø', 'několik', 'nǐ', 'o7', 'o_o', 'oan', 'oatch', 'oath', 'oatmeal', 'obama', 'obbscess', 'obergin', 'oberon', 'obes', 'obisnuiesti', 'obivi', 'object', 'objectth', 'objet', 'oblig', 'obliter', 'oblivi', 'oblivion', 'obnixi', 'obnoxi', 'obscen', 'obscur', 'observ', 'obsess', 'obsidian', 'obsolet', 'obsolit', 'obssession2', 'obstacl', 'obstant', 'obstic', 'obsticals', 'obsticl', 'obstruct', 'obt', 'obtain', 'obtrus', 'obv', 'obviosli', 'obviou', 'obvious', 'obvioussli', 'obvous', 'obvsli', 'oc', 'ocarina', 'ocasion', 'ocasionalment', 'ocassion', 'occaision', 'occaisonali', 'occas', 'occasas', 'occasion', 'occasionali', 'occass', 'occassion', 'occat', 'occcasionali', 'occg', 'occulu', 'occup', 'occupi', 'occur', 'occurr', 'occurtak', 'ocd', 'oce', 'ocean', 'oceania', 'ocena', 'ocg', 'ocon', 'oct', 'octan', 'octob', 'october2018', 'octopi', 'oculu', 'ocupado', 'ocuppi', 'od', 'odanata', 'odd', 'oddesi', 'odditi', 'oddli', 'oddsi', 'oddworld', 'oddyse', 'odecid', 'oder', 'odhavi', 'odin', 'odor', 'oer', 'of', 'ofabl', 'ofc', 'ofcours', 'ofens', 'off', 'off10', 'offa', 'offal', 'offand', 'offbeat', 'offcial', 'offcours', 'offen', 'offenc', 'offend', 'offens', 'offer', 'offf', 'offfer', 'offi', 'offic', 'officel', 'offici', 'offin', 'offish', 'offlan', 'offlin', 'offor', 'offpeak', 'offput', 'offscreen', 'offset', 'offspr', 'offstep', 'offten', 'offtrack', 'offtri', 'ofi', 'oflin', 'ofmemori', 'ofo', 'ofr', 'oft', 'oftem', 'often', 'oftenlegendari', 'oftenpretti', 'oftentim', 'ofâ', 'og', 'ogam', 'ogf', 'ogl', 'ogni', 'ogolni', 'ogr', 'oh', 'oh_aui_detailpage_o07_s00b', 'oheck', 'oher', 'ohey', 'ohgodohgodohgodohgodohgodohgodohgodohgodohgodohgodohgodohgodohgodohgodohgodday', 'ohh', 'ohhh', 'ohhhhh', 'ohn', 'oho', 'oi', 'oiecf1', 'oil', 'oil1', 'oin', 'oinker', 'oitygradu', 'ojala', 'ojama', 'ojshvcs4zukhttp', 'ok', 'okay', 'okayest', 'okayi', 'okayish', 'oke', 'okey', 'okmechan', 'okula', 'okuyorsanız', 'okynpoopi', 'ol', 'olabilecek', 'olan', 'olay', 'old', 'old10', 'older', 'oldest', 'oldlearn', 'oldschool', 'oldscon', 'oldtim', 'oldum', 'olduğunu', 'ole', 'oliv', 'olni', 'oltr', 'olymp', 'olympu', 'olz', 'om', 'omegalolman', 'omeon', 'omfg', 'omg', 'omgbestgamev', 'omgfh', 'omgggg', 'omggggthey', 'omiss', 'omitt', 'omni', 'omnipres', 'omoidasa', 'ompetit', 'on', 'on2', 'onaggggggh', 'onand', 'onboard', 'onc', 'oncom', 'oncon', 'onconvi', 'ond', 'one', 'oneb', 'onehard', 'onei', 'oneshot', 'onespeci', 'onestament', 'oney', 'ongo', 'onhovac', 'oni', 'onil', 'onion', 'onleh', 'onli', 'onlin', 'onlinebut', 'onlineplay', 'onlineseem', 'onlinethin', 'onlineyu', 'onlyappar', 'onna', 'onotesit', 'onplenti', 'onrank', 'onset', 'onslaught', 'ont', 'onth', 'onther', 'onthread', 'onto', 'ontop', 'onv', 'onward', 'onyl', 'onyx', 'oo', 'ooc', 'oodl', 'oof', 'oogl', 'ooh', 'ook', 'oom', 'oomph', 'oongratul', 'ooo', 'oooh', 'oooo', 'oooof', 'ooooh', 'ooooooh', 'oooooooooh', 'oooooooooooon', 'ooooor', 'ooouuuhh', 'oop', 'ooupl', 'oover', 'ooz', 'op', 'op3', 'opaqu', 'ope', 'open', 'openbeta', 'opengl', 'openli', 'openworld', 'openworldmor', 'oper', 'opera', 'opertun', 'opfrom', 'opierdalac', 'opinion', 'opinionatedli', 'opiniondiffeculti', 'opinioni', 'opinionoveral', 'opinionsometh', 'opinnion', 'opinon', 'opionion', 'opit', 'opk', 'opn', 'opnbacktruck', 'opnion', 'opon', 'oportun', 'oportunidad', 'opos', 'oposit', 'opotherther', 'opoveral', 'opp', 'oppai', 'oppen', 'opper', 'oppertun', 'oppinion', 'oppisit', 'oppon', 'opponentd', 'opponet', 'opportun', 'opportunit', 'oppos', 'opposit', 'opposs', 'oppotun', 'oppposit', 'oppres', 'oppress', 'opprotun', 'oppurtun', 'oprah', 'oprawa', 'opress', 'opsion', 'opt', 'optic', 'optifin', 'optiion', 'optim', 'optimaz', 'optimis', 'optimisd', 'optimisedcon', 'optimisi', 'optimist', 'optimix', 'optimization2', 'optimizi', 'optims', 'optimu', 'optimz', 'optin', 'option', 'optional3', 'optionalneg', 'optionaly', 'optioni', 'optionsbad', 'optionsno', 'optionssom', 'optium', 'optmiz', 'optom', 'optometrist', 'or', 'ora', 'oraith', 'oral', 'orang', 'orangebox', 'oraz', 'orb', 'orbit', 'orc', 'orchestr', 'orchestra', 'orchestraシリーズの対戦車手榴弾とは違い', 'ordeal', 'ordentlich', 'order', 'orderli', 'ordin', 'ordinari', 'ordraft', 'ore', 'oreo', 'orethes', 'oretti', 'org', 'organ', 'organis', 'orget', 'orgi', 'orgin', 'orginaz', 'orgini', 'ori', 'oriath', 'orient', 'orific', 'origan', 'origin', 'originali', 'origion', 'orign', 'orion', 'orionthank', 'ornella', 'oroom', 'orribili', 'orrient', 'ors', 'orteza', 'ortherwis', 'orthodox', 'orthodoxi', 'orton', 'oryginału', 'oryour', 'oryx', 'os', 'osama', 'oscil', 'osiri', 'osobisci', 'ost', 'ostens', 'osxfreindli', 'ot', 'otaku', 'other', 'othergam', 'otheris', 'otherplantey', 'othersth', 'othersw', 'othersâ', 'otherthan', 'otherwis', 'otherword', 'otherâ', 'othi', 'otk', 'otra', 'otsu', 'otter', 'ou', 'ouch', 'ought', 'ounc', 'ouotpost', 'our', 'ourchas', 'ourjob', 'ourselv', 'ousid', 'out', 'out2spooki', 'outa', 'outag', 'outback', 'outburst', 'outclass', 'outcom', 'outcommun', 'outcri', 'outdamag', 'outdat', 'outdi', 'outdo', 'outdon', 'outdoor', 'outdraw', 'outer', 'outfit', 'outfitssound', 'outflank', 'outgam', 'outgo', 'outgun', 'outi', 'outif', 'outjetpack', 'outlandish', 'outlast', 'outlay', 'outlet', 'outlin', 'outliv', 'outlockepropos', 'outlook', 'outluck', 'outmaneuv', 'outmatch', 'outnumb', 'outpac', 'outperform', 'outplay', 'outpost', 'outpowerd', 'output', 'outr', 'outra', 'outrag', 'outright', 'outro', 'outrun', 'outset', 'outshin', 'outshon', 'outsid', 'outskirt', 'outsmart', 'outsourc', 'outsseri', 'outstaaaaaaaaaaaaaaaaaaaaaaaaaaaaand', 'outstand', 'outstandig', 'outstandingeffect', 'outstrip', 'outta', 'outtact', 'outweigh', 'outweight', 'oval', 'ove', 'oven', 'over', 'over10', 'overal', 'overal7', 'overall8', 'overallexpens', 'overallgameplay', 'overallrating8', 'overallth', 'overarch', 'overbear', 'overblown', 'overboard', 'overbrand', 'overbuf', 'overburden', 'overcharg', 'overclock', 'overcom', 'overcompl', 'overcomplex', 'overcrowd', 'overdid', 'overdo', 'overdos', 'overdu', 'overelev', 'overexagger', 'overexpens', 'overflow', 'overgrown', 'overh', 'overhaul', 'overhead', 'overhear', 'overheat', 'overhwhelm', 'overhyp', 'overhypedgun', 'overindulg', 'overjoy', 'overkil', 'overlal', 'overlap', 'overlay', 'overli', 'overlli', 'overload', 'overloadcon', 'overlook', 'overnight', 'overpass', 'overplay', 'overpopul', 'overpow', 'overpowerd', 'overpowered', 'overpr', 'overpric', 'overpricedthat', 'overr', 'overral', 'overreli', 'overrid', 'overrun', 'overs', 'oversatur', 'overse', 'oversea', 'overseercon', 'overserv', 'oversexu', 'overshadow', 'overshield', 'overshoot', 'overspeci', 'overst', 'overstat', 'overtak', 'overthink', 'overtim', 'overtir', 'overtli', 'overtun', 'overun', 'overus', 'overview', 'overviewthi', 'overwatch', 'overwatchbusi', 'overweight', 'overwelm', 'overwhel', 'overwhelim', 'overwhelm', 'overwhelmingli', 'overwolf', 'overworld', 'overwotch', 'overwrit', 'overzeal', 'ow', 'owe', 'owel', 'oweral', 'owhh', 'owl', 'own', 'own6', 'ownag', 'owner', 'ownership', 'ownli', 'owo', 'oww', 'ox', 'oxi', 'oxygen', 'oynadığım', 'oynarken', 'oynayabilmek', 'oynayın', 'oynuyordum', 'oyster', 'oyun', 'oyunda', 'oyundan', 'oyunlar', 'oyunları', 'oyunu', 'oyunun', 'oz', 'ozfortress', 'ozfortressjoin', 'ozza', 'ozzaworld', 'p1', 'p10', 'p2', 'p20', 'p21', 'p2p', 'p2w', 'p2w3', 'p2wcon', 'p2win', 'p2wit', 'p2wwait', 'p4', 'p51', 'p51d', 'p63', 'p90', 'pa', 'paaladin', 'paar', 'pace', 'pacedcon', 'pacedfre', 'pacedso', 'pach', 'pacif', 'pack', 'packag', 'packet', 'packj', 'packsnow', 'pacman', 'pact', 'pad', 'padder', 'paetron', 'pag', 'paga', 'pagar', 'page', 'pagen', 'pager', 'pageseri', 'paghi', 'paheal', 'paid', 'pain', 'paini', 'painless', 'painlessli', 'painstak', 'painstakingli', 'paint', 'paintbal', 'paintjob', 'painto', 'pair', 'paisaj', 'paitent', 'pakistan', 'pal', 'palabra', 'palac', 'paladeu', 'paladin', 'paladindefend', 'palc', 'pale', 'palett', 'pali', 'palin', 'palladin', 'pallet', 'palletswap', 'palli', 'palm', 'palming6', 'palpabl', 'palso', 'palyabl', 'pamatovali', 'pan', 'pana', 'panach', 'panaoa', 'pancak', 'pand', 'panda', 'pandora', 'pane', 'panel', 'panic', 'panick', 'panjang', 'panorama', 'pant', 'pantheon', 'panther', 'panti', 'pantient', 'pants10', 'pants12', 'pantsand', 'panywhoa', 'panzer', 'panzeraust', 'panzerfaust', 'panzerschreck', 'paper', 'paperclip', 'par', 'para', 'parachut', 'parad', 'paradis', 'paradisefaloout', 'paraglid', 'paragon', 'paragraph', 'parallel', 'paralyz', 'paramount', 'paranoia', 'paranoid', 'paranorm', 'paraphras', 'parashoot', 'parathrop', 'paratroop', 'parc', 'parchment', 'parcial', 'pardner', 'pardon', 'pare', 'parent', 'parentsoryx', 'parentz', 'parfait', 'pari', 'pariah', 'paris', 'park', 'parki', 'parkour', 'parlophon', 'parodi', 'parrallel', 'parri', 'parrot', 'parrthunax', 'part', 'partak', 'partcip', 'parthunaxx', 'parti', 'partial', 'particaular', 'particip', 'particl', 'particuarli', 'particular', 'particulari', 'particularili', 'particularli', 'partiesmasteri', 'partisip', 'partli', 'partner', 'partnership', 'partnert', 'partron', 'partsd', 'partway', 'partygam', 'parádu', 'pasana', 'pase', 'pasibl', 'pass', 'passabl', 'passag', 'passang', 'passar', 'passcon', 'passeng', 'passer', 'passi', 'passiamo', 'passion', 'passionneg', 'passioné', 'passiv', 'passtim', 'password', 'passé', 'past', 'pasta', 'pastafarian', 'pasti', 'pastim', 'pastor', 'pastri', 'pasttim', 'pat', 'patch', 'patches0', 'patchescon', 'patchesi', 'patchsix', 'pateinc', 'patent', 'path', 'pathet', 'pathfind', 'pathofexil', 'pathway', 'patianc', 'patienc', 'patiencea', 'patiencecon', 'patient', 'patientc', 'patientem', 'patreon', 'patriarch', 'patrick', 'patriot', 'patrol', 'patron', 'patter', 'patteren', 'pattern', 'patton', 'paul', 'pauldron', 'paus', 'pave', 'paw', 'pawn', 'pax', 'pay', 'pay2avoidgrind', 'pay2everythingth', 'pay2get', 'pay2notwait', 'pay2play', 'pay2skip', 'pay2w', 'pay2win', 'pay2wincon', 'payabl', 'payback', 'paycheck', 'payday', 'payer', 'payign', 'payingoveral', 'payload', 'paymeni', 'payment', 'paymenti', 'paymentwal', 'payoff', 'payout', 'paypal', 'payperwin', 'paytowin', 'paywal', 'paywallth', 'pazza', 'pazzi', 'pazzia', 'paí', 'pc', 'pc2', 'pcar', 'pcg', 'pcgamer', 'pcgamergirl', 'pcgamingwiki', 'pchave', 'pcmasterrac', 'pcould', 'pcpro', 'pcyou', 'pczvkr9zyg', 'pcâ', 'pd', 'pda', 'pe', 'pea', 'peac', 'peaceful', 'peacekeap', 'peacemak', 'peachi', 'peak', 'peanut', 'peapl', 'peapol', 'peasant', 'peasent', 'pebbl', 'pecca', 'pece', 'pecepl', 'pecorino', 'pecuiliar', 'peculiar', 'ped', 'pedal', 'pedast', 'peddl', 'pedel', 'pedest', 'pedestrian', 'pee', 'peek', 'peel', 'peen', 'peendo', 'peep', 'peer', 'peev', 'pefect', 'pegasu', 'peic', 'pek', 'pelageya', 'pelt', 'pen', 'penal', 'penalizeda', 'penalti', 'penc', 'penchant', 'pendulm', 'pendulum', 'penelis', 'penetr', 'peng', 'penguin', 'pennant', 'penni', 'pennyworth', 'pensi', 'penta', 'penthous', 'pentium', 'peol', 'peon', 'peop', 'peopel', 'peopl', 'peopleal', 'peopleif', 'peopleperma', 'peoplw', 'peoppl', 'pepe', 'pephol', 'pepl', 'pepol', 'pepopl', 'pepper', 'pepper2', 'per', 'perceiv', 'percent', 'percentag', 'percept', 'perciev', 'percis', 'perciver', 'perday', 'perder', 'perditionì', 'pereft', 'perfct', 'perfect', 'perfecthigh', 'perfectionist', 'perfections7', 'perfectli', 'perfectlyfunct', 'perfecto', 'perfeita', 'perfer', 'perfetto', 'perfict', 'perfom', 'perform', 'performac', 'performancedc', 'performancetextur', 'performanceth', 'perfrom', 'perfrormand', 'perhap', 'peril', 'perili', 'period', 'periodicali', 'peripher', 'periscop', 'perish', 'perk', 'perki', 'perkia', 'perksia', 'perma', 'permaban', 'permadeath', 'permafrost', 'perman', 'permanantli', 'permanent', 'permant', 'permenantli', 'permin', 'permiss', 'permit', 'permut', 'pernament', 'pero', 'perpetu', 'pers', 'persecond', 'persecutor', 'persepect', 'persephon', 'perserver', 'persev', 'persever', 'persian', 'persion', 'persist', 'person', 'personaggio', 'personaj', 'personali', 'personalis', 'personalit', 'personalityfre', 'personalti', 'personel', 'personli', 'personn', 'personnali', 'personnalis', 'personnalité', 'personnel', 'perspect', 'persönlich', 'pert', 'pertensi', 'pertin', 'perus', 'peruvian', 'pervad', 'pervers', 'pervert', 'però', 'peski', 'peso', 'peson', 'pesron', 'pessimist', 'pessoa', 'pest', 'pester', 'pesti', 'pet', 'peta', 'pete', 'peter', 'petio', 'petit', 'petri', 'pett', 'petti', 'pew', 'pewdiebait', 'pewdiepi', 'pewpmast', 'pf', 'pffft', 'pfor', 'pfun', 'pg', 'pgameplay', 'ph', 'phallu', 'phantom', 'pharah', 'pharma', 'phase', 'phaser', 'pheasant', 'pheasent', 'pheeeeeeeeeeeeeeeew', 'phemon', 'phenom', 'phenomen', 'phenomena', 'phenomenon', 'phenomin', 'phenomon', 'pheonix', 'phesant', 'phew', 'phhhh', 'phi', 'philippin', 'philippineplay', 'phillipin', 'philosiphi', 'philosoph', 'philosophi', 'phish', 'phisher', 'phisic', 'phisx', 'phli', 'phlog', 'phlogistin', 'phlydaili', 'phobic', 'phoenix', 'phone', 'phonehowev', 'phonet', 'photo', 'photogen', 'photograph', 'photorealist', 'photoshop', 'phrase', 'phsyical', 'phyisic', 'physic', 'physichsth', 'physics5', 'physicscon', 'physicsgood', 'physicsstori', 'physix', 'physx', 'pi', 'piac', 'piano', 'piazza', 'pic', 'pice', 'pick', 'pickax', 'picker', 'picki', 'pickingreward', 'pickink', 'pickl', 'pickup', 'pickupoptim', 'picnic', 'pictur', 'pie', 'piebald', 'piec', 'piecescon', 'pierc', 'pif', 'pig', 'pigeon', 'piggyback', 'piglet', 'pigsi', 'pikachu', 'pike', 'pile', 'pilfer', 'pill', 'pillag', 'pillar', 'pillow', 'pilot', 'pilothavn', 'pimp', 'pin', 'pinacl', 'pinapl', 'pinata', 'pinch', 'pincher', 'pincushion', 'pine', 'pineappl', 'ping', 'pinger', 'pink', 'pinki', 'pinnacl', 'pinoy', 'pinpoint', 'pint', 'pioneer', 'piont', 'pip', 'pipe', 'pipelin', 'pipol', 'pipper', 'piqu', 'piraci', 'pirat', 'pirc', 'pird', 'piso', 'piss', 'pissi', 'pistol', 'pit', 'pitch', 'pitfal', 'piti', 'pition', 'pitlord', 'pitti', 'piu', 'piuttosto', 'pix', 'pixal', 'pixar', 'pixark', 'pixel', 'pixelli', 'pixi', 'pizdec', 'pizza', 'più', 'pj', 'pkp', 'pl', 'pl0e56219ee956754epath', 'pl0ibuu4awbpp2tcr', 'pl1pukgvzqju56uxgeau', 'pl_bananabay', 'pla', 'plaay', 'place', 'place5', 'place7', 'placeabl', 'placehold', 'placement', 'placer', 'placé', 'plagu', 'plai', 'plain', 'plainli', 'plaisir', 'plan', 'plane', 'planer', 'planescon', 'planet', 'planetari', 'planetisd', 'planetsid', 'planetside2', 'planez', 'plank', 'planner', 'planningconclusionit', 'plant', 'plantlif', 'plasa', 'plasma', 'plastic', 'plat', 'plate', 'plateu', 'platform', 'platforma', 'platformpvp', 'platformsdiffer', 'platfrom', 'platinum', 'platnum', 'platoon', 'platoonlead', 'platoonsoutfit', 'platter', 'platton', 'platyna', 'plau', 'plausibl', 'play', 'play1', 'play2', 'play2win', 'play4', 'play4fre', 'playa', 'playab', 'playabilityand', 'playabilitymeet', 'playabilityperform', 'playabl', 'playaddict', 'playbal', 'playbas', 'playbl', 'playcon', 'playconsonli', 'playconsther', 'playd', 'playeabl', 'playeasi', 'playedand', 'playedcon', 'playedi', 'playedso', 'player', 'player2', 'player9', 'player_detailpag', 'playeralso', 'playerbas', 'playerbaseannoyingli', 'playerchart', 'playercon', 'playergameplay', 'playermad', 'playermodel', 'playernumb', 'playerokay', 'playeron', 'playerpricei', 'playerregular', 'playerrestart', 'players2', 'players4', 'playersbeauti', 'playerscomplet', 'playerscon', 'playershardcor', 'playersher', 'playershttp', 'playersif', 'playerslot', 'playersnam', 'playersoveral', 'playerspeopl', 'playersposit', 'playersposs', 'playerspro', 'playersscreamingfast', 'playersth', 'playersunknown', 'playersyu', 'playerth', 'playertrigg', 'playerunknown', 'playerunkown', 'playerwis', 'playfast', 'playfield', 'playfix', 'playform', 'playgood', 'playground', 'playi', 'playin', 'playing2', 'playingchoos', 'playingfun', 'playingit', 'playingpro', 'playit', 'playjust', 'playlarg', 'playlist', 'playlot', 'playmod', 'playmotd', 'playneg', 'playng', 'playnot', 'playout', 'playov', 'playsess', 'playset', 'playstat', 'playstep', 'playstil', 'playstl', 'playstyl', 'playstylecon', 'playstyleit', 'playstylelevel', 'playt', 'playth', 'playthen', 'playthi', 'playthough', 'playthrough', 'playthrough9', 'playthroughscom', 'playtim', 'playtimethi', 'playtroght', 'playtyp', 'playup', 'playyer', 'playyou', 'plbpjxhhxofs0mzbyexahsgqdjkdsruixu', 'ple', 'pleae', 'pleanti', 'pleas', 'pleasant', 'pleasantli', 'pleaseant', 'pleasedontspend', 'pleasee', 'pleasent', 'pleasentcon', 'pleasur', 'pleb', 'plece', 'pledg', 'plenti', 'plentili', 'plentli', 'plesar', 'plethora', 'plewyur6qbd2kiiytyzyvx', 'pley', 'pli', 'pliabl', 'pliqouxizs7gxyk8grvbr3ozn55og26uq2', 'plkmxtuqznypmuq', 'plod', 'plode', 'ploesti', 'ploimnu5jyfzrg0t6eyg0v5afksaovarcz', 'plonk', 'plop', 'plot', 'plotthi', 'plow', 'ploy', 'plr', 'plrxlhotez', 'plse', 'plu', 'plua', 'plublic', 'plug', 'plugchannel', 'plugin', 'plumb', 'plumber', 'plummet', 'plung', 'plunger', 'plunk', 'plural', 'plus2', 'pluse', 'plush', 'pluss', 'plya', 'plyer', 'plywood', 'plz', 'plătesti', 'pm', 'pmayb', 'pmlog', 'png', 'pngnow', 'pngthi', 'pno', 'pnp', 'po', 'poblem', 'poch', 'pocket', 'pocketcon', 'poco', 'pod', 'podcast', 'pode', 'poder', 'podszedłem', 'poe', 'poebuild', 'poelab', 'poem', 'poepl', 'poex', 'pofd', 'poind', 'point', 'pointag', 'pointdont', 'pointend', 'pointer', 'pointhold', 'pointi', 'pointless', 'pointlessli', 'points2', 'pointsmi', 'pointsy', 'pointwis', 'pois', 'poison', 'poisonousguard', 'pojawi', 'pojawiał', 'pojectil', 'pok', 'poke', 'pokemon', 'poker', 'pokojem', 'pokoju', 'pokok', 'pokémon', 'polar', 'pole', 'polecam', 'poli', 'polic', 'polici', 'polish', 'polishi', 'polit', 'politician', 'poll', 'pollen', 'pollenjock', 'pollenthan', 'pollish', 'pollut', 'pologon', 'polygon', 'polymer', 'polymeris', 'polymorph', 'polynesian', 'pomimo', 'pomp', 'pompou', 'pon', 'ponder', 'pong', 'pongan', 'poni', 'pontimao', 'ponto', 'ponyflame456xx', 'poo', 'pooch', 'poodl', 'poof', 'pool', 'poop', 'poor', 'poorer', 'poorley', 'poorli', 'pooti', 'pop', 'popcorn', 'pope', 'popheci', 'popingli', 'popluar', 'poppin', 'poppoppoppoppoppoppoppoppoppoppoppoppoppoppoppoppoppoppoppoppoppoppoppoppoppoppoppoppoppoppoppoppoppoppoppoppoppoppoppoppoppoppoppoppoppoppoppoppoppoppoppoppoppoppoppoppoppoppoppoppoppoppoppoppoppoppoppoppoppoppoppoppoppoppoppoppoppoppoppoppoppoppoppoppoppoppoppoppoppoppoppoppoppoppoppoppoppoppoppoppoppoppoppoppoppoppoppoppoppoppoppoppoppoppoppoppoppoppoppoppoppoppoppoppoppoppoppoppoppoppoppoppoppoppoppoppoppoppoppoppoppoppoppoppoppoppoppoppoppoppoppoppoppoppoppoppoppoppoppoppoppoppoppoppoppoppoppoppoppoppoppoppoppoppoppoppoppoppoppoppoppoppoppoppoppoppoppoppoppoppoppoppoppop', 'poprzednio', 'poprzez', 'poptart', 'popul', 'popular', 'populu', 'popup', 'por', 'poradnik', 'porat', 'porbabl', 'porblem', 'porcelain', 'porcupin', 'pork', 'porn', 'porn4', 'pornim', 'porntub', 'porpos', 'porqu', 'porsch', 'port', 'portabl', 'portait', 'portal', 'portel', 'portimao', 'portion', 'portmiao', 'portrait', 'portray', 'portuges', 'portugeus', 'portugues', 'portuguê', 'porém', 'pose', 'posedown', 'poseidon', 'posess', 'poshel', 'posibbl', 'posibilit', 'posibl', 'posidon', 'posit', 'positive24review', 'positive28', 'positiveoverwhelmingli', 'positivesth', 'positivi', 'positivo', 'possa', 'posses', 'possess', 'possiabl', 'possib', 'possibili', 'possibilit', 'possibilitiesit', 'possibilité', 'possibiltà', 'possibl', 'possibleti', 'possiblitili', 'possit', 'possui', 'post', 'postaci', 'poster', 'postion', 'postit', 'postiv', 'postmodern', 'postprocess', 'postur', 'posé', 'pot', 'pota', 'potato', 'potatoe6', 'potatoo', 'potelin', 'potenci', 'potent', 'potenti', 'potentialcon', 'potentialther', 'potentil', 'potentio', 'potesta', 'poteti', 'pothead', 'poti', 'potient', 'potion', 'potiuni', 'potratil', 'potray', 'potrzebujemi', 'potshot', 'potter', 'pouch', 'pounc', 'pound', 'pounder', 'pour', 'poutin', 'pov', 'poveral', 'poverti', 'povest', 'povestea', 'povis', 'pow', 'powder', 'powder1', 'powder2', 'powderdirect', 'powderful', 'power', 'power8', 'powercard', 'powercreep', 'powercrept', 'powerflood', 'powerful', 'powerfulcombo', 'powerhous', 'powerjack', 'powerlin', 'powerpref', 'powerset', 'powerul', 'powerup', 'poziomach', 'pozzi', 'pp', 'pp4lb0ukwh0', 'ppe', 'ppl', 'pplay', 'ppoor', 'ppp', 'ppppppppppppplllllllllllllllleeeeeeeeeeeeeeaaaaaaaaaaaaaaaasssssssseeeeeeeeeeeee', 'ppsh', 'pr', 'pra', 'prabobl', 'practic', 'practicali', 'practice3', 'practice6', 'practicl', 'practicli', 'practis', 'prais', 'pramo', 'prank', 'praphic', 'pratic', 'pray', 'prayer', 'pre', 'prea', 'preach', 'preactic', 'prealloc', 'preapr', 'preati', 'prebuilt', 'precari', 'prece', 'precenet', 'preciceley', 'preciou', 'preciousc', 'precis', 'precisamo', 'precisley', 'preciss', 'precon', 'preconstruct', 'precook', 'precreat', 'precurs', 'precursor', 'predat', 'predececor', 'predecessor', 'predefin', 'predetermin', 'predict', 'predominantli', 'predon', 'preeetti', 'preeti', 'pref', 'prefab', 'prefac', 'prefect', 'prefectli', 'prefer', 'preferencegood', 'preferr', 'preffer', 'prefir', 'prefix', 'preform', 'pregam', 'pregiudic', 'pregnant', 'pregoo', 'prehap', 'preheat', 'preis', 'preivious', 'prejud', 'prejudic', 'prelaunch', 'prem', 'prema', 'premad', 'prematur', 'premeir', 'premeium', 'premier', 'premis', 'premiss', 'premium', 'premiumfun', 'premiun', 'premmo', 'premuim', 'prep', 'prepar', 'prepar3d', 'prepart', 'preper', 'prequal', 'prequel', 'prequsit', 'prerend', 'prerequisit', 'preschool', 'prescinder', 'prescrib', 'preseason', 'presen', 'presenc', 'present', 'presenti', 'presenty', 'preserv', 'preset', 'presetwich', 'presid', 'press', 'pressur', 'pressuregood', 'pressureoveral', 'prestig', 'prestin', 'presum', 'pretend', 'pretendsoh', 'preti', 'pretri', 'pretti', 'prettier', 'prettiest', 'prettti', 'pretty', 'prevail', 'preval', 'prevel', 'prevent', 'preview', 'previou', 'previous', 'prey', 'prezzi', 'prform', 'prgram', 'prgression', 'pri', 'price', 'pricedoveral', 'priceif', 'priceless', 'priceo', 'pricetag', 'pricetf2', 'pricey', 'prici', 'prick', 'pride', 'priest', 'priestit', 'prikhodilo', 'prima', 'primal', 'primarch', 'primari', 'primarili', 'primarli', 'prime', 'primecon', 'primer', 'primero', 'primetim', 'primit', 'prin', 'princ', 'princapl', 'princess', 'princip', 'principali', 'principl', 'prinston', 'print', 'prio', 'prior', 'priorit', 'prioriti', 'prise', 'prismat', 'prison', 'pristin', 'pritti', 'privaci', 'privacycon', 'privat', 'privd', 'priviledg', 'privileg', 'privilig', 'privit', 'prix', 'prize', 'prizepool', 'prmium', 'prnhb', 'pro', 'proabli', 'proactiv', 'prob', 'probabi', 'probabl', 'probabnli', 'probal', 'probali', 'probapli', 'probelm', 'probem', 'proberbl', 'proberli', 'probier', 'probl', 'problabl', 'problam', 'problem', 'problema', 'problemat', 'problemi', 'problemlo', 'problemo', 'problemslik', 'problemsound', 'problemsthi', 'probli', 'problom', 'problum', 'proc', 'procar', 'procc', 'procces', 'proccesorpen', 'proccess', 'proce', 'procedur', 'proceduri', 'proceed', 'proceedgraph', 'process', 'processor', 'proclaim', 'procrastin', 'procsessor', 'procur', 'prodownload', 'produc', 'product', 'productfractur', 'productor', 'produkcję', 'profan', 'profanti', 'profeci', 'profes', 'profesjonalnym', 'profess', 'profession', 'professiona', 'professor', 'proffes', 'proffesion', 'proffess', 'proffession', 'profici', 'profil', 'profit', 'profound', 'profus', 'prog', 'progam', 'progenitor', 'progess', 'proggress', 'proglem', 'program', 'programador', 'programm', 'prograss', 'progres', 'progresar', 'progress', 'progress4', 'progression6', 'progressiona', 'progressioncon', 'progressionok', 'progressivli', 'progresso', 'progressonlin', 'progressth', 'progressverdict', 'prohibit', 'prohibitivli', 'proif', 'project', 'projectil', 'projector', 'prolbem', 'proletariat', 'proli', 'prolli', 'prologu', 'prolong', 'prom', 'promblem', 'promis', 'promisenow', 'promiss', 'promo', 'promois', 'promot', 'promotin', 'prompt', 'promptli', 'promt', 'prone', 'pronounc', 'proof', 'proofbad', 'proofid', 'prooooooooooooooooooooooooooooooooooooooooo', 'proov', 'prop', 'propabl', 'propaganda', 'propel', 'proper', 'properli', 'properti', 'propeti', 'propheci', 'prophesi', 'prophet', 'prophunt', 'propinar', 'propiul', 'proporcionam', 'proport', 'propos', 'proposit', 'propper', 'proprietari', 'prosartist', 'prosbuild', 'proscombat', 'proscon', 'prosfast', 'prosforg', 'prosfre', 'prosfun', 'prosgraphicscreativitymusiccustomizationsmooth', 'prosmass', 'prospect', 'prospector', 'prosper', 'prosplenti', 'prossimi', 'prosstitut', 'prosth', 'prostight', 'prostioar', 'prostitut', 'prostoy', 'prosuniqu', 'prosveri', 'proswel', 'protagonist', 'protain', 'protect', 'protector', 'protest', 'protip', 'protivníkem', 'proto', 'protonium', 'prototyp', 'protract', 'protyp', 'protéger', 'prouc', 'proud', 'proudli', 'pround', 'provar', 'provat', 'prove', 'provement', 'proven', 'provid', 'provison', 'provoc', 'provok', 'prowess', 'prowler', 'proxim', 'proyectil', 'prpgress', 'prpyat', 'prtti', 'prune', 'prypat', 'przeczytasz', 'przeczytać', 'przed', 'przedstawi', 'przejdzmi', 'przybliżając', 'przyjacielami', 'przyjacieluw', 'przyjaciulkami', 'przykuwają', 'przykład', 'przypadkami', 'przypadkiem', 'przypomina', 'przyzwoita', 'préparé', 'ps', 'ps1', 'ps2', 'ps3', 'ps4', 'ps4thi', 'psa', 'psc', 'pseudo', 'pshyic', 'psi', 'psn', 'psssh', 'pssst', 'psst', 'pst', 'psudo', 'psw', 'psych', 'psychikom', 'psycho', 'psycholog', 'psychopath', 'psychot', 'psycobilli', 'psygn', 'pt', 'pt1', 'pta', 'pthe', 'ptp', 'ptq', 'ptsd', 'ptw', 'pu', 'pub', 'pubber', 'pubbi', 'pubeg', 'puberti', 'pubesc', 'pubg', 'pubg8', 'pubg9', 'pubgbusi', 'pubgeezi', 'pubgif', 'pubgit', 'pubgkil', 'pubglong', 'pubgoptim', 'pubgstep', 'public', 'publicali', 'publicist', 'publicli', 'publish', 'pubug', 'puch', 'puchac', 'puchas', 'puck', 'puddl', 'pudg', 'pued', 'puedo', 'puerta', 'puff', 'pug', 'pugachev', 'puggl', 'puke', 'puley', 'pull', 'pulp', 'puls', 'pulver', 'pulveris', 'pumkin', 'pump', 'pumpkin', 'pumpkinday', 'pumpkinlord', 'pun', 'punch', 'punchi', 'punchtim', 'punct', 'punctur', 'punis', 'punish', 'punk', 'punni', 'puns6', 'punt', 'puoi', 'pupet', 'pupkin', 'puppet', 'puppi', 'pur', 'purcahs', 'purch', 'purcha', 'purchac', 'purchas', 'purchasbl', 'purchasebad', 'purchasefor', 'purchasesd', 'purches', 'purchs', 'pure', 'purei', 'purest', 'purgatori', 'purhcas', 'purif', 'purifi', 'purifyd', 'purist', 'purpl', 'purplehair', 'purpos', 'purposeless', 'purpou', 'purr', 'pursaud', 'pursu', 'pursuit', 'pursur', 'push', 'pushbik', 'pusher', 'pushi', 'pushov', 'pusi', 'pussayveri', 'put', 'pute', 'puter', 'puterea', 'putin', 'putrid', 'puttin', 'puzzl', 'puzzlesolv', 'può', 'pv', 'pve', 'pvm', 'pvp', 'pvp1', 'pvpcon', 'pvpd', 'pvpecco', 'pvping', 'pvplol', 'pvpoveral', 'pvpveri', 'pvpvp', 'pvpyou', 'pvр', 'pw', 'pwe', 'pwi', 'pwn', 'pwning', 'pxza3fgyawnw', 'pybro', 'pylon', 'pyramid', 'pyrion', 'pyrmid', 'pyro', 'pyromanc', 'pyromaniac', 'pyrosauto', 'pyrovis', 'python', 'pz', 'pziij', 'pzkpfw', 'pésimo', 'pò', 'păcat', 'q1', 'q3', 'qa', 'qaeda', 'qb', 'qbz', 'qer', 'qeue', 'qeyno', 'qi', 'qite', 'qnigu', 'qol', 'qq', 'qu', 'qua', 'quack', 'quad', 'quadbik', 'quadrant', 'quadrillion', 'quadrillionar', 'quadro', 'quadrophenia', 'quadrupl', 'quailiti', 'quailti', 'quaint', 'quak', 'quakesound', 'qualcosa', 'quali', 'qualifi', 'qualiti', 'qualitycon', 'qualityy', 'qualm', 'quando', 'quantifi', 'quantit', 'quantiti', 'quanto', 'quantum', 'quarantin', 'quarri', 'quarter', 'quarterish', 'quarterli', 'quater', 'qucik', 'quck', 'que', 'queag', 'queen', 'queer', 'quello', 'quem', 'quench', 'querer', 'querstion', 'quesst', 'quest', 'quest10', 'quest5', 'questa', 'questen', 'quester', 'questgiv', 'questgold', 'question', 'questioni', 'questionsmi', 'questlin', 'questo', 'queston', 'quests11', 'quests5', 'questsi', 'questslot', 'questsoverpris', 'queststher', 'questão', 'queu', 'queue', 'queue3', 'queuer', 'qui', 'quick', 'quickbar', 'quickdraw', 'quicken', 'quicker', 'quickest', 'quickfix', 'quicki', 'quickli', 'quicklyth', 'quicklythi', 'quickplay', 'quickscop', 'quickshot', 'quicksop', 'quickstrik', 'quickswitch', 'quid', 'quiet', 'quietli', 'quindi', 'quintess', 'quintessenti', 'quintillion', 'quintupl', 'quip', 'quircki', 'quirk', 'quirki', 'quirky', 'quisiera', 'quit', 'quit11', 'quita', 'quitsever', 'quitspend', 'quitstep', 'quitta', 'quitter', 'quityou', 'quiz', 'quliti', 'quo', 'quot', 'quota', 'qut', 'quti', 'qué', 'qvvwmahttp', 'qwer', 'qwerti', 'qyccw6ktjfu', 'qù', 'r290x', 'r3', 'r31', 'r32', 'r33', 'r383fanatec', 'r3e', 'r3tard', 'r51', 'r52', 'r6', 'r7mbkn0rxjqand', 'r8', 'r9', 'ra', 'rabai', 'rabbid', 'rabbit', 'rabbitpheas', 'rabbl', 'rabit', 'race', 'race07', 'racecar', 'racedepart', 'racer', 'raceroom', 'raceroon', 'racerrom', 'racersr', 'raceway', 'rach', 'racial', 'racism', 'racismt', 'racist', 'racistt', 'rack', 'racket', 'racoon', 'rad', 'radar', 'radar12', 'radaway', 'rade', 'radeon', 'radiant', 'radiat', 'radic', 'radicl', 'radio', 'radioact', 'radiu', 'radius', 'radonezh', 'radroach', 'radscorpion', 'raelyn', 'raf', 'rag', 'ragazzi', 'ragdol', 'rage', 'rage3', 'rageahol', 'rageand', 'ragedota', 'ragequit', 'ragequitsinternet', 'ragequitsyour', 'rager', 'ragey', 'ragion', 'ragnarok', 'rah', 'raic', 'raid', 'raiden', 'raider', 'raidersi', 'rail', 'railgun', 'railroad', 'railway', 'rain', 'rainbow', 'rainbowsix', 'rainforest', 'raini', 'rairti', 'rais', 'raiser', 'rait', 'rakano', 'rake', 'raketenjagdpanz', 'ralli', 'ram', 'ram250', 'rama', 'ramb', 'rambl', 'rambo', 'ramgam', 'ramitinashol', 'rammer', 'ramo', 'ramon', 'ramp', 'rampag', 'rampant', 'ramth', 'ran', 'ranch', 'rancho', 'rander', 'randi', 'rando', 'random', 'randomali', 'randomcritz', 'randomis', 'randomizerslend', 'randomli', 'randommultiplay', 'randum', 'rang', 'ranger', 'rangerstrik', 'rangfind', 'rangowych', 'rank', 'rank12', 'rankedne', 'rankeds6', 'rankedth', 'rankso', 'rant', 'rap', 'rape', 'rapel', 'rapid', 'rapidli', 'rapier', 'rapist', 'rappel', 'rapper', 'rappidli', 'rappl', 'rapscallion', 'rapter', 'raptor', 'raptr', 'raptur', 'rara', 'rare', 'rarement', 'rarer', 'rarest', 'rariti', 'rarli', 'rasa', 'rash', 'rasin', 'rasio', 'raspberri', 'rastan', 'rat', 'ratatatata', 'ratatoskr', 'ratchet', 'rate', 'rather', 'rating8', 'ratingreview', 'ratio', 'ration', 'rational', 'rationther', 'ratonga', 'rattl', 'ravag', 'ravello', 'raven', 'raviolli', 'raw', 'rawr', 'ray', 'raymaaaaan', 'rayzoomfox', 'razer', 'razon', 'razor', 'razorback', 'razz', 'rb', 'rc', 'rcomend', 'rd', 'rd_asteroid', 'rdi', 're', 'reaaalli', 'reaalli', 'reaason', 'reach', 'reachabl', 'react', 'reaction', 'reactiv', 'reactor', 'read', 'reader', 'readhttp', 'readi', 'readili', 'readin', 'readingedit', 'readjust', 'reagardless', 'reagent', 'reahc', 'real', 'realeas', 'realeasd', 'reales', 'reali', 'realiast', 'realis', 'realisim', 'realisit', 'realisitc', 'realism', 'realist', 'realisticand', 'realisticgreat', 'realisticli', 'realistico', 'realistisch', 'realisum', 'realiti', 'realityi', 'realiz', 'reall', 'realli', 'reallif', 'reallist', 'realliti', 'realliz', 'realllli', 'reallybut', 'reallycon', 'realm', 'realm3', 'realmey', 'realmofthemadgod', 'realnoobtalk', 'realsi', 'realsit', 'realt', 'realtic', 'realtim', 'reamemb', 'reanim', 'reap', 'reapeat', 'reaper', 'reapetedli', 'reappear', 'rear', 'rearli', 'rearm', 'rearrang', 'reasembl', 'reason', 'reasonand', 'reasonbad', 'reasonthat', 'reasour', 'reassembl', 'reassess', 'reassmbl', 'reasson', 'reaveal', 'reaver', 'rebal', 'rebalanc', 'rebel', 'rebelli', 'rebind', 'rebirth', 'reblanc', 'reboot', 'reborn', 'rebought', 'rebound', 'rebuild', 'rebuilt', 'rebuy', 'recal', 'recamend', 'recap', 'reccmend', 'reccomand', 'reccomend', 'reccomened', 'reccoment', 'reccommend', 'receed', 'receiv', 'recenli', 'recens', 'recension', 'recent', 'recenzj', 'recepi', 'recept', 'recess', 'rechamb', 'recharg', 'recheck', 'reciep', 'reciev', 'recip', 'recipe', 'recipey', 'recipi', 'recit', 'reciv', 'reck', 'recken', 'reckless', 'reckon', 'reclaim', 'recmmend', 'recod', 'recogn', 'recognis', 'recognit', 'recogniz', 'recoil', 'recolo', 'recolor', 'recom', 'recomand', 'recomen', 'recomend', 'recomendedspoil', 'recomiendo', 'recommad', 'recommand', 'recommed', 'recommen', 'recommend', 'recommendationi', 'recommendationsrebind', 'recommendedo', 'recommendgraph', 'recommmend', 'recommnd', 'recomnen', 'recomomend', 'recompens', 'recon', 'reconcil', 'recongnis', 'reconnais', 'reconnect', 'reconsid', 'reconstitut', 'reconstruct', 'recorc', 'record', 'recordingcon', 'recov', 'recoveri', 'recoverign', 'recpi', 'recquir', 'recreat', 'recremend', 'recromend', 'recrow', 'recruit', 'rectangl', 'rectangular', 'rectif', 'rectifi', 'recur', 'recurs', 'recurv', 'recycl', 'red', 'redcreat', 'redder', 'reddit', 'redditmedia', 'redditor', 'redeem', 'redefin', 'redempt', 'redeploy', 'redesign', 'redi', 'redicil', 'redicul', 'rediculo', 'rediculu', 'redirect', 'rediscov', 'redistribut', 'redit', 'redko', 'redo', 'redon', 'redonkuless', 'redownload', 'redraw', 'redrawmechan', 'redrw', 'redshel', 'redston', 'reduc', 'reduct', 'redud', 'redund', 'reeaalli', 'reealli', 'reed', 'reedit', 'reeeeeeealli', 'reeeeeeeeeeeeeeeeeeeeeeeeeee', 'reeeeeeeeeeeeeeeeeeeeeeeeeeeeeeeeeeeeeeeeeeeeeeeeeeeeeeeeeeeeeeeeeeeeeeeeeeeeeeeeeeeeeeeeeeeeeeeeeeeeeeeeeeeeeeeeeeeeeee', 'reek', 'reel', 'reenact', 'reevalu', 'ref', 'ref_', 'refer', 'referal', 'referr', 'reffer', 'reffren', 'reffrenc', 'reffur', 'refil', 'refin', 'refinere', 'refineri', 'refleckt', 'reflect', 'reflex', 'reflexolog', 'reform', 'refrain', 'refrenc', 'refresh', 'refreshingli', 'refridger', 'refriger', 'refrin', 'refrsh', 'refuel', 'refues', 'refug', 'refuge', 'refugio', 'reful', 'refund', 'refurbish', 'refus', 'reg', 'regain', 'regal', 'regan', 'regard', 'regardless', 'regconit', 'regen', 'regener', 'regeneruj', 'regerst', 'regest', 'regi', 'region', 'regist', 'registeralso', 'registr', 'registri', 'regoveral', 'regret', 'regretsvil', 'regrind', 'regrow', 'regual', 'regualar', 'regualr', 'reguardless', 'reguarli', 'reguir', 'regular', 'regulari', 'regularili', 'regularli', 'regularlyev', 'regularlyit', 'rehab', 'rehabilit', 'rehash', 'reich', 'reign', 'reignit', 'reigon', 'reimagin', 'reimburs', 'reincaarn', 'reincarn', 'reindeer', 'reinforc', 'reinstal', 'reinvent', 'reinvest', 'reinvit', 'reiter', 'reject', 'rejoic', 'rejoin', 'rek', 'rekindl', 'reknown', 'reksio', 'rekt', 'rektd', 'rektkillstreak', 'rektum', 'rel', 'rela', 'relashionship', 'relat', 'relatib', 'relationship', 'relativ', 'relativl', 'relativley', 'relativli', 'relaunch', 'relav', 'relax', 'relaxingth', 'relaxo', 'relay', 'relazx', 'releas', 'releasedim', 'releasei', 'releasescon', 'releasin', 'releav', 'releg', 'relent', 'relentless', 'relentlessli', 'reles', 'relet', 'relev', 'relfex', 'relgious', 'reli', 'reliabl', 'reliant', 'relic', 'relief', 'relies', 'reliev', 'relif', 'relig', 'religi', 'religion', 'relinquish', 'relis', 'relish', 'relist', 'relitivli', 'reliv', 'reliz', 'rellay', 'relli', 'relluy', 'relm', 'reload', 'reloc', 'relog', 'reluct', 'remad', 'remain', 'remaind', 'remak', 'remap', 'remapp', 'remark', 'remast', 'rematarm', 'rember', 'rembo', 'remeb', 'remedi', 'rememb', 'rememeb', 'remi', 'remid', 'remind', 'reminesc', 'reminic', 'reminicis', 'reminisc', 'reminsc', 'reminsic', 'remiss', 'remmeb', 'remnant', 'remodel', 'remors', 'remot', 'remov', 'rena', 'renaiss', 'renam', 'render', 'renderremov', 'rendit', 'renegad', 'reneger', 'renemb', 'renew', 'renger', 'rennet', 'reno', 'renov', 'renown', 'rent', 'rental', 'reoccur', 'reomcmn', 'reomt', 'reopen', 'reorgan', 'rep', 'repackag', 'repair', 'repar', 'reparieren', 'repartido', 'repay', 'repeat', 'repeat10', 'repeatedli', 'repeatet', 'repeatidli', 'repeatoth', 'reped', 'repedit', 'repeditav', 'repeir', 'repel', 'repercuss', 'repercussionsepic1000', 'repet', 'repeted', 'repetet', 'repetit', 'repetiti', 'repetitiveperson', 'repetitiveupd', 'repetitivo', 'repetitv', 'rephras', 'repick', 'repit', 'repithior', 'replac', 'replay', 'replayabilityeveri', 'replayablilti', 'replenish', 'repli', 'replic', 'replica', 'replub', 'replyit', 'report', 'reportedli', 'reportyay', 'reposit', 'repotion200hour', 'repres', 'represent', 'representaion', 'repriev', 'repris', 'reprocuss', 'reproduc', 'reproduct', 'reptit', 'republ', 'repuls', 'repurchas', 'repurpos', 'reput', 'req', 'reqir', 'requ', 'request', 'requi', 'requier', 'requieremtn', 'requior', 'requir', 'requiri', 'requisio', 'requri', 'rereleas', 'rerol', 'rerun', 'rescu', 'research', 'resembl', 'resent', 'reserv', 'reservenew', 'reserver', 'reset', 'reshap', 'reshuffl', 'resid', 'resign', 'resignin', 'resili', 'resist', 'resit', 'resiz', 'reskin', 'reslot', 'reso', 'resolout', 'resoloutionoveral', 'resolut', 'resolv', 'reson', 'resorc', 'resort', 'resouc', 'resoult', 'resourc', 'resourcepack', 'resourcesfre', 'resours', 'respawn', 'respawnoveral', 'respawnscreen', 'respec', 'respect', 'respectivli', 'respectul', 'respon', 'responc', 'respond', 'respons', 'responsibilti', 'responsibl', 'respown', 'respwan', 'ressembl', 'ressourc', 'ressurect', 'rest', 'restack', 'restaraunt', 'restart', 'restaur', 'restock', 'restor', 'restrain', 'restraint', 'restrict', 'restroom', 'restructur', 'resturaunt', 'restyl', 'resub', 'resuc', 'resul', 'result', 'resum', 'resuppli', 'resurc', 'resurrect', 'ret', 'retail', 'retain', 'retali', 'retard', 'retardid', 'retent', 'rethink', 'reticl', 'reticul', 'retir', 'reto', 'retouch', 'retrata', 'retread', 'retreat', 'retreav', 'retribut', 'retriev', 'retro', 'retrospect', 'retstart', 'retur', 'returen', 'return', 'returrn', 'retweak', 'reus', 'reusabl', 'rev', 'reval', 'revamp', 'reveal', 'reveiew', 'reveiw', 'revel', 'revelop', 'reven', 'reveng', 'revenu', 'reverb', 'revers', 'revert', 'revew', 'revieuw', 'reviev', 'review', 'review1', 'review10', 'review1000', 'review15', 'review18', 'review1st', 'review1v1', 'review2', 'review2spooky4m', 'review2spoopywaity', 'review4', 'review40', 'review5', 'review5v5', 'review7', 'review8', 'review85', 'review9', 'review9966699999966699999966699966669996699999996699666996699', 'reviewa', 'reviewaaa', 'reviewabout', 'reviewabsolut', 'reviewaccord', 'reviewactu', 'reviewaddict', 'reviewaddictingli', 'reviewadventur', 'reviewadventurequest', 'reviewaft', 'reviewag', 'reviewaggro', 'reviewahoj', 'reviewaight', 'reviewaim', 'reviewal', 'reviewallow', 'reviewalmost', 'reviewalot', 'reviewalpha', 'reviewalreadi', 'reviewalright', 'reviewalthough', 'reviewamaz', 'reviewan', 'reviewanim', 'reviewanoth', 'reviewanybodi', 'reviewanyon', 'reviewanywaysfrom', 'reviewapp', 'reviewaq3d', 'reviewarcadi', 'reviewargu', 'reviewaround', 'reviewaswsom', 'reviewat', 'reviewawesom', 'reviewb', 'reviewbabi', 'reviewbas', 'reviewbattl', 'reviewbeauti', 'reviewbeen', 'reviewbefor', 'reviewbesid', 'reviewbest', 'reviewbeta', 'reviewbett', 'reviewbetween', 'reviewbi', 'reviewbig', 'reviewbiggest', 'reviewblack', 'reviewbless', 'reviewboth', 'reviewbought', 'reviewbrainless', 'reviewbrawlhala', 'reviewbrawlhalla', 'reviewbrilli', 'reviewbro', 'reviewbusi', 'reviewbuy', 'reviewcan', 'reviewcapit', 'reviewchang', 'reviewcharact', 'reviewchildhood', 'reviewclass', 'reviewcom', 'reviewcombin', 'reviewcompar', 'reviewcomplet', 'reviewcon', 'reviewconsid', 'reviewcool', 'reviewcould', 'reviewcount', 'reviewcoupl', 'reviewcrack', 'reviewcreativers', 'reviewcuando', 'reviewcuisin', 'reviewcurr', 'reviewcusin', 'reviewd', 'reviewda', 'reviewdamn', 'reviewdamnn', 'reviewday', 'reviewddddddddddddaaaaaaaaaaaaaammmmmmmmmmmmmmmmmeeeeeeeee', 'reviewdear', 'reviewdec', 'reviewdecid', 'reviewdefeat', 'reviewdefin', 'reviewdefinit', 'reviewdefinitli', 'reviewdespit', 'reviewdev', 'reviewdid', 'reviewdiffer', 'reviewdisclaim', 'reviewdivers', 'reviewdo', 'reviewdon', 'reviewdown', 'reviewdownload', 'reviewdud', 'reviewdustforc', 'reviewearli', 'revieweasili', 'revieweasilli', 'reviewedit', 'reviewedit2', 'reviewedwa', 'revieweh', 'reviewehhh', 'reviewein', 'reviewen', 'reviewenglish', 'reviewenhanc', 'reviewenjoy', 'reviewep', 'reviewetern', 'reviewev', 'revieweven', 'revieweveri', 'revieweveryon', 'revieweveryth', 'revieweww', 'reviewexactli', 'reviewexceed', 'reviewexcel', 'reviewexcus', 'reviewexpirenc', 'reviewextrem', 'reviewf2p', 'reviewfantas', 'reviewfantast', 'reviewfar', 'reviewfast', 'reviewfavorit', 'reviewfeel', 'reviewffxiv', 'reviewfin', 'reviewfinnali', 'reviewfir', 'reviewfirst', 'reviewfix', 'reviewflawless', 'reviewfor', 'reviewfortnit', 'reviewfractur', 'reviewfre', 'reviewfriendship', 'reviewfrom', 'reviewful', 'reviewfun', 'reviewfunni', 'reviewg', 'reviewgam', 'reviewgameplay', 'reviewgener', 'reviewgenuin', 'reviewget', 'reviewgo', 'reviewgod', 'reviewgood', 'reviewgot', 'reviewgotta', 'reviewgraph', 'reviewgreat', 'reviewgreatli', 'reviewgreen', 'reviewgreet', 'reviewgunplay', 'reviewguy', 'reviewh', 'reviewha', 'reviewhaha', 'reviewhalf', 'reviewhand', 'reviewhav', 'reviewhel', 'reviewhelllo', 'reviewhello', 'reviewher', 'reviewhero', 'reviewhey', 'reviewhhihihhihihihihihihiihihihihihihihihihihihihihihihihhhhhihihihihihihihhihihihihihhhhiihihihhhihihihihihihihihihhihihihhhihhihihiihiihiihhihiihhihhihhhiihihhhhhohhhhhihihihhiihhhiihihihihihihhhhhwwwww', 'reviewhi', 'reviewhigh', 'reviewhighest', 'reviewhighli', 'reviewhmm', 'reviewhold', 'reviewholi', 'reviewhonest', 'reviewhonestli', 'reviewhoo', 'reviewhop', 'reviewhot', 'reviewhow', 'reviewhttp', 'reviewhuh', 'reviewhunt', 'reviewi', 'reviewid', 'reviewif', 'reviewign', 'reviewignor', 'reviewim', 'reviewimagin', 'reviewimma', 'reviewimmens', 'reviewimo', 'reviewimprov', 'reviewin', 'reviewinb4', 'reviewincred', 'reviewiniti', 'reviewinsan', 'reviewinstal', 'reviewinstantli', 'reviewinstead', 'reviewinterest', 'reviewintrest', 'reviewit', 'reviewjump', 'reviewjust', 'reviewkeep', 'reviewkil', 'reviewkind', 'reviewkinda', 'reviewknow', 'reviewkorean', 'reviewl', 'reviewlatest', 'reviewleav', 'reviewlet', 'reviewlik', 'reviewlisten', 'reviewlitter', 'reviewlmao', 'reviewlog', 'reviewlong', 'reviewlook', 'reviewlot', 'reviewlov', 'reviewlvl', 'reviewm', 'reviewmag', 'reviewmajest', 'reviewman', 'reviewmatch', 'reviewmath', 'reviewmayb', 'reviewmeh', 'reviewmew', 'reviewmi', 'reviewmix', 'reviewmoba', 'reviewmor', 'reviewmost', 'reviewmostli', 'reviewmtg', 'reviewmuaahahaha', 'reviewmuch', 'reviewnazi', 'reviewnev', 'reviewnew', 'reviewngentot', 'reviewnic', 'reviewno', 'reviewnorm', 'reviewnostalg', 'reviewnot', 'reviewnoth', 'reviewnow', 'reviewobvi', 'reviewoddli', 'reviewoh', 'reviewok', 'reviewokay', 'reviewold', 'reviewomg', 'reviewon', 'reviewonc', 'reviewonli', 'reviewopinionimport', 'revieworeral', 'reviewour', 'reviewout', 'reviewov', 'reviewoveral', 'reviewoverview', 'reviewown', 'reviewparti', 'reviewpeopel', 'reviewpeopl', 'reviewperfect', 'reviewperson', 'reviewpewdiepi', 'reviewphenomen', 'reviewpick', 'reviewplay', 'reviewpleas', 'reviewpoor', 'reviewposit', 'reviewpost', 'reviewpot', 'reviewpotenti', 'reviewpretti', 'reviewpro', 'reviewprob', 'reviewprop', 'reviewpubg', 'reviewpur', 'reviewput', 'reviewqu', 'reviewquit', 'reviewr', 'reviewrag', 'reviewrealm', 'reviewrec', 'reviewrecomend', 'reviewrecommend', 'reviewreferr', 'reviewrefund', 'reviewrel', 'reviewrememb', 'reviewremind', 'reviewrequir', 'reviewrereview', 'reviewretro', 'reviewreview', 'reviewright', 'reviewro', 'reviewrobocraft', 'reviewroom', 'reviewrun', 'reviews', 'reviewsam', 'reviewsaw', 'reviewscrol', 'reviewse', 'reviewsearch', 'reviewseem', 'reviewseri', 'reviewserv', 'reviewshoot', 'reviewshould', 'reviewshttp', 'reviewsick', 'reviewsimilar', 'reviewsimpl', 'reviewsinc', 'reviewslightli', 'reviewslowli', 'reviewsmash', 'reviewsnowboard', 'reviewso', 'reviewsolid', 'reviewsom', 'reviewsomewhat', 'reviewsor', 'reviewsorta', 'reviewsp', 'reviewspac', 'reviewspawn', 'reviewsplit', 'reviewspooki', 'reviewstart', 'reviewsteep', 'reviewstep', 'reviewstil', 'reviewsuch', 'reviewsuck', 'reviewsup', 'reviewsur', 'reviewsurprisingli', 'reviewswitch', 'reviewsüp', 'reviewtak', 'reviewtdm', 'reviewteam', 'reviewth', 'reviewthank', 'reviewthat', 'reviewther', 'reviewthey', 'reviewthi', 'reviewthink', 'reviewthough', 'reviewthought', 'reviewthre', 'reviewtir', 'reviewtl', 'reviewtldr', 'reviewto', 'reviewtoday', 'reviewtoo', 'reviewtot', 'reviewtri', 'reviewtrov', 'reviewtru', 'reviewtruli', 'reviewugh', 'reviewuhhhhh', 'reviewum', 'reviewunbeliev', 'reviewuniqu', 'reviewunless', 'reviewupd', 'reviewvalv', 'reviewveri', 'reviewvideo', 'reviewvot', 'revieww', 'reviewwa', 'reviewwalk', 'reviewwarmod', 'reviewwarmodethi', 'reviewwarnod', 'reviewway', 'reviewwekcom', 'reviewwel', 'reviewwelp', 'reviewwer', 'reviewwhat', 'reviewwhen', 'reviewwher', 'reviewwhi', 'reviewwhil', 'reviewwho', 'reviewwith', 'reviewwithin', 'reviewwithout', 'reviewwond', 'reviewwonderful', 'reviewwoooooooowwwwwthi', 'reviewwork', 'reviewwould', 'reviewwow', 'reviewwowow', 'reviewwrit', 'reviewwwwwwwwwwwwwwwwwwwwwwwwwwwwwwwwww', 'reviewy', 'reviewya', 'reviewyeah', 'reviewyess', 'reviewyesss', 'reviewyet', 'reviewylvi', 'reviewâ', 'reviewświetna', 'reviewдавольно', 'reviewнаиграв', 'review我们需要中文w', 'review장군은', 'revis', 'revisit', 'revist', 'reviuw', 'reviv', 'revoew', 'revoir', 'revok', 'revolut', 'revolution', 'revolutionari', 'revolv', 'revolverand', 'reward', 'rewardingalway', 'rewardinggam', 'rewardingheavi', 'rewardinghug', 'rewardsgener', 'rewardsscreen', 'rewardsth', 'rewatch', 'rewiev', 'rewind', 'rework', 'rewritten', 'rewrot', 'rexaaayyy', 'rez', 'reze', 'rezens', 'rezolvarea', 'reâ', 'rf', 'rf2', 'rfactor', 'rfactor2', 'rfrom', 'rg8mpfhyybk', 'rght', 'rhino', 'rhode', 'rhyme', 'rhymei', 'rhymethey', 'rhythm', 'ribbion', 'ribbon', 'ribon', 'ricardo23', 'rice', 'ricey', 'rich', 'rich77', 'richer', 'richest', 'richtig', 'richtigen', 'rick', 'rico', 'ricochet', 'rid', 'ridabl', 'ridanc', 'ridcul', 'ridden', 'riddl', 'ride', 'rideabl', 'rider', 'ridethej', 'ridg', 'ridiciul', 'ridicu', 'ridicul', 'ridiculo', 'ridiculu', 'riducul', 'riegn', 'rif', 'rife', 'rifil', 'rifl', 'rift', 'rig', 'rigg', 'riggameplay', 'righ', 'right', 'righteou', 'rightin', 'rightleft', 'rightli', 'rightonli', 'rigid', 'riglenni', 'rigor', 'rigth', 'riki', 'rim', 'rimani', 'rime', 'rind', 'ring', 'ringcraft', 'ringer', 'ringin', 'ringofelysium_tenc', 'rington', 'rins', 'rinz', 'rio', 'riot', 'rioupfdg', 'rip', 'ripdiablo4', 'ripe', 'ripen', 'ripoff', 'rise', 'risen', 'risk', 'riski', 'risqu', 'ritual', 'riva', 'rival', 'rivalri', 'river', 'rivet', 'riview', 'rivit', 'rivot', 'rko', 'rl', 'rli', 'rlm', 'rma', 'rmb', 'rmt', 'rn', 'rng', 'rngetern', 'rnj', 'rnjesu', 'rnjesus7', 'rnpn', 'ro', 'roach', 'road', 'roadcar', 'roadhog', 'roadkil', 'roadmap', 'roam', 'roam2', 'roamer', 'roar', 'roast', 'rob', 'roba', 'robberi', 'robe', 'robert', 'robin', 'robinson', 'robit', 'roblox', 'robo', 'robocraft', 'robocraftgam', 'robodog', 'robohead', 'roboshield', 'robot', 'robotnoth', 'robotsstep', 'robotstep', 'robust', 'rochxbrain', 'rock', 'rocker', 'rockest', 'rocket', 'rocketjump', 'rocketsideheavi', 'rockfac', 'rocki', 'rockin', 'rockpapershotgun', 'rockxbrain', 'rockzilla', 'rod', 'rode', 'rodeo', 'rodriguez', 'roe', 'roestep', 'rof', 'rofe25', 'rofflestomp', 'rofl7', 'roflstomp', 'rog', 'rogamu', 'rogu', 'roguelik', 'roguelit', 'roguestrik', 'roket', 'role', 'rolepay', 'roleplay', 'rolesexcel', 'rolex', 'roll', 'roll20', 'rollback', 'rollen', 'roller', 'rollercoast', 'rollgam', 'rom', 'roman', 'romanc', 'romant', 'rome', 'romero', 'romeroaftermatchy', 'rommel', 'romp', 'ronaldo', 'roof', 'rooftop', 'rooki', 'room', 'room5', 'roommajor', 'roommat', 'roomsrunrun', 'roomsthi', 'rooney', 'rooster', 'root', 'rope', 'ropeshow', 'ropeway', 'ropugh', 'rose', 'rosemari', 'rosetta', 'rosey', 'roshan', 'roshanroshan', 'ross', 'roster', 'rot', 'rotaion', 'rotat', 'rote', 'rotflno', 'rotg', 'rotmg', 'rotor', 'rotorblad', 'rotorcraft', 'rotten', 'roudi', 'roug', 'rougelik', 'rough', 'roughli', 'roughn', 'rougli', 'round', 'roung', 'rout', 'router', 'routin', 'row', 'rowdi', 'roxi', 'royal', 'royale3', 'royialnetwork', 'royialvideo', 'rozdělení', 'rozgrywka', 'rozgrywkę', 'rozplanowani', 'rośni', 'rp', 'rpg', 'rpgcon', 'rpgmi', 'rpgmmo', 'rpgp', 'rpize', 'rpm', 'rquir', 'rr', 'rr3', 'rre', 'rrre', 'rs', 'rsi', 'rss', 'rt', 'rtb', 'rtfm', 'rthink', 'rti', 'rting', 'rtte', 'rtygjrdmsdxujdr', 'rtz', 'ru', 'rub', 'rubber', 'rubberband', 'rubbish', 'rubecca', 'rubi', 'rubick', 'rubust', 'ruck', 'rudder', 'rude', 'rudimentari', 'rudolf', 'ruel', 'ruff', 'rug', 'rugbi', 'ruger', 'rughli', 'ruin', 'rule', 'rule34', 'ruler', 'ruleset', 'rumbl', 'rumor', 'rump', 'run', 'run2', 'rune', 'runecraft', 'runescap', 'runesscap', 'runesthes', 'runeston', 'rung', 'runin', 'runn', 'runner', 'runnig', 'runningdidn', 'runningli', 'runshundr', 'runter', 'runway', 'runwaypress', 'runwaythi', 'rupi', 'ruse', 'rush', 'rusian', 'ruski', 'ruslarla', 'russen', 'russia', 'russiaasian', 'russiaeuropean', 'russiamoth', 'russian', 'russiancalib', 'russianew', 'russianorth', 'russiansdota', 'russianswith', 'russiasouth', 'russiasuka', 'russki', 'russland', 'rust', 'rusti', 'rustic', 'rustl', 'rut', 'ruthless', 'ruthlessli', 'ruuuuun', 'ruuuuuuun', 'rvwcygrikgthvf', 'rwr', 'rx580', 'rxpzlvcmimagin', 'ry', 'ryazan', 'rychlé', 'ryfi', 'ryou', 'ryzen', 'ràng', 'różniących', 's1', 's2', 's3', 's400', 's5', 's6', 's75', 's7r', 'sa', 'saat', 'sabaton', 'saber', 'sabertooth', 'sabotag', 'sabr', 'sacaron', 'sack', 'sacr', 'sacraf', 'sacrafic', 'sacrfic', 'sacrier', 'sacrif', 'sacrific', 'sad', 'sad_', 'sadden', 'saddest', 'saddl', 'sadist', 'sadli', 'sadlli', 'sado', 'saem', 'saf', 'safe', 'safeguard', 'safekeep', 'safeplac', 'safer', 'safest', 'safeti', 'safetythos', 'safezon', 'safiria', 'safti', 'saga', 'sagabeauti', 'sage', 'sai', 'saiberu', 'said', 'sail', 'sainsburi', 'saint', 'saitek', 'saiyan', 'saka', 'sake', 'sakura', 'salad', 'salari', 'sale', 'saleen', 'salesman', 'salient', 'saliva', 'salió', 'salli', 'salt', 'salt1', 'salt7', 'saltclos', 'saltdirections1', 'salti', 'saltier', 'saltin', 'saltlong', 'salty', 'saltydota', 'salut', 'saluti', 'salvag', 'salvator', 'salzburgr', 'sam', 'sama', 'samag', 'same', 'samedi', 'samerecommendationsa', 'sammich', 'samo', 'samozřejmě', 'samp', 'sampl', 'samsung', 'samurai', 'san', 'sancto', 'sanctuari', 'sand', 'sandbox', 'sandboxdud', 'sander', 'sandi', 'sandpap', 'sandstorm', 'sandvich', 'sandvich33', 'sandwich', 'sandwichtot', 'sandwitch', 'sane', 'sang', 'sanic', 'saniti', 'sanity11', 'sank', 'santa', 'santiago', 'sanvich', 'sap', 'saper', 'sapper', 'saquen', 'sarah', 'saranno', 'sarcasm', 'sarcast', 'sarn', 'sarov', 'sashay', 'sastisfact', 'sat', 'satan', 'satana', 'satanica', 'satanist', 'satasfi', 'sate', 'satifi', 'satillit', 'satir', 'satisfact', 'satisfactori', 'satisfatori', 'satisfi', 'satisfid', 'satisfieda', 'satisfiedasâ', 'satisfiedcon', 'satisfiy', 'satisfyingli', 'satisi', 'satisif', 'satsyfyinggood', 'sattisfi', 'satur', 'saturday', 'sau', 'sauc', 'saucepan', 'sauci', 'saudi', 'sauron', 'sausag', 'saut', 'savag', 'savannah', 'save', 'save_game_data_locationhttp', 'savegam', 'saver', 'savingdo', 'savior', 'savor', 'saw', 'sawdust', 'sawp', 'saxton', 'say', 'sayamadığım', 'saybut', 'sayer', 'sayright', 'sayse', 'sayy', 'sbsay', 'sc', 'sc16gb', 'sc2', 'scalabl', 'scale', 'scaler', 'scalextr', 'scallion', 'scam', 'scame', 'scamer', 'scammer', 'scan', 'scandal', 'scandinavia', 'scanner', 'scanscan', 'scant', 'scantili', 'scape', 'scar', 'scarab', 'scarc', 'scardi', 'scare', 'scaredi', 'scaresador', 'scarescon', 'scaresnot', 'scarest', 'scarh', 'scari', 'scarier', 'scariest', 'scarlet', 'scarper', 'scarri', 'scars', 'scat', 'scath', 'scatter', 'scattergun', 'scavag', 'scaveng', 'scawri', 'sceglier', 'scelta', 'sceme', 'scenari', 'scenario', 'scenc', 'scene', 'sceneri', 'scenerio', 'scenic', 'scens', 'scent', 'sceptic', 'scepticl', 'scetchi', 'schach', 'scheduil', 'schedul', 'schemat', 'scheme', 'schiff', 'schlechter', 'schneerson', 'schneller', 'schon', 'school', 'schoolbag', 'schoolbu', 'schooltaunt', 'schrecklich', 'schwiggiti', 'schwing', 'sci', 'scidoodl', 'scienc', 'scientif', 'scientist', 'scientologist', 'scifi', 'scinc', 'scion', 'scissor', 'scoff', 'scold', 'scoop', 'scoot', 'scooti', 'scootish', 'scootkaptain', 'scope', 'scoper', 'scorching5', 'score', 'scoreboard', 'scoregam', 'scoregraph', 'scorer', 'scoreth', 'scorpion', 'scott', 'scottish', 'scount', 'scour', 'scourg', 'scout', 'scouti', 'scowl', 'scp', 'scrambl', 'scrap', 'scrape', 'scrapyard', 'scratch', 'scrategi', 'scrath', 'scrawl', 'scrawni', 'scream', 'screamer', 'screan', 'screech', 'screem', 'screemin', 'screen', 'screensav', 'screenshar', 'screenshot', 'screenwould', 'screw', 'screwi', 'scri', 'script', 'scriptkiddi', 'scrol', 'scrole', 'scroll', 'scroller', 'scroung', 'scrreeeeeeeecchhhhhhhhh', 'scrub', 'scrublord', 'scrumpi', 'scrye', 'scu', 'scuf', 'scullduggeri', 'sculpt', 'sculptur', 'scum', 'scumbag', 'scummi', 'scusatemi', 'scuttlebutt', 'scxroll', 'scylla', 'scyth', 'sd', 'sda', 'sdk', 'sdon', 'se', 'sea', 'seach', 'sead', 'seafood', 'seal', 'seam', 'seamana', 'seamless', 'seamlessli', 'sear', 'search', 'searchtext', 'seashel', 'season', 'seasson', 'seat', 'seater', 'seattl', 'sebastian', 'sebastiano', 'sebr', 'sec', 'secon', 'second', 'secondari', 'secondli', 'seconds5', 'secor', 'secret', 'secretli', 'secta', 'section', 'sectionth', 'sectioné', 'sector', 'sector3', 'secuirti', 'secundari', 'secur', 'secura', 'securatron', 'sedentari', 'seduc', 'seduct', 'sedzjhqydvyhttp', 'see', 'seed', 'seee', 'seeif', 'seek', 'seekabl', 'seeker', 'seel', 'seem', 'seemedth', 'seemingli', 'seemless', 'seemlessli', 'seen', 'seeni', 'seenig', 'seeso', 'seeth', 'seg', 'sega', 'segment', 'segreg', 'segurament', 'sehr', 'sei', 'seig', 'sein', 'seiner', 'seiz', 'seizur', 'sekedar', 'selbst', 'selction', 'seldom', 'selec', 'select', 'selectezi', 'selection5', 'selector', 'self', 'selfand', 'selfbuild', 'selfish', 'sell', 'seller', 'sem', 'semanalment', 'sembra', 'semi', 'semiarid', 'semiauto', 'semisweet', 'semless', 'semm', 'semper', 'semplic', 'semua', 'sen', 'senario', 'senc', 'send', 'senior', 'senpai', 'senpaichan', 'sens', 'sens5', 'sensacion', 'sensaciã³n', 'sensat', 'sensecredit', 'senseless', 'senseposit', 'senset', 'sensibilit', 'sensibl', 'sensit', 'sensitivti', 'sensor', 'senstit', 'sent', 'sentenc', 'sentido', 'sentienel', 'sentient', 'sentinel', 'sentir', 'sentri', 'sentual', 'seond', 'sep', 'separ', 'separatli', 'seper', 'seperat', 'seperatedli', 'seppuku', 'sept', 'septemb', 'sepulchur', 'sequal', 'sequel', 'sequenc', 'sequenti', 'ser', 'sera', 'seraph', 'seraphim', 'serba', 'serbia', 'serc', 'serca', 'sercu', 'serdeczni', 'serei', 'seren', 'serfac', 'sergeant', 'sergeri', 'sergeytitov', 'sergiy', 'seri', 'seria', 'series', 'seriescon', 'seriosli', 'seriou', 'serioulsi', 'serious', 'seriousley', 'seris', 'seriu', 'serpent', 'serpentin', 'sertain', 'sertanli', 'serv', 'server', 'serveragain', 'serveralcon', 'serverbas', 'serverbrows', 'serverhost', 'servers3', 'serverscon', 'serversedit', 'serversid', 'serversmost', 'serversne', 'serversth', 'servey', 'servic', 'servidor', 'servir', 'serweri', 'sesam', 'session', 'sesson', 'set', 'setback', 'sete', 'setlement', 'seto', 'settarti', 'settingeverquest', 'settings2', 'settings6', 'settings8', 'settingsit', 'settingsy', 'settl', 'settlement', 'settler', 'setup', 'setzen', 'seu', 'seven', 'seventeen', 'seventeenth', 'seventh', 'sever', 'severl', 'severli', 'seviyed', 'sewer', 'sewn', 'sex', 'sexi', 'sexier', 'sexism', 'sexist', 'sexual', 'seziur', 'seлect', 'sf', 'sf2', 'sf24', 'sfdflafsal', 'sfm', 'sfree', 'sfx', 'sfxthe', 'sg', 'sh', 'shabbi', 'shack', 'shackl', 'shade', 'shader', 'shadi', 'shadow', 'shadowdanc', 'shadowfiend', 'shadowvers', 'shaft', 'shake', 'shaken', 'shakespear', 'shaki', 'shakspeareian', 'shale', 'shall', 'shallow', 'shallowy', 'shaman', 'shambl', 'shame', 'shameless', 'shamelessli', 'shamepro', 'shandalar', 'shane', 'shang9', 'shanghai', 'shape', 'shaper', 'shaq', 'sharastrix', 'shard', 'shardbound', 'shardsi', 'share', 'sharedfil', 'shark', 'sharon', 'sharp', 'sharpen', 'sharpest', 'sharpshoot', 'shatston', 'shatstonesqu', 'shatter', 'shave', 'shawshank', 'she', 'shear', 'shed', 'shedsh', 'sheep', 'sheepl', 'sheer', 'sheerli', 'sheesh', 'sheet', 'sheethead', 'sheidl', 'sheild', 'sheildget', 'sheildsometim', 'sheld', 'shelf', 'shell', 'shelpasedrcfceadrcf', 'shelter', 'shelterit', 'shelv', 'shemal', 'shenanigan', 'sherlock', 'sherman', 'shhh', 'shhhhh', 'shi', 'shi7', 'shia', 'shibbi', 'shield', 'shieldleth', 'shift', 'shifter', 'shifti', 'shiftingday', 'shiftston', 'shile', 'shill', 'shillingsburg', 'shin', 'shine', 'shing', 'shini', 'shinni', 'shinobu', 'shinpuruna', 'shinyyyyyyyy', 'ship', 'ship3', 'shipclass', 'shipe', 'shipscon', 'shipscross', 'shipsinclus', 'shipsmuch', 'shipsoveral', 'shipsteam', 'shipsthey', 'shipy', 'shirt', 'shit', 'shitbucket', 'shitdipshit', 'shiter', 'shiti', 'shitloud', 'shiv', 'shiver', 'shizz', 'shkolu', 'shkval', 'shld', 'sho', 'shock', 'shock6', 'shocker', 'shockingli', 'shod', 'shoddi', 'shoe', 'shoebox', 'shokepoint', 'shokwav', 'shoop', 'shoot', 'shooter', 'shooterbut', 'shooterfuturist', 'shooterlook', 'shooterrecommend', 'shootersth', 'shooti', 'shootikg', 'shootin', 'shootout', 'shop', 'shopoveral', 'shopper', 'shore', 'short', 'shortag', 'shortcom', 'shortcut', 'shorten', 'shorter', 'shortest', 'shorti', 'shortli', 'shortx', 'shot', 'shotbyatre', 'shote', 'shoter', 'shotgon', 'shotgun', 'shotgun12', 'shotgun357', 'shotter', 'shotth', 'shotti', 'shoudnt', 'shoul', 'should', 'shoulda', 'shouldent', 'shoulder', 'shouldn', 'shouldnt', 'shouldthi', 'shoulod', 'shounen', 'shouold', 'shout', 'shoutout', 'shove', 'shovel', 'show', 'showcas', 'showdown', 'shower', 'showhorn', 'showi', 'showit', 'shown', 'shrapnel', 'shread', 'shred', 'shredder', 'shrek', 'shrekt', 'shrew', 'shrine', 'shrink', 'shrivel', 'shroud', 'shrug', 'sht', 'shti', 'shuffl', 'shuffler', 'shuld', 'shun', 'shunt', 'shure', 'shuriken', 'shurp', 'shut', 'shutdown', 'shutter', 'shyness', 'shàng', 'shì', 'shíjiān', 'shǎo', 'si', 'sia', 'siad', 'siang', 'siberia', 'sibl', 'sice', 'sich', 'sick', 'sicken', 'sickl', 'sicn', 'side', 'side1', 'sidearm', 'sidegrad', 'sidejungl', 'sidekick', 'sidenot', 'sidepanel', 'sidequest', 'sider', 'sidescrap', 'sidescrol', 'sidestep', 'sidesth', 'sidetrack', 'sidewalk', 'sideway', 'sidewind', 'sie', 'sieci', 'sieciowi', 'sieg', 'sieger', 'siemaneczko', 'siendo', 'sierra', 'siet', 'siez', 'sift', 'sig', 'siga', 'sigel', 'sigh', 'sight', 'sighted', 'sigil', 'sign', 'signal', 'signatur', 'signifacntli', 'signifc', 'signifi', 'signific', 'significantli', 'signifig', 'signigic', 'signitur', 'sih', 'sik', 'sil3x', 'silenc', 'silent', 'silex', 'silhouett', 'silicon', 'silk', 'silki', 'sillder', 'silli', 'sillier', 'silliest', 'silly', 'sillyhard', 'silpat', 'silver', 'silverston', 'sim', 'sim10', 'sim7', 'simb', 'simbin', 'simcad', 'simciti', 'sime', 'simer', 'simialar', 'simian', 'simifi', 'similair', 'similar', 'similari', 'similarli', 'similiar', 'similiarli', 'simipl', 'siml', 'simlar', 'simlul', 'simmer', 'simmilair', 'simmilar', 'simpili', 'simpl', 'simplekeyboard', 'simplement', 'simpler', 'simplesment', 'simplest', 'simpleton', 'simpley', 'simplfi', 'simpli', 'simplic', 'simplif', 'simplifi', 'simplifiy', 'simplis', 'simplist', 'simplul', 'simplyfi', 'simpson', 'simrac', 'simracingsystem', 'simril', 'simualtor', 'simul', 'simular', 'simulat', 'simulator10', 'simulator2012', 'simulatorfor', 'simulatori', 'simulatorit', 'simulatorth', 'simulatorthi', 'simulatorwait', 'simulazion', 'simultan', 'simultana', 'simultatn', 'simultor', 'sin', 'sinbin', 'sinc', 'sincer', 'sincerli', 'sind', 'sinergi', 'sinew', 'sing', 'singapor', 'singaporian', 'singin', 'singl', 'singlehandedli', 'singleplay', 'singular', 'sinirlenm', 'sinist', 'sink', 'sinker', 'sinkhol', 'sinlg', 'sinn', 'sinth', 'sionist', 'sip', 'siquiera', 'sir', 'siren', 'siri', 'siriu', 'sista', 'sistah', 'sistem', 'sistema', 'sister', 'sit', 'site', 'sitll', 'sitrep', 'situat', 'situt', 'situtaion', 'six', 'sixfoot', 'sixteen', 'sixth', 'sixti', 'sizabl', 'size', 'size4', 'sizeabl', 'sizematchmak', 'się', 'sjcm', 'sjust', 'sk', 'skarl', 'skate', 'skateboard', 'skelaton', 'skeleton', 'skeletoni', 'skeletonsthey', 'skelli', 'skellington', 'skelton', 'skeptic', 'sketch', 'sketchi', 'skew', 'ski', 'skial', 'skid', 'skiesrush', 'skii', 'skil', 'skile', 'skilenton', 'skill', 'skillbas', 'skillful', 'skillgem', 'skillgo', 'skilll', 'skillllllllllllllllllzzzzzzzzzzzzzz', 'skillpoint', 'skillsaft', 'skillset', 'skillship', 'skillshot', 'skillshunt', 'skillsskil', 'skillstot', 'skillsyou', 'skilltre', 'skillz', 'skillzdemoman', 'skim', 'skimobil', 'skimpi', 'skin', 'skinless', 'skinner', 'skinni', 'skins7', 'skinsand', 'skinsgam', 'skinz', 'skip', 'skirmish', 'skirt', 'skittish', 'skll', 'skn', 'skol', 'skool', 'skooma', 'skow', 'skrew', 'skrim', 'skrub', 'skryim', 'skrypti', 'skt', 'skull', 'skulldugderi', 'skurmish', 'sky', 'skybox', 'skydiv', 'skyhawk', 'skylight', 'skylin', 'skype', 'skyrim', 'skyrocket', 'skysaga', 'skyscrap', 'sl', 'sl1pg8r', 'slab', 'slack', 'slaim', 'slain', 'slalti', 'slam', 'slang', 'slant', 'slap', 'slapp', 'slaptstick', 'slark', 'slash', 'slasher', 'slate', 'slaughter', 'slav', 'slave', 'slaveri', 'slavic', 'slavon', 'slay', 'sleaz', 'sleazi', 'sledg', 'sleek', 'sleep', 'sleep10', 'sleeper', 'sleepi', 'sleepless', 'sleev', 'sleezi', 'slender', 'slept', 'slew', 'sli', 'slice', 'sliced8', 'slick', 'slickbe', 'slicker', 'slid', 'slide', 'slider', 'slideshow', 'slighli', 'slighlti', 'slight', 'slighter', 'slightest', 'slighti', 'slightli', 'sligthli', 'slike', 'slim', 'slime', 'slimer', 'slimi', 'sling', 'slip', 'slipper', 'slipperi', 'slipshod', 'slit', 'slite', 'slitheri', 'slog', 'sloggin', 'sloid', 'slope', 'sloppi', 'sloppier', 'sloppili', 'slot', 'slotmachin', 'slotshasn', 'slotsregenr', 'slovak', 'slow', 'slower', 'slowest', 'slowish', 'slowli', 'slowlyi', 'slowmo', 'slowmot', 'slowpac', 'slowpaceworth', 'slug', 'sluggish', 'slur', 'slušně', 'slyther', 'sm', 'sm4sh', 'smack', 'smackaroo', 'smackdown', 'smacktalk', 'smaler', 'smalest', 'small', 'small2', 'smaller', 'smallest', 'smart', 'smarten', 'smarter', 'smartest', 'smartli', 'smartphon', 'smash', 'smashbro', 'smasher', 'smashi', 'smashingli', 'smashmuck', 'smb4', 'smear', 'smed', 'smedley', 'smell', 'smelli', 'smelt', 'smesh', 'smexi', 'smfh', 'smg', 'smh', 'smidgen', 'smile', 'smirk', 'smissma', 'smissmass', 'smite', 'smite2', 'smitefir', 'smiteguru', 'smith', 'smoke', 'smokebomb', 'smoker', 'smooth', 'smoothen', 'smoother', 'smoothest', 'smoothi', 'smoothli', 'smoothlyonli', 'smoothlyunderstand', 'smoothwhen', 'smootli', 'smorc', 'smosh', 'smoth', 'smother', 'smt', 'smth', 'smucker', 'smug', 'smugbut', 'smuggl', 'smurf', 'smurph', 'snack', 'snacker', 'snag', 'snail', 'snake', 'snakebit', 'snap', 'snapmap', 'snappi', 'snapshot', 'snare', 'snatch', 'snazz', 'snazzi', 'snažít', 'snd', 'sneak', 'sneaki', 'sneakili', 'sneakyboi', 'sneed', 'sneevil', 'snicker', 'snif', 'snifter', 'snipa', 'snipe', 'sniper', 'snipersstacksrandom', 'snipper', 'snl', 'snorefest', 'snot', 'snow', 'snowbal', 'snowboard', 'snowboardgliderawesom', 'snowboardpro', 'snowboardssatisfi', 'snowbord', 'snowbrawl', 'snowflak', 'snowi', 'snowlak', 'snowli', 'snowmobil', 'snowoard', 'snowplow', 'snowsho', 'snowstorm', 'snub', 'snuff', 'so', 'soak', 'soap', 'soar', 'sob', 'sobek', 'sober', 'socail', 'soccer', 'sociabl', 'social', 'socialis', 'societi', 'sociopathi', 'sock', 'socket', 'socketz', 'sod', 'soda', 'soda1', 'sodlife4ev', 'sodoku', 'soe', 'soem', 'soemth', 'soemthign', 'soemwhat', 'sofar', 'sofern', 'sofist', 'soft', 'softcor', 'soften', 'softer', 'softwar', 'softwareif', 'softwer', 'softworksth', 'sogomonian', 'sohonestli', 'soil', 'soild', 'sol', 'solac', 'solar', 'sold', 'soldi', 'soldier', 'soldier39', 'soldierunlimit', 'soldifi', 'soldir', 'sole', 'soley', 'solicit', 'solid', 'solidar', 'solidifi', 'solidli', 'soliloquy', 'solitair', 'solitar', 'solitari', 'solli', 'solo', 'soloabl', 'solong', 'solospiel', 'soludur', 'solut', 'solv', 'solver', 'som', 'somalia', 'somalian', 'somani', 'some', 'somebodi', 'someday', 'someh', 'somehow', 'somen', 'soment', 'someon', 'somepart', 'someplac', 'someplace7', 'somesort', 'somet', 'someteim', 'someth', 'somethign', 'somethingn', 'somethingth', 'somethingy', 'somethng', 'sometiem', 'sometihng', 'sometim', 'sometimescon', 'sometnig', 'someway', 'somewhat', 'somewher', 'somput', 'somth', 'somtim', 'son', 'sonar', 'sond', 'sondern', 'sonetim', 'soney', 'song', 'songwrit', 'soni', 'sonic', 'sono', 'sonrası', 'sont', 'soo', 'soom', 'soon', 'soon10', 'soonb', 'sooner', 'soonish', 'soonoth', 'soonoveral', 'soonpros1', 'soonr', 'sooo', 'soooo', 'sooooo', 'sooooo80', 'soooooo', 'sooooooo', 'soooooooo', 'sooooooooo', 'soooooooooo', 'sooooooooooo', 'soooooooooooooooooo', 'soooooooooooooooooooooooooooooooooooooooooooooooooooo', 'sooorta', 'sooth', 'sophis', 'sophist', 'sophmor', 'sopratutto', 'soprta', 'sorcer', 'sore', 'soresnow', 'sorri', 'sorround', 'sorrow', 'sorrynotsorri', 'sort', 'sorta', 'sorti', 'soruc', 'sotri', 'sou', 'sought', 'soul', 'soulbound', 'soulcrush', 'sould', 'soulgem', 'souli', 'soulless', 'soulon', 'soulsbusi', 'soulshard', 'soulston', 'soultrap', 'soulweav', 'sound', 'sound3', 'soundcon', 'sounddesign', 'soundfx', 'soundgasm', 'soundscap', 'soundsgreat', 'soundsreal', 'soundsteep', 'soundtrack', 'sountrack', 'soup', 'souper', 'sour', 'sourc', 'sourdough', 'south', 'southeast', 'southern', 'soution', 'souvent', 'sovereign', 'sovereignti', 'soverign', 'soverignti', 'sovetuyu', 'soviet', 'soviet_air_forc', 'soviets3', 'sovirenti', 'sovreignti', 'sovrekt', 'sow', 'soy', 'sp', 'sp00ki', 'sp00ped', 'sp1intel', 'spa', 'spaa', 'spaaaaaaaaaaaaaaaac', 'space', 'space3', 'spacebar', 'spaceboat', 'spacecon', 'spacecraft', 'spaceflight', 'spacehulk', 'spacei', 'spacepremium', 'spaceship', 'spaceships11', 'spaceshipsbalanc', 'spaceshipscom', 'spaceshipscon', 'spaceshipslarg', 'spaceshipsteamwork', 'spacest', 'spaceyyy', 'spaci', 'spacian', 'spacif', 'spaciou', 'spade', 'spaend', 'spaghetti', 'spai', 'spain', 'spam', 'spamabl', 'spambot', 'spame', 'spammabl', 'spammer', 'spammerseveri', 'spammerspeopl', 'spammersstil', 'spammi', 'span', 'spandex', 'spanish', 'spank', 'spar', 'sparc', 'sparco', 'spare', 'sparingli', 'spark', 'sparki', 'sparkl', 'sparkli', 'sparkyp', 'spars', 'spartan', 'spase', 'spat', 'spatial', 'spatula', 'spaw', 'spawn', 'spawncamp', 'spawner', 'spawnkil', 'spawnpoint', 'spawnstep', 'spaz', 'spazz', 'spazzi', 'spaß', 'spc', 'spd', 'speacial', 'speadsheet', 'speak', 'speaker', 'spear', 'spearhead', 'spec', 'specal', 'specfic', 'speci', 'special', 'special6', 'specialforc', 'speciali', 'specialis', 'specialist', 'specialitek', 'specialti', 'specif', 'specifci', 'specifec', 'specifi', 'specifică', 'specil', 'specilis', 'specimen', 'speciments6', 'speciminesoveral', 'speciou', 'speck', 'spectacl', 'spectactular', 'spectacular', 'spectacularli', 'spectacularlycontrol', 'spectat', 'spectic', 'spectr', 'spectrum', 'specturm', 'specul', 'sped', 'spedzic', 'speech', 'speecheveri', 'speechless', 'speed', 'speedcampathsadd', 'speedi', 'speedreason', 'speedrun', 'speedup', 'speen', 'speical', 'spel', 'spelen', 'spell', 'spellbomb', 'spellweav', 'spelt', 'spelunk', 'spencer', 'spend', 'spendand', 'spender', 'spendercan', 'spent', 'sperat', 'spero', 'spesif', 'speso', 'spet', 'spetani', 'spew', 'speziel', 'spha', 'sphere', 'sphincterless', 'sphinx', 'sphj', 'spi', 'spice', 'spici', 'spicimen', 'spider', 'spiel', 'spielen', 'spieler', 'spielern', 'spielst', 'spielstil', 'spike', 'spikeanyway', 'spikebal', 'spikesth', 'spikey', 'spill', 'spin', 'spine', 'spinebut', 'spinner', 'spinni', 'spinup', 'spiral', 'spirit', 'spiritu', 'spit', 'spite', 'spitfir', 'spitt', 'splash', 'splashi', 'splatoon', 'splatter', 'splattergun', 'splattermod', 'splendid', 'splendidli', 'splendidrecommend', 'splendind', 'splendor', 'split', 'splite', 'splitpush', 'splunk', 'splurg', 'splurt', 'spo0k', 'spoakead', 'spock', 'spoil', 'spoiler', 'spoileri', 'spoilt', 'spoke', 'spoken', 'spoko', 'spolier', 'spolupracovat', 'spong', 'spongebob', 'sponser', 'sponsor', 'spontan', 'spontani', 'spoof', 'spook', 'spooked8', 'spooki', 'spookier', 'spookiest', 'spooky', 'spookyday', 'spookyer', 'spookyit', 'spookyl', 'spookyscar', 'spookyspooki', 'spookyspoopi', 'spoon', 'spoop', 'spoopi', 'spoopyni', 'spoora', 'sporad', 'sport', 'sportiv', 'sportsmanship', 'spot', 'spotifi', 'spotlight', 'spottedi', 'spotter', 'spotti', 'spoustu', 'spout', 'spowalniającą', 'spp', 'sprawl', 'spray', 'sprayingâ', 'spre', 'spread', 'spreadsheet', 'spreadsweet', 'spree', 'spri', 'sprig', 'sprightli', 'spring', 'springfield', 'springform', 'sprinkl', 'sprint', 'sprite', 'sprout', 'spruce', 'spsecial', 'spu', 'spulli', 'spun', 'spune', 'spunk', 'spurt', 'sputter', 'spycrab', 'spyro', 'spywar', 'später', 'sq', 'sqad', 'sqaud', 'sqaudron', 'sqhishi', 'squad', 'squadfre', 'squadlead', 'squadmat', 'squadron', 'squadronsmov', 'squadscon', 'squadsnegativ', 'squadthrow', 'squar', 'squard', 'squardern', 'squash', 'squat', 'squeak', 'squeaker', 'squeal', 'squeeker', 'squeez', 'squelch', 'squid', 'squinti', 'squir', 'squirel', 'squirrel', 'squirrels3', 'squirrl', 'squish', 'squishi', 'sr', 'sr47', 'sr9', 'srat', 'sray', 'srealli', 'sri', 'sroll', 'srpg', 'srri', 'srsli', 'ss', 'ssb', 'ssb4', 'ssbb', 'ssbmele', 'ssd', 'sse', 'ssental', 'ssf', 'sshutdown', 'ssi', 'sss', 'sssydney', 'sstrengthperceptionendurancecharismainteligenceagilityluckif', 'ssx', 'st', 'st8', 'staaten', 'stab', 'stabal', 'stabil', 'stabl', 'stach', 'stack', 'stacker', 'stadium', 'staff', 'staffmani', 'stag', 'stage', 'stageslot', 'stagger', 'staggeringli', 'stagnant', 'stagnat', 'stahp', 'stai', 'stain', 'stair', 'stake', 'stalactit', 'stale', 'stalem', 'stalin', 'stalingrad', 'stalinwood', 'stalk', 'stalker', 'stall', 'stalowom', 'stamana', 'stamina', 'stamped', 'stanag', 'stanalon', 'stanc', 'stand', 'standalon', 'standaloneanywaysthi', 'standard', 'standardis', 'standart', 'standartgameplay', 'stander', 'standerd', 'standoff', 'standout', 'standpoint', 'standstil', 'stanith', 'stap', 'stapl', 'star', 'staralway', 'starboard', 'starbound', 'starbuck', 'starcraft', 'stare', 'starfleet', 'stark', 'starmad', 'staroy', 'starship', 'starsi', 'starsieg', 'starstorm', 'start', 'startdownload', 'startedcon', 'startedit', 'startegi', 'starter', 'startership', 'startet', 'startinga', 'startingproblem', 'startl', 'startnot', 'startrek', 'startup', 'starv', 'starver', 'starwar', 'stash', 'stashtab', 'stat', 'state', 'stateanyway', 'stategi', 'statement', 'stati', 'static', 'statict', 'staticyattack', 'station', 'stationagil', 'stationari', 'statisfactori', 'statisfi', 'statisit', 'statist', 'statisticsalso', 'statschang', 'statsh', 'statshunt', 'statu', 'stave', 'staví', 'staw', 'stay', 'stay2nd', 'stead', 'steadi', 'steadier', 'steadili', 'steak', 'steal', 'stealth', 'stealther', 'stealthi', 'stealthili', 'steam', 'steamapp', 'steamchart', 'steamcommun', 'steamdb', 'steamearli', 'steamer', 'steamget', 'steamhappi', 'steampay', 'steampow', 'steampro', 'steampunk', 'steamrol', 'steamthi', 'steamusercont', 'steap', 'steav', 'stee', 'steed', 'steel', 'steep', 'steeper', 'steepest', 'steer', 'steil', 'steilen', 'stein', 'stejně', 'stellar', 'stellari', 'stem', 'stength', 'step', 'stere', 'stereo', 'stereotyp', 'stereotypesb', 'sterf', 'steril', 'steriod', 'steriotyp', 'sterl', 'steroid', 'steve', 'stew', 'steyr50', 'stfu', 'sth', 'sthat', 'sthe', 'stick', 'sticker', 'sticki', 'stickier', 'stickman', 'stickybomb', 'stiff', 'stiffi', 'stigma', 'stike', 'stil', 'stile', 'still', 'stillborn', 'stilll', 'stillâ', 'stilul', 'stim', 'stimpack', 'stimpak', 'stimul', 'sting', 'stinger', 'stingi', 'stink', 'stinki', 'stint', 'stir', 'stirrer', 'stll', 'stlye', 'sto', 'stock', 'stockholm', 'stockpil', 'stoic', 'stoją', 'stoke', 'stole', 'stolen', 'stomach', 'stomp', 'stomper', 'stone', 'stonehearth', 'stong', 'stood', 'stool', 'stoop', 'stop', 'stope', 'stopper', 'stopwatch', 'storag', 'store', 'storecon', 'storeeaaam', 'storefront', 'storepag', 'storeud', 'stori', 'storia', 'storm', 'storm2', 'stormblood', 'stormi', 'stormsurg', 'storyafford', 'storylin', 'storylinebesid', 'storylineso', 'storymod', 'storytel', 'storytim', 'storyw', 'storywhen', 'storywis', 'storyâ', 'stove', 'stow', 'stracic', 'strada', 'straddl', 'stradegi', 'strafe', 'stragegi', 'strageti', 'straggler', 'straif', 'straighforward', 'straight', 'straightaway', 'straightforward', 'straightmad', 'straigthforward', 'strain', 'strainer', 'strait', 'strand', 'strang', 'stranger', 'stranglethorn', 'strangth', 'stranieri', 'strano', 'strap', 'strat', 'stratagi', 'strateg', 'strategi', 'strategic', 'strategicli', 'strategist', 'strategyc', 'stratergi', 'stratgey', 'stratic', 'stratifi', 'stratig', 'stratigi', 'stratospher', 'straw', 'stray', 'streak', 'streakspeci', 'stream', 'streambook', 'streamer', 'streamlin', 'streamling', 'streckenweis', 'stree', 'street', 'streight', 'strenght', 'strength', 'strengthcharismagreat', 'strengthcharismar', 'strengthdexterityhunt', 'strengthen', 'strengthsecondari', 'stress', 'stressi', 'stretch', 'strict', 'stricter', 'strictli', 'stride', 'strife', 'stright', 'strike', 'strikeout', 'strikeouta', 'striker', 'strikerprimari', 'string', 'strip', 'stripe', 'stripper', 'strive', 'striveto', 'strm', 'stroke', 'stroll', 'strong', 'stronger', 'strongest', 'stronghold', 'strongli', 'stronk', 'strooonk', 'strt', 'strtaegi', 'struck', 'structur', 'strucutur', 'struff', 'struggl', 'strut', 'stuart', 'stubbi', 'stubbl', 'stubborn', 'stuck', 'stuckwhat', 'studder', 'stude', 'student', 'studi', 'studio', 'studiosplatform', 'stuf', 'stufe', 'stuff', 'stuffasid', 'stuffi', 'stuffor', 'stuffth', 'stug', 'stuipd', 'stull', 'stumbl', 'stump', 'stumpi', 'stumpl', 'stun', 'stung', 'stunlock', 'stunner', 'stunnibg', 'stunningli', 'stunt', 'stupenda', 'stupid', 'stupidest', 'stupidli', 'stupuid', 'sturdi', 'sturmovik', 'stutter', 'stviy', 'stxofdark', 'styaliz', 'styczności', 'styl', 'style', 'style2008', 'stylegreat', 'stylein', 'stylelik', 'styleplay', 'stylescon', 'styleth', 'styli', 'stylis', 'stylish', 'styliz', 'stylu', 'střílet', 'su', 'su25', 'su25t', 'su27', 'sua', 'sub', 'subaround', 'subcipt', 'subclass', 'subcript', 'subcultur', 'subdu', 'suberb', 'subforum', 'subiendo', 'subir', 'subject', 'subl', 'sublim', 'submachin', 'submachinegun', 'submachingun', 'submachun', 'submarin', 'submerg', 'submiss', 'submit', 'suboptim', 'subpar', 'subreddit', 'subscrib', 'subscribt', 'subscript', 'subsent', 'subsequ', 'subsid', 'subsidis', 'subson', 'subspeci', 'subsribt', 'subsript', 'substanc', 'substanti', 'substep', 'substiotut', 'substitut', 'subtitl', 'subtl', 'subtley', 'subtli', 'subtract', 'suburb', 'suburban', 'subvert', 'subway', 'suc', 'succ', 'succe', 'succed', 'succeed', 'succes', 'succesful', 'success', 'successful', 'successor', 'succse', 'succumb', 'suce', 'suceess', 'sucept', 'sucess', 'sucessful', 'sucessor', 'such', 'suchen', 'sucid', 'suck', 'sucker', 'sucki', 'sucksâ', 'sudden', 'suddenli', 'suddenlylevel60strat', 'suddent', 'suden', 'sudoku', 'sue', 'suert', 'sufac', 'suff', 'suffer', 'suffic', 'suffici', 'suffix', 'sugar', 'sugar1', 'sugar2', 'sugar3', 'sugar4', 'sugari', 'sugest', 'suggest', 'suggestionfirst', 'suggust', 'sugosemashita', 'sui', 'suicid', 'suicidart', 'suijin', 'suit', 'suitabl', 'suituat', 'suk', 'suka', 'sulaco', 'sulk', 'sulli', 'sulut', 'sum', 'sumado', 'sumat', 'summ', 'summar', 'summari', 'summaris', 'summaryfrom', 'summer', 'summon', 'summonm', 'sumo', 'sumt', 'sun', 'sunbath', 'sunbeam', 'sunday', 'sunder', 'sunderr', 'sundi', 'sunflow', 'sunglass', 'sunk', 'sunlight', 'sunni', 'sunniest', 'sunris', 'sunset', 'sunshin', 'sunt', 'sunway', 'suoi', 'supder', 'super', 'superb', 'superbl', 'superbomb', 'supercomput', 'superfici', 'superflu', 'superfortress', 'superfre', 'superhardcorepvpmustwin', 'superhero', 'superhuman', 'superior', 'superiorli', 'superiour', 'superl', 'superlas', 'superlift', 'superman', 'supermaneuver', 'supermonkey', 'supernova', 'superp', 'superpow', 'supersampl', 'supersecret', 'supersmash', 'supervis', 'supgiovoqd4thi', 'supo', 'supongo', 'suport', 'supos', 'suposedli', 'suposs', 'supper', 'supplant', 'supplement', 'suppli', 'supplier', 'suppo', 'support', 'support3', 'supportcon', 'supportedit', 'supportthes', 'suppos', 'supposedli', 'supposs', 'suppousedli', 'suppr', 'suppress', 'suppressor', 'suppris', 'supprisingli', 'supprot', 'supr', 'suprem', 'supremaci', 'supremeci', 'supress', 'suprimaci', 'supris', 'suprisingli', 'supriz', 'suprizingli', 'suqmydik45', 'sur', 'sure', 'surefir', 'sureh', 'surew', 'surf', 'surfac', 'surg', 'surgeon', 'surgic', 'surivor', 'surli', 'suround', 'surpas', 'surpass', 'surpirs', 'surpis', 'surpisingli', 'surplu', 'surpport', 'surpress', 'surpressor', 'surpris', 'surprisingli', 'surpriz', 'surprizingli', 'surprsingli', 'surreal', 'surrealist', 'surrend', 'surround', 'surroundingand', 'surroundingpay2win', 'surtout', 'survey', 'surviv', 'survivalist', 'survive3', 'survivegam', 'survivor', 'suscept', 'suspciou', 'suspect', 'suspens', 'suspent', 'suspic', 'suspici', 'sussess', 'sustain', 'sustan', 'suuunnn', 'suvey', 'suviv', 'sux', 'suxdemon', 'suxx', 'sv', 'svdrealiz', 'sven', 'sveri', 'svt', 'sw', 'swag', 'swagheadshot', 'swaheeli', 'swallow', 'swamp', 'swamp4', 'swamplik', 'swank', 'swap', 'swape', 'swarm', 'swastikascon', 'swat', 'swath', 'swatsec', 'sway', 'swear', 'sweat', 'sweati', 'sweatiest', 'sweep', 'sweet', 'sweeti', 'sweetlyy', 'swegdulfin', 'swell', 'swept', 'swerv', 'swhitch', 'swift', 'swiftli', 'swill', 'swim', 'swimclub', 'swimmin', 'swindler', 'swing', 'swingabl', 'swingi', 'swipe', 'swirl', 'swiss', 'switch', 'swith', 'swithc', 'swivel', 'swole', 'swollen', 'swoop', 'sword', 'swordev', 'swordget', 'swordrena', 'swordsman', 'swore', 'swtich', 'swtor', 'swung', 'sy', 'sya', 'sydney', 'syfi', 'syle', 'syllabl', 'symbiot', 'symbol', 'symbolog', 'symetra', 'symmetr', 'symmetri', 'sympathi', 'symphoni', 'sympl', 'symptom', 'synapsestep', 'sync', 'synchro', 'synchron', 'synchronis', 'syncop', 'syncron', 'syncronis', 'syndrom', 'synerg', 'synerget', 'synergi', 'synic', 'synonym', 'synopsi', 'synthet', 'syou', 'syr', 'syring', 'syringegun', 'syru', 'syrupwith', 'sysrtem', 'system', 'system2', 'system3', 'system32', 'systema', 'systemalso', 'systemalsow', 'systemat', 'systemboatsther', 'systemcon', 'systemconsnew', 'systemconssubject', 'systemfirst', 'systemfunni', 'systemoveral', 'systempretti', 'systemrequir', 'systemshoot', 'systemth', 'systemunderstandableect', 'systemuniqu', 'systemupd', 'systemy', 'sytem', 'syth', 'sytl', 'szczególną', 'szkoda', 'szybko', 'sã', 'sã³lo', 'süper', 'să', 'sнiт', 't0', 't1', 't10', 't12', 't13', 't150', 't16000m', 't1cycler', 't2', 't20', 't28', 't29', 't29p9x5yguc', 't3', 't300', 't34', 't5', 't500r', 't54', 't55tesaqqhestep', 't6', 't7', 't74ogeverquest', 't95', 't_t', 't_t4', 'ta', 'tab', 'tababl', 'tabe', 'tabg', 'tabl', 'tableget', 'tablespoon', 'tablet', 'tabletop', 'taboo', 'tabula', 'tabuleiro', 'tac', 'tachanka', 'tacitc', 'tack', 'tacki', 'tackl', 'taco', 'tact', 'tactial', 'tactic', 'tacticaltroop', 'tactician', 'tacticl', 'tacticli', 'tactict', 'tactiqu', 'tactless', 'tad', 'tag', 'tagalog', 'tage', 'taget', 'taht', 'tail', 'tailgat', 'tailor', 'tailpip', 'tain', 'taiwanes', 'tak', 'taka', 'takahashi', 'take', 'takeaway', 'takedown', 'taken', 'takeoff', 'takeoffy', 'takeov', 'taker', 'takeyo', 'takken', 'taktic', 'taktisch', 'taktizovat', 'takż', 'talamoana', 'tale', 'talent', 'talk', 'talker', 'tall', 'tallest', 'talli', 'talon', 'tam', 'tamabl', 'tamahawk', 'tambien', 'também', 'tame', 'tameabl', 'tamer', 'tamer10', 'tamimg', 'tamingy', 'tampoco', 'tamriel', 'tan', 'tanara', 'tandem', 'tandum', 'tangabl', 'tangi', 'tangibl', 'tangina', 'tango', 'tank', 'tankbattl', 'tankdriv', 'tankenstein', 'tanker', 'tanki', 'tankier', 'tankmen', 'tankpoint', 'tanks', 'tanks10', 'tanks5', 'tanksbut', 'tanksdown', 'tanksjupit', 'tankupd', 'tanoshi', 'tanoshiku', 'tansfer', 'tanti', 'tanto', 'tantrum', 'tanya', 'tap', 'tape', 'tapestri', 'tapjoy', 'tapshoot', 'tar', 'taramind', 'tarantino', 'targert', 'target', 'targetfind', 'targit', 'taric', 'tarmac', 'tarnish', 'tarsila', 'tart', 'tartera', 'task', 'taskless', 'taskmast', 'tast', 'taster', 'tasti', 'tastic', 'tastless', 'tatic', 'tattico', 'tattoo', 'taught', 'taunt', 'tauntemb', 'tauntsmicrophon', 'tauntsth', 'tauntsummon', 'tavern', 'tavrod', 'tavsiy', 'tax', 'taxi', 'taxiderm', 'taylor', 'tazmanian', 'tb', 'tbecontroledbyyourwalletfeqsometh', 'tbf', 'tbh', 'tbsp', 'tc', 'tcc', 'tcg', 'tcgsfun', 'tchoff', 'tchoffo', 'td', 'tdgameclub', 'tdgameclubtd', 'tdlr', 'tdm', 'te', 'tea', 'teabag', 'teacer', 'teach', 'teacher', 'teak', 'teal', 'team', 'team2', 'teamamt', 'teamat', 'teambal', 'teambas', 'teambruh', 'teambut', 'teamcon', 'teamfight', 'teamfir', 'teamfortress', 'teamfortress2', 'teaminteressen', 'teamkil', 'teammad', 'teammat', 'teammate', 'teammatesget', 'teammatesmed', 'teammatessnip', 'teamnew', 'teamplay', 'teamrahmen', 'teamsdis', 'teamspeak', 'teamu', 'teamweak', 'teamwork', 'teanwork', 'teao', 'tear', 'tearin', 'teas', 'teaser', 'teaspoon', 'teawork', 'tec', 'tech', 'techdemo', 'techi', 'techiniqu', 'techinqu', 'technequ', 'technic', 'technich', 'technicolor', 'techniqu', 'techno', 'technolog', 'technologyinterest', 'tecinian', 'tecnhic', 'tecton', 'tediou', 'tedious', 'tediu', 'tee', 'teem', 'teen', 'teenag', 'teeni', 'teenso', 'teeth', 'teh', 'tehi', 'tehn', 'teir', 'tej', 'teki', 'tekken', 'tekkit', 'tel', 'telecabin', 'telefrag', 'telemetri', 'teleoprt', 'telephon', 'teleport', 'teleporterd', 'teleportingguy', 'teleportston', 'telepã', 'telepôrt', 'telergraph', 'telescop', 'tell', 'tellin', 'tellingpay', 'telltal', 'telport', 'telvani', 'tem', 'tema', 'tematu', 'temp', 'temper', 'temperari', 'temperatur', 'temperment', 'tempertur', 'templ', 'templar', 'templat', 'tempo', 'tempor', 'temporari', 'temporarili', 'tempt', 'temptat', 'ten', 'tenaciousboringdogedansgam', 'tencent', 'tend', 'tendanc', 'tendeci', 'tendenc', 'tender', 'tendon', 'tenec', 'tener', 'tenfold', 'tenga', 'tengo', 'tenk', 'tennagerscon', 'tenner', 'tenno', 'tens', 'tenshiharu', 'tension', 'tent', 'tentacl', 'tenth', 'tentit', 'teqniqu', 'ter', 'tera', 'teralu', 'teran', 'tere', 'term', 'termin', 'terminator10', 'termini', 'terminolog', 'tern', 'tero', 'terra', 'terrabyt', 'terraform', 'terrain', 'terrainrepubl', 'terran', 'terraria', 'terrarium', 'terratech', 'terratori', 'terren', 'terria', 'terribili', 'terribl', 'terrible9', 'terriblequitscriesgo', 'terrif', 'terrifi', 'terriotri', 'territori', 'terror', 'terrorist', 'terttent', 'tes6', 'tesco', 'tesl', 'teso', 'test', 'testabl', 'testament', 'testdriveunlimit', 'tester', 'testic', 'testicl', 'testicular', 'testifi', 'testimont', 'testinga', 'testosteron', 'tetiu', 'tetri', 'teuer', 'teufort', 'teur', 'texa', 'texan', 'text', 'textbind', 'textbook', 'textbox', 'textil', 'textur', 'textureswhat', 'tf', 'tf2', 'tf24', 'tf2center', 'tf2outpost', 'tf2user', 'tf2ware', 'tfui_zf8pey', 'tfw', 'tg', 'tg8xcwnou_q', 'tga', 'tgc', 'tghe', 'tgo', 'tgoi4liircu', 'th', 'th8', 'th8r', 'tha', 'thae', 'thag', 'thagnu', 'thai', 'thailand', 'tham', 'than', 'thanato', 'thanbk', 'thang', 'thangsplu', 'thank', 'thankfuli', 'thanksfinleyyyyyyyyyyyyyyyyyyyyyyyyyyyyyyyyyyyyyyyyyyyyyyyyyyyyyyyyyyyyyyyyyyyyyyyyyyyyyyyyyyyyyyyyyyyyyyyyyyyyyyyyyyyyyyyyyyyyyyyyyyyyyyyyyyyyyyyyyyyyyyyyyyyyyyyyyyyyyyyyyyyyyyyyyyyyyyyyyyyyyyyyyboi', 'thanksgiv', 'thanksrotti', 'thankyou', 'thare', 'that', 'thatch', 'thatconsmilitari', 'thatday', 'thate', 'thatedit', 'thatguyujustmet', 'thati', 'thatll', 'thatn', 'thatâ', 'thaw', 'thawed5', 'thay', 'thc', 'the', 'theater', 'theatr', 'thebest', 'thebett', 'thed', 'thedevelop', 'thee', 'theeasi', 'thees', 'theft', 'thehunt', 'thehunterwiki', 'thei', 'their', 'theit', 'theiv', 'thekunz11', 'them', 'them3', 'thema', 'themair', 'themat', 'themdespit', 'theme', 'themedeck', 'themegreat', 'themepark', 'themeself', 'themightyjingl', 'themin', 'themov', 'themp', 'themself', 'themselfv', 'themselv', 'themselve', 'themspeci', 'themthey', 'themwith', 'themyou', 'then', 'thene', 'thenmostli', 'thennn', 'theo', 'theocraci', 'theorangedoom', 'theoret', 'theoreticli', 'theori', 'theorit', 'theorycraft', 'ther', 'therapi', 'theraput', 'there', 'therefor', 'therein', 'theremor', 'thereof', 'theret', 'thereâ', 'therfor', 'theri', 'these', 'theski', 'thet', 'thetyp', 'they', 'theyd', 'theyll', 'theynev', 'theyr', 'theyv', 'theyâ', 'thez', 'theâ', 'thi', 'thick', 'thicken', 'thief', 'thier', 'thig', 'thigh', 'thign', 'thii', 'thimbl', 'thin', 'thing', 'thingi', 'thingo', 'things1', 'thingsalso', 'thingsbut', 'thingsbuy', 'thingskillingli', 'thingsth', 'thingswork', 'thingto', 'think', 'think4', 'think5', 'thinker', 'thinkg', 'thinli', 'thio', 'thir', 'third', 'thirdperson', 'thirst', 'thirsti', 'thirteenth', 'thirti', 'this5', 'thisalso', 'thisbut', 'thisc', 'thiscon', 'thisdont', 'thisg', 'thisit', 'thislov', 'thismi', 'thisnot', 'thisp', 'thisplay', 'thiss', 'thisssxd', 'thisthi', 'thiswhen', 'thisâ', 'thje', 'thji', 'thnak', 'thnk', 'thnx', 'tho', 'tho1', 'tholook', 'thoma', 'thompson', 'thon', 'thoos', 'thor', 'thorax', 'thorni', 'thorough', 'thoroughli', 'thorugh', 'those', 'thottl', 'thou', 'thoug', 'though', 'thoughi', 'thoughout', 'thought', 'thoughtpiec', 'thoughtsaft', 'thoughtseiz', 'thoughtssmit', 'thougth', 'thouight', 'thouroughli', 'thous', 'thousand', 'thousent', 'thoustand', 'thow', 'thr', 'thrash', 'thread', 'threadbar', 'threat', 'threaten', 'threateningli', 'three', 'threesom', 'threeth', 'threewil', 'threeword', 'threre', 'threw', 'thrifti', 'thriftier', 'thrill', 'thriller', 'thrive', 'throat', 'throb', 'throne', 'throroughli', 'throtl', 'throttl', 'throue', 'through', 'throughcon', 'throughout', 'throught', 'througt', 'throw', 'throwabl', 'throwback', 'thrower', 'thrown', 'thru', 'thrusmast', 'thrust', 'thruster', 'thrustmast', 'thsi', 'thsoe', 'thst', 'thu', 'thud', 'thug', 'thui', 'thumb', 'thumbin', 'thump', 'thumper', 'thunder', 'thunderaft', 'thunderchief', 'thunderhttp', 'thunderjet', 'thunderstorm', 'thunderstreak', 'thunderstuck', 'thunderのプレイヤー', 'thurough', 'thuroughli', 'thursday', 'thurst', 'thusday', 'thusfar', 'thusli', 'thx', 'ti', 'ti13', 'ti14', 'ti16', 'ti6', 'ti7', 'tiananmen', 'tiananmen_square_protests_of_1989th', 'tibet', 'tibi', 'tick', 'ticket', 'tickl', 'tickrat', 'tid', 'tidal', 'tidbit', 'tiddi', 'tide', 'tidehunt', 'tideou', 'tidi', 'tie', 'tiefen', 'tiem', 'tien', 'tier', 'tiermonst', 'tig', 'tiger', 'tigerdragon64', 'tight', 'tighten', 'tighter', 'tightli', 'tigsourc', 'tih', 'tihi', 'til', 'tile', 'till', 'tilt', 'tiltmachin', 'tim', 'time', 'time2', 'time3', 'time4', 'time7', 'timeand', 'timebut', 'timebuy', 'timecon', 'timeconclusionth', 'timeconstantli', 'timefram', 'timegametim', 'timehighli', 'timei', 'timeif', 'timeit', 'timekil', 'timeless', 'timelet', 'timelin', 'timemi', 'timenot', 'timenuclear', 'timepass', 'timer', 'timercon', 'times5', 'times7', 'timescalelow', 'timesgam', 'timesink', 'timesrandom', 'timesrequir', 'timestamp', 'timesth', 'timestop', 'timeth', 'timewast', 'timeweird', 'timey', 'timezon', 'timp', 'timstip', 'tin', 'ting', 'tingl', 'tini', 'tiniest', 'tinker', 'tinkl', 'tinleg', 'tint', 'tiom', 'tip', 'tipe', 'tipic', 'tipo', 'tipp', 'tir', 'tire', 'tiredy', 'tireless', 'tirelessli', 'tiresom', 'tiresqueel', 'tiri', 'tiro', 'tisk', 'tissu', 'tital', 'titan', 'titanfal', 'titanium', 'titen', 'titl', 'titular', 'tix', 'tiyler', 'tjhink', 'tjrsim', 'tjust', 'tk', 'tl', 'tldr', 'tload', 'tm', 'tme', 'tmie', 'tmra', 'tna', 'tnt', 'to', 'toa', 'toall', 'toasat', 'toast', 'toaster', 'toasterscon', 'toat', 'toatli', 'tobad', 'tobe', 'toch', 'tock', 'tocon', 'toda', 'todavia', 'today', 'todaychest', 'todaycurs', 'todo', 'toe', 'toenjoy', 'togeath', 'toget', 'togeth', 'together3', 'togetherconsther', 'toggl', 'toggleabl', 'togheth', 'togther', 'toheth', 'tohught', 'toil', 'toiler', 'toilet', 'tojborn', 'token', 'tokyo', 'told', 'toler', 'toll', 'toller', 'tolli', 'tolook', 'tom', 'tomarrow', 'tomato', 'tomatoes1', 'tomatoesdirectionscoat', 'tomb', 'tombston', 'tomcat', 'tomislav', 'tommi', 'tommorowit', 'tommrow', 'tomorrow', 'ton', 'tone', 'tonedown', 'tong', 'tongu', 'toni', 'tonight', 'tonk', 'tonla', 'tonmayb', 'tonn', 'tonnsss', 'tonsdefinit', 'tonz', 'too', 'too9', 'toodl', 'took', 'tooka', 'tooken', 'tool', 'toolkit', 'toolongtoread', 'tooltip', 'toon', 'tooo', 'toooh', 'tooon', 'toooo', 'toooon', 'tooooon', 'toor', 'toot', 'tooth', 'toothless', 'toothpick', 'tootip', 'top', 'topdeck', 'tope', 'topic', 'topographi', 'toppest', 'toppl', 'toqu', 'torch', 'torchligh', 'torchlight', 'torm', 'torment', 'tormenta', 'tormento', 'torn', 'tornado', 'torpedo', 'torso', 'tortilla', 'tortillas1', 'tortur', 'torturewhich', 'toruna', 'torward', 'torygg', 'toshiba', 'toss', 'tossici', 'tostick', 'tot', 'total', 'totali', 'totalitarian', 'tote', 'totem', 'toti', 'tottali', 'toucan', 'touch', 'touchdown', 'touchi', 'touchscreen', 'touchston', 'tough', 'tougher', 'toughest', 'tought', 'tounament', 'tour', 'tourament', 'tourch', 'tourenwagen', 'tourist', 'tournam', 'tournament', 'tournament6', 'tournem', 'tournement', 'tourney', 'touroughli', 'tout', 'touth', 'toutori', 'tow', 'toward', 'towarsd', 'towel', 'tower', 'towersand', 'town', 'townshend', 'townsso', 'towrd', 'toxcitiy', 'toxi', 'toxic', 'toxic3', 'toxiccon', 'toxicrequir', 'toy', 'toдayu', 'tp', 'tping', 'tpp', 'tr', 'traaaaaaash', 'trace', 'tracer', 'track', 'tracker', 'trackfind', 'trackhat', 'trackir', 'trackpack', 'trackscon', 'tracksth', 'traction', 'tradabl', 'tradable3', 'trade', 'tradeabl', 'tradebl', 'trademark', 'tradeoff', 'trader', 'tradeserv', 'tradeskil', 'tradeth', 'tradicion', 'trading600hour', 'tradingfun', 'tradit', 'traditionali', 'traditon', 'tradtion', 'traffic', 'tragedi', 'tragic', 'trail', 'trailblaz', 'trailcon', 'trailer', 'trailrunn', 'train', 'trainer', 'traing', 'trainig', 'trait', 'traitor', 'trajectori', 'trall', 'tram', 'tramend', 'trampl', 'tran', 'tranfer', 'traninig', 'tranquil', 'transact', 'transakt', 'transat', 'transcationssom', 'transcend', 'transcendent', 'transfar', 'transfer', 'transferr', 'transform', 'transforma', 'transfter', 'transfur', 'transisit', 'transit', 'translat', 'transmiss', 'transmut', 'transpar', 'transphob', 'transplant', 'transport', 'transportationand', 'transpos', 'trap', 'trapcard', 'trash', 'trashgam', 'trashi', 'trashtalk', 'traslat', 'trasnfer', 'trasnlat', 'traumat', 'travel', 'travelcon', 'travelit', 'travers', 'traves', 'tray', 'tread', 'treadmeal', 'treasur', 'treat', 'treati', 'treatment', 'treck', 'tree', 'treelet', 'treestand', 'treesult', 'treesveri', 'trek', 'trembl', 'tremed', 'tremend', 'tremunt', 'trench', 'trend', 'trenght', 'trensect', 'trepid', 'treshold', 'tress', 'treyarch', 'tri', 'triad', 'trial', 'trian', 'triangl', 'triangular', 'tribal', 'tribe', 'tribut', 'trick', 'tricki', 'trickiest', 'trickstab', 'trickster', 'trickyi', 'trickyin', 'trieed', 'trigger', 'trihard', 'triliear', 'trillion', 'trilloin', 'trim', 'triniti', 'trinket', 'triolgi', 'trion', 'trionworld', 'trip', 'tripl', 'triplea', 'tripod', 'trippi', 'trippin', 'trippl', 'tristan', 'triumph', 'triumphantli', 'trivia', 'trivial', 'trog', 'trojan', 'troll', 'troller', 'trollfac', 'trollhoovi', 'trollku', 'trollsyoung', 'trolol', 'tron', 'trood', 'troop', 'trooper', 'trooptransport', 'trope', 'trophi', 'trophyshot', 'tropi', 'tropp', 'troppo', 'trot', 'troubel', 'troubl', 'troublesom', 'trough', 'trounc', 'trout', 'trovano', 'trove', 'trovebas', 'trovei', 'trovian', 'trpl', 'trspectr', 'truck', 'truckah', 'trudg', 'true', 'trueli', 'trul', 'truley', 'truli', 'trulli', 'trulykush', 'trump', 'trunk', 'trunnion', 'trusedal', 'trust', 'trustedand', 'trusti', 'trustmast', 'truth', 'truuli', 'truyl', 'trwe', 'trybów', 'tryevolv', 'tryhard', 'tryhardz', 'tryi', 'tryif', 'tryingbi', 'tryng', 'tryupdat', 'tryyou', 'ts', 'tsar', 'tsuiyashita', 'tsw', 'tt', 'ttext', 'tthan', 'tthe', 'tti', 'ttk', 'ttttttttttttttuuuuuuuuuuuuuuu', 'tu', 'tu32cgosvr4http', 'tua', 'tuam', 'tube', 'tuber', 'tuberculosi', 'tuch', 'tuck', 'tueli', 'tuesday', 'tuff', 'tug', 'tuh', 'tumb', 'tumblebundl', 'tumblr', 'tumbsup', 'tun', 'tundra', 'tune', 'tuner', 'tunguska', 'tuning7', 'tunnel', 'tunner', 'tunr', 'tuo', 'tupac', 'turban', 'turbin', 'turbo', 'turbul', 'turd', 'turder', 'ture', 'turet', 'turf', 'turin', 'turismo', 'turismogood', 'turk', 'turkey', 'turki', 'turkish', 'turmoil', 'turn', 'turnaround', 'turnfight', 'turnoff', 'turnov', 'turori', 'turrain', 'turrent', 'turret', 'turretgermani', 'turretless', 'turtl', 'turtori', 'tusk', 'tussl', 'tut', 'tutor', 'tutori', 'tutoria', 'tutorialdivers', 'tutorialse', 'tutorialspric', 'tutrori', 'tutti', 'tutto', 'tutuori', 'tuturi', 'tv', 'tvoy', 'tvp', 'tvthey', 'tvůrci', 'twa', 'tweak', 'tweakabl', 'tweaker', 'tweaku', 'tweek', 'tweet', 'tweeti', 'twek', 'tweliv', 'twelth', 'twelv', 'twenti', 'twice', 'twich', 'twig', 'twilight', 'twiller', 'twilli', 'twin', 'twine', 'twing', 'twinkl', 'twist', 'twistingli', 'twitch', 'twitchand', 'twitchcon', 'twitchi', 'twitter', 'twix', 'two', 'twrick', 'tx', 'txt', 'ty', 'tycoon', 'tyhe', 'tyherr', 'tylko', 'tynon', 'typ', 'type', 'typeunoptimizedhard', 'typhoomerang', 'typhoon', 'typic', 'typical', 'typo', 'tyr', 'tyran', 'tyrann', 'tyrannasauru', 'tyranni', 'tyranno', 'tyrant', 'tyre', 'tyson', 'tätigkeit', 'tóngnián', 'týmů', 'tău', 'tą', 'u2', 'u4', 'u_m', 'uae', 'uav', 'uber', 'ubercharg', 'uberpan', 'ubisoft', 'ubt6y67un', 'uc9iyyh_mxx2tllz2akdfzyq', 'ucf', 'uciekać', 'uck', 'ucoz', 'ucz5bt8ssafzalp', 'udat', 'udder', 'udnerstand', 'udovol', 'udt', 'ue', 'ue3', 'ue4', 'uf', 'ufo', 'ugandan', 'ugc', 'ugh', 'ugh5', 'ugli', 'uglier', 'ugliest', 'uglyest', 'uglyther', 'uh', 'uhc', 'uhh', 'uhhhh', 'uhkjmp', 'uhm', 'ui', 'uio', 'uk', 'ukrain', 'ukrainian', 'ul', 'ulimit', 'ulit', 'ull', 'ullr', 'ulq', 'ult', 'ulti', 'ultim', 'ultima', 'ultimatley', 'ultimatli', 'ultimatumsurround', 'ultimit', 'ultimo', 'ultman', 'ultra', 'ultrarealist', 'ultraset', 'ultraviol', 'ultrawid', 'ului', 'um', 'uma', 'umfallen', 'umm', 'ummmmm', 'ump45get', 'umso', 'un', 'una', 'unabalanc', 'unabhängig', 'unabl', 'unaccept', 'unafraid', 'unapp', 'unappreci', 'unapreci', 'unarm', 'unatract', 'unatur', 'unauthent', 'unavai', 'unavail', 'unavoid', 'unawar', 'unbal', 'unbalac', 'unbalanc', 'unbalanced9', 'unbalancedi', 'unbalancednevertheless', 'unballanc', 'unban', 'unbear', 'unbeat', 'unbeliav', 'unbeliev', 'unbelievabley', 'unbelievebl', 'unbeliv', 'unbias', 'unbind', 'unbox', 'unbreak', 'unbuckl', 'uncaptivatingworst', 'uncensor', 'unceremoni', 'uncertainti', 'uncessari', 'unchang', 'unchart', 'uncheck', 'uncl', 'unclear', 'uncloak', 'uncomfort', 'uncommen', 'uncommon', 'uncommonli', 'uncompl', 'uncondit', 'unconsci', 'unconsi', 'uncontrol', 'unconvent', 'unconvention', 'uncool', 'uncount', 'uncov', 'uncraft', 'uncrat', 'uncrowd', 'uncultur', 'und', 'undead', 'undecid', 'undecor', 'undeni', 'under', 'underag', 'underappreci', 'underboob', 'underclock', 'undercov', 'underestim', 'underexpos', 'underfund', 'undergo', 'undergon', 'undergrond', 'underground', 'undergrowth', 'undergun', 'underli', 'undermin', 'underneat', 'underneath', 'underp', 'underperform', 'underplay', 'underpow', 'underpr', 'underpreform', 'underpressur', 'underr', 'underrepres', 'undersand', 'undersatnd', 'underslung', 'underst', 'understa', 'understaf', 'understamd', 'understand', 'understand2', 'understandingslightli', 'understat', 'understood', 'undertak', 'undertaken', 'undertal', 'undertand', 'undertun', 'underus', 'underutil', 'underwat', 'underway', 'underwear', 'underwhelm', 'underwhelmingoveral', 'underwood', 'underworld', 'undescrib', 'undescript', 'undeserv', 'undesrstand', 'undetect', 'undetermin', 'undevelop', 'undi', 'undisclos', 'undisput', 'undivid', 'undo', 'undon', 'undoubt', 'undoubtedli', 'undress', 'undstand', 'undterstand', 'undul', 'uneas', 'uneasi', 'uneccessari', 'unecessari', 'unecessarili', 'uneduc', 'uneffect', 'unend', 'unenjoy', 'unesserseri', 'uneven', 'unevensom', 'unexpect', 'unexpectedli', 'unexperienc', 'unexplor', 'unfair', 'unfairli', 'unfairtl', 'unfamiliar', 'unfavor', 'unfinish', 'unfold', 'unforeseen', 'unforeseeneveryth', 'unforgett', 'unforgiv', 'unforgiven', 'unfortuant', 'unfortulatli', 'unfortun', 'unfortunatili', 'unfortunatley', 'unfortunatli', 'unfortunetli', 'unfortuntley', 'unforun', 'unfound', 'unfriend', 'unfriendli', 'unfulfil', 'unfun', 'unger', 'ungodli', 'ungolden', 'ungrat', 'unhappi', 'unharm', 'unhealthi', 'unhealthili', 'unheard', 'unhind', 'unholyrhino', 'uni', 'unica', 'unico', 'unicum', 'unifi', 'uniform', 'uniformit', 'unil', 'unimagin', 'unimport', 'unimpress', 'uninform', 'uninhibit', 'uniniti', 'uninspir', 'uninst', 'uninstal', 'uninstalledw', 'unintent', 'uninteract', 'uninterest', 'unintuit', 'union', 'uniq', 'uniqu', 'uniqueand', 'uniqueif', 'uniquelevel', 'uniquenesscon', 'unirmeno', 'unironicli', 'unison', 'unispir', 'unist', 'unistal', 'unit', 'uniti', 'unityo', 'univ', 'univers', 'unjustifi', 'unkil', 'unknowingli', 'unknown', 'unkown', 'unlabel', 'unlcockjust', 'unleash', 'unless', 'unlesss', 'unliek', 'unlik', 'unlilk', 'unlim', 'unlimit', 'unloack', 'unload', 'unlock', 'unlockedit', 'unlockednot', 'unloot', 'unlov', 'unlucki', 'unluckili', 'unmar', 'unmatch', 'unmax', 'unmelt', 'unmin', 'unmodd', 'unnaccur', 'unnam', 'unnannounc', 'unnatur', 'unnecassari', 'unneccesari', 'unneccessari', 'unnececari', 'unnecesari', 'unnecessari', 'unnecessarili', 'unneed', 'unnerv', 'unnessari', 'unninstal', 'unnist', 'unnofici', 'unnot', 'unnotic', 'uno', 'unobtain', 'unobtrus', 'unoffici', 'unoptim', 'unoptimis', 'unor', 'unorigin', 'unpaid', 'unparallel', 'unpaus', 'unpay', 'unpermit', 'unpixel', 'unplay', 'unplayabal', 'unplaybl', 'unpleas', 'unplug', 'unpolish', 'unpopular', 'unpopullar', 'unposibl', 'unpreced', 'unpredict', 'unpredictableanyway', 'unpredictablecr', 'unpress', 'unproduct', 'unprotect', 'unproven', 'unqiu', 'unqu', 'unrank', 'unravel', 'unreal', 'unrealis', 'unrealist', 'unrealst', 'unreason', 'unredeem', 'unregist', 'unregul', 'unrel', 'unreli', 'unreplac', 'unrequit', 'unresolv', 'unrespect', 'unrespons', 'unrest', 'unriv', 'unrivel', 'unsalt', 'unsatisfactori', 'unsatisfactorti', 'unsatisfi', 'unsavori', 'unscratch', 'unscript', 'unsecur', 'unseen', 'unselect', 'unsettl', 'unsign', 'unskil', 'unskipp', 'unslot', 'unspeak', 'unspecif', 'unstabl', 'unstableit', 'unsteadi', 'unsteady', 'unstock', 'unstop', 'unstopp', 'unstuck', 'unsual', 'unsupervis', 'unsur', 'unsurpass', 'unsurprisingli', 'unsuspect', 'untabl', 'untarget', 'unteir', 'untel', 'unterhaltung', 'untest', 'unthink', 'unthreaten', 'untier', 'until', 'untilâ', 'untim', 'unto', 'untouch', 'untrad', 'untru', 'untrust', 'unturn', 'unus', 'unusu', 'unusual11', 'unwant', 'unwieldi', 'unwil', 'unwilling', 'unwind', 'unwinn', 'unwis', 'unwit', 'unwound', 'unwrap', 'unwritten', 'unyield', 'uo', 'uodat', 'up', 'up4', 'upadt', 'upbafbml', 'upbeat', 'upbringinglost', 'upcom', 'updad', 'updag', 'updat', 'updatebefor', 'updatecross', 'updatei', 'updates6', 'updatescon', 'updatesth', 'updatesum', 'updatin', 'updon', 'uper', 'upest', 'upfront', 'upgad', 'upgrad', 'upgrade10', 'upgradecraft', 'upgradesgreat', 'upgradesput', 'upgrap', 'upgrat', 'uphil', 'uphold', 'upkeep', 'upkept', 'upload', 'upm', 'upmig', 'upnev', 'upnop', 'upon', 'upp', 'upper', 'uppoer', 'uppon', 'upppppppp', 'upright', 'upris', 'uproar', 'upscal', 'upset', 'upsid', 'upspac', 'upstair', 'upsurg', 'upteird', 'upth', 'uptier', 'upto', 'upunfortun', 'upvot', 'upward', 'upwhen', 'upword', 'upさせればmp40を購入できるようになりますが', 'ur', 'ural', 'urban', 'urden', 'urdenbruenor', 'urdendrizzt', 'ure', 'urg', 'urgenc', 'urgent', 'uri', 'urin', 'urk', 'url', 'urozmaicają', 'ursa', 'urself', 'urselfgam', 'urth', 'us', 'usa', 'usabl', 'usaf', 'usag', 'usageo', 'usal', 'usali', 'usb', 'usbut', 'usd', 'usdi', 'use', 'use4', 'useabl', 'useag', 'usecon', 'usecontrol', 'useful', 'usefullcan', 'useless', 'uselessli', 'uselesswith', 'uselez', 'usemytho', 'user', 'userbas', 'userfriendli', 'usernam', 'username0', 'userscon', 'usersit', 'ushal', 'usp', 'usp45', 'usr', 'uss', 'ussr', 'ussual', 'usu', 'usual', 'usuali', 'usus', 'ut', 'ut4', 'ut9dwtr7wh', 'utak', 'ute', 'utf8', 'uthor', 'util', 'utilearrivederci', 'utilis', 'utliti', 'utopia', 'utopian', 'utt', 'utter', 'utterli', 'uu2rzdmb1z7', 'uuhh', 'uumh', 'uuuuuuugh', 'uw_rx6ag51u', 'uwagę', 'ux', 'uzi', 'uğraşan', 'uśmiech', 'v1', 'v2', 'v3', 'v3fanatec', 'v5f54t7', 'v6huwmretd4', 'v8', 'v_v', 'va', 'vaal', 'vac', 'vacant', 'vacat', 'vaccin', 'vaccum', 'vacin', 'vacshit', 'vacuou', 'vacuum', 'vade', 'vader', 'vagabond', 'vagon', 'vagu', 'vain', 'vaktin', 'valanc', 'vale', 'valentin', 'valhalla', 'valiabl', 'valiant', 'valiantli', 'valid', 'valient', 'valkeri', 'valkri', 'valkyri', 'vallet', 'valley', 'valor', 'valu', 'valuabl', 'valuealtough', 'valuebl', 'valuemani', 'valut', 'valv', 'valvesoftwar', 'valvetim', 'valveâ', 'vam', 'vampir', 'van', 'vanaf', 'vandal', 'vangard', 'vangaurd', 'vanguard', 'vanila', 'vanilla', 'vanilla1', 'vanish', 'vaniti', 'vannila', 'vannu', 'vano', 'vanoss', 'vantag', 'vantagem', 'vantagen', 'vanu', 'vanuenemi', 'vanusovereign', 'vaporwav', 'vareiti', 'varey', 'varga', 'vari', 'varia', 'variabl', 'varianc', 'variant', 'variat', 'variati', 'variationsscop', 'variedad', 'varient', 'varierti', 'varieti', 'variety2', 'varietywould', 'variey', 'varif', 'vario', 'variou', 'variti', 'variu', 'varlığı', 'varmint', 'varou', 'varri', 'vast', 'vasta', 'vastli', 'vat', 'vaterland', 'vaug', 'vaugu', 'vaul', 'vault', 'vaultg', 'vaultgunplay', 'vc', 'vcredist', 've', 'vece', 'vechaicl', 'vechil', 'vector', 'veder', 'vediamo', 'veeeeri', 'veel', 'veer', 'veeri', 'veeshan', 'veg', 'vega', 'veget', 'vehement', 'vehichl', 'vehicl', 'vehiclecraft', 'vehiclecrash', 'vehiclegameplay', 'vehiclesdevelop', 'vehiclesmass', 'vehiclesy', 'vehicular', 'vehiculo', 'veichl', 'veicoli', 'veicolo', 'veil', 'vein', 'veiw', 'veiwer', 'vel', 'veloc', 'vem', 'vemo', 'vendor', 'venenum', 'venian', 'venir', 'venom', 'venousmeerkat', 'vent', 'ventur', 'venu', 'ver', 'ver4', 'verament', 'veranderd', 'veranderen', 'veranderingen', 'verbal', 'verdad', 'verdict', 'vereinigt', 'vereiti', 'verfügbaren', 'verg', 'veri', 'veriati', 'verieti', 'verifi', 'verion', 'veris', 'verison', 'verit', 'veriti', 'verizon', 'vermin', 'vernacular', 'verrant', 'verri', 'verrückter', 'vers', 'versa', 'versalit', 'versatil', 'version', 'version___m', 'versionposit', 'versionsperfect', 'versionstil', 'versionthi', 'versit', 'versitil', 'versiyonudur', 'verso', 'verson', 'versu', 'vert', 'verteran', 'verti', 'vertic', 'verticl', 'vervelend', 'verygood', 'verygreat', 'veselit', 'vessel', 'vest', 'vestig', 'vet', 'veteran', 'veterean', 'veteren', 'veterian', 'veti', 'vetrain', 'vew', 'vey', 'veyr', 'vez', 'vfr', 'vg', 'vi', 'via', 'viabil', 'viabl', 'vibe', 'vibranc', 'vibrant', 'vibrantli', 'vibrat', 'vibrent', 'vice', 'vicin', 'viciou', 'vicious', 'vicqruiz', 'victi', 'victim', 'victimplan', 'victimsometim', 'victor', 'victori', 'victory1', 'vid', 'vida', 'video', 'videocard', 'videogam', 'videogamedunkey', 'videohttp', 'vidio', 'vido', 'vie', 'viechl', 'viejo', 'viel', 'vien', 'vienna', 'vietnam', 'vieux', 'view', 'viewabl', 'viewangl', 'viewer', 'viewmodel', 'viewpoint', 'viewti', 'vig', 'viggen', 'vigintillion', 'vigor', 'vii', 'viii', 'vike', 'vile', 'vilest', 'vilifi', 'villag', 'villagego', 'villain', 'villan', 'villian', 'vilnu', 'vinc', 'vincer', 'vinci', 'vind', 'vindictu', 'vine', 'vinesauc', 'vinethen', 'vintag', 'vioc', 'violat', 'violenc', 'violent', 'violet', 'violin', 'vip', 'vip3', 'viper', 'virgin', 'virgo', 'viritu', 'virtu', 'virtual', 'viru', 'virus', 'virus10', 'visa', 'visag', 'viscer', 'viscous', 'vise', 'visibili', 'visibl', 'vision', 'visit', 'visitor', 'vista', 'visto', 'vistor', 'visual', 'visuals4', 'visualscon', 'visualsth', 'vital', 'vitalto', 'vitual', 'vivament', 'vive', 'vivid', 'vividbiom', 'vividli', 'vivit', 'vizual', 'vjee7_osdei', 'vjyorsk', 'vk', 'vl0iv3wpfqw', 'vlad', 'vladivostok', 'vnow', 'vo', 'vocal', 'você', 'vodka', 'voelt', 'vogel', 'voic', 'voiceact', 'voiceattack', 'voicebind', 'voicechat', 'voicegasm', 'voicelin', 'voicene', 'voiceov', 'void', 'voila', 'voilent', 'voip', 'voitur', 'vol', 'volga', 'volkswagon', 'volley', 'vollständig', 'volum', 'volumin', 'volunt', 'volvo', 'vomit', 'von', 'vont', 'voodoo', 'voor', 'vooral', 'vor', 'vorteil', 'vortex', 'vote', 'votekick', 'vou', 'vouch', 'voucher', 'vow', 'voxel', 'voyer', 'voyeur', 'vp', 'vpn', 'vr', 'vraiment', 'vrain', 'vram', 'vran', 'vremeni', 'vri', 'vroom', 'vrooooooooooooooooommmmmmmmmmmmmmmmmmmmmmmmmmmmmmmmmmmmmmmmmmmmmmmmmmmmmmmmmmmmmmmmmmmmmmmmmmmmmmmmmmmmmmmmmmmmmmmmmmmmmmmmmmmmmmmmmmmmmmmmm', 'vroooooooooooooooooommmmm', 'vrooooooooooooooooooommmmmmmmmm', 'vroooooooooooooooooooooooooooooooooooooooooooooooooooooooooooooooooooooooooooooooooooooooooooooooooooooooooooooooooooooooooooooooooooooooooooooooooooooooooooooooooooooooooooooooooooooooooooooooooooooooooooooooooooooooooooooooooooooooooooooooooooooooooooooooooooooooooooooooooooooooooooooooooooooooooooooooooooooooooooooooooooommmmmmmmmmmmmmmmmmmmmmmmmmmmmmmmmmmmmmmmmmmmmmmmmmmmmmmmmmmmmmmmmmmmmmmmmmm', 'vrp', 'vs', 'vsaa', 'vsh', 'vsr', 'vsync', 'vthi', 'vtol', 'vu', 'vualt', 'vuj4', 'vulcan', 'vulcanjungl', 'vulcano', 'vulnar', 'vulner', 'vulnerável', 'vulnur', 'vuner', 'vuoi', 'vvgf', 'vvgg', 'vvgh', 'vvgl', 'vvrrroommm', 'vy', 'vyacheslav', 'vydělavat', 'vzejvparhkihttp', 'výběr', 'výrazné', 'văzut', 'všelijakých', 'všem', 'w0648utvoau', 'w275', 'w7i8g', 'wa', 'waa', 'waaaaaaaaaaaay', 'waaaaay', 'waaaay', 'waaay', 'waaayi', 'wacht', 'wack', 'wacker', 'wacki', 'wad', 'wada', 'wadi', 'wadsq', 'waepon', 'wafar', 'waff', 'waffen', 'waffl', 'waft', 'wage', 'wager', 'wagon', 'wah', 'waht', 'waifu', 'waist', 'wait', 'wakarimasendeshitaga', 'wake', 'wal', 'walet', 'walk', 'walkabl', 'walkaround', 'walker', 'walkthrough', 'walkway', 'wall', 'wall6', 'wall7', 'walless', 'wallet', 'wallha', 'wallhack', 'wallow', 'wallsha', 'walmart', 'waltz', 'wamt', 'wan', 'wana', 'wanamingo', 'wand', 'wandelesi', 'wander', 'wane', 'wanki', 'wankyâ', 'wanna', 'wannab', 'want', 'want2', 'wantnot', 'wantoveral', 'wantto', 'waqk4vh', 'war', 'war3', 'war_thund', 'waracraft', 'warbird', 'warbond', 'warcraft', 'warcrafti', 'warcri', 'ward', 'warden', 'wardrob', 'ware', 'warehous', 'warewolf', 'warfac', 'warfar', 'warfram', 'warfront', 'warfund', 'wargam', 'wargama', 'wargaym', 'warggam', 'warhamm', 'wari', 'warld', 'warlock', 'warlockstrik', 'warm', 'warmli', 'warmod', 'warmodehttp', 'warmth', 'warmup', 'warn', 'warner', 'warningthi', 'warningwhen', 'warp', 'warpcrap', 'warpgat', 'warplan', 'warrant', 'warri', 'warrior', 'wars2', 'warsaw', 'warscon', 'warship', 'warsong', 'wart', 'warteam', 'warthog', 'warthund', 'warum', 'warz', 'warzon', 'wasd', 'wash', 'washermashen', 'washi', 'washington', 'wasi', 'wasn', 'wasnt', 'wasnâ', 'wast', 'wasteland', 'wastelandaft', 'waster', 'wastergood', 'wastleland', 'wat', 'wat3', 'watashi', 'watch', 'watcher', 'watchin', 'watchlist', 'watchman', 'watchmann', 'watchout', 'wate', 'water', 'water5', 'waterdeep', 'waterfowl', 'waterit', 'watermelon', 'wathev', 'watsoev', 'wave', 'wavi', 'waw', 'wax', 'way', 'wayfar', 'wayi', 'waypoint', 'wayt', 'wayu', 'wayyy', 'wayyyi', 'wayyyyyyy', 'wdf', 'we', 'weaboo', 'weak', 'weakdungeon', 'weaken', 'weaker', 'weakest', 'weakgernani', 'weaknessesof', 'weakspot', 'wealth', 'wealthi', 'weap', 'weapn', 'weapoin', 'weapom', 'weapon', 'weaponari', 'weapond', 'weaponeri', 'weaponless', 'weaponri', 'weaponryvanu', 'weapons2', 'weapons3', 'weapons4', 'weaponsa', 'weaponsakula', 'weaponsand', 'weaponsarrow', 'weaponscosmet', 'weaponsfantasi', 'weaponsfre', 'weaponsmass', 'weaponsnew', 'weaponsnot', 'weaponsold', 'weaponsrandom', 'weaponsspe', 'weaponsth', 'weapontoo', 'wear', 'wearabl', 'weari', 'wearin', 'weatehr', 'weather', 'weav', 'web', 'webber', 'webcam', 'webpag', 'webroot', 'websit', 'wed', 'wednesday', 'wee', 'weeaboo', 'weeb', 'weebli', 'weed', 'weedl', 'week', 'weekday', 'weekend', 'weekends8', 'weeki', 'weekli', 'weekscon', 'weekshi', 'weem', 'weep', 'weer', 'weevil', 'weg', 'wegzubocken', 'weher', 'wehr', 'weigh', 'weight', 'weighti', 'weild', 'weiner', 'weird', 'weirdli', 'weirdo', 'weirdâ', 'weither', 'wek', 'wel', 'welch', 'welcom', 'welder', 'welfar', 'well', 'wellif', 'wellllll', 'welllook', 'wellmad', 'welloveral', 'wellpaymentmodel', 'wellso', 'wellyou', 'welp', 'wen', 'wendi', 'wenigen', 'wenn', 'went', 'weopen', 'weopon', 'wep', 'wepaon', 'wepeon', 'wepon', 'weponsth', 'wer', 'werd', 'werden', 'were', 'werei', 'weren', 'werent', 'werenâ', 'werepry', 'werepyr', 'werewolf', 'werewolv', 'weridaddict', 'weso', 'west', 'western', 'westeuropean', 'westu', 'westworld', 'wet', 'wether', 'wettkampfspiel', 'weve', 'weven', 'wew', 'wg', 'wh', 'wha', 'whaaaaat', 'whack', 'whacker', 'whacki', 'whacko', 'whale', 'wham', 'whamo', 'wharf', 'what', 'whatcha', 'whatev', 'whathavey', 'whatnot', 'whatoev', 'whatsoev', 'whatâ', 'whay', 'wheat', 'wheel', 'wheeler', 'wheil', 'whelm', 'when', 'whenev', 'wher', 'where', 'wherea', 'wherebi', 'wherei', 'wherein', 'wheren', 'wherer', 'wherev', 'wheter', 'whether', 'wheva', 'whey', 'whhat', 'whhi', 'whi', 'which', 'whichev', 'whick', 'whiff', 'whihc', 'while', 'whileher', 'whilei', 'whilet', 'whilst', 'whim', 'whimisc', 'whimsic', 'whin', 'whine', 'whiner', 'whiney', 'whing', 'whini', 'whip', 'whipe', 'whiplash', 'whipser', 'whir', 'whirl', 'whirlwhind', 'whirlwind', 'whirr', 'whisk', 'whiskey', 'whisper', 'whistl', 'whit', 'whitch', 'white', 'whitebag', 'whiteheart', 'whitelist', 'whiterun', 'whitetail', 'whitetailcottontail', 'whith', 'whithout', 'whitout', 'whitt', 'whiz', 'whizz', 'who', 'whoa', 'whod', 'whodnt', 'whoever', 'whole', 'wholeheartedli', 'wholeheartli', 'wholesom', 'wholli', 'whom', 'whomev', 'whoop', 'whoosh', 'whop', 'whor', 'whore', 'whose', 'whould', 'whre', 'wht', 'whteveu', 'whther', 'whup', 'whyaddict', 'whyen', 'whyi', 'whysurvivewhenyoucanstarv', 'wi', 'wiagrz', 'wich', 'wick', 'widdl', 'widdow', 'wide', 'wider', 'widescal', 'widespread', 'widowmak', 'width', 'wie', 'wiec', 'wieczori', 'wieder', 'wieght', 'wiel', 'wield', 'wielder', 'wiem', 'wierd', 'wierdli', 'wiesauuuu', 'wife', 'wiff', 'wifi', 'wifinew', 'wifuplsi', 'wiggl', 'wih', 'wii', 'wiki', 'wikia', 'wikipedia', 'wil', 'wild', 'wilder', 'wildest', 'wildfir', 'wildli', 'wildlif', 'wildshadow', 'wildstar', 'wildstrik', 'wildwoodgeek2', 'wile', 'will', 'will3shot', 'willb', 'willen', 'willgiv', 'willi', 'willing', 'willingli', 'willl', 'willow', 'willpow', 'willst', 'wilson', 'wimpiest', 'win', 'win10', 'win14', 'win3', 'win44', 'win5', 'win8', 'wind', 'winda', 'windborn', 'winder', 'windi', 'windon', 'window', 'windown', 'windowssup', 'windswept', 'wine', 'winfrey', 'wing', 'wingman', 'wingsuit', 'wingun', 'winin', 'wink', 'winnabl', 'winnableth', 'winner', 'winok', 'winrat', 'winscor', 'winston', 'winstreak', 'winter', 'winth', 'wip', 'wipe', 'wir', 'wird', 'wire', 'wireless', 'wirklich', 'wirkt', 'wisdom', 'wisdomcharismadevot', 'wisdomcharismascourg', 'wisdomsecondari', 'wisdomstrengthoathbound', 'wise', 'wish', 'wish7', 'wishi', 'wishlist', 'wissen', 'wistl', 'wit', 'witam', 'witch', 'witcher', 'witcherbusi', 'wite', 'with', 'with4', 'withdraw', 'withdrawel', 'withdrawl', 'withen', 'wither', 'within', 'withold', 'withotu', 'without', 'withstand', 'witht', 'withth', 'withxd', 'withâ', 'witti', 'wizard', 'wizard101', 'wizardcontrol', 'wizards101', 'wizardthi', 'wizualna', 'wizzard', 'większi', 'wjob', 'wl', 'wli', 'wll', 'wmi', 'wmr', 'wn8', 'wo', 'woaah', 'woah', 'wobbl', 'wocket', 'wod', 'woe', 'woeful', 'woefulli', 'wog', 'wogloween', 'wohoo', 'wok', 'woke', 'wol', 'wolcen', 'wold', 'wole', 'wolf', 'wolfdragonkeep', 'wolfenstein', 'wolfestein', 'wolfet', 'wolla', 'wollay', 'wollen', 'wolrd', 'wolv', 'woman', 'wombo', 'women', 'womencon', 'womp', 'won', 'wonc', 'wond', 'wonder', 'wonderd', 'wonderful', 'wonderland', 'wonkey', 'wonki', 'wont', 'wonâ', 'woo', 'wood', 'wooden', 'woodland', 'woof', 'woohh', 'woohoo', 'wool', 'woooooah', 'woooooooooooooooooooooooooooh', 'woooooooooooooooooooooooooooooooooonderful', 'woooooooooooooooooooooooooooooooooooooooooooooo', 'woop', 'wor', 'word', 'worden', 'wordfilt', 'wordpress', 'wordswith', 'wore', 'worht', 'work', 'work3', 'workabl', 'workaround', 'workcomplex', 'workedif', 'worker', 'workhors', 'worki', 'workluv', 'workout', 'works3', 'workshop', 'workslot', 'worksolid', 'workstat', 'world', 'worldget', 'worldoftank', 'worldonc', 'worldset', 'worldsit', 'worldsperson', 'worldstep', 'worldthat', 'worldwid', 'worm', 'wormhol', 'worn', 'worri', 'worrld', 'wors', 'worseday', 'worsei', 'worsen', 'worship', 'worshipp', 'worst', 'wort', 'worth', 'worthi', 'worthless', 'worthog', 'worthth', 'worthwhil', 'worthwil', 'worthϟ', 'wot', 'wotb', 'wotc', 'woth', 'wotlk', 'wotm', 'wotpc', 'woud', 'woudl', 'woudn', 'would', 'woulda', 'wouldn', 'wouldnt', 'wouldplay', 'wouldv', 'wouldâ', 'woulf', 'wound', 'wove', 'woven', 'wow', 'wowcon', 'wowe', 'wowifi', 'wowp', 'wp', 'wpadać', 'wr', 'wrack', 'wraeclast', 'wrangler', 'wrap', 'wrape', 'wrath', 'wrathnight', 'wreaclast', 'wreak', 'wreck', 'wreckag', 'wrecker', 'wrek', 'wrel', 'wrench', 'wrestl', 'wrestler', 'wretch', 'wrist', 'writ', 'write', 'writen', 'writer', 'written', 'wrong', 'wrong4', 'wrongand', 'wrongcan', 'wrongedit', 'wrongwhen', 'wrote', 'wsad', 'współczynników', 'wszystkim', 'wt', 'wtake', 'wtc', 'wtcc', 'wtcr', 'wtf', 'wtf4', 'wtfhonestli', 'wtfn', 'wth', 'wtih', 'wu', 'wua78ee5ododon', 'wub', 'wud', 'wukong', 'wunweg', 'wuold', 'wuss', 'wut', 'wuuh', 'ww', 'ww1', 'ww2', 'ww3', 'wwi', 'wwii', 'wwll', 'www', 'wydan', 'wymienionych', 'wymowi', 'wypadają', 'wán', 'wǒ', 'x1', 'x10', 'x1000', 'x2', 'x3', 'x360', 'x3d', 'x3zzzxxxzzhold', 'x4', 'x52', 'x55', 'x6', 'x64', 'x64file', 'xb1', 'xbalanqu', 'xblanqu', 'xboobx', 'xbox', 'xbox420', 'xc', 'xcom', 'xd', 'xd11', 'xd34thk1ll3rxx', 'xda', 'xdappar', 'xdawesom', 'xdbest', 'xdbut', 'xdd', 'xdexplor', 'xdfinali', 'xdgood', 'xdgraphic', 'xdhacker', 'xdi', 'xdin', 'xdit', 'xdlook', 'xdp', 'xdpd', 'xdpeac', 'xdpvm', 'xdso', 'xdstill', 'xdtl', 'xdtrust', 'xdxdokay', 'xeno', 'xenomorph', 'xenophob', 'xenophobia', 'xfile', 'xi', 'xiii', 'xiv', 'xiǎngqǐl', 'xjj0gcso', 'xm25', 'xma', 'xp', 'xp10', 'xpac', 'xpad', 'xpadder', 'xpdo', 'xpensiv', 'xpi', 'xplane', 'xplaneâ', 'xray', 'xtra', 'xunjp', 'xuéxiào', 'xvi', 'xvm', 'xx', 'xx69jukemaster69xx', 'xx_420scopezzmlg_xx', 'xxnathanimalxx', 'xxx_pu', 'xxx_swiggityswooty_xxx', 'xxxx', 'xxxxx', 'xysuh', 'xyz', 'xìngfú', 'ya', 'yaa', 'yaaa', 'yada', 'yah', 'yahoo', 'yak', 'yakın', 'yall', 'yami', 'yang', 'yankovick', 'yap', 'yard', 'yatıranla', 'yatırmayan', 'yatırınca', 'yauuyou', 'yavin', 'yaw', 'yawn', 'yay', 'yaz', 'yazıyı', 'yaşıyorduk', 'ye', 'yea', 'yeaaah', 'yeaahh', 'yeah', 'yeahi', 'yeahlet', 'yeap', 'year', 'year12', 'year8', 'yearand', 'yearli', 'yearn', 'years9', 'yearsif', 'yearsssyou', 'yearsthi', 'yeeee', 'yeer', 'yeh', 'yeha', 'yekan', 'yell', 'yellow', 'yelp', 'yep', 'yersin', 'yescan', 'yescomplet', 'yesdo', 'yesi', 'yesmctiti', 'yesrat', 'yessingleplay', 'yesss', 'yesssssssssssssssssssssssssssssssssssssssssssssssssssssssssssssssssssssssssssssssssssssssssssssssssssssssssssssssssssssssssssssssssssssssssssssssssssssssssssssssssssssssssssssssssssssssssppsssssssssssssssssssssssssssssssssssssssssssssssssssssssssssssssssssssssssssssssssssssssssssssssssssssssssssssssssssssssssssssssssssssssssssssssssssssssssssspenisssssssssssssssssssssssssssssssssssssssssssssssssssssssssssssssssssssssssssssssssssssssssssssssssssssssssssssssssssssssssssssssssssssssssssssssssssssssssssssssssssssssssssssssssssssssssss', 'yesterday', 'yesther', 'yet', 'yetbuggi', 'yethit', 'yeti', 'yetit', 'yetlookout', 'ygo', 'ygopro', 'ygrassvin', 'yhi', 'yhumb', 'yi', 'yield', 'yif', 'yimir', 'yip', 'yippe', 'yjtg', 'ym', 'ymir', 'ymself', 'yo', 'yoga', 'yogg', 'yoi', 'yoiu', 'yoke', 'yoki', 'yolo', 'yone', 'yoo', 'yoou', 'yoour', 'yopmail', 'yopu', 'yor', 'yordl', 'york', 'yorokobidesu', 'yosef', 'you', 'you2', 'you7', 'youa', 'youand', 'youat', 'youcan', 'youconclus', 'youd', 'youger', 'youhan', 'youhav', 'youi', 'youit', 'youjump', 'youll', 'younev', 'young', 'younger', 'youngest', 'youngster', 'younow', 'youoh', 'youp', 'your', 'yourenemi', 'youreself', 'yourself', 'yourself9', 'yourselfaddict', 'yourselfhop', 'yourselfit', 'yourselv', 'yourâ', 'youself', 'youst', 'yousuch', 'yout', 'youth', 'youther', 'youthes', 'youthi', 'youtu', 'youtub', 'youtubebtw', 'youu', 'youus', 'youv', 'youyou', 'youâ', 'yphkww6rp9i', 'ypu', 'yr', 'yrd', 'ys95snj19ew', 'ysaid', 'ystraight', 'yt', 'ytgjf', 'ythe', 'yu', 'yubel', 'yuck', 'yuearn', 'yuge', 'yugi', 'yugio', 'yugioh', 'yuig', 'yuki', 'yulgar', 'yum', 'yuo', 'yup', 'yuri', 'yurttupac', 'yvlmontcyhy4', 'yyyyyyyyyyyyyyyyyyyyyyyyyyyyyyyyyyyyyyyyyyyyaaaaaaaaaaaaaaaaaaaaaaaaaaaaaaayyyyyyyyyyyyyyyyyyyyyi', 'yóuxì', 'yīgè', 'yǒu', 'yвeрeн', 'z3rom6cnw4shttp', 'za', 'zaatakuj', 'zabij', 'zacspe', 'zagrać', 'zakt', 'zakupów', 'zalet', 'zaleti', 'zam', 'zaman', 'zamanlarda', 'zamanların', 'zamanında', 'zandvoort', 'zane', 'zanim', 'zap', 'zapdo', 'zappi', 'zarek', 'zargo', 'zarlath', 'zauren', 'zcsdcy0c9dt', 'zde', 'zdjg8gdmpfuhttp', 'ze', 'zeal', 'zealand', 'zealou', 'zebra', 'zebrarush', 'zed', 'zeeland', 'zeemodernnerdblog', 'zei', 'zeichen', 'zeiden', 'zeii', 'zeitgemäß', 'zeland', 'zelda', 'zen', 'zencha', 'zendesk', 'zenn', 'zenshop', 'zeppelin', 'zerg', 'zerger', 'zergfest', 'zergfit', 'zergi', 'zergl', 'zero', 'zestyou', 'zeu', 'zexal', 'zhao', 'zhonia', 'zhè', 'zhège', 'zhème', 'zhēngqì', 'zhīdào', 'zi', 'ziek', 'ziemlich', 'ziet', 'ziggyd', 'zijn', 'zingg', 'ziomeczki', 'zip', 'ziplin', 'zippi', 'zipplin', 'zipwir', 'ziyang', 'zj', 'znajomych', 'znajomymi', 'znayu', 'znnh', 'zodiac', 'zoe', 'zolder', 'zombi', 'zombiepigman', 'zomg', 'zonc', 'zonda', 'zone', 'zoo', 'zookoo', 'zoolog', 'zoom', 'zoomi', 'zoooooom', 'zqsd', 'zshikara', 'zsqjba9zul0', 'zu', 'zue', 'zukunft', 'zullen', 'zum', 'zupełni', 'zurückstellen', 'zvítězit', 'zweifel', 'zweig', 'zy6wo_d5mzi', 'zyngifi', 'zzzzshhhh', 'zzzzzzzzzzzzzzzzzzzzzzzzzzzzzzzzzzzzzzzzzzzzzzzzzzzzzzzzzzzzzzzzzzzzzzzzzzzzzzzzzzzzzzzzzzzzzzzzzzzzzzzzzzzzzzzzzzzzzzzzzzzzzzzzzzzzzzzzzzzzzzzzzzzzzzzzzzzzzzzzzzzzzzzzzzzzzzzzzzzzzzzzzzzzzzzzzzzzzzzzzzzzzzzzzzzzzzzzzzzzzzzzzzzzzzzzzzzzzzzzzzzzzzzzwhisper', 'zài', 'złota', '²âš', '³a', 'ºye', '¼â', '½it', '¾â', '¾âˆš', '¾âˆšvâ', 'árvore', 'âš', 'âšªâ', 'âˆšvâ', 'âˆšâ', 'ãœber', 'ä½', 'æternæ', 'çerik', 'çeşitli', 'çocukluğumdan', 'çok', 'çünkü', 'école', 'équipement', 'éspère', 'était', 'íœê', 'ï¼š', 'ðÿ', 'önce', 'özel', 'último', 'único', 'über', 'überal', 'übercharg', 'überhauppt', 'ăla', 'ăndrei', 'ăsta', 'člen', 'ğÿ', 'ım', 'środku', 'świata', 'świetna', 'şahsen', 'şeydir', 'şu', 'że', 'życi', 'ƒâ', 'ʀᴇᴠɪᴇᴡ', 'ʜʀ', 'ʷʰᶦᶜʰ', 'ʷᶦᶫᶫ', 'ˆâ', 'κινέζικα', 'χρειαζόμαστε', 'ϟϟ', 'авиасимулятор', 'авиации', 'адекватное', 'алмазов', 'американская', 'аналоги', 'анальной', 'английском', 'андроиде', 'арты', 'аудитории', 'аудиторию', 'ачивки', 'баг', 'баги', 'баланс2', 'баллов', 'банальные', 'батарейка', 'батлрояль', 'без', 'безделица', 'бесплатная', 'бесплатно', 'бесполезные', 'бились', 'битвы', 'близких', 'богу', 'боевой', 'боевых', 'бои', 'более', 'большая', 'больше', 'большинства', 'большое', 'бою', 'боя', 'бросайте', 'будет', 'буду', 'будут', 'будущее', 'бумага', 'бункера', 'бывают', 'были', 'было', 'быстрые', 'быт', 'быть', 'вce', 'важное', 'вам', 'вариантов', 'вариациями', 'вас', 'ваш', 'вашей', 'вашему', 'ваших', 'веднеюца', 'ведь', 'везде', 'вероятность', 'верю', 'весь', 'вечером', 'взглянув', 'взяв', 'взять', 'виделвводи', 'видете', 'видяха', 'виртуальной', 'включая', 'вкус', 'влияет', 'вложил', 'вместо', 'вмешательства', 'внимания', 'водку', 'воздействие', 'возможность', 'волосы', 'вопросом', 'воспринимается', 'вот', 'впечатление', 'вполне', 'впринцыпе', 'времени', 'время', 'все', 'всеx', 'всегда', 'всего', 'всей', 'вселенная', 'всем', 'всех', 'встречается', 'встречаюся', 'всю', 'вся', 'всё', 'вы', 'вывод', 'выделяется', 'вызвать', 'вылетов', 'вынуждены', 'выпустила', 'выстроена', 'выхода', 'гб', 'где', 'геймплеем', 'геймплей', 'героев', 'героя', 'главное', 'глаза', 'года', 'годы', 'гранитно', 'графика', 'графика3', 'графон', 'грунта', 'группе', 'грязная', 'гуляшом', 'да', 'давайте', 'давно', 'дает', 'даже', 'даймонд', 'далеко', 'дальнейших', 'данный', 'данным', 'даст', 'даунами', 'дают', 'действий', 'делаешь', 'деле', 'дело', 'день', 'деньги', 'держаться', 'десять', 'деталей', 'детей', 'дешовый', 'джойстик', 'дитализированы', 'длится', 'для', 'днем', 'днище', 'до', 'добро', 'доверха', 'довольно', 'долара', 'долгие', 'долго', 'долговечная', 'долеко', 'должен', 'должна', 'донат', 'дополнения', 'достаточно', 'достигнет', 'достижении', 'достойная', 'доступных', 'дота', 'драги', 'драгоценные', 'дракона', 'драконы', 'дроже', 'дрожжах', 'дрочи', 'друг', 'другteam', 'другой', 'дружелюбное', 'дружок', 'дуо', 'его', 'единственный', 'ее', 'елки', 'ему', 'если', 'есть', 'ещё', 'её', 'жанре', 'ждали', 'ждать', 'ждёт', 'же', 'желание', 'жизнь', 'жильцах', 'житель', 'жить', 'за', 'забит', 'забываешь', 'завершенной', 'задавался', 'заданий', 'залит', 'замечательный', 'запустить', 'застревает', 'затем', 'затягивает', 'заходите', 'здесь', 'зеленой', 'знание', 'значимых', 'значит', 'знаю', 'зовут', 'зоне', 'зто', 'зубодробительные', 'иeon', 'игр', 'игрi', 'игра', 'играешь', 'играков', 'играть', 'играться', 'играю', 'играя', 'игре', 'игрового', 'игровой', 'игрой', 'игроки', 'игроков', 'игроку', 'игру', 'игры', 'идеальная', 'идёт', 'из', 'изучения', 'или', 'имели', 'именно', 'имеются', 'имеющий', 'иногда', 'интел', 'интересно', 'интуиции', 'исключительно', 'испытаете', 'итак', 'их', 'ищете', 'каждая', 'каждой', 'каждому', 'каждые', 'каждый', 'как', 'калом', 'камней', 'капать', 'карт', 'карте', 'картину', 'карты', 'касается', 'кастомизацией', 'качественный', 'качество', 'китайский', 'класно', 'классов', 'когда', 'код', 'количество', 'количеством', 'команда', 'команде', 'команды', 'комнатам', 'комнаты', 'кому', 'комьюнити', 'конечно', 'кор', 'кормление', 'которая', 'которое', 'которую', 'которые', 'который', 'краем', 'красивая', 'красоты', 'крашей', 'кривые', 'критический', 'кроссплатформенная', 'круто', 'крутяк', 'круче', 'крышечки', 'кто', 'куда', 'кудато', 'кукловодом', 'кулаки', 'культовой', 'купить', 'лабораторий', 'лексики', 'лет', 'летать', 'летишь', 'ли', 'либо', 'лицо', 'лично', 'личности', 'лол', 'лучше', 'лучший', 'лучших', 'любви', 'любит', 'любой', 'любом', 'людей', 'люди', 'людьми', 'максимально', 'маленькая', 'мало', 'мародеров', 'масштабируется', 'математики', 'материалов', 'матушке', 'матч', 'матчей', 'мать', 'мега', 'между', 'мельчайших', 'меню', 'меня', 'меняет', 'мерой', 'месте', 'механика', 'миду', 'милая', 'минус', 'минусов', 'минусы', 'минут', 'минуты', 'мир', 'мире', 'мне', 'мнение', 'многие', 'много', 'моба', 'мобильных', 'мобу', 'мог', 'могу', 'может', 'можете', 'можно', 'мой', 'момент', 'моменты5', 'мощь', 'моя', 'музыка', 'мультфильма', 'мы', 'мышление', 'на', 'набеги', 'набор', 'наборы', 'наверняка', 'над', 'надеюсь', 'надзирателем', 'надоедает', 'названием', 'назвать', 'назову', 'называемые', 'наиболее', 'найти', 'наказывать', 'наконец', 'налаживает', 'нам', 'нами', 'намного', 'нападения', 'насилия', 'настоятельно', 'настоящий', 'настраивать', 'настроения', 'настроить', 'наткнулся', 'научится', 'нацелена', 'начавшие', 'начал', 'начальных', 'начинают', 'начнем', 'не', 'небо', 'небольшой', 'небыстрый', 'невьебенные', 'недостатки', 'нее', 'ней', 'нельзя', 'немного', 'немножко', 'немножно', 'ненормативной', 'необходимо', 'неодекваты', 'неоднократно', 'неочень', 'неплохо', 'неплохой', 'неполадка', 'несколько', 'нет', 'нечто', 'неё', 'никак', 'никакого', 'никогда', 'них', 'ничего', 'нищии', 'нный', 'но', 'новое', 'новой', 'новый', 'новыми', 'новых', 'ночью', 'нравится', 'ну', 'нуб', 'нужно', 'об', 'обидно', 'обитателей', 'обитателям', 'обновления', 'обратить', 'обслуживать', 'обстреляли', 'обширную', 'общем', 'обязательно', 'овервотч', 'огромные', 'огромный', 'огромным', 'один', 'однако', 'одно', 'одной', 'одном', 'однообразие', 'однообразия', 'одолба', 'окружающих', 'он', 'она', 'они', 'оперативы', 'описаны', 'описать', 'определенных', 'определить', 'определённые', 'опробывать', 'оружия', 'оскорблять', 'основном', 'основываясь', 'особенно', 'осознаёшь', 'оставшихся', 'остальном', 'от', 'отдаваться', 'отдыхе', 'отзыв', 'отзывов', 'отличная', 'отличное', 'отличный', 'отмутузили', 'отнести', 'отрицательное', 'отрицательному', 'отсчитает', 'отцов', 'оценивать', 'оценка', 'очаровательная', 'очень', 'очередная', 'очередность', 'очередь', 'ошибках', 'ошибки', 'ощущения', 'пlay', 'память', 'панмания', 'параметров', 'пару', 'пафосный', 'первое', 'первую', 'перебарщивать', 'перед', 'переживаний', 'персонажи', 'персонажы', 'песочница', 'петухов', 'пикселей', 'пиксельного', 'пилотажной', 'пк', 'платить', 'платформ', 'плохую', 'площади', 'плюсы', 'плюшки', 'по', 'побитых', 'повторению', 'повышается', 'под', 'поданых', 'подбор', 'подлива', 'подобии', 'подойти', 'подробно', 'подсмотренных', 'подстройка', 'подумаешь', 'подходите', 'пожаловать', 'пожалуй', 'пожары', 'познавательных', 'познает', 'позор', 'поиграв', 'поиграть', 'пока', 'показала', 'показывают', 'полностью', 'полный', 'полового', 'положительного', 'положительное', 'положительные', 'полтора', 'полу', 'получать', 'получеш', 'получить', 'пользой', 'помещений', 'помогает', 'помощь', 'помощью', 'понастоящему', 'поначалу', 'пони', 'понимающих', 'понравилось', 'понравился', 'понять', 'попав', 'попадает', 'попадая', 'попробовать', 'попробуйте', 'попытаюсь', 'портануть', 'после', 'постели', 'постепенно', 'постоянно', 'постояного', 'постреди', 'потеряете', 'потолке', 'потому', 'потомушто', 'потрати', 'потратили', 'потратить', 'потраченное', 'почему', 'почти', 'поэтому', 'появится', 'прoдoлaжть', 'преддверии', 'предлагают', 'предметов', 'предпочтениях', 'прежнемi', 'прежнему', 'презентации', 'при', 'приближенных', 'привет', 'приглшасительный', 'придет', 'приимущества', 'прикольный', 'прикроет', 'принципе', 'приоритетная', 'приручить', 'присматриваете', 'присутствует', 'приходится', 'приятной', 'про', 'проблемах', 'проблемы', 'провал', 'провести', 'прогресс', 'продолжать', 'продукт', 'проект', 'проживаешь', 'производит', 'произошло', 'происходящего', 'происшествия', 'пропадаешь', 'пропорционально', 'проработанный', 'проработаных', 'прорывается', 'просто', 'против', 'противника', 'протянет', 'профессионализмом', 'проходит', 'процесс', 'процесса', 'процессе', 'проще', 'прямо', 'психологического', 'пустотой', 'пытается', 'пятидесятом', 'пятому', 'работ', 'работает', 'работают', 'работе', 'равно', 'рад', 'радаров', 'ради', 'радиоактивных', 'радует', 'раз', 'разве', 'развивающих', 'развитие', 'развития', 'развитой', 'разгар', 'раздражающего', 'разлетается', 'размышлять', 'разработчикам', 'разработчики', 'разрезе', 'разумно', 'рак', 'ракал', 'раки', 'раскрученная', 'распихать', 'расплачиваясь', 'расслабиться', 'рассмотрим', 'рассмотрю', 'расстройства', 'рассчитанная', 'расчистку', 'расчитать', 'расчитывать', 'расширение', 'реализовать', 'реального', 'реальности', 'ребёнку', 'революция', 'редкостными', 'режимов', 'рейтинг', 'рекомендую', 'ресурсов', 'решает', 'решаются', 'решить', 'роде', 'родственников', 'россии', 'российского', 'россия', 'рублей', 'руках', 'руководствах', 'русского', 'рутина', 'рывоk', 'рывок', 'рынка', 'рынке', 'сайте', 'сам', 'сама', 'самая', 'самого', 'самое', 'самолётов', 'самом', 'самому', 'самые', 'самый', 'свершилось', 'свидáния', 'свинья', 'свое', 'своего', 'своей', 'своем', 'своему', 'своеобразной', 'свои', 'своим', 'своих', 'сделан', 'сделать', 'себе', 'себя', 'севшая', 'сейчас', 'секунд', 'серьезно', 'силах', 'силу', 'сильных', 'симпотичный', 'симулятор', 'сис', 'системе', 'системой', 'ситуации', 'сказать', 'скачайте', 'скептическими', 'сколько', 'скрепя', 'скучного', 'слабые', 'слава', 'следить', 'следующего', 'сливаешь', 'слишком', 'словами', 'сложная', 'смартфоном', 'смартфону', 'смогли', 'со', 'событие', 'совершенность', 'совершенствовать', 'совет', 'советую', 'современном', 'совсем', 'соло', 'сообщать', 'соперников', 'сотый', 'социально', 'социуме', 'союзников', 'союзнику', 'спасибо', 'список', 'спокойно', 'способен', 'справляются', 'спустя', 'сразу', 'среди', 'среднем', 'стабильно', 'ставлю', 'сталкивался', 'сталкиваться', 'становитесь', 'станут', 'статье', 'статья', 'стекает', 'стенах', 'стиме', 'стоит', 'столько', 'сторону', 'стороны', 'страно', 'строительство', 'сутками', 'сутки', 'суть', 'счет', 'счетчики', 'считаю', 'считают', 'сыграйте', 'сюда', 'сюжете4', 'таймkiller', 'таймер', 'таймкиллер', 'так', 'также', 'такие', 'таких', 'такого', 'такой', 'тактика', 'тактики', 'тактикой', 'такую', 'там', 'тамагочи', 'танках', 'танки', 'тараканов', 'твисты', 'твоих', 'творение', 'те', 'тебе', 'тебя', 'тело', 'тем', 'тех', 'типу', 'то', 'тогда', 'тоже', 'той', 'тока', 'толчок', 'только', 'том', 'торговли', 'тормозом', 'тот', 'точнее', 'точно', 'точто', 'трагедией', 'традициях', 'тратятся', 'третьему', 'тридцатом', 'трудно', 'туалет', 'тупые', 'тут', 'ты', 'тянешься', 'убежища', 'убежище', 'уверен', 'увидел', 'увидит', 'увидите', 'увы', 'угодно', 'удачного', 'удивлением', 'удобное', 'удовольствие', 'уже', 'улетел', 'улетите', 'умеет', 'умениях', 'уникальный', 'унитаз', 'унитазе', 'унитазу', 'уничтожения', 'управление', 'ур', 'уровней', 'уровня', 'ускорить', 'ускорять', 'успехов', 'устройств', 'утверждают', 'утомлять', 'утром', 'училась', 'ферма', 'форме', 'франшизы', 'фронт', 'хараша', 'хардкор', 'ход', 'хода', 'ходе', 'ходит', 'хозяин', 'хорошая', 'хорошей', 'хороший', 'хороших', 'хорошо', 'хорошую', 'хотите', 'хоть', 'хочет', 'хочешь', 'хранителем', 'хуллион', 'цвет', 'целевой', 'цели', 'целое', 'целом', 'час', 'часов', 'часто', 'часть', 'чатэндж', 'чаще', 'чего', 'человек', 'человека', 'человечков', 'чем', 'через', 'честно', 'чтo', 'что', 'чтобы', 'чувства', 'чудесную', 'шансом', 'шапки', 'шедевр', 'шикарнейшая', 'школе', 'шлеп', 'шокируют', 'шумок', 'шутер', 'шутят', 'экране', 'эта', 'это', 'этого', 'этой', 'этом', 'этот', 'эту', 'является', 'явно', 'языка', 'языке', 'ясно', 'ғᴏʀ', 'אבל', 'אוהבים', 'אוף', 'אז', 'איתו', 'אם', 'אני', 'אתגרים', 'אתה', 'אתם', 'בשביל', 'בשבילכם', 'דיוטי', 'הוא', 'הזה', 'הייתי', 'הכל', 'המשחק', 'ואל', 'ואתהרוצה', 'ואתם', 'ולנוח', 'ופשוט', 'זה', 'חווית', 'כיף', 'כמוני', 'לא', 'להירגע', 'ממליץ', 'מרוששים', 'משהו', 'סך', 'עייף', 'על', 'קאז', 'קול', 'ก3', 'กก', 'กค', 'กต', 'กฝนและส', 'กพ', 'กส', 'กหร', 'การเป', 'การแข', 'กในการล', 'ของฟร', 'ของอำนวยความสะดวกต', 'ครต', 'ครเป', 'ความท', 'ความสมจร', 'งก', 'งข', 'งต', 'งบางอย', 'งรางว', 'งเกต', 'งเกมน', 'งแพงกว', 'งในราคาปกต', 'จร', 'ฒนาร', 'ณก', 'ณค', 'ณจ', 'ณสามารถเล', 'ณเข', 'ณได', 'ดท', 'ดว', 'ดเร', 'ตว', 'นwayfar', 'นχρειαζόμαστε', 'นก', 'นข', 'นของค', 'นช', 'นฟร', 'นยากในการจะเล', 'นสมาช', 'นเต', 'นแพง', 'นแพงจร', 'นและใช', 'นไปและต', 'บการสม', 'บค', 'บบางส', 'บเกมน', 'บเพ', 'ปกรณ', 'ปดาห', 'พเดทท', 'ฟร', 'ภาพธรรมชาต', 'ภาษาไทยเกมอ', 'มต', 'ยรายเด', 'ยวย', 'ยอย', 'ราคาไม', 'ลองมาด', 'ลเกมน', 'วหน', 'สน', 'สมาช', 'สวยงาม', 'สามารถไปซ', 'สำหร', 'สเซ', 'หร', 'อค', 'อความต', 'องการภาษาจ', 'องการส', 'องหล', 'องเข', 'อดทน', 'อต', 'อน', 'อนอ', 'อนเข', 'อนไม', 'อย', 'อหาการอ', 'อาว', 'อเด', 'อไปน', 'าค', 'าง', 'างท', 'าทาย', 'าบอกไว', 'าม', 'ายน', 'ายสำหร', 'าวม', 'าส', 'าสม', 'าสมาช', 'าหากค', 'าใจม', 'าใจว', 'าใจหล', 'าไม', 'เกมล', 'เค', 'เง', 'เฉล', 'เช', 'เด', 'เน', 'เบ', 'เราต', 'เลยลองค', 'แกะรอย', 'แต', 'แนะนำ', 'แพง', 'แพงเก', 'ใช', 'ในโลก', 'ให', 'ไขม', 'ได', 'ไม', 'ไหมถ', 'ไอเท', 'ๆpathfind', 'ๆtrailrunn', 'ๆเฉล', 'ᵉᵛᵉᶰᵗᵘᵃᶫᶫʸ', 'あなたがいる国', 'あなたがこのレビューを読んでいるなら', 'あなたがしたいことをやりなさい', 'あなたがカジュアルプレイヤーであり', 'あなたが完全な狂人になり', 'あなたが歴史', 'あなたが競争の激しいプレイヤーで高度に戦術的なのなら', 'あなたが高い層にあなたの道を払うのをやめることです', 'あなたのプレイスタイルを判断する人々に注意してください', 'あなたは武器のオタクですか', 'い良いギアを支払う必要がなくなります', 'かなり高価', 'こちらは7', 'こちらも戦車を出して対抗するのが1番安全なように思えます', 'このゲームには起伏があります', 'このゲームの対戦車手榴弾は', 'このゲームはあなたのためです', 'このゲームはややあなたのためのものです', 'このゲームはアメリカ軍がドイツ軍より有利な条件になっています', 'このゲームは勝つために支払われます', 'このゲームを楽しくする', 'このゲームを走っていたダンジョン', 'このレビューが良いと思うなら', 'これは戦車破壊リボンのレベルがかなり上がっていないと購入できず', 'これは米独両軍の新兵に気をつけて欲しいのですが', 'こんな感じにドイツ側はかなりマゾい戦いを強いられますが', 'ご使用の販売が可能となるものあるいは過去のものです', 'ご質問がありましたらお知らせください', 'しかしながら', 'すべてではありません', 'する相手は', 'せんがこちらです', 'そして', 'その理由は自分自身を助けるだけでなく', 'そもそも投入できる戦場が絶対的に少ないです', 'それについては基本的にはexist', 'それは', 'それ以外にも', 'たとえ経験豊富なfpsプレイヤーであっても', 'です', 'ですが最終的にはドイツ軍側の武器も充実してきます', 'ですし', 'というのもこのゲーム', 'とまあ', 'と考える人は少なくないと思われますが', 'なおドイツ重戦車の仮想敵はm26パーシングです', 'な場所には近づかないでくださいびょに時間を無駄にします', 'に関係なく', 'の考え方を離れて5', 'は非常に毒性になります', 'ひたすら苦労することでしょう', 'まず何より先に言っておきたいのですが', 'また', 'まったく砲弾が貫通してくれずにノーダメージとなります', 'もちろん', 'やはり敵戦車を撃破するには', 'アメリカ', 'アメリカ兵のm3グリースガンやm1トンプソンと撃ち合う際に苦しい思いをすること請け合いです', 'アーケードにいてください', 'イタリア', 'エンターテインメント以外の戦争雷からのものを期待してはいけません', 'カナダなど', 'ガイジンはここで何かを修正する必要があると考えています', 'ガイジンは正当な理由で価格を高価にしました', 'ゲームが本当に良いかどうか不思議な新しいプレーヤーにこのゲームを強く勧めます', 'ゲーム経済のどちらがいいでしょうか', 'サブマシンガンで戦果を挙げてリボンをlv', 'ティーガーやティーガー2は確かに強力なのですが', 'ドイツ', 'ドイツ側はアメリカ兵に倒されまくる事を覚悟しましょう', 'ドイツ側プレイヤーに求められるのは忍耐です', 'ドイツ兵が最初に購入できるようになるmp34サブマシンガンは装弾数が20発しかないため', 'ドイツ戦車といえばww2最強だろ', 'ドイツ戦車兵はまず1号戦車からスタートするのですが', 'ドイツ軍のg43ライフルは威力や反動の面でアメリカ軍のm1ガーランドに劣っています', 'ナショナル', 'バイアス', 'パンツァーファウストを3発は直撃させないと撃破できません', 'マッチング', 'ーﾉ', 'ヽ_つ', 'ヽつ', 'ヽーく', '上位に行くのが好きでない場合は', '不知道该说什么但我只想说这是一个好游戏', '不管是跟小伙伴连机', '中国語は必要', '人々があなたに語っていることを信じてはいけません', '代替歴史', '但是进游戏去虐虐歪果仁还是挺好玩的', '你要做的就是在游戏里杀人赚钱买好枪', '先述の1号戦車にさえも遠距離から一方的に虐殺されかねないです', '兵士が育ちきるまでは', '兵士が育って武器や車両が揃ってくれば', '具体的に言うと', '初期装備の手榴弾は対人用途にしか使えず', '向こうは12', '商城里只有名片徽章和面具', '外国人にとって', '天安门广场', '如果想打发时间或者找点免费游戏玩的话', '対戦車手榴弾もあるのですが', '将来的には海軍の直後に現代自動車になるためには', '少なくともこのゲームではドイツ戦車乗りは茨の道を歩かされることは間違いないと言えるでしょう', '彼らは態度などで恐ろしいことを意味します', '彼らは正直に言って削う少しお金をきちんかこのゲームで正式に死亡する', '徹底的に支払い変更する場合があります', '我们还能要求什么呢', '我们需要中文', '我们需要中文we', '我这是第一次写一个游戏的评测', '戦争雷はあまりにも研ぎ澄まされています', '戦車の性能の差です', '戦車を一撃で撃破できるred', '所有武器在初始时都已经给了', '挺有意思的', '支店ごとにティア5まで上昇するために900ドル以上を支払う必要がない限り', '敵として遭遇', '敵戦車に肉薄するリスクを要するにも関わらず', '日本', '日本のバイアスなど', '日本語と英語の二ヶ国語でのレビューに挑戦してみたいと思います', '更にこのゲームの対戦車兵器は威力が弱く', '最初のうちは', '最后我就过分一下吧', '朋友你好', '楽しい時間を過ごしてください', '正直なところ', '歩兵やジープを撃ってはクレジットやリボン経験値を稼ぎ', '歩兵装備の優位性です', '段々と楽しくなってきます', '毕竟是免费游戏所以不要期待它会有3a大作的质量', '毛子做的游戏', '游戏内商城基本就和没有一样', '然而这些并不会影响人物和武器属性', '現在の最近の変化に来て後6ヶ月休んでお迎え完了し', '現実主義とシムはあなたのためです', '皆この戦車よりも強力です', '私が見たことのあるものではなく', '私はそれを強く勧めます', '第一に', '第二に', '简体中文', '紙装甲で有名なm18ヘルキャット相手ですら', '虽然没有中文但这是一个免费游戏', '虽然画面不咋地而且武器后座力基本不存在', '装甲車両には全くダメージが入らないため', '買えません', '車両の専門家', '軍事シミュレーションを愛するなら', '軽戦車を撃破するのにすら2', '还是自己探索', '这款游戏还是挺好的', '都很有趣', '雇用したての歩兵は対戦車兵器を全く持っていませんし', '高価なapcr弾を奴らの背面に打ち込んでも', '가용가능한', '가장', '감안하면', '갸아아악', '거의', '걸리나', '게임', '게임은', '결과가', '결과적으로', '계산', '고된', '공군이씹사기라서', '구석에서', '구와아악', '구조를', '그동안', '그들의', '그리고', '그자체였다', '근돼들은', '근돼들이', '금할', '길이', '날린다', '남성들은', '남정네', '내가', '내내', '내몰려', '내쳐져', '너무하네', '넣어놓으면', '네가지', '넥슨', '노동력', '노동현장으로', '눈살을', '닥쳐온다', '닥쳐온다1', '덮어놓고', '도주를', '독일군', '되며모든', '된다', '들어가있고라스푸틴은', '들어가있으며모든', '들어오는', '따라', '따른다', '때문에', '라스푸틴', '라스푸틴씨는', '레이더와', '레이더의', '마음에', '만든', '만들게', '만성적인', '말부터', '매혹의', '먼저', '멋졌으나', '몇가지', '모든', '모르는', '무료게임인걸', '무료라서', '미래를', '반영되는', '발상도', '발전을', '병력을', '병사들은', '병정개미의', '볼트', '볼트내로', '볼트내에', '볼트의', '봐줄만하다유료게임이라면', '부모를', '부족에', '부족으로', '불가능하여', '불구하고', '비상시', '뿌리고', '사실을', '생각해온', '쉬지않고', '스탯', '스탯은', '스탯좋은', '시달린다', '시발시발', '시스템도', '시작하고자', '시작하자1', '신생아가', '신생아의', '실시간으로', '싸우며', '싸운다', '썩었다', '씨를', '아무것도', '안사는게', '안타까움을', '앞에서', '얼마나', '없었다는', '여기서', '여성에게', '여성은', '여왕개미가', '연애에', '오져따리', '외부인은', '우리', '웹게임을', '위해', '위해서는', '윙크를', '의해', '이는', '이야기를', '이유에', '인해', '일부터', '일한다', '임산부가', '임산부는', '임산부들은', '임신', '임신중이다', '임신하지않은', '입구쪽으로', '있다', '있어서', '자신의', '자유', '작업공간에는', '장군이', '저지른다', '전무하다', '전장에', '전투가', '전투공간과', '전투력에', '전투력으로', '전투중임에도', '제외하고는', '조건', '존재하는', '좋고', '좋다', '좋은', '죽어나간다', '지속가능한', '직후', '진실이', '집고', '찌푸리게', '천하인게', '초반을', '추천이지만', '출산때까지', '침실에만', '침입시', '탐험에는', '턴게임', '통탄과', '투입되어서', '투입해', '플레이', '플레이하는', '피망급의', '필요하다', '하고', '하듯', '하렘', '하며독일', '하에서', '하지만', '한가지', '한다', '항상', '현실이', '현실인가하지만', '현질유도는', '현질유도도', '혹은', '혼자서', '황망한', '황무지', 'ﾌﾌ']\n"
          ],
          "name": "stdout"
        }
      ]
    },
    {
      "cell_type": "code",
      "metadata": {
        "id": "2R5qUbn0gzoZ",
        "colab_type": "code",
        "colab": {
          "base_uri": "https://localhost:8080/",
          "height": 54
        },
        "outputId": "5f5be7cf-33e1-46db-ae72-2a01d9cf994f"
      },
      "source": [
        "''' after stemming i got to know it has characters from other languages\n",
        "    task:-remove the numbers and noises present(like:-aaaaa,aaaaaas,ssss)\n",
        "          check no of doc of other languages\n",
        "          properly stemming\n",
        "          form the feature vectors depending upon the maxm use of words(frquency/count based)'''\n",
        "      "
      ],
      "execution_count": 70,
      "outputs": [
        {
          "output_type": "execute_result",
          "data": {
            "text/plain": [
              "' after stemming i got to know it has characters from other languages\\n    task:-remove the numbers and noises present(like:-aaaaa,aaaaaas,ssss)\\n          check no of doc of other languages\\n          properly stemming\\n          form the feature vectors depending upon the maxm use of words(frquency/count based)'"
            ]
          },
          "metadata": {
            "tags": []
          },
          "execution_count": 70
        }
      ]
    },
    {
      "cell_type": "code",
      "metadata": {
        "id": "9uNvKoJMiOLK",
        "colab_type": "code",
        "colab": {}
      },
      "source": [
        ""
      ],
      "execution_count": 0,
      "outputs": []
    }
  ]
}