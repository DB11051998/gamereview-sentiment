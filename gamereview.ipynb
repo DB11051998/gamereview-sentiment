{
  "nbformat": 4,
  "nbformat_minor": 0,
  "metadata": {
    "colab": {
      "name": "gamereview.ipynb",
      "provenance": [],
      "collapsed_sections": [],
      "toc_visible": true,
      "authorship_tag": "ABX9TyMQqyNpemI8XuD+4IQpjDL6",
      "include_colab_link": true
    },
    "kernelspec": {
      "name": "python3",
      "display_name": "Python 3"
    }
  },
  "cells": [
    {
      "cell_type": "markdown",
      "metadata": {
        "id": "view-in-github",
        "colab_type": "text"
      },
      "source": [
        "<a href=\"https://colab.research.google.com/github/DB11051998/gamereview-sentiment/blob/master/gamereview.ipynb\" target=\"_parent\"><img src=\"https://colab.research.google.com/assets/colab-badge.svg\" alt=\"Open In Colab\"/></a>"
      ]
    },
    {
      "cell_type": "code",
      "metadata": {
        "id": "4ycftkezmt3P",
        "colab_type": "code",
        "outputId": "8ed1449f-4bea-458d-aa66-3f569953df60",
        "colab": {
          "base_uri": "https://localhost:8080/",
          "height": 122
        }
      },
      "source": [
        "from google.colab import drive\n",
        "drive .mount('/content/gdrive')"
      ],
      "execution_count": 2,
      "outputs": [
        {
          "output_type": "stream",
          "text": [
            "Go to this URL in a browser: https://accounts.google.com/o/oauth2/auth?client_id=947318989803-6bn6qk8qdgf4n4g3pfee6491hc0brc4i.apps.googleusercontent.com&redirect_uri=urn%3aietf%3awg%3aoauth%3a2.0%3aoob&response_type=code&scope=email%20https%3a%2f%2fwww.googleapis.com%2fauth%2fdocs.test%20https%3a%2f%2fwww.googleapis.com%2fauth%2fdrive%20https%3a%2f%2fwww.googleapis.com%2fauth%2fdrive.photos.readonly%20https%3a%2f%2fwww.googleapis.com%2fauth%2fpeopleapi.readonly\n",
            "\n",
            "Enter your authorization code:\n",
            "··········\n",
            "Mounted at /content/gdrive\n"
          ],
          "name": "stdout"
        }
      ]
    },
    {
      "cell_type": "code",
      "metadata": {
        "id": "OgagL1Qg-KAI",
        "colab_type": "code",
        "colab": {}
      },
      "source": [
        "#df_train.to_csv('/content/gdrive/My Drive/jantahack/NLP jantahack/cleaned.csv')\n",
        "new_set.to_csv('/content/gdrive/My Drive/jantahack/NLP jantahack/solution.csv')"
      ],
      "execution_count": 0,
      "outputs": []
    },
    {
      "cell_type": "code",
      "metadata": {
        "id": "eXixaP6Pm3yc",
        "colab_type": "code",
        "colab": {}
      },
      "source": [
        "root_path='/content/gdrive/My Drive/jantahack/NLP jantahack'"
      ],
      "execution_count": 0,
      "outputs": []
    },
    {
      "cell_type": "code",
      "metadata": {
        "id": "bAoMsQyyneOy",
        "colab_type": "code",
        "outputId": "f9c2b087-acbf-4694-fe14-96de4ce68d28",
        "colab": {
          "base_uri": "https://localhost:8080/",
          "height": 71
        }
      },
      "source": [
        "import os\n",
        "import pandas as pd\n",
        "import numpy as np\n",
        "import matplotlib.pyplot as plt\n",
        "import seaborn as sns"
      ],
      "execution_count": 4,
      "outputs": [
        {
          "output_type": "stream",
          "text": [
            "/usr/local/lib/python3.6/dist-packages/statsmodels/tools/_testing.py:19: FutureWarning: pandas.util.testing is deprecated. Use the functions in the public API at pandas.testing instead.\n",
            "  import pandas.util.testing as tm\n"
          ],
          "name": "stderr"
        }
      ]
    },
    {
      "cell_type": "code",
      "metadata": {
        "id": "L1kHym5rnYtX",
        "colab_type": "code",
        "colab": {}
      },
      "source": [
        "lis=[]\n",
        "for dirname, _, filenames in os.walk(root_path):\n",
        "    for filename in filenames:\n",
        "        lis.append(os.path.join(dirname, filename))"
      ],
      "execution_count": 0,
      "outputs": []
    },
    {
      "cell_type": "code",
      "metadata": {
        "id": "gzi5dDAqnnf0",
        "colab_type": "code",
        "outputId": "3b8870c7-6f03-4e2c-a33d-4837060d1553",
        "colab": {
          "base_uri": "https://localhost:8080/",
          "height": 204
        }
      },
      "source": [
        "lis"
      ],
      "execution_count": 6,
      "outputs": [
        {
          "output_type": "execute_result",
          "data": {
            "text/plain": [
              "['/content/gdrive/My Drive/jantahack/NLP jantahack/test.csv',\n",
              " '/content/gdrive/My Drive/jantahack/NLP jantahack/train.csv',\n",
              " '/content/gdrive/My Drive/jantahack/NLP jantahack/game_overview.csv',\n",
              " '/content/gdrive/My Drive/jantahack/NLP jantahack/test_BppAoe0.zip',\n",
              " '/content/gdrive/My Drive/jantahack/NLP jantahack/train_E52nqFa.zip',\n",
              " '/content/gdrive/My Drive/jantahack/NLP jantahack/sample_submission_wgBqZCk.csv',\n",
              " '/content/gdrive/My Drive/jantahack/NLP jantahack/cleaned.csv',\n",
              " '/content/gdrive/My Drive/jantahack/NLP jantahack/solution.csv',\n",
              " '/content/gdrive/My Drive/jantahack/NLP jantahack/__MACOSX/._test.csv',\n",
              " '/content/gdrive/My Drive/jantahack/NLP jantahack/__MACOSX/._train.csv',\n",
              " '/content/gdrive/My Drive/jantahack/NLP jantahack/__MACOSX/._game_overview.csv']"
            ]
          },
          "metadata": {
            "tags": []
          },
          "execution_count": 6
        }
      ]
    },
    {
      "cell_type": "code",
      "metadata": {
        "id": "_3LIs0IdnsSA",
        "colab_type": "code",
        "colab": {}
      },
      "source": [
        "df_train=pd.read_csv(lis[1])"
      ],
      "execution_count": 0,
      "outputs": []
    },
    {
      "cell_type": "code",
      "metadata": {
        "id": "ELdtSblSoDsX",
        "colab_type": "code",
        "outputId": "474ca9b2-6c94-4119-adcc-8f6e8589168a",
        "colab": {
          "base_uri": "https://localhost:8080/",
          "height": 359
        }
      },
      "source": [
        "df_train.head(10)"
      ],
      "execution_count": 8,
      "outputs": [
        {
          "output_type": "execute_result",
          "data": {
            "text/html": [
              "<div>\n",
              "<style scoped>\n",
              "    .dataframe tbody tr th:only-of-type {\n",
              "        vertical-align: middle;\n",
              "    }\n",
              "\n",
              "    .dataframe tbody tr th {\n",
              "        vertical-align: top;\n",
              "    }\n",
              "\n",
              "    .dataframe thead th {\n",
              "        text-align: right;\n",
              "    }\n",
              "</style>\n",
              "<table border=\"1\" class=\"dataframe\">\n",
              "  <thead>\n",
              "    <tr style=\"text-align: right;\">\n",
              "      <th></th>\n",
              "      <th>review_id</th>\n",
              "      <th>title</th>\n",
              "      <th>year</th>\n",
              "      <th>user_review</th>\n",
              "      <th>user_suggestion</th>\n",
              "    </tr>\n",
              "  </thead>\n",
              "  <tbody>\n",
              "    <tr>\n",
              "      <th>0</th>\n",
              "      <td>1</td>\n",
              "      <td>Spooky's Jump Scare Mansion</td>\n",
              "      <td>2016.0</td>\n",
              "      <td>I'm scared and hearing creepy voices.  So I'll...</td>\n",
              "      <td>1</td>\n",
              "    </tr>\n",
              "    <tr>\n",
              "      <th>1</th>\n",
              "      <td>2</td>\n",
              "      <td>Spooky's Jump Scare Mansion</td>\n",
              "      <td>2016.0</td>\n",
              "      <td>Best game, more better than Sam Pepper's YouTu...</td>\n",
              "      <td>1</td>\n",
              "    </tr>\n",
              "    <tr>\n",
              "      <th>2</th>\n",
              "      <td>3</td>\n",
              "      <td>Spooky's Jump Scare Mansion</td>\n",
              "      <td>2016.0</td>\n",
              "      <td>A littly iffy on the controls, but once you kn...</td>\n",
              "      <td>1</td>\n",
              "    </tr>\n",
              "    <tr>\n",
              "      <th>3</th>\n",
              "      <td>4</td>\n",
              "      <td>Spooky's Jump Scare Mansion</td>\n",
              "      <td>2015.0</td>\n",
              "      <td>Great game, fun and colorful and all that.A si...</td>\n",
              "      <td>1</td>\n",
              "    </tr>\n",
              "    <tr>\n",
              "      <th>4</th>\n",
              "      <td>5</td>\n",
              "      <td>Spooky's Jump Scare Mansion</td>\n",
              "      <td>2015.0</td>\n",
              "      <td>Not many games have the cute tag right next to...</td>\n",
              "      <td>1</td>\n",
              "    </tr>\n",
              "    <tr>\n",
              "      <th>5</th>\n",
              "      <td>6</td>\n",
              "      <td>Spooky's Jump Scare Mansion</td>\n",
              "      <td>2015.0</td>\n",
              "      <td>Early Access ReviewIt's pretty cute at first, ...</td>\n",
              "      <td>1</td>\n",
              "    </tr>\n",
              "    <tr>\n",
              "      <th>6</th>\n",
              "      <td>7</td>\n",
              "      <td>Spooky's Jump Scare Mansion</td>\n",
              "      <td>2017.0</td>\n",
              "      <td>Great game. it's a cute little horror game tha...</td>\n",
              "      <td>1</td>\n",
              "    </tr>\n",
              "    <tr>\n",
              "      <th>7</th>\n",
              "      <td>8</td>\n",
              "      <td>Spooky's Jump Scare Mansion</td>\n",
              "      <td>2015.0</td>\n",
              "      <td>Spooky's Jump Scare Mansion is a Free Retro ma...</td>\n",
              "      <td>1</td>\n",
              "    </tr>\n",
              "    <tr>\n",
              "      <th>8</th>\n",
              "      <td>9</td>\n",
              "      <td>Spooky's Jump Scare Mansion</td>\n",
              "      <td>2015.0</td>\n",
              "      <td>Somewhere between light hearted, happy parody ...</td>\n",
              "      <td>0</td>\n",
              "    </tr>\n",
              "    <tr>\n",
              "      <th>9</th>\n",
              "      <td>10</td>\n",
              "      <td>Spooky's Jump Scare Mansion</td>\n",
              "      <td>2015.0</td>\n",
              "      <td>This game with its cute little out of the wall...</td>\n",
              "      <td>1</td>\n",
              "    </tr>\n",
              "  </tbody>\n",
              "</table>\n",
              "</div>"
            ],
            "text/plain": [
              "   review_id  ... user_suggestion\n",
              "0          1  ...               1\n",
              "1          2  ...               1\n",
              "2          3  ...               1\n",
              "3          4  ...               1\n",
              "4          5  ...               1\n",
              "5          6  ...               1\n",
              "6          7  ...               1\n",
              "7          8  ...               1\n",
              "8          9  ...               0\n",
              "9         10  ...               1\n",
              "\n",
              "[10 rows x 5 columns]"
            ]
          },
          "metadata": {
            "tags": []
          },
          "execution_count": 8
        }
      ]
    },
    {
      "cell_type": "code",
      "metadata": {
        "id": "mkyJ8KO2pTIp",
        "colab_type": "code",
        "outputId": "4126a1f8-61e7-427e-fc49-79cb78ef2029",
        "colab": {
          "base_uri": "https://localhost:8080/",
          "height": 34
        }
      },
      "source": [
        "df_train.shape"
      ],
      "execution_count": 9,
      "outputs": [
        {
          "output_type": "execute_result",
          "data": {
            "text/plain": [
              "(17494, 5)"
            ]
          },
          "metadata": {
            "tags": []
          },
          "execution_count": 9
        }
      ]
    },
    {
      "cell_type": "code",
      "metadata": {
        "id": "V4ZDVc6AoKE3",
        "colab_type": "code",
        "outputId": "20251801-707e-4989-abd3-c526979b00b6",
        "colab": {
          "base_uri": "https://localhost:8080/",
          "height": 119
        }
      },
      "source": [
        "df_train.isna().any()"
      ],
      "execution_count": 10,
      "outputs": [
        {
          "output_type": "execute_result",
          "data": {
            "text/plain": [
              "review_id          False\n",
              "title              False\n",
              "year                True\n",
              "user_review        False\n",
              "user_suggestion    False\n",
              "dtype: bool"
            ]
          },
          "metadata": {
            "tags": []
          },
          "execution_count": 10
        }
      ]
    },
    {
      "cell_type": "code",
      "metadata": {
        "id": "gjyFp7neoSue",
        "colab_type": "code",
        "outputId": "298415d6-db55-4d2f-90b8-2f5c77f5d40e",
        "colab": {
          "base_uri": "https://localhost:8080/",
          "height": 221
        }
      },
      "source": [
        "df_train[df_train.year.isna()]['title'].unique()"
      ],
      "execution_count": 11,
      "outputs": [
        {
          "output_type": "execute_result",
          "data": {
            "text/plain": [
              "array(['Fractured Space', 'Dota 2', 'Path of Exile', 'War Thunder',\n",
              "       'Ring of Elysium', 'Team Fortress 2', 'Yu-Gi-Oh! Duel Links',\n",
              "       'SMITE®', 'Brawlhalla', 'World of Tanks Blitz',\n",
              "       'DCS World Steam Edition', 'Heroes & Generals',\n",
              "       'The Elder Scrolls®: Legends™', 'Trove', 'Neverwinter',\n",
              "       'Realm Royale', 'PlanetSide 2', 'theHunter Classic',\n",
              "       'Eternal Card Game', 'Bless Online', 'RaceRoom Racing Experience',\n",
              "       'Fallout Shelter', 'Tactical Monsters Rumble Arena', 'Creativerse',\n",
              "       'Shop Heroes', 'Robocraft',\n",
              "       'Business Tour - Board Game with Online Multiplayer',\n",
              "       'AdventureQuest 3D', 'Realm Grinder', 'Bloons TD Battles',\n",
              "       'Cuisine Royale', 'EverQuest II'], dtype=object)"
            ]
          },
          "metadata": {
            "tags": []
          },
          "execution_count": 11
        }
      ]
    },
    {
      "cell_type": "code",
      "metadata": {
        "id": "1STRaGNwoljY",
        "colab_type": "code",
        "outputId": "5e37d474-f68d-4a6b-e50e-f9ec5256d50a",
        "colab": {
          "base_uri": "https://localhost:8080/",
          "height": 68
        }
      },
      "source": [
        "df_train.user_suggestion.value_counts()"
      ],
      "execution_count": 12,
      "outputs": [
        {
          "output_type": "execute_result",
          "data": {
            "text/plain": [
              "1    9968\n",
              "0    7526\n",
              "Name: user_suggestion, dtype: int64"
            ]
          },
          "metadata": {
            "tags": []
          },
          "execution_count": 12
        }
      ]
    },
    {
      "cell_type": "code",
      "metadata": {
        "id": "DEqQ0ssnpuDG",
        "colab_type": "code",
        "outputId": "170313db-7111-4943-94e5-b2d3d6d847e1",
        "colab": {
          "base_uri": "https://localhost:8080/",
          "height": 336
        }
      },
      "source": [
        "fig = plt.figure()\n",
        "ax = fig.add_axes([0,0,1,1])\n",
        "ax.bar(df_train.user_suggestion.unique(),df_train.user_suggestion.value_counts())\n",
        "plt.show()"
      ],
      "execution_count": 13,
      "outputs": [
        {
          "output_type": "display_data",
          "data": {
            "image/png": "[encoded data removed]",
            "text/plain": [
              "<Figure size 432x288 with 1 Axes>"
            ]
          },
          "metadata": {
            "tags": [],
            "needs_background": "light"
          }
        }
      ]
    },
    {
      "cell_type": "code",
      "metadata": {
        "id": "gTzYMfXoqYvI",
        "colab_type": "code",
        "colab": {}
      },
      "source": [
        "df_game_overview=pd.read_csv(lis[2])"
      ],
      "execution_count": 0,
      "outputs": []
    },
    {
      "cell_type": "code",
      "metadata": {
        "id": "qEd5f9QrqnfE",
        "colab_type": "code",
        "outputId": "1c1ceb67-0c7b-4140-c322-c5ba1e7de815",
        "colab": {
          "base_uri": "https://localhost:8080/",
          "height": 34
        }
      },
      "source": [
        "len(df_train.title.unique())"
      ],
      "execution_count": 15,
      "outputs": [
        {
          "output_type": "execute_result",
          "data": {
            "text/plain": [
              "44"
            ]
          },
          "metadata": {
            "tags": []
          },
          "execution_count": 15
        }
      ]
    },
    {
      "cell_type": "code",
      "metadata": {
        "id": "moic-Gmfst9D",
        "colab_type": "code",
        "outputId": "706ed595-6294-45c7-f24c-516edc9241b4",
        "colab": {
          "base_uri": "https://localhost:8080/",
          "height": 54
        }
      },
      "source": [
        "df_train.user_review[8]"
      ],
      "execution_count": 16,
      "outputs": [
        {
          "output_type": "execute_result",
          "data": {
            "text/plain": [
              "\"Somewhere between light hearted, happy parody and being afraid of the dark lies Spooky's House of Jump Scares. You are tasked with the daunting duty of surviving one thousand rooms in this endless first person perspective runner. Each room is no more than a few seconds thanks to a sprint key and the fact that each door counts as a new room. Even then one thousand rooms is still a feat against tedium and needless repetition. There are still things every fifteen or so rooms to keep your interest and at the end of fifty rooms you'll find a save point, but nothing can save you from permanent death at the hands of the foul creatures that live within.On the surface the game has a clean, chipper almost cartoon low budget charm to it. Jump scares are rare and at first it comes in the form of adorable cardboard cutouts of pumpkins, ghosts and skeletons that pop out of the wall accompanied by a sound. Some of the sounds are silly and unfitting other times its screeches to drive chills down your spine. The game excels in the sound department and makes good use of music, ambient sounds and foot steps following you.As you delve deeper through the doors of this dank dungeon, you'll uncover more frightening things and points of intreege. There are plenty of written notes here and there. A few times you'll need to search for a key in a different room, but the other ninety-nine percent of the game is leaving rooms behind forever.The themes of the rooms begin to change from the mundane almost Wolfenstien 3D-esque corridors to metal asylum rooms that give you a flashlight to find your way through. There are purple dungeons, green sewers with glowing scum. Some rooms are coated with slime to slow you own while others have holes in the ceiling as if to give you a feeling of dread that something could pop out.There are a limited amount of rooms and I started to memorize them all. Even the game's crescendo encounters in a vacant room with walkways. There's no way to fall into the dark chasms, it acts as if they were walls, but with this open room you get to see a specific creature that might be following you. Sometimes they can float over the gaps, other times they're stuck trying to walk at you from across the gap so you can get a good look at them when they're harmless.If they touch you three or so times you're dead. You have health that does replenish over time and these big moments are rare and easy to avoid. Just keep running and hope there are no locked doors! They only happen in specific rooms and sometimes the rooms are empty, but it still gives that dreadful feeling.You can tear through these rooms pretty quick about 350 of them in a 45 minute. Your stamina will deplete to give a monster the chance to catch you, but going through a door restores your will to run. Other than that waiting a few seconds will replenish your stamina. Longer rooms hav1e limited visibility. The further out an area is the darker it gets.A few rooms have good diversions or tricks to them. Such as one that turns bright and you need to enter the correct combination of corridors signaled by chimes until you can see the door. Another room is endless darkness with a torch at the end, until its revealed that the torch is merely painted on a black wall. A few times you'll need to search an adjacent room for a key to the one you're in.Every fifty rooms, you take a moment to unwind in an elevator that reminds you to hang in there or have a coffee break. The game makes a good balance of calm moments for each of the few tense situations. Its what keeps you off kilter and never expecting anything. Every two hundred and fifty rooms offers a prize to you. What's in the box? Is it snakes? Is it a jack-in-the-box or is it a note?Truth be told I'm very goal oriented with video games and so Spooky missed its mark for me. The cardboard cutouts get in the way. Being chased by something means that it was no threat since it was already behind me. Perhaps in later rooms it gets more difficult, but this is just easy tedium.  Another room, another room, another room. Then knowing I have seven hundred more rooms and another two hour investment of endless running turns the game into a grind. There's no fear and its too long to endure even with save points. The game reuses its points of interest a few times since it recycles rooms.Another issue I have with the game is getting stuck on edges where I need to push away from a wall to get free and turn a corner. Its more than walls, its on the gaps too. I suppose this is acceptable for a scary game where you get chased, but I'm hung up on these hang ups.One interesting thing the game does have is a stabbing mini game where it looks like you're a ghost in a mall. Its a good diversion from the repetition. There's even a computer that shows you all the creatures in the house. Well most of them at least.The best selling point this game has is that its free. By no means does that make this a good game, but it makes it easier to accept. Its a game that brings you up with charm to tear you down with scares beyond the cheap cardboard cutouts that can litter a hallway every so often. Its just far too repetitive without that much dread or excitement.\""
            ]
          },
          "metadata": {
            "tags": []
          },
          "execution_count": 16
        }
      ]
    },
    {
      "cell_type": "code",
      "metadata": {
        "id": "q9dTAQWkB5tG",
        "colab_type": "code",
        "outputId": "254b6b69-c9e5-4b67-a5d7-abbf4c7c63b4",
        "colab": {
          "base_uri": "https://localhost:8080/",
          "height": 530
        }
      },
      "source": [
        "#import library\n",
        "import nltk\n",
        "import re\n",
        "from nltk.tokenize import sent_tokenize\n",
        "from nltk.tokenize import word_tokenize\n",
        "from nltk.corpus import stopwords\n",
        "nltk.download('wordnet')\n",
        "from nltk.stem import WordNetLemmatizer\n",
        "from nltk.stem import PorterStemmer \n",
        "from textblob import TextBlob\n",
        "nltk.download('punkt')\n",
        "#from spacy_langdetect import LanguageDetector\n",
        "import spacy\n",
        "nltk.download('averaged_perceptron_tagger')\n",
        "from nltk import pos_tag\n",
        "nltk.download('stopwords')\n",
        "stop_words = set(stopwords.words('english'))\n",
        "!pip install spacy-langdetect\n",
        "from spacy_langdetect import LanguageDetector"
      ],
      "execution_count": 17,
      "outputs": [
        {
          "output_type": "stream",
          "text": [
            "[nltk_data] Downloading package wordnet to /root/nltk_data...\n",
            "[nltk_data]   Unzipping corpora/wordnet.zip.\n",
            "[nltk_data] Downloading package punkt to /root/nltk_data...\n",
            "[nltk_data]   Unzipping tokenizers/punkt.zip.\n",
            "[nltk_data] Downloading package averaged_perceptron_tagger to\n",
            "[nltk_data]     /root/nltk_data...\n",
            "[nltk_data]   Unzipping taggers/averaged_perceptron_tagger.zip.\n",
            "[nltk_data] Downloading package stopwords to /root/nltk_data...\n",
            "[nltk_data]   Unzipping corpora/stopwords.zip.\n",
            "Collecting spacy-langdetect\n",
            "  Downloading https://files.pythonhosted.org/packages/29/70/72dad19abe81ca8e85ff951da170915211d42d705a001d7e353af349a704/spacy_langdetect-0.1.2-py3-none-any.whl\n",
            "Requirement already satisfied: pytest in /usr/local/lib/python3.6/dist-packages (from spacy-langdetect) (3.6.4)\n",
            "Collecting langdetect==1.0.7\n",
            "\u001b[?25l  Downloading https://files.pythonhosted.org/packages/59/59/4bc44158a767a6d66de18c4136c8aa90491d56cc951c10b74dd1e13213c9/langdetect-1.0.7.zip (998kB)\n",
            "\u001b[K     |████████████████████████████████| 1.0MB 3.4MB/s \n",
            "\u001b[?25hRequirement already satisfied: more-itertools>=4.0.0 in /usr/local/lib/python3.6/dist-packages (from pytest->spacy-langdetect) (8.2.0)\n",
            "Requirement already satisfied: py>=1.5.0 in /usr/local/lib/python3.6/dist-packages (from pytest->spacy-langdetect) (1.8.1)\n",
            "Requirement already satisfied: six>=1.10.0 in /usr/local/lib/python3.6/dist-packages (from pytest->spacy-langdetect) (1.12.0)\n",
            "Requirement already satisfied: attrs>=17.4.0 in /usr/local/lib/python3.6/dist-packages (from pytest->spacy-langdetect) (19.3.0)\n",
            "Requirement already satisfied: setuptools in /usr/local/lib/python3.6/dist-packages (from pytest->spacy-langdetect) (46.1.3)\n",
            "Requirement already satisfied: atomicwrites>=1.0 in /usr/local/lib/python3.6/dist-packages (from pytest->spacy-langdetect) (1.3.0)\n",
            "Requirement already satisfied: pluggy<0.8,>=0.5 in /usr/local/lib/python3.6/dist-packages (from pytest->spacy-langdetect) (0.7.1)\n",
            "Building wheels for collected packages: langdetect\n",
            "  Building wheel for langdetect (setup.py) ... \u001b[?25l\u001b[?25hdone\n",
            "  Created wheel for langdetect: filename=langdetect-1.0.7-cp36-none-any.whl size=993459 sha256=068b1e134a78c9219312da6e22468f062f88cf6bcbce41ff9195b3e266a4581e\n",
            "  Stored in directory: /root/.cache/pip/wheels/ec/0c/a9/1647275e7ef5014e7b83ff30105180e332867d65e7617ddafe\n",
            "Successfully built langdetect\n",
            "Installing collected packages: langdetect, spacy-langdetect\n",
            "Successfully installed langdetect-1.0.7 spacy-langdetect-0.1.2\n"
          ],
          "name": "stdout"
        }
      ]
    },
    {
      "cell_type": "markdown",
      "metadata": {
        "id": "FXcsbqTdkkiz",
        "colab_type": "text"
      },
      "source": [
        "### **Other language present in the dataset**"
      ]
    },
    {
      "cell_type": "code",
      "metadata": {
        "id": "8uBeso-jkgRY",
        "colab_type": "code",
        "colab": {}
      },
      "source": [
        "nlp = spacy.load(\"en\")\n",
        "nlp.add_pipe(LanguageDetector(), name=\"language_detector\", last=True)\n",
        "def spa_detect(df):\n",
        "  doc = nlp(df)\n",
        "  return(doc._.language['language'])\n"
      ],
      "execution_count": 0,
      "outputs": []
    },
    {
      "cell_type": "code",
      "metadata": {
        "id": "_mezSlUCm9g7",
        "colab_type": "code",
        "colab": {}
      },
      "source": [
        "x=df_test.user_review.apply(spa_detect)"
      ],
      "execution_count": 0,
      "outputs": []
    },
    {
      "cell_type": "code",
      "metadata": {
        "id": "71JqHtmsEAZi",
        "colab_type": "code",
        "colab": {}
      },
      "source": [
        "#df_train.user_review.apply(no_of_words)\n",
        "df_test['language']=x"
      ],
      "execution_count": 0,
      "outputs": []
    },
    {
      "cell_type": "code",
      "metadata": {
        "id": "9viQIr6M37CT",
        "colab_type": "code",
        "outputId": "fe3d90d2-213b-4187-96f8-ab01bb05144b",
        "colab": {
          "base_uri": "https://localhost:8080/",
          "height": 285
        }
      },
      "source": [
        "sns.set(style=\"darkgrid\")\n",
        "ax = sns.countplot(x=\"language\", data=df_test)"
      ],
      "execution_count": 77,
      "outputs": [
        {
          "output_type": "display_data",
          "data": {
            "image/png": "[encoded data removed]",
            "text/plain": [
              "<Figure size 432x288 with 1 Axes>"
            ]
          },
          "metadata": {
            "tags": []
          }
        }
      ]
    },
    {
      "cell_type": "code",
      "metadata": {
        "id": "nw0VXkpG5SfS",
        "colab_type": "code",
        "colab": {
          "base_uri": "https://localhost:8080/",
          "height": 493
        },
        "outputId": "004b00af-e6f5-4264-8c81-64f8bc58d00a"
      },
      "source": [
        "df_test.language.value_counts()"
      ],
      "execution_count": 78,
      "outputs": [
        {
          "output_type": "execute_result",
          "data": {
            "text/plain": [
              "en         7957\n",
              "UNKNOWN      21\n",
              "ru           12\n",
              "pt            6\n",
              "de            5\n",
              "es            5\n",
              "tr            4\n",
              "fr            4\n",
              "ja            4\n",
              "zh-cn         3\n",
              "cy            3\n",
              "vi            2\n",
              "th            2\n",
              "ca            2\n",
              "nl            2\n",
              "ro            2\n",
              "sk            1\n",
              "it            1\n",
              "sq            1\n",
              "ko            1\n",
              "pl            1\n",
              "id            1\n",
              "bg            1\n",
              "hr            1\n",
              "af            1\n",
              "cs            1\n",
              "tl            1\n",
              "Name: language, dtype: int64"
            ]
          },
          "metadata": {
            "tags": []
          },
          "execution_count": 78
        }
      ]
    },
    {
      "cell_type": "code",
      "metadata": {
        "id": "-pM9bWRw4iou",
        "colab_type": "code",
        "outputId": "741769c3-99cf-4abb-8ae4-1e7b519b1ab3",
        "colab": {
          "base_uri": "https://localhost:8080/",
          "height": 170
        }
      },
      "source": [
        "df_test[df_test.language!='en'].index"
      ],
      "execution_count": 79,
      "outputs": [
        {
          "output_type": "execute_result",
          "data": {
            "text/plain": [
              "Int64Index([   7,   11,   49,   53,   72,   88,  298,  300,  302,  343,  373,\n",
              "             405,  439,  535,  615,  653,  654,  757, 1072, 1431, 1497, 1535,\n",
              "            1636, 1640, 1652, 1725, 1763, 1787, 1802, 1897, 2330, 2457, 2547,\n",
              "            2676, 2955, 3275, 3323, 3397, 3984, 4006, 4144, 4315, 4384, 4547,\n",
              "            4618, 4735, 4833, 4998, 5002, 5037, 5217, 5461, 5534, 5695, 5696,\n",
              "            5738, 5822, 5832, 5833, 5835, 5846, 5858, 5868, 5890, 6038, 6059,\n",
              "            7031, 7213, 7249, 7304, 7349, 7360, 7362, 7443, 7455, 7457, 7483,\n",
              "            7498, 7513, 7535, 7550, 7555, 7644, 7676, 7690, 7760, 7844, 7876],\n",
              "           dtype='int64')"
            ]
          },
          "metadata": {
            "tags": []
          },
          "execution_count": 79
        }
      ]
    },
    {
      "cell_type": "code",
      "metadata": {
        "colab_type": "code",
        "id": "xbVZb8uE46nj",
        "colab": {}
      },
      "source": [
        "df_test.drop(index=df_test[df_test.language!='en'].index,axis=0,inplace=True)"
      ],
      "execution_count": 0,
      "outputs": []
    },
    {
      "cell_type": "code",
      "metadata": {
        "id": "ZLbuH5f35sDo",
        "colab_type": "code",
        "colab": {}
      },
      "source": [
        "df_test.drop(columns=['language'],inplace=True)"
      ],
      "execution_count": 0,
      "outputs": []
    },
    {
      "cell_type": "code",
      "metadata": {
        "id": "wV-CM6Jd6Glo",
        "colab_type": "code",
        "colab": {}
      },
      "source": [
        "df_test=df_test.reset_index().drop(columns=['index'])"
      ],
      "execution_count": 0,
      "outputs": []
    },
    {
      "cell_type": "code",
      "metadata": {
        "id": "h_gZs6RE-bEL",
        "colab_type": "code",
        "colab": {}
      },
      "source": [
        "\n",
        "df_tr_new=pd.read_csv(lis[6])"
      ],
      "execution_count": 0,
      "outputs": []
    },
    {
      "cell_type": "code",
      "metadata": {
        "id": "2z-pncWHf_2D",
        "colab_type": "code",
        "colab": {}
      },
      "source": [
        "y=df_tr_new.user_review.apply(preprocess,args=('no',))"
      ],
      "execution_count": 0,
      "outputs": []
    },
    {
      "cell_type": "code",
      "metadata": {
        "id": "d9c99cGKghr6",
        "colab_type": "code",
        "colab": {}
      },
      "source": [
        "df_tr_new['Totalunigrams']=y"
      ],
      "execution_count": 0,
      "outputs": []
    },
    {
      "cell_type": "code",
      "metadata": {
        "id": "zkXHxx2CgjSj",
        "colab_type": "code",
        "colab": {}
      },
      "source": [
        "df_pos=df_tr_new[df_tr_new['user_suggestion']==1]['Totalunigrams']\n",
        "df_neg=df_tr_new[df_tr_new['user_suggestion']==0]['Totalunigrams']"
      ],
      "execution_count": 0,
      "outputs": []
    },
    {
      "cell_type": "code",
      "metadata": {
        "id": "ix-RrJUWcjry",
        "colab_type": "code",
        "outputId": "6e5fa7c7-f927-4cf0-84ce-d001c39a4e23",
        "colab": {
          "base_uri": "https://localhost:8080/",
          "height": 776
        }
      },
      "source": [
        "df_tr_new"
      ],
      "execution_count": 28,
      "outputs": [
        {
          "output_type": "execute_result",
          "data": {
            "text/html": [
              "<div>\n",
              "<style scoped>\n",
              "    .dataframe tbody tr th:only-of-type {\n",
              "        vertical-align: middle;\n",
              "    }\n",
              "\n",
              "    .dataframe tbody tr th {\n",
              "        vertical-align: top;\n",
              "    }\n",
              "\n",
              "    .dataframe thead th {\n",
              "        text-align: right;\n",
              "    }\n",
              "</style>\n",
              "<table border=\"1\" class=\"dataframe\">\n",
              "  <thead>\n",
              "    <tr style=\"text-align: right;\">\n",
              "      <th></th>\n",
              "      <th>Unnamed: 0</th>\n",
              "      <th>review_id</th>\n",
              "      <th>title</th>\n",
              "      <th>year</th>\n",
              "      <th>user_review</th>\n",
              "      <th>user_suggestion</th>\n",
              "      <th>language</th>\n",
              "      <th>Totalunigrams</th>\n",
              "    </tr>\n",
              "  </thead>\n",
              "  <tbody>\n",
              "    <tr>\n",
              "      <th>0</th>\n",
              "      <td>0</td>\n",
              "      <td>1</td>\n",
              "      <td>Spooky's Jump Scare Mansion</td>\n",
              "      <td>2016.0</td>\n",
              "      <td>I'm scared and hearing creepy voices.  So I'll...</td>\n",
              "      <td>1</td>\n",
              "      <td>en</td>\n",
              "      <td>67</td>\n",
              "    </tr>\n",
              "    <tr>\n",
              "      <th>1</th>\n",
              "      <td>1</td>\n",
              "      <td>2</td>\n",
              "      <td>Spooky's Jump Scare Mansion</td>\n",
              "      <td>2016.0</td>\n",
              "      <td>Best game, more better than Sam Pepper's YouTu...</td>\n",
              "      <td>1</td>\n",
              "      <td>en</td>\n",
              "      <td>37</td>\n",
              "    </tr>\n",
              "    <tr>\n",
              "      <th>2</th>\n",
              "      <td>2</td>\n",
              "      <td>3</td>\n",
              "      <td>Spooky's Jump Scare Mansion</td>\n",
              "      <td>2016.0</td>\n",
              "      <td>A littly iffy on the controls, but once you kn...</td>\n",
              "      <td>1</td>\n",
              "      <td>en</td>\n",
              "      <td>38</td>\n",
              "    </tr>\n",
              "    <tr>\n",
              "      <th>3</th>\n",
              "      <td>3</td>\n",
              "      <td>4</td>\n",
              "      <td>Spooky's Jump Scare Mansion</td>\n",
              "      <td>2015.0</td>\n",
              "      <td>Great game, fun and colorful and all that.A si...</td>\n",
              "      <td>1</td>\n",
              "      <td>en</td>\n",
              "      <td>24</td>\n",
              "    </tr>\n",
              "    <tr>\n",
              "      <th>4</th>\n",
              "      <td>4</td>\n",
              "      <td>5</td>\n",
              "      <td>Spooky's Jump Scare Mansion</td>\n",
              "      <td>2015.0</td>\n",
              "      <td>Not many games have the cute tag right next to...</td>\n",
              "      <td>1</td>\n",
              "      <td>en</td>\n",
              "      <td>34</td>\n",
              "    </tr>\n",
              "    <tr>\n",
              "      <th>...</th>\n",
              "      <td>...</td>\n",
              "      <td>...</td>\n",
              "      <td>...</td>\n",
              "      <td>...</td>\n",
              "      <td>...</td>\n",
              "      <td>...</td>\n",
              "      <td>...</td>\n",
              "      <td>...</td>\n",
              "    </tr>\n",
              "    <tr>\n",
              "      <th>17273</th>\n",
              "      <td>17489</td>\n",
              "      <td>25535</td>\n",
              "      <td>EverQuest II</td>\n",
              "      <td>2012.0</td>\n",
              "      <td>Arguably the single greatest mmorp that exists...</td>\n",
              "      <td>1</td>\n",
              "      <td>en</td>\n",
              "      <td>99</td>\n",
              "    </tr>\n",
              "    <tr>\n",
              "      <th>17274</th>\n",
              "      <td>17490</td>\n",
              "      <td>25536</td>\n",
              "      <td>EverQuest II</td>\n",
              "      <td>2017.0</td>\n",
              "      <td>An older game, to be sure, but has its own cha...</td>\n",
              "      <td>1</td>\n",
              "      <td>en</td>\n",
              "      <td>132</td>\n",
              "    </tr>\n",
              "    <tr>\n",
              "      <th>17275</th>\n",
              "      <td>17491</td>\n",
              "      <td>25537</td>\n",
              "      <td>EverQuest II</td>\n",
              "      <td>2011.0</td>\n",
              "      <td>When I frist started playing Everquest 2 it wa...</td>\n",
              "      <td>1</td>\n",
              "      <td>en</td>\n",
              "      <td>158</td>\n",
              "    </tr>\n",
              "    <tr>\n",
              "      <th>17276</th>\n",
              "      <td>17492</td>\n",
              "      <td>25538</td>\n",
              "      <td>EverQuest II</td>\n",
              "      <td>NaN</td>\n",
              "      <td>cool game. THe only thing that REALLY PISSES M...</td>\n",
              "      <td>1</td>\n",
              "      <td>en</td>\n",
              "      <td>22</td>\n",
              "    </tr>\n",
              "    <tr>\n",
              "      <th>17277</th>\n",
              "      <td>17493</td>\n",
              "      <td>25539</td>\n",
              "      <td>EverQuest II</td>\n",
              "      <td>NaN</td>\n",
              "      <td>this game since I was a little kid, always hav...</td>\n",
              "      <td>1</td>\n",
              "      <td>en</td>\n",
              "      <td>26</td>\n",
              "    </tr>\n",
              "  </tbody>\n",
              "</table>\n",
              "<p>17278 rows × 8 columns</p>\n",
              "</div>"
            ],
            "text/plain": [
              "       Unnamed: 0  review_id  ... language  Totalunigrams\n",
              "0               0          1  ...       en             67\n",
              "1               1          2  ...       en             37\n",
              "2               2          3  ...       en             38\n",
              "3               3          4  ...       en             24\n",
              "4               4          5  ...       en             34\n",
              "...           ...        ...  ...      ...            ...\n",
              "17273       17489      25535  ...       en             99\n",
              "17274       17490      25536  ...       en            132\n",
              "17275       17491      25537  ...       en            158\n",
              "17276       17492      25538  ...       en             22\n",
              "17277       17493      25539  ...       en             26\n",
              "\n",
              "[17278 rows x 8 columns]"
            ]
          },
          "metadata": {
            "tags": []
          },
          "execution_count": 28
        }
      ]
    },
    {
      "cell_type": "code",
      "metadata": {
        "id": "e6dQNhAGgjOt",
        "colab_type": "code",
        "outputId": "eafa8993-2821-4589-a91e-f2a83142e92c",
        "colab": {
          "base_uri": "https://localhost:8080/",
          "height": 312
        }
      },
      "source": [
        "\n",
        "suggestions = [1,0]\n",
        "\n",
        "for suggest in suggestions:\n",
        "    subset = df_tr_new[df_tr_new['user_suggestion'] == suggest]\n",
        "    \n",
        "    sns.distplot(subset['Totalunigrams'], hist = False, kde = True,\n",
        "                 kde_kws = {'linewidth': 3},\n",
        "                 label =suggest)\n",
        "    \n",
        "# Plot formatting\n",
        "plt.legend(prop={'size': 16}, title = 'Unigrams')\n",
        "plt.title('Plotting of totalunigrams')\n",
        "plt.xlabel('total words')\n",
        "plt.ylabel('Density')"
      ],
      "execution_count": 29,
      "outputs": [
        {
          "output_type": "execute_result",
          "data": {
            "text/plain": [
              "Text(0, 0.5, 'Density')"
            ]
          },
          "metadata": {
            "tags": []
          },
          "execution_count": 29
        },
        {
          "output_type": "display_data",
          "data": {
            "image/png": "[encoded data removed]",
            "text/plain": [
              "<Figure size 432x288 with 1 Axes>"
            ]
          },
          "metadata": {
            "tags": [],
            "needs_background": "light"
          }
        }
      ]
    },
    {
      "cell_type": "code",
      "metadata": {
        "id": "zc53V51OgjHS",
        "colab_type": "code",
        "outputId": "1cfdfc23-78f7-4502-8668-6e383fcc3b10",
        "colab": {
          "base_uri": "https://localhost:8080/",
          "height": 221
        }
      },
      "source": [
        "df_train.user_review.apply(bi_grm)"
      ],
      "execution_count": 30,
      "outputs": [
        {
          "output_type": "execute_result",
          "data": {
            "text/plain": [
              "0        [(scared, hearing), (hearing, creepy), (creepy...\n",
              "1        [(best, game), (game, better), (better, sam), ...\n",
              "2        [(littly, iffy), (iffy, controls), (controls, ...\n",
              "3        [(great, game), (game, fun), (fun, colorful), ...\n",
              "4        [(many, games), (games, cute), (cute, tag), (t...\n",
              "                               ...                        \n",
              "17489    [(arguably, single), (single, greatest), (grea...\n",
              "17490    [(older, game), (game, sure), (sure, charm), (...\n",
              "17491    [(frist, started), (started, playing), (playin...\n",
              "17492    [(cool, game), (game, thing), (thing, really),...\n",
              "17493    [(game, since), (since, little), (little, kid)...\n",
              "Name: user_review, Length: 17494, dtype: object"
            ]
          },
          "metadata": {
            "tags": []
          },
          "execution_count": 30
        }
      ]
    },
    {
      "cell_type": "code",
      "metadata": {
        "id": "E7XbjLwWgjDi",
        "colab_type": "code",
        "outputId": "1b51014d-c0c8-4fbb-a3b1-f957b2312bd3",
        "colab": {
          "base_uri": "https://localhost:8080/",
          "height": 34
        }
      },
      "source": [
        "print(pos_tag(word_tokenize(\"This is beautiful\")))"
      ],
      "execution_count": 31,
      "outputs": [
        {
          "output_type": "stream",
          "text": [
            "[('This', 'DT'), ('is', 'VBZ'), ('beautiful', 'JJ')]\n"
          ],
          "name": "stdout"
        }
      ]
    },
    {
      "cell_type": "code",
      "metadata": {
        "id": "AmrlR1Whgi_u",
        "colab_type": "code",
        "colab": {}
      },
      "source": [
        "##extract the pos tags\n",
        "\n",
        "def POS_tag(df):\n",
        "  ls=[]\n",
        "  token_comment = df\n",
        "  tagged_comment = pos_tag(token_comment)\n",
        "  return([word for word, tag in tagged_comment if (tag=='JJ' or tag=='JJR' or tag=='JJS')])"
      ],
      "execution_count": 0,
      "outputs": []
    },
    {
      "cell_type": "code",
      "metadata": {
        "id": "9DlP6hv_zOWe",
        "colab_type": "code",
        "colab": {}
      },
      "source": [
        "tok=df_tr_new.user_review.apply(preprocess,args=('yes',))"
      ],
      "execution_count": 0,
      "outputs": []
    },
    {
      "cell_type": "code",
      "metadata": {
        "id": "-Fs24G_Sgi7p",
        "colab_type": "code",
        "colab": {}
      },
      "source": [
        "z=tok.apply(POS_tag)"
      ],
      "execution_count": 0,
      "outputs": []
    },
    {
      "cell_type": "code",
      "metadata": {
        "id": "kDDYk5DWgi3s",
        "colab_type": "code",
        "colab": {}
      },
      "source": [
        "m=z.apply(stemming)"
      ],
      "execution_count": 0,
      "outputs": []
    },
    {
      "cell_type": "code",
      "metadata": {
        "id": "0BTNWF_JgikC",
        "colab_type": "code",
        "colab": {}
      },
      "source": [
        "s=nltk.FreqDist(m[0])"
      ],
      "execution_count": 0,
      "outputs": []
    },
    {
      "cell_type": "code",
      "metadata": {
        "id": "JQb-4Qctgiur",
        "colab_type": "code",
        "colab": {}
      },
      "source": [
        "for i in range(1,17278):\n",
        "  s+=nltk.FreqDist(m[i])"
      ],
      "execution_count": 0,
      "outputs": []
    },
    {
      "cell_type": "code",
      "metadata": {
        "id": "wavPvtTrOm0U",
        "colab_type": "code",
        "colab": {}
      },
      "source": [
        "ls=[]\n",
        "for i in range(len(z)):\n",
        "  ls.append(z[i])"
      ],
      "execution_count": 0,
      "outputs": []
    },
    {
      "cell_type": "code",
      "metadata": {
        "id": "nGXx93nBHCZC",
        "colab_type": "code",
        "colab": {
          "base_uri": "https://localhost:8080/",
          "height": 1000
        },
        "outputId": "695ecaed-80e9-40d4-a872-5d6923eb8376"
      },
      "source": [
        " ls"
      ],
      "execution_count": 49,
      "outputs": [
        {
          "output_type": "execute_result",
          "data": {
            "text/plain": [
              "['scared calm adorable happy tree sceme bubble clean isnot likable odd noob oh full dead shine flashlight hmm afraid',\n",
              " 'best sam pepper extra scary',\n",
              " 'iffy easy due certain unable finish bug casual fellow',\n",
              " 'great colorful mode fullscreen enjoyable skyrim',\n",
              " 'many right next late first good free close',\n",
              " 'early cute jumpscare enjoyable worth great',\n",
              " 'great cute little little watched several',\n",
              " 'spooky free win ok ok wrong different try info free reviewshttp spooky',\n",
              " 'light happy afraid spooky perspective key new tedium needless save save permanent foul clean low first adorable sound spine good foot deep dungeon intreege key different forever flashlight purple green slow limited vacant chasms open specific float good dead replenish big rare easy avoid specific dreadful tear quick deplete give door replenish limited good bright correct door torch black search adjacent hang good tense box video difficult easy long free suppose acceptable scary interesting mini good least best free good easy accept cheap repetitive much',\n",
              " 'little wall much good funny sad good',\n",
              " 'early cute wrong romantic',\n",
              " 'early ghosty goo scary die tree wall stabs needle romantic',\n",
              " 'early adorable dont guard chased deadtaken deadtaken dead',\n",
              " 'early confused complete',\n",
              " 'normal title right free',\n",
              " 'short great simple next free wrong',\n",
              " 'chased watch',\n",
              " 'cute popular free positive',\n",
              " 'scary scary cute scary great free give wish suggest scary awesome cute',\n",
              " 'played good hard avoid',\n",
              " 'cute adorble cute scary spooky scary little dark certian dead dispite dark scary oh joking',\n",
              " 'evil great freebie let childish horror bad',\n",
              " 'early simple farthest survival many scary cute scary effective enjoyed alien give',\n",
              " 'best free horrible cute cute open bad real cute free pleaseant',\n",
              " 'cute mesh many delightful horrible cheerful little wooden early real learn mean likely startle',\n",
              " 'great true important',\n",
              " 'early quirky entire short complex many possible little long repetitive short save necessary little possible miss several efficient little high close enough manage next cutesy rare disturbing chase detracted occasional successful atmosphere high next give least different overall unique',\n",
              " 'harmless cute dark free',\n",
              " 'good much minimum tired laggy pretty decent',\n",
              " 'alright fine cute green puddle green deep stumble next',\n",
              " 'disappointed bored empty uneasy little oh knife',\n",
              " 'incredible title initial first progress scenery unease whole adorable outstanding sound unnerving free decent',\n",
              " 'thae happy worth understand free',\n",
              " 'horror bush mockery sinister tedious special simple end survive new initial chase perilious special big spooky least high luck endless possible many new many old hospitial horror short new little recommend hd stuff',\n",
              " 'little ly hear cutesy scary wrong dead wrong soft lull false dumptruck clear monstrous popular freddy resident evil able short sp00ky pick prepare new underwear',\n",
              " 'many favorite critical scary cute small many free',\n",
              " 'cute perfect late oh ok tiny carboard cadboard wash carboard free great simple long wash free',\n",
              " 'scary free fair creepy cute unrealistic sure great little good scare cute funny good low different',\n",
              " 'right fantastic cool horrible static spookyness audio static various great _ perfect audio',\n",
              " 'famous give scary first concept simple reach tense beat keep indie',\n",
              " 'dev creepy cardboard different different ignore sure scary',\n",
              " 'gotten expensive excrement',\n",
              " 'various sacrier freddy main antagonist sandvich33 spooky',\n",
              " 'favorite free incorrect awesome laugh old',\n",
              " 'short worth tedious next fun type creepy dlc',\n",
              " 'great full afraid free addictive dark dark short',\n",
              " 'early great cute funny cute safe creepy videos great free',\n",
              " 'early worth free little pretty transparent thin deep less second many interested underwhelming scary enough simple interested',\n",
              " 'early scary',\n",
              " 'creepy scary cute cardboard new scary dead eat advice run little cute',\n",
              " 'ish boring creepy creepy farthest',\n",
              " 'interesting decent calm',\n",
              " 'early intense great glad whole agree great please unheard',\n",
              " 'causing escape',\n",
              " 'charm adorable unthreatening atmosphere key scary',\n",
              " 'much first happy screen happy',\n",
              " 'scary laugh see spooked free specs',\n",
              " 'early free quality full structured aware accomplish spots clever horror best close second',\n",
              " 'spoiler alert sure cute funny jumpscared cute theâ true slow creepypasta nightmare weird dude little mermaid little cute loud video underwear llâ',\n",
              " 'adorable scary worth',\n",
              " 'recomend basic old fun short emersive trapped maze strong sake main real enough chase old parody silly real real good spend',\n",
              " 'appreciate free expensive free',\n",
              " 'scared scary scary green ooze narrow long japanese cryaotic oh dear good sound free',\n",
              " 'good o_o random different different nice different funny good good overall fun',\n",
              " 'neat cute first cute',\n",
              " 'favorite panic cut little squid bunch call till final pro free',\n",
              " 'early dead slimy green great numerous first near pc thought exit dead wish',\n",
              " 'first live scare second care positive certain multi musical good disappointed good noped second cutesy amazing obvious fun',\n",
              " 'super free tested average scary',\n",
              " 'early little large messed',\n",
              " 'good past rear least heal little second last pick free straight',\n",
              " 'cute scary crawls give',\n",
              " 'crazy adn stay normal',\n",
              " 'early playin found give arcade thought great',\n",
              " 'early cheap scare actual legitimate spooky amazing true alive xd fun intense funny intense',\n",
              " 'wish pro personal free little noted enough proper first cute grim graphical audio overhear new different polished first first first creative static little great simple good last right dive dull audio used different deep climactic nostalgic free f2p odd low dull minorly pull mixed overall f2p free worth least heartbeat audio climactic',\n",
              " 'interesting visual good comical misc slow spooky great interesting long',\n",
              " 'wonderful big archibald key drank big drunk pretty scary',\n",
              " 'scarest scary crepy storyline',\n",
              " 'potential special sick amazing complete short',\n",
              " 'early last many shut secret',\n",
              " 'small horrific red red beat key',\n",
              " 'good multplayer die 50th',\n",
              " 'easy appreciate advantage excellent stuff true spooky great laggy screen smile next screen easy past substitute give free hd',\n",
              " 'early new underwear adorable hard outlast enjoy',\n",
              " 'hear afraid whyi redi come worth little friendspooky survive many many questionsmy heavy endi else deadthere many axe fine pick little open last final seemedthe sad misunderstoodturns lasted appearthe final inour',\n",
              " 'cute scary sudden ok',\n",
              " 'short phenominal worth suspenseful good least little go',\n",
              " 'lie im jewish scare',\n",
              " 'early free simple sh creepy deep loved great relief many tag fnaf cut resident strange single dark flashlight simple',\n",
              " 'nice overall boring repetitive free used repetitive waste',\n",
              " 'early genuine gradual scary last calm spookiness previous rare interesting fun gimic popular containment free',\n",
              " 'small spooky first',\n",
              " 'early free simple sh creepy deep loved great relief many tag fnaf cut resident strange single dark flashlight simple',\n",
              " 'early read skeptical fun nice fun dark',\n",
              " 'adorable cardboard â thirsty note weird crazy next nope',\n",
              " 'early cute scary first real',\n",
              " 'normal creepy scary pretty quick scary',\n",
              " 'positive',\n",
              " 'bad scary scary worth',\n",
              " 'enough wooden adhere difficult narrow random random wrong wiki several bad save particular little good free many',\n",
              " 'spooky boring tedious free least forgettable',\n",
              " 'potential little suspense scary',\n",
              " 'early played cute stuff great backstory wish',\n",
              " 'early holy bad scary',\n",
              " 'early cute cute unexpected dead',\n",
              " 'early free ambient compliment spookys play good',\n",
              " 'early many right great early much release enjoyable least scary neat open great small strong enemy cute ish interesting dig great spooky',\n",
              " 'early upcoming many nice right cute scared',\n",
              " 'early friendly much recromend new hidden',\n",
              " 'early first harmless cute scary deep real',\n",
              " 'cute daylight satan true fan save true',\n",
              " 'early procedural mish serious classic japanese happy arcade maze simple maximum punch small content free',\n",
              " 'early great new facade innocent neverending festival godforsaken least expect long dark dead dead dead dead dead dead dead dead dead dead dead dead dead dead dead dead dead dead dead',\n",
              " 'early free great next update',\n",
              " 'boring start boring next whole boring forget old oh ta fun enemy untill boring fantastic free good',\n",
              " 'early cardboard got didnt excpect scary gotten free good',\n",
              " 'free sound glitchy frightening see key simple past broken',\n",
              " 'hmm sixty hard top',\n",
              " 'early real calm spooky last',\n",
              " 'boring repetitive goldfish strong enough fail',\n",
              " 'jumpscare decided',\n",
              " 'early positive played first light first actual horror first actual spooky frightened awesome romantic',\n",
              " 'early spooky last dead former',\n",
              " 'alone beautiful scary',\n",
              " 'fantastic scary due animatronic cute little lantern whole terrible',\n",
              " 'worth free easy represent felt good certain many many backstory hidden scary',\n",
              " 'hear afraid whyi redi come worth little friendspooky survive many many questionsmy heavy endi else deadthere many axe fine pick little open last final seemedthe sad misunderstoodturns lasted appearthe final inour',\n",
              " 'tedious describe boring discernible worthwhile',\n",
              " 'spend empty broken occasional past initial environmental mishmash popular lasting worth unsatisfying much good',\n",
              " 'early january say used genuine cute stylish resident fan early many related fails error subject loose early worthy',\n",
              " 'ghz hard available',\n",
              " 'positive give free much repetitive empty next',\n",
              " 'scary many scared scary',\n",
              " 'early cant impossible small boring',\n",
              " 'adorable cardboard thirsty note weird crazy god cute next nope',\n",
              " 'early spooked8',\n",
              " 'realize nervous tedious many enjoy wasted cool',\n",
              " 'early creepy certain scary',\n",
              " 'anyways endless repetitive whith bad good scp vibe got spooky make ppl cute overall good give end tip understand',\n",
              " 'unique finale much long least interesting best describe virtual creepypasta likely text',\n",
              " 'torturewhich scary pretty old',\n",
              " 'early screen spooky actual good thin screen simplistic good free pee scary free haha adorable funny girl thin logic white right woooooah save break red dead dead de ghosty sorry im sorry survive spooky puppet needle forest aga nice green new snake fast second incomplete ish complete high cute scary',\n",
              " 'cute thank bunny',\n",
              " 'early little startle loud love cute graphical judgement free worth https',\n",
              " 'vinesauce advisory spooky safe spookyspoopy anywayp imminent out2spooky',\n",
              " '',\n",
              " 'early scary wrong scared',\n",
              " 'favorite underpriced special strong',\n",
              " 'end good second boot bless new cardboard',\n",
              " 'adorable chaced clear slime',\n",
              " 'free horror cute scared im say worth ive',\n",
              " 'great scary good much constant early',\n",
              " 'adorable ok last ok fine great trys false wonder exclusive',\n",
              " 'great give new fresh different funny real scared short quick new die good bad good bad die cool',\n",
              " 'small simple pixel cool cool ost online short little',\n",
              " 'okay adorable funny cool ie greatthe specimens adrenaline high repetitive interesting non narrative info recommend hard',\n",
              " 'early markiplier right chaced scary whole open whole good',\n",
              " 'early little boy screen scare started dead spooky stop infinite awww im stuck',\n",
              " 'good spooky keep freeze single agony scary',\n",
              " 'want enough free weak',\n",
              " 'ı small scare slime bug first japanese afraid cute scary scary dont good many scary',\n",
              " 'nice small bug steam overall great',\n",
              " 'great dark scared perfect good playthrough scary',\n",
              " 'early fresh cool free click new instant new end enough spooky install',\n",
              " 'adorable hideous sound scary tense worth free',\n",
              " 'bad next prepared close big begining door see ck',\n",
              " 'early give full interested name reliant simple dread good difficult programmer medal low',\n",
              " 'turned cant provoked mental',\n",
              " 'freei love scary good total creep cool wish real good scary good',\n",
              " 'long format start door last bored lady ahhhh johnny spider outrun important much arcade creeped dosent _____________it uncles original',\n",
              " 'okay audio main adorable â adorable little fun untilâ real fight big need finishing',\n",
              " 'game2 stupid basement speciments6 into7',\n",
              " 'endless normal afraid cute endless god cute',\n",
              " 'negative great free enjoyed main great stole close scary unsure markiplier make sure near possible main scary fear actual scare missed spooky scary slaughter zelda ready scary much hard un scary memorable long spoileri final similar loz ooc featured cool futuristic hard specimen scary nervous restaurant old massive place various old scary similar dark different fun scary amazing best atleast',\n",
              " 'scary horrendous playable install eligible write similar masochistic stop gap',\n",
              " 'boring big multiple stuff regular end read important regular special oh good free',\n",
              " 'early dead creature',\n",
              " 'wish free classic cardinal surprising random enough',\n",
              " 'high little cute best spooky best best real goddamn best long spooky best drive give spooky oh btw best free',\n",
              " 'slow sure actual rare many much sure',\n",
              " 'early bad terrifying bad creep various many wonderful spooky favorite entire bloody behavior awesome late challenging challenge finished bad overall',\n",
              " 'early ink jumped',\n",
              " 'short short indie historian strange little odd open open next old fast keep interesting new big boring honest ocasional impress proceed boring boring much good good bad lackluster',\n",
              " 'early new know amazing free excellent',\n",
              " 'early great plenty scary god full scary average game bad',\n",
              " 'repetetive randomized different unique much appeal past past worth standard accomplish bad free',\n",
              " 'early great free indie big scary',\n",
              " 'beautiful good bad long addictive good good audio good good bad bad potato decent rich spare easy significant easy learn hard difficult dark necessary average grind need second text average dlc good cup short long worth spare minor big',\n",
              " 'early little spider brilliant walk weird read table',\n",
              " 'early right',\n",
              " 'early real ok',\n",
              " 'early best fnaf ta decent',\n",
              " 'nope horrible carful',\n",
              " 'early dangerous spooky lovely free spooked little scary good terror free small weak',\n",
              " 'downloaded easy cutesie scary least',\n",
              " 'early awesome punch laptop first imma',\n",
              " 'early understand',\n",
              " 'early fun enough',\n",
              " 'early much roomsthis scaresadorable guy wrong adorableness repetitive short big obvious earlythe recommend',\n",
              " 'great cute freakin great thier hate early im sure survive heppen couldent end spooky army shadow spooky second ths prequal got bad outlast',\n",
              " 'downloaded oh mixed actual upnope good mall',\n",
              " 'stuff interact occasional instantlyi',\n",
              " 'early unique great finish false safe next awesome cute little right susceptible awesome',\n",
              " 'early cute blue cute fluffy sure spooky top troll lvl puppet',\n",
              " 'best describe much best bad modern cheap classic good dlc neccesary konami good wrong',\n",
              " 'early thick random unfinished indie short',\n",
              " 'scared else',\n",
              " 'interesting creepy annoying boring good little',\n",
              " 'good cutesy arcade random interesting large',\n",
              " 'confused eary little popup chased sure small stuck small',\n",
              " 'early pewdiepie cold',\n",
              " 'best straight audio okay',\n",
              " 'ta recorded first free overall',\n",
              " 'early scary eyebags give scary great level different hard scary different like character good',\n",
              " 'early flew evrywere',\n",
              " 'te proper scary overall good',\n",
              " 'arcady special hard scary',\n",
              " 'spooky turkey feature spooked',\n",
              " 'official outstanding kentucky fried scary',\n",
              " 'scared simplistic average aaa play free eggs deep master arcade common experiment major souls',\n",
              " 'great cute spooky cute little know scary odd spooky atmosphere unsettling free definite give',\n",
              " 'early free gem thought fantastic give thrown small tree much second good terrain different new buckle',\n",
              " 'short due empty see spooky creaky actual empty oversold good cute fill',\n",
              " 'freethe give bad beat greated',\n",
              " 'much door overall nice spooked',\n",
              " 'early want surprising scary likely horrible future mental cardboard pumpkin bad guy green enough scary great updated future',\n",
              " 'early cardboard',\n",
              " 'early learned relieved',\n",
              " 'early erratic horrible',\n",
              " 'great focused great narrative great cultural awesome end little easy less bad portable great',\n",
              " 'early reviewcouple fresh aloooot free current till lull false alley final',\n",
              " 'early great new screen lit little big',\n",
              " 'early cheap adorable cute laced branching free lose painful',\n",
              " 'early scary resident evil excellent happen play long next',\n",
              " 'early initial scary next first',\n",
              " 'early enough sound great false late much bad great free jump great michael dead',\n",
              " 'early spooky wild ride satirical recent genre spontaneity worth free',\n",
              " 'early fantastic major great tense fantastic',\n",
              " 'early first outweigh ideafalse play panic speciminesoverall good early',\n",
              " 'terrifying markiplier campy whole serious real quick cheap terrible terrible',\n",
              " 'early due chest hard',\n",
              " 'early impressed awesome massive wish sensitivty enable right potential',\n",
              " 'early thought jump wrongcan free free worth',\n",
              " 'early adorable couple jealous akin childhood cute make adorable perfect',\n",
              " 'early collect worth cute follow scary indiedb outside actual top first good resident sound uneasy laid zombie ammo notice fast preferred sphj bad opposite type new enemy next quick much give good pretty easy rear first least narrow multiple dead wrong cornered encounter appear random wrong right red alot lucky sure aesthetic calm key next key first key sure intentional cheap good full',\n",
              " 'early find minimalist next tight constant annoying least ten past mockup dead hope potential great art great subtle different cute kudos easy hooked main different',\n",
              " 'early great much good',\n",
              " 'early watched many',\n",
              " 'early awesome vibe lsd early wtih little first struggle survive nearby intensity thrilling',\n",
              " 'early fear https nc07ihv0rbg',\n",
              " 'early typical many free good comfortable element false great great great big till good underused great deerhead puppet',\n",
              " 'early died scary creepy know lil weak play nice graphic nice strong open',\n",
              " 'early horror past hard wrong okay new new first resident spine interesting playthrough next next fnaf erieness fantastic',\n",
              " 'early real sure dlc best',\n",
              " 'early dreadful happen untill late',\n",
              " 'early fnaf simple enough interested original full simplistic sound cute enough good screw high simple cute finger intentional',\n",
              " 'early see cutesy creepy recommended',\n",
              " 'early spooky much ta wine',\n",
              " 'early wtf awsome funny',\n",
              " 'early unused potential next nice little much nice good designs less playthrough free',\n",
              " 'early reviewjust wrong creepy ive early free early free full dlc add',\n",
              " 'early full type little map',\n",
              " 'early freeware bang buck scp',\n",
              " 'early early complete interesting final similar creepypasta universe protect similar scp best nice learn bloodborne alien genre yes aware january free dark first dig take instant careful axe late sloppy full complete bad creator right bad nice mess sound average much ok final good disappointing potential worth end good young hee',\n",
              " 'early cold bloody scary funny enough forehead',\n",
              " 'pee know careful whilst',\n",
              " 'early full adorable adorable little adorable adorable adorable little adorable adorable adorable adorable brilliant',\n",
              " 'early nice scary happen dear god',\n",
              " 'early worth bad low hard',\n",
              " 'early continue technical sticky slime least small huge proper least give lean small',\n",
              " 'early deceptive nature parky good opposite humble jump host different great great creepypastas simple able fps interact keys much summary whole innocent mere overall cute likeable main mu',\n",
              " 'early false cute scared green puddle good real good nopenopenope available',\n",
              " 'early prone freddy half good forgive wrong wrong first cute sudden little major least little girl ugh main myriad different resident evil little great cartoon cute smooth fukkin',\n",
              " 'early great cuz',\n",
              " 'early impressed free enjoyable fan clever cute innocent first wall serious deadly pick scary',\n",
              " 'early give basic outs great sp00ky',\n",
              " 'early grate cubic safe warmth uncomfortable mind f4 finish',\n",
              " 'early reviewdear scary chased new nice reval',\n",
              " 'early wrong',\n",
              " 'early cute',\n",
              " 'logs intense simplistic psudo endless worth extra',\n",
              " 'early neckbeards________________________________put christian emo great',\n",
              " 'early chair literal',\n",
              " 'early playing good looked lovin graphic terrified big many much scare new improved amazing disliked stupid funny sure terrible horrible rest complete small many uninstall certain top capable gb fine cute',\n",
              " 'early initial realize intense scary wide beat little fast',\n",
              " 'early free expensive dlcs full free alright fair first cool interesting original psychological cute simplistic good enough common right scare multiple comfortable subtle worth free played live interested pumped big fantastic',\n",
              " 'early next',\n",
              " 'early know dark hard creepy',\n",
              " 'early smart little funny scary pile early',\n",
              " 'early reviewfantastic little adorable first good',\n",
              " 'early underwear brilliant scary classic cute',\n",
              " 'early great famous silent enjoyed disappointed bug enter new key pressed side heather stuck',\n",
              " 'early free',\n",
              " 'early cuteness left different please',\n",
              " 'early good ups pull give good enviormental much first due pick end worth free present',\n",
              " 'best free oh spooky',\n",
              " 'early quick long free fun cute cute mansion less jump scary girl real repetitive short scariness slow different repetitive ness rusty shame new incomplete',\n",
              " 'early first satirical satirical best',\n",
              " 'early jump much atmosphere possible free worth small',\n",
              " 'early torn serious short full',\n",
              " 'early starting',\n",
              " 'early reviewthis addictive check till real ghouls trust best rng different last got',\n",
              " 'early scary updated sure',\n",
              " 'early stuff sadistic safe untill scream little puzzle spooked',\n",
              " 'early scary ok ok ok scared heavy scary lvl little',\n",
              " 'early cool wish great',\n",
              " 'gud spoko matrerial good fro emon',\n",
              " 'funny playable ultrarealistic funny short sjcm',\n",
              " 'early itit new',\n",
              " 'punched',\n",
              " 'spooky bbq solid',\n",
              " 'common first scary scary recieve aka satan',\n",
              " 'roblox p btw random',\n",
              " 'fear paranormal bad start cute modern massive full next freaky scary',\n",
              " 'early ta normalize patient',\n",
              " 'great small great simplistic retro scary small interesting purpose overall great free',\n",
              " 'fun free faint cute creepy happen chased deaths due love',\n",
              " 'great best good bad best',\n",
              " 'hospital awesome lil mixed active',\n",
              " 'enjoyed separate disappointed',\n",
              " 'skull stop last scary grow',\n",
              " 'huge overall https playlist',\n",
              " 'freeit free flaws wrong bad manual new previous drag fps esc audio last main minor difficult alt skype mobile poor overall absolute',\n",
              " 'cheap generic esque entertained new huge',\n",
              " 'open see cute easy small gorl funny scary ghostclose gamedelete rid new new',\n",
              " 'amazing scary ive first thene',\n",
              " 'early update read closure free wonderful free play free interesting graphical sound great wide shine free wont interesting unforgivable degree weird decent fun scary',\n",
              " 'japanese girl hard cute little door',\n",
              " 'overall interesting skillful save enjoy thrown boring boring mere skillful long middle minor unending navigate op minimal deterrent creepypasta remainder boring bunch linear psychological minor era sound good drag spooky aesthetic good first full',\n",
              " 'free cute free free scary great favorite scared',\n",
              " 'bad due cute able sure',\n",
              " 'chiptune quit much',\n",
              " 'creepy guy shi pretty sure litteraly salesman sticky good',\n",
              " 'early gamepooppoop lettersp twix right lettersthis',\n",
              " 'surprising finish interesting graphic modern old colorful less cute mysterious unraveled true cool slight enough real hooked whole boring repetitive big ish give fast cool experimental interested repetitive finish good free',\n",
              " 'open empty endless tedious monotonous bad spend',\n",
              " 'ugh recommend close sucks refinement frequent stuck free willing',\n",
              " 'charitable old ocarina enough horror',\n",
              " 'early recommend free funny dumb sh next funny initial suit harmless',\n",
              " 'important spooky rule34 best',\n",
              " 'early cute fps chibbi change oh free',\n",
              " 'early free right',\n",
              " 'pretty cool scared skelaton lol good',\n",
              " 'early scary effective interesting scary embarressed come depth much spooky adorable evil crazy new',\n",
              " 'last half beautiful best free ethiopian want till final co op great great',\n",
              " 'magnificent great rich',\n",
              " 'free bad terrible free devs step good',\n",
              " 'anime infinite appropriate good joy',\n",
              " 'disappointed woeful entire horny old great',\n",
              " 'free idle want particular real idle',\n",
              " 'weak least anime nyaa nice nice nice sure aa dd numerical die disappointed',\n",
              " 'slight difficult progress good',\n",
              " 'enjoyable great awe stunning radiant constant new dlc fresh much high great classic',\n",
              " 'much fun random yuri sure assuming updated slight final mean',\n",
              " 'summaryan weeb incentive mod uncensored ratingstale special',\n",
              " 'first simple depth trench fine upgrade damage various overall equivalent senpai',\n",
              " 'review nude anime anime fot new best cheap great great last total',\n",
              " 'thought progress parental',\n",
              " 'last update broken early right trivial ingame rare want get great entertaining fix',\n",
              " 'ehm extra large egg1 dry parchment large large wooden smooth small less enough spread let',\n",
              " 'innocent low wrong point',\n",
              " 'many review clicking hentai sakura clicking say great clicking great sexy good',\n",
              " '',\n",
              " 'initial idle',\n",
              " 'serious visual ludacris copious butts occasional sakura yes anime ancient egyptian anubis osiris click egyptian anime right animal egyptian click hard next fest animal egyptian oh bad free thirsty right thirst egyptian fetish obvious outfit fest want visual sakura fantasy',\n",
              " 'good dont dirty',\n",
              " 'many naked domestic waifus incredible waifu whole new next realised pillow hot domestic flawless solid',\n",
              " 'beautiful piece last multiple worth cancerous',\n",
              " 'limited multiple dog bird girl slow sound',\n",
              " 'exact bad single anime',\n",
              " 'click hard next math original sure extra bother',\n",
              " 'exact bad single â i anime',\n",
              " 'effective perverted',\n",
              " 'free sexy shame decent horrible compulsive many enough wish sexy endless anime suppose played turned audio imagine random anime',\n",
              " 'nsfw strong maxed',\n",
              " 'fricken dumb anime whole screen hard snap spell delete',\n",
              " 'neko waifu black dual level',\n",
              " 'good',\n",
              " 'much like cloud anime happy',\n",
              " 'last sure fair naked anime chick repulsive repulsive flacent little first desperate local recomended sleezy mouth pull sat pain kick whole numb full last little long short alive extra bad best broken anime ur',\n",
              " 'desultory neko reccomend addictive',\n",
              " 'freevery interesting least enjoyable idle good recommend sexy anime',\n",
              " 'open click second open',\n",
              " 'outif ur outi amazing phenominal animal mean',\n",
              " 'cognitive bunch suspcious progress consumed endless open',\n",
              " 'dear',\n",
              " 'bad simplistic addictive full bad apparent last crash current',\n",
              " 'much good finish good wish',\n",
              " 'past obvious good cosmetic noticeable free free',\n",
              " 'usd spent sensible craft card usd cloud come fan good fap boring unpassable spend fruitful',\n",
              " 'casual bad bad good beautiful full free minimum high ez easy hard first impossible short short endless twilight average good fantastic big speedrun multiplayer nude',\n",
              " 'bad sort certain enjoyable sort buy least cough good',\n",
              " 'addictive impossible upper swear mad neeeds high spend cool right',\n",
              " 'click cute cute cute cute best tip',\n",
              " 'enjoyable good easy update real ʖ',\n",
              " 'much mod addictive recommend gs free high rinse wait long dont nude dlc',\n",
              " 'context start right anime titan much mobile',\n",
              " 'decent type regret base',\n",
              " 'general real free good speak english tech tree low susceptible good high real google cheat boring achievementsresults bad good young good type good happy',\n",
              " 'gud good peak great seductive enable gurls good chick',\n",
              " 'complete horny random tiddie sleep10 slime',\n",
              " 'freesakura various click buy high enemy previous appear endless real reasonable adventure capitalist shallowness revolutionary graphic enough visible steam lose agreeable shallow upgrade free serious serious free',\n",
              " 'serious good complex good nice sentual',\n",
              " 'complete free play key lube covered hole dissapointment content old sent',\n",
              " 'everytime give many big',\n",
              " 'little different mute late standstill enough new entire',\n",
              " 'want deep ethical right long busty warrior good',\n",
              " 'good mean good mean',\n",
              " 'hentai derivative real',\n",
              " 'typical incremental favorite hot',\n",
              " 'unironicly hentai hentai cheese true anime undress pose provocative romantic risque best innocent able honest fap idle close new lack high new slow slow sure intent different old honest free unlock updates',\n",
              " 'fired sakura fired',\n",
              " 'nice fap',\n",
              " 'full black uninstall normal full screen black',\n",
              " 'many future young hot new final undying old due slow painful sakura main undying many uncontrolled ultra slim listen weeb click hear undescribed',\n",
              " 'new decent concept unique',\n",
              " 'want superfluous animal large big idle flat',\n",
              " 'mute sure sure dangerous nosebleed different conversationbut much defeat real plotthis',\n",
              " 'anime single glorious paywall great',\n",
              " 'naked animu rpg want static alive',\n",
              " 'positive learn free refuse enough non stare screen little alone ineffectual idle little adult travesty worthwhile normal sure interested',\n",
              " 'appered fight plug doki',\n",
              " 'boriig great thx',\n",
              " 'gamebestgamebest gamebest boobsi nois anime furry sure actual',\n",
              " 'odd accurate current wait slow',\n",
              " 'sure sure wait skype reset low runined',\n",
              " 'hard vast animal jealous',\n",
              " 'sword fine sword great cgi unique par many pokémon beast vast fast complex',\n",
              " 'free complete lose accomplish taste free purpose real little making free',\n",
              " 'win main clicky',\n",
              " 'alone un avoidable social destroy social japanese',\n",
              " 'sure best favourite iti dont enough old',\n",
              " 'channel sexist shameless',\n",
              " 'first wrong many many customizable many top boobs best regret played proud amazing',\n",
              " 'good fail good enough worth',\n",
              " 'amazing fantastic personal right fatigued hot busty rapid break good',\n",
              " 'good uninspired enemy repetitive useless devoid bad poor ui awful least actual wipe irrational worthwhile',\n",
              " 'bad dramaalert offended utter',\n",
              " 'wish neutral overall meh hot hoping free new fine boring dlc free',\n",
              " 'anime odd large appeal enjoyment particular similar idle sound audio large defeat apparent sound indistinguishable standard audio library tiresome sound special terrible exact unfortunate puddle anime represent small weird aqua uninspired suppose resemble third monotonous good ridiculous prestige certain unlock new similar slow interesting first negligible second enough overall main click gold passive personal total good infrequent former useless total upgrade total upgrades enough evaluate aspect multiple tangible popular stick shameless clear good anime good able',\n",
              " 'nude basic good anime facial landed critical',\n",
              " 'real live willing chick',\n",
              " 'special good actual',\n",
              " 'nice bad warn many anime able much enough short idle give bad',\n",
              " 'negative surprised gate wrong free',\n",
              " 'first compare right many correct rushed many bad much functional wrong upgrade high good upgrade next close idle update great whole right many listen implement right cardboard little sound short nice attract good pattern strong playfield specific tab real able sexy quick interesting strategical best small level girls new bad know objective last clear short long little bonus complete clear girl new attractive',\n",
              " 'new great new pc free emotional colossus ocarina sonic many beaten new',\n",
              " 'garbage minimal best real aesthetic trashy glitchy unintuitive give',\n",
              " 'recommend bit uh um black screen',\n",
              " 'funny downloaded visual hard cute enough spiritual much sakura rid insert male cute girl react much little sakura appeal monster enjoyment nuts cute little fan mess good dunno',\n",
              " 'terminal valuable human mere true enlightened whole weeb philosophical empty monk write',\n",
              " 'apex ultimate human shadow girl right',\n",
              " 'second download enjoy hard clean',\n",
              " 'sure many possible odd free enough usual good free least basic',\n",
              " 'new positive minor macro high much attack broken got leveling minor entire unplayable able x2 refresh leveling damage click late dependant able first second small positive nice enemy enemy positive',\n",
              " 'bad good enjoyable grate hard',\n",
              " 'best indulge animal theâ hard lewd upgrade pimp cute livingâ best fantastic free chick next upgradable micro',\n",
              " 'entertaining least free',\n",
              " 'best like sweet',\n",
              " 'nice right unique great good',\n",
              " 'minimal partial otaku',\n",
              " 'normie normie normie norrrrrrrmiieeeeeeeeeeeesssssssssss reeeeeeeeeeeeeeeeeeeeeeeeeeeeeeeeeeeeeeeeeeeeeeeeeeeeeeeeeeeeeeeeeeeeeeeeeeeeeeeeeeeeeeeeeeeeeeeeeeeeeeeeeeeeeeeeeeeeeee',\n",
              " 'good open regretsville',\n",
              " 'anime hentai low free last least',\n",
              " 'touch inevitable void future hear emotion wormhole disassemble accelerate appear infinite',\n",
              " 'majestic',\n",
              " 'nothingin nothingin see half nude erotic free fantasy click onespecial healthy good aint human',\n",
              " 'best describe quote butt first mmm cool butt uhh',\n",
              " 'weeaboo f2p sakura free hear',\n",
              " 'short played digital hear worth social',\n",
              " 'great wonderful awesome great little',\n",
              " 'best incredible crank supersample',\n",
              " 'nope collector come certain fan absolute bad dishonest lied free false personal dlc unlock unlock patreon able unlock able unlock steam bad misadvertised low high screams general spend steam right unlock wrong actual',\n",
              " 'main mean dead dont pcg',\n",
              " 'great inscentive dynamic click',\n",
              " 'weeaboo f2p sakura free lua',\n",
              " 'free animu new',\n",
              " 'video anime waifus overall',\n",
              " 'awsome bikinis real ideas let cute many idle right sakura obvious fast',\n",
              " 'great free much animu animal free',\n",
              " 'easy',\n",
              " 'best hetrosexual hide',\n",
              " 'hot anime great upgrade',\n",
              " 'dirty sakura idle busy japanese oh twelive idle itch track addictive wall worth oh hey',\n",
              " 'click',\n",
              " 'alright best install enable upgrade',\n",
              " 'prolonged limited thumb middle genital',\n",
              " 'good much good gaem',\n",
              " 'clad anime big clad anime big clad anime difficult fap hard',\n",
              " 'honest human attractive deep genetic buddy pal enjoy emphasis good dead copy successful particular absurd porn reinstate clad summarize',\n",
              " 'best huge punch normal girl different surprising sad couple sakura different little type constant wacky fun hear horrible ironic fantastic friendly gameplay harem punch monster harem fantastic automatic automated little ordinary proven real yo difficult end na anime na anime utilize distribute plateu previous overall true dynamic diverse fantastic actual ironic many embarrasment dr',\n",
              " 'swear best reluctant changed',\n",
              " 'hard laptop sound furious',\n",
              " 'bare great good sweet',\n",
              " 'unimaginable recive able true otaku lovely',\n",
              " 'free simple sexy careful interested',\n",
              " 'sadistic poor mean poor ahh crazy mean arm strong hard',\n",
              " 'interesting played minutesclosed uninstalledwent rethink',\n",
              " 'click netflix second sakura upgrade10',\n",
              " 'beautiful buring sad good',\n",
              " 'cookie ambiguous live',\n",
              " 'repetitive boring usual special',\n",
              " 'old mud losy door costumesthen whole whole best imaginable everyday wow good weird',\n",
              " 'holy anime best huge storyaffordable screen able interesting real feed expcited steamhappy hooked influential low great fgreat mean real clear promise',\n",
              " 'write cant recomend repetative least soundtrack addictive many good good',\n",
              " 'ive good screen',\n",
              " 'common oh',\n",
              " 'real dlcs nice great play',\n",
              " 'stream serious nice artstyle nice insert le good free unavaiable',\n",
              " 'best strong second lady stop asian',\n",
              " 'basic nice fun save',\n",
              " 'fun many ceo monopoly start destroy free last good',\n",
              " 'enough old weeaboo',\n",
              " 'best free cheap nekos',\n",
              " 'loyal classic visual flare sakura anime progress new enemy new method unlock possible mechanic main aspect interesting different repetitious aware girl small free free dlc fan solid',\n",
              " 'break anime pervert nude real interesting wear bored',\n",
              " 'due wishlist furious middle big big',\n",
              " 'free cute minimal',\n",
              " 'true inner sexy purpose touching sell',\n",
              " 'good upset played',\n",
              " 'offline much holidays accurate many long infinite infinite assume xdso boring perfect',\n",
              " 'recommend high incredible strong',\n",
              " 'waifu upgrade enough waifus',\n",
              " 'innovative fun teamed great',\n",
              " 'deep rounded left easy',\n",
              " 'recent recent bottom recent',\n",
              " 'wonderful equivalent big wee naked',\n",
              " 'casual tap right manual gun multiple expensive',\n",
              " 'notice decent recommend hear cute cute',\n",
              " 'intuitive manly beutiful',\n",
              " 'okay self much many',\n",
              " 'anime small obvious english subtitle japenese audio japanese obvious small dlc happy',\n",
              " 'want right many good good bad sudden mouse least played sole',\n",
              " 'linear dark focused short',\n",
              " 'hard fat lock alone vitual best',\n",
              " 'autoclicked trap malware',\n",
              " 'real dont',\n",
              " 'sexist hear',\n",
              " 'false stupid personal next',\n",
              " 'asian inflated dumb playingit good',\n",
              " 'contender old deep old fresh new fun modern terrible perfect',\n",
              " 'entranced interesting exist',\n",
              " 'type high good whilst',\n",
              " 'nice cheap individual willing support overall simple',\n",
              " 'cool super first type much certain dmg lvl main lvl unbalanced useful main',\n",
              " 'anime gather facial wan effective',\n",
              " 'belive long second great know good stop',\n",
              " 'porn sakura sakura porn gameoryx mad mad mad mad mad mad sakura possible form mad sakura mad sakura sakura happen',\n",
              " 'naughty important max',\n",
              " 'free private mess different right real audio good able unlock powerful extra hard half naked screen second underaged japanese first unlock new useful new last ridiculous upgrade damage major upgrade level ridiculous personal critical boost personal least permanent various high personal expensive mega worth second damage next pointless embrace able gon least close happy',\n",
              " 'multiple carpal much guess repetitive',\n",
              " 'erotic start finish plenty sure last least',\n",
              " 'good dog nekid faka',\n",
              " 'hold best nice anime nice excited rhythm give free',\n",
              " 'right weak tart wild heavy',\n",
              " 'know easy serious https',\n",
              " 'anime sweaty fat real tho bored',\n",
              " 'seriousness simple anime ok anime write upgrading gotten slow free ok worth',\n",
              " 'upgrades spent many many',\n",
              " 'inovative first great graphical realistic best critic linear hard',\n",
              " 'worth free give best',\n",
              " 'porn4',\n",
              " 'early csgo bit extra free lot stable good chill good free best free stable full able repetitive long m60 sniper shot',\n",
              " 'early fps free fps represented military interesting alpha stagnant induced weird much similar shooter best great global lol feeling low bad unstable warmode many many incomparable warmode early free soft consider negative give positive free simple negative induced fix',\n",
              " 'early good first good',\n",
              " 'early hoooorrrible bad infact',\n",
              " 'early old simple common free playable wish common classic objective small least large cool daily',\n",
              " 'early okay boring good free',\n",
              " 'early bad horrible full reccomend good',\n",
              " 'early mixture bad good',\n",
              " 'early full horrible awful bad bad',\n",
              " 'early great good similar good good bad armor weapon know early great',\n",
              " 'early reviewworst centurywhere bad cheap half bad orizzonte',\n",
              " 'early hard mad free sure best bad bad functional find good free unbalance cast best good worth free',\n",
              " 'early reviewthis toxic laggy unbalanced powerful dont',\n",
              " 'early team sniper',\n",
              " 'early horrible first multiple froze wasnt awful bad',\n",
              " 'early free found easy fun good enjoyable great',\n",
              " 'early potential understand free original single free free decent free fps easy learn afford good ping early understandable',\n",
              " 'early call dev free overrall casual',\n",
              " 'early dont cool poor first whit cool',\n",
              " 'early similar easy good invincible certain many',\n",
              " 'early screaming crate sniper filthy normal top critical nerf unenthusiastic ive less',\n",
              " 'early ok little weird hit best ok high normal headshot right free rid make happy',\n",
              " 'freeearly ok old bad overall casual wouldnt keep early',\n",
              " 'early best free sure',\n",
              " 'early amazing enough overall great',\n",
              " 'early uninstalled best',\n",
              " 'early played',\n",
              " 'early',\n",
              " 'early reviewthis loby kick single bad perspective give pros retexture old cool bad large accesible library simple easy map much underpriced fight high long much due',\n",
              " 'early shot op limitedrealizes terriblequitscriesgoes',\n",
              " 'early original exciting obvious stop motive terrible many yes low great alternative final different mature polite constructive mean',\n",
              " 'early free win cosmetical good awful hit close unbalanced dead awful',\n",
              " 'early little laggy best uninstall',\n",
              " 'early good least aldoe great free fps tactical',\n",
              " 'early best pull click skill lose',\n",
              " 'early great early fps paced european british controller enough enjoy early',\n",
              " 'early derpy broken many nice overall acess low',\n",
              " 'early much bad russian',\n",
              " 'early low old good free short',\n",
              " 'early level beautiful',\n",
              " 'early fun pretty shot level',\n",
              " 'early good less',\n",
              " 'early slow fine fun addictive enough global offensive best',\n",
              " 'early main rant lag painful great worth pros simple free great gun simple poor boring kidz due',\n",
              " 'early perfect beautiful sit impossible future uninstall uninstall warmode immersed amazing economic skirmish balanced recommend aaa',\n",
              " 'early poor endless',\n",
              " 'early ironic terrible bad crouch best ironic bad rifle',\n",
              " 'early vsync vsync ingame fix pretty sure pretty minimalistic alpha nice loose unplayable',\n",
              " 'early recommend fun many free potential gear paced small large real expensive loose certain useless best start many powered bad good good easy bad large bad m4 headshot much much wrong certain small spikes audio loaded new choppy loose good small max upgrasde enormous kil anti potentional fix implement anti positive ingame',\n",
              " 'early sure sure stupid op jank fun glitchy random less glitchy overall much awp unfair',\n",
              " 'early suck free',\n",
              " 'early reviewenglish fun decent much f2p aaa much affect kill free ç',\n",
              " 'early shooter fun certian best clear sight side real good stable extra touch solid free recommend nice casual',\n",
              " 'early fancy good underated hate good good',\n",
              " 'early early much free win unbalanced',\n",
              " 'early lawsof able fly small fat little bee impossible yellow black yellow black yellow black yellow black black yellow little barry ready hang second sharp good graduate proud perfect proud lint stop fuzz little special high glad tooka hive different good hear funeral squirrel incorporatingan amusement bit pomp welcome welcome new hive careerat heard antennasinside little scary whole point youcan whole valiant nectar hive bubble sweet syrupwith distinctivegolden hot testinga new enough late advancement little krelman small rest happy sure insane please clear second know hive hey great hive knowswhere right much distant distant oouple hive meagainst alert little gusty gusty puddle hey interested son rhythm beautiful bad jobfor funny funny funny right ant open pierce shack proud good right stirrer front available crud stellar oouple sir first ready available open krelman sure open bee dead dead deady dead dead dead hard',\n",
              " 'early reviewive tried big',\n",
              " 'early',\n",
              " 'early reviewenglish fun decent much f2p aaa much affect kill free 简体中文',\n",
              " 'early good bad free',\n",
              " 'early implement bother least bad flag many new free least add kick autistic free least',\n",
              " 'early good less empty easy poor',\n",
              " 'early available awesome nonsense',\n",
              " 'early much free fresh doesnt advantage decent atleast leave best vote good overall free big',\n",
              " 'early mb early nice',\n",
              " 'early free',\n",
              " 'early good long simple good quick',\n",
              " 'early awful average new new hate',\n",
              " 'early good realistic headshot good',\n",
              " 'early honest bad bad fps terrible',\n",
              " 'early free nonsense good active outside',\n",
              " 'early mid fluffy',\n",
              " 'early free cs free added overall good submachine submachune gun overall',\n",
              " 'early unecessary frequent likely great much nice best',\n",
              " 'early enjoy fun laptop main perfect fun',\n",
              " 'early free fps played ok understandable vs anti russian english tutorial good free metacritic foodpoison012 first',\n",
              " 'early bad first decent free dont due awful im aware nice stupid',\n",
              " 'early blackmode good fps poor deathmatch cant many',\n",
              " 'early reviewawesome sad good altjhough solid little uniqueness mixed serious huge negative ive good free wan csgo nice bad easy long2 decent small good many head arma3 alot kick dont listen easy good',\n",
              " 'early past screen total uninstall wont fix good',\n",
              " 'early work animated title ambient perfect key current perfect skeptical second unlock open many available finesse entire enjoy expasive lots good sure best active sure good overall artstyle easy hard want',\n",
              " 'early lose good free full free sh please good free',\n",
              " 'early real many',\n",
              " 'early reccommend sad russia bad asian potential great make sure ugh good able fix',\n",
              " 'early terrible friend good bad agree worth web high horrenous ive bad good real worthless little long',\n",
              " 'early bad enjoyable lots play empty many new',\n",
              " 'early girl stop roblox hey dudei mad mad amd frankly least quite due sold hobo fragile offensive little boy sky',\n",
              " 'early rough playable generic interested basic',\n",
              " 'early funny played little text unban first trolled second human precious new insn fair',\n",
              " 'early short smooth piece unbanned free new riiigghtt good old crappy much crappy fair normal stupid easy random playable russian russian lagging cleary nice review total real like free godmode online',\n",
              " 'early reviewthere helarious counterstrike small funny heavy finish heavy',\n",
              " 'early bad actual walked worth whole asval disabled enough strike dust_2 closed',\n",
              " 'early free surprised good polish early doable cosmetic skirmish first https free nice future',\n",
              " 'early short played noticed global critical keyboard extreme spawn update able last',\n",
              " 'early similar mechanic terrible worth ump top know shops worth free good',\n",
              " 'early russian eu nice full',\n",
              " 'early interesting good great',\n",
              " 'early good powerful op overall bad ur uninstall',\n",
              " 'early knifes',\n",
              " 'early right doesnt overall knife',\n",
              " 'early advanced nerf shotgun',\n",
              " 'early reviewthis end many',\n",
              " 'early buggy responsive ui lag broken immense pistol satisfying small f2p able fov potential overall thought free',\n",
              " 'early give able active large rare open blank menu empty black main',\n",
              " 'early like potential',\n",
              " 'early potential many bit laggy acceptable early simple basic right full weapon strike rest start least early great overall',\n",
              " 'early bug stuck refresh fun recomend enough',\n",
              " 'early promising good easy good good light best good low good simple doesnt non bad good responsive merc earnt stop new polish great simple great',\n",
              " 'early swear sleep sleep sleep sleep yeahlet second beat outside sleep sleep guns disorder sun invested interested whole wrist suggest best sleep sleep sleep sleep',\n",
              " 'early great unique good free awesome fps fps important fps mean enemy assist bad cant favorite big suicide cant random great north american major large delete agree major',\n",
              " 'early early implement new fun quite fun great early free nice balancing quick good good shotgun op amazing early tapshoot great early great',\n",
              " 'early f2p trailer good mixed half second scoreboard menu poor hit bad early good',\n",
              " 'early free playing dare useless unworthly skin useless complete useless skrimish similar bad skirmish complete stupid hum pale boring shoot nub expensive favorable shotgun super effective familiar super poor net least poor net hackable sound fked whole library incomplete mention skin free free good free crazy garbage enjoyable mean excersice free',\n",
              " 'early like bad dealt horrible bad unbalanced lag great solid horrible',\n",
              " 'early fantastic nice super realistic general nice wrong ftp many competitive many small alpha',\n",
              " 'early buyable cosmetic usdi modern',\n",
              " 'early nice repetitive repetitive little',\n",
              " 'early bad mb bad low',\n",
              " 'early bad good enjoy dull worth',\n",
              " 'early boring fun shoot listen horrible',\n",
              " 'early laggy ui horrible noninformative major',\n",
              " 'early normal upsidedown',\n",
              " 'early good fantastic aim real little dated',\n",
              " 'early bad',\n",
              " 'early heavy decent cheap empty else',\n",
              " 'early reviewfirst free perfect cant itso install',\n",
              " 'early dont fit',\n",
              " 'early similar selection russian due russian whole unity table pure low free cosmetic full good competitive',\n",
              " 'early fix bug',\n",
              " 'early leg full good',\n",
              " 'early logic lie netcode free worth',\n",
              " 'early good wrong worstpro good good weaponsany unfair assualt enemys infiniie',\n",
              " 'early ive free good high',\n",
              " 'early free worth little small many best last less unplayable',\n",
              " 'early much bad nerve bad',\n",
              " 'early great free early best',\n",
              " 'early entire bad good intense consistent',\n",
              " 'early multiple low mixed much decent noob friendlyslight graphical free',\n",
              " 'early good good fine warmode little little cod tiny worth',\n",
              " 'early good full next ur ur become pro good bad rightonly full middle',\n",
              " 'early headshot awp fun suck bad expect headshot great',\n",
              " 'early suicidal screen new bad br autistic positive',\n",
              " 'early awesome long im unbanned',\n",
              " 'early shameful attempt broken spawn stuck map russian russian',\n",
              " 'early first dummy terrible die potiential realistic terrible whole refund',\n",
              " 'early funthe campersthe mix basicly gun miss best generic realistic next cheat easy nice small instant small dont early fine want',\n",
              " 'early ing weak inaccurate overall resemble rightful right fest unreliable crouch learn ing hackshield decent sure',\n",
              " 'early free irreconcilable military virtual classical available wide several open opinion_____________okay ripoff ssed unforgiven ________________gameplay_________________this call bad sh sh hate great crappy lag get thank unforgiven nikolai',\n",
              " 'early val',\n",
              " 'early quiet good first ups online fps great dangerous good copyright negetive couple last dead overall update good',\n",
              " 'early express sweet twas precious many safe grace lead good shield long flesh mortal veil snow forbear ten bright less thank',\n",
              " 'early awsome bought glitchy slow good',\n",
              " 'early free good update little slow great click',\n",
              " 'early nice normal gamemode weapon website nice super',\n",
              " 'early shorten install simple terrible mean terrible serversbad gun expensive best therefor different innacurate good aim horrible pre realistic much bad nerfed bad',\n",
              " 'early wish australian horrible',\n",
              " 'early free free',\n",
              " 'early fun f2p small small many etc',\n",
              " 'early little able cary primary',\n",
              " 'early bb fox',\n",
              " 'early csgo free free',\n",
              " 'early fun simple fps redownload competitive element',\n",
              " 'early good bad big map spawn much learn good overall',\n",
              " 'early free purchase hilarious favor funny bad hilarious recommend earn',\n",
              " 'early good good pentium',\n",
              " 'early nice universal sad add eu add double shutdown finaly killstreaksbut mb thx good sorry english bad',\n",
              " 'early awsome ahuge add local',\n",
              " 'early nice complete decent crappy due characteristic thrown horrid use full full everyday hack last october dead',\n",
              " 'early bad bad ing bad bad',\n",
              " 'early terrible much large shotgun full',\n",
              " 'early easy poor quick glock2 ak3 close',\n",
              " 'early kill ebola bad cant heaven',\n",
              " 'early main umm server server main least great uninstall',\n",
              " 'early kill ebola bad cant heaven',\n",
              " 'early first upgrade new large arsenal pop assortment sniper distinct tight quick survive team avatar cosmetic distinguish',\n",
              " 'early arcade ish small multiple pull current great potential main doesnt old',\n",
              " 'early first upgrade new large arsenal pop assortment sniper distinct tight quick survive team avatar cosmetic distinguish',\n",
              " 'early potential ive long sorry least overall willing concept',\n",
              " 'early reviewcan bye nice wtf first first second lol microsoft vc real assign half',\n",
              " 'early horrible terrible buggy',\n",
              " 'early overall riddled funeasy learneasy interesting inside effectsjoining late hard less future',\n",
              " 'early reviewthis much headshot dmg realistic terrible early wont many good dont spam nice',\n",
              " 'early cod cant forsaken public full csgo shoot terrible aim long headshot cheap easy smart hay',\n",
              " 'early easy easy light hard exspensive best pkp',\n",
              " 'early early wrong enjoy quite good able hard smooth right sky shot much dead able enough element bright least p2w large able plenty personal lag element potential future lil fun',\n",
              " 'early impossible insta total good',\n",
              " 'early fun bad voted call anytime stop mid broken start free easy little',\n",
              " 'early free free good content',\n",
              " 'early big',\n",
              " 'early free small p2w unlcockjust low add free small',\n",
              " 'early ftp tl second sick jk bad',\n",
              " 'early terrible real small bad positive quick free good regulary typical',\n",
              " 'early broken cant pure free fun good counter god aweful kill use server wrong un exseptable obvious big sound glitchy sound amazing nice guns nice much free alittle slight cosmetic new special bad good final great current aweful current final',\n",
              " 'early reviewright etc real american russian asian australian general',\n",
              " 'early good free casual fun basic',\n",
              " 'early early absolute low uninspired matched english overall',\n",
              " 'early best tried server black screen unistall finethis',\n",
              " 'early open sâ damn easy',\n",
              " 'early fps shotter new recoil till primary strong secondary forgot full good nice long range',\n",
              " 'early shooter say dark methamphetamine low par horrible long complete shoot dead finish terrible static environmental cs honest worth regretful slow',\n",
              " 'early bad fps open map white bad map good',\n",
              " 'early awesome free worth sorry good random uninstall',\n",
              " 'early bad great good different great easy moveement smooth hard intuitive charaster english russian bad bad first great',\n",
              " 'early unplayable cs english best un streak top',\n",
              " 'early superior fps broken level unlimited anger nervous',\n",
              " 'early incorrect good able click random entire',\n",
              " 'early awesome intense improved mb good',\n",
              " 'early good free win good bad design small ru dust2 much good free fair beast big new clean stats private',\n",
              " 'early mean accsess awful small real horrible lag frame many',\n",
              " 'early bad fun mean bad',\n",
              " 'early needs complete many second christ',\n",
              " 'early frame beefy',\n",
              " 'early virus virus virus virus virus virus virus virus virus virus virus virus virus virus virus virus virus',\n",
              " 'early great free fps im sure self delete',\n",
              " 'early fun',\n",
              " 'early horrible mattter nternet early',\n",
              " 'early frank realistic',\n",
              " 'early much awesome free good global recomend least try awesome',\n",
              " 'early trash click hold many hit crouch many good bad',\n",
              " 'early unique ive incredible sad much great beutiful great ive main beutiful shine ive great want beautiful gush dead played beautiful beautiful â hard screech finish next slap overall beautiful agree smear daddy god overall uncrowded',\n",
              " 'early realistic csgo realistic functioning',\n",
              " 'early free pretty terrible easy fun original',\n",
              " 'early fan enjoy small enough extra med different free lose',\n",
              " 'early first start good poeple bad favorite',\n",
              " 'early cool dont de_dust crappy stupid thati',\n",
              " 'early great bad good good headshot',\n",
              " 'early cs cod act impossible proper early added much',\n",
              " 'early fps fps good active poor feel',\n",
              " 'early terrible armour terrible weapon different riot',\n",
              " 'early bf4f small huge small loved ok special',\n",
              " 'early honest new good poor russian',\n",
              " 'early free least consecutive overjoyed consecutive',\n",
              " 'early beta yes empty simple fast server normal empty free potential',\n",
              " 'early plenty dull low poor free much dont much',\n",
              " 'early bad horrible good much th leat himtmarker big old middle exit awp hole',\n",
              " 'early good general download dead edit2',\n",
              " 'early fps gem old free lose',\n",
              " 'early reviewfirst second tutorial boring second much third died good entire great na fun perfect wissh fix bad nerf upgrade',\n",
              " 'early able stupid possible reccomend online trash',\n",
              " 'early good free buyable real good',\n",
              " 'early russian horrible sniper russian achievement inspirational insight single possible gun headshot good',\n",
              " 'early russian horrible sniper russian achievement inspirational insight â single possible gun headshot good',\n",
              " 'early bad prject black want notorious poor equal familiar squad free equal build like hard hard super detectioni good unload full guess headshot bad silly tired pillow hit em right log enough cool spawn new new cool die oh great ricochet fps uninstalled long hung noticed high gun guy invisibble good',\n",
              " 'early single main',\n",
              " 'early good full good early',\n",
              " 'early perfect diagnosed end live possible bombs',\n",
              " 'early hrs yes played great funny fight honor',\n",
              " 'early awesome go rampage free many headshot lame old little cant spawnkilled sniper video heavy overall',\n",
              " 'early full russian sad fantastic',\n",
              " 'early reviewthis clear csgo good',\n",
              " 'early gamethis enjoyable awfull',\n",
              " 'early listen fun free bad broken small sub fix new knife ten foot ps1the broken care ty casual',\n",
              " 'early full major insta lags many skill',\n",
              " 'early f2p fun nice decent great',\n",
              " 'early early haas recommend lot guy knife fast',\n",
              " 'early asd sad',\n",
              " 'early god bad boring good old n64',\n",
              " 'early hear unban popular amazing free',\n",
              " 'early free extra gun',\n",
              " 'early reviewfantastic fun armour dont implement big strict multiple free worth',\n",
              " 'early wont launch understand',\n",
              " 'early tried',\n",
              " 'early good sure ridiculous free',\n",
              " 'early good able fun gr8 wan click enjoyable non easy esc click select click',\n",
              " 'early rare unable least single wow hot mean bad bad basic imaginable oh first single imaginable first settings new atrocious aiming bad aim precise oppenent crazy ridiculous bad headshots trick aim surprised chest headshots blatant wow comfortable guy handgun impossible high extreme guess psychotic entire ran suspect shooter mediocre clear understanding particular personal enough',\n",
              " 'early potential surprised minimal rare early build encounter see less much enjoyable beta actual early actual free',\n",
              " 'early reviewthis bad addictive ui sh mapsneutral good great much sensepositive much',\n",
              " 'early potential enjoyable fine good much aggresive russian good required bad',\n",
              " 'early screen',\n",
              " 'early long untill full good follow free',\n",
              " 'freeearly good good big',\n",
              " 'early belive mean lazy ing steal second popular different ing general call whyyyyyyyyyyyyyyyyyyyyyyyyyyyyyyyyyyyyyyyyyyyyyyyyyyyyyyyyyyyyyyyyyyyyyyyyyyyyyyyyyyyyy pure trash early dont',\n",
              " 'early extent fast',\n",
              " 'early hated ugliness beautiful fk lmao unban legit',\n",
              " 'early reviewrussian basic unusual real level easy high decent steam much different little interesting free reset lucky new fair bad easy fast enjoyable horrible hit crosshair good casual abandon decent cheap available direct small bad bad small map',\n",
              " 'early much shoot fun broken early right early early tase full devs early broken know broken first broken unbalanced etc pick many big unchanged',\n",
              " 'early great incomplete several end linear user mid good left limited user great',\n",
              " 'early unplayable multiple fullscreen click second',\n",
              " 'early easy pick heavy free large fair easy last long new',\n",
              " 'early first second dont keep third fun',\n",
              " 'early bad much hang add full little give positive',\n",
              " 'early review terrible kill laggy af small pistol uninstall first',\n",
              " 'early reviewpro sfree bad good laptop shoot free',\n",
              " 'early likely top',\n",
              " 'early fps bad whole first',\n",
              " 'early good free lag bad many cant full',\n",
              " 'early real mouse accel onknife random',\n",
              " 'early cronic rip entire low old violent',\n",
              " 'early bad full noobs fun jackshiet stupid overall worth internet waste',\n",
              " 'early cs free great waist unlock best free good great great repetative',\n",
              " 'early reviewthis logic huge ooooooooooooooooooh useless least',\n",
              " 'early horrible uninstalled potential',\n",
              " 'early dsr bad call dutyish decent screenshots cosmetic much fun',\n",
              " 'early bad good',\n",
              " 'early good awfull good',\n",
              " 'early main balanced sniper easy kill crazy late give',\n",
              " 'early good much csgo headshot shotthe good holy f2p form',\n",
              " 'early good slow upgrade wrong repetative wait respown give',\n",
              " 'early great complete tutorial ui self',\n",
              " 'early lol unique moba different lol dota many likely simple upgrades universal upgrade specific helpful dangerous vulnurable right warp essential tide warp sluggish due important ship strengths clear fight second big gamble likely timethe alpha close final likely tl solid clear strengths great detailed alpha alpha high alpha ship disconnect alpha',\n",
              " 'early slow fs good first tutorial harsh realize big big',\n",
              " 'early big big potential potential right enjoy worth early content big right addressed current high new sneak',\n",
              " 'early good new stupid fot new early english',\n",
              " 'early large spaceship decide unique solid free early total unique fantastic major update local easy find update overall great large flashy develops free current',\n",
              " 'early enjoyable objective interesting unique particular figure enjoyable',\n",
              " 'early good potential great ut4 new fresh enough table dota giant end good title fresh intuitive easy unique plausible real huge bad horrible large tutorial complex bit intrusive tutorial next simple screen shoot enough ship tech tree ship effective next big give little read',\n",
              " 'early reviewearly huge good good many different much bad gamei',\n",
              " 'likely australia skill hard proglem australian nice enjoyable rewardsscreen',\n",
              " 'early entertaining ive avalable right serious punch specific good good fleet',\n",
              " 'gigantic maps available wich distinctive artstyle unique available first like good old free unable possible certain high increased due high potential tactical huge potential future personal unreal devs sound solid usual sound immersive ive much casual unique loadouts unintuitive tremedous depth revolutionary unreal nice good content cool next expensive easy expensive advantages successful likely',\n",
              " 'early beautiful free polished big tech tree nice nice mid',\n",
              " 'early cool game2 eu servers3 automatic cant friends4 bad good main ok cool good good soft',\n",
              " 'early good free much little dull different fun capturing',\n",
              " 'freeearly negative great bad high hope tech unlock nice',\n",
              " 'awesome easy much unpredictable horrible last minute early sport',\n",
              " 'last full old single bad',\n",
              " 'solid realistic detailed aaa original believeable gorgeous basic aware freemium fair screen real little limited least full real son pretty',\n",
              " 'many somewhere genre scratch rare less much comparable lol em fair many fly many fun ship great sniper ship meant best real crew extra basic real favorite superior skill cosmetic obvious touch due ship long opening tutorial epic hangar see kudos many second',\n",
              " 'early good umm single',\n",
              " 'early fractured play played',\n",
              " 'countless many long optimized new skilled',\n",
              " 'early early alpha rudimentary entertaining potential intense give basic available different disruptor heal disable sniper huge fun',\n",
              " 'early great depth tactical new basic new recent ship new manageable new decent expenive new purchaseable cosmetic active new significant ship typical key spaceship beautiful manageable unlock active progressverdict massive great free lose',\n",
              " 'early good frame good potential future',\n",
              " 'early reviewawesome worth big',\n",
              " 'early able similar limp dual tubes enemy many sexual',\n",
              " 'hard match cant na widen ur',\n",
              " 'free easy pvp gradual steep',\n",
              " 'enjoyed aome additional new sad',\n",
              " 'super intense good free',\n",
              " 'humongous mobile impenetrable wall single unstoppable seasoned',\n",
              " 'early current couple weak much hectic stressful hope difficult solid',\n",
              " 'early last paced great nice mode great nice new good differnt first',\n",
              " 'tutorial good capable easy capable tutorial fast aoe pulse armour able real pretty quick multiple low tanky medic etc complex good',\n",
              " 'early beautiful awesome sceptical first enjoyable library free',\n",
              " 'early major jump different',\n",
              " 'early whole keep cant full',\n",
              " 'early new early early unpolished early early polished thereof phenomenal empty void negative small content occupied new new ship magical calm ship next fractured mix frenetic real intuitive learn gorgeous thought modern popular classic hard 20th first heavy become several glee tactical',\n",
              " 'early similar big big vs capture second upgrades sure tanky high long next hell enemy mixed little laggy laggy unplayable due alpha impossible qwerty ships wsad alt able great sure future full likely',\n",
              " 'early nice great many know',\n",
              " 'early couple old fps couple find several great cap',\n",
              " 'early awesome huge early',\n",
              " 'early tactical real depth potential greatness devs open easy see fantastic',\n",
              " 'early fresh popular cosmetic easy hard competitive big',\n",
              " 'early xp win',\n",
              " 'early fractured free last fractured promising aesthetic easy objective middle team upgrade level huge middle large whole big easy accomplish major obvious available basic front massive good huge sigh impressive minor rough beautiful distant amazing audio visual real sound great dangerous sound imagine massive uneven texture different overall great new fractured first unlock actual direct upgrade fair fractured exclusive ship able stat long fair real early lag impossible general ui devs hope large near future shot',\n",
              " 'early hopeful future intense current team fast open net signal divert small tutorial enable basic unique different tweak ships different become free early sure significant new availible unlock new massive arsenal',\n",
              " 'early great good horrible teams lobby cant give',\n",
              " 'early good upgraded add',\n",
              " 'early good lore whos',\n",
              " 'early sweet short solid light playable least toxic helpful high many proper good fps intensive good unreal playable raven playable devs nice',\n",
              " 'early favorite beautiful easy expensive mean starter',\n",
              " 'early alpha beautiful enough nice asy',\n",
              " 'im sort personal salty af slow huge tactical',\n",
              " 'early keep expected gameplay ive weird frequent bad solo free special interested devs decent suppose second negative sci fi fine metal metal difficult ship upwards nose main isnt correct top mean likely important little wont best',\n",
              " 'early great best universe map recommend',\n",
              " 'early original moba good',\n",
              " 'early believed decent say quality good good different good slow tactical enough different forfil different ships bad high micro unique quick public new feedback fine quality unsure annoying indication long bad frustrating overal big',\n",
              " 'early many strong content pricetag great great great scale forgot add odd good',\n",
              " 'early bad interstellar large willing due bad low fight',\n",
              " 'early long cant final wide great epic huge awesome different',\n",
              " 'early potential early fi cool',\n",
              " 'early big big',\n",
              " 'great spare epic awesome',\n",
              " 'early good imaginary mandatory imaginary',\n",
              " 'early fun sure need pick simple recommend huge different first able cockpit alot dont pointless',\n",
              " 'early quick intuitive high great moba fun',\n",
              " 'whole many competant spending whole',\n",
              " 'deep grindy new good repetitive casual hard free',\n",
              " 'early inspite alpha good',\n",
              " 'early overall early good whole minor visual amazing visual overall good major capable simple casual essential solid early needs backstory recommend early urge',\n",
              " 'okay original like nice nice overall tutorial easy believe earn long overall give',\n",
              " 'early afraid moba type lol toxic hard intense happy fractured enjoyable awesome rig get quiet helpful sure strategic hectic loose hectic loose short overcomplex earnable save worried grand fun anxious',\n",
              " 'early great early simple many tutorial many',\n",
              " 'early involved regular free alpha see high',\n",
              " 'early reviewawesome alpha little screwed unbalancednevertheless great',\n",
              " 'early solid solid bummer solid',\n",
              " 'early reviewfirst awesome many dangerous alpha free formula little maneuvrable',\n",
              " 'early unique solid reviewer art interesting specific dimensional alpha benefit optimization2 complete stationary large small awesome big type interactive mechwarrior awesome sure',\n",
              " 'early new clue tut free',\n",
              " 'freeearly first struck detailed light glow red stunning naval cold abstract control wasd extra vertical massive tactical blind dimensional nebula arsenal fiery playstyle large zippy large slow heavy nimble launch various close single available tutorial live new slow large scale strategic thoughtful direct',\n",
              " 'early favorite free ton good good',\n",
              " 'early lanes',\n",
              " 'early okey good good old big right nice tutorial open hard understand learn good good',\n",
              " 'early small massive update graphic small',\n",
              " 'early nonstop enjoy hard',\n",
              " 'early first type little first ui otherthan great',\n",
              " 'early single key oiled guess',\n",
              " 'early good good good give',\n",
              " 'early lots premium overpowered free rest diverse ship alien playable nose dive clear menu good vunerable good',\n",
              " 'early great impressive good best give least outrageous handful different devs accesible large',\n",
              " 'early easy overal great recommend awsome decent',\n",
              " 'hot colossi impossible beautiful install close spaceship',\n",
              " 'early good ther ship choosing free keep neutral dont nuclear',\n",
              " 'early great tell overall summary much impossible sound wierd able fleet least wrong great alot',\n",
              " 'early solid fix ship correct ship right abit novice top enjoyable main original pitiful ridiculous new spoiler',\n",
              " 'free enough new much',\n",
              " 'good free nice good good huge good good nice ultra nice real free poor invest huge real addictive nice huge lot unlock many extra unlock real',\n",
              " 'much melee know start free crew alternative cool georgous polished great solid unique good ship average unstoppable great pick',\n",
              " 'early ship fi wanted update tutorial new whole large',\n",
              " 'early free overall good upto single know fun',\n",
              " 'early last free long impressed new progress steady new ship',\n",
              " 'early complex strategic cant low recomend',\n",
              " 'early worth early free similar similar enjoyable excessive good ammo point beautiful unreal boy good tdm enjoyable various huge ship free temporary major peak severe serverside final free definitely net enjoyment worth worth steam worth',\n",
              " 'great amazing top tower defenese sure gamma live win good low golden',\n",
              " 'early reviewthis good worth simple complex',\n",
              " 'early free usual free played bad played nice great plenty different wan soak',\n",
              " 'early bug great great good non toxic future alot grind aquire new great promising',\n",
              " 'early alpha didnt sad new op awesome free certain fun',\n",
              " 'early great beautiful little bit steep great fractured',\n",
              " 'early cool alpha gorgeous focused diverse frontline ship many progress',\n",
              " 'excellent different tutorial great massive small mobile free level much experienced toxic new',\n",
              " 'early early bit sound playable fun',\n",
              " 'early good potential saltlong new good first single fun teamspeak ship matchesyour',\n",
              " 'early reviewfirst engagement find standard',\n",
              " 'early awesome early twist familiar',\n",
              " 'early worth video obvious good concept great least regular torpedos spectacularlycontrollable squadronsmovable destroyable different likely',\n",
              " 'early small large unstopable behemiths ship different short heavy vs much shot good large start lot dc skill',\n",
              " 'early dota push upgrades strong final great incapable understanding know oposite first blobs enough beautiful good',\n",
              " 'early moba typical large sluggish last whole entire new upgrades possible ship firepower enemy direct big big small different unlocked properly similar great early ingame real big temporary good',\n",
              " 'early free shot beautiful',\n",
              " 'great major',\n",
              " 'fractured repetitive',\n",
              " 'early current minute big easy possible give magic tense good cointoss',\n",
              " 'early top early less sluggish',\n",
              " 'early current early nice early good varied nice interested good low much good wide unlocking nice fast premium saturate shove got free free',\n",
              " 'great great poor best',\n",
              " 'upgrading new laptops less hardware left second new ui hardware heavy playable forgot intelhd integrated ui gpu high low much little extra clear difficult ship great little fov personal high normal low high normal weak hardware playable laptop laptop laptop simple im fleet pack basic little huge compete high',\n",
              " 'early early fun different different current small overall huge potential upgrades fun',\n",
              " 'pre top independent intense',\n",
              " 'freeearly know basic objective key strategic enemys capture strategys important right enemy key enemy effictevly middle similar league effictevly quick team important seperate middle strong great final enemy massive cool thier ship basic many main ship suitable many enjoyable balanced competitive little luck involved great fantastic final free best',\n",
              " 'early recent negative que curious curious gameplay think strategic tactical dimensional broad similar longtime different gorgeous cover fi steve isaac arena little bit length massive long wee widdle dirt good little solar paced short blowy basic turned super small full overall long ready magic awesome negative awesome give',\n",
              " 'early rah whole meant least eur good free itbtw bad good update least fractured receive fractured good fractured dirty bad forget enter write ship ta',\n",
              " 'big liked able many alot admit funky restart match entire cool excellent free follow similar able give uninstall',\n",
              " 'f2p premium ammo premium good unique generous unreal good',\n",
              " 'early short tutorial new new much win last win thought worth finish final playable good',\n",
              " 'similar unlock much',\n",
              " ...]"
            ]
          },
          "metadata": {
            "tags": []
          },
          "execution_count": 49
        }
      ]
    },
    {
      "cell_type": "code",
      "metadata": {
        "id": "QnkioFF0OmsO",
        "colab_type": "code",
        "colab": {}
      },
      "source": [
        "from sklearn.feature_extraction.text import TfidfVectorizer\n",
        "\n",
        "tfidf = TfidfVectorizer(max_df=0.6,min_df=0.0007)\n",
        "feature=tfidf.fit_transform(ls)\n"
      ],
      "execution_count": 0,
      "outputs": []
    },
    {
      "cell_type": "code",
      "metadata": {
        "id": "3fwKmgvcl0fJ",
        "colab_type": "code",
        "colab": {}
      },
      "source": [
        "t_feat=pd.DataFrame(feature.todense(),columns=tfidf.get_feature_names())"
      ],
      "execution_count": 0,
      "outputs": []
    },
    {
      "cell_type": "code",
      "metadata": {
        "id": "6xFrL6s0l0Ub",
        "colab_type": "code",
        "colab": {}
      },
      "source": [
        "t_feat['labels']=df_tr_new['user_suggestion']"
      ],
      "execution_count": 0,
      "outputs": []
    },
    {
      "cell_type": "code",
      "metadata": {
        "id": "3kY26Qn_l0J4",
        "colab_type": "code",
        "colab": {}
      },
      "source": [
        "from sklearn.model_selection import train_test_split\n",
        "X_train, X_test, y_train, y_test = train_test_split(t_feat.drop(columns=['labels']), t_feat['labels'], test_size=0.33, random_state=42)"
      ],
      "execution_count": 0,
      "outputs": []
    },
    {
      "cell_type": "code",
      "metadata": {
        "id": "-yZydg9Tlz9W",
        "colab_type": "code",
        "outputId": "d13e2d5f-a271-44be-f4ca-63b27326ba9e",
        "colab": {
          "base_uri": "https://localhost:8080/",
          "height": 34
        }
      },
      "source": [
        "from sklearn.naive_bayes import GaussianNB\n",
        "gnb=GaussianNB()\n",
        "gnb.fit(X_train,y_train)"
      ],
      "execution_count": 54,
      "outputs": [
        {
          "output_type": "execute_result",
          "data": {
            "text/plain": [
              "GaussianNB(priors=None, var_smoothing=1e-09)"
            ]
          },
          "metadata": {
            "tags": []
          },
          "execution_count": 54
        }
      ]
    },
    {
      "cell_type": "code",
      "metadata": {
        "id": "bJ6AufMxlzz-",
        "colab_type": "code",
        "colab": {}
      },
      "source": [
        "pred=gnb.predict(X_test),''"
      ],
      "execution_count": 0,
      "outputs": []
    },
    {
      "cell_type": "code",
      "metadata": {
        "id": "McntMYFYlzn9",
        "colab_type": "code",
        "outputId": "f133e0f3-ad57-4949-a39d-9fc055173a21",
        "colab": {
          "base_uri": "https://localhost:8080/",
          "height": 34
        }
      },
      "source": [
        "from sklearn.metrics import accuracy_score\n",
        "accuracy_score(y_test,pred)"
      ],
      "execution_count": 56,
      "outputs": [
        {
          "output_type": "execute_result",
          "data": {
            "text/plain": [
              "0.6599438793405823"
            ]
          },
          "metadata": {
            "tags": []
          },
          "execution_count": 56
        }
      ]
    },
    {
      "cell_type": "code",
      "metadata": {
        "id": "wPDF0EORH2V3",
        "colab_type": "code",
        "colab": {}
      },
      "source": [
        "import pickle"
      ],
      "execution_count": 0,
      "outputs": []
    },
    {
      "cell_type": "code",
      "metadata": {
        "id": "8aYrTsScH6xZ",
        "colab_type": "code",
        "colab": {}
      },
      "source": [
        "pickle.dump(gnb,open('/content/gdrive/My Drive/jantahack/NLP jantahack/model.sav','wb'))"
      ],
      "execution_count": 0,
      "outputs": []
    },
    {
      "cell_type": "code",
      "metadata": {
        "id": "I7LHa-zOxG_i",
        "colab_type": "code",
        "colab": {}
      },
      "source": [
        "####Very Bad score,we will work upon it"
      ],
      "execution_count": 0,
      "outputs": []
    },
    {
      "cell_type": "code",
      "metadata": {
        "id": "Jq8wOZKYOmZw",
        "colab_type": "code",
        "colab": {}
      },
      "source": [
        "z=m.apply(listToString)"
      ],
      "execution_count": 0,
      "outputs": []
    },
    {
      "cell_type": "code",
      "metadata": {
        "id": "7es1MVfvOmfB",
        "colab_type": "code",
        "colab": {}
      },
      "source": [
        "def listToString(s):  \n",
        "    \n",
        "    # initialize an empty string \n",
        "    str1 = \" \" \n",
        "    \n",
        "    # return string   \n",
        "    return (str1.join(s)) \n",
        "       "
      ],
      "execution_count": 0,
      "outputs": []
    },
    {
      "cell_type": "code",
      "metadata": {
        "id": "6aJeiKfIEV-V",
        "colab_type": "code",
        "colab": {}
      },
      "source": [
        "def preprocess(df,choice):\n",
        "  #lowercase all characters\n",
        "  #remove all symbols\n",
        "  #tokenize the sentence to words\n",
        "  x=re.sub(r'[^\\w]', ' ', df)\n",
        "  word_tokenize1=word_tokenize(re.sub('(\\\\b[A-Za-z] \\\\b|\\\\b [A-Za-z]\\\\b)', '', x).lower())  \n",
        "  #remove the stopwords\n",
        "  filter1=[]\n",
        "  for w in word_tokenize1: \n",
        "        if w not in stop_words: \n",
        "            filter1.append(w)\n",
        "  filtered_full=np.array(filter1)\n",
        "  if choice =='yes':\n",
        "    return np.array(filtered_full)\n",
        "  else:\n",
        "    return len(filtered_full)"
      ],
      "execution_count": 0,
      "outputs": []
    },
    {
      "cell_type": "code",
      "metadata": {
        "id": "kUz8i9HNrgTJ",
        "colab_type": "code",
        "colab": {}
      },
      "source": [
        "def bi_grm(df):\n",
        "  x=re.sub(r'[^\\w]', ' ', df)\n",
        "  word_tokenize1=word_tokenize(re.sub('(\\\\b[A-Za-z] \\\\b|\\\\b [A-Za-z]\\\\b)', '', x).lower())\n",
        "  filter1=[]\n",
        "  for w in word_tokenize1: \n",
        "      if w not in stop_words: \n",
        "          filter1.append(w)\n",
        "\n",
        "  filtered_full=np.array(filter1)\n",
        "  bigrm = nltk.bigrams(filtered_full)\n",
        "  return(list(bigrm))\n",
        " \n",
        "\n"
      ],
      "execution_count": 0,
      "outputs": []
    },
    {
      "cell_type": "code",
      "metadata": {
        "id": "Sn5Dlofewnxq",
        "colab_type": "code",
        "colab": {}
      },
      "source": [
        "def stemming(df):\n",
        "  ls=[]\n",
        "  lemmatizer = WordNetLemmatizer()\n",
        "  for w in df:\n",
        "    ls.append(lemmatizer.lemmatize(w,pos=\"a\"))\n",
        "  filtered_full=np.array(ls)\n",
        "  return np.array(filtered_full)"
      ],
      "execution_count": 0,
      "outputs": []
    },
    {
      "cell_type": "code",
      "metadata": {
        "id": "jvjZ6jH9xG7R",
        "colab_type": "code",
        "colab": {}
      },
      "source": [
        "class StringProcess:\n",
        "  def _init_():\n",
        "    "
      ],
      "execution_count": 0,
      "outputs": []
    },
    {
      "cell_type": "code",
      "metadata": {
        "id": "ExmuZpd8xG3F",
        "colab_type": "code",
        "colab": {}
      },
      "source": [
        "df_test=pd.read_csv(lis[0])"
      ],
      "execution_count": 0,
      "outputs": []
    },
    {
      "cell_type": "code",
      "metadata": {
        "id": "wUjQNamrxGzC",
        "colab_type": "code",
        "colab": {}
      },
      "source": [
        "y=df_test.user_review.apply(preprocess,args=('no',))"
      ],
      "execution_count": 0,
      "outputs": []
    },
    {
      "cell_type": "code",
      "metadata": {
        "id": "jwKto68hxGtB",
        "colab_type": "code",
        "colab": {}
      },
      "source": [
        "df_test['Totalunigrams']=y"
      ],
      "execution_count": 0,
      "outputs": []
    },
    {
      "cell_type": "code",
      "metadata": {
        "id": "mKT6vM5uxGjx",
        "colab_type": "code",
        "colab": {}
      },
      "source": [
        "tok=df_test.user_review.apply(preprocess,args=('yes',))"
      ],
      "execution_count": 0,
      "outputs": []
    },
    {
      "cell_type": "code",
      "metadata": {
        "id": "Hl1aY8cGxGTE",
        "colab_type": "code",
        "colab": {}
      },
      "source": [
        "z=tok.apply(POS_tag)\n",
        "m=z.apply(stemming)"
      ],
      "execution_count": 0,
      "outputs": []
    },
    {
      "cell_type": "code",
      "metadata": {
        "id": "vrtJUtG2xGC_",
        "colab_type": "code",
        "colab": {
          "base_uri": "https://localhost:8080/",
          "height": 34
        },
        "outputId": "63b5d8af-239b-4ad2-dc01-7c45a2931e98"
      },
      "source": [
        "#m.reset_index().index"
      ],
      "execution_count": 132,
      "outputs": [
        {
          "output_type": "execute_result",
          "data": {
            "text/plain": [
              "RangeIndex(start=0, stop=7956, step=1)"
            ]
          },
          "metadata": {
            "tags": []
          },
          "execution_count": 132
        }
      ]
    },
    {
      "cell_type": "code",
      "metadata": {
        "id": "7CKkOKLrxF9y",
        "colab_type": "code",
        "colab": {}
      },
      "source": [
        "#m.index=m.reset_index().index"
      ],
      "execution_count": 0,
      "outputs": []
    },
    {
      "cell_type": "code",
      "metadata": {
        "id": "aFi1nMYuxGJE",
        "colab_type": "code",
        "colab": {}
      },
      "source": [
        "s=nltk.FreqDist(m[0])\n",
        "for i in range(1,len(m)):\n",
        "  s+=nltk.FreqDist(m[i])"
      ],
      "execution_count": 0,
      "outputs": []
    },
    {
      "cell_type": "code",
      "metadata": {
        "id": "9pX2GDa9lzeb",
        "colab_type": "code",
        "colab": {}
      },
      "source": [
        "z=m.apply(listToString)"
      ],
      "execution_count": 0,
      "outputs": []
    },
    {
      "cell_type": "code",
      "metadata": {
        "id": "g7QXWn1JOmPF",
        "colab_type": "code",
        "colab": {}
      },
      "source": [
        "ls=[]\n",
        "for i in range(len(z)):\n",
        "  ls.append(z[i])"
      ],
      "execution_count": 0,
      "outputs": []
    },
    {
      "cell_type": "code",
      "metadata": {
        "id": "cnbohVfCKLMY",
        "colab_type": "code",
        "colab": {
          "base_uri": "https://localhost:8080/",
          "height": 34
        },
        "outputId": "ce1766fd-1271-4797-e3cb-fbe281b9169d"
      },
      "source": [
        "lis[5]"
      ],
      "execution_count": 130,
      "outputs": [
        {
          "output_type": "execute_result",
          "data": {
            "text/plain": [
              "'/content/gdrive/My Drive/jantahack/NLP jantahack/sample_submission_wgBqZCk.csv'"
            ]
          },
          "metadata": {
            "tags": []
          },
          "execution_count": 130
        }
      ]
    },
    {
      "cell_type": "code",
      "metadata": {
        "id": "3d74GqE3J-Kb",
        "colab_type": "code",
        "colab": {
          "base_uri": "https://localhost:8080/",
          "height": 34
        },
        "outputId": "ebb0c7e4-074b-4711-cdd0-7c41d54f6bf4"
      },
      "source": [
        "feature.shape"
      ],
      "execution_count": 131,
      "outputs": [
        {
          "output_type": "execute_result",
          "data": {
            "text/plain": [
              "(7957, 1670)"
            ]
          },
          "metadata": {
            "tags": []
          },
          "execution_count": 131
        }
      ]
    },
    {
      "cell_type": "code",
      "metadata": {
        "id": "3nF4RnZ0ldDg",
        "colab_type": "code",
        "colab": {}
      },
      "source": [
        "feature=tfidf.transform(ls)"
      ],
      "execution_count": 0,
      "outputs": []
    },
    {
      "cell_type": "code",
      "metadata": {
        "id": "ayS5YHFBlc_F",
        "colab_type": "code",
        "colab": {}
      },
      "source": [
        "pred=gnb.predict(feature.todense())"
      ],
      "execution_count": 0,
      "outputs": []
    },
    {
      "cell_type": "code",
      "metadata": {
        "id": "iDBQkaAylc2d",
        "colab_type": "code",
        "colab": {
          "base_uri": "https://localhost:8080/",
          "height": 34
        },
        "outputId": "e05d232e-f34d-4be7-a472-89b94bab9edd"
      },
      "source": [
        "gnb.score(feature.todense(),pred)"
      ],
      "execution_count": 97,
      "outputs": [
        {
          "output_type": "execute_result",
          "data": {
            "text/plain": [
              "1.0"
            ]
          },
          "metadata": {
            "tags": []
          },
          "execution_count": 97
        }
      ]
    },
    {
      "cell_type": "code",
      "metadata": {
        "id": "jmlvCdgllcvt",
        "colab_type": "code",
        "colab": {}
      },
      "source": [
        "new_set=pd.DataFrame()\n",
        "new_set['review_id']=pd.read_csv(lis[5]).review_id"
      ],
      "execution_count": 0,
      "outputs": []
    },
    {
      "cell_type": "code",
      "metadata": {
        "id": "7qc1SNJHlcpp",
        "colab_type": "code",
        "colab": {
          "base_uri": "https://localhost:8080/",
          "height": 34
        },
        "outputId": "fd2c4e27-f575-4bb1-e864-02e2d6b06d90"
      },
      "source": [
        "feature.todense().shape"
      ],
      "execution_count": 199,
      "outputs": [
        {
          "output_type": "execute_result",
          "data": {
            "text/plain": [
              "(7956, 1670)"
            ]
          },
          "metadata": {
            "tags": []
          },
          "execution_count": 199
        }
      ]
    },
    {
      "cell_type": "code",
      "metadata": {
        "id": "aALU6Qe3X7Ya",
        "colab_type": "code",
        "colab": {}
      },
      "source": [
        "df_test['pred']=pred"
      ],
      "execution_count": 0,
      "outputs": []
    },
    {
      "cell_type": "code",
      "metadata": {
        "id": "gkfoRPLtU7kO",
        "colab_type": "code",
        "colab": {}
      },
      "source": [
        "new_set['user_suggestion']=df_test['pred']"
      ],
      "execution_count": 0,
      "outputs": []
    },
    {
      "cell_type": "code",
      "metadata": {
        "id": "Di4unYOgU7f-",
        "colab_type": "code",
        "colab": {}
      },
      "source": [
        "X=new_set[new_set['user_suggestion'].isna()]['user_suggestion'].fillna(1)"
      ],
      "execution_count": 0,
      "outputs": []
    },
    {
      "cell_type": "code",
      "metadata": {
        "id": "S6rDjhl4eEJ3",
        "colab_type": "code",
        "colab": {
          "base_uri": "https://localhost:8080/",
          "height": 34
        },
        "outputId": "562a8577-2e5f-4a94-cbd3-1a5181f5127c"
      },
      "source": [
        "len(new_set[new_set['user_suggestion'].isna()].index)"
      ],
      "execution_count": 138,
      "outputs": [
        {
          "output_type": "execute_result",
          "data": {
            "text/plain": [
              "0"
            ]
          },
          "metadata": {
            "tags": []
          },
          "execution_count": 138
        }
      ]
    },
    {
      "cell_type": "code",
      "metadata": {
        "id": "o5EzARmGeD5B",
        "colab_type": "code",
        "colab": {
          "base_uri": "https://localhost:8080/",
          "height": 419
        },
        "outputId": "61df8bac-9b57-474f-a639-f55d6a1132d2"
      },
      "source": [
        "new_set"
      ],
      "execution_count": 139,
      "outputs": [
        {
          "output_type": "execute_result",
          "data": {
            "text/html": [
              "<div>\n",
              "<style scoped>\n",
              "    .dataframe tbody tr th:only-of-type {\n",
              "        vertical-align: middle;\n",
              "    }\n",
              "\n",
              "    .dataframe tbody tr th {\n",
              "        vertical-align: top;\n",
              "    }\n",
              "\n",
              "    .dataframe thead th {\n",
              "        text-align: right;\n",
              "    }\n",
              "</style>\n",
              "<table border=\"1\" class=\"dataframe\">\n",
              "  <thead>\n",
              "    <tr style=\"text-align: right;\">\n",
              "      <th></th>\n",
              "      <th>review_id</th>\n",
              "      <th>user_suggestion</th>\n",
              "    </tr>\n",
              "  </thead>\n",
              "  <tbody>\n",
              "    <tr>\n",
              "      <th>0</th>\n",
              "      <td>1603</td>\n",
              "      <td>0.0</td>\n",
              "    </tr>\n",
              "    <tr>\n",
              "      <th>1</th>\n",
              "      <td>1604</td>\n",
              "      <td>0.0</td>\n",
              "    </tr>\n",
              "    <tr>\n",
              "      <th>2</th>\n",
              "      <td>1605</td>\n",
              "      <td>0.0</td>\n",
              "    </tr>\n",
              "    <tr>\n",
              "      <th>3</th>\n",
              "      <td>1606</td>\n",
              "      <td>0.0</td>\n",
              "    </tr>\n",
              "    <tr>\n",
              "      <th>4</th>\n",
              "      <td>1607</td>\n",
              "      <td>1.0</td>\n",
              "    </tr>\n",
              "    <tr>\n",
              "      <th>...</th>\n",
              "      <td>...</td>\n",
              "      <td>...</td>\n",
              "    </tr>\n",
              "    <tr>\n",
              "      <th>8040</th>\n",
              "      <td>25198</td>\n",
              "      <td>1.0</td>\n",
              "    </tr>\n",
              "    <tr>\n",
              "      <th>8041</th>\n",
              "      <td>25199</td>\n",
              "      <td>1.0</td>\n",
              "    </tr>\n",
              "    <tr>\n",
              "      <th>8042</th>\n",
              "      <td>25200</td>\n",
              "      <td>1.0</td>\n",
              "    </tr>\n",
              "    <tr>\n",
              "      <th>8043</th>\n",
              "      <td>25201</td>\n",
              "      <td>1.0</td>\n",
              "    </tr>\n",
              "    <tr>\n",
              "      <th>8044</th>\n",
              "      <td>25202</td>\n",
              "      <td>1.0</td>\n",
              "    </tr>\n",
              "  </tbody>\n",
              "</table>\n",
              "<p>8045 rows × 2 columns</p>\n",
              "</div>"
            ],
            "text/plain": [
              "      review_id  user_suggestion\n",
              "0          1603              0.0\n",
              "1          1604              0.0\n",
              "2          1605              0.0\n",
              "3          1606              0.0\n",
              "4          1607              1.0\n",
              "...         ...              ...\n",
              "8040      25198              1.0\n",
              "8041      25199              1.0\n",
              "8042      25200              1.0\n",
              "8043      25201              1.0\n",
              "8044      25202              1.0\n",
              "\n",
              "[8045 rows x 2 columns]"
            ]
          },
          "metadata": {
            "tags": []
          },
          "execution_count": 139
        }
      ]
    },
    {
      "cell_type": "code",
      "metadata": {
        "id": "FY6yW5rRU7bp",
        "colab_type": "code",
        "colab": {
          "base_uri": "https://localhost:8080/",
          "height": 34
        },
        "outputId": "2ffbb579-d69b-4e6b-f3d4-fa246f288b9d"
      },
      "source": [
        "accuracy_score(pd.read_csv(lis[5]).user_suggestion.values,new_set.user_suggestion.values)"
      ],
      "execution_count": 141,
      "outputs": [
        {
          "output_type": "execute_result",
          "data": {
            "text/plain": [
              "0.5665630826600373"
            ]
          },
          "metadata": {
            "tags": []
          },
          "execution_count": 141
        }
      ]
    },
    {
      "cell_type": "code",
      "metadata": {
        "id": "8Zv_Y_VDU7XE",
        "colab_type": "code",
        "colab": {
          "base_uri": "https://localhost:8080/",
          "height": 419
        },
        "outputId": "4c8d8139-c90d-4298-d183-48c7a2e48736"
      },
      "source": [
        "pd.read_csv('/content/gdrive/My Drive/jantahack/NLP jantahack/solution.csv')"
      ],
      "execution_count": 190,
      "outputs": [
        {
          "output_type": "execute_result",
          "data": {
            "text/html": [
              "<div>\n",
              "<style scoped>\n",
              "    .dataframe tbody tr th:only-of-type {\n",
              "        vertical-align: middle;\n",
              "    }\n",
              "\n",
              "    .dataframe tbody tr th {\n",
              "        vertical-align: top;\n",
              "    }\n",
              "\n",
              "    .dataframe thead th {\n",
              "        text-align: right;\n",
              "    }\n",
              "</style>\n",
              "<table border=\"1\" class=\"dataframe\">\n",
              "  <thead>\n",
              "    <tr style=\"text-align: right;\">\n",
              "      <th></th>\n",
              "      <th>Unnamed: 0</th>\n",
              "      <th>review_id</th>\n",
              "      <th>user_suggestion</th>\n",
              "    </tr>\n",
              "  </thead>\n",
              "  <tbody>\n",
              "    <tr>\n",
              "      <th>0</th>\n",
              "      <td>0</td>\n",
              "      <td>1603</td>\n",
              "      <td>0.0</td>\n",
              "    </tr>\n",
              "    <tr>\n",
              "      <th>1</th>\n",
              "      <td>1</td>\n",
              "      <td>1604</td>\n",
              "      <td>0.0</td>\n",
              "    </tr>\n",
              "    <tr>\n",
              "      <th>2</th>\n",
              "      <td>2</td>\n",
              "      <td>1605</td>\n",
              "      <td>0.0</td>\n",
              "    </tr>\n",
              "    <tr>\n",
              "      <th>3</th>\n",
              "      <td>3</td>\n",
              "      <td>1606</td>\n",
              "      <td>0.0</td>\n",
              "    </tr>\n",
              "    <tr>\n",
              "      <th>4</th>\n",
              "      <td>4</td>\n",
              "      <td>1607</td>\n",
              "      <td>1.0</td>\n",
              "    </tr>\n",
              "    <tr>\n",
              "      <th>...</th>\n",
              "      <td>...</td>\n",
              "      <td>...</td>\n",
              "      <td>...</td>\n",
              "    </tr>\n",
              "    <tr>\n",
              "      <th>8040</th>\n",
              "      <td>8040</td>\n",
              "      <td>25198</td>\n",
              "      <td>1.0</td>\n",
              "    </tr>\n",
              "    <tr>\n",
              "      <th>8041</th>\n",
              "      <td>8041</td>\n",
              "      <td>25199</td>\n",
              "      <td>0.0</td>\n",
              "    </tr>\n",
              "    <tr>\n",
              "      <th>8042</th>\n",
              "      <td>8042</td>\n",
              "      <td>25200</td>\n",
              "      <td>0.0</td>\n",
              "    </tr>\n",
              "    <tr>\n",
              "      <th>8043</th>\n",
              "      <td>8043</td>\n",
              "      <td>25201</td>\n",
              "      <td>1.0</td>\n",
              "    </tr>\n",
              "    <tr>\n",
              "      <th>8044</th>\n",
              "      <td>8044</td>\n",
              "      <td>25202</td>\n",
              "      <td>0.0</td>\n",
              "    </tr>\n",
              "  </tbody>\n",
              "</table>\n",
              "<p>8045 rows × 3 columns</p>\n",
              "</div>"
            ],
            "text/plain": [
              "      Unnamed: 0  review_id  user_suggestion\n",
              "0              0       1603              0.0\n",
              "1              1       1604              0.0\n",
              "2              2       1605              0.0\n",
              "3              3       1606              0.0\n",
              "4              4       1607              1.0\n",
              "...          ...        ...              ...\n",
              "8040        8040      25198              1.0\n",
              "8041        8041      25199              0.0\n",
              "8042        8042      25200              0.0\n",
              "8043        8043      25201              1.0\n",
              "8044        8044      25202              0.0\n",
              "\n",
              "[8045 rows x 3 columns]"
            ]
          },
          "metadata": {
            "tags": []
          },
          "execution_count": 190
        }
      ]
    },
    {
      "cell_type": "code",
      "metadata": {
        "id": "lD88KdT8U7Sl",
        "colab_type": "code",
        "colab": {
          "base_uri": "https://localhost:8080/",
          "height": 419
        },
        "outputId": "9aa21bea-ef84-4adb-9252-0db898b630ce"
      },
      "source": [
        "new_set[new_set['review_id']==1]"
      ],
      "execution_count": 197,
      "outputs": [
        {
          "output_type": "execute_result",
          "data": {
            "text/html": [
              "<div>\n",
              "<style scoped>\n",
              "    .dataframe tbody tr th:only-of-type {\n",
              "        vertical-align: middle;\n",
              "    }\n",
              "\n",
              "    .dataframe tbody tr th {\n",
              "        vertical-align: top;\n",
              "    }\n",
              "\n",
              "    .dataframe thead th {\n",
              "        text-align: right;\n",
              "    }\n",
              "</style>\n",
              "<table border=\"1\" class=\"dataframe\">\n",
              "  <thead>\n",
              "    <tr style=\"text-align: right;\">\n",
              "      <th></th>\n",
              "      <th>review_id</th>\n",
              "      <th>user_suggestion</th>\n",
              "    </tr>\n",
              "  </thead>\n",
              "  <tbody>\n",
              "    <tr>\n",
              "      <th>7</th>\n",
              "      <td>1</td>\n",
              "      <td>1.0</td>\n",
              "    </tr>\n",
              "    <tr>\n",
              "      <th>11</th>\n",
              "      <td>1</td>\n",
              "      <td>1.0</td>\n",
              "    </tr>\n",
              "    <tr>\n",
              "      <th>49</th>\n",
              "      <td>1</td>\n",
              "      <td>1.0</td>\n",
              "    </tr>\n",
              "    <tr>\n",
              "      <th>53</th>\n",
              "      <td>1</td>\n",
              "      <td>1.0</td>\n",
              "    </tr>\n",
              "    <tr>\n",
              "      <th>72</th>\n",
              "      <td>1</td>\n",
              "      <td>1.0</td>\n",
              "    </tr>\n",
              "    <tr>\n",
              "      <th>...</th>\n",
              "      <td>...</td>\n",
              "      <td>...</td>\n",
              "    </tr>\n",
              "    <tr>\n",
              "      <th>7676</th>\n",
              "      <td>1</td>\n",
              "      <td>1.0</td>\n",
              "    </tr>\n",
              "    <tr>\n",
              "      <th>7690</th>\n",
              "      <td>1</td>\n",
              "      <td>1.0</td>\n",
              "    </tr>\n",
              "    <tr>\n",
              "      <th>7760</th>\n",
              "      <td>1</td>\n",
              "      <td>1.0</td>\n",
              "    </tr>\n",
              "    <tr>\n",
              "      <th>7844</th>\n",
              "      <td>1</td>\n",
              "      <td>1.0</td>\n",
              "    </tr>\n",
              "    <tr>\n",
              "      <th>7876</th>\n",
              "      <td>1</td>\n",
              "      <td>1.0</td>\n",
              "    </tr>\n",
              "  </tbody>\n",
              "</table>\n",
              "<p>89 rows × 2 columns</p>\n",
              "</div>"
            ],
            "text/plain": [
              "      review_id  user_suggestion\n",
              "7             1              1.0\n",
              "11            1              1.0\n",
              "49            1              1.0\n",
              "53            1              1.0\n",
              "72            1              1.0\n",
              "...         ...              ...\n",
              "7676          1              1.0\n",
              "7690          1              1.0\n",
              "7760          1              1.0\n",
              "7844          1              1.0\n",
              "7876          1              1.0\n",
              "\n",
              "[89 rows x 2 columns]"
            ]
          },
          "metadata": {
            "tags": []
          },
          "execution_count": 197
        }
      ]
    },
    {
      "cell_type": "code",
      "metadata": {
        "id": "oibjAfFWU7KQ",
        "colab_type": "code",
        "colab": {}
      },
      "source": [
        ""
      ],
      "execution_count": 0,
      "outputs": []
    },
    {
      "cell_type": "code",
      "metadata": {
        "id": "1MkfoMXHU7Dc",
        "colab_type": "code",
        "colab": {}
      },
      "source": [
        ""
      ],
      "execution_count": 0,
      "outputs": []
    },
    {
      "cell_type": "code",
      "metadata": {
        "id": "5ApM0hCt42Yx",
        "colab_type": "code",
        "colab": {}
      },
      "source": [
        "####free from other language which comprise about 216 out of 17916"
      ],
      "execution_count": 0,
      "outputs": []
    },
    {
      "cell_type": "code",
      "metadata": {
        "id": "JjexkrpZUBLM",
        "colab_type": "code",
        "colab": {}
      },
      "source": [
        "y=df_train['user_review'].apply(preprocess,args=('yes',))"
      ],
      "execution_count": 0,
      "outputs": []
    },
    {
      "cell_type": "code",
      "metadata": {
        "id": "967m_oxWc5Ws",
        "colab_type": "code",
        "outputId": "a845f494-89f6-4cc7-b7d1-d68b2d4762e2",
        "colab": {
          "base_uri": "https://localhost:8080/",
          "height": 221
        }
      },
      "source": [
        "y"
      ],
      "execution_count": 35,
      "outputs": [
        {
          "output_type": "execute_result",
          "data": {
            "text/plain": [
              "0        [scared, hearing, creepy, voices, pause, momen...\n",
              "1        [best, game, better, sam, pepper, youtube, acc...\n",
              "2        [littly, iffy, controls, know, play, easy, mas...\n",
              "3        [great, game, fun, colorful, side, note, thoug...\n",
              "4        [many, games, cute, tag, right, next, horror, ...\n",
              "                               ...                        \n",
              "17489    [arguably, single, greatest, mmorp, exists, to...\n",
              "17490    [older, game, sure, charm, holds, special, pla...\n",
              "17491    [frist, started, playing, everquest, 2, amazin...\n",
              "17492    [cool, game, thing, really, pisses, ridable, t...\n",
              "17493    [game, since, little, kid, always, since, stil...\n",
              "Name: user_review, Length: 17494, dtype: object"
            ]
          },
          "metadata": {
            "tags": []
          },
          "execution_count": 35
        }
      ]
    },
    {
      "cell_type": "code",
      "metadata": {
        "id": "zlCM3q35eyB0",
        "colab_type": "code",
        "colab": {}
      },
      "source": [
        "df_tokenize=pd.DataFrame(df_train,columns=['title'])"
      ],
      "execution_count": 0,
      "outputs": []
    },
    {
      "cell_type": "code",
      "metadata": {
        "id": "UH-nNlzDfSX-",
        "colab_type": "code",
        "outputId": "fe39c3f0-a84e-4526-ed20-8a5f54be69bd",
        "colab": {
          "base_uri": "https://localhost:8080/",
          "height": 34
        }
      },
      "source": [
        "lemmatizer=WordNetLemmatizer()\n",
        "print(lemmatizer.lemmatize('rooms')) "
      ],
      "execution_count": 0,
      "outputs": [
        {
          "output_type": "stream",
          "text": [
            "room\n"
          ],
          "name": "stdout"
        }
      ]
    },
    {
      "cell_type": "code",
      "metadata": {
        "id": "YPjyQS8dhFlQ",
        "colab_type": "code",
        "colab": {}
      },
      "source": [
        "df_tokenize['tokenized']=y"
      ],
      "execution_count": 0,
      "outputs": []
    },
    {
      "cell_type": "code",
      "metadata": {
        "id": "9NJW6B6xld6X",
        "colab_type": "code",
        "outputId": "e4a53dfe-f967-4626-d198-f225686a8b94",
        "colab": {
          "base_uri": "https://localhost:8080/",
          "height": 419
        }
      },
      "source": [
        "df_tokenize"
      ],
      "execution_count": 0,
      "outputs": [
        {
          "output_type": "execute_result",
          "data": {
            "text/html": [
              "<div>\n",
              "<style scoped>\n",
              "    .dataframe tbody tr th:only-of-type {\n",
              "        vertical-align: middle;\n",
              "    }\n",
              "\n",
              "    .dataframe tbody tr th {\n",
              "        vertical-align: top;\n",
              "    }\n",
              "\n",
              "    .dataframe thead th {\n",
              "        text-align: right;\n",
              "    }\n",
              "</style>\n",
              "<table border=\"1\" class=\"dataframe\">\n",
              "  <thead>\n",
              "    <tr style=\"text-align: right;\">\n",
              "      <th></th>\n",
              "      <th>title</th>\n",
              "      <th>tokenized</th>\n",
              "    </tr>\n",
              "  </thead>\n",
              "  <tbody>\n",
              "    <tr>\n",
              "      <th>0</th>\n",
              "      <td>Spooky's Jump Scare Mansion</td>\n",
              "      <td>[scared, hearing, creepy, voices, pause, momen...</td>\n",
              "    </tr>\n",
              "    <tr>\n",
              "      <th>1</th>\n",
              "      <td>Spooky's Jump Scare Mansion</td>\n",
              "      <td>[best, game, better, sam, pepper, youtube, acc...</td>\n",
              "    </tr>\n",
              "    <tr>\n",
              "      <th>2</th>\n",
              "      <td>Spooky's Jump Scare Mansion</td>\n",
              "      <td>[littly, iffy, controls, know, play, easy, mas...</td>\n",
              "    </tr>\n",
              "    <tr>\n",
              "      <th>3</th>\n",
              "      <td>Spooky's Jump Scare Mansion</td>\n",
              "      <td>[great, game, fun, colorful, side, note, thoug...</td>\n",
              "    </tr>\n",
              "    <tr>\n",
              "      <th>4</th>\n",
              "      <td>Spooky's Jump Scare Mansion</td>\n",
              "      <td>[many, games, cute, tag, right, next, horror, ...</td>\n",
              "    </tr>\n",
              "    <tr>\n",
              "      <th>...</th>\n",
              "      <td>...</td>\n",
              "      <td>...</td>\n",
              "    </tr>\n",
              "    <tr>\n",
              "      <th>17489</th>\n",
              "      <td>EverQuest II</td>\n",
              "      <td>[arguably, single, greatest, mmorp, exists, to...</td>\n",
              "    </tr>\n",
              "    <tr>\n",
              "      <th>17490</th>\n",
              "      <td>EverQuest II</td>\n",
              "      <td>[older, game, sure, charm, holds, special, pla...</td>\n",
              "    </tr>\n",
              "    <tr>\n",
              "      <th>17491</th>\n",
              "      <td>EverQuest II</td>\n",
              "      <td>[frist, started, playing, everquest, 2, amazin...</td>\n",
              "    </tr>\n",
              "    <tr>\n",
              "      <th>17492</th>\n",
              "      <td>EverQuest II</td>\n",
              "      <td>[cool, game, thing, really, pisses, ridable, t...</td>\n",
              "    </tr>\n",
              "    <tr>\n",
              "      <th>17493</th>\n",
              "      <td>EverQuest II</td>\n",
              "      <td>[game, since, little, kid, always, since, stil...</td>\n",
              "    </tr>\n",
              "  </tbody>\n",
              "</table>\n",
              "<p>17494 rows × 2 columns</p>\n",
              "</div>"
            ],
            "text/plain": [
              "                             title                                          tokenized\n",
              "0      Spooky's Jump Scare Mansion  [scared, hearing, creepy, voices, pause, momen...\n",
              "1      Spooky's Jump Scare Mansion  [best, game, better, sam, pepper, youtube, acc...\n",
              "2      Spooky's Jump Scare Mansion  [littly, iffy, controls, know, play, easy, mas...\n",
              "3      Spooky's Jump Scare Mansion  [great, game, fun, colorful, side, note, thoug...\n",
              "4      Spooky's Jump Scare Mansion  [many, games, cute, tag, right, next, horror, ...\n",
              "...                            ...                                                ...\n",
              "17489                 EverQuest II  [arguably, single, greatest, mmorp, exists, to...\n",
              "17490                 EverQuest II  [older, game, sure, charm, holds, special, pla...\n",
              "17491                 EverQuest II  [frist, started, playing, everquest, 2, amazin...\n",
              "17492                 EverQuest II  [cool, game, thing, really, pisses, ridable, t...\n",
              "17493                 EverQuest II  [game, since, little, kid, always, since, stil...\n",
              "\n",
              "[17494 rows x 2 columns]"
            ]
          },
          "metadata": {
            "tags": []
          },
          "execution_count": 98
        }
      ]
    },
    {
      "cell_type": "code",
      "metadata": {
        "id": "WoCtBHorxliP",
        "colab_type": "code",
        "colab": {}
      },
      "source": [
        "z=df_tokenize.tokenized.apply(stemming)"
      ],
      "execution_count": 0,
      "outputs": []
    },
    {
      "cell_type": "code",
      "metadata": {
        "id": "kcU1FNpLqN5S",
        "colab_type": "code",
        "colab": {}
      },
      "source": [
        "words,count=np.unique(z[8], return_counts=True)"
      ],
      "execution_count": 0,
      "outputs": []
    },
    {
      "cell_type": "code",
      "metadata": {
        "id": "__FgCAn71q25",
        "colab_type": "code",
        "colab": {}
      },
      "source": [
        "dic={}\n",
        "for i in range(len(words)):\n",
        "  dic[words[i]]=count[i]"
      ],
      "execution_count": 0,
      "outputs": []
    },
    {
      "cell_type": "code",
      "metadata": {
        "id": "bLeMvYkl192S",
        "colab_type": "code",
        "outputId": "dd07599c-17d7-4048-e9fe-b75187c321cb",
        "colab": {
          "base_uri": "https://localhost:8080/",
          "height": 1000
        }
      },
      "source": [
        "dic"
      ],
      "execution_count": 0,
      "outputs": [
        {
          "output_type": "execute_result",
          "data": {
            "text/plain": [
              "{'350': 1,\n",
              " '3d': 1,\n",
              " '45': 1,\n",
              " 'accept': 2,\n",
              " 'accompani': 1,\n",
              " 'across': 1,\n",
              " 'act': 1,\n",
              " 'adjac': 1,\n",
              " 'ador': 1,\n",
              " 'afraid': 1,\n",
              " 'almost': 2,\n",
              " 'alreadi': 1,\n",
              " 'ambient': 1,\n",
              " 'amount': 1,\n",
              " 'anoth': 6,\n",
              " 'anyth': 1,\n",
              " 'area': 1,\n",
              " 'asylum': 1,\n",
              " 'avoid': 1,\n",
              " 'away': 1,\n",
              " 'balanc': 1,\n",
              " 'begin': 1,\n",
              " 'behind': 2,\n",
              " 'best': 1,\n",
              " 'beyond': 1,\n",
              " 'big': 1,\n",
              " 'black': 1,\n",
              " 'box': 2,\n",
              " 'break': 1,\n",
              " 'bright': 1,\n",
              " 'bring': 1,\n",
              " 'budget': 1,\n",
              " 'calm': 1,\n",
              " 'cardboard': 3,\n",
              " 'cartoon': 1,\n",
              " 'catch': 1,\n",
              " 'ceil': 1,\n",
              " 'chanc': 1,\n",
              " 'chang': 1,\n",
              " 'charm': 2,\n",
              " 'chase': 2,\n",
              " 'chasm': 1,\n",
              " 'cheap': 1,\n",
              " 'chill': 1,\n",
              " 'chime': 1,\n",
              " 'chipper': 1,\n",
              " 'clean': 1,\n",
              " 'coat': 1,\n",
              " 'coffe': 1,\n",
              " 'combin': 1,\n",
              " 'come': 1,\n",
              " 'comput': 1,\n",
              " 'corner': 1,\n",
              " 'correct': 1,\n",
              " 'corridor': 2,\n",
              " 'could': 1,\n",
              " 'count': 1,\n",
              " 'creatur': 3,\n",
              " 'crescendo': 1,\n",
              " 'cutout': 3,\n",
              " 'dank': 1,\n",
              " 'dark': 3,\n",
              " 'darker': 1,\n",
              " 'daunt': 1,\n",
              " 'dead': 1,\n",
              " 'death': 1,\n",
              " 'deeper': 1,\n",
              " 'delv': 1,\n",
              " 'depart': 1,\n",
              " 'deplet': 1,\n",
              " 'differ': 1,\n",
              " 'difficult': 1,\n",
              " 'divers': 2,\n",
              " 'door': 5,\n",
              " 'dread': 3,\n",
              " 'drive': 1,\n",
              " 'dungeon': 2,\n",
              " 'duti': 1,\n",
              " 'easi': 2,\n",
              " 'easier': 1,\n",
              " 'edg': 1,\n",
              " 'elev': 1,\n",
              " 'empti': 1,\n",
              " 'encount': 1,\n",
              " 'end': 2,\n",
              " 'endless': 3,\n",
              " 'endur': 1,\n",
              " 'enter': 1,\n",
              " 'esqu': 1,\n",
              " 'even': 4,\n",
              " 'everi': 4,\n",
              " 'excel': 1,\n",
              " 'excit': 1,\n",
              " 'expect': 1,\n",
              " 'fact': 1,\n",
              " 'fall': 1,\n",
              " 'far': 1,\n",
              " 'fear': 1,\n",
              " 'feat': 1,\n",
              " 'feel': 2,\n",
              " 'fifteen': 1,\n",
              " 'fifti': 3,\n",
              " 'find': 2,\n",
              " 'first': 2,\n",
              " 'flashlight': 1,\n",
              " 'float': 1,\n",
              " 'follow': 2,\n",
              " 'foot': 1,\n",
              " 'forev': 1,\n",
              " 'form': 1,\n",
              " 'foul': 1,\n",
              " 'free': 2,\n",
              " 'frighten': 1,\n",
              " 'game': 15,\n",
              " 'gap': 3,\n",
              " 'get': 8,\n",
              " 'ghost': 2,\n",
              " 'give': 4,\n",
              " 'glow': 1,\n",
              " 'go': 1,\n",
              " 'goal': 1,\n",
              " 'good': 6,\n",
              " 'green': 1,\n",
              " 'grind': 1,\n",
              " 'hallway': 1,\n",
              " 'hand': 1,\n",
              " 'hang': 2,\n",
              " 'happen': 1,\n",
              " 'happi': 1,\n",
              " 'harmless': 1,\n",
              " 'hav1': 1,\n",
              " 'health': 1,\n",
              " 'heart': 1,\n",
              " 'hole': 1,\n",
              " 'hope': 1,\n",
              " 'hour': 1,\n",
              " 'hous': 2,\n",
              " 'hundr': 2,\n",
              " 'hung': 1,\n",
              " 'interest': 3,\n",
              " 'intreeg': 1,\n",
              " 'invest': 1,\n",
              " 'issu': 1,\n",
              " 'jack': 1,\n",
              " 'jump': 2,\n",
              " 'keep': 3,\n",
              " 'key': 3,\n",
              " 'kilter': 1,\n",
              " 'know': 1,\n",
              " 'later': 1,\n",
              " 'least': 1,\n",
              " 'leav': 1,\n",
              " 'lie': 1,\n",
              " 'light': 1,\n",
              " 'like': 1,\n",
              " 'limit': 2,\n",
              " 'litter': 1,\n",
              " 'live': 1,\n",
              " 'lock': 1,\n",
              " 'long': 1,\n",
              " 'longer': 1,\n",
              " 'look': 2,\n",
              " 'low': 1,\n",
              " 'make': 4,\n",
              " 'mall': 1,\n",
              " 'mark': 1,\n",
              " 'mean': 2,\n",
              " 'memor': 1,\n",
              " 'mere': 1,\n",
              " 'metal': 1,\n",
              " 'might': 1,\n",
              " 'mini': 1,\n",
              " 'minut': 1,\n",
              " 'miss': 1,\n",
              " 'moment': 3,\n",
              " 'monster': 1,\n",
              " 'much': 1,\n",
              " 'mundan': 1,\n",
              " 'music': 1,\n",
              " 'need': 4,\n",
              " 'needless': 1,\n",
              " 'never': 1,\n",
              " 'new': 1,\n",
              " 'nine': 1,\n",
              " 'nineti': 1,\n",
              " 'note': 2,\n",
              " 'noth': 1,\n",
              " 'offer': 1,\n",
              " 'often': 1,\n",
              " 'one': 5,\n",
              " 'open': 1,\n",
              " 'orient': 1,\n",
              " 'other': 1,\n",
              " 'paint': 1,\n",
              " 'parodi': 1,\n",
              " 'percent': 1,\n",
              " 'perhap': 1,\n",
              " 'perman': 1,\n",
              " 'person': 1,\n",
              " 'perspect': 1,\n",
              " 'plenti': 1,\n",
              " 'point': 5,\n",
              " 'pop': 2,\n",
              " 'pretti': 1,\n",
              " 'prize': 1,\n",
              " 'pumpkin': 1,\n",
              " 'purpl': 1,\n",
              " 'push': 1,\n",
              " 'quick': 1,\n",
              " 'rare': 2,\n",
              " 'recycl': 1,\n",
              " 'remind': 1,\n",
              " 'repetit': 3,\n",
              " 'replenish': 2,\n",
              " 'restor': 1,\n",
              " 'reus': 1,\n",
              " 'reveal': 1,\n",
              " 'room': 29,\n",
              " 'run': 3,\n",
              " 'runner': 1,\n",
              " 'save': 3,\n",
              " 'scare': 3,\n",
              " 'scari': 1,\n",
              " 'screech': 1,\n",
              " 'scum': 1,\n",
              " 'search': 2,\n",
              " 'second': 2,\n",
              " 'see': 2,\n",
              " 'sell': 1,\n",
              " 'seven': 1,\n",
              " 'sewer': 1,\n",
              " 'show': 1,\n",
              " 'signal': 1,\n",
              " 'silli': 1,\n",
              " 'sinc': 2,\n",
              " 'situat': 1,\n",
              " 'skeleton': 1,\n",
              " 'slime': 1,\n",
              " 'slow': 1,\n",
              " 'snake': 1,\n",
              " 'someth': 2,\n",
              " 'sometim': 2,\n",
              " 'somewher': 1,\n",
              " 'sound': 4,\n",
              " 'specif': 2,\n",
              " 'spine': 1,\n",
              " 'spooki': 2,\n",
              " 'sprint': 1,\n",
              " 'stab': 1,\n",
              " 'stamina': 2,\n",
              " 'start': 1,\n",
              " 'step': 1,\n",
              " 'still': 3,\n",
              " 'stuck': 2,\n",
              " 'suppos': 1,\n",
              " 'surfac': 1,\n",
              " 'surviv': 1,\n",
              " 'take': 1,\n",
              " 'task': 1,\n",
              " 'tear': 2,\n",
              " 'tedium': 2,\n",
              " 'tens': 1,\n",
              " 'thank': 1,\n",
              " 'theme': 1,\n",
              " 'thing': 3,\n",
              " 'thousand': 2,\n",
              " 'threat': 1,\n",
              " 'three': 1,\n",
              " 'time': 7,\n",
              " 'told': 1,\n",
              " 'torch': 2,\n",
              " 'touch': 1,\n",
              " 'tri': 1,\n",
              " 'trick': 1,\n",
              " 'truth': 1,\n",
              " 'turn': 3,\n",
              " 'two': 2,\n",
              " 'uncov': 1,\n",
              " 'unfit': 1,\n",
              " 'unwind': 1,\n",
              " 'up': 1,\n",
              " 'use': 1,\n",
              " 'vacant': 1,\n",
              " 'video': 1,\n",
              " 'visibl': 1,\n",
              " 'wait': 1,\n",
              " 'walk': 1,\n",
              " 'walkway': 1,\n",
              " 'wall': 5,\n",
              " 'way': 3,\n",
              " 'well': 1,\n",
              " 'within': 1,\n",
              " 'without': 1,\n",
              " 'wolfenstien': 1,\n",
              " 'written': 1}"
            ]
          },
          "metadata": {
            "tags": []
          },
          "execution_count": 129
        }
      ]
    },
    {
      "cell_type": "code",
      "metadata": {
        "id": "WeVb5kRt2G5y",
        "colab_type": "code",
        "outputId": "2e35e40a-ad30-41c3-9b36-a3efa0465398",
        "colab": {
          "base_uri": "https://localhost:8080/",
          "height": 54
        }
      },
      "source": [
        "print(df_train.iloc[8].user_review)"
      ],
      "execution_count": 0,
      "outputs": [
        {
          "output_type": "stream",
          "text": [
            "Somewhere between light hearted, happy parody and being afraid of the dark lies Spooky's House of Jump Scares. You are tasked with the daunting duty of surviving one thousand rooms in this endless first person perspective runner. Each room is no more than a few seconds thanks to a sprint key and the fact that each door counts as a new room. Even then one thousand rooms is still a feat against tedium and needless repetition. There are still things every fifteen or so rooms to keep your interest and at the end of fifty rooms you'll find a save point, but nothing can save you from permanent death at the hands of the foul creatures that live within.On the surface the game has a clean, chipper almost cartoon low budget charm to it. Jump scares are rare and at first it comes in the form of adorable cardboard cutouts of pumpkins, ghosts and skeletons that pop out of the wall accompanied by a sound. Some of the sounds are silly and unfitting other times its screeches to drive chills down your spine. The game excels in the sound department and makes good use of music, ambient sounds and foot steps following you.As you delve deeper through the doors of this dank dungeon, you'll uncover more frightening things and points of intreege. There are plenty of written notes here and there. A few times you'll need to search for a key in a different room, but the other ninety-nine percent of the game is leaving rooms behind forever.The themes of the rooms begin to change from the mundane almost Wolfenstien 3D-esque corridors to metal asylum rooms that give you a flashlight to find your way through. There are purple dungeons, green sewers with glowing scum. Some rooms are coated with slime to slow you own while others have holes in the ceiling as if to give you a feeling of dread that something could pop out.There are a limited amount of rooms and I started to memorize them all. Even the game's crescendo encounters in a vacant room with walkways. There's no way to fall into the dark chasms, it acts as if they were walls, but with this open room you get to see a specific creature that might be following you. Sometimes they can float over the gaps, other times they're stuck trying to walk at you from across the gap so you can get a good look at them when they're harmless.If they touch you three or so times you're dead. You have health that does replenish over time and these big moments are rare and easy to avoid. Just keep running and hope there are no locked doors! They only happen in specific rooms and sometimes the rooms are empty, but it still gives that dreadful feeling.You can tear through these rooms pretty quick about 350 of them in a 45 minute. Your stamina will deplete to give a monster the chance to catch you, but going through a door restores your will to run. Other than that waiting a few seconds will replenish your stamina. Longer rooms hav1e limited visibility. The further out an area is the darker it gets.A few rooms have good diversions or tricks to them. Such as one that turns bright and you need to enter the correct combination of corridors signaled by chimes until you can see the door. Another room is endless darkness with a torch at the end, until its revealed that the torch is merely painted on a black wall. A few times you'll need to search an adjacent room for a key to the one you're in.Every fifty rooms, you take a moment to unwind in an elevator that reminds you to hang in there or have a coffee break. The game makes a good balance of calm moments for each of the few tense situations. Its what keeps you off kilter and never expecting anything. Every two hundred and fifty rooms offers a prize to you. What's in the box? Is it snakes? Is it a jack-in-the-box or is it a note?Truth be told I'm very goal oriented with video games and so Spooky missed its mark for me. The cardboard cutouts get in the way. Being chased by something means that it was no threat since it was already behind me. Perhaps in later rooms it gets more difficult, but this is just easy tedium.  Another room, another room, another room. Then knowing I have seven hundred more rooms and another two hour investment of endless running turns the game into a grind. There's no fear and its too long to endure even with save points. The game reuses its points of interest a few times since it recycles rooms.Another issue I have with the game is getting stuck on edges where I need to push away from a wall to get free and turn a corner. Its more than walls, its on the gaps too. I suppose this is acceptable for a scary game where you get chased, but I'm hung up on these hang ups.One interesting thing the game does have is a stabbing mini game where it looks like you're a ghost in a mall. Its a good diversion from the repetition. There's even a computer that shows you all the creatures in the house. Well most of them at least.The best selling point this game has is that its free. By no means does that make this a good game, but it makes it easier to accept. Its a game that brings you up with charm to tear you down with scares beyond the cheap cardboard cutouts that can litter a hallway every so often. Its just far too repetitive without that much dread or excitement.\n"
          ],
          "name": "stdout"
        }
      ]
    },
    {
      "cell_type": "markdown",
      "metadata": {
        "id": "b9iYjzKP3nov",
        "colab_type": "text"
      },
      "source": [
        ""
      ]
    },
    {
      "cell_type": "markdown",
      "metadata": {
        "id": "uPaEMahBWpNh",
        "colab_type": "text"
      },
      "source": [
        "other way approach"
      ]
    },
    {
      "cell_type": "code",
      "metadata": {
        "id": "Q62rWKi840pA",
        "colab_type": "code",
        "colab": {}
      },
      "source": [
        "from textblob import TextBlob"
      ],
      "execution_count": 0,
      "outputs": []
    },
    {
      "cell_type": "code",
      "metadata": {
        "id": "I3CT5xcWWzyB",
        "colab_type": "code",
        "colab": {}
      },
      "source": [
        "df_pos=df_train[df_train['user_suggestion']==1]['user_review']\n",
        "df_neg=df_train[df_train['user_suggestion']==0]['user_review']"
      ],
      "execution_count": 0,
      "outputs": []
    },
    {
      "cell_type": "code",
      "metadata": {
        "id": "YvzC3772W50K",
        "colab_type": "code",
        "outputId": "15a36e35-0fb6-4317-bc2f-7112ddf78c02",
        "colab": {
          "base_uri": "https://localhost:8080/",
          "height": 34
        }
      },
      "source": [
        "TextBlob(\"  So I'll pause for a moment and write a review while I wait for my heart beat to return to atleast somewhat calmer times.\").sentiment\n"
      ],
      "execution_count": 0,
      "outputs": [
        {
          "output_type": "execute_result",
          "data": {
            "text/plain": [
              "Sentiment(polarity=0.0, subjectivity=0.0)"
            ]
          },
          "metadata": {
            "tags": []
          },
          "execution_count": 42
        }
      ]
    },
    {
      "cell_type": "code",
      "metadata": {
        "id": "Z3w0gfL9XiAs",
        "colab_type": "code",
        "outputId": "bac5527a-b8fd-448d-d518-27fbd8f77ef1",
        "colab": {
          "base_uri": "https://localhost:8080/",
          "height": 54
        }
      },
      "source": [
        "df_pos[0]"
      ],
      "execution_count": 0,
      "outputs": [
        {
          "output_type": "execute_result",
          "data": {
            "text/plain": [
              "\"I'm scared and hearing creepy voices.  So I'll pause for a moment and write a review while I wait for my heart beat to return to atleast somewhat calmer times.  This game is adorable and creepy like my happy tree friends but with the graphics sceme of my childhood (but more bubble and 'clean').  Hello 1990's.What charactes there are (that isnot trying to kill me) were likable and a bit odd.  I did do a few noob things though, such as:Oh look a class room full of ghosts from dead children, lets shine my flashlight on them and stand there staring at them..Or, hmm creepy music, I'll turn around and see if I can see what's chasing me.Never before in a game have I been this afraid of finding a locked door.\""
            ]
          },
          "metadata": {
            "tags": []
          },
          "execution_count": 27
        }
      ]
    },
    {
      "cell_type": "code",
      "metadata": {
        "id": "c3OA1RqkYYE8",
        "colab_type": "code",
        "colab": {}
      },
      "source": [
        "def sent_tok(df):\n",
        "  return(sent_tokenize(df))"
      ],
      "execution_count": 0,
      "outputs": []
    },
    {
      "cell_type": "code",
      "metadata": {
        "id": "fakTa04waQF-",
        "colab_type": "code",
        "colab": {}
      },
      "source": [
        "y=df_pos.apply(sent_tok)"
      ],
      "execution_count": 0,
      "outputs": []
    },
    {
      "cell_type": "code",
      "metadata": {
        "id": "CZJVo0okaVX-",
        "colab_type": "code",
        "outputId": "95089575-be38-4f8c-aabb-d64cc798ab2e",
        "colab": {
          "base_uri": "https://localhost:8080/",
          "height": 51
        }
      },
      "source": [
        "nltk.download('punkt')\n",
        "from tqdm import tqdm_notebook as tqdm"
      ],
      "execution_count": 0,
      "outputs": [
        {
          "output_type": "stream",
          "text": [
            "[nltk_data] Downloading package punkt to /root/nltk_data...\n",
            "[nltk_data]   Package punkt is already up-to-date!\n"
          ],
          "name": "stdout"
        }
      ]
    },
    {
      "cell_type": "code",
      "metadata": {
        "id": "OQqxq0_eaYSW",
        "colab_type": "code",
        "outputId": "fd4e618b-a553-4e07-8b47-7e608beba5a7",
        "colab": {
          "base_uri": "https://localhost:8080/",
          "height": 54
        }
      },
      "source": [
        "'''def sent_ana(df):\n",
        "  length=len(df)\n",
        "  sent_pol=0\n",
        "  sent_sub=0\n",
        "  for x in tqdm(df):\n",
        "    sent_pol+=TextBlob(x).sentiment.polarity\n",
        "    sent_sub+=TextBlob(x).sentiment.subjectivity\n",
        "  sent_pol=sent_pol/length\n",
        "  sent_sub=sent_sub/length\n",
        "  return(sent_pol,sent_sub)'''\n"
      ],
      "execution_count": 0,
      "outputs": [
        {
          "output_type": "execute_result",
          "data": {
            "text/plain": [
              "'def sent_ana(df):\\n  length=len(df)\\n  sent_pol=0\\n  sent_sub=0\\n  for x in tqdm(df):\\n    sent_pol+=TextBlob(x).sentiment.polarity\\n    sent_sub+=TextBlob(x).sentiment.subjectivity\\n  sent_pol=sent_pol/length\\n  sent_sub=sent_sub/length\\n  return(sent_pol,sent_sub)'"
            ]
          },
          "metadata": {
            "tags": []
          },
          "execution_count": 30
        }
      ]
    },
    {
      "cell_type": "code",
      "metadata": {
        "id": "IMHdAKYucLKE",
        "colab_type": "code",
        "outputId": "351f7430-af81-4c35-a274-f19d87e5e824",
        "colab": {
          "base_uri": "https://localhost:8080/",
          "height": 221
        }
      },
      "source": [
        "df_pos"
      ],
      "execution_count": 0,
      "outputs": [
        {
          "output_type": "execute_result",
          "data": {
            "text/plain": [
              "0        I'm scared and hearing creepy voices.  So I'll...\n",
              "1        Best game, more better than Sam Pepper's YouTu...\n",
              "2        A littly iffy on the controls, but once you kn...\n",
              "3        Great game, fun and colorful and all that.A si...\n",
              "4        Not many games have the cute tag right next to...\n",
              "                               ...                        \n",
              "17489    Arguably the single greatest mmorp that exists...\n",
              "17490    An older game, to be sure, but has its own cha...\n",
              "17491    When I frist started playing Everquest 2 it wa...\n",
              "17492    cool game. THe only thing that REALLY PISSES M...\n",
              "17493    this game since I was a little kid, always hav...\n",
              "Name: user_review, Length: 9968, dtype: object"
            ]
          },
          "metadata": {
            "tags": []
          },
          "execution_count": 46
        }
      ]
    },
    {
      "cell_type": "code",
      "metadata": {
        "id": "RJS6zAqlJlXg",
        "colab_type": "code",
        "colab": {}
      },
      "source": [
        "def sent_ana(df):\n",
        "  sentiment=TextBlob(df).sentiment.polarity\n",
        "  return(sentiment)\n"
      ],
      "execution_count": 0,
      "outputs": []
    },
    {
      "cell_type": "code",
      "metadata": {
        "id": "xmgSA4DjcBUP",
        "colab_type": "code",
        "colab": {}
      },
      "source": [
        ""
      ],
      "execution_count": 0,
      "outputs": []
    },
    {
      "cell_type": "code",
      "metadata": {
        "id": "1MpuRNvaaSSa",
        "colab_type": "code",
        "colab": {}
      },
      "source": [
        "## from the above method we found the wrong analysis"
      ],
      "execution_count": 0,
      "outputs": []
    },
    {
      "cell_type": "code",
      "metadata": {
        "id": "WhvjmpZkaKdf",
        "colab_type": "code",
        "colab": {}
      },
      "source": [
        "y=df_pos.apply(preprocess)"
      ],
      "execution_count": 0,
      "outputs": []
    },
    {
      "cell_type": "code",
      "metadata": {
        "id": "kYtuZtdqaevS",
        "colab_type": "code",
        "outputId": "a3e390a9-962a-4fb7-a1bc-fbfbea37d082",
        "colab": {
          "base_uri": "https://localhost:8080/",
          "height": 221
        }
      },
      "source": [
        "z=y.apply(stemming)\n",
        "z"
      ],
      "execution_count": 0,
      "outputs": [
        {
          "output_type": "execute_result",
          "data": {
            "text/plain": [
              "0        [scare, hear, creepi, voic, paus, moment, writ...\n",
              "1        [best, game, better, sam, pepper, youtub, acco...\n",
              "2        [littli, iffi, control, know, play, easi, mast...\n",
              "3        [great, game, fun, color, side, note, though, ...\n",
              "4        [mani, game, cute, tag, right, next, horror, t...\n",
              "                               ...                        \n",
              "17489    [arguabl, singl, greatest, mmorp, exist, today...\n",
              "17490    [older, game, sure, charm, hold, special, plac...\n",
              "17491    [frist, start, play, everquest, 2, amaz, still...\n",
              "17492    [cool, game, thing, realli, piss, ridabl, tran...\n",
              "17493    [game, sinc, littl, kid, alway, sinc, still, r...\n",
              "Name: user_review, Length: 9968, dtype: object"
            ]
          },
          "metadata": {
            "tags": []
          },
          "execution_count": 62
        }
      ]
    },
    {
      "cell_type": "code",
      "metadata": {
        "id": "1uRmwutTeHwJ",
        "colab_type": "code",
        "outputId": "31f13510-a3fb-4a4f-cc54-f204af570578",
        "colab": {
          "base_uri": "https://localhost:8080/",
          "height": 187
        }
      },
      "source": [
        ""
      ],
      "execution_count": 0,
      "outputs": [
        {
          "output_type": "execute_result",
          "data": {
            "text/plain": [
              "array(['scare', 'hear', 'creepi', 'voic', 'paus', 'moment', 'write',\n",
              "       'review', 'wait', 'heart', 'beat', 'return', 'atleast', 'somewhat',\n",
              "       'calmer', 'time', 'game', 'ador', 'creepi', 'like', 'happi',\n",
              "       'tree', 'friend', 'graphic', 'sceme', 'childhood', 'bubbl',\n",
              "       'clean', 'hello', '1990', 'charact', 'isnot', 'tri', 'kill',\n",
              "       'likabl', 'bit', 'odd', 'noob', 'thing', 'though', 'oh', 'look',\n",
              "       'class', 'room', 'full', 'ghost', 'dead', 'children', 'let',\n",
              "       'shine', 'flashlight', 'stand', 'stare', 'hmm', 'creepi', 'music',\n",
              "       'turn', 'around', 'see', 'see', 'chase', 'never', 'game', 'afraid',\n",
              "       'find', 'lock', 'door'], dtype='<U10')"
            ]
          },
          "metadata": {
            "tags": []
          },
          "execution_count": 63
        }
      ]
    },
    {
      "cell_type": "markdown",
      "metadata": {
        "id": "uAyXWp7cc6LY",
        "colab_type": "text"
      },
      "source": [
        "N-Gram"
      ]
    },
    {
      "cell_type": "code",
      "metadata": {
        "id": "593P1JLDa_4o",
        "colab_type": "code",
        "outputId": "efd1ac47-6e32-4c1d-f1d5-5ec9f65ed15d",
        "colab": {
          "base_uri": "https://localhost:8080/",
          "height": 884
        }
      },
      "source": [
        "from sklearn.feature_extraction.text import CountVectorizer\n",
        "\n",
        "stemmer = PorterStemmer()\n",
        "analyzer = CountVectorizer().build_analyzer()\n",
        "\n",
        "def stemmed_words(doc):\n",
        "    return (stemmer.stem(w) for w in analyzer(doc))\n",
        "\n",
        "stem_vectorizer = CountVectorizer(stop_words='english',analyzer=stemmed_words)\n",
        "print(stem_vectorizer.fit_transform(df_pos))\n",
        "print(stem_vectorizer.get_feature_names())"
      ],
      "execution_count": 0,
      "outputs": [
        {
          "output_type": "stream",
          "text": [
            "  (0, 21252)\t1\n",
            "  (0, 2382)\t7\n",
            "  (0, 11738)\t1\n",
            "  (0, 6256)\t3\n",
            "  (0, 26140)\t1\n",
            "  (0, 22370)\t1\n",
            "  (0, 14375)\t2\n",
            "  (0, 17668)\t1\n",
            "  (0, 9754)\t2\n",
            "  (0, 15785)\t1\n",
            "  (0, 26981)\t1\n",
            "  (0, 20150)\t1\n",
            "  (0, 26596)\t1\n",
            "  (0, 26260)\t1\n",
            "  (0, 16134)\t4\n",
            "  (0, 11742)\t1\n",
            "  (0, 3558)\t1\n",
            "  (0, 24592)\t3\n",
            "  (0, 20128)\t1\n",
            "  (0, 2967)\t1\n",
            "  (0, 22472)\t1\n",
            "  (0, 4619)\t1\n",
            "  (0, 24500)\t1\n",
            "  (0, 24295)\t2\n",
            "  (0, 10324)\t2\n",
            "  :\t:\n",
            "  (9967, 9559)\t1\n",
            "  (9967, 3240)\t1\n",
            "  (9967, 22014)\t2\n",
            "  (9967, 23119)\t1\n",
            "  (9967, 14357)\t1\n",
            "  (9967, 24664)\t1\n",
            "  (9967, 24374)\t1\n",
            "  (9967, 26713)\t1\n",
            "  (9967, 2257)\t1\n",
            "  (9967, 16189)\t1\n",
            "  (9967, 21447)\t1\n",
            "  (9967, 16645)\t1\n",
            "  (9967, 8765)\t1\n",
            "  (9967, 13684)\t1\n",
            "  (9967, 23565)\t1\n",
            "  (9967, 14244)\t1\n",
            "  (9967, 2526)\t1\n",
            "  (9967, 5994)\t1\n",
            "  (9967, 27151)\t2\n",
            "  (9967, 6660)\t1\n",
            "  (9967, 14444)\t1\n",
            "  (9967, 19914)\t1\n",
            "  (9967, 14385)\t1\n",
            "  (9967, 8123)\t1\n",
            "  (9967, 27400)\t1\n"
          ],
          "name": "stdout"
        }
      ]
    },
    {
      "cell_type": "code",
      "metadata": {
        "id": "2R5qUbn0gzoZ",
        "colab_type": "code",
        "outputId": "5f5be7cf-33e1-46db-ae72-2a01d9cf994f",
        "colab": {
          "base_uri": "https://localhost:8080/",
          "height": 54
        }
      },
      "source": [
        "''' after stemming i got to know it has characters from other languages\n",
        "    task:-remove the numbers and noises present(like:-aaaaa,aaaaaas,ssss)\n",
        "          check no of doc of other languages(checked)\n",
        "          properly stemming\n",
        "          form the feature vectors depending upon the maxm use of words(frquency/count based)'''\n",
        "      "
      ],
      "execution_count": 0,
      "outputs": [
        {
          "output_type": "execute_result",
          "data": {
            "text/plain": [
              "' after stemming i got to know it has characters from other languages\\n    task:-remove the numbers and noises present(like:-aaaaa,aaaaaas,ssss)\\n          check no of doc of other languages\\n          properly stemming\\n          form the feature vectors depending upon the maxm use of words(frquency/count based)'"
            ]
          },
          "metadata": {
            "tags": []
          },
          "execution_count": 70
        }
      ]
    },
    {
      "cell_type": "code",
      "metadata": {
        "id": "9uNvKoJMiOLK",
        "colab_type": "code",
        "colab": {}
      },
      "source": [
        ""
      ],
      "execution_count": 0,
      "outputs": []
    }
  ]
}